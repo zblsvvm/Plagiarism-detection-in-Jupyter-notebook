{
 "cells": [
  {
   "cell_type": "markdown",
   "metadata": {
    "deletable": false,
    "editable": false,
    "nbgrader": {
     "cell_type": "markdown",
     "checksum": "2e4b37a589458b94115091827534d55a",
     "grade": false,
     "grade_id": "cell-b3b5eb69beb754dc",
     "locked": true,
     "schema_version": 3,
     "solution": false,
     "task": false
    }
   },
   "source": [
    "# Multi-dimensional Monte Carlo integration\n",
    "\n",
    "In this notebook you will implement a Monte Carlo integration function to estimate the size of the unit ball in different dimensions."
   ]
  },
  {
   "cell_type": "code",
   "execution_count": null,
   "metadata": {},
   "outputs": [],
   "source": [
    "import numpy\n",
    "import matplotlib.pyplot as plt"
   ]
  },
  {
   "cell_type": "markdown",
   "metadata": {
    "deletable": false,
    "editable": false,
    "nbgrader": {
     "cell_type": "markdown",
     "checksum": "43916c93e1c56b114cf2c317036c3674",
     "grade": false,
     "grade_id": "cell-dbcf6e9d3008fb76",
     "locked": true,
     "schema_version": 3,
     "solution": false,
     "task": false
    }
   },
   "source": [
    "Implement the function `integrate` that gives the Monte Carlo estimate for the volume of a unit ball in `dim` dimensions. To do so we choose random numbers in the `dim`-dimensional cube of sides $[-1,+1]$ that contains the unit ball. Use the random numbers provided, they form a `npoints` dimensional array of `dim` coordinates in the cube."
   ]
  },
  {
   "cell_type": "code",
   "execution_count": null,
   "metadata": {
    "deletable": false,
    "nbgrader": {
     "cell_type": "code",
     "checksum": "dc0a9f6c88a240cbb74f49db9d6ff8b5",
     "grade": false,
     "grade_id": "integrate",
     "locked": false,
     "schema_version": 3,
     "solution": true,
     "task": false
    }
   },
   "outputs": [],
   "source": [
    "def integrate(npoints, dim):\n",
    "    # the random numbers\n",
    "    rs = numpy.random.uniform(-1, 1, size=(npoints,dim)) \n",
    "    # YOUR CODE HERE"
   ]
  },
  {
   "cell_type": "markdown",
   "metadata": {},
   "source": [
    "Check your answer:"
   ]
  },
  {
   "cell_type": "code",
   "execution_count": null,
   "metadata": {
    "deletable": false,
    "editable": false,
    "nbgrader": {
     "cell_type": "code",
     "checksum": "5b9b63b097df61cd05dd09e43efb24f7",
     "grade": true,
     "grade_id": "d2test",
     "locked": true,
     "points": 1,
     "schema_version": 3,
     "solution": false,
     "task": false
    }
   },
   "outputs": [],
   "source": [
    "# this test is worth 1 mark\n",
    "numpy.random.seed(1234)\n",
    "assert numpy.isclose(integrate(1000000, 2), 3.140204)"
   ]
  },
  {
   "cell_type": "code",
   "execution_count": null,
   "metadata": {
    "deletable": false,
    "editable": false,
    "nbgrader": {
     "cell_type": "code",
     "checksum": "ef97d130297ac81ec023e04c2a1d2613",
     "grade": true,
     "grade_id": "d3test",
     "locked": true,
     "points": 1,
     "schema_version": 3,
     "solution": false,
     "task": false
    }
   },
   "outputs": [],
   "source": [
    "# this test is worth 1 mark\n",
    "numpy.random.seed(1234)\n",
    "assert numpy.isclose(integrate(100000, 3), 4.20312)"
   ]
  },
  {
   "cell_type": "code",
   "execution_count": null,
   "metadata": {
    "deletable": false,
    "editable": false,
    "nbgrader": {
     "cell_type": "code",
     "checksum": "e8217cc57df5508cb2d11eb0a64baff5",
     "grade": true,
     "grade_id": "d4test",
     "locked": true,
     "points": 1,
     "schema_version": 3,
     "solution": false,
     "task": false
    }
   },
   "outputs": [],
   "source": [
    "# this test is worth 1 mark\n",
    "numpy.random.seed(1234)\n",
    "assert numpy.isclose(integrate(100000, 4), 4.97312)"
   ]
  },
  {
   "cell_type": "code",
   "execution_count": null,
   "metadata": {
    "deletable": false,
    "editable": false,
    "nbgrader": {
     "cell_type": "code",
     "checksum": "5b6545c91aa12227c1b06c66cdcc37e9",
     "grade": true,
     "grade_id": "d5test",
     "locked": true,
     "points": 1,
     "schema_version": 3,
     "solution": false,
     "task": false
    }
   },
   "outputs": [],
   "source": [
    "# this test is worth 1 mark\n",
    "numpy.random.seed(1234)\n",
    "assert numpy.isclose(integrate(100000, 5), 5.31616)"
   ]
  },
  {
   "cell_type": "code",
   "execution_count": null,
   "metadata": {
    "deletable": false,
    "editable": false,
    "nbgrader": {
     "cell_type": "code",
     "checksum": "3aed80c1b40b42ad68cfa98faccebe0e",
     "grade": true,
     "grade_id": "d6test",
     "locked": true,
     "points": 1,
     "schema_version": 3,
     "solution": false,
     "task": false
    }
   },
   "outputs": [],
   "source": [
    "# this test is worth 1 mark\n",
    "numpy.random.seed(1234)\n",
    "assert numpy.isclose(integrate(100000, 6), 5.20448)"
   ]
  },
  {
   "cell_type": "markdown",
   "metadata": {
    "deletable": false,
    "editable": false,
    "nbgrader": {
     "cell_type": "markdown",
     "checksum": "b1db6ca783bfd3769a99c2adf48c7abc",
     "grade": false,
     "grade_id": "plotting_task",
     "locked": true,
     "points": 5,
     "schema_version": 3,
     "solution": false,
     "task": true
    }
   },
   "source": [
    "Use your function to show that the integration error scaling is independent of the dimension and that the error scales as $1/\\sqrt{N}$. Use the provided number of points and dimensions. Your plot should have labels, a title and a legend.\n",
    "\n",
    "| dimension | volume of the unit ball |\n",
    "| --------- | ----------------------- |\n",
    "| 2         |  $\\pi$                  |\n",
    "|    3      | $4/3\\pi$                |\n",
    "|    4      | $1/2\\pi^2$              |\n",
    "|    5      | $8/15\\pi^2$             |\n",
    "|    6      | $1/6\\pi^3$              |\n",
    "\n",
    "\n",
    "Your plot should be generated in in less than 30 seconds, otherwise the plots will not be generated for the markers. [5 marks]\n"
   ]
  },
  {
   "cell_type": "code",
   "execution_count": null,
   "metadata": {},
   "outputs": [],
   "source": [
    "ns = [2**ii for ii in range(4,20)]\n",
    "dimensions = range(2,7)\n"
   ]
  }
 ],
 "metadata": {
  "kernelspec": {
   "display_name": "Python 3",
   "language": "python",
   "name": "python3"
  },
  "language_info": {
   "codemirror_mode": {
    "name": "ipython",
    "version": 3
   },
   "file_extension": ".py",
   "mimetype": "text/x-python",
   "name": "python",
   "nbconvert_exporter": "python",
   "pygments_lexer": "ipython3",
   "version": "3.6.3"
  }
 },
 "nbformat": 4,
 "nbformat_minor": 2
}
