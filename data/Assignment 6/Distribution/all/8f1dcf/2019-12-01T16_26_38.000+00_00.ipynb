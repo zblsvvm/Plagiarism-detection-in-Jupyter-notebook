{
 "cells": [
  {
   "cell_type": "markdown",
   "metadata": {
    "deletable": false,
    "editable": false,
    "nbgrader": {
     "cell_type": "markdown",
     "checksum": "94574b10df955ed43fa9d3c6c7157dc9",
     "grade": false,
     "grade_id": "cell-816f7ab6acd266d6",
     "locked": true,
     "schema_version": 3,
     "solution": false,
     "task": false
    }
   },
   "source": [
    "# Assignment 6\n",
    "\n",
    "## Generating values according to a probability distribution "
   ]
  },
  {
   "cell_type": "markdown",
   "metadata": {
    "deletable": false,
    "editable": false,
    "nbgrader": {
     "cell_type": "markdown",
     "checksum": "0bc3c9cc926e5cb1311ec132124997d2",
     "grade": false,
     "grade_id": "cell-7ad7ead58c9066b1",
     "locked": true,
     "schema_version": 3,
     "solution": false,
     "task": false
    }
   },
   "source": [
    "In this part of the assignment you will create a function to generate values of $x$ between 0 and 10 distributed according to \n",
    "\n",
    "$$ \\frac{1}{\\mathcal{N}} \\left( 1 + \\frac{2}{1+x^2}+ \\sin(\\sqrt{3 x})^2\\right) $$\n",
    "\n",
    "with \n",
    "\n",
    "$$ \\mathcal{N} = \\int\\limits_0^{10} f(x) dx \\;.$$\n",
    "\n",
    "Let's first import the usual suspects:"
   ]
  },
  {
   "cell_type": "code",
   "execution_count": 2,
   "metadata": {},
   "outputs": [],
   "source": [
    "import matplotlib.pyplot as plt\n",
    "import numpy\n",
    "import random"
   ]
  },
  {
   "cell_type": "markdown",
   "metadata": {
    "deletable": false,
    "editable": false,
    "nbgrader": {
     "cell_type": "markdown",
     "checksum": "95f58809eb6ce3cfd69fad8c2b08cfa0",
     "grade": false,
     "grade_id": "cell-d98e0e08ccda4a69",
     "locked": true,
     "schema_version": 3,
     "solution": false,
     "task": false
    }
   },
   "source": [
    "This defines the function:"
   ]
  },
  {
   "cell_type": "code",
   "execution_count": 3,
   "metadata": {},
   "outputs": [],
   "source": [
    "norm = (181 + 24*numpy.arctan(10)-numpy.cos(2*numpy.sqrt(30))-2*numpy.sqrt(30)*numpy.sin(2*numpy.sqrt(30)))/12\n",
    "\n",
    "def f(x):\n",
    "    return  (1 + (2/(1+x**2)+ numpy.sin(numpy.sqrt(3*x))**2))/norm"
   ]
  },
  {
   "cell_type": "markdown",
   "metadata": {
    "deletable": false,
    "editable": false,
    "nbgrader": {
     "cell_type": "markdown",
     "checksum": "7eaaf1873ab124559987e6652eb59fb5",
     "grade": false,
     "grade_id": "cell-5a235343465fdf51",
     "locked": true,
     "schema_version": 3,
     "solution": false,
     "task": false
    }
   },
   "source": [
    "This plots the function:"
   ]
  },
  {
   "cell_type": "code",
   "execution_count": 4,
   "metadata": {},
   "outputs": [
    {
     "data": {
      "image/png": "[encoded data removed]",
      "text/plain": [
       "<Figure size 432x288 with 1 Axes>"
      ]
     },
     "metadata": {},
     "output_type": "display_data"
    }
   ],
   "source": [
    "xs = numpy.linspace(0, 10, 200)\n",
    "fs = f(xs)\n",
    "plt.plot(xs, fs);\n",
    "plt.ylabel('f(x)')\n",
    "plt.xlabel('x')\n",
    "plt.xlim(0,10)\n",
    "plt.ylim(0,0.2);"
   ]
  },
  {
   "cell_type": "markdown",
   "metadata": {
    "deletable": false,
    "editable": false,
    "nbgrader": {
     "cell_type": "markdown",
     "checksum": "73ed5cf94661cbe45f2aca0c0e24dedf",
     "grade": false,
     "grade_id": "coding_task",
     "locked": true,
     "points": 5,
     "schema_version": 3,
     "solution": false,
     "task": true
    }
   },
   "source": [
    "Define a function `genSample` that generates a sample of `npts` values $x$ distributed according to $f(x)$. [5 marks]\n"
   ]
  },
  {
   "cell_type": "code",
   "execution_count": 5,
   "metadata": {
    "deletable": false,
    "nbgrader": {
     "cell_type": "code",
     "checksum": "77864a87e7676d002a5add783c61ec92",
     "grade": false,
     "grade_id": "genSample",
     "locked": false,
     "schema_version": 3,
     "solution": true,
     "task": false
    }
   },
   "outputs": [],
   "source": [
    "def genSample(npts):\n",
    "    box = numpy.linspace(0, 10, 10**6)\n",
    "    sample = []\n",
    "    for i in box:\n",
    "        if len(sample) < npts:\n",
    "            m = 0.2\n",
    "            r = random.random()\n",
    "            x = random.random() * 10\n",
    "            if m * r < f(x):\n",
    "                sample.append(x)\n",
    "        else:\n",
    "            break\n",
    "    return numpy.array(sample)"
   ]
  },
  {
   "cell_type": "code",
   "execution_count": 6,
   "metadata": {
    "deletable": false,
    "editable": false,
    "nbgrader": {
     "cell_type": "code",
     "checksum": "b0c33445038a6a8641707fd272bbeb23",
     "grade": true,
     "grade_id": "genSample_test",
     "locked": true,
     "points": 1,
     "schema_version": 3,
     "solution": false,
     "task": false
    }
   },
   "outputs": [],
   "source": [
    "# this test is worth 1 mark\n",
    "testSample = genSample(103)\n",
    "assert (testSample >= 0).all() \n",
    "assert (testSample <= 10).all()\n",
    "assert len(testSample) == 103"
   ]
  },
  {
   "cell_type": "markdown",
   "metadata": {},
   "source": [
    "## Plotting task"
   ]
  },
  {
   "cell_type": "markdown",
   "metadata": {
    "deletable": false,
    "editable": false,
    "nbgrader": {
     "cell_type": "markdown",
     "checksum": "d3d29e873359b26ffc87cf9311d6330a",
     "grade": false,
     "grade_id": "plotting_task",
     "locked": true,
     "points": 4,
     "schema_version": 3,
     "solution": false,
     "task": true
    }
   },
   "source": [
    "Make a plot to show that the values generated are distributed in the right manner. The plot should have a title and axis labels. [4 marks]\n"
   ]
  },
  {
   "cell_type": "code",
   "execution_count": 12,
   "metadata": {},
   "outputs": [
    {
     "data": {
      "text/plain": [
       "(array([0.163548 , 0.175428 , 0.1847835, 0.1910205, 0.185229 , 0.182358 ,\n",
       "        0.18018  , 0.1740915, 0.1640925, 0.161865 , 0.1533015, 0.144639 ,\n",
       "        0.1401345, 0.1321155, 0.1302345, 0.116523 , 0.1104345, 0.105237 ,\n",
       "        0.1034055, 0.0966735, 0.0984555, 0.0847935, 0.0792   , 0.076329 ,\n",
       "        0.0738045, 0.073854 , 0.0676665, 0.068904 , 0.070092 , 0.065538 ,\n",
       "        0.064152 , 0.060093 , 0.0602415, 0.0619245, 0.0594   , 0.062172 ,\n",
       "        0.0612315, 0.063162 , 0.0652905, 0.06435  , 0.0662805, 0.059697 ,\n",
       "        0.065241 , 0.0705375, 0.072963 , 0.0747945, 0.075042 , 0.078111 ,\n",
       "        0.0794475, 0.0803385, 0.0844965, 0.0845955, 0.086724 , 0.0886545,\n",
       "        0.0872685, 0.0912285, 0.09405  , 0.096228 , 0.0952875, 0.0965745,\n",
       "        0.0952875, 0.101871 , 0.106425 , 0.103455 , 0.106425 , 0.1055835,\n",
       "        0.106326 , 0.108207 , 0.1063755, 0.1099395, 0.1094445, 0.110385 ,\n",
       "        0.105435 , 0.10791  , 0.10296  , 0.1089   , 0.110187 , 0.109593 ,\n",
       "        0.100584 , 0.1075635, 0.102168 , 0.103851 , 0.1006335, 0.10197  ,\n",
       "        0.100287 , 0.0981585, 0.0995445, 0.100782 , 0.097911 , 0.0930105,\n",
       "        0.093456 , 0.090585 , 0.0893475, 0.087912 , 0.0880605, 0.0811305,\n",
       "        0.083358 , 0.080685 , 0.080784 ]),\n",
       " array([ 0.        ,  0.1010101 ,  0.2020202 ,  0.3030303 ,  0.4040404 ,\n",
       "         0.50505051,  0.60606061,  0.70707071,  0.80808081,  0.90909091,\n",
       "         1.01010101,  1.11111111,  1.21212121,  1.31313131,  1.41414141,\n",
       "         1.51515152,  1.61616162,  1.71717172,  1.81818182,  1.91919192,\n",
       "         2.02020202,  2.12121212,  2.22222222,  2.32323232,  2.42424242,\n",
       "         2.52525253,  2.62626263,  2.72727273,  2.82828283,  2.92929293,\n",
       "         3.03030303,  3.13131313,  3.23232323,  3.33333333,  3.43434343,\n",
       "         3.53535354,  3.63636364,  3.73737374,  3.83838384,  3.93939394,\n",
       "         4.04040404,  4.14141414,  4.24242424,  4.34343434,  4.44444444,\n",
       "         4.54545455,  4.64646465,  4.74747475,  4.84848485,  4.94949495,\n",
       "         5.05050505,  5.15151515,  5.25252525,  5.35353535,  5.45454545,\n",
       "         5.55555556,  5.65656566,  5.75757576,  5.85858586,  5.95959596,\n",
       "         6.06060606,  6.16161616,  6.26262626,  6.36363636,  6.46464646,\n",
       "         6.56565657,  6.66666667,  6.76767677,  6.86868687,  6.96969697,\n",
       "         7.07070707,  7.17171717,  7.27272727,  7.37373737,  7.47474747,\n",
       "         7.57575758,  7.67676768,  7.77777778,  7.87878788,  7.97979798,\n",
       "         8.08080808,  8.18181818,  8.28282828,  8.38383838,  8.48484848,\n",
       "         8.58585859,  8.68686869,  8.78787879,  8.88888889,  8.98989899,\n",
       "         9.09090909,  9.19191919,  9.29292929,  9.39393939,  9.49494949,\n",
       "         9.5959596 ,  9.6969697 ,  9.7979798 ,  9.8989899 , 10.        ]),\n",
       " <a list of 99 Patch objects>)"
      ]
     },
     "execution_count": 12,
     "metadata": {},
     "output_type": "execute_result"
    },
    {
     "data": {
      "image/png": "[encoded data removed]",
      "text/plain": [
       "<Figure size 432x288 with 1 Axes>"
      ]
     },
     "metadata": {},
     "output_type": "display_data"
    }
   ],
   "source": [
    "xs = numpy.linspace(0, 10, 100)\n",
    "fs = f(xs)\n",
    "plt.plot(xs, fs);\n",
    "plt.ylabel('Number of hits')\n",
    "plt.xlabel('x')\n",
    "plt.xlim(0,10)\n",
    "plt.title('Monte Carlo Hit and Miss Histogram')\n",
    "\n",
    "\n",
    "plt.hist(genSample(200000), bins = xs, density = True)"
   ]
  },
  {
   "cell_type": "code",
   "execution_count": null,
   "metadata": {},
   "outputs": [],
   "source": []
  }
 ],
 "metadata": {
  "kernelspec": {
   "display_name": "Python 3",
   "language": "python",
   "name": "python3"
  },
  "language_info": {
   "codemirror_mode": {
    "name": "ipython",
    "version": 3
   },
   "file_extension": ".py",
   "mimetype": "text/x-python",
   "name": "python",
   "nbconvert_exporter": "python",
   "pygments_lexer": "ipython3",
   "version": "3.6.3"
  }
 },
 "nbformat": 4,
 "nbformat_minor": 2
}
