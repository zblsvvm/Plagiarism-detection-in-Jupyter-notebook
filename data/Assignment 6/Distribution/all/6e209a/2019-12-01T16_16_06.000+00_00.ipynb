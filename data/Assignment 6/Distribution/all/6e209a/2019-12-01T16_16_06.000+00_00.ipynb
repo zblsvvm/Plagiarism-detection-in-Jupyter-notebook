{
 "cells": [
  {
   "cell_type": "markdown",
   "metadata": {
    "deletable": false,
    "editable": false,
    "nbgrader": {
     "cell_type": "markdown",
     "checksum": "94574b10df955ed43fa9d3c6c7157dc9",
     "grade": false,
     "grade_id": "cell-816f7ab6acd266d6",
     "locked": true,
     "schema_version": 3,
     "solution": false,
     "task": false
    }
   },
   "source": [
    "# Assignment 6\n",
    "\n",
    "## Generating values according to a probability distribution "
   ]
  },
  {
   "cell_type": "markdown",
   "metadata": {
    "deletable": false,
    "editable": false,
    "nbgrader": {
     "cell_type": "markdown",
     "checksum": "0bc3c9cc926e5cb1311ec132124997d2",
     "grade": false,
     "grade_id": "cell-7ad7ead58c9066b1",
     "locked": true,
     "schema_version": 3,
     "solution": false,
     "task": false
    }
   },
   "source": [
    "In this part of the assignment you will create a function to generate values of $x$ between 0 and 10 distributed according to \n",
    "\n",
    "$$ \\frac{1}{\\mathcal{N}} \\left( 1 + \\frac{2}{1+x^2}+ \\sin(\\sqrt{3 x})^2\\right) $$\n",
    "\n",
    "with \n",
    "\n",
    "$$ \\mathcal{N} = \\int\\limits_0^{10} f(x) dx \\;.$$\n",
    "\n",
    "Let's first import the usual suspects:"
   ]
  },
  {
   "cell_type": "code",
   "execution_count": 2,
   "metadata": {},
   "outputs": [],
   "source": [
    "import matplotlib.pyplot as plt\n",
    "import numpy\n",
    "import random"
   ]
  },
  {
   "cell_type": "markdown",
   "metadata": {
    "deletable": false,
    "editable": false,
    "nbgrader": {
     "cell_type": "markdown",
     "checksum": "95f58809eb6ce3cfd69fad8c2b08cfa0",
     "grade": false,
     "grade_id": "cell-d98e0e08ccda4a69",
     "locked": true,
     "schema_version": 3,
     "solution": false,
     "task": false
    }
   },
   "source": [
    "This defines the function:"
   ]
  },
  {
   "cell_type": "code",
   "execution_count": 3,
   "metadata": {},
   "outputs": [],
   "source": [
    "norm = (181 + 24*numpy.arctan(10)-numpy.cos(2*numpy.sqrt(30))-2*numpy.sqrt(30)*numpy.sin(2*numpy.sqrt(30)))/12\n",
    "\n",
    "def f(x):\n",
    "    return  (1 + (2/(1+x**2)+ numpy.sin(numpy.sqrt(3*x))**2))/norm"
   ]
  },
  {
   "cell_type": "markdown",
   "metadata": {
    "deletable": false,
    "editable": false,
    "nbgrader": {
     "cell_type": "markdown",
     "checksum": "7eaaf1873ab124559987e6652eb59fb5",
     "grade": false,
     "grade_id": "cell-5a235343465fdf51",
     "locked": true,
     "schema_version": 3,
     "solution": false,
     "task": false
    }
   },
   "source": [
    "This plots the function:"
   ]
  },
  {
   "cell_type": "code",
   "execution_count": 4,
   "metadata": {},
   "outputs": [
    {
     "data": {
      "image/png": "[encoded data removed]",
      "text/plain": [
       "<Figure size 432x288 with 1 Axes>"
      ]
     },
     "metadata": {},
     "output_type": "display_data"
    }
   ],
   "source": [
    "xs = numpy.linspace(0, 10, 200)\n",
    "fs = f(xs)\n",
    "plt.plot(xs, fs);\n",
    "plt.ylabel('f(x)')\n",
    "plt.xlabel('x')\n",
    "plt.xlim(0,10)\n",
    "plt.ylim(0,0.2);"
   ]
  },
  {
   "cell_type": "markdown",
   "metadata": {
    "deletable": false,
    "editable": false,
    "nbgrader": {
     "cell_type": "markdown",
     "checksum": "73ed5cf94661cbe45f2aca0c0e24dedf",
     "grade": false,
     "grade_id": "coding_task",
     "locked": true,
     "points": 5,
     "schema_version": 3,
     "solution": false,
     "task": true
    }
   },
   "source": [
    "Define a function `genSample` that generates a sample of `npts` values $x$ distributed according to $f(x)$. [5 marks]\n"
   ]
  },
  {
   "cell_type": "code",
   "execution_count": 5,
   "metadata": {
    "deletable": false,
    "nbgrader": {
     "cell_type": "code",
     "checksum": "77864a87e7676d002a5add783c61ec92",
     "grade": false,
     "grade_id": "genSample",
     "locked": false,
     "schema_version": 3,
     "solution": true,
     "task": false
    }
   },
   "outputs": [
    {
     "name": "stdout",
     "output_type": "stream",
     "text": [
      "[5.76581211e+00 1.14183514e+00 4.29770846e+00 4.26061608e-01\n",
      " 4.32543588e+00 4.27519177e-01 2.77909671e+00 1.22569979e+00\n",
      " 5.63421705e+00 6.52730003e+00 7.50783878e+00 9.25827492e+00\n",
      " 8.85548306e-01 2.56134406e+00 5.09310383e+00 7.82294374e+00\n",
      " 1.75154539e+00 8.15499387e+00 9.49865062e+00 1.18711479e+00\n",
      " 1.58407738e+00 9.17743323e+00 8.42255230e+00 4.30837186e+00\n",
      " 7.34698862e+00 3.49155207e+00 2.21277164e-01 9.67451376e+00\n",
      " 6.20056029e+00 3.47538475e-01 5.72280720e+00 7.79987350e+00\n",
      " 2.18105374e+00 9.98064251e+00 7.94261722e+00 9.61466289e+00\n",
      " 5.68834802e+00 4.00782746e+00 6.62263719e+00 4.36424406e-02\n",
      " 1.14309264e+00 1.33977129e-03 4.26414958e+00 5.08641711e+00\n",
      " 4.69098425e+00 4.12067773e+00 3.21978667e+00 6.01979442e+00\n",
      " 3.75280424e-01 3.65743084e-02 7.52615562e+00 3.04541059e+00\n",
      " 2.04056859e+00 2.45307034e+00 7.09867265e-02 3.02878233e+00\n",
      " 6.33174759e+00 8.73494849e+00 5.86254707e+00 2.63752838e+00\n",
      " 2.71144867e-01 6.96892687e+00 1.85473276e+00 3.05252263e-01\n",
      " 4.94238274e-01 1.56749848e+00 8.24864944e+00 8.57419180e+00\n",
      " 8.89111524e+00 6.90629146e-01 8.19329052e-01 8.61707249e+00\n",
      " 7.02323142e+00 7.67279934e+00 8.36425292e+00 6.83508918e+00\n",
      " 1.09009440e+00 6.34164925e+00 1.84894614e-01 6.61974532e+00\n",
      " 2.54264028e+00 7.03471070e-02 9.37297368e+00 6.58043277e-01\n",
      " 5.83614579e+00 2.30345738e+00 2.00935026e+00 6.51206791e+00\n",
      " 8.28632513e+00 8.63510159e-01 6.91205411e+00 4.34032657e-01\n",
      " 7.98781370e+00 9.66463752e+00 1.83891232e+00 9.22477404e+00\n",
      " 6.36605256e+00 4.64937423e+00 1.05316632e+00 6.76661814e+00\n",
      " 5.94468512e+00 5.60170537e+00 7.10199073e+00]\n"
     ]
    }
   ],
   "source": [
    "def genSample(npts):\n",
    "    sample = []\n",
    "    \n",
    "    while len(sample) < npts:\n",
    "        r = numpy.random.random()*10 #generates a random number between 1 and 10\n",
    "        condition = numpy.random.random()*10\n",
    "        \n",
    "        if condition < f(r):\n",
    "            sample.append(r)        \n",
    "    \n",
    "    \n",
    "    return numpy.array(sample)\n",
    "\n",
    "print(genSample(103))"
   ]
  },
  {
   "cell_type": "code",
   "execution_count": 6,
   "metadata": {
    "deletable": false,
    "editable": false,
    "nbgrader": {
     "cell_type": "code",
     "checksum": "b0c33445038a6a8641707fd272bbeb23",
     "grade": true,
     "grade_id": "genSample_test",
     "locked": true,
     "points": 1,
     "schema_version": 3,
     "solution": false,
     "task": false
    }
   },
   "outputs": [],
   "source": [
    "# this test is worth 1 mark\n",
    "testSample = genSample(103)\n",
    "assert (testSample >= 0).all() \n",
    "assert (testSample <= 10).all()\n",
    "assert len(testSample) == 103"
   ]
  },
  {
   "cell_type": "markdown",
   "metadata": {},
   "source": [
    "## Plotting task"
   ]
  },
  {
   "cell_type": "markdown",
   "metadata": {
    "deletable": false,
    "editable": false,
    "nbgrader": {
     "cell_type": "markdown",
     "checksum": "d3d29e873359b26ffc87cf9311d6330a",
     "grade": false,
     "grade_id": "plotting_task",
     "locked": true,
     "points": 4,
     "schema_version": 3,
     "solution": false,
     "task": true
    }
   },
   "source": [
    "Make a plot to show that the values generated are distributed in the right manner. The plot should have a title and axis labels. [4 marks]\n"
   ]
  },
  {
   "cell_type": "code",
   "execution_count": 7,
   "metadata": {},
   "outputs": [
    {
     "data": {
      "image/png": "[encoded data removed]",
      "text/plain": [
       "<Figure size 432x288 with 1 Axes>"
      ]
     },
     "metadata": {},
     "output_type": "display_data"
    }
   ],
   "source": [
    "xs = numpy.linspace(0, 10, 200)\n",
    "fs = f(xs)\n",
    "plt.plot(xs, fs, linestyle = \"--\");\n",
    "plt.ylabel('f(x)')\n",
    "plt.xlabel('x')\n",
    "plt.xlim(0,10)\n",
    "plt.ylim(0,0.2);\n",
    "\n",
    "\n",
    "\n",
    "bins = numpy.linspace(0,10,10)\n",
    "\n",
    "\n",
    "plt.hist(genSample(200), bins = bins, density = True, color = 'gray')\n",
    "plt.title(\"Histogram Showing how Generated Sample Compares to Probability Density for which it was Defined\")\n",
    "\n",
    "plt.show()"
   ]
  },
  {
   "cell_type": "code",
   "execution_count": null,
   "metadata": {},
   "outputs": [],
   "source": []
  }
 ],
 "metadata": {
  "kernelspec": {
   "display_name": "Python 3",
   "language": "python",
   "name": "python3"
  },
  "language_info": {
   "codemirror_mode": {
    "name": "ipython",
    "version": 3
   },
   "file_extension": ".py",
   "mimetype": "text/x-python",
   "name": "python",
   "nbconvert_exporter": "python",
   "pygments_lexer": "ipython3",
   "version": "3.6.3"
  }
 },
 "nbformat": 4,
 "nbformat_minor": 2
}
