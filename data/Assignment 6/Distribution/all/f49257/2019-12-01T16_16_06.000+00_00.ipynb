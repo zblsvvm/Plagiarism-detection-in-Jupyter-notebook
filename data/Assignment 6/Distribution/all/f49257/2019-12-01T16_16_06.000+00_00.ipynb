{
 "cells": [
  {
   "cell_type": "markdown",
   "metadata": {
    "deletable": false,
    "editable": false,
    "nbgrader": {
     "cell_type": "markdown",
     "checksum": "94574b10df955ed43fa9d3c6c7157dc9",
     "grade": false,
     "grade_id": "cell-816f7ab6acd266d6",
     "locked": true,
     "schema_version": 3,
     "solution": false,
     "task": false
    }
   },
   "source": [
    "# Assignment 6\n",
    "\n",
    "## Generating values according to a probability distribution "
   ]
  },
  {
   "cell_type": "markdown",
   "metadata": {
    "deletable": false,
    "editable": false,
    "nbgrader": {
     "cell_type": "markdown",
     "checksum": "0bc3c9cc926e5cb1311ec132124997d2",
     "grade": false,
     "grade_id": "cell-7ad7ead58c9066b1",
     "locked": true,
     "schema_version": 3,
     "solution": false,
     "task": false
    }
   },
   "source": [
    "In this part of the assignment you will create a function to generate values of $x$ between 0 and 10 distributed according to \n",
    "\n",
    "$$ \\frac{1}{\\mathcal{N}} \\left( 1 + \\frac{2}{1+x^2}+ \\sin(\\sqrt{3 x})^2\\right) $$\n",
    "\n",
    "with \n",
    "\n",
    "$$ \\mathcal{N} = \\int\\limits_0^{10} f(x) dx \\;.$$\n",
    "\n",
    "Let's first import the usual suspects:"
   ]
  },
  {
   "cell_type": "code",
   "execution_count": 1,
   "metadata": {},
   "outputs": [],
   "source": [
    "import matplotlib.pyplot as plt\n",
    "import numpy\n",
    "import random"
   ]
  },
  {
   "cell_type": "markdown",
   "metadata": {
    "deletable": false,
    "editable": false,
    "nbgrader": {
     "cell_type": "markdown",
     "checksum": "95f58809eb6ce3cfd69fad8c2b08cfa0",
     "grade": false,
     "grade_id": "cell-d98e0e08ccda4a69",
     "locked": true,
     "schema_version": 3,
     "solution": false,
     "task": false
    }
   },
   "source": [
    "This defines the function:"
   ]
  },
  {
   "cell_type": "code",
   "execution_count": 2,
   "metadata": {},
   "outputs": [],
   "source": [
    "norm = (181 + 24*numpy.arctan(10)-numpy.cos(2*numpy.sqrt(30))-2*numpy.sqrt(30)*numpy.sin(2*numpy.sqrt(30)))/12\n",
    "\n",
    "def f(x):\n",
    "    return  (1 + (2/(1+x**2)+ numpy.sin(numpy.sqrt(3*x))**2))/norm"
   ]
  },
  {
   "cell_type": "markdown",
   "metadata": {
    "deletable": false,
    "editable": false,
    "nbgrader": {
     "cell_type": "markdown",
     "checksum": "7eaaf1873ab124559987e6652eb59fb5",
     "grade": false,
     "grade_id": "cell-5a235343465fdf51",
     "locked": true,
     "schema_version": 3,
     "solution": false,
     "task": false
    }
   },
   "source": [
    "This plots the function:"
   ]
  },
  {
   "cell_type": "code",
   "execution_count": 3,
   "metadata": {},
   "outputs": [
    {
     "data": {
      "image/png": "[encoded data removed]",
      "text/plain": [
       "<Figure size 432x288 with 1 Axes>"
      ]
     },
     "metadata": {},
     "output_type": "display_data"
    }
   ],
   "source": [
    "xs = numpy.linspace(0, 10, 200)\n",
    "fs = f(xs)\n",
    "plt.plot(xs, fs);\n",
    "plt.ylabel('f(x)')\n",
    "plt.xlabel('x')\n",
    "plt.xlim(0,10)\n",
    "plt.ylim(0,0.2);"
   ]
  },
  {
   "cell_type": "markdown",
   "metadata": {
    "deletable": false,
    "editable": false,
    "nbgrader": {
     "cell_type": "markdown",
     "checksum": "73ed5cf94661cbe45f2aca0c0e24dedf",
     "grade": false,
     "grade_id": "coding_task",
     "locked": true,
     "points": 5,
     "schema_version": 3,
     "solution": false,
     "task": true
    }
   },
   "source": [
    "Define a function `genSample` that generates a sample of `npts` values $x$ distributed according to $f(x)$. [5 marks]\n"
   ]
  },
  {
   "cell_type": "code",
   "execution_count": 4,
   "metadata": {
    "deletable": false,
    "nbgrader": {
     "cell_type": "code",
     "checksum": "77864a87e7676d002a5add783c61ec92",
     "grade": false,
     "grade_id": "genSample",
     "locked": false,
     "schema_version": 3,
     "solution": true,
     "task": false
    }
   },
   "outputs": [],
   "source": [
    "def genSample(npts):\n",
    "    sample = []\n",
    "    m=0.2\n",
    "    i=0\n",
    "    \n",
    "    while i < npts:\n",
    "        x=10*random.random()\n",
    "        r=random.random()\n",
    "        if f(x)>m*r:\n",
    "            sample.append(x)\n",
    "            i+=1\n",
    "        else:\n",
    "            i=i\n",
    "    \n",
    "\n",
    "    return numpy.array(sample)"
   ]
  },
  {
   "cell_type": "code",
   "execution_count": 5,
   "metadata": {
    "deletable": false,
    "editable": false,
    "nbgrader": {
     "cell_type": "code",
     "checksum": "b0c33445038a6a8641707fd272bbeb23",
     "grade": true,
     "grade_id": "genSample_test",
     "locked": true,
     "points": 1,
     "schema_version": 3,
     "solution": false,
     "task": false
    }
   },
   "outputs": [],
   "source": [
    "# this test is worth 1 mark\n",
    "testSample = genSample(103)\n",
    "assert (testSample >= 0).all() \n",
    "assert (testSample <= 10).all()\n",
    "assert len(testSample) == 103"
   ]
  },
  {
   "cell_type": "markdown",
   "metadata": {},
   "source": [
    "## Plotting task"
   ]
  },
  {
   "cell_type": "markdown",
   "metadata": {
    "deletable": false,
    "editable": false,
    "nbgrader": {
     "cell_type": "markdown",
     "checksum": "d3d29e873359b26ffc87cf9311d6330a",
     "grade": false,
     "grade_id": "plotting_task",
     "locked": true,
     "points": 4,
     "schema_version": 3,
     "solution": false,
     "task": true
    }
   },
   "source": [
    "Make a plot to show that the values generated are distributed in the right manner. The plot should have a title and axis labels. [4 marks]\n"
   ]
  },
  {
   "cell_type": "code",
   "execution_count": 22,
   "metadata": {},
   "outputs": [
    {
     "data": {
      "text/plain": [
       "Text(0.5,1,'Distribution of x and the theoretical distribution f(x)')"
      ]
     },
     "execution_count": 22,
     "metadata": {},
     "output_type": "execute_result"
    },
    {
     "data": {
      "image/png": "[encoded data removed]",
      "text/plain": [
       "<Figure size 720x432 with 1 Axes>"
      ]
     },
     "metadata": {},
     "output_type": "display_data"
    }
   ],
   "source": [
    "spaces=numpy.linspace(0,10)\n",
    "sample=genSample(100000)\n",
    "plt.figure(figsize=(10,6))\n",
    "plt.hist(sample, bins=spaces, density=True)\n",
    "plt.plot(spaces,f(spaces),'r--', linewidth=4, alpha=0.6)\n",
    "plt.ylabel(\"Frequency of generated x-s\")\n",
    "plt.xlabel(\"x\")\n",
    "plt.title(\"Distribution of x and the theoretical distribution f(x)\")\n"
   ]
  },
  {
   "cell_type": "code",
   "execution_count": null,
   "metadata": {},
   "outputs": [],
   "source": []
  }
 ],
 "metadata": {
  "kernelspec": {
   "display_name": "Python 3",
   "language": "python",
   "name": "python3"
  },
  "language_info": {
   "codemirror_mode": {
    "name": "ipython",
    "version": 3
   },
   "file_extension": ".py",
   "mimetype": "text/x-python",
   "name": "python",
   "nbconvert_exporter": "python",
   "pygments_lexer": "ipython3",
   "version": "3.6.3"
  }
 },
 "nbformat": 4,
 "nbformat_minor": 2
}
