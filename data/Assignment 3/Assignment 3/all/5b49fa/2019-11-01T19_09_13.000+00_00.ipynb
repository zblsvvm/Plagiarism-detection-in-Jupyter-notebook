{
 "cells": [
  {
   "cell_type": "markdown",
   "metadata": {
    "deletable": false,
    "editable": false,
    "nbgrader": {
     "cell_type": "markdown",
     "checksum": "9e255c2f6a00086caac01bd9f93ae0fd",
     "grade": false,
     "grade_id": "cell-653a2d7b8720a14f",
     "locked": true,
     "schema_version": 3,
     "solution": false
    }
   },
   "source": [
    "# <center>L2 Computational Physics</center>\n",
    "\n",
    "## <center>Week 3: Differential Equations I</center>"
   ]
  },
  {
   "cell_type": "code",
   "execution_count": 1,
   "metadata": {
    "deletable": false,
    "editable": false,
    "nbgrader": {
     "cell_type": "code",
     "checksum": "96aa70f20e306039b1ae0aad9e021a86",
     "grade": false,
     "grade_id": "imports",
     "locked": true,
     "schema_version": 3,
     "solution": false
    }
   },
   "outputs": [],
   "source": [
    "# usual packages to import\n",
    "import numpy \n",
    "import matplotlib.pyplot as plt\n",
    "%matplotlib inline"
   ]
  },
  {
   "cell_type": "markdown",
   "metadata": {
    "deletable": false,
    "editable": false,
    "nbgrader": {
     "cell_type": "markdown",
     "checksum": "b26b91b158cd26a964af9866fcae4f62",
     "grade": false,
     "grade_id": "introduction",
     "locked": true,
     "schema_version": 3,
     "solution": false
    }
   },
   "source": [
    "In this notebook, you will generate and plot the decay curve for Iodine-133 analytically and numerically. $^{133}\\textrm{I}$ has a half life $t_{1/2}$ of 20.8 hours. This means that half of the nuclei will have decayed after time $t_{1/2}$. Derive the mean lifetime $\\tau$ from that information."
   ]
  },
  {
   "cell_type": "code",
   "execution_count": 2,
   "metadata": {
    "deletable": false,
    "nbgrader": {
     "cell_type": "code",
     "checksum": "1f32203e67620dad43f0e3253b2b80d0",
     "grade": false,
     "grade_id": "constants",
     "locked": false,
     "schema_version": 3,
     "solution": true
    }
   },
   "outputs": [],
   "source": [
    "# define a function to calculate the mean lifetime from the half life\n",
    "def meanLifetime(halfLife):\n",
    "    # YOUR CODE HERE\n",
    "    return halfLife / numpy.log(2)\n",
    "\n",
    "T_HALF = 20.8\n",
    "TAU = meanLifetime(T_HALF)\n"
   ]
  },
  {
   "cell_type": "markdown",
   "metadata": {
    "deletable": false,
    "editable": false,
    "nbgrader": {
     "cell_type": "markdown",
     "checksum": "474783dac86dd74a9510b7a6dccccb55",
     "grade": false,
     "grade_id": "cell-7ed602ac8b4a8623",
     "locked": true,
     "schema_version": 3,
     "solution": false
    }
   },
   "source": [
    "Check your average lifetime:"
   ]
  },
  {
   "cell_type": "code",
   "execution_count": 3,
   "metadata": {
    "deletable": false,
    "editable": false,
    "nbgrader": {
     "cell_type": "code",
     "checksum": "5b581ceaabfd40522833ba0df84148e3",
     "grade": true,
     "grade_id": "constants_check",
     "locked": true,
     "points": 1,
     "schema_version": 3,
     "solution": false
    }
   },
   "outputs": [],
   "source": [
    "# this test is worth 1 mark\n",
    "assert numpy.isclose(TAU, 30.0080568505)         "
   ]
  },
  {
   "cell_type": "markdown",
   "metadata": {
    "deletable": false,
    "editable": false,
    "nbgrader": {
     "cell_type": "markdown",
     "checksum": "6b5e2bcf6c6e49eda2f081cccb315844",
     "grade": false,
     "grade_id": "cell-864b8c95035f9b93",
     "locked": true,
     "schema_version": 3,
     "solution": false
    }
   },
   "source": [
    "### The Decay Equation"
   ]
  },
  {
   "cell_type": "markdown",
   "metadata": {
    "deletable": false,
    "editable": false,
    "nbgrader": {
     "cell_type": "markdown",
     "checksum": "b6c5672c9f405cb9a80f72ab719fc145",
     "grade": false,
     "grade_id": "decay_introduction",
     "locked": true,
     "schema_version": 3,
     "solution": false
    }
   },
   "source": [
    "Implement the function `f_rad` such that the differential equation \n",
    "\n",
    "$$ \\frac{dN}{dt} = f_{rad}(N,t)$$\n",
    "\n",
    "describes the radioactive decay process.\n",
    "\n",
    "- *Your function should return values using hours as the time unit.*\n",
    "- *The function should use the constant* `TAU`."
   ]
  },
  {
   "cell_type": "code",
   "execution_count": 4,
   "metadata": {
    "deletable": false,
    "nbgrader": {
     "cell_type": "code",
     "checksum": "457d82a875c5d8e48187fa31401c9e97",
     "grade": false,
     "grade_id": "decay_function",
     "locked": false,
     "schema_version": 3,
     "solution": true
    }
   },
   "outputs": [],
   "source": [
    "def f_rad(N, t):\n",
    "    # YOUR CODE HERE\n",
    "    return - N / TAU"
   ]
  },
  {
   "cell_type": "markdown",
   "metadata": {
    "deletable": false,
    "editable": false,
    "nbgrader": {
     "cell_type": "markdown",
     "checksum": "1b781e9bfdf185906da10a3fce5afc03",
     "grade": false,
     "grade_id": "cell-d59ccbc070af010b",
     "locked": true,
     "schema_version": 3,
     "solution": false
    }
   },
   "source": [
    "Make sure your function works:"
   ]
  },
  {
   "cell_type": "code",
   "execution_count": 5,
   "metadata": {
    "deletable": false,
    "editable": false,
    "nbgrader": {
     "cell_type": "code",
     "checksum": "87996117de466ae5951d10c9cba1f259",
     "grade": true,
     "grade_id": "decay_test",
     "locked": true,
     "points": 1,
     "schema_version": 3,
     "solution": false
    }
   },
   "outputs": [],
   "source": [
    "# this test cell is worth 1 mark\n",
    "assert numpy.isclose(f_rad(1000, 0), -33.324383681)           "
   ]
  },
  {
   "cell_type": "markdown",
   "metadata": {
    "deletable": false,
    "editable": false,
    "nbgrader": {
     "cell_type": "markdown",
     "checksum": "007a2d2688cd376a73cc4c6d0e0baff1",
     "grade": false,
     "grade_id": "analytic_introduction",
     "locked": true,
     "schema_version": 3,
     "solution": false
    }
   },
   "source": [
    "Solve this first order, ordinary differential equation analytically. Implement this function below, naming it `analytic`. The function should take an initial number of atoms `N0` at time `t=0`, and a time argument. The function should return nuclei count at the time argument. Make sure the function also works for numpy arrays."
   ]
  },
  {
   "cell_type": "code",
   "execution_count": 6,
   "metadata": {
    "deletable": false,
    "nbgrader": {
     "cell_type": "code",
     "checksum": "d5f8a683edd2825602878f6dee9d6c21",
     "grade": false,
     "grade_id": "analytic_function",
     "locked": false,
     "schema_version": 3,
     "solution": true
    }
   },
   "outputs": [
    {
     "data": {
      "text/plain": [
       "<numpy.lib.function_base.vectorize at 0x7f4a2ae731d0>"
      ]
     },
     "execution_count": 6,
     "metadata": {},
     "output_type": "execute_result"
    }
   ],
   "source": [
    "def analytic(N0, t):\n",
    "    # YOUR CODE HERE\n",
    "    return N0 * numpy.exp(- t / TAU)\n",
    "numpy.vectorize(analytic)"
   ]
  },
  {
   "cell_type": "markdown",
   "metadata": {
    "deletable": false,
    "editable": false,
    "nbgrader": {
     "cell_type": "markdown",
     "checksum": "9a4d0cc32dcf367bc150dd45d10d4285",
     "grade": false,
     "grade_id": "cell-18ca8dc7e04d23a3",
     "locked": true,
     "schema_version": 3,
     "solution": false
    }
   },
   "source": [
    "Check your answer for a single time:"
   ]
  },
  {
   "cell_type": "code",
   "execution_count": 7,
   "metadata": {
    "deletable": false,
    "editable": false,
    "nbgrader": {
     "cell_type": "code",
     "checksum": "ab62ed3d3535e88940e063c1c4a12d84",
     "grade": true,
     "grade_id": "analytic_test",
     "locked": true,
     "points": 1,
     "schema_version": 3,
     "solution": false
    }
   },
   "outputs": [],
   "source": [
    "# this test is worth 1 mark\n",
    "assert numpy.isclose(analytic(1000, 41.6), 250.0)           "
   ]
  },
  {
   "cell_type": "code",
   "execution_count": 8,
   "metadata": {
    "deletable": false,
    "editable": false,
    "nbgrader": {
     "cell_type": "code",
     "checksum": "bafe495357c897607c0ddf170f01b6cd",
     "grade": true,
     "grade_id": "analytic_test_array",
     "locked": true,
     "points": 2,
     "schema_version": 3,
     "solution": false
    }
   },
   "outputs": [],
   "source": [
    "# this test is worth 1 mark\n",
    "assert numpy.isclose(analytic(1000, numpy.arange(0, 60, 6)), \n",
    "                     [1000.        ,  818.77471839,  670.39203948,  548.90005334,\n",
    "                       449.4254866 ,  367.97822623,  301.29126855,  246.68967356,\n",
    "                       201.983268  ,  165.37879338]).all()\n"
   ]
  },
  {
   "cell_type": "markdown",
   "metadata": {
    "deletable": false,
    "editable": false,
    "nbgrader": {
     "cell_type": "markdown",
     "checksum": "307e9faa76135ad8d47eab7472b50e0a",
     "grade": false,
     "grade_id": "cell-e43cb07c20fa5758",
     "locked": true,
     "schema_version": 3,
     "solution": false
    }
   },
   "source": [
    "## Numerically Solving the ODE"
   ]
  },
  {
   "cell_type": "markdown",
   "metadata": {
    "deletable": false,
    "editable": false,
    "nbgrader": {
     "cell_type": "markdown",
     "checksum": "60f79d9c7fa0d2d94bc79706ab1ae03d",
     "grade": false,
     "grade_id": "cell-1cd6e2a66887f196",
     "locked": true,
     "schema_version": 3,
     "solution": false
    }
   },
   "source": [
    "We now wish to solve our differential equation numerically. We shall do this using Euler's and RK4 methods."
   ]
  },
  {
   "cell_type": "markdown",
   "metadata": {
    "deletable": false,
    "editable": false,
    "nbgrader": {
     "cell_type": "markdown",
     "checksum": "506315221a1ce2a83589f0664570efcb",
     "grade": false,
     "grade_id": "cell-1a07e2754604c846",
     "locked": true,
     "schema_version": 3,
     "solution": false
    }
   },
   "source": [
    "### Euler's Method"
   ]
  },
  {
   "cell_type": "markdown",
   "metadata": {
    "deletable": false,
    "editable": false,
    "nbgrader": {
     "cell_type": "markdown",
     "checksum": "d54ff05e541949049048ca38c990052f",
     "grade": false,
     "grade_id": "euler_introduction",
     "locked": true,
     "schema_version": 3,
     "solution": false
    }
   },
   "source": [
    "Create a function which takes as its arguments the initial number of atoms, `n0`, the initial time `t0`, the time step, `dt`, and the number of steps to perform, `n_steps`.  This function should return an array of the number of counts at each time step using Euler's method. This array should contain the initial and final values, so the array length should be `n_steps+1` "
   ]
  },
  {
   "cell_type": "code",
   "execution_count": 9,
   "metadata": {
    "deletable": false,
    "nbgrader": {
     "cell_type": "code",
     "checksum": "013501145cd3d22fc032e943bb1d1ea1",
     "grade": false,
     "grade_id": "euler_function",
     "locked": false,
     "schema_version": 3,
     "solution": true
    }
   },
   "outputs": [
    {
     "data": {
      "text/plain": [
       "array([1000.        ,  800.05369792])"
      ]
     },
     "execution_count": 9,
     "metadata": {},
     "output_type": "execute_result"
    }
   ],
   "source": [
    "def solve_euler(f, n0, t0, dt, n_panels):\n",
    "    # YOUR CODE HERE\n",
    "    counts_at_time_steps = [n0]\n",
    "    ni = n0\n",
    "    ti = t0\n",
    "    for i in range(1, n_panels+1):\n",
    "        ni = ni + dt*f(ni, ti)\n",
    "        ti += dt\n",
    "        counts_at_time_steps.append(ni)\n",
    "    return numpy.array(counts_at_time_steps)\n",
    "solve_euler(f_rad, 1000, 0, 6, 1)"
   ]
  },
  {
   "cell_type": "markdown",
   "metadata": {
    "deletable": false,
    "editable": false,
    "nbgrader": {
     "cell_type": "markdown",
     "checksum": "45340539b0c9b862d47028a5f97eb352",
     "grade": false,
     "grade_id": "cell-00862d5c2364027a",
     "locked": true,
     "schema_version": 3,
     "solution": false
    }
   },
   "source": [
    "Try your solution:"
   ]
  },
  {
   "cell_type": "code",
   "execution_count": 10,
   "metadata": {
    "deletable": false,
    "editable": false,
    "nbgrader": {
     "cell_type": "code",
     "checksum": "4b131e25e6aa3c8dae913e63d911771f",
     "grade": true,
     "grade_id": "euler_test_length",
     "locked": true,
     "points": 1,
     "schema_version": 3,
     "solution": false,
     "task": false
    }
   },
   "outputs": [],
   "source": [
    "# this test is worth 1 mark\n",
    "assert len(solve_euler(f_rad, 1000, 0, 1, 17)) == 18"
   ]
  },
  {
   "cell_type": "code",
   "execution_count": 11,
   "metadata": {
    "deletable": false,
    "editable": false,
    "nbgrader": {
     "cell_type": "code",
     "checksum": "fe20ccbd32656ef965ec3f9a7a415119",
     "grade": true,
     "grade_id": "euler_test_one",
     "locked": true,
     "points": 2,
     "schema_version": 3,
     "solution": false
    }
   },
   "outputs": [],
   "source": [
    "# this test is worth 2 marks\n",
    "assert numpy.isclose(solve_euler(f_rad, 1000, 0, 6, 1), [1000.,  800.05369792]).all()"
   ]
  },
  {
   "cell_type": "code",
   "execution_count": 12,
   "metadata": {
    "deletable": false,
    "editable": false,
    "nbgrader": {
     "cell_type": "code",
     "checksum": "d959639ea019b5a5bf260b744ed9a1e8",
     "grade": true,
     "grade_id": "euler_test_many",
     "locked": true,
     "points": 2,
     "schema_version": 3,
     "solution": false
    }
   },
   "outputs": [],
   "source": [
    "# this test is worth 2 mark\n",
    "assert numpy.isclose(solve_euler(f_rad, 1000, 0, 6, 10), [1000.        ,  800.05369792,  640.08591955,  512.10310692,\n",
    "                                                409.7099844 ,  327.7899881 ,  262.24959212,  209.81375595,\n",
    "                                                167.86227132,  134.29883091,  107.4462763 ]).all()"
   ]
  },
  {
   "cell_type": "markdown",
   "metadata": {
    "deletable": false,
    "editable": false,
    "nbgrader": {
     "cell_type": "markdown",
     "checksum": "860387a32a77ca0cdf4007ccdf282e18",
     "grade": false,
     "grade_id": "cell-9afd689c4b5b66e4",
     "locked": true,
     "schema_version": 3,
     "solution": false,
     "task": false
    }
   },
   "source": [
    "### RK 4 method"
   ]
  },
  {
   "cell_type": "markdown",
   "metadata": {
    "deletable": false,
    "editable": false,
    "nbgrader": {
     "cell_type": "markdown",
     "checksum": "ffb95947375cff594bf6f0659f1467c0",
     "grade": false,
     "grade_id": "cell-b46cd6a3a22d98eb",
     "locked": true,
     "schema_version": 3,
     "solution": false,
     "task": false
    }
   },
   "source": [
    "Implement the RK4 method in the `solve_RK4` function. The arguments are the same as for `solve_euler`."
   ]
  },
  {
   "cell_type": "code",
   "execution_count": 13,
   "metadata": {
    "deletable": false,
    "nbgrader": {
     "cell_type": "code",
     "checksum": "611b8f6c6a052ff1085a80404fc92a2b",
     "grade": false,
     "grade_id": "RK4",
     "locked": false,
     "schema_version": 3,
     "solution": true,
     "task": false
    }
   },
   "outputs": [],
   "source": [
    "def solve_RK4(f, n0, t0, dt, nsteps):\n",
    "    # YOUR CODE HERE\n",
    "    counts_at_time_steps = [n0]\n",
    "    ni = n0\n",
    "    ti = t0\n",
    "    for i in range(1, nsteps+1):\n",
    "        k1 = f(ni, ti)*dt\n",
    "        k2 = f(ni + k1 / 2, ti + dt / 2)*dt\n",
    "        k3 = f(ni + k2 / 2, ti + dt / 2)*dt\n",
    "        k4 = f(ni + k3, ti + dt)*dt\n",
    "        ni = ni + (k1 + 2*(k2 + k3) + k4)/6\n",
    "        ti += dt\n",
    "        counts_at_time_steps.append(ni)\n",
    "    return numpy.array(counts_at_time_steps)\n"
   ]
  },
  {
   "cell_type": "code",
   "execution_count": 14,
   "metadata": {
    "deletable": false,
    "editable": false,
    "nbgrader": {
     "cell_type": "code",
     "checksum": "0e92b0664845bd78bc9032ff5795c8f2",
     "grade": true,
     "grade_id": "RK4-test-1",
     "locked": true,
     "points": 1,
     "schema_version": 3,
     "solution": false,
     "task": false
    }
   },
   "outputs": [],
   "source": [
    "# This checks that we return an array of the right length\n",
    "# this test is worth 1 mark\n",
    "assert len(solve_RK4(f_rad, 1000, 0, 1, 17)) == 18"
   ]
  },
  {
   "cell_type": "code",
   "execution_count": 15,
   "metadata": {
    "deletable": false,
    "editable": false,
    "nbgrader": {
     "cell_type": "code",
     "checksum": "2cc4284fa713bc2d5af4f1366e54e7d9",
     "grade": true,
     "grade_id": "RK4-test-2",
     "locked": true,
     "points": 2,
     "schema_version": 3,
     "solution": false,
     "task": false
    }
   },
   "outputs": [],
   "source": [
    "# This checks that a single step is working\n",
    "# this test is worth 2 mark\n",
    "assert numpy.isclose(solve_RK4(f_rad, 1000,0, 6, 1), [1000.,  818.7773]).all()"
   ]
  },
  {
   "cell_type": "code",
   "execution_count": 16,
   "metadata": {
    "deletable": false,
    "editable": false,
    "nbgrader": {
     "cell_type": "code",
     "checksum": "be67647e705ca3915a432ef233c6a96b",
     "grade": true,
     "grade_id": "RK4-test-3",
     "locked": true,
     "points": 2,
     "schema_version": 3,
     "solution": false,
     "task": false
    }
   },
   "outputs": [],
   "source": [
    "# This checks multiple steps\n",
    "# this test is worth 2 marks\n",
    "assert numpy.isclose(solve_RK4(f_rad, 1000, 0, 6, 10), [\n",
    "    1000.,\n",
    "    818.77729521,  \n",
    "    670.39625915,  \n",
    "    548.90523578,\n",
    "    449.43114428,  \n",
    "    367.9840167,  \n",
    "    301.29695787,  \n",
    "    246.69510822, \n",
    "    201.98835345,  \n",
    "    165.3834777,  \n",
    "    135.41223655]).all()"
   ]
  },
  {
   "cell_type": "markdown",
   "metadata": {},
   "source": [
    "## Plotting task"
   ]
  },
  {
   "cell_type": "markdown",
   "metadata": {
    "deletable": false,
    "editable": false,
    "nbgrader": {
     "cell_type": "markdown",
     "checksum": "711a0e023c32f2bbd63b847d0eeaf33a",
     "grade": false,
     "grade_id": "plotting_task",
     "locked": true,
     "points": 5,
     "schema_version": 3,
     "solution": false,
     "task": true
    }
   },
   "source": [
    "**Task 1: **\n",
    "\n",
    "Create a plot to show that the RK4 method has an error that scales better with the number of steps than the Euler method. (click on the \"+\" button to create new cells.)       [task worth 5 marks]\n"
   ]
  },
  {
   "cell_type": "code",
   "execution_count": 21,
   "metadata": {},
   "outputs": [
    {
     "name": "stdout",
     "output_type": "stream",
     "text": [
      "[array([0.        , 0.03332438, 0.06553825, 0.09667861, 0.12678124]), array([0.        , 0.03332438, 0.06553825, 0.09667861, 0.12678124,\n",
      "       0.15588072, 0.18401047, 0.21120282, 0.237489  ]), array([0.        , 0.03332438, 0.06553825, 0.09667861, 0.12678124,\n",
      "       0.15588072, 0.18401047, 0.21120282, 0.237489  , 0.26289921,\n",
      "       0.28746264, 0.31120751, 0.33416109, 0.35634977, 0.37779901,\n",
      "       0.39853348, 0.41857698]), array([0.        , 0.03332438, 0.06553825, 0.09667861, 0.12678124,\n",
      "       0.15588072, 0.18401047, 0.21120282, 0.237489  , 0.26289921,\n",
      "       0.28746264, 0.31120751, 0.33416109, 0.35634977, 0.37779901,\n",
      "       0.39853348, 0.41857698, 0.43795254, 0.45668243, 0.47478815,\n",
      "       0.49229051, 0.50920962, 0.5255649 , 0.54137516, 0.55665855,\n",
      "       0.57143263, 0.58571438, 0.59952019, 0.61286593, 0.62576694,\n",
      "       0.63823802, 0.65029352, 0.66194727]), array([0.        , 0.03332438, 0.06553825, 0.09667861, 0.12678124,\n",
      "       0.15588072, 0.18401047, 0.21120282, 0.237489  , 0.26289921,\n",
      "       0.28746264, 0.31120751, 0.33416109, 0.35634977, 0.37779901,\n",
      "       0.39853348, 0.41857698, 0.43795254, 0.45668243, 0.47478815,\n",
      "       0.49229051, 0.50920962, 0.5255649 , 0.54137516, 0.55665855,\n",
      "       0.57143263, 0.58571438, 0.59952019, 0.61286593, 0.62576694,\n",
      "       0.63823802, 0.65029352, 0.66194727, 0.67321267, 0.68410266,\n",
      "       0.69462974, 0.70480602, 0.71464317, 0.72415251, 0.73334496,\n",
      "       0.74223108, 0.75082107, 0.7591248 , 0.76715182, 0.77491134,\n",
      "       0.78241228, 0.78966326, 0.7966726 , 0.80344836, 0.80999832,\n",
      "       0.81633001, 0.8224507 , 0.82836742, 0.83408697, 0.83961592,\n",
      "       0.84496062, 0.85012721, 0.85512163, 0.85994961, 0.86461671,\n",
      "       0.86912827, 0.87348949, 0.87770538, 0.88178077, 0.88572035]), array([0.        , 0.03332438, 0.06553825, 0.09667861, 0.12678124,\n",
      "       0.15588072, 0.18401047, 0.21120282, 0.237489  , 0.26289921,\n",
      "       0.28746264, 0.31120751, 0.33416109, 0.35634977, 0.37779901,\n",
      "       0.39853348, 0.41857698, 0.43795254, 0.45668243, 0.47478815,\n",
      "       0.49229051, 0.50920962, 0.5255649 , 0.54137516, 0.55665855,\n",
      "       0.57143263, 0.58571438, 0.59952019, 0.61286593, 0.62576694,\n",
      "       0.63823802, 0.65029352, 0.66194727, 0.67321267, 0.68410266,\n",
      "       0.69462974, 0.70480602, 0.71464317, 0.72415251, 0.73334496,\n",
      "       0.74223108, 0.75082107, 0.7591248 , 0.76715182, 0.77491134,\n",
      "       0.78241228, 0.78966326, 0.7966726 , 0.80344836, 0.80999832,\n",
      "       0.81633001, 0.8224507 , 0.82836742, 0.83408697, 0.83961592,\n",
      "       0.84496062, 0.85012721, 0.85512163, 0.85994961, 0.86461671,\n",
      "       0.86912827, 0.87348949, 0.87770538, 0.88178077, 0.88572035,\n",
      "       0.88952865, 0.89321004, 0.89676875, 0.90020887, 0.90353435,\n",
      "       0.906749  , 0.90985654, 0.91286051, 0.91576438, 0.91857148,\n",
      "       0.92128504, 0.92390816, 0.92644388, 0.92889509, 0.93126462,\n",
      "       0.93355518, 0.93576941, 0.93790986, 0.93997897, 0.94197914,\n",
      "       0.94391265, 0.94578172, 0.94758851, 0.9493351 , 0.95102347,\n",
      "       0.95265558, 0.95423331, 0.95575845, 0.95723278, 0.95865797,\n",
      "       0.96003567, 0.96136745, 0.96265486, 0.96389936, 0.96510239,\n",
      "       0.96626534, 0.96738952, 0.96847625, 0.96952676, 0.97054226,\n",
      "       0.97152392, 0.97247287, 0.97339019, 0.97427695, 0.97513415,\n",
      "       0.97596279, 0.97676382, 0.97753815, 0.97828668, 0.97901026,\n",
      "       0.97970973, 0.98038589, 0.98103952, 0.98167136, 0.98228215,\n",
      "       0.98287259, 0.98344335, 0.98399509, 0.98452844, 0.98504402,\n",
      "       0.98554242, 0.98602421, 0.98648995, 0.98694016]), array([0.        , 0.03332438, 0.06553825, 0.09667861, 0.12678124,\n",
      "       0.15588072, 0.18401047, 0.21120282, 0.237489  , 0.26289921,\n",
      "       0.28746264, 0.31120751, 0.33416109, 0.35634977, 0.37779901,\n",
      "       0.39853348, 0.41857698, 0.43795254, 0.45668243, 0.47478815,\n",
      "       0.49229051, 0.50920962, 0.5255649 , 0.54137516, 0.55665855,\n",
      "       0.57143263, 0.58571438, 0.59952019, 0.61286593, 0.62576694,\n",
      "       0.63823802, 0.65029352, 0.66194727, 0.67321267, 0.68410266,\n",
      "       0.69462974, 0.70480602, 0.71464317, 0.72415251, 0.73334496,\n",
      "       0.74223108, 0.75082107, 0.7591248 , 0.76715182, 0.77491134,\n",
      "       0.78241228, 0.78966326, 0.7966726 , 0.80344836, 0.80999832,\n",
      "       0.81633001, 0.8224507 , 0.82836742, 0.83408697, 0.83961592,\n",
      "       0.84496062, 0.85012721, 0.85512163, 0.85994961, 0.86461671,\n",
      "       0.86912827, 0.87348949, 0.87770538, 0.88178077, 0.88572035,\n",
      "       0.88952865, 0.89321004, 0.89676875, 0.90020887, 0.90353435,\n",
      "       0.906749  , 0.90985654, 0.91286051, 0.91576438, 0.91857148,\n",
      "       0.92128504, 0.92390816, 0.92644388, 0.92889509, 0.93126462,\n",
      "       0.93355518, 0.93576941, 0.93790986, 0.93997897, 0.94197914,\n",
      "       0.94391265, 0.94578172, 0.94758851, 0.9493351 , 0.95102347,\n",
      "       0.95265558, 0.95423331, 0.95575845, 0.95723278, 0.95865797,\n",
      "       0.96003567, 0.96136745, 0.96265486, 0.96389936, 0.96510239,\n",
      "       0.96626534, 0.96738952, 0.96847625, 0.96952676, 0.97054226,\n",
      "       0.97152392, 0.97247287, 0.97339019, 0.97427695, 0.97513415,\n",
      "       0.97596279, 0.97676382, 0.97753815, 0.97828668, 0.97901026,\n",
      "       0.97970973, 0.98038589, 0.98103952, 0.98167136, 0.98228215,\n",
      "       0.98287259, 0.98344335, 0.98399509, 0.98452844, 0.98504402,\n",
      "       0.98554242, 0.98602421, 0.98648995, 0.98694016, 0.98737537,\n",
      "       0.98779608, 0.98820277, 0.9885959 , 0.98897594, 0.98934331,\n",
      "       0.98969844, 0.99004173, 0.99037358, 0.99069438, 0.99100448,\n",
      "       0.99130425, 0.99159403, 0.99187416, 0.99214494, 0.99240671,\n",
      "       0.99265975, 0.99290436, 0.99314082, 0.9933694 , 0.99359036,\n",
      "       0.99380395, 0.99401043, 0.99421003, 0.99440298, 0.9945895 ,\n",
      "       0.9947698 , 0.99494409, 0.99511258, 0.99527545, 0.99543289,\n",
      "       0.99558509, 0.99573221, 0.99587443, 0.99601191, 0.99614481,\n",
      "       0.99627329, 0.99639748, 0.99651753, 0.99663358, 0.99674576,\n",
      "       0.99685421, 0.99695904, 0.99706038, 0.99715834, 0.99725304,\n",
      "       0.99734458, 0.99743307, 0.99751861, 0.9976013 , 0.99768123,\n",
      "       0.99775851, 0.9978332 , 0.99790541, 0.99797521, 0.99804269,\n",
      "       0.99810791, 0.99817096, 0.99823192, 0.99829084, 0.99834779,\n",
      "       0.99840285, 0.99845608, 0.99850753, 0.99855726, 0.99860534,\n",
      "       0.99865182, 0.99869674, 0.99874017, 0.99878216, 0.99882274,\n",
      "       0.99886197, 0.9988999 , 0.99893656, 0.998972  , 0.99900625,\n",
      "       0.99903937, 0.99907138, 0.99910233, 0.99913224, 0.99916116,\n",
      "       0.99918911, 0.99921614, 0.99924226, 0.99926751, 0.99929192,\n",
      "       0.99931551, 0.99933832, 0.99936037, 0.99938169, 0.99940229,\n",
      "       0.99942221, 0.99944147, 0.99946008, 0.99947807, 0.99949547,\n",
      "       0.99951228, 0.99952853, 0.99954424, 0.99955943, 0.99957411,\n",
      "       0.9995883 , 0.99960202, 0.99961529, 0.99962811, 0.9996405 ,\n",
      "       0.99965248, 0.99966406, 0.99967526, 0.99968608, 0.99969654,\n",
      "       0.99970665, 0.99971643, 0.99972588, 0.99973501, 0.99974384,\n",
      "       0.99975238, 0.99976063, 0.99976861, 0.99977632, 0.99978377,\n",
      "       0.99979098, 0.99979794, 0.99980468, 0.99981119, 0.99981748,\n",
      "       0.99982356, 0.99982944]), array([0.        , 0.03332438, 0.06553825, 0.09667861, 0.12678124,\n",
      "       0.15588072, 0.18401047, 0.21120282, 0.237489  , 0.26289921,\n",
      "       0.28746264, 0.31120751, 0.33416109, 0.35634977, 0.37779901,\n",
      "       0.39853348, 0.41857698, 0.43795254, 0.45668243, 0.47478815,\n",
      "       0.49229051, 0.50920962, 0.5255649 , 0.54137516, 0.55665855,\n",
      "       0.57143263, 0.58571438, 0.59952019, 0.61286593, 0.62576694,\n",
      "       0.63823802, 0.65029352, 0.66194727, 0.67321267, 0.68410266,\n",
      "       0.69462974, 0.70480602, 0.71464317, 0.72415251, 0.73334496,\n",
      "       0.74223108, 0.75082107, 0.7591248 , 0.76715182, 0.77491134,\n",
      "       0.78241228, 0.78966326, 0.7966726 , 0.80344836, 0.80999832,\n",
      "       0.81633001, 0.8224507 , 0.82836742, 0.83408697, 0.83961592,\n",
      "       0.84496062, 0.85012721, 0.85512163, 0.85994961, 0.86461671,\n",
      "       0.86912827, 0.87348949, 0.87770538, 0.88178077, 0.88572035,\n",
      "       0.88952865, 0.89321004, 0.89676875, 0.90020887, 0.90353435,\n",
      "       0.906749  , 0.90985654, 0.91286051, 0.91576438, 0.91857148,\n",
      "       0.92128504, 0.92390816, 0.92644388, 0.92889509, 0.93126462,\n",
      "       0.93355518, 0.93576941, 0.93790986, 0.93997897, 0.94197914,\n",
      "       0.94391265, 0.94578172, 0.94758851, 0.9493351 , 0.95102347,\n",
      "       0.95265558, 0.95423331, 0.95575845, 0.95723278, 0.95865797,\n",
      "       0.96003567, 0.96136745, 0.96265486, 0.96389936, 0.96510239,\n",
      "       0.96626534, 0.96738952, 0.96847625, 0.96952676, 0.97054226,\n",
      "       0.97152392, 0.97247287, 0.97339019, 0.97427695, 0.97513415,\n",
      "       0.97596279, 0.97676382, 0.97753815, 0.97828668, 0.97901026,\n",
      "       0.97970973, 0.98038589, 0.98103952, 0.98167136, 0.98228215,\n",
      "       0.98287259, 0.98344335, 0.98399509, 0.98452844, 0.98504402,\n",
      "       0.98554242, 0.98602421, 0.98648995, 0.98694016, 0.98737537,\n",
      "       0.98779608, 0.98820277, 0.9885959 , 0.98897594, 0.98934331,\n",
      "       0.98969844, 0.99004173, 0.99037358, 0.99069438, 0.99100448,\n",
      "       0.99130425, 0.99159403, 0.99187416, 0.99214494, 0.99240671,\n",
      "       0.99265975, 0.99290436, 0.99314082, 0.9933694 , 0.99359036,\n",
      "       0.99380395, 0.99401043, 0.99421003, 0.99440298, 0.9945895 ,\n",
      "       0.9947698 , 0.99494409, 0.99511258, 0.99527545, 0.99543289,\n",
      "       0.99558509, 0.99573221, 0.99587443, 0.99601191, 0.99614481,\n",
      "       0.99627329, 0.99639748, 0.99651753, 0.99663358, 0.99674576,\n",
      "       0.99685421, 0.99695904, 0.99706038, 0.99715834, 0.99725304,\n",
      "       0.99734458, 0.99743307, 0.99751861, 0.9976013 , 0.99768123,\n",
      "       0.99775851, 0.9978332 , 0.99790541, 0.99797521, 0.99804269,\n",
      "       0.99810791, 0.99817096, 0.99823192, 0.99829084, 0.99834779,\n",
      "       0.99840285, 0.99845608, 0.99850753, 0.99855726, 0.99860534,\n",
      "       0.99865182, 0.99869674, 0.99874017, 0.99878216, 0.99882274,\n",
      "       0.99886197, 0.9988999 , 0.99893656, 0.998972  , 0.99900625,\n",
      "       0.99903937, 0.99907138, 0.99910233, 0.99913224, 0.99916116,\n",
      "       0.99918911, 0.99921614, 0.99924226, 0.99926751, 0.99929192,\n",
      "       0.99931551, 0.99933832, 0.99936037, 0.99938169, 0.99940229,\n",
      "       0.99942221, 0.99944147, 0.99946008, 0.99947807, 0.99949547,\n",
      "       0.99951228, 0.99952853, 0.99954424, 0.99955943, 0.99957411,\n",
      "       0.9995883 , 0.99960202, 0.99961529, 0.99962811, 0.9996405 ,\n",
      "       0.99965248, 0.99966406, 0.99967526, 0.99968608, 0.99969654,\n",
      "       0.99970665, 0.99971643, 0.99972588, 0.99973501, 0.99974384,\n",
      "       0.99975238, 0.99976063, 0.99976861, 0.99977632, 0.99978377,\n",
      "       0.99979098, 0.99979794, 0.99980468, 0.99981119, 0.99981748,\n",
      "       0.99982356, 0.99982944, 0.99983512, 0.99984062, 0.99984593,\n",
      "       0.99985106, 0.99985603, 0.99986083, 0.99986546, 0.99986995,\n",
      "       0.99987428, 0.99987847, 0.99988252, 0.99988643, 0.99989022,\n",
      "       0.99989388, 0.99989741, 0.99990083, 0.99990414, 0.99990733,\n",
      "       0.99991042, 0.99991341, 0.99991629, 0.99991908, 0.99992178,\n",
      "       0.99992438, 0.9999269 , 0.99992934, 0.99993169, 0.99993397,\n",
      "       0.99993617, 0.9999383 , 0.99994035, 0.99994234, 0.99994426,\n",
      "       0.99994612, 0.99994792, 0.99994965, 0.99995133, 0.99995295,\n",
      "       0.99995452, 0.99995604, 0.9999575 , 0.99995892, 0.99996029,\n",
      "       0.99996161, 0.99996289, 0.99996413, 0.99996532, 0.99996648,\n",
      "       0.99996759, 0.99996867, 0.99996972, 0.99997073, 0.9999717 ,\n",
      "       0.99997264, 0.99997356, 0.99997444, 0.99997529, 0.99997611,\n",
      "       0.99997691, 0.99997768, 0.99997842, 0.99997914, 0.99997984,\n",
      "       0.99998051, 0.99998116, 0.99998179, 0.99998239, 0.99998298,\n",
      "       0.99998355, 0.9999841 , 0.99998463, 0.99998514, 0.99998563,\n",
      "       0.99998611, 0.99998657, 0.99998702, 0.99998745, 0.99998787,\n",
      "       0.99998828, 0.99998867, 0.99998904, 0.99998941, 0.99998976,\n",
      "       0.9999901 , 0.99999043, 0.99999075, 0.99999106, 0.99999136,\n",
      "       0.99999165, 0.99999192, 0.99999219, 0.99999245, 0.99999271,\n",
      "       0.99999295, 0.99999318, 0.99999341, 0.99999363, 0.99999384,\n",
      "       0.99999405, 0.99999425, 0.99999444, 0.99999462, 0.9999948 ,\n",
      "       0.99999498, 0.99999514, 0.9999953 , 0.99999546, 0.99999561,\n",
      "       0.99999576, 0.9999959 , 0.99999604, 0.99999617, 0.9999963 ,\n",
      "       0.99999642, 0.99999654, 0.99999665, 0.99999677, 0.99999687,\n",
      "       0.99999698, 0.99999708, 0.99999718, 0.99999727, 0.99999736,\n",
      "       0.99999745, 0.99999753, 0.99999762, 0.9999977 , 0.99999777,\n",
      "       0.99999785, 0.99999792, 0.99999799, 0.99999805, 0.99999812,\n",
      "       0.99999818, 0.99999824, 0.9999983 , 0.99999836, 0.99999841,\n",
      "       0.99999847, 0.99999852, 0.99999857, 0.99999861, 0.99999866,\n",
      "       0.9999987 , 0.99999875, 0.99999879, 0.99999883, 0.99999887,\n",
      "       0.99999891, 0.99999894, 0.99999898, 0.99999901, 0.99999905,\n",
      "       0.99999908, 0.99999911, 0.99999914, 0.99999917, 0.99999919,\n",
      "       0.99999922, 0.99999925, 0.99999927, 0.9999993 , 0.99999932,\n",
      "       0.99999934, 0.99999936, 0.99999939, 0.99999941, 0.99999943,\n",
      "       0.99999944, 0.99999946, 0.99999948, 0.9999995 , 0.99999952,\n",
      "       0.99999953, 0.99999955, 0.99999956, 0.99999958, 0.99999959,\n",
      "       0.9999996 , 0.99999962, 0.99999963, 0.99999964, 0.99999965,\n",
      "       0.99999967, 0.99999968, 0.99999969, 0.9999997 , 0.99999971,\n",
      "       0.99999972, 0.99999973, 0.99999974, 0.99999975, 0.99999975,\n",
      "       0.99999976, 0.99999977, 0.99999978, 0.99999979, 0.99999979,\n",
      "       0.9999998 , 0.99999981, 0.99999981, 0.99999982, 0.99999982,\n",
      "       0.99999983, 0.99999984, 0.99999984, 0.99999985, 0.99999985,\n",
      "       0.99999986, 0.99999986, 0.99999987, 0.99999987, 0.99999988,\n",
      "       0.99999988, 0.99999988, 0.99999989, 0.99999989, 0.99999989,\n",
      "       0.9999999 , 0.9999999 , 0.9999999 , 0.99999991, 0.99999991,\n",
      "       0.99999991, 0.99999992, 0.99999992, 0.99999992, 0.99999992,\n",
      "       0.99999993, 0.99999993, 0.99999993, 0.99999993, 0.99999994,\n",
      "       0.99999994, 0.99999994, 0.99999994, 0.99999994, 0.99999995,\n",
      "       0.99999995, 0.99999995, 0.99999995, 0.99999995, 0.99999995,\n",
      "       0.99999996, 0.99999996, 0.99999996, 0.99999996, 0.99999996,\n",
      "       0.99999996, 0.99999996, 0.99999997, 0.99999997, 0.99999997,\n",
      "       0.99999997, 0.99999997, 0.99999997]), array([0.        , 0.03332438, 0.06553825, ..., 1.        , 1.        ,\n",
      "       1.        ])]\n"
     ]
    },
    {
     "ename": "ValueError",
     "evalue": "setting an array element with a sequence.",
     "output_type": "error",
     "traceback": [
      "\u001b[0;31m---------------------------------------------------------------------------\u001b[0m",
      "\u001b[0;31mValueError\u001b[0m                                Traceback (most recent call last)",
      "\u001b[0;32m<ipython-input-21-219e75836630>\u001b[0m in \u001b[0;36m<module>\u001b[0;34m()\u001b[0m\n\u001b[1;32m      7\u001b[0m \u001b[0mprint\u001b[0m\u001b[0;34m(\u001b[0m\u001b[0mfractional_errors_euler\u001b[0m\u001b[0;34m)\u001b[0m\u001b[0;34m\u001b[0m\u001b[0m\n\u001b[1;32m      8\u001b[0m \u001b[0mfractional_errors_rk4\u001b[0m \u001b[0;34m=\u001b[0m \u001b[0;34m[\u001b[0m\u001b[0mabs\u001b[0m\u001b[0;34m(\u001b[0m\u001b[0msolve_RK4\u001b[0m\u001b[0;34m(\u001b[0m\u001b[0mf_rad\u001b[0m\u001b[0;34m,\u001b[0m \u001b[0mn0\u001b[0m\u001b[0;34m,\u001b[0m \u001b[0mt0\u001b[0m\u001b[0;34m,\u001b[0m \u001b[0mdt\u001b[0m\u001b[0;34m,\u001b[0m \u001b[0mN\u001b[0m\u001b[0;34m)\u001b[0m \u001b[0;34m-\u001b[0m \u001b[0manalytic_result\u001b[0m\u001b[0;34m)\u001b[0m\u001b[0;34m/\u001b[0m\u001b[0manalytic_result\u001b[0m \u001b[0;32mfor\u001b[0m \u001b[0mN\u001b[0m \u001b[0;32min\u001b[0m \u001b[0mstep_counts\u001b[0m\u001b[0;34m]\u001b[0m\u001b[0;34m\u001b[0m\u001b[0m\n\u001b[0;32m----> 9\u001b[0;31m \u001b[0mplt\u001b[0m\u001b[0;34m.\u001b[0m\u001b[0mplot\u001b[0m\u001b[0;34m(\u001b[0m\u001b[0mstep_counts\u001b[0m\u001b[0;34m,\u001b[0m \u001b[0mfractional_errors_euler\u001b[0m\u001b[0;34m,\u001b[0m \u001b[0mcolor\u001b[0m \u001b[0;34m=\u001b[0m \u001b[0;34m'green'\u001b[0m\u001b[0;34m,\u001b[0m \u001b[0mlabel\u001b[0m \u001b[0;34m=\u001b[0m \u001b[0;34m'Euler'\u001b[0m\u001b[0;34m)\u001b[0m\u001b[0;34m\u001b[0m\u001b[0m\n\u001b[0m\u001b[1;32m     10\u001b[0m \u001b[0mplt\u001b[0m\u001b[0;34m.\u001b[0m\u001b[0mplot\u001b[0m\u001b[0;34m(\u001b[0m\u001b[0mstep_counts\u001b[0m\u001b[0;34m,\u001b[0m \u001b[0mfractional_errors_euler\u001b[0m\u001b[0;34m,\u001b[0m \u001b[0mcolor\u001b[0m \u001b[0;34m=\u001b[0m \u001b[0;34m'red'\u001b[0m\u001b[0;34m,\u001b[0m \u001b[0mlabel\u001b[0m \u001b[0;34m=\u001b[0m \u001b[0;34m'RK4'\u001b[0m\u001b[0;34m)\u001b[0m\u001b[0;34m\u001b[0m\u001b[0m\n\u001b[1;32m     11\u001b[0m \u001b[0mplt\u001b[0m\u001b[0;34m.\u001b[0m\u001b[0mxscale\u001b[0m\u001b[0;34m(\u001b[0m\u001b[0;34m'log'\u001b[0m\u001b[0;34m)\u001b[0m\u001b[0;34m\u001b[0m\u001b[0m\n",
      "\u001b[0;32m/opt/conda/lib/python3.6/site-packages/matplotlib/pyplot.py\u001b[0m in \u001b[0;36mplot\u001b[0;34m(*args, **kwargs)\u001b[0m\n\u001b[1;32m   3361\u001b[0m                       mplDeprecation)\n\u001b[1;32m   3362\u001b[0m     \u001b[0;32mtry\u001b[0m\u001b[0;34m:\u001b[0m\u001b[0;34m\u001b[0m\u001b[0m\n\u001b[0;32m-> 3363\u001b[0;31m         \u001b[0mret\u001b[0m \u001b[0;34m=\u001b[0m \u001b[0max\u001b[0m\u001b[0;34m.\u001b[0m\u001b[0mplot\u001b[0m\u001b[0;34m(\u001b[0m\u001b[0;34m*\u001b[0m\u001b[0margs\u001b[0m\u001b[0;34m,\u001b[0m \u001b[0;34m**\u001b[0m\u001b[0mkwargs\u001b[0m\u001b[0;34m)\u001b[0m\u001b[0;34m\u001b[0m\u001b[0m\n\u001b[0m\u001b[1;32m   3364\u001b[0m     \u001b[0;32mfinally\u001b[0m\u001b[0;34m:\u001b[0m\u001b[0;34m\u001b[0m\u001b[0m\n\u001b[1;32m   3365\u001b[0m         \u001b[0max\u001b[0m\u001b[0;34m.\u001b[0m\u001b[0m_hold\u001b[0m \u001b[0;34m=\u001b[0m \u001b[0mwashold\u001b[0m\u001b[0;34m\u001b[0m\u001b[0m\n",
      "\u001b[0;32m/opt/conda/lib/python3.6/site-packages/matplotlib/__init__.py\u001b[0m in \u001b[0;36minner\u001b[0;34m(ax, *args, **kwargs)\u001b[0m\n\u001b[1;32m   1865\u001b[0m                         \u001b[0;34m\"the Matplotlib list!)\"\u001b[0m \u001b[0;34m%\u001b[0m \u001b[0;34m(\u001b[0m\u001b[0mlabel_namer\u001b[0m\u001b[0;34m,\u001b[0m \u001b[0mfunc\u001b[0m\u001b[0;34m.\u001b[0m\u001b[0m__name__\u001b[0m\u001b[0;34m)\u001b[0m\u001b[0;34m,\u001b[0m\u001b[0;34m\u001b[0m\u001b[0m\n\u001b[1;32m   1866\u001b[0m                         RuntimeWarning, stacklevel=2)\n\u001b[0;32m-> 1867\u001b[0;31m             \u001b[0;32mreturn\u001b[0m \u001b[0mfunc\u001b[0m\u001b[0;34m(\u001b[0m\u001b[0max\u001b[0m\u001b[0;34m,\u001b[0m \u001b[0;34m*\u001b[0m\u001b[0margs\u001b[0m\u001b[0;34m,\u001b[0m \u001b[0;34m**\u001b[0m\u001b[0mkwargs\u001b[0m\u001b[0;34m)\u001b[0m\u001b[0;34m\u001b[0m\u001b[0m\n\u001b[0m\u001b[1;32m   1868\u001b[0m \u001b[0;34m\u001b[0m\u001b[0m\n\u001b[1;32m   1869\u001b[0m         inner.__doc__ = _add_data_doc(inner.__doc__,\n",
      "\u001b[0;32m/opt/conda/lib/python3.6/site-packages/matplotlib/axes/_axes.py\u001b[0m in \u001b[0;36mplot\u001b[0;34m(self, *args, **kwargs)\u001b[0m\n\u001b[1;32m   1527\u001b[0m \u001b[0;34m\u001b[0m\u001b[0m\n\u001b[1;32m   1528\u001b[0m         \u001b[0;32mfor\u001b[0m \u001b[0mline\u001b[0m \u001b[0;32min\u001b[0m \u001b[0mself\u001b[0m\u001b[0;34m.\u001b[0m\u001b[0m_get_lines\u001b[0m\u001b[0;34m(\u001b[0m\u001b[0;34m*\u001b[0m\u001b[0margs\u001b[0m\u001b[0;34m,\u001b[0m \u001b[0;34m**\u001b[0m\u001b[0mkwargs\u001b[0m\u001b[0;34m)\u001b[0m\u001b[0;34m:\u001b[0m\u001b[0;34m\u001b[0m\u001b[0m\n\u001b[0;32m-> 1529\u001b[0;31m             \u001b[0mself\u001b[0m\u001b[0;34m.\u001b[0m\u001b[0madd_line\u001b[0m\u001b[0;34m(\u001b[0m\u001b[0mline\u001b[0m\u001b[0;34m)\u001b[0m\u001b[0;34m\u001b[0m\u001b[0m\n\u001b[0m\u001b[1;32m   1530\u001b[0m             \u001b[0mlines\u001b[0m\u001b[0;34m.\u001b[0m\u001b[0mappend\u001b[0m\u001b[0;34m(\u001b[0m\u001b[0mline\u001b[0m\u001b[0;34m)\u001b[0m\u001b[0;34m\u001b[0m\u001b[0m\n\u001b[1;32m   1531\u001b[0m \u001b[0;34m\u001b[0m\u001b[0m\n",
      "\u001b[0;32m/opt/conda/lib/python3.6/site-packages/matplotlib/axes/_base.py\u001b[0m in \u001b[0;36madd_line\u001b[0;34m(self, line)\u001b[0m\n\u001b[1;32m   1958\u001b[0m             \u001b[0mline\u001b[0m\u001b[0;34m.\u001b[0m\u001b[0mset_clip_path\u001b[0m\u001b[0;34m(\u001b[0m\u001b[0mself\u001b[0m\u001b[0;34m.\u001b[0m\u001b[0mpatch\u001b[0m\u001b[0;34m)\u001b[0m\u001b[0;34m\u001b[0m\u001b[0m\n\u001b[1;32m   1959\u001b[0m \u001b[0;34m\u001b[0m\u001b[0m\n\u001b[0;32m-> 1960\u001b[0;31m         \u001b[0mself\u001b[0m\u001b[0;34m.\u001b[0m\u001b[0m_update_line_limits\u001b[0m\u001b[0;34m(\u001b[0m\u001b[0mline\u001b[0m\u001b[0;34m)\u001b[0m\u001b[0;34m\u001b[0m\u001b[0m\n\u001b[0m\u001b[1;32m   1961\u001b[0m         \u001b[0;32mif\u001b[0m \u001b[0;32mnot\u001b[0m \u001b[0mline\u001b[0m\u001b[0;34m.\u001b[0m\u001b[0mget_label\u001b[0m\u001b[0;34m(\u001b[0m\u001b[0;34m)\u001b[0m\u001b[0;34m:\u001b[0m\u001b[0;34m\u001b[0m\u001b[0m\n\u001b[1;32m   1962\u001b[0m             \u001b[0mline\u001b[0m\u001b[0;34m.\u001b[0m\u001b[0mset_label\u001b[0m\u001b[0;34m(\u001b[0m\u001b[0;34m'_line%d'\u001b[0m \u001b[0;34m%\u001b[0m \u001b[0mlen\u001b[0m\u001b[0;34m(\u001b[0m\u001b[0mself\u001b[0m\u001b[0;34m.\u001b[0m\u001b[0mlines\u001b[0m\u001b[0;34m)\u001b[0m\u001b[0;34m)\u001b[0m\u001b[0;34m\u001b[0m\u001b[0m\n",
      "\u001b[0;32m/opt/conda/lib/python3.6/site-packages/matplotlib/axes/_base.py\u001b[0m in \u001b[0;36m_update_line_limits\u001b[0;34m(self, line)\u001b[0m\n\u001b[1;32m   1980\u001b[0m         \u001b[0mFigures\u001b[0m \u001b[0mout\u001b[0m \u001b[0mthe\u001b[0m \u001b[0mdata\u001b[0m \u001b[0mlimit\u001b[0m \u001b[0mof\u001b[0m \u001b[0mthe\u001b[0m \u001b[0mgiven\u001b[0m \u001b[0mline\u001b[0m\u001b[0;34m,\u001b[0m \u001b[0mupdating\u001b[0m \u001b[0mself\u001b[0m\u001b[0;34m.\u001b[0m\u001b[0mdataLim\u001b[0m\u001b[0;34m.\u001b[0m\u001b[0;34m\u001b[0m\u001b[0m\n\u001b[1;32m   1981\u001b[0m         \"\"\"\n\u001b[0;32m-> 1982\u001b[0;31m         \u001b[0mpath\u001b[0m \u001b[0;34m=\u001b[0m \u001b[0mline\u001b[0m\u001b[0;34m.\u001b[0m\u001b[0mget_path\u001b[0m\u001b[0;34m(\u001b[0m\u001b[0;34m)\u001b[0m\u001b[0;34m\u001b[0m\u001b[0m\n\u001b[0m\u001b[1;32m   1983\u001b[0m         \u001b[0;32mif\u001b[0m \u001b[0mpath\u001b[0m\u001b[0;34m.\u001b[0m\u001b[0mvertices\u001b[0m\u001b[0;34m.\u001b[0m\u001b[0msize\u001b[0m \u001b[0;34m==\u001b[0m \u001b[0;36m0\u001b[0m\u001b[0;34m:\u001b[0m\u001b[0;34m\u001b[0m\u001b[0m\n\u001b[1;32m   1984\u001b[0m             \u001b[0;32mreturn\u001b[0m\u001b[0;34m\u001b[0m\u001b[0m\n",
      "\u001b[0;32m/opt/conda/lib/python3.6/site-packages/matplotlib/lines.py\u001b[0m in \u001b[0;36mget_path\u001b[0;34m(self)\u001b[0m\n\u001b[1;32m    954\u001b[0m         \"\"\"\n\u001b[1;32m    955\u001b[0m         \u001b[0;32mif\u001b[0m \u001b[0mself\u001b[0m\u001b[0;34m.\u001b[0m\u001b[0m_invalidy\u001b[0m \u001b[0;32mor\u001b[0m \u001b[0mself\u001b[0m\u001b[0;34m.\u001b[0m\u001b[0m_invalidx\u001b[0m\u001b[0;34m:\u001b[0m\u001b[0;34m\u001b[0m\u001b[0m\n\u001b[0;32m--> 956\u001b[0;31m             \u001b[0mself\u001b[0m\u001b[0;34m.\u001b[0m\u001b[0mrecache\u001b[0m\u001b[0;34m(\u001b[0m\u001b[0;34m)\u001b[0m\u001b[0;34m\u001b[0m\u001b[0m\n\u001b[0m\u001b[1;32m    957\u001b[0m         \u001b[0;32mreturn\u001b[0m \u001b[0mself\u001b[0m\u001b[0;34m.\u001b[0m\u001b[0m_path\u001b[0m\u001b[0;34m\u001b[0m\u001b[0m\n\u001b[1;32m    958\u001b[0m \u001b[0;34m\u001b[0m\u001b[0m\n",
      "\u001b[0;32m/opt/conda/lib/python3.6/site-packages/matplotlib/lines.py\u001b[0m in \u001b[0;36mrecache\u001b[0;34m(self, always)\u001b[0m\n\u001b[1;32m    655\u001b[0m         \u001b[0;32mif\u001b[0m \u001b[0malways\u001b[0m \u001b[0;32mor\u001b[0m \u001b[0mself\u001b[0m\u001b[0;34m.\u001b[0m\u001b[0m_invalidy\u001b[0m\u001b[0;34m:\u001b[0m\u001b[0;34m\u001b[0m\u001b[0m\n\u001b[1;32m    656\u001b[0m             \u001b[0myconv\u001b[0m \u001b[0;34m=\u001b[0m \u001b[0mself\u001b[0m\u001b[0;34m.\u001b[0m\u001b[0mconvert_yunits\u001b[0m\u001b[0;34m(\u001b[0m\u001b[0mself\u001b[0m\u001b[0;34m.\u001b[0m\u001b[0m_yorig\u001b[0m\u001b[0;34m)\u001b[0m\u001b[0;34m\u001b[0m\u001b[0m\n\u001b[0;32m--> 657\u001b[0;31m             \u001b[0my\u001b[0m \u001b[0;34m=\u001b[0m \u001b[0m_to_unmasked_float_array\u001b[0m\u001b[0;34m(\u001b[0m\u001b[0myconv\u001b[0m\u001b[0;34m)\u001b[0m\u001b[0;34m.\u001b[0m\u001b[0mravel\u001b[0m\u001b[0;34m(\u001b[0m\u001b[0;34m)\u001b[0m\u001b[0;34m\u001b[0m\u001b[0m\n\u001b[0m\u001b[1;32m    658\u001b[0m         \u001b[0;32melse\u001b[0m\u001b[0;34m:\u001b[0m\u001b[0;34m\u001b[0m\u001b[0m\n\u001b[1;32m    659\u001b[0m             \u001b[0my\u001b[0m \u001b[0;34m=\u001b[0m \u001b[0mself\u001b[0m\u001b[0;34m.\u001b[0m\u001b[0m_y\u001b[0m\u001b[0;34m\u001b[0m\u001b[0m\n",
      "\u001b[0;32m/opt/conda/lib/python3.6/site-packages/matplotlib/cbook/__init__.py\u001b[0m in \u001b[0;36m_to_unmasked_float_array\u001b[0;34m(x)\u001b[0m\n\u001b[1;32m   2050\u001b[0m         \u001b[0;32mreturn\u001b[0m \u001b[0mnp\u001b[0m\u001b[0;34m.\u001b[0m\u001b[0mma\u001b[0m\u001b[0;34m.\u001b[0m\u001b[0masarray\u001b[0m\u001b[0;34m(\u001b[0m\u001b[0mx\u001b[0m\u001b[0;34m,\u001b[0m \u001b[0mfloat\u001b[0m\u001b[0;34m)\u001b[0m\u001b[0;34m.\u001b[0m\u001b[0mfilled\u001b[0m\u001b[0;34m(\u001b[0m\u001b[0mnp\u001b[0m\u001b[0;34m.\u001b[0m\u001b[0mnan\u001b[0m\u001b[0;34m)\u001b[0m\u001b[0;34m\u001b[0m\u001b[0m\n\u001b[1;32m   2051\u001b[0m     \u001b[0;32melse\u001b[0m\u001b[0;34m:\u001b[0m\u001b[0;34m\u001b[0m\u001b[0m\n\u001b[0;32m-> 2052\u001b[0;31m         \u001b[0;32mreturn\u001b[0m \u001b[0mnp\u001b[0m\u001b[0;34m.\u001b[0m\u001b[0masarray\u001b[0m\u001b[0;34m(\u001b[0m\u001b[0mx\u001b[0m\u001b[0;34m,\u001b[0m \u001b[0mfloat\u001b[0m\u001b[0;34m)\u001b[0m\u001b[0;34m\u001b[0m\u001b[0m\n\u001b[0m\u001b[1;32m   2053\u001b[0m \u001b[0;34m\u001b[0m\u001b[0m\n\u001b[1;32m   2054\u001b[0m \u001b[0;34m\u001b[0m\u001b[0m\n",
      "\u001b[0;32m/opt/conda/lib/python3.6/site-packages/numpy/core/numeric.py\u001b[0m in \u001b[0;36masarray\u001b[0;34m(a, dtype, order)\u001b[0m\n\u001b[1;32m    499\u001b[0m \u001b[0;34m\u001b[0m\u001b[0m\n\u001b[1;32m    500\u001b[0m     \"\"\"\n\u001b[0;32m--> 501\u001b[0;31m     \u001b[0;32mreturn\u001b[0m \u001b[0marray\u001b[0m\u001b[0;34m(\u001b[0m\u001b[0ma\u001b[0m\u001b[0;34m,\u001b[0m \u001b[0mdtype\u001b[0m\u001b[0;34m,\u001b[0m \u001b[0mcopy\u001b[0m\u001b[0;34m=\u001b[0m\u001b[0;32mFalse\u001b[0m\u001b[0;34m,\u001b[0m \u001b[0morder\u001b[0m\u001b[0;34m=\u001b[0m\u001b[0morder\u001b[0m\u001b[0;34m)\u001b[0m\u001b[0;34m\u001b[0m\u001b[0m\n\u001b[0m\u001b[1;32m    502\u001b[0m \u001b[0;34m\u001b[0m\u001b[0m\n\u001b[1;32m    503\u001b[0m \u001b[0;34m\u001b[0m\u001b[0m\n",
      "\u001b[0;31mValueError\u001b[0m: setting an array element with a sequence."
     ]
    },
    {
     "data": {
      "image/png": "[encoded data removed]",
      "text/plain": [
       "<Figure size 432x288 with 1 Axes>"
      ]
     },
     "metadata": {},
     "output_type": "display_data"
    }
   ],
   "source": [
    "step_counts = [4, 8, 16, 32, 64, 128, 256, 512, 1024]  # Panel numbers to use\n",
    "n0 = 100000\n",
    "t0 = 0\n",
    "dt = 1\n",
    "analytic_result = analytic(n0, t0)\n",
    "fractional_errors_euler = [abs(solve_euler(f_rad, n0, t0, dt, N) - analytic_result)/analytic_result for N in step_counts]\n",
    "fractional_errors_rk4 = [abs(solve_RK4(f_rad, n0, t0, dt, N) - analytic_result)/analytic_result for N in step_counts]\n",
    "plt.plot(step_counts, fractional_errors_euler, color = 'green', label = 'Euler')\n",
    "plt.plot(step_counts, fractional_errors_euler, color = 'red', label = 'RK4')\n",
    "plt.xscale('log')\n",
    "plt.yscale('log')\n",
    "plt.xlabel(\"N\")\n",
    "plt.ylabel(\"Fractional error\")\n",
    "plt.title(\"Fractional errors of the RK4 and Euler methods vs the number of steps\")\n",
    "plt.legend()\n"
   ]
  }
 ],
 "metadata": {
  "kernelspec": {
   "display_name": "Python 3",
   "language": "python",
   "name": "python3"
  },
  "language_info": {
   "codemirror_mode": {
    "name": "ipython",
    "version": 3
   },
   "file_extension": ".py",
   "mimetype": "text/x-python",
   "name": "python",
   "nbconvert_exporter": "python",
   "pygments_lexer": "ipython3",
   "version": "3.6.3"
  },
  "toc": {
   "base_numbering": 1,
   "nav_menu": {},
   "number_sections": false,
   "sideBar": true,
   "skip_h1_title": false,
   "title_cell": "Table of Contents",
   "title_sidebar": "Contents",
   "toc_cell": false,
   "toc_position": {},
   "toc_section_display": true,
   "toc_window_display": false
  }
 },
 "nbformat": 4,
 "nbformat_minor": 2
}
