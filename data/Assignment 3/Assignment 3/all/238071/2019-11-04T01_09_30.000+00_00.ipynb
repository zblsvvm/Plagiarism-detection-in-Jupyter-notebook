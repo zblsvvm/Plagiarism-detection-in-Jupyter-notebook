{
 "cells": [
  {
   "cell_type": "markdown",
   "metadata": {
    "deletable": false,
    "editable": false,
    "nbgrader": {
     "cell_type": "markdown",
     "checksum": "9e255c2f6a00086caac01bd9f93ae0fd",
     "grade": false,
     "grade_id": "cell-653a2d7b8720a14f",
     "locked": true,
     "schema_version": 3,
     "solution": false
    }
   },
   "source": [
    "# <center>L2 Computational Physics</center>\n",
    "\n",
    "## <center>Week 3: Differential Equations I</center>"
   ]
  },
  {
   "cell_type": "code",
   "execution_count": 1,
   "metadata": {
    "deletable": false,
    "editable": false,
    "nbgrader": {
     "cell_type": "code",
     "checksum": "96aa70f20e306039b1ae0aad9e021a86",
     "grade": false,
     "grade_id": "imports",
     "locked": true,
     "schema_version": 3,
     "solution": false
    }
   },
   "outputs": [],
   "source": [
    "# usual packages to import\n",
    "import numpy \n",
    "import matplotlib.pyplot as plt\n",
    "%matplotlib inline"
   ]
  },
  {
   "cell_type": "markdown",
   "metadata": {
    "deletable": false,
    "editable": false,
    "nbgrader": {
     "cell_type": "markdown",
     "checksum": "b26b91b158cd26a964af9866fcae4f62",
     "grade": false,
     "grade_id": "introduction",
     "locked": true,
     "schema_version": 3,
     "solution": false
    }
   },
   "source": [
    "In this notebook, you will generate and plot the decay curve for Iodine-133 analytically and numerically. $^{133}\\textrm{I}$ has a half life $t_{1/2}$ of 20.8 hours. This means that half of the nuclei will have decayed after time $t_{1/2}$. Derive the mean lifetime $\\tau$ from that information."
   ]
  },
  {
   "cell_type": "code",
   "execution_count": 82,
   "metadata": {
    "deletable": false,
    "nbgrader": {
     "cell_type": "code",
     "checksum": "1f32203e67620dad43f0e3253b2b80d0",
     "grade": false,
     "grade_id": "constants",
     "locked": false,
     "schema_version": 3,
     "solution": true
    }
   },
   "outputs": [],
   "source": [
    "# define a function to calculate the mean lifetime from the half life\n",
    "def meanLifetime(halfLife):\n",
    "    return halfLife/numpy.log(2)\n",
    "\n",
    "T_HALF = 20.8\n",
    "TAU = meanLifetime(T_HALF)\n"
   ]
  },
  {
   "cell_type": "markdown",
   "metadata": {
    "deletable": false,
    "editable": false,
    "nbgrader": {
     "cell_type": "markdown",
     "checksum": "474783dac86dd74a9510b7a6dccccb55",
     "grade": false,
     "grade_id": "cell-7ed602ac8b4a8623",
     "locked": true,
     "schema_version": 3,
     "solution": false
    }
   },
   "source": [
    "Check your average lifetime:"
   ]
  },
  {
   "cell_type": "code",
   "execution_count": 83,
   "metadata": {
    "deletable": false,
    "editable": false,
    "nbgrader": {
     "cell_type": "code",
     "checksum": "5b581ceaabfd40522833ba0df84148e3",
     "grade": true,
     "grade_id": "constants_check",
     "locked": true,
     "points": 1,
     "schema_version": 3,
     "solution": false
    }
   },
   "outputs": [],
   "source": [
    "# this test is worth 1 mark\n",
    "assert numpy.isclose(TAU, 30.0080568505)         "
   ]
  },
  {
   "cell_type": "markdown",
   "metadata": {
    "deletable": false,
    "editable": false,
    "nbgrader": {
     "cell_type": "markdown",
     "checksum": "6b5e2bcf6c6e49eda2f081cccb315844",
     "grade": false,
     "grade_id": "cell-864b8c95035f9b93",
     "locked": true,
     "schema_version": 3,
     "solution": false
    }
   },
   "source": [
    "### The Decay Equation"
   ]
  },
  {
   "cell_type": "markdown",
   "metadata": {
    "deletable": false,
    "editable": false,
    "nbgrader": {
     "cell_type": "markdown",
     "checksum": "b6c5672c9f405cb9a80f72ab719fc145",
     "grade": false,
     "grade_id": "decay_introduction",
     "locked": true,
     "schema_version": 3,
     "solution": false
    }
   },
   "source": [
    "Implement the function `f_rad` such that the differential equation \n",
    "\n",
    "$$ \\frac{dN}{dt} = f_{rad}(N,t)$$\n",
    "\n",
    "describes the radioactive decay process.\n",
    "\n",
    "- *Your function should return values using hours as the time unit.*\n",
    "- *The function should use the constant* `TAU`."
   ]
  },
  {
   "cell_type": "code",
   "execution_count": 102,
   "metadata": {
    "deletable": false,
    "nbgrader": {
     "cell_type": "code",
     "checksum": "457d82a875c5d8e48187fa31401c9e97",
     "grade": false,
     "grade_id": "decay_function",
     "locked": false,
     "schema_version": 3,
     "solution": true
    }
   },
   "outputs": [],
   "source": [
    "def f_rad(N, t):\n",
    "    return (-1/TAU)*N\n",
    "    # -Landa*N"
   ]
  },
  {
   "cell_type": "markdown",
   "metadata": {
    "deletable": false,
    "editable": false,
    "nbgrader": {
     "cell_type": "markdown",
     "checksum": "1b781e9bfdf185906da10a3fce5afc03",
     "grade": false,
     "grade_id": "cell-d59ccbc070af010b",
     "locked": true,
     "schema_version": 3,
     "solution": false
    }
   },
   "source": [
    "Make sure your function works:"
   ]
  },
  {
   "cell_type": "code",
   "execution_count": 103,
   "metadata": {
    "deletable": false,
    "editable": false,
    "nbgrader": {
     "cell_type": "code",
     "checksum": "87996117de466ae5951d10c9cba1f259",
     "grade": true,
     "grade_id": "decay_test",
     "locked": true,
     "points": 1,
     "schema_version": 3,
     "solution": false
    }
   },
   "outputs": [],
   "source": [
    "# this test cell is worth 1 mark\n",
    "assert numpy.isclose(f_rad(1000, 0), -33.324383681)           "
   ]
  },
  {
   "cell_type": "markdown",
   "metadata": {
    "deletable": false,
    "editable": false,
    "nbgrader": {
     "cell_type": "markdown",
     "checksum": "007a2d2688cd376a73cc4c6d0e0baff1",
     "grade": false,
     "grade_id": "analytic_introduction",
     "locked": true,
     "schema_version": 3,
     "solution": false
    }
   },
   "source": [
    "Solve this first order, ordinary differential equation analytically. Implement this function below, naming it `analytic`. The function should take an initial number of atoms `N0` at time `t=0`, and a time argument. The function should return nuclei count at the time argument. Make sure the function also works for numpy arrays."
   ]
  },
  {
   "cell_type": "code",
   "execution_count": 104,
   "metadata": {
    "deletable": false,
    "nbgrader": {
     "cell_type": "code",
     "checksum": "d5f8a683edd2825602878f6dee9d6c21",
     "grade": false,
     "grade_id": "analytic_function",
     "locked": false,
     "schema_version": 3,
     "solution": true
    }
   },
   "outputs": [],
   "source": [
    "def analytic(N0, t):\n",
    "    return N0*numpy.exp((-1*t)/TAU)"
   ]
  },
  {
   "cell_type": "markdown",
   "metadata": {
    "deletable": false,
    "editable": false,
    "nbgrader": {
     "cell_type": "markdown",
     "checksum": "9a4d0cc32dcf367bc150dd45d10d4285",
     "grade": false,
     "grade_id": "cell-18ca8dc7e04d23a3",
     "locked": true,
     "schema_version": 3,
     "solution": false
    }
   },
   "source": [
    "Check your answer for a single time:"
   ]
  },
  {
   "cell_type": "code",
   "execution_count": 89,
   "metadata": {
    "deletable": false,
    "editable": false,
    "nbgrader": {
     "cell_type": "code",
     "checksum": "ab62ed3d3535e88940e063c1c4a12d84",
     "grade": true,
     "grade_id": "analytic_test",
     "locked": true,
     "points": 1,
     "schema_version": 3,
     "solution": false
    }
   },
   "outputs": [],
   "source": [
    "# this test is worth 1 mark\n",
    "assert numpy.isclose(analytic(1000, 41.6), 250.0)           "
   ]
  },
  {
   "cell_type": "code",
   "execution_count": 90,
   "metadata": {
    "deletable": false,
    "editable": false,
    "nbgrader": {
     "cell_type": "code",
     "checksum": "bafe495357c897607c0ddf170f01b6cd",
     "grade": true,
     "grade_id": "analytic_test_array",
     "locked": true,
     "points": 2,
     "schema_version": 3,
     "solution": false
    }
   },
   "outputs": [],
   "source": [
    "# this test is worth 1 mark\n",
    "assert numpy.isclose(analytic(1000, numpy.arange(0, 60, 6)), \n",
    "                     [1000.        ,  818.77471839,  670.39203948,  548.90005334,\n",
    "                       449.4254866 ,  367.97822623,  301.29126855,  246.68967356,\n",
    "                       201.983268  ,  165.37879338]).all()\n"
   ]
  },
  {
   "cell_type": "markdown",
   "metadata": {
    "deletable": false,
    "editable": false,
    "nbgrader": {
     "cell_type": "markdown",
     "checksum": "307e9faa76135ad8d47eab7472b50e0a",
     "grade": false,
     "grade_id": "cell-e43cb07c20fa5758",
     "locked": true,
     "schema_version": 3,
     "solution": false
    }
   },
   "source": [
    "## Numerically Solving the ODE"
   ]
  },
  {
   "cell_type": "markdown",
   "metadata": {
    "deletable": false,
    "editable": false,
    "nbgrader": {
     "cell_type": "markdown",
     "checksum": "60f79d9c7fa0d2d94bc79706ab1ae03d",
     "grade": false,
     "grade_id": "cell-1cd6e2a66887f196",
     "locked": true,
     "schema_version": 3,
     "solution": false
    }
   },
   "source": [
    "We now wish to solve our differential equation numerically. We shall do this using Euler's and RK4 methods."
   ]
  },
  {
   "cell_type": "markdown",
   "metadata": {
    "deletable": false,
    "editable": false,
    "nbgrader": {
     "cell_type": "markdown",
     "checksum": "506315221a1ce2a83589f0664570efcb",
     "grade": false,
     "grade_id": "cell-1a07e2754604c846",
     "locked": true,
     "schema_version": 3,
     "solution": false
    }
   },
   "source": [
    "### Euler's Method"
   ]
  },
  {
   "cell_type": "markdown",
   "metadata": {
    "deletable": false,
    "editable": false,
    "nbgrader": {
     "cell_type": "markdown",
     "checksum": "d54ff05e541949049048ca38c990052f",
     "grade": false,
     "grade_id": "euler_introduction",
     "locked": true,
     "schema_version": 3,
     "solution": false
    }
   },
   "source": [
    "Create a function which takes as its arguments the initial number of atoms, `n0`, the initial time `t0`, the time step, `dt`, and the number of steps to perform, `n_steps`.  This function should return an array of the number of counts at each time step using Euler's method. This array should contain the initial and final values, so the array length should be `n_steps+1` "
   ]
  },
  {
   "cell_type": "code",
   "execution_count": 141,
   "metadata": {
    "deletable": false,
    "nbgrader": {
     "cell_type": "code",
     "checksum": "013501145cd3d22fc032e943bb1d1ea1",
     "grade": false,
     "grade_id": "euler_function",
     "locked": false,
     "schema_version": 3,
     "solution": true
    }
   },
   "outputs": [],
   "source": [
    "def solve_euler(f, n0, t0, dt, n_panels):\n",
    "    list = numpy.array([analytic(n0,t0)])\n",
    "    list = numpy.append(list,list[0]+dt*f(analytic(n0,t0+(0)*dt),t0+(0)*dt))\n",
    "    for i in range(2,n_panels+1):\n",
    "        list = numpy.append(list,list[i-1]+dt*f(list[i-1],t0+(i-1)*dt))\n",
    "    return list\n",
    "\n"
   ]
  },
  {
   "cell_type": "markdown",
   "metadata": {
    "deletable": false,
    "editable": false,
    "nbgrader": {
     "cell_type": "markdown",
     "checksum": "45340539b0c9b862d47028a5f97eb352",
     "grade": false,
     "grade_id": "cell-00862d5c2364027a",
     "locked": true,
     "schema_version": 3,
     "solution": false
    }
   },
   "source": [
    "Try your solution:"
   ]
  },
  {
   "cell_type": "code",
   "execution_count": 142,
   "metadata": {
    "deletable": false,
    "editable": false,
    "nbgrader": {
     "cell_type": "code",
     "checksum": "4b131e25e6aa3c8dae913e63d911771f",
     "grade": true,
     "grade_id": "euler_test_length",
     "locked": true,
     "points": 1,
     "schema_version": 3,
     "solution": false,
     "task": false
    }
   },
   "outputs": [],
   "source": [
    "# this test is worth 1 mark\n",
    "assert len(solve_euler(f_rad, 1000, 0, 1, 17)) == 18"
   ]
  },
  {
   "cell_type": "code",
   "execution_count": 143,
   "metadata": {
    "deletable": false,
    "editable": false,
    "nbgrader": {
     "cell_type": "code",
     "checksum": "fe20ccbd32656ef965ec3f9a7a415119",
     "grade": true,
     "grade_id": "euler_test_one",
     "locked": true,
     "points": 2,
     "schema_version": 3,
     "solution": false
    }
   },
   "outputs": [],
   "source": [
    "# this test is worth 2 marks\n",
    "assert numpy.isclose(solve_euler(f_rad, 1000, 0, 6, 1), [1000.,  800.05369792]).all()"
   ]
  },
  {
   "cell_type": "code",
   "execution_count": 144,
   "metadata": {
    "deletable": false,
    "editable": false,
    "nbgrader": {
     "cell_type": "code",
     "checksum": "d959639ea019b5a5bf260b744ed9a1e8",
     "grade": true,
     "grade_id": "euler_test_many",
     "locked": true,
     "points": 2,
     "schema_version": 3,
     "solution": false
    }
   },
   "outputs": [],
   "source": [
    "# this test is worth 2 mark\n",
    "assert numpy.isclose(solve_euler(f_rad, 1000, 0, 6, 10), [1000.        ,  800.05369792,  640.08591955,  512.10310692,\n",
    "                                                409.7099844 ,  327.7899881 ,  262.24959212,  209.81375595,\n",
    "                                                167.86227132,  134.29883091,  107.4462763 ]).all()"
   ]
  },
  {
   "cell_type": "markdown",
   "metadata": {
    "deletable": false,
    "editable": false,
    "nbgrader": {
     "cell_type": "markdown",
     "checksum": "860387a32a77ca0cdf4007ccdf282e18",
     "grade": false,
     "grade_id": "cell-9afd689c4b5b66e4",
     "locked": true,
     "schema_version": 3,
     "solution": false,
     "task": false
    }
   },
   "source": [
    "### RK 4 method"
   ]
  },
  {
   "cell_type": "markdown",
   "metadata": {
    "deletable": false,
    "editable": false,
    "nbgrader": {
     "cell_type": "markdown",
     "checksum": "ffb95947375cff594bf6f0659f1467c0",
     "grade": false,
     "grade_id": "cell-b46cd6a3a22d98eb",
     "locked": true,
     "schema_version": 3,
     "solution": false,
     "task": false
    }
   },
   "source": [
    "Implement the RK4 method in the `solve_RK4` function. The arguments are the same as for `solve_euler`."
   ]
  },
  {
   "cell_type": "code",
   "execution_count": 158,
   "metadata": {
    "deletable": false,
    "nbgrader": {
     "cell_type": "code",
     "checksum": "611b8f6c6a052ff1085a80404fc92a2b",
     "grade": false,
     "grade_id": "RK4",
     "locked": false,
     "schema_version": 3,
     "solution": true,
     "task": false
    }
   },
   "outputs": [],
   "source": [
    "def solve_RK4(f, n0, t0, dt, nsteps):\n",
    "    listR = numpy.array([analytic(n0,t0)])\n",
    "    k1 = f(analytic(n0,t0),t0)\n",
    "    k1jump = analytic(n0,t0) + k1*dt/2        \n",
    "    k2 = f(k1jump,t0+dt/2)\n",
    "    k2jump = analytic(n0,t0) + k2*dt/2       \n",
    "    k3 = f(k2jump,t0+dt/2)\n",
    "    k3jump = analytic(n0,t0) + k3*dt     \n",
    "    k4 = f(k3jump,t0+dt/2)\n",
    "    k=(1/6)*(k1+2*k2+2*k3+k4)\n",
    "    listR = numpy.append(listR,listR[0]+dt*k)\n",
    "    for i in range(2,nsteps+1):\n",
    "        k1 = f(listR[i-1],t0+i*dt)\n",
    "        k1jump = listR[i-1] + k1*dt/2        \n",
    "        k2 = f(k1jump,t0)\n",
    "        k2jump = listR[i-1] + k2*dt/2       \n",
    "        k3 = f(k2jump,t0)\n",
    "        k3jump = listR[i-1] + k3*dt     \n",
    "        k4 = f(k3jump,t0)\n",
    "        k=(1/6)*(k1+2*k2+2*k3+k4)\n",
    "        \n",
    "        \n",
    "        listR = numpy.append(listR,listR[i-1]+dt*k)\n",
    "    return listR\n"
   ]
  },
  {
   "cell_type": "code",
   "execution_count": 159,
   "metadata": {
    "deletable": false,
    "editable": false,
    "nbgrader": {
     "cell_type": "code",
     "checksum": "0e92b0664845bd78bc9032ff5795c8f2",
     "grade": true,
     "grade_id": "RK4-test-1",
     "locked": true,
     "points": 1,
     "schema_version": 3,
     "solution": false,
     "task": false
    }
   },
   "outputs": [],
   "source": [
    "# This checks that we return an array of the right length\n",
    "# this test is worth 1 mark\n",
    "assert len(solve_RK4(f_rad, 1000, 0, 1, 17)) == 18"
   ]
  },
  {
   "cell_type": "code",
   "execution_count": 160,
   "metadata": {
    "deletable": false,
    "editable": false,
    "nbgrader": {
     "cell_type": "code",
     "checksum": "2cc4284fa713bc2d5af4f1366e54e7d9",
     "grade": true,
     "grade_id": "RK4-test-2",
     "locked": true,
     "points": 2,
     "schema_version": 3,
     "solution": false,
     "task": false
    }
   },
   "outputs": [],
   "source": [
    "# This checks that a single step is working\n",
    "# this test is worth 2 mark\n",
    "assert numpy.isclose(solve_RK4(f_rad, 1000,0, 6, 1), [1000.,  818.7773]).all()"
   ]
  },
  {
   "cell_type": "code",
   "execution_count": 161,
   "metadata": {
    "deletable": false,
    "editable": false,
    "nbgrader": {
     "cell_type": "code",
     "checksum": "be67647e705ca3915a432ef233c6a96b",
     "grade": true,
     "grade_id": "RK4-test-3",
     "locked": true,
     "points": 2,
     "schema_version": 3,
     "solution": false,
     "task": false
    }
   },
   "outputs": [],
   "source": [
    "# This checks multiple steps\n",
    "# this test is worth 2 marks\n",
    "assert numpy.isclose(solve_RK4(f_rad, 1000, 0, 6, 10), [\n",
    "    1000.,\n",
    "    818.77729521,  \n",
    "    670.39625915,  \n",
    "    548.90523578,\n",
    "    449.43114428,  \n",
    "    367.9840167,  \n",
    "    301.29695787,  \n",
    "    246.69510822, \n",
    "    201.98835345,  \n",
    "    165.3834777,  \n",
    "    135.41223655]).all()"
   ]
  },
  {
   "cell_type": "markdown",
   "metadata": {},
   "source": [
    "## Plotting task"
   ]
  },
  {
   "cell_type": "markdown",
   "metadata": {
    "deletable": false,
    "editable": false,
    "nbgrader": {
     "cell_type": "markdown",
     "checksum": "711a0e023c32f2bbd63b847d0eeaf33a",
     "grade": false,
     "grade_id": "plotting_task",
     "locked": true,
     "points": 5,
     "schema_version": 3,
     "solution": false,
     "task": true
    }
   },
   "source": [
    "**Task 1: **\n",
    "\n",
    "Create a plot to show that the RK4 method has an error that scales better with the number of steps than the Euler method. (click on the \"+\" button to create new cells.)       [task worth 5 marks]\n"
   ]
  },
  {
   "cell_type": "code",
   "execution_count": 175,
   "metadata": {},
   "outputs": [
    {
     "name": "stdout",
     "output_type": "stream",
     "text": [
      "[ 2.83404559e+02  2.50629317e+02  2.18928290e+02  1.88266273e+02\n",
      "  1.58609210e+02  1.29924165e+02  1.02179280e+02  7.53437393e+01\n",
      "  4.93877403e+01  2.42824555e+01  2.52329892e-06 -2.34865872e+01\n",
      " -4.62033982e+01 -6.81756602e+01 -8.94277760e+01 -1.09983349e+02\n",
      " -1.29865207e+02 -1.49095433e+02 -1.67695384e+02 -1.85685716e+02\n",
      " -2.03086412e+02 -2.19916795e+02 -2.36195558e+02 -2.51940781e+02\n",
      " -2.67169950e+02 -2.81899980e+02 -2.96147229e+02 -3.09927521e+02\n",
      " -3.23256161e+02 -3.36147952e+02 -3.48617210e+02 -3.60677786e+02\n",
      " -3.72343074e+02 -3.83626029e+02 -3.94539182e+02 -4.05094654e+02\n",
      " -4.15304168e+02 -4.25179063e+02 -4.34730305e+02 -4.43968504e+02\n",
      " -4.52903918e+02 -4.61546471e+02 -4.69905763e+02 -4.77991077e+02\n",
      " -4.85811393e+02 -4.93375397e+02 -5.00691488e+02 -5.07767792e+02\n",
      " -5.14612169e+02 -5.21232220e+02 -5.27635297e+02 -5.33828511e+02\n",
      " -5.39818742e+02 -5.45612641e+02 -5.51216644e+02 -5.56636974e+02\n",
      " -5.61879652e+02 -5.66950499e+02 -5.71855149e+02 -5.76599047e+02\n",
      " -5.81187463e+02 -5.85625492e+02 -5.89918064e+02 -5.94069946e+02\n",
      " -5.98085749e+02 -6.01969932e+02 -6.05726811e+02 -6.09360558e+02\n",
      " -6.12875207e+02 -6.16274663e+02 -6.19562701e+02 -6.22742972e+02\n",
      " -6.25819010e+02 -6.28794229e+02 -6.31671935e+02 -6.34455324e+02\n",
      " -6.37147486e+02 -6.39751412e+02 -6.42269994e+02 -6.44706028e+02\n",
      " -6.47062221e+02 -6.49341189e+02 -6.51545464e+02 -6.53677493e+02\n",
      " -6.55739644e+02 -6.57734207e+02 -6.59663398e+02 -6.61529360e+02\n",
      " -6.63334164e+02 -6.65079815e+02 -6.66768252e+02 -6.68401351e+02\n",
      " -6.69980924e+02 -6.71508726e+02 -6.72986454e+02 -6.74415749e+02\n",
      " -6.75798199e+02 -6.77135338e+02 -6.78428653e+02 -6.79679578e+02\n",
      " -6.80889505e+02 -6.82059775e+02 -6.83191690e+02 -6.84286506e+02\n",
      " -6.85345439e+02 -6.86369666e+02 -6.87360323e+02 -6.88318511e+02\n",
      " -6.89245294e+02 -6.90141702e+02 -6.91008730e+02 -6.91847340e+02\n",
      " -6.92658465e+02 -6.93443005e+02 -6.94201832e+02 -6.94935788e+02\n",
      " -6.95645688e+02 -6.96332322e+02 -6.96996450e+02 -6.97638812e+02\n",
      " -6.98260120e+02 -6.98861065e+02 -6.99442313e+02 -7.00004511e+02\n",
      " -7.00548283e+02 -7.01074232e+02 -7.01582944e+02 -7.02074982e+02\n",
      " -7.02550893e+02 -7.03011207e+02 -7.03456433e+02 -7.03887068e+02\n",
      " -7.04303588e+02 -7.04706456e+02 -7.05096120e+02 -7.05473013e+02\n",
      " -7.05837554e+02 -7.06190146e+02 -7.06531182e+02 -7.06861041e+02\n",
      " -7.07180088e+02 -7.07488678e+02 -7.07787155e+02 -7.08075848e+02\n",
      " -7.08355080e+02 -7.08625160e+02 -7.08886388e+02 -7.09139054e+02\n",
      " -7.09383439e+02 -7.09619814e+02 -7.09848442e+02 -7.10069576e+02\n",
      " -7.10283463e+02 -7.10490340e+02 -7.10690436e+02 -7.10883974e+02\n",
      " -7.11071168e+02 -7.11252228e+02 -7.11427353e+02 -7.11596738e+02\n",
      " -7.11760572e+02 -7.11919036e+02 -7.12072306e+02 -7.12220553e+02\n",
      " -7.12363941e+02 -7.12502629e+02 -7.12636772e+02 -7.12766519e+02\n",
      " -7.12892012e+02 -7.13013393e+02 -7.13130796e+02 -7.13244350e+02\n",
      " -7.13354183e+02 -7.13460416e+02 -7.13563167e+02 -7.13662551e+02\n",
      " -7.13758677e+02 -7.13851653e+02 -7.13941581e+02 -7.14028562e+02\n",
      " -7.14112692e+02 -7.14194065e+02 -7.14272770e+02 -7.14348896e+02\n",
      " -7.14422527e+02 -7.14493745e+02 -7.14562629e+02 -7.14629255e+02\n",
      " -7.14693697e+02 -7.14756027e+02 -7.14816314e+02 -7.14874625e+02\n",
      " -7.14931026e+02 -7.14985577e+02 -7.15038341e+02 -7.15089375e+02\n",
      " -7.15138737e+02 -7.15186481e+02 -7.15232660e+02 -7.15277325e+02\n",
      " -7.15320527e+02 -7.15362312e+02 -7.15402728e+02 -7.15441820e+02\n",
      " -7.15479630e+02 -7.15516201e+02 -7.15551573e+02 -7.15585786e+02\n",
      " -7.15618878e+02 -7.15650885e+02 -7.15681843e+02 -7.15711786e+02\n",
      " -7.15740748e+02 -7.15768761e+02 -7.15795856e+02 -7.15822062e+02\n",
      " -7.15847410e+02 -7.15871927e+02 -7.15895640e+02 -7.15918576e+02\n",
      " -7.15940761e+02 -7.15962218e+02 -7.15982972e+02 -7.16003046e+02\n",
      " -7.16022462e+02 -7.16041241e+02 -7.16059405e+02 -7.16076974e+02\n",
      " -7.16093967e+02 -7.16110403e+02 -7.16126300e+02 -7.16141676e+02\n",
      " -7.16156548e+02 -7.16170933e+02 -7.16184847e+02 -7.16198304e+02\n",
      " -7.16211320e+02 -7.16223910e+02 -7.16236087e+02 -7.16247865e+02\n",
      " -7.16259257e+02 -7.16270275e+02 -7.16280932e+02 -7.16291240e+02\n",
      " -7.16301211e+02 -7.16310854e+02 -7.16320182e+02 -7.16329203e+02\n",
      " -7.16337929e+02 -7.16346369e+02 -7.16354533e+02 -7.16362428e+02\n",
      " -7.16370065e+02 -7.16377452e+02 -7.16384597e+02 -7.16391507e+02\n",
      " -7.16398191e+02 -7.16404656e+02 -7.16410909e+02 -7.16416957e+02\n",
      " -7.16422807e+02 -7.16428465e+02 -7.16433938e+02 -7.16439231e+02\n",
      " -7.16444351e+02 -7.16449303e+02 -7.16454093e+02 -7.16458725e+02\n",
      " -7.16463206e+02 -7.16467540e+02 -7.16471732e+02 -7.16475787e+02\n",
      " -7.16479708e+02 -7.16483502e+02 -7.16487170e+02 -7.16490719e+02\n",
      " -7.16494151e+02 -7.16497471e+02 -7.16500682e+02 -7.16503788e+02\n",
      " -7.16506792e+02 -7.16509697e+02 -7.16512507e+02 -7.16515226e+02\n",
      " -7.16517855e+02 -7.16520398e+02 -7.16522857e+02 -7.16525236e+02\n",
      " -7.16527537e+02 -7.16529763e+02 -7.16531915e+02 -7.16533997e+02\n",
      " -7.16536011e+02 -7.16537959e+02 -7.16539843e+02 -7.16541665e+02\n",
      " -7.16543428e+02 -7.16545132e+02 -7.16546781e+02 -7.16548376e+02\n",
      " -7.16549919e+02 -7.16551411e+02 -7.16552854e+02 -7.16554249e+02\n",
      " -7.16555599e+02 -7.16556905e+02 -7.16558168e+02 -7.16559390e+02\n",
      " -7.16560571e+02 -7.16561714e+02 -7.16562820e+02 -7.16563889e+02\n",
      " -7.16564923e+02 -7.16565923e+02 -7.16566891e+02 -7.16567826e+02\n",
      " -7.16568731e+02 -7.16569607e+02 -7.16570453e+02 -7.16571272e+02\n",
      " -7.16572065e+02 -7.16572831e+02 -7.16573572e+02 -7.16574289e+02\n",
      " -7.16574982e+02 -7.16575652e+02 -7.16576301e+02 -7.16576928e+02\n",
      " -7.16577535e+02 -7.16578122e+02 -7.16578689e+02 -7.16579238e+02\n",
      " -7.16579769e+02 -7.16580283e+02 -7.16580780e+02 -7.16581260e+02\n",
      " -7.16581725e+02 -7.16582175e+02 -7.16582609e+02 -7.16583030e+02\n",
      " -7.16583437e+02 -7.16583830e+02 -7.16584211e+02 -7.16584579e+02\n",
      " -7.16584935e+02 -7.16585279e+02 -7.16585612e+02 -7.16585934e+02\n",
      " -7.16586246e+02 -7.16586547e+02 -7.16586839e+02 -7.16587121e+02\n",
      " -7.16587393e+02 -7.16587657e+02 -7.16587912e+02 -7.16588159e+02\n",
      " -7.16588398e+02 -7.16588628e+02 -7.16588852e+02 -7.16589068e+02\n",
      " -7.16589276e+02 -7.16589478e+02 -7.16589674e+02 -7.16589863e+02\n",
      " -7.16590046e+02 -7.16590223e+02 -7.16590394e+02 -7.16590559e+02\n",
      " -7.16590719e+02 -7.16590874e+02 -7.16591023e+02 -7.16591168e+02\n",
      " -7.16591308e+02 -7.16591444e+02 -7.16591575e+02 -7.16591701e+02\n",
      " -7.16591824e+02 -7.16591942e+02 -7.16592057e+02 -7.16592168e+02\n",
      " -7.16592275e+02 -7.16592379e+02 -7.16592479e+02 -7.16592576e+02\n",
      " -7.16592670e+02 -7.16592761e+02 -7.16592849e+02 -7.16592934e+02\n",
      " -7.16593016e+02 -7.16593095e+02 -7.16593172e+02 -7.16593247e+02\n",
      " -7.16593319e+02 -7.16593388e+02 -7.16593455e+02 -7.16593520e+02\n",
      " -7.16593583e+02 -7.16593644e+02 -7.16593703e+02 -7.16593760e+02\n",
      " -7.16593815e+02 -7.16593868e+02 -7.16593920e+02 -7.16593970e+02\n",
      " -7.16594018e+02 -7.16594065e+02 -7.16594110e+02 -7.16594153e+02\n",
      " -7.16594195e+02 -7.16594236e+02 -7.16594276e+02 -7.16594314e+02\n",
      " -7.16594351e+02 -7.16594387e+02 -7.16594421e+02 -7.16594455e+02\n",
      " -7.16594487e+02 -7.16594518e+02 -7.16594548e+02 -7.16594578e+02\n",
      " -7.16594606e+02 -7.16594633e+02 -7.16594660e+02 -7.16594685e+02\n",
      " -7.16594710e+02 -7.16594734e+02 -7.16594757e+02 -7.16594780e+02\n",
      " -7.16594801e+02 -7.16594822e+02 -7.16594842e+02 -7.16594862e+02\n",
      " -7.16594881e+02 -7.16594899e+02 -7.16594917e+02 -7.16594934e+02\n",
      " -7.16594951e+02 -7.16594967e+02 -7.16594982e+02 -7.16594997e+02\n",
      " -7.16595012e+02 -7.16595026e+02 -7.16595040e+02 -7.16595053e+02\n",
      " -7.16595065e+02 -7.16595078e+02 -7.16595090e+02 -7.16595101e+02\n",
      " -7.16595112e+02 -7.16595123e+02 -7.16595133e+02 -7.16595143e+02\n",
      " -7.16595153e+02 -7.16595163e+02 -7.16595172e+02 -7.16595181e+02\n",
      " -7.16595189e+02 -7.16595197e+02 -7.16595205e+02 -7.16595213e+02\n",
      " -7.16595220e+02 -7.16595228e+02 -7.16595235e+02 -7.16595241e+02\n",
      " -7.16595248e+02 -7.16595254e+02 -7.16595260e+02 -7.16595266e+02\n",
      " -7.16595272e+02 -7.16595277e+02 -7.16595283e+02 -7.16595288e+02\n",
      " -7.16595293e+02 -7.16595298e+02 -7.16595302e+02 -7.16595307e+02\n",
      " -7.16595311e+02 -7.16595316e+02 -7.16595320e+02 -7.16595324e+02\n",
      " -7.16595327e+02 -7.16595331e+02 -7.16595335e+02 -7.16595338e+02\n",
      " -7.16595342e+02 -7.16595345e+02 -7.16595348e+02 -7.16595351e+02\n",
      " -7.16595354e+02 -7.16595357e+02 -7.16595360e+02 -7.16595362e+02\n",
      " -7.16595365e+02 -7.16595367e+02 -7.16595370e+02 -7.16595372e+02\n",
      " -7.16595374e+02 -7.16595376e+02 -7.16595378e+02 -7.16595381e+02\n",
      " -7.16595382e+02 -7.16595384e+02 -7.16595386e+02 -7.16595388e+02\n",
      " -7.16595390e+02 -7.16595391e+02 -7.16595393e+02 -7.16595395e+02\n",
      " -7.16595396e+02 -7.16595398e+02 -7.16595399e+02 -7.16595400e+02\n",
      " -7.16595402e+02]\n"
     ]
    }
   ],
   "source": [
    "dt = numpy.array([])\n",
    "DiffRK4Ana = ([])\n",
    "DiffEulAna = ([])\n",
    "nsteps = numpy.array([4, 8, 16, 32, 64, 128, 256, 512, 1024])\n",
    "dt = 10/nsteps\n",
    "AnalyticMethod = analytic(1000,10)\n",
    "#for i in range(0,8):\n",
    "    #nstep = nsteps[i]\n",
    "DiffRK4Ana = numpy.append(DiffRK4Ana,solve_RK4(f_rad, 1000, 0, 1, nstep)[nsteps] - AnalyticMethod)\n",
    "    #DiffRK4Ana = solve_RK4(f_rad, 1000, 0, 1, nstep) - AnalyticMethod\n",
    "print(DiffRK4Ana)\n",
    "\n",
    "\n",
    "\n",
    "#DiffEulAna = solve_euler(f_rad, 1000, 0, 6, nsteps)[nsteps+1] - AnalyticMethod\n",
    "\n",
    "\n",
    "#y = []\n",
    "#def updated(x): return (result_analytic-integrate_numeric(x0, x1, x))/result_analytic\n",
    "#y = list(map(updated, panel_counts))\n"
   ]
  },
  {
   "cell_type": "code",
   "execution_count": null,
   "metadata": {},
   "outputs": [],
   "source": []
  }
 ],
 "metadata": {
  "kernelspec": {
   "display_name": "Python 3",
   "language": "python",
   "name": "python3"
  },
  "language_info": {
   "codemirror_mode": {
    "name": "ipython",
    "version": 3
   },
   "file_extension": ".py",
   "mimetype": "text/x-python",
   "name": "python",
   "nbconvert_exporter": "python",
   "pygments_lexer": "ipython3",
   "version": "3.6.3"
  },
  "toc": {
   "base_numbering": 1,
   "nav_menu": {},
   "number_sections": false,
   "sideBar": true,
   "skip_h1_title": false,
   "title_cell": "Table of Contents",
   "title_sidebar": "Contents",
   "toc_cell": false,
   "toc_position": {},
   "toc_section_display": true,
   "toc_window_display": false
  }
 },
 "nbformat": 4,
 "nbformat_minor": 2
}
