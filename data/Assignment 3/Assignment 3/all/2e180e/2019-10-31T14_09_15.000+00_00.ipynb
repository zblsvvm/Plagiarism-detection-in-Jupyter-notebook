{
 "cells": [
  {
   "cell_type": "markdown",
   "metadata": {
    "deletable": false,
    "editable": false,
    "nbgrader": {
     "cell_type": "markdown",
     "checksum": "9e255c2f6a00086caac01bd9f93ae0fd",
     "grade": false,
     "grade_id": "cell-653a2d7b8720a14f",
     "locked": true,
     "schema_version": 3,
     "solution": false
    }
   },
   "source": [
    "# <center>L2 Computational Physics</center>\n",
    "\n",
    "## <center>Week 3: Differential Equations I</center>"
   ]
  },
  {
   "cell_type": "code",
   "execution_count": 31,
   "metadata": {
    "deletable": false,
    "editable": false,
    "nbgrader": {
     "cell_type": "code",
     "checksum": "96aa70f20e306039b1ae0aad9e021a86",
     "grade": false,
     "grade_id": "imports",
     "locked": true,
     "schema_version": 3,
     "solution": false
    }
   },
   "outputs": [],
   "source": [
    "# usual packages to import\n",
    "import numpy \n",
    "import matplotlib.pyplot as plt\n",
    "%matplotlib inline"
   ]
  },
  {
   "cell_type": "markdown",
   "metadata": {
    "deletable": false,
    "editable": false,
    "nbgrader": {
     "cell_type": "markdown",
     "checksum": "b26b91b158cd26a964af9866fcae4f62",
     "grade": false,
     "grade_id": "introduction",
     "locked": true,
     "schema_version": 3,
     "solution": false
    }
   },
   "source": [
    "In this notebook, you will generate and plot the decay curve for Iodine-133 analytically and numerically. $^{133}\\textrm{I}$ has a half life $t_{1/2}$ of 20.8 hours. This means that half of the nuclei will have decayed after time $t_{1/2}$. Derive the mean lifetime $\\tau$ from that information."
   ]
  },
  {
   "cell_type": "code",
   "execution_count": 32,
   "metadata": {
    "deletable": false,
    "nbgrader": {
     "cell_type": "code",
     "checksum": "1f32203e67620dad43f0e3253b2b80d0",
     "grade": false,
     "grade_id": "constants",
     "locked": false,
     "schema_version": 3,
     "solution": true
    }
   },
   "outputs": [],
   "source": [
    "# define a function to calculate the mean lifetime from the half life\n",
    "def meanLifetime(halfLife):\n",
    "    # YOUR CODE HERE\n",
    "    return halfLife/numpy.log(2)\n",
    "\n",
    "T_HALF = 20.8\n",
    "TAU = meanLifetime(T_HALF)\n",
    "\n"
   ]
  },
  {
   "cell_type": "markdown",
   "metadata": {
    "deletable": false,
    "editable": false,
    "nbgrader": {
     "cell_type": "markdown",
     "checksum": "474783dac86dd74a9510b7a6dccccb55",
     "grade": false,
     "grade_id": "cell-7ed602ac8b4a8623",
     "locked": true,
     "schema_version": 3,
     "solution": false
    }
   },
   "source": [
    "Check your average lifetime:"
   ]
  },
  {
   "cell_type": "code",
   "execution_count": 33,
   "metadata": {
    "deletable": false,
    "editable": false,
    "nbgrader": {
     "cell_type": "code",
     "checksum": "5b581ceaabfd40522833ba0df84148e3",
     "grade": true,
     "grade_id": "constants_check",
     "locked": true,
     "points": 1,
     "schema_version": 3,
     "solution": false
    }
   },
   "outputs": [],
   "source": [
    "# this test is worth 1 mark\n",
    "assert numpy.isclose(TAU, 30.0080568505)         "
   ]
  },
  {
   "cell_type": "markdown",
   "metadata": {
    "deletable": false,
    "editable": false,
    "nbgrader": {
     "cell_type": "markdown",
     "checksum": "6b5e2bcf6c6e49eda2f081cccb315844",
     "grade": false,
     "grade_id": "cell-864b8c95035f9b93",
     "locked": true,
     "schema_version": 3,
     "solution": false
    }
   },
   "source": [
    "### The Decay Equation"
   ]
  },
  {
   "cell_type": "markdown",
   "metadata": {
    "deletable": false,
    "editable": false,
    "nbgrader": {
     "cell_type": "markdown",
     "checksum": "b6c5672c9f405cb9a80f72ab719fc145",
     "grade": false,
     "grade_id": "decay_introduction",
     "locked": true,
     "schema_version": 3,
     "solution": false
    }
   },
   "source": [
    "Implement the function `f_rad` such that the differential equation \n",
    "\n",
    "$$ \\frac{dN}{dt} = f_{rad}(N,t)$$\n",
    "\n",
    "describes the radioactive decay process.\n",
    "\n",
    "- *Your function should return values using hours as the time unit.*\n",
    "- *The function should use the constant* `TAU`."
   ]
  },
  {
   "cell_type": "code",
   "execution_count": 34,
   "metadata": {
    "deletable": false,
    "nbgrader": {
     "cell_type": "code",
     "checksum": "457d82a875c5d8e48187fa31401c9e97",
     "grade": false,
     "grade_id": "decay_function",
     "locked": false,
     "schema_version": 3,
     "solution": true
    }
   },
   "outputs": [],
   "source": [
    "def f_rad(N, t):\n",
    "    # YOUR CODE HERE\n",
    "    return -N / TAU"
   ]
  },
  {
   "cell_type": "markdown",
   "metadata": {
    "deletable": false,
    "editable": false,
    "nbgrader": {
     "cell_type": "markdown",
     "checksum": "1b781e9bfdf185906da10a3fce5afc03",
     "grade": false,
     "grade_id": "cell-d59ccbc070af010b",
     "locked": true,
     "schema_version": 3,
     "solution": false
    }
   },
   "source": [
    "Make sure your function works:"
   ]
  },
  {
   "cell_type": "code",
   "execution_count": 35,
   "metadata": {
    "deletable": false,
    "editable": false,
    "nbgrader": {
     "cell_type": "code",
     "checksum": "87996117de466ae5951d10c9cba1f259",
     "grade": true,
     "grade_id": "decay_test",
     "locked": true,
     "points": 1,
     "schema_version": 3,
     "solution": false
    }
   },
   "outputs": [],
   "source": [
    "# this test cell is worth 1 mark\n",
    "assert numpy.isclose(f_rad(1000, 0), -33.324383681)           "
   ]
  },
  {
   "cell_type": "markdown",
   "metadata": {
    "deletable": false,
    "editable": false,
    "nbgrader": {
     "cell_type": "markdown",
     "checksum": "007a2d2688cd376a73cc4c6d0e0baff1",
     "grade": false,
     "grade_id": "analytic_introduction",
     "locked": true,
     "schema_version": 3,
     "solution": false
    }
   },
   "source": [
    "Solve this first order, ordinary differential equation analytically. Implement this function below, naming it `analytic`. The function should take an initial number of atoms `N0` at time `t=0`, and a time argument. The function should return nuclei count at the time argument. Make sure the function also works for numpy arrays."
   ]
  },
  {
   "cell_type": "code",
   "execution_count": 36,
   "metadata": {
    "deletable": false,
    "nbgrader": {
     "cell_type": "code",
     "checksum": "d5f8a683edd2825602878f6dee9d6c21",
     "grade": false,
     "grade_id": "analytic_function",
     "locked": false,
     "schema_version": 3,
     "solution": true
    }
   },
   "outputs": [],
   "source": [
    "def analytic(N0, t):\n",
    "    # YOUR CODE HERE\n",
    "    return N0 * numpy.exp(-t/TAU)"
   ]
  },
  {
   "cell_type": "markdown",
   "metadata": {
    "deletable": false,
    "editable": false,
    "nbgrader": {
     "cell_type": "markdown",
     "checksum": "9a4d0cc32dcf367bc150dd45d10d4285",
     "grade": false,
     "grade_id": "cell-18ca8dc7e04d23a3",
     "locked": true,
     "schema_version": 3,
     "solution": false
    }
   },
   "source": [
    "Check your answer for a single time:"
   ]
  },
  {
   "cell_type": "code",
   "execution_count": 37,
   "metadata": {
    "deletable": false,
    "editable": false,
    "nbgrader": {
     "cell_type": "code",
     "checksum": "ab62ed3d3535e88940e063c1c4a12d84",
     "grade": true,
     "grade_id": "analytic_test",
     "locked": true,
     "points": 1,
     "schema_version": 3,
     "solution": false
    }
   },
   "outputs": [],
   "source": [
    "# this test is worth 1 mark\n",
    "assert numpy.isclose(analytic(1000, 41.6), 250.0)           "
   ]
  },
  {
   "cell_type": "code",
   "execution_count": 38,
   "metadata": {
    "deletable": false,
    "editable": false,
    "nbgrader": {
     "cell_type": "code",
     "checksum": "bafe495357c897607c0ddf170f01b6cd",
     "grade": true,
     "grade_id": "analytic_test_array",
     "locked": true,
     "points": 2,
     "schema_version": 3,
     "solution": false
    }
   },
   "outputs": [],
   "source": [
    "# this test is worth 1 mark\n",
    "assert numpy.isclose(analytic(1000, numpy.arange(0, 60, 6)), \n",
    "                     [1000.        ,  818.77471839,  670.39203948,  548.90005334,\n",
    "                       449.4254866 ,  367.97822623,  301.29126855,  246.68967356,\n",
    "                       201.983268  ,  165.37879338]).all()\n"
   ]
  },
  {
   "cell_type": "markdown",
   "metadata": {
    "deletable": false,
    "editable": false,
    "nbgrader": {
     "cell_type": "markdown",
     "checksum": "307e9faa76135ad8d47eab7472b50e0a",
     "grade": false,
     "grade_id": "cell-e43cb07c20fa5758",
     "locked": true,
     "schema_version": 3,
     "solution": false
    }
   },
   "source": [
    "## Numerically Solving the ODE"
   ]
  },
  {
   "cell_type": "markdown",
   "metadata": {
    "deletable": false,
    "editable": false,
    "nbgrader": {
     "cell_type": "markdown",
     "checksum": "60f79d9c7fa0d2d94bc79706ab1ae03d",
     "grade": false,
     "grade_id": "cell-1cd6e2a66887f196",
     "locked": true,
     "schema_version": 3,
     "solution": false
    }
   },
   "source": [
    "We now wish to solve our differential equation numerically. We shall do this using Euler's and RK4 methods."
   ]
  },
  {
   "cell_type": "markdown",
   "metadata": {
    "deletable": false,
    "editable": false,
    "nbgrader": {
     "cell_type": "markdown",
     "checksum": "506315221a1ce2a83589f0664570efcb",
     "grade": false,
     "grade_id": "cell-1a07e2754604c846",
     "locked": true,
     "schema_version": 3,
     "solution": false
    }
   },
   "source": [
    "### Euler's Method"
   ]
  },
  {
   "cell_type": "markdown",
   "metadata": {
    "deletable": false,
    "editable": false,
    "nbgrader": {
     "cell_type": "markdown",
     "checksum": "d54ff05e541949049048ca38c990052f",
     "grade": false,
     "grade_id": "euler_introduction",
     "locked": true,
     "schema_version": 3,
     "solution": false
    }
   },
   "source": [
    "Create a function which takes as its arguments the initial number of atoms, `n0`, the initial time `t0`, the time step, `dt`, and the number of steps to perform, `n_steps`.  This function should return an array of the number of counts at each time step using Euler's method. This array should contain the initial and final values, so the array length should be `n_steps+1` "
   ]
  },
  {
   "cell_type": "code",
   "execution_count": 39,
   "metadata": {
    "deletable": false,
    "nbgrader": {
     "cell_type": "code",
     "checksum": "013501145cd3d22fc032e943bb1d1ea1",
     "grade": false,
     "grade_id": "euler_function",
     "locked": false,
     "schema_version": 3,
     "solution": true
    }
   },
   "outputs": [],
   "source": [
    "def solve_euler(f, n0, t0, dt, n_panels):\n",
    "    # YOUR CODE HERE\n",
    "    array = []\n",
    "    tf = t0 + n_panels * dt\n",
    "    t = numpy.linspace(t0, tf, n_panels+1)\n",
    "    n = numpy.zeros([n_panels+1])\n",
    "    n[0] = n0\n",
    "    for i in range(1, n_panels + 1):\n",
    "        n[i] = n[i-1] + dt*f(n[i-1],i-1)\n",
    "    return n"
   ]
  },
  {
   "cell_type": "markdown",
   "metadata": {
    "deletable": false,
    "editable": false,
    "nbgrader": {
     "cell_type": "markdown",
     "checksum": "45340539b0c9b862d47028a5f97eb352",
     "grade": false,
     "grade_id": "cell-00862d5c2364027a",
     "locked": true,
     "schema_version": 3,
     "solution": false
    }
   },
   "source": [
    "Try your solution:"
   ]
  },
  {
   "cell_type": "code",
   "execution_count": 40,
   "metadata": {
    "deletable": false,
    "editable": false,
    "nbgrader": {
     "cell_type": "code",
     "checksum": "4b131e25e6aa3c8dae913e63d911771f",
     "grade": true,
     "grade_id": "euler_test_length",
     "locked": true,
     "points": 1,
     "schema_version": 3,
     "solution": false,
     "task": false
    }
   },
   "outputs": [],
   "source": [
    "# this test is worth 1 mark\n",
    "assert len(solve_euler(f_rad, 1000, 0, 1, 17)) == 18"
   ]
  },
  {
   "cell_type": "code",
   "execution_count": 41,
   "metadata": {
    "deletable": false,
    "editable": false,
    "nbgrader": {
     "cell_type": "code",
     "checksum": "fe20ccbd32656ef965ec3f9a7a415119",
     "grade": true,
     "grade_id": "euler_test_one",
     "locked": true,
     "points": 2,
     "schema_version": 3,
     "solution": false
    }
   },
   "outputs": [],
   "source": [
    "# this test is worth 2 marks\n",
    "assert numpy.isclose(solve_euler(f_rad, 1000, 0, 6, 1), [1000.,  800.05369792]).all()"
   ]
  },
  {
   "cell_type": "code",
   "execution_count": 42,
   "metadata": {
    "deletable": false,
    "editable": false,
    "nbgrader": {
     "cell_type": "code",
     "checksum": "d959639ea019b5a5bf260b744ed9a1e8",
     "grade": true,
     "grade_id": "euler_test_many",
     "locked": true,
     "points": 2,
     "schema_version": 3,
     "solution": false
    }
   },
   "outputs": [],
   "source": [
    "# this test is worth 2 mark\n",
    "assert numpy.isclose(solve_euler(f_rad, 1000, 0, 6, 10), [1000.        ,  800.05369792,  640.08591955,  512.10310692,\n",
    "                                                409.7099844 ,  327.7899881 ,  262.24959212,  209.81375595,\n",
    "                                                167.86227132,  134.29883091,  107.4462763 ]).all()"
   ]
  },
  {
   "cell_type": "markdown",
   "metadata": {
    "deletable": false,
    "editable": false,
    "nbgrader": {
     "cell_type": "markdown",
     "checksum": "860387a32a77ca0cdf4007ccdf282e18",
     "grade": false,
     "grade_id": "cell-9afd689c4b5b66e4",
     "locked": true,
     "schema_version": 3,
     "solution": false,
     "task": false
    }
   },
   "source": [
    "### RK 4 method"
   ]
  },
  {
   "cell_type": "markdown",
   "metadata": {
    "deletable": false,
    "editable": false,
    "nbgrader": {
     "cell_type": "markdown",
     "checksum": "ffb95947375cff594bf6f0659f1467c0",
     "grade": false,
     "grade_id": "cell-b46cd6a3a22d98eb",
     "locked": true,
     "schema_version": 3,
     "solution": false,
     "task": false
    }
   },
   "source": [
    "Implement the RK4 method in the `solve_RK4` function. The arguments are the same as for `solve_euler`."
   ]
  },
  {
   "cell_type": "code",
   "execution_count": 43,
   "metadata": {
    "deletable": false,
    "nbgrader": {
     "cell_type": "code",
     "checksum": "611b8f6c6a052ff1085a80404fc92a2b",
     "grade": false,
     "grade_id": "RK4",
     "locked": false,
     "schema_version": 3,
     "solution": true,
     "task": false
    }
   },
   "outputs": [],
   "source": [
    "def solve_RK4(f, n0, t0, dt, nsteps):\n",
    "    # YOUR CODE HERE\n",
    "    array = []\n",
    "    tf = t0 + nsteps * dt\n",
    "    t = numpy.linspace(t0, tf, nsteps+1)\n",
    "    n = numpy.zeros([nsteps+1])\n",
    "    n[0] = n0\n",
    "    for i in range(1, nsteps + 1):\n",
    "        k1 = f(n[i-1], i-1)\n",
    "        k2 = f(n[i-1]+k1*dt/2, i-1+dt/2)\n",
    "        k3 = f(n[i-1]+k2*dt/2, i-1+dt/2)\n",
    "        k4 = f(n[i-1]+k3*dt, i-1+dt)\n",
    "        n[i] = n[i-1] + (1/6)*dt*(k1 + 2*k2 + 2*k3 + k4)\n",
    "    return n\n"
   ]
  },
  {
   "cell_type": "code",
   "execution_count": 44,
   "metadata": {
    "deletable": false,
    "editable": false,
    "nbgrader": {
     "cell_type": "code",
     "checksum": "0e92b0664845bd78bc9032ff5795c8f2",
     "grade": true,
     "grade_id": "RK4-test-1",
     "locked": true,
     "points": 1,
     "schema_version": 3,
     "solution": false,
     "task": false
    }
   },
   "outputs": [],
   "source": [
    "# This checks that we return an array of the right length\n",
    "# this test is worth 1 mark\n",
    "assert len(solve_RK4(f_rad, 1000, 0, 1, 17)) == 18"
   ]
  },
  {
   "cell_type": "code",
   "execution_count": 45,
   "metadata": {
    "deletable": false,
    "editable": false,
    "nbgrader": {
     "cell_type": "code",
     "checksum": "2cc4284fa713bc2d5af4f1366e54e7d9",
     "grade": true,
     "grade_id": "RK4-test-2",
     "locked": true,
     "points": 2,
     "schema_version": 3,
     "solution": false,
     "task": false
    }
   },
   "outputs": [],
   "source": [
    "# This checks that a single step is working\n",
    "# this test is worth 2 mark\n",
    "assert numpy.isclose(solve_RK4(f_rad, 1000,0, 6, 1), [1000.,  818.7773]).all()"
   ]
  },
  {
   "cell_type": "code",
   "execution_count": 46,
   "metadata": {
    "deletable": false,
    "editable": false,
    "nbgrader": {
     "cell_type": "code",
     "checksum": "be67647e705ca3915a432ef233c6a96b",
     "grade": true,
     "grade_id": "RK4-test-3",
     "locked": true,
     "points": 2,
     "schema_version": 3,
     "solution": false,
     "task": false
    }
   },
   "outputs": [],
   "source": [
    "# This checks multiple steps\n",
    "# this test is worth 2 marks\n",
    "assert numpy.isclose(solve_RK4(f_rad, 1000, 0, 6, 10), [\n",
    "    1000.,\n",
    "    818.77729521,  \n",
    "    670.39625915,  \n",
    "    548.90523578,\n",
    "    449.43114428,  \n",
    "    367.9840167,  \n",
    "    301.29695787,  \n",
    "    246.69510822, \n",
    "    201.98835345,  \n",
    "    165.3834777,  \n",
    "    135.41223655]).all()"
   ]
  },
  {
   "cell_type": "markdown",
   "metadata": {},
   "source": [
    "## Plotting task"
   ]
  },
  {
   "cell_type": "markdown",
   "metadata": {
    "deletable": false,
    "editable": false,
    "nbgrader": {
     "cell_type": "markdown",
     "checksum": "711a0e023c32f2bbd63b847d0eeaf33a",
     "grade": false,
     "grade_id": "plotting_task",
     "locked": true,
     "points": 5,
     "schema_version": 3,
     "solution": false,
     "task": true
    }
   },
   "source": [
    "**Task 1: **\n",
    "\n",
    "Create a plot to show that the RK4 method has an error that scales better with the number of steps than the Euler method. (click on the \"+\" button to create new cells.)       [task worth 5 marks]\n"
   ]
  },
  {
   "cell_type": "code",
   "execution_count": 53,
   "metadata": {},
   "outputs": [
    {
     "name": "stdout",
     "output_type": "stream",
     "text": [
      "[array([-3.95487528e-01, -2.83939279e-01, -1.81307635e-01, -8.68798482e-02,\n",
      "       -1.43407033e-07]), array([-3.95487528e-01, -3.38551900e-01, -2.83939235e-01, -2.31554757e-01,\n",
      "       -1.81307555e-01, -1.33110430e-01, -8.68797383e-02, -4.25352501e-02,\n",
      "       -8.65670301e-09]), array([-3.95487528e-01, -3.66723264e-01, -3.38551899e-01, -3.10961212e-01,\n",
      "       -2.83939233e-01, -2.57474240e-01, -2.31554753e-01, -2.06169527e-01,\n",
      "       -1.81307551e-01, -1.56958037e-01, -1.33110424e-01, -1.09754366e-01,\n",
      "       -8.68797317e-02, -6.44765967e-02, -4.25352427e-02, -2.10461514e-02,\n",
      "       -5.31727638e-10]), array([-3.95487528e-01, -3.81030510e-01, -3.66723264e-01, -3.52564239e-01,\n",
      "       -3.38551899e-01, -3.24684724e-01, -3.10961212e-01, -2.97379872e-01,\n",
      "       -2.83939233e-01, -2.70637836e-01, -2.57474240e-01, -2.44447017e-01,\n",
      "       -2.31554753e-01, -2.18796051e-01, -2.06169527e-01, -1.93673812e-01,\n",
      "       -1.81307550e-01, -1.69069401e-01, -1.56958037e-01, -1.44972144e-01,\n",
      "       -1.33110424e-01, -1.21371589e-01, -1.09754366e-01, -9.82574959e-02,\n",
      "       -8.68797313e-02, -7.56198385e-02, -6.44765962e-02, -5.34487962e-02,\n",
      "       -4.25352422e-02, -3.17347509e-02, -2.10461509e-02, -1.04682830e-02,\n",
      "       -3.29459127e-11]), array([-3.95487528e-01, -3.88240200e-01, -3.81030510e-01, -3.73858263e-01,\n",
      "       -3.66723264e-01, -3.59625320e-01, -3.52564239e-01, -3.45539829e-01,\n",
      "       -3.38551899e-01, -3.31600260e-01, -3.24684724e-01, -3.17805104e-01,\n",
      "       -3.10961212e-01, -3.04152862e-01, -2.97379872e-01, -2.90642056e-01,\n",
      "       -2.83939233e-01, -2.77271220e-01, -2.70637836e-01, -2.64038903e-01,\n",
      "       -2.57474240e-01, -2.50943670e-01, -2.44447017e-01, -2.37984103e-01,\n",
      "       -2.31554753e-01, -2.25158794e-01, -2.18796051e-01, -2.12466353e-01,\n",
      "       -2.06169527e-01, -1.99905403e-01, -1.93673812e-01, -1.87474584e-01,\n",
      "       -1.81307550e-01, -1.75172545e-01, -1.69069401e-01, -1.62997953e-01,\n",
      "       -1.56958037e-01, -1.50949488e-01, -1.44972144e-01, -1.39025843e-01,\n",
      "       -1.33110424e-01, -1.27225726e-01, -1.21371589e-01, -1.15547855e-01,\n",
      "       -1.09754366e-01, -1.03990965e-01, -9.82574958e-02, -9.25538028e-02,\n",
      "       -8.68797313e-02, -8.12351275e-02, -7.56198384e-02, -7.00337118e-02,\n",
      "       -6.44765962e-02, -5.89483409e-02, -5.34487961e-02, -4.79778127e-02,\n",
      "       -4.25352422e-02, -3.71209372e-02, -3.17347509e-02, -2.63765372e-02,\n",
      "       -2.10461509e-02, -1.57434474e-02, -1.04682830e-02, -5.22051460e-03,\n",
      "       -2.05021539e-12]), array([-3.95487528e-01, -3.91859147e-01, -3.88240200e-01, -3.84630662e-01,\n",
      "       -3.81030510e-01, -3.77439718e-01, -3.73858263e-01, -3.70286120e-01,\n",
      "       -3.66723264e-01, -3.63169672e-01, -3.59625320e-01, -3.56090184e-01,\n",
      "       -3.52564239e-01, -3.49047462e-01, -3.45539829e-01, -3.42041316e-01,\n",
      "       -3.38551899e-01, -3.35071555e-01, -3.31600260e-01, -3.28137991e-01,\n",
      "       -3.24684724e-01, -3.21240436e-01, -3.17805104e-01, -3.14378703e-01,\n",
      "       -3.10961212e-01, -3.07552606e-01, -3.04152862e-01, -3.00761959e-01,\n",
      "       -2.97379872e-01, -2.94006579e-01, -2.90642056e-01, -2.87286282e-01,\n",
      "       -2.83939233e-01, -2.80600886e-01, -2.77271220e-01, -2.73950211e-01,\n",
      "       -2.70637836e-01, -2.67334075e-01, -2.64038903e-01, -2.60752299e-01,\n",
      "       -2.57474240e-01, -2.54204705e-01, -2.50943670e-01, -2.47691115e-01,\n",
      "       -2.44447017e-01, -2.41211353e-01, -2.37984103e-01, -2.34765243e-01,\n",
      "       -2.31554753e-01, -2.28352610e-01, -2.25158794e-01, -2.21973281e-01,\n",
      "       -2.18796051e-01, -2.15627082e-01, -2.12466353e-01, -2.09313842e-01,\n",
      "       -2.06169527e-01, -2.03033388e-01, -1.99905403e-01, -1.96785552e-01,\n",
      "       -1.93673812e-01, -1.90570163e-01, -1.87474584e-01, -1.84387053e-01,\n",
      "       -1.81307550e-01, -1.78236054e-01, -1.75172545e-01, -1.72117001e-01,\n",
      "       -1.69069401e-01, -1.66029725e-01, -1.62997953e-01, -1.59974064e-01,\n",
      "       -1.56958037e-01, -1.53949852e-01, -1.50949488e-01, -1.47956926e-01,\n",
      "       -1.44972144e-01, -1.41995124e-01, -1.39025843e-01, -1.36064283e-01,\n",
      "       -1.33110424e-01, -1.30164245e-01, -1.27225726e-01, -1.24294847e-01,\n",
      "       -1.21371589e-01, -1.18455931e-01, -1.15547855e-01, -1.12647340e-01,\n",
      "       -1.09754366e-01, -1.06868914e-01, -1.03990965e-01, -1.01120499e-01,\n",
      "       -9.82574958e-02, -9.54019370e-02, -9.25538028e-02, -8.97130739e-02,\n",
      "       -8.68797313e-02, -8.40537555e-02, -8.12351275e-02, -7.84238282e-02,\n",
      "       -7.56198384e-02, -7.28231393e-02, -7.00337118e-02, -6.72515371e-02,\n",
      "       -6.44765962e-02, -6.17088704e-02, -5.89483409e-02, -5.61949891e-02,\n",
      "       -5.34487961e-02, -5.07097435e-02, -4.79778127e-02, -4.52529851e-02,\n",
      "       -4.25352422e-02, -3.98245657e-02, -3.71209372e-02, -3.44243384e-02,\n",
      "       -3.17347509e-02, -2.90521566e-02, -2.63765372e-02, -2.37078747e-02,\n",
      "       -2.10461509e-02, -1.83913478e-02, -1.57434474e-02, -1.31024317e-02,\n",
      "       -1.04682830e-02, -7.84098318e-03, -5.22051460e-03, -2.60685944e-03,\n",
      "       -1.28346688e-13]), array([-3.95487528e-01, -3.93672157e-01, -3.91859147e-01, -3.90048496e-01,\n",
      "       -3.88240200e-01, -3.86434257e-01, -3.84630662e-01, -3.82829415e-01,\n",
      "       -3.81030510e-01, -3.79233946e-01, -3.77439718e-01, -3.75647825e-01,\n",
      "       -3.73858263e-01, -3.72071029e-01, -3.70286120e-01, -3.68503532e-01,\n",
      "       -3.66723264e-01, -3.64945312e-01, -3.63169672e-01, -3.61396343e-01,\n",
      "       -3.59625320e-01, -3.57856602e-01, -3.56090184e-01, -3.54326064e-01,\n",
      "       -3.52564239e-01, -3.50804706e-01, -3.49047462e-01, -3.47292504e-01,\n",
      "       -3.45539829e-01, -3.43789434e-01, -3.42041316e-01, -3.40295472e-01,\n",
      "       -3.38551899e-01, -3.36810594e-01, -3.35071555e-01, -3.33334778e-01,\n",
      "       -3.31600260e-01, -3.29867999e-01, -3.28137991e-01, -3.26410234e-01,\n",
      "       -3.24684724e-01, -3.22961460e-01, -3.21240436e-01, -3.19521652e-01,\n",
      "       -3.17805104e-01, -3.16090788e-01, -3.14378703e-01, -3.12668845e-01,\n",
      "       -3.10961212e-01, -3.09255799e-01, -3.07552606e-01, -3.05851628e-01,\n",
      "       -3.04152862e-01, -3.02456307e-01, -3.00761959e-01, -2.99069815e-01,\n",
      "       -2.97379872e-01, -2.95692128e-01, -2.94006579e-01, -2.92323223e-01,\n",
      "       -2.90642056e-01, -2.88963077e-01, -2.87286282e-01, -2.85611668e-01,\n",
      "       -2.83939233e-01, -2.82268973e-01, -2.80600886e-01, -2.78934969e-01,\n",
      "       -2.77271220e-01, -2.75609634e-01, -2.73950211e-01, -2.72292945e-01,\n",
      "       -2.70637836e-01, -2.68984880e-01, -2.67334075e-01, -2.65685416e-01,\n",
      "       -2.64038903e-01, -2.62394531e-01, -2.60752299e-01, -2.59112203e-01,\n",
      "       -2.57474240e-01, -2.55838408e-01, -2.54204705e-01, -2.52573126e-01,\n",
      "       -2.50943670e-01, -2.49316334e-01, -2.47691115e-01, -2.46068010e-01,\n",
      "       -2.44447017e-01, -2.42828132e-01, -2.41211353e-01, -2.39596678e-01,\n",
      "       -2.37984103e-01, -2.36373625e-01, -2.34765243e-01, -2.33158953e-01,\n",
      "       -2.31554753e-01, -2.29952640e-01, -2.28352610e-01, -2.26754663e-01,\n",
      "       -2.25158794e-01, -2.23565001e-01, -2.21973281e-01, -2.20383632e-01,\n",
      "       -2.18796051e-01, -2.17210535e-01, -2.15627082e-01, -2.14045689e-01,\n",
      "       -2.12466353e-01, -2.10889071e-01, -2.09313842e-01, -2.07740661e-01,\n",
      "       -2.06169527e-01, -2.04600437e-01, -2.03033388e-01, -2.01468378e-01,\n",
      "       -1.99905403e-01, -1.98344462e-01, -1.96785552e-01, -1.95228669e-01,\n",
      "       -1.93673812e-01, -1.92120977e-01, -1.90570163e-01, -1.89021366e-01,\n",
      "       -1.87474584e-01, -1.85929813e-01, -1.84387053e-01, -1.82846299e-01,\n",
      "       -1.81307550e-01, -1.79770803e-01, -1.78236054e-01, -1.76703303e-01,\n",
      "       -1.75172545e-01, -1.73643778e-01, -1.72117001e-01, -1.70592209e-01,\n",
      "       -1.69069401e-01, -1.67548574e-01, -1.66029725e-01, -1.64512853e-01,\n",
      "       -1.62997953e-01, -1.61485024e-01, -1.59974064e-01, -1.58465069e-01,\n",
      "       -1.56958037e-01, -1.55452965e-01, -1.53949852e-01, -1.52448694e-01,\n",
      "       -1.50949488e-01, -1.49452233e-01, -1.47956926e-01, -1.46463564e-01,\n",
      "       -1.44972144e-01, -1.43482665e-01, -1.41995124e-01, -1.40509517e-01,\n",
      "       -1.39025843e-01, -1.37544100e-01, -1.36064283e-01, -1.34586392e-01,\n",
      "       -1.33110424e-01, -1.31636375e-01, -1.30164245e-01, -1.28694029e-01,\n",
      "       -1.27225726e-01, -1.25759332e-01, -1.24294847e-01, -1.22832267e-01,\n",
      "       -1.21371589e-01, -1.19912811e-01, -1.18455931e-01, -1.17000947e-01,\n",
      "       -1.15547855e-01, -1.14096653e-01, -1.12647340e-01, -1.11199911e-01,\n",
      "       -1.09754366e-01, -1.08310701e-01, -1.06868914e-01, -1.05429003e-01,\n",
      "       -1.03990965e-01, -1.02554798e-01, -1.01120499e-01, -9.96880656e-02,\n",
      "       -9.82574958e-02, -9.68287871e-02, -9.54019370e-02, -9.39769430e-02,\n",
      "       -9.25538028e-02, -9.11325139e-02, -8.97130739e-02, -8.82954805e-02,\n",
      "       -8.68797313e-02, -8.54658237e-02, -8.40537555e-02, -8.26435242e-02,\n",
      "       -8.12351275e-02, -7.98285629e-02, -7.84238282e-02, -7.70209208e-02,\n",
      "       -7.56198384e-02, -7.42205787e-02, -7.28231393e-02, -7.14275178e-02,\n",
      "       -7.00337118e-02, -6.86417190e-02, -6.72515371e-02, -6.58631636e-02,\n",
      "       -6.44765962e-02, -6.30918326e-02, -6.17088704e-02, -6.03277073e-02,\n",
      "       -5.89483409e-02, -5.75707690e-02, -5.61949891e-02, -5.48209989e-02,\n",
      "       -5.34487961e-02, -5.20783784e-02, -5.07097435e-02, -4.93428890e-02,\n",
      "       -4.79778127e-02, -4.66145121e-02, -4.52529851e-02, -4.38932292e-02,\n",
      "       -4.25352422e-02, -4.11790218e-02, -3.98245657e-02, -3.84718716e-02,\n",
      "       -3.71209372e-02, -3.57717602e-02, -3.44243384e-02, -3.30786694e-02,\n",
      "       -3.17347509e-02, -3.03925807e-02, -2.90521566e-02, -2.77134762e-02,\n",
      "       -2.63765372e-02, -2.50413375e-02, -2.37078747e-02, -2.23761466e-02,\n",
      "       -2.10461509e-02, -1.97178854e-02, -1.83913478e-02, -1.70665359e-02,\n",
      "       -1.57434474e-02, -1.44220801e-02, -1.31024317e-02, -1.17845001e-02,\n",
      "       -1.04682830e-02, -9.15377806e-03, -7.84098318e-03, -6.52989610e-03,\n",
      "       -5.22051460e-03, -3.91283645e-03, -2.60685944e-03, -1.30258136e-03,\n",
      "       -8.24972534e-15]), array([-3.95487528e-01, -3.94579547e-01, -3.93672157e-01, -3.92765357e-01,\n",
      "       -3.91859147e-01, -3.90953527e-01, -3.90048496e-01, -3.89144054e-01,\n",
      "       -3.88240200e-01, -3.87336934e-01, -3.86434257e-01, -3.85532166e-01,\n",
      "       -3.84630662e-01, -3.83729745e-01, -3.82829415e-01, -3.81929670e-01,\n",
      "       -3.81030510e-01, -3.80131936e-01, -3.79233946e-01, -3.78336540e-01,\n",
      "       -3.77439718e-01, -3.76543480e-01, -3.75647825e-01, -3.74752753e-01,\n",
      "       -3.73858263e-01, -3.72964355e-01, -3.72071029e-01, -3.71178284e-01,\n",
      "       -3.70286120e-01, -3.69394536e-01, -3.68503532e-01, -3.67613109e-01,\n",
      "       -3.66723264e-01, -3.65833999e-01, -3.64945312e-01, -3.64057203e-01,\n",
      "       -3.63169672e-01, -3.62282719e-01, -3.61396343e-01, -3.60510543e-01,\n",
      "       -3.59625320e-01, -3.58740673e-01, -3.57856602e-01, -3.56973105e-01,\n",
      "       -3.56090184e-01, -3.55207837e-01, -3.54326064e-01, -3.53444865e-01,\n",
      "       -3.52564239e-01, -3.51684186e-01, -3.50804706e-01, -3.49925798e-01,\n",
      "       -3.49047462e-01, -3.48169697e-01, -3.47292504e-01, -3.46415881e-01,\n",
      "       -3.45539829e-01, -3.44664346e-01, -3.43789434e-01, -3.42915090e-01,\n",
      "       -3.42041316e-01, -3.41168110e-01, -3.40295472e-01, -3.39423402e-01,\n",
      "       -3.38551899e-01, -3.37680963e-01, -3.36810594e-01, -3.35940792e-01,\n",
      "       -3.35071555e-01, -3.34202884e-01, -3.33334778e-01, -3.32467237e-01,\n",
      "       -3.31600260e-01, -3.30733848e-01, -3.29867999e-01, -3.29002714e-01,\n",
      "       -3.28137991e-01, -3.27273832e-01, -3.26410234e-01, -3.25547198e-01,\n",
      "       -3.24684724e-01, -3.23822812e-01, -3.22961460e-01, -3.22100668e-01,\n",
      "       -3.21240436e-01, -3.20380765e-01, -3.19521652e-01, -3.18663099e-01,\n",
      "       -3.17805104e-01, -3.16947667e-01, -3.16090788e-01, -3.15234467e-01,\n",
      "       -3.14378703e-01, -3.13523496e-01, -3.12668845e-01, -3.11814750e-01,\n",
      "       -3.10961212e-01, -3.10108228e-01, -3.09255799e-01, -3.08403925e-01,\n",
      "       -3.07552606e-01, -3.06701840e-01, -3.05851628e-01, -3.05001969e-01,\n",
      "       -3.04152862e-01, -3.03304309e-01, -3.02456307e-01, -3.01608857e-01,\n",
      "       -3.00761959e-01, -2.99915611e-01, -2.99069815e-01, -2.98224568e-01,\n",
      "       -2.97379872e-01, -2.96535725e-01, -2.95692128e-01, -2.94849079e-01,\n",
      "       -2.94006579e-01, -2.93164627e-01, -2.92323223e-01, -2.91482366e-01,\n",
      "       -2.90642056e-01, -2.89802293e-01, -2.88963077e-01, -2.88124407e-01,\n",
      "       -2.87286282e-01, -2.86448702e-01, -2.85611668e-01, -2.84775178e-01,\n",
      "       -2.83939233e-01, -2.83103831e-01, -2.82268973e-01, -2.81434658e-01,\n",
      "       -2.80600886e-01, -2.79767657e-01, -2.78934969e-01, -2.78102824e-01,\n",
      "       -2.77271220e-01, -2.76440157e-01, -2.75609634e-01, -2.74779652e-01,\n",
      "       -2.73950211e-01, -2.73121308e-01, -2.72292945e-01, -2.71465122e-01,\n",
      "       -2.70637836e-01, -2.69811089e-01, -2.68984880e-01, -2.68159209e-01,\n",
      "       -2.67334075e-01, -2.66509477e-01, -2.65685416e-01, -2.64861892e-01,\n",
      "       -2.64038903e-01, -2.63216449e-01, -2.62394531e-01, -2.61573148e-01,\n",
      "       -2.60752299e-01, -2.59931984e-01, -2.59112203e-01, -2.58292955e-01,\n",
      "       -2.57474240e-01, -2.56656058e-01, -2.55838408e-01, -2.55021291e-01,\n",
      "       -2.54204705e-01, -2.53388650e-01, -2.52573126e-01, -2.51758133e-01,\n",
      "       -2.50943670e-01, -2.50129738e-01, -2.49316334e-01, -2.48503460e-01,\n",
      "       -2.47691115e-01, -2.46879299e-01, -2.46068010e-01, -2.45257250e-01,\n",
      "       -2.44447017e-01, -2.43637311e-01, -2.42828132e-01, -2.42019479e-01,\n",
      "       -2.41211353e-01, -2.40403753e-01, -2.39596678e-01, -2.38790128e-01,\n",
      "       -2.37984103e-01, -2.37178602e-01, -2.36373625e-01, -2.35569173e-01,\n",
      "       -2.34765243e-01, -2.33961837e-01, -2.33158953e-01, -2.32356592e-01,\n",
      "       -2.31554753e-01, -2.30753436e-01, -2.29952640e-01, -2.29152365e-01,\n",
      "       -2.28352610e-01, -2.27553377e-01, -2.26754663e-01, -2.25956468e-01,\n",
      "       -2.25158794e-01, -2.24361638e-01, -2.23565001e-01, -2.22768882e-01,\n",
      "       -2.21973281e-01, -2.21178198e-01, -2.20383632e-01, -2.19589583e-01,\n",
      "       -2.18796051e-01, -2.18003035e-01, -2.17210535e-01, -2.16418551e-01,\n",
      "       -2.15627082e-01, -2.14836128e-01, -2.14045689e-01, -2.13255764e-01,\n",
      "       -2.12466353e-01, -2.11677455e-01, -2.10889071e-01, -2.10101200e-01,\n",
      "       -2.09313842e-01, -2.08526995e-01, -2.07740661e-01, -2.06954838e-01,\n",
      "       -2.06169527e-01, -2.05384727e-01, -2.04600437e-01, -2.03816658e-01,\n",
      "       -2.03033388e-01, -2.02250628e-01, -2.01468378e-01, -2.00686636e-01,\n",
      "       -1.99905403e-01, -1.99124679e-01, -1.98344462e-01, -1.97564753e-01,\n",
      "       -1.96785552e-01, -1.96006857e-01, -1.95228669e-01, -1.94450988e-01,\n",
      "       -1.93673812e-01, -1.92897142e-01, -1.92120977e-01, -1.91345318e-01,\n",
      "       -1.90570163e-01, -1.89795512e-01, -1.89021366e-01, -1.88247723e-01,\n",
      "       -1.87474584e-01, -1.86701947e-01, -1.85929813e-01, -1.85158182e-01,\n",
      "       -1.84387053e-01, -1.83616425e-01, -1.82846299e-01, -1.82076674e-01,\n",
      "       -1.81307550e-01, -1.80538926e-01, -1.79770803e-01, -1.79003179e-01,\n",
      "       -1.78236054e-01, -1.77469429e-01, -1.76703303e-01, -1.75937675e-01,\n",
      "       -1.75172545e-01, -1.74407913e-01, -1.73643778e-01, -1.72880141e-01,\n",
      "       -1.72117001e-01, -1.71354357e-01, -1.70592209e-01, -1.69830557e-01,\n",
      "       -1.69069401e-01, -1.68308740e-01, -1.67548574e-01, -1.66788902e-01,\n",
      "       -1.66029725e-01, -1.65271042e-01, -1.64512853e-01, -1.63755156e-01,\n",
      "       -1.62997953e-01, -1.62241243e-01, -1.61485024e-01, -1.60729298e-01,\n",
      "       -1.59974064e-01, -1.59219321e-01, -1.58465069e-01, -1.57711308e-01,\n",
      "       -1.56958037e-01, -1.56205256e-01, -1.55452965e-01, -1.54701164e-01,\n",
      "       -1.53949852e-01, -1.53199028e-01, -1.52448694e-01, -1.51698847e-01,\n",
      "       -1.50949488e-01, -1.50200617e-01, -1.49452233e-01, -1.48704336e-01,\n",
      "       -1.47956926e-01, -1.47210002e-01, -1.46463564e-01, -1.45717611e-01,\n",
      "       -1.44972144e-01, -1.44227162e-01, -1.43482665e-01, -1.42738652e-01,\n",
      "       -1.41995124e-01, -1.41252079e-01, -1.40509517e-01, -1.39767439e-01,\n",
      "       -1.39025843e-01, -1.38284730e-01, -1.37544100e-01, -1.36803951e-01,\n",
      "       -1.36064283e-01, -1.35325097e-01, -1.34586392e-01, -1.33848168e-01,\n",
      "       -1.33110424e-01, -1.32373160e-01, -1.31636375e-01, -1.30900070e-01,\n",
      "       -1.30164245e-01, -1.29428897e-01, -1.28694029e-01, -1.27959638e-01,\n",
      "       -1.27225726e-01, -1.26492290e-01, -1.25759332e-01, -1.25026851e-01,\n",
      "       -1.24294847e-01, -1.23563319e-01, -1.22832267e-01, -1.22101690e-01,\n",
      "       -1.21371589e-01, -1.20641963e-01, -1.19912811e-01, -1.19184134e-01,\n",
      "       -1.18455931e-01, -1.17728202e-01, -1.17000947e-01, -1.16274164e-01,\n",
      "       -1.15547855e-01, -1.14822018e-01, -1.14096653e-01, -1.13371761e-01,\n",
      "       -1.12647340e-01, -1.11923390e-01, -1.11199911e-01, -1.10476904e-01,\n",
      "       -1.09754366e-01, -1.09032299e-01, -1.08310701e-01, -1.07589573e-01,\n",
      "       -1.06868914e-01, -1.06148724e-01, -1.05429003e-01, -1.04709750e-01,\n",
      "       -1.03990965e-01, -1.03272648e-01, -1.02554798e-01, -1.01837415e-01,\n",
      "       -1.01120499e-01, -1.00404049e-01, -9.96880656e-02, -9.89725479e-02,\n",
      "       -9.82574958e-02, -9.75429090e-02, -9.68287871e-02, -9.61151299e-02,\n",
      "       -9.54019370e-02, -9.46892081e-02, -9.39769430e-02, -9.32651413e-02,\n",
      "       -9.25538028e-02, -9.18429271e-02, -9.11325139e-02, -9.04225629e-02,\n",
      "       -8.97130739e-02, -8.90040466e-02, -8.82954805e-02, -8.75873755e-02,\n",
      "       -8.68797313e-02, -8.61725474e-02, -8.54658237e-02, -8.47595598e-02,\n",
      "       -8.40537555e-02, -8.33484104e-02, -8.26435242e-02, -8.19390967e-02,\n",
      "       -8.12351275e-02, -8.05316163e-02, -7.98285629e-02, -7.91259670e-02,\n",
      "       -7.84238282e-02, -7.77221462e-02, -7.70209208e-02, -7.63201516e-02,\n",
      "       -7.56198384e-02, -7.49199809e-02, -7.42205787e-02, -7.35216316e-02,\n",
      "       -7.28231393e-02, -7.21251015e-02, -7.14275178e-02, -7.07303880e-02,\n",
      "       -7.00337118e-02, -6.93374889e-02, -6.86417190e-02, -6.79464019e-02,\n",
      "       -6.72515371e-02, -6.65571244e-02, -6.58631636e-02, -6.51696543e-02,\n",
      "       -6.44765962e-02, -6.37839891e-02, -6.30918326e-02, -6.24001265e-02,\n",
      "       -6.17088704e-02, -6.10180641e-02, -6.03277073e-02, -5.96377997e-02,\n",
      "       -5.89483409e-02, -5.82593308e-02, -5.75707690e-02, -5.68826552e-02,\n",
      "       -5.61949891e-02, -5.55077704e-02, -5.48209989e-02, -5.41346742e-02,\n",
      "       -5.34487961e-02, -5.27633643e-02, -5.20783784e-02, -5.13938383e-02,\n",
      "       -5.07097435e-02, -5.00260939e-02, -4.93428890e-02, -4.86601287e-02,\n",
      "       -4.79778127e-02, -4.72959406e-02, -4.66145121e-02, -4.59335270e-02,\n",
      "       -4.52529851e-02, -4.45728859e-02, -4.38932292e-02, -4.32140147e-02,\n",
      "       -4.25352422e-02, -4.18569113e-02, -4.11790218e-02, -4.05015734e-02,\n",
      "       -3.98245657e-02, -3.91479986e-02, -3.84718716e-02, -3.77961846e-02,\n",
      "       -3.71209372e-02, -3.64461292e-02, -3.57717602e-02, -3.50978301e-02,\n",
      "       -3.44243384e-02, -3.37512849e-02, -3.30786694e-02, -3.24064914e-02,\n",
      "       -3.17347509e-02, -3.10634474e-02, -3.03925807e-02, -2.97221505e-02,\n",
      "       -2.90521566e-02, -2.83825985e-02, -2.77134762e-02, -2.70447891e-02,\n",
      "       -2.63765372e-02, -2.57087201e-02, -2.50413375e-02, -2.43743891e-02,\n",
      "       -2.37078747e-02, -2.30417939e-02, -2.23761466e-02, -2.17109323e-02,\n",
      "       -2.10461509e-02, -2.03818020e-02, -1.97178854e-02, -1.90544007e-02,\n",
      "       -1.83913478e-02, -1.77287263e-02, -1.70665359e-02, -1.64047763e-02,\n",
      "       -1.57434474e-02, -1.50825487e-02, -1.44220801e-02, -1.37620412e-02,\n",
      "       -1.31024317e-02, -1.24432515e-02, -1.17845001e-02, -1.11261774e-02,\n",
      "       -1.04682830e-02, -9.81081662e-03, -9.15377806e-03, -8.49716701e-03,\n",
      "       -7.84098318e-03, -7.18522631e-03, -6.52989610e-03, -5.87499229e-03,\n",
      "       -5.22051460e-03, -4.56646274e-03, -3.91283645e-03, -3.25963544e-03,\n",
      "       -2.60685944e-03, -1.95450817e-03, -1.30258136e-03, -6.51078729e-04,\n",
      "       -4.75945692e-16]), array([-3.95487528e-01, -3.95033464e-01, -3.94579547e-01, ...,\n",
      "       -6.51078729e-04, -3.25486394e-04,  2.22107990e-15])]\n"
     ]
    },
    {
     "ename": "ValueError",
     "evalue": "setting an array element with a sequence.",
     "output_type": "error",
     "traceback": [
      "\u001b[0;31m---------------------------------------------------------------------------\u001b[0m",
      "\u001b[0;31mValueError\u001b[0m                                Traceback (most recent call last)",
      "\u001b[0;32m<ipython-input-53-88ab0d0a12de>\u001b[0m in \u001b[0;36m<module>\u001b[0;34m()\u001b[0m\n\u001b[1;32m     14\u001b[0m \u001b[0;34m\u001b[0m\u001b[0m\n\u001b[1;32m     15\u001b[0m \u001b[0mplt\u001b[0m\u001b[0;34m.\u001b[0m\u001b[0mloglog\u001b[0m\u001b[0;34m(\u001b[0m\u001b[0;34m)\u001b[0m\u001b[0;34m\u001b[0m\u001b[0m\n\u001b[0;32m---> 16\u001b[0;31m \u001b[0mplt\u001b[0m\u001b[0;34m.\u001b[0m\u001b[0mplot\u001b[0m\u001b[0;34m(\u001b[0m\u001b[0msteps\u001b[0m\u001b[0;34m,\u001b[0m \u001b[0mRK4error\u001b[0m\u001b[0;34m)\u001b[0m\u001b[0;34m\u001b[0m\u001b[0m\n\u001b[0m\u001b[1;32m     17\u001b[0m \u001b[0mplt\u001b[0m\u001b[0;34m.\u001b[0m\u001b[0mplot\u001b[0m\u001b[0;34m(\u001b[0m\u001b[0msteps\u001b[0m\u001b[0;34m,\u001b[0m \u001b[0meulererror\u001b[0m\u001b[0;34m)\u001b[0m\u001b[0;34m\u001b[0m\u001b[0m\n\u001b[1;32m     18\u001b[0m \u001b[0;34m\u001b[0m\u001b[0m\n",
      "\u001b[0;32m/opt/conda/lib/python3.6/site-packages/matplotlib/pyplot.py\u001b[0m in \u001b[0;36mplot\u001b[0;34m(*args, **kwargs)\u001b[0m\n\u001b[1;32m   3361\u001b[0m                       mplDeprecation)\n\u001b[1;32m   3362\u001b[0m     \u001b[0;32mtry\u001b[0m\u001b[0;34m:\u001b[0m\u001b[0;34m\u001b[0m\u001b[0m\n\u001b[0;32m-> 3363\u001b[0;31m         \u001b[0mret\u001b[0m \u001b[0;34m=\u001b[0m \u001b[0max\u001b[0m\u001b[0;34m.\u001b[0m\u001b[0mplot\u001b[0m\u001b[0;34m(\u001b[0m\u001b[0;34m*\u001b[0m\u001b[0margs\u001b[0m\u001b[0;34m,\u001b[0m \u001b[0;34m**\u001b[0m\u001b[0mkwargs\u001b[0m\u001b[0;34m)\u001b[0m\u001b[0;34m\u001b[0m\u001b[0m\n\u001b[0m\u001b[1;32m   3364\u001b[0m     \u001b[0;32mfinally\u001b[0m\u001b[0;34m:\u001b[0m\u001b[0;34m\u001b[0m\u001b[0m\n\u001b[1;32m   3365\u001b[0m         \u001b[0max\u001b[0m\u001b[0;34m.\u001b[0m\u001b[0m_hold\u001b[0m \u001b[0;34m=\u001b[0m \u001b[0mwashold\u001b[0m\u001b[0;34m\u001b[0m\u001b[0m\n",
      "\u001b[0;32m/opt/conda/lib/python3.6/site-packages/matplotlib/__init__.py\u001b[0m in \u001b[0;36minner\u001b[0;34m(ax, *args, **kwargs)\u001b[0m\n\u001b[1;32m   1865\u001b[0m                         \u001b[0;34m\"the Matplotlib list!)\"\u001b[0m \u001b[0;34m%\u001b[0m \u001b[0;34m(\u001b[0m\u001b[0mlabel_namer\u001b[0m\u001b[0;34m,\u001b[0m \u001b[0mfunc\u001b[0m\u001b[0;34m.\u001b[0m\u001b[0m__name__\u001b[0m\u001b[0;34m)\u001b[0m\u001b[0;34m,\u001b[0m\u001b[0;34m\u001b[0m\u001b[0m\n\u001b[1;32m   1866\u001b[0m                         RuntimeWarning, stacklevel=2)\n\u001b[0;32m-> 1867\u001b[0;31m             \u001b[0;32mreturn\u001b[0m \u001b[0mfunc\u001b[0m\u001b[0;34m(\u001b[0m\u001b[0max\u001b[0m\u001b[0;34m,\u001b[0m \u001b[0;34m*\u001b[0m\u001b[0margs\u001b[0m\u001b[0;34m,\u001b[0m \u001b[0;34m**\u001b[0m\u001b[0mkwargs\u001b[0m\u001b[0;34m)\u001b[0m\u001b[0;34m\u001b[0m\u001b[0m\n\u001b[0m\u001b[1;32m   1868\u001b[0m \u001b[0;34m\u001b[0m\u001b[0m\n\u001b[1;32m   1869\u001b[0m         inner.__doc__ = _add_data_doc(inner.__doc__,\n",
      "\u001b[0;32m/opt/conda/lib/python3.6/site-packages/matplotlib/axes/_axes.py\u001b[0m in \u001b[0;36mplot\u001b[0;34m(self, *args, **kwargs)\u001b[0m\n\u001b[1;32m   1527\u001b[0m \u001b[0;34m\u001b[0m\u001b[0m\n\u001b[1;32m   1528\u001b[0m         \u001b[0;32mfor\u001b[0m \u001b[0mline\u001b[0m \u001b[0;32min\u001b[0m \u001b[0mself\u001b[0m\u001b[0;34m.\u001b[0m\u001b[0m_get_lines\u001b[0m\u001b[0;34m(\u001b[0m\u001b[0;34m*\u001b[0m\u001b[0margs\u001b[0m\u001b[0;34m,\u001b[0m \u001b[0;34m**\u001b[0m\u001b[0mkwargs\u001b[0m\u001b[0;34m)\u001b[0m\u001b[0;34m:\u001b[0m\u001b[0;34m\u001b[0m\u001b[0m\n\u001b[0;32m-> 1529\u001b[0;31m             \u001b[0mself\u001b[0m\u001b[0;34m.\u001b[0m\u001b[0madd_line\u001b[0m\u001b[0;34m(\u001b[0m\u001b[0mline\u001b[0m\u001b[0;34m)\u001b[0m\u001b[0;34m\u001b[0m\u001b[0m\n\u001b[0m\u001b[1;32m   1530\u001b[0m             \u001b[0mlines\u001b[0m\u001b[0;34m.\u001b[0m\u001b[0mappend\u001b[0m\u001b[0;34m(\u001b[0m\u001b[0mline\u001b[0m\u001b[0;34m)\u001b[0m\u001b[0;34m\u001b[0m\u001b[0m\n\u001b[1;32m   1531\u001b[0m \u001b[0;34m\u001b[0m\u001b[0m\n",
      "\u001b[0;32m/opt/conda/lib/python3.6/site-packages/matplotlib/axes/_base.py\u001b[0m in \u001b[0;36madd_line\u001b[0;34m(self, line)\u001b[0m\n\u001b[1;32m   1958\u001b[0m             \u001b[0mline\u001b[0m\u001b[0;34m.\u001b[0m\u001b[0mset_clip_path\u001b[0m\u001b[0;34m(\u001b[0m\u001b[0mself\u001b[0m\u001b[0;34m.\u001b[0m\u001b[0mpatch\u001b[0m\u001b[0;34m)\u001b[0m\u001b[0;34m\u001b[0m\u001b[0m\n\u001b[1;32m   1959\u001b[0m \u001b[0;34m\u001b[0m\u001b[0m\n\u001b[0;32m-> 1960\u001b[0;31m         \u001b[0mself\u001b[0m\u001b[0;34m.\u001b[0m\u001b[0m_update_line_limits\u001b[0m\u001b[0;34m(\u001b[0m\u001b[0mline\u001b[0m\u001b[0;34m)\u001b[0m\u001b[0;34m\u001b[0m\u001b[0m\n\u001b[0m\u001b[1;32m   1961\u001b[0m         \u001b[0;32mif\u001b[0m \u001b[0;32mnot\u001b[0m \u001b[0mline\u001b[0m\u001b[0;34m.\u001b[0m\u001b[0mget_label\u001b[0m\u001b[0;34m(\u001b[0m\u001b[0;34m)\u001b[0m\u001b[0;34m:\u001b[0m\u001b[0;34m\u001b[0m\u001b[0m\n\u001b[1;32m   1962\u001b[0m             \u001b[0mline\u001b[0m\u001b[0;34m.\u001b[0m\u001b[0mset_label\u001b[0m\u001b[0;34m(\u001b[0m\u001b[0;34m'_line%d'\u001b[0m \u001b[0;34m%\u001b[0m \u001b[0mlen\u001b[0m\u001b[0;34m(\u001b[0m\u001b[0mself\u001b[0m\u001b[0;34m.\u001b[0m\u001b[0mlines\u001b[0m\u001b[0;34m)\u001b[0m\u001b[0;34m)\u001b[0m\u001b[0;34m\u001b[0m\u001b[0m\n",
      "\u001b[0;32m/opt/conda/lib/python3.6/site-packages/matplotlib/axes/_base.py\u001b[0m in \u001b[0;36m_update_line_limits\u001b[0;34m(self, line)\u001b[0m\n\u001b[1;32m   1980\u001b[0m         \u001b[0mFigures\u001b[0m \u001b[0mout\u001b[0m \u001b[0mthe\u001b[0m \u001b[0mdata\u001b[0m \u001b[0mlimit\u001b[0m \u001b[0mof\u001b[0m \u001b[0mthe\u001b[0m \u001b[0mgiven\u001b[0m \u001b[0mline\u001b[0m\u001b[0;34m,\u001b[0m \u001b[0mupdating\u001b[0m \u001b[0mself\u001b[0m\u001b[0;34m.\u001b[0m\u001b[0mdataLim\u001b[0m\u001b[0;34m.\u001b[0m\u001b[0;34m\u001b[0m\u001b[0m\n\u001b[1;32m   1981\u001b[0m         \"\"\"\n\u001b[0;32m-> 1982\u001b[0;31m         \u001b[0mpath\u001b[0m \u001b[0;34m=\u001b[0m \u001b[0mline\u001b[0m\u001b[0;34m.\u001b[0m\u001b[0mget_path\u001b[0m\u001b[0;34m(\u001b[0m\u001b[0;34m)\u001b[0m\u001b[0;34m\u001b[0m\u001b[0m\n\u001b[0m\u001b[1;32m   1983\u001b[0m         \u001b[0;32mif\u001b[0m \u001b[0mpath\u001b[0m\u001b[0;34m.\u001b[0m\u001b[0mvertices\u001b[0m\u001b[0;34m.\u001b[0m\u001b[0msize\u001b[0m \u001b[0;34m==\u001b[0m \u001b[0;36m0\u001b[0m\u001b[0;34m:\u001b[0m\u001b[0;34m\u001b[0m\u001b[0m\n\u001b[1;32m   1984\u001b[0m             \u001b[0;32mreturn\u001b[0m\u001b[0;34m\u001b[0m\u001b[0m\n",
      "\u001b[0;32m/opt/conda/lib/python3.6/site-packages/matplotlib/lines.py\u001b[0m in \u001b[0;36mget_path\u001b[0;34m(self)\u001b[0m\n\u001b[1;32m    954\u001b[0m         \"\"\"\n\u001b[1;32m    955\u001b[0m         \u001b[0;32mif\u001b[0m \u001b[0mself\u001b[0m\u001b[0;34m.\u001b[0m\u001b[0m_invalidy\u001b[0m \u001b[0;32mor\u001b[0m \u001b[0mself\u001b[0m\u001b[0;34m.\u001b[0m\u001b[0m_invalidx\u001b[0m\u001b[0;34m:\u001b[0m\u001b[0;34m\u001b[0m\u001b[0m\n\u001b[0;32m--> 956\u001b[0;31m             \u001b[0mself\u001b[0m\u001b[0;34m.\u001b[0m\u001b[0mrecache\u001b[0m\u001b[0;34m(\u001b[0m\u001b[0;34m)\u001b[0m\u001b[0;34m\u001b[0m\u001b[0m\n\u001b[0m\u001b[1;32m    957\u001b[0m         \u001b[0;32mreturn\u001b[0m \u001b[0mself\u001b[0m\u001b[0;34m.\u001b[0m\u001b[0m_path\u001b[0m\u001b[0;34m\u001b[0m\u001b[0m\n\u001b[1;32m    958\u001b[0m \u001b[0;34m\u001b[0m\u001b[0m\n",
      "\u001b[0;32m/opt/conda/lib/python3.6/site-packages/matplotlib/lines.py\u001b[0m in \u001b[0;36mrecache\u001b[0;34m(self, always)\u001b[0m\n\u001b[1;32m    655\u001b[0m         \u001b[0;32mif\u001b[0m \u001b[0malways\u001b[0m \u001b[0;32mor\u001b[0m \u001b[0mself\u001b[0m\u001b[0;34m.\u001b[0m\u001b[0m_invalidy\u001b[0m\u001b[0;34m:\u001b[0m\u001b[0;34m\u001b[0m\u001b[0m\n\u001b[1;32m    656\u001b[0m             \u001b[0myconv\u001b[0m \u001b[0;34m=\u001b[0m \u001b[0mself\u001b[0m\u001b[0;34m.\u001b[0m\u001b[0mconvert_yunits\u001b[0m\u001b[0;34m(\u001b[0m\u001b[0mself\u001b[0m\u001b[0;34m.\u001b[0m\u001b[0m_yorig\u001b[0m\u001b[0;34m)\u001b[0m\u001b[0;34m\u001b[0m\u001b[0m\n\u001b[0;32m--> 657\u001b[0;31m             \u001b[0my\u001b[0m \u001b[0;34m=\u001b[0m \u001b[0m_to_unmasked_float_array\u001b[0m\u001b[0;34m(\u001b[0m\u001b[0myconv\u001b[0m\u001b[0;34m)\u001b[0m\u001b[0;34m.\u001b[0m\u001b[0mravel\u001b[0m\u001b[0;34m(\u001b[0m\u001b[0;34m)\u001b[0m\u001b[0;34m\u001b[0m\u001b[0m\n\u001b[0m\u001b[1;32m    658\u001b[0m         \u001b[0;32melse\u001b[0m\u001b[0;34m:\u001b[0m\u001b[0;34m\u001b[0m\u001b[0m\n\u001b[1;32m    659\u001b[0m             \u001b[0my\u001b[0m \u001b[0;34m=\u001b[0m \u001b[0mself\u001b[0m\u001b[0;34m.\u001b[0m\u001b[0m_y\u001b[0m\u001b[0;34m\u001b[0m\u001b[0m\n",
      "\u001b[0;32m/opt/conda/lib/python3.6/site-packages/matplotlib/cbook/__init__.py\u001b[0m in \u001b[0;36m_to_unmasked_float_array\u001b[0;34m(x)\u001b[0m\n\u001b[1;32m   2050\u001b[0m         \u001b[0;32mreturn\u001b[0m \u001b[0mnp\u001b[0m\u001b[0;34m.\u001b[0m\u001b[0mma\u001b[0m\u001b[0;34m.\u001b[0m\u001b[0masarray\u001b[0m\u001b[0;34m(\u001b[0m\u001b[0mx\u001b[0m\u001b[0;34m,\u001b[0m \u001b[0mfloat\u001b[0m\u001b[0;34m)\u001b[0m\u001b[0;34m.\u001b[0m\u001b[0mfilled\u001b[0m\u001b[0;34m(\u001b[0m\u001b[0mnp\u001b[0m\u001b[0;34m.\u001b[0m\u001b[0mnan\u001b[0m\u001b[0;34m)\u001b[0m\u001b[0;34m\u001b[0m\u001b[0m\n\u001b[1;32m   2051\u001b[0m     \u001b[0;32melse\u001b[0m\u001b[0;34m:\u001b[0m\u001b[0;34m\u001b[0m\u001b[0m\n\u001b[0;32m-> 2052\u001b[0;31m         \u001b[0;32mreturn\u001b[0m \u001b[0mnp\u001b[0m\u001b[0;34m.\u001b[0m\u001b[0masarray\u001b[0m\u001b[0;34m(\u001b[0m\u001b[0mx\u001b[0m\u001b[0;34m,\u001b[0m \u001b[0mfloat\u001b[0m\u001b[0;34m)\u001b[0m\u001b[0;34m\u001b[0m\u001b[0m\n\u001b[0m\u001b[1;32m   2053\u001b[0m \u001b[0;34m\u001b[0m\u001b[0m\n\u001b[1;32m   2054\u001b[0m \u001b[0;34m\u001b[0m\u001b[0m\n",
      "\u001b[0;32m/opt/conda/lib/python3.6/site-packages/numpy/core/numeric.py\u001b[0m in \u001b[0;36masarray\u001b[0;34m(a, dtype, order)\u001b[0m\n\u001b[1;32m    499\u001b[0m \u001b[0;34m\u001b[0m\u001b[0m\n\u001b[1;32m    500\u001b[0m     \"\"\"\n\u001b[0;32m--> 501\u001b[0;31m     \u001b[0;32mreturn\u001b[0m \u001b[0marray\u001b[0m\u001b[0;34m(\u001b[0m\u001b[0ma\u001b[0m\u001b[0;34m,\u001b[0m \u001b[0mdtype\u001b[0m\u001b[0;34m,\u001b[0m \u001b[0mcopy\u001b[0m\u001b[0;34m=\u001b[0m\u001b[0;32mFalse\u001b[0m\u001b[0;34m,\u001b[0m \u001b[0morder\u001b[0m\u001b[0;34m=\u001b[0m\u001b[0morder\u001b[0m\u001b[0;34m)\u001b[0m\u001b[0;34m\u001b[0m\u001b[0m\n\u001b[0m\u001b[1;32m    502\u001b[0m \u001b[0;34m\u001b[0m\u001b[0m\n\u001b[1;32m    503\u001b[0m \u001b[0;34m\u001b[0m\u001b[0m\n",
      "\u001b[0;31mValueError\u001b[0m: setting an array element with a sequence."
     ]
    },
    {
     "data": {
      "image/png": "[encoded data removed]",
      "text/plain": [
       "<Figure size 432x288 with 1 Axes>"
      ]
     },
     "metadata": {},
     "output_type": "display_data"
    }
   ],
   "source": [
    "N = 1000\n",
    "t0 = 0\n",
    "t = 10\n",
    "steps = [4, 8, 16, 32, 64, 128, 256, 512, 1024]\n",
    "result_analytic = analytic(N, t)\n",
    "\n",
    "RK4error = []\n",
    "eulererror = []\n",
    "for i in steps:\n",
    "    RK4error.append((result_analytic-(solve_RK4(f_rad, N, t0, t/i, i)))/result_analytic)  \n",
    "    eulererror.append((result_analytic-(solve_euler(f_rad, N, t0, t/i, i)))/result_analytic)\n",
    "\n",
    "print(RK4error)\n",
    "    \n",
    "plt.loglog()\n",
    "plt.plot(steps, RK4error)\n",
    "plt.plot(steps, eulererror)\n",
    "\n",
    "\n",
    "plt.xlabel('number of steps N')\n",
    "plt.ylabel('integration error')\n",
    "plt.title('Integration error as a function of N panels')"
   ]
  },
  {
   "cell_type": "code",
   "execution_count": null,
   "metadata": {},
   "outputs": [],
   "source": []
  },
  {
   "cell_type": "code",
   "execution_count": null,
   "metadata": {},
   "outputs": [],
   "source": []
  }
 ],
 "metadata": {
  "kernelspec": {
   "display_name": "Python 3",
   "language": "python",
   "name": "python3"
  },
  "language_info": {
   "codemirror_mode": {
    "name": "ipython",
    "version": 3
   },
   "file_extension": ".py",
   "mimetype": "text/x-python",
   "name": "python",
   "nbconvert_exporter": "python",
   "pygments_lexer": "ipython3",
   "version": "3.6.3"
  },
  "toc": {
   "base_numbering": 1,
   "nav_menu": {},
   "number_sections": false,
   "sideBar": true,
   "skip_h1_title": false,
   "title_cell": "Table of Contents",
   "title_sidebar": "Contents",
   "toc_cell": false,
   "toc_position": {},
   "toc_section_display": true,
   "toc_window_display": false
  }
 },
 "nbformat": 4,
 "nbformat_minor": 2
}
