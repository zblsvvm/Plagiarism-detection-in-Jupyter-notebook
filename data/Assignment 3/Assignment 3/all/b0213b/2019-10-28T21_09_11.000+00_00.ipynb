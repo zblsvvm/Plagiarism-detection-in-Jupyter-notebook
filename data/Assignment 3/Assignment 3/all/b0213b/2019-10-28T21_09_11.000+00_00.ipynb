{
 "cells": [
  {
   "cell_type": "markdown",
   "metadata": {
    "deletable": false,
    "editable": false,
    "nbgrader": {
     "cell_type": "markdown",
     "checksum": "9e255c2f6a00086caac01bd9f93ae0fd",
     "grade": false,
     "grade_id": "cell-653a2d7b8720a14f",
     "locked": true,
     "schema_version": 3,
     "solution": false
    }
   },
   "source": [
    "# <center>L2 Computational Physics</center>\n",
    "\n",
    "## <center>Week 3: Differential Equations I</center>"
   ]
  },
  {
   "cell_type": "code",
   "execution_count": 1,
   "metadata": {
    "deletable": false,
    "editable": false,
    "nbgrader": {
     "cell_type": "code",
     "checksum": "96aa70f20e306039b1ae0aad9e021a86",
     "grade": false,
     "grade_id": "imports",
     "locked": true,
     "schema_version": 3,
     "solution": false
    }
   },
   "outputs": [],
   "source": [
    "# usual packages to import\n",
    "import numpy \n",
    "import matplotlib.pyplot as plt\n",
    "%matplotlib inline"
   ]
  },
  {
   "cell_type": "markdown",
   "metadata": {
    "deletable": false,
    "editable": false,
    "nbgrader": {
     "cell_type": "markdown",
     "checksum": "b26b91b158cd26a964af9866fcae4f62",
     "grade": false,
     "grade_id": "introduction",
     "locked": true,
     "schema_version": 3,
     "solution": false
    }
   },
   "source": [
    "In this notebook, you will generate and plot the decay curve for Iodine-133 analytically and numerically. $^{133}\\textrm{I}$ has a half life $t_{1/2}$ of 20.8 hours. This means that half of the nuclei will have decayed after time $t_{1/2}$. Derive the mean lifetime $\\tau$ from that information."
   ]
  },
  {
   "cell_type": "code",
   "execution_count": 2,
   "metadata": {
    "deletable": false,
    "nbgrader": {
     "cell_type": "code",
     "checksum": "1f32203e67620dad43f0e3253b2b80d0",
     "grade": false,
     "grade_id": "constants",
     "locked": false,
     "schema_version": 3,
     "solution": true
    }
   },
   "outputs": [],
   "source": [
    "# define a function to calculate the mean lifetime from the half life\n",
    "def meanLifetime(halfLife):\n",
    "    # YOUR CODE HERE\n",
    "    tau = (halfLife)/numpy.log(2);\n",
    "    return tau;\n",
    "\n",
    "T_HALF = 20.8\n",
    "TAU = meanLifetime(T_HALF)\n"
   ]
  },
  {
   "cell_type": "markdown",
   "metadata": {
    "deletable": false,
    "editable": false,
    "nbgrader": {
     "cell_type": "markdown",
     "checksum": "474783dac86dd74a9510b7a6dccccb55",
     "grade": false,
     "grade_id": "cell-7ed602ac8b4a8623",
     "locked": true,
     "schema_version": 3,
     "solution": false
    }
   },
   "source": [
    "Check your average lifetime:"
   ]
  },
  {
   "cell_type": "code",
   "execution_count": 14,
   "metadata": {
    "deletable": false,
    "editable": false,
    "nbgrader": {
     "cell_type": "code",
     "checksum": "5b581ceaabfd40522833ba0df84148e3",
     "grade": true,
     "grade_id": "constants_check",
     "locked": true,
     "points": 1,
     "schema_version": 3,
     "solution": false
    }
   },
   "outputs": [],
   "source": [
    "# this test is worth 1 mark\n",
    "assert numpy.isclose(TAU, 30.0080568505)         "
   ]
  },
  {
   "cell_type": "markdown",
   "metadata": {
    "deletable": false,
    "editable": false,
    "nbgrader": {
     "cell_type": "markdown",
     "checksum": "6b5e2bcf6c6e49eda2f081cccb315844",
     "grade": false,
     "grade_id": "cell-864b8c95035f9b93",
     "locked": true,
     "schema_version": 3,
     "solution": false
    }
   },
   "source": [
    "### The Decay Equation"
   ]
  },
  {
   "cell_type": "markdown",
   "metadata": {
    "deletable": false,
    "editable": false,
    "nbgrader": {
     "cell_type": "markdown",
     "checksum": "b6c5672c9f405cb9a80f72ab719fc145",
     "grade": false,
     "grade_id": "decay_introduction",
     "locked": true,
     "schema_version": 3,
     "solution": false
    }
   },
   "source": [
    "Implement the function `f_rad` such that the differential equation \n",
    "\n",
    "$$ \\frac{dN}{dt} = f_{rad}(N,t)$$\n",
    "\n",
    "describes the radioactive decay process.\n",
    "\n",
    "- *Your function should return values using hours as the time unit.*\n",
    "- *The function should use the constant* `TAU`."
   ]
  },
  {
   "cell_type": "code",
   "execution_count": 160,
   "metadata": {
    "deletable": false,
    "nbgrader": {
     "cell_type": "code",
     "checksum": "457d82a875c5d8e48187fa31401c9e97",
     "grade": false,
     "grade_id": "decay_function",
     "locked": false,
     "schema_version": 3,
     "solution": true
    }
   },
   "outputs": [],
   "source": [
    "def f_rad(N, t):\n",
    "    # YOUR CODE HERE\n",
    "    r = -(1/TAU)*N;\n",
    "    #r = (-(N)*numpy.exp(-(t/TAU)))/TAU;\n",
    "    return r;\n",
    "\n",
    "\n",
    "#see time dependence"
   ]
  },
  {
   "cell_type": "code",
   "execution_count": 132,
   "metadata": {},
   "outputs": [
    {
     "data": {
      "text/plain": [
       "-27.285162863843578"
      ]
     },
     "execution_count": 132,
     "metadata": {},
     "output_type": "execute_result"
    }
   ],
   "source": [
    "f_rad(1000,6)"
   ]
  },
  {
   "cell_type": "markdown",
   "metadata": {
    "deletable": false,
    "editable": false,
    "nbgrader": {
     "cell_type": "markdown",
     "checksum": "1b781e9bfdf185906da10a3fce5afc03",
     "grade": false,
     "grade_id": "cell-d59ccbc070af010b",
     "locked": true,
     "schema_version": 3,
     "solution": false
    }
   },
   "source": [
    "Make sure your function works:"
   ]
  },
  {
   "cell_type": "code",
   "execution_count": 41,
   "metadata": {
    "deletable": false,
    "editable": false,
    "nbgrader": {
     "cell_type": "code",
     "checksum": "87996117de466ae5951d10c9cba1f259",
     "grade": true,
     "grade_id": "decay_test",
     "locked": true,
     "points": 1,
     "schema_version": 3,
     "solution": false
    }
   },
   "outputs": [],
   "source": [
    "# this test cell is worth 1 mark\n",
    "assert numpy.isclose(f_rad(1000, 0), -33.324383681)           "
   ]
  },
  {
   "cell_type": "markdown",
   "metadata": {
    "deletable": false,
    "editable": false,
    "nbgrader": {
     "cell_type": "markdown",
     "checksum": "007a2d2688cd376a73cc4c6d0e0baff1",
     "grade": false,
     "grade_id": "analytic_introduction",
     "locked": true,
     "schema_version": 3,
     "solution": false
    }
   },
   "source": [
    "Solve this first order, ordinary differential equation analytically. Implement this function below, naming it `analytic`. The function should take an initial number of atoms `N0` at time `t=0`, and a time argument. The function should return nuclei count at the time argument. Make sure the function also works for numpy arrays."
   ]
  },
  {
   "cell_type": "code",
   "execution_count": 212,
   "metadata": {
    "deletable": false,
    "nbgrader": {
     "cell_type": "code",
     "checksum": "d5f8a683edd2825602878f6dee9d6c21",
     "grade": false,
     "grade_id": "analytic_function",
     "locked": false,
     "schema_version": 3,
     "solution": true
    }
   },
   "outputs": [],
   "source": [
    "def analytic(N0, t):\n",
    "    # YOUR CODE HERE\n",
    "    Nt = (N0)*numpy.exp(-(t/TAU));\n",
    "    return Nt;"
   ]
  },
  {
   "cell_type": "markdown",
   "metadata": {
    "deletable": false,
    "editable": false,
    "nbgrader": {
     "cell_type": "markdown",
     "checksum": "9a4d0cc32dcf367bc150dd45d10d4285",
     "grade": false,
     "grade_id": "cell-18ca8dc7e04d23a3",
     "locked": true,
     "schema_version": 3,
     "solution": false
    }
   },
   "source": [
    "Check your answer for a single time:"
   ]
  },
  {
   "cell_type": "code",
   "execution_count": 109,
   "metadata": {
    "deletable": false,
    "editable": false,
    "nbgrader": {
     "cell_type": "code",
     "checksum": "ab62ed3d3535e88940e063c1c4a12d84",
     "grade": true,
     "grade_id": "analytic_test",
     "locked": true,
     "points": 1,
     "schema_version": 3,
     "solution": false
    }
   },
   "outputs": [],
   "source": [
    "# this test is worth 1 mark\n",
    "assert numpy.isclose(analytic(1000, 41.6), 250.0)           "
   ]
  },
  {
   "cell_type": "code",
   "execution_count": 226,
   "metadata": {
    "deletable": false,
    "editable": false,
    "nbgrader": {
     "cell_type": "code",
     "checksum": "bafe495357c897607c0ddf170f01b6cd",
     "grade": true,
     "grade_id": "analytic_test_array",
     "locked": true,
     "points": 2,
     "schema_version": 3,
     "solution": false
    }
   },
   "outputs": [],
   "source": [
    "# this test is worth 1 mark\n",
    "assert numpy.isclose(analytic(1000, numpy.arange(0, 60, 6)), \n",
    "                     [1000.        ,  818.77471839,  670.39203948,  548.90005334,\n",
    "                       449.4254866 ,  367.97822623,  301.29126855,  246.68967356,\n",
    "                       201.983268  ,  165.37879338]).all()\n"
   ]
  },
  {
   "cell_type": "markdown",
   "metadata": {
    "deletable": false,
    "editable": false,
    "nbgrader": {
     "cell_type": "markdown",
     "checksum": "307e9faa76135ad8d47eab7472b50e0a",
     "grade": false,
     "grade_id": "cell-e43cb07c20fa5758",
     "locked": true,
     "schema_version": 3,
     "solution": false
    }
   },
   "source": [
    "## Numerically Solving the ODE"
   ]
  },
  {
   "cell_type": "markdown",
   "metadata": {
    "deletable": false,
    "editable": false,
    "nbgrader": {
     "cell_type": "markdown",
     "checksum": "60f79d9c7fa0d2d94bc79706ab1ae03d",
     "grade": false,
     "grade_id": "cell-1cd6e2a66887f196",
     "locked": true,
     "schema_version": 3,
     "solution": false
    }
   },
   "source": [
    "We now wish to solve our differential equation numerically. We shall do this using Euler's and RK4 methods."
   ]
  },
  {
   "cell_type": "markdown",
   "metadata": {
    "deletable": false,
    "editable": false,
    "nbgrader": {
     "cell_type": "markdown",
     "checksum": "506315221a1ce2a83589f0664570efcb",
     "grade": false,
     "grade_id": "cell-1a07e2754604c846",
     "locked": true,
     "schema_version": 3,
     "solution": false
    }
   },
   "source": [
    "### Euler's Method"
   ]
  },
  {
   "cell_type": "markdown",
   "metadata": {
    "deletable": false,
    "editable": false,
    "nbgrader": {
     "cell_type": "markdown",
     "checksum": "d54ff05e541949049048ca38c990052f",
     "grade": false,
     "grade_id": "euler_introduction",
     "locked": true,
     "schema_version": 3,
     "solution": false
    }
   },
   "source": [
    "Create a function which takes as its arguments the initial number of atoms, `n0`, the initial time `t0`, the time step, `dt`, and the number of steps to perform, `n_steps`.  This function should return an array of the number of counts at each time step using Euler's method. This array should contain the initial and final values, so the array length should be `n_steps+1` "
   ]
  },
  {
   "cell_type": "code",
   "execution_count": 247,
   "metadata": {
    "deletable": false,
    "nbgrader": {
     "cell_type": "code",
     "checksum": "013501145cd3d22fc032e943bb1d1ea1",
     "grade": false,
     "grade_id": "euler_function",
     "locked": false,
     "schema_version": 3,
     "solution": true
    }
   },
   "outputs": [],
   "source": [
    "def solve_euler(f, n0, t0, dt, n_panels):\n",
    "    # YOUR CODE HERE\n",
    "    ar = [n0]\n",
    "    nx = n0\n",
    "    for i in range(1,n_panels+1):\n",
    "        #nx = nx + ((dt)*f(nx,t0+(dt*(i-1))));\n",
    "        nx = nx + ((dt)*f(nx,t0));\n",
    "        ar.append(nx);\n",
    "    return ar;"
   ]
  },
  {
   "cell_type": "code",
   "execution_count": 225,
   "metadata": {},
   "outputs": [
    {
     "name": "stdout",
     "output_type": "stream",
     "text": [
      "[1000, 800.0536979154003, 640.0859195481066, 512.1031069180422, 409.7099844037453, 327.78998809507743, 262.2495921151118, 209.8137559485006, 167.86227132011726, 134.29883091013807, 107.44627629537104]\n"
     ]
    }
   ],
   "source": [
    "print(solve_euler(f_rad,1000,20,6,10))"
   ]
  },
  {
   "cell_type": "markdown",
   "metadata": {
    "deletable": false,
    "editable": false,
    "nbgrader": {
     "cell_type": "markdown",
     "checksum": "45340539b0c9b862d47028a5f97eb352",
     "grade": false,
     "grade_id": "cell-00862d5c2364027a",
     "locked": true,
     "schema_version": 3,
     "solution": false
    }
   },
   "source": [
    "Try your solution:"
   ]
  },
  {
   "cell_type": "code",
   "execution_count": 201,
   "metadata": {
    "deletable": false,
    "editable": false,
    "nbgrader": {
     "cell_type": "code",
     "checksum": "4b131e25e6aa3c8dae913e63d911771f",
     "grade": true,
     "grade_id": "euler_test_length",
     "locked": true,
     "points": 1,
     "schema_version": 3,
     "solution": false,
     "task": false
    }
   },
   "outputs": [],
   "source": [
    "# this test is worth 1 mark\n",
    "assert len(solve_euler(f_rad, 1000, 0, 1, 17)) == 18"
   ]
  },
  {
   "cell_type": "code",
   "execution_count": 202,
   "metadata": {
    "deletable": false,
    "editable": false,
    "nbgrader": {
     "cell_type": "code",
     "checksum": "fe20ccbd32656ef965ec3f9a7a415119",
     "grade": true,
     "grade_id": "euler_test_one",
     "locked": true,
     "points": 2,
     "schema_version": 3,
     "solution": false
    }
   },
   "outputs": [],
   "source": [
    "# this test is worth 2 marks\n",
    "assert numpy.isclose(solve_euler(f_rad, 1000, 0, 6, 1), [1000.,  800.05369792]).all()"
   ]
  },
  {
   "cell_type": "code",
   "execution_count": 203,
   "metadata": {
    "deletable": false,
    "editable": false,
    "nbgrader": {
     "cell_type": "code",
     "checksum": "d959639ea019b5a5bf260b744ed9a1e8",
     "grade": true,
     "grade_id": "euler_test_many",
     "locked": true,
     "points": 2,
     "schema_version": 3,
     "solution": false
    }
   },
   "outputs": [],
   "source": [
    "# this test is worth 2 mark\n",
    "assert numpy.isclose(solve_euler(f_rad, 1000, 0, 6, 10), [1000.        ,  800.05369792,  640.08591955,  512.10310692,\n",
    "                                                409.7099844 ,  327.7899881 ,  262.24959212,  209.81375595,\n",
    "                                                167.86227132,  134.29883091,  107.4462763 ]).all()"
   ]
  },
  {
   "cell_type": "markdown",
   "metadata": {
    "deletable": false,
    "editable": false,
    "nbgrader": {
     "cell_type": "markdown",
     "checksum": "860387a32a77ca0cdf4007ccdf282e18",
     "grade": false,
     "grade_id": "cell-9afd689c4b5b66e4",
     "locked": true,
     "schema_version": 3,
     "solution": false,
     "task": false
    }
   },
   "source": [
    "### RK 4 method"
   ]
  },
  {
   "cell_type": "markdown",
   "metadata": {
    "deletable": false,
    "editable": false,
    "nbgrader": {
     "cell_type": "markdown",
     "checksum": "ffb95947375cff594bf6f0659f1467c0",
     "grade": false,
     "grade_id": "cell-b46cd6a3a22d98eb",
     "locked": true,
     "schema_version": 3,
     "solution": false,
     "task": false
    }
   },
   "source": [
    "Implement the RK4 method in the `solve_RK4` function. The arguments are the same as for `solve_euler`."
   ]
  },
  {
   "cell_type": "code",
   "execution_count": 248,
   "metadata": {
    "deletable": false,
    "nbgrader": {
     "cell_type": "code",
     "checksum": "611b8f6c6a052ff1085a80404fc92a2b",
     "grade": false,
     "grade_id": "RK4",
     "locked": false,
     "schema_version": 3,
     "solution": true,
     "task": false
    }
   },
   "outputs": [
    {
     "ename": "NameError",
     "evalue": "name 'n_steps' is not defined",
     "output_type": "error",
     "traceback": [
      "\u001b[0;31m---------------------------------------------------------------------------\u001b[0m",
      "\u001b[0;31mNameError\u001b[0m                                 Traceback (most recent call last)",
      "\u001b[0;32m<ipython-input-248-8cd28260cfeb>\u001b[0m in \u001b[0;36m<module>\u001b[0;34m()\u001b[0m\n\u001b[1;32m      3\u001b[0m     \u001b[0mar\u001b[0m \u001b[0;34m=\u001b[0m \u001b[0;34m[\u001b[0m\u001b[0mn0\u001b[0m\u001b[0;34m]\u001b[0m\u001b[0;34m\u001b[0m\u001b[0m\n\u001b[1;32m      4\u001b[0m     \u001b[0mnx\u001b[0m \u001b[0;34m=\u001b[0m \u001b[0mn0\u001b[0m\u001b[0;34m\u001b[0m\u001b[0m\n\u001b[0;32m----> 5\u001b[0;31m \u001b[0;32mfor\u001b[0m \u001b[0mi\u001b[0m \u001b[0;32min\u001b[0m \u001b[0mrange\u001b[0m\u001b[0;34m(\u001b[0m\u001b[0;36m1\u001b[0m\u001b[0;34m,\u001b[0m\u001b[0mn_steps\u001b[0m\u001b[0;34m+\u001b[0m\u001b[0;36m1\u001b[0m\u001b[0;34m)\u001b[0m\u001b[0;34m:\u001b[0m\u001b[0;34m\u001b[0m\u001b[0m\n\u001b[0m\u001b[1;32m      6\u001b[0m     \u001b[0mk1\u001b[0m \u001b[0;34m=\u001b[0m \u001b[0mf\u001b[0m\u001b[0;34m(\u001b[0m\u001b[0mnx\u001b[0m\u001b[0;34m,\u001b[0m\u001b[0mt0\u001b[0m\u001b[0;34m)\u001b[0m\u001b[0;34m;\u001b[0m\u001b[0;34m\u001b[0m\u001b[0m\n\u001b[1;32m      7\u001b[0m     \u001b[0mk2\u001b[0m \u001b[0;34m=\u001b[0m \u001b[0mf\u001b[0m\u001b[0;34m(\u001b[0m\u001b[0mnx\u001b[0m\u001b[0;34m+\u001b[0m\u001b[0;34m(\u001b[0m\u001b[0mk1\u001b[0m\u001b[0;34m*\u001b[0m\u001b[0;34m(\u001b[0m\u001b[0mdt\u001b[0m\u001b[0;34m/\u001b[0m\u001b[0;36m2\u001b[0m\u001b[0;34m)\u001b[0m\u001b[0;34m)\u001b[0m\u001b[0;34m,\u001b[0m\u001b[0mt0\u001b[0m\u001b[0;34m)\u001b[0m\u001b[0;34m;\u001b[0m\u001b[0;34m\u001b[0m\u001b[0m\n",
      "\u001b[0;31mNameError\u001b[0m: name 'n_steps' is not defined"
     ]
    }
   ],
   "source": [
    "def solve_RK4(f, n0, t0, dt, n_steps):\n",
    "    # YOUR CODE HERE\n",
    "    ar = [n0]\n",
    "    nx = n0\n",
    "for i in range(1,n_steps+1):\n",
    "    k1 = f(nx,t0);\n",
    "    k2 = f(nx+(k1*(dt/2)),t0);\n",
    "    k3 = f(nx+(k2*(dt/2)),t0);\n",
    "    k4 = f(nx+(k3*dt),t0);\n",
    "    k = (1/6)*(k1+(2*k2)+(2*k3)+k4);\n",
    "    nx = n0 +(k*dt);\n",
    "    ar.append(nx);\n",
    "return ar;"
   ]
  },
  {
   "cell_type": "code",
   "execution_count": 230,
   "metadata": {
    "deletable": false,
    "editable": false,
    "nbgrader": {
     "cell_type": "code",
     "checksum": "0e92b0664845bd78bc9032ff5795c8f2",
     "grade": true,
     "grade_id": "RK4-test-1",
     "locked": true,
     "points": 1,
     "schema_version": 3,
     "solution": false,
     "task": false
    }
   },
   "outputs": [
    {
     "ename": "TypeError",
     "evalue": "object of type 'NoneType' has no len()",
     "output_type": "error",
     "traceback": [
      "\u001b[0;31m---------------------------------------------------------------------------\u001b[0m",
      "\u001b[0;31mTypeError\u001b[0m                                 Traceback (most recent call last)",
      "\u001b[0;32m<ipython-input-230-30aafc191006>\u001b[0m in \u001b[0;36m<module>\u001b[0;34m()\u001b[0m\n\u001b[1;32m      1\u001b[0m \u001b[0;31m# This checks that we return an array of the right length\u001b[0m\u001b[0;34m\u001b[0m\u001b[0;34m\u001b[0m\u001b[0m\n\u001b[1;32m      2\u001b[0m \u001b[0;31m# this test is worth 1 mark\u001b[0m\u001b[0;34m\u001b[0m\u001b[0;34m\u001b[0m\u001b[0m\n\u001b[0;32m----> 3\u001b[0;31m \u001b[0;32massert\u001b[0m \u001b[0mlen\u001b[0m\u001b[0;34m(\u001b[0m\u001b[0msolve_RK4\u001b[0m\u001b[0;34m(\u001b[0m\u001b[0mf_rad\u001b[0m\u001b[0;34m,\u001b[0m \u001b[0;36m1000\u001b[0m\u001b[0;34m,\u001b[0m \u001b[0;36m0\u001b[0m\u001b[0;34m,\u001b[0m \u001b[0;36m1\u001b[0m\u001b[0;34m,\u001b[0m \u001b[0;36m17\u001b[0m\u001b[0;34m)\u001b[0m\u001b[0;34m)\u001b[0m \u001b[0;34m==\u001b[0m \u001b[0;36m18\u001b[0m\u001b[0;34m\u001b[0m\u001b[0m\n\u001b[0m",
      "\u001b[0;31mTypeError\u001b[0m: object of type 'NoneType' has no len()"
     ]
    }
   ],
   "source": [
    "# This checks that we return an array of the right length\n",
    "# this test is worth 1 mark\n",
    "assert len(solve_RK4(f_rad, 1000, 0, 1, 17)) == 18"
   ]
  },
  {
   "cell_type": "code",
   "execution_count": 231,
   "metadata": {
    "deletable": false,
    "editable": false,
    "nbgrader": {
     "cell_type": "code",
     "checksum": "2cc4284fa713bc2d5af4f1366e54e7d9",
     "grade": true,
     "grade_id": "RK4-test-2",
     "locked": true,
     "points": 2,
     "schema_version": 3,
     "solution": false,
     "task": false
    }
   },
   "outputs": [
    {
     "ename": "TypeError",
     "evalue": "ufunc 'isfinite' not supported for the input types, and the inputs could not be safely coerced to any supported types according to the casting rule ''safe''",
     "output_type": "error",
     "traceback": [
      "\u001b[0;31m---------------------------------------------------------------------------\u001b[0m",
      "\u001b[0;31mTypeError\u001b[0m                                 Traceback (most recent call last)",
      "\u001b[0;32m<ipython-input-231-42020d739665>\u001b[0m in \u001b[0;36m<module>\u001b[0;34m()\u001b[0m\n\u001b[1;32m      1\u001b[0m \u001b[0;31m# This checks that a single step is working\u001b[0m\u001b[0;34m\u001b[0m\u001b[0;34m\u001b[0m\u001b[0m\n\u001b[1;32m      2\u001b[0m \u001b[0;31m# this test is worth 2 mark\u001b[0m\u001b[0;34m\u001b[0m\u001b[0;34m\u001b[0m\u001b[0m\n\u001b[0;32m----> 3\u001b[0;31m \u001b[0;32massert\u001b[0m \u001b[0mnumpy\u001b[0m\u001b[0;34m.\u001b[0m\u001b[0misclose\u001b[0m\u001b[0;34m(\u001b[0m\u001b[0msolve_RK4\u001b[0m\u001b[0;34m(\u001b[0m\u001b[0mf_rad\u001b[0m\u001b[0;34m,\u001b[0m \u001b[0;36m1000\u001b[0m\u001b[0;34m,\u001b[0m\u001b[0;36m0\u001b[0m\u001b[0;34m,\u001b[0m \u001b[0;36m6\u001b[0m\u001b[0;34m,\u001b[0m \u001b[0;36m1\u001b[0m\u001b[0;34m)\u001b[0m\u001b[0;34m,\u001b[0m \u001b[0;34m[\u001b[0m\u001b[0;36m1000.\u001b[0m\u001b[0;34m,\u001b[0m  \u001b[0;36m818.7773\u001b[0m\u001b[0;34m]\u001b[0m\u001b[0;34m)\u001b[0m\u001b[0;34m.\u001b[0m\u001b[0mall\u001b[0m\u001b[0;34m(\u001b[0m\u001b[0;34m)\u001b[0m\u001b[0;34m\u001b[0m\u001b[0m\n\u001b[0m",
      "\u001b[0;32m/opt/conda/lib/python3.6/site-packages/numpy/core/numeric.py\u001b[0m in \u001b[0;36misclose\u001b[0;34m(a, b, rtol, atol, equal_nan)\u001b[0m\n\u001b[1;32m   2361\u001b[0m     \u001b[0my\u001b[0m \u001b[0;34m=\u001b[0m \u001b[0marray\u001b[0m\u001b[0;34m(\u001b[0m\u001b[0my\u001b[0m\u001b[0;34m,\u001b[0m \u001b[0mdtype\u001b[0m\u001b[0;34m=\u001b[0m\u001b[0mdt\u001b[0m\u001b[0;34m,\u001b[0m \u001b[0mcopy\u001b[0m\u001b[0;34m=\u001b[0m\u001b[0;32mFalse\u001b[0m\u001b[0;34m,\u001b[0m \u001b[0msubok\u001b[0m\u001b[0;34m=\u001b[0m\u001b[0;32mTrue\u001b[0m\u001b[0;34m)\u001b[0m\u001b[0;34m\u001b[0m\u001b[0m\n\u001b[1;32m   2362\u001b[0m \u001b[0;34m\u001b[0m\u001b[0m\n\u001b[0;32m-> 2363\u001b[0;31m     \u001b[0mxfin\u001b[0m \u001b[0;34m=\u001b[0m \u001b[0misfinite\u001b[0m\u001b[0;34m(\u001b[0m\u001b[0mx\u001b[0m\u001b[0;34m)\u001b[0m\u001b[0;34m\u001b[0m\u001b[0m\n\u001b[0m\u001b[1;32m   2364\u001b[0m     \u001b[0myfin\u001b[0m \u001b[0;34m=\u001b[0m \u001b[0misfinite\u001b[0m\u001b[0;34m(\u001b[0m\u001b[0my\u001b[0m\u001b[0;34m)\u001b[0m\u001b[0;34m\u001b[0m\u001b[0m\n\u001b[1;32m   2365\u001b[0m     \u001b[0;32mif\u001b[0m \u001b[0mall\u001b[0m\u001b[0;34m(\u001b[0m\u001b[0mxfin\u001b[0m\u001b[0;34m)\u001b[0m \u001b[0;32mand\u001b[0m \u001b[0mall\u001b[0m\u001b[0;34m(\u001b[0m\u001b[0myfin\u001b[0m\u001b[0;34m)\u001b[0m\u001b[0;34m:\u001b[0m\u001b[0;34m\u001b[0m\u001b[0m\n",
      "\u001b[0;31mTypeError\u001b[0m: ufunc 'isfinite' not supported for the input types, and the inputs could not be safely coerced to any supported types according to the casting rule ''safe''"
     ]
    }
   ],
   "source": [
    "# This checks that a single step is working\n",
    "# this test is worth 2 mark\n",
    "assert numpy.isclose(solve_RK4(f_rad, 1000,0, 6, 1), [1000.,  818.7773]).all()"
   ]
  },
  {
   "cell_type": "code",
   "execution_count": 232,
   "metadata": {
    "deletable": false,
    "editable": false,
    "nbgrader": {
     "cell_type": "code",
     "checksum": "be67647e705ca3915a432ef233c6a96b",
     "grade": true,
     "grade_id": "RK4-test-3",
     "locked": true,
     "points": 2,
     "schema_version": 3,
     "solution": false,
     "task": false
    }
   },
   "outputs": [
    {
     "ename": "TypeError",
     "evalue": "ufunc 'isfinite' not supported for the input types, and the inputs could not be safely coerced to any supported types according to the casting rule ''safe''",
     "output_type": "error",
     "traceback": [
      "\u001b[0;31m---------------------------------------------------------------------------\u001b[0m",
      "\u001b[0;31mTypeError\u001b[0m                                 Traceback (most recent call last)",
      "\u001b[0;32m<ipython-input-232-0187a5525018>\u001b[0m in \u001b[0;36m<module>\u001b[0;34m()\u001b[0m\n\u001b[1;32m     12\u001b[0m     \u001b[0;36m201.98835345\u001b[0m\u001b[0;34m,\u001b[0m\u001b[0;34m\u001b[0m\u001b[0m\n\u001b[1;32m     13\u001b[0m     \u001b[0;36m165.3834777\u001b[0m\u001b[0;34m,\u001b[0m\u001b[0;34m\u001b[0m\u001b[0m\n\u001b[0;32m---> 14\u001b[0;31m     135.41223655]).all()\n\u001b[0m",
      "\u001b[0;32m/opt/conda/lib/python3.6/site-packages/numpy/core/numeric.py\u001b[0m in \u001b[0;36misclose\u001b[0;34m(a, b, rtol, atol, equal_nan)\u001b[0m\n\u001b[1;32m   2361\u001b[0m     \u001b[0my\u001b[0m \u001b[0;34m=\u001b[0m \u001b[0marray\u001b[0m\u001b[0;34m(\u001b[0m\u001b[0my\u001b[0m\u001b[0;34m,\u001b[0m \u001b[0mdtype\u001b[0m\u001b[0;34m=\u001b[0m\u001b[0mdt\u001b[0m\u001b[0;34m,\u001b[0m \u001b[0mcopy\u001b[0m\u001b[0;34m=\u001b[0m\u001b[0;32mFalse\u001b[0m\u001b[0;34m,\u001b[0m \u001b[0msubok\u001b[0m\u001b[0;34m=\u001b[0m\u001b[0;32mTrue\u001b[0m\u001b[0;34m)\u001b[0m\u001b[0;34m\u001b[0m\u001b[0m\n\u001b[1;32m   2362\u001b[0m \u001b[0;34m\u001b[0m\u001b[0m\n\u001b[0;32m-> 2363\u001b[0;31m     \u001b[0mxfin\u001b[0m \u001b[0;34m=\u001b[0m \u001b[0misfinite\u001b[0m\u001b[0;34m(\u001b[0m\u001b[0mx\u001b[0m\u001b[0;34m)\u001b[0m\u001b[0;34m\u001b[0m\u001b[0m\n\u001b[0m\u001b[1;32m   2364\u001b[0m     \u001b[0myfin\u001b[0m \u001b[0;34m=\u001b[0m \u001b[0misfinite\u001b[0m\u001b[0;34m(\u001b[0m\u001b[0my\u001b[0m\u001b[0;34m)\u001b[0m\u001b[0;34m\u001b[0m\u001b[0m\n\u001b[1;32m   2365\u001b[0m     \u001b[0;32mif\u001b[0m \u001b[0mall\u001b[0m\u001b[0;34m(\u001b[0m\u001b[0mxfin\u001b[0m\u001b[0;34m)\u001b[0m \u001b[0;32mand\u001b[0m \u001b[0mall\u001b[0m\u001b[0;34m(\u001b[0m\u001b[0myfin\u001b[0m\u001b[0;34m)\u001b[0m\u001b[0;34m:\u001b[0m\u001b[0;34m\u001b[0m\u001b[0m\n",
      "\u001b[0;31mTypeError\u001b[0m: ufunc 'isfinite' not supported for the input types, and the inputs could not be safely coerced to any supported types according to the casting rule ''safe''"
     ]
    }
   ],
   "source": [
    "# This checks multiple steps\n",
    "# this test is worth 2 marks\n",
    "assert numpy.isclose(solve_RK4(f_rad, 1000, 0, 6, 10), [\n",
    "    1000.,\n",
    "    818.77729521,  \n",
    "    670.39625915,  \n",
    "    548.90523578,\n",
    "    449.43114428,  \n",
    "    367.9840167,  \n",
    "    301.29695787,  \n",
    "    246.69510822, \n",
    "    201.98835345,  \n",
    "    165.3834777,  \n",
    "    135.41223655]).all()"
   ]
  },
  {
   "cell_type": "markdown",
   "metadata": {},
   "source": [
    "## Plotting task"
   ]
  },
  {
   "cell_type": "markdown",
   "metadata": {
    "deletable": false,
    "editable": false,
    "nbgrader": {
     "cell_type": "markdown",
     "checksum": "711a0e023c32f2bbd63b847d0eeaf33a",
     "grade": false,
     "grade_id": "plotting_task",
     "locked": true,
     "points": 5,
     "schema_version": 3,
     "solution": false,
     "task": true
    }
   },
   "source": [
    "**Task 1: **\n",
    "\n",
    "Create a plot to show that the RK4 method has an error that scales better with the number of steps than the Euler method. (click on the \"+\" button to create new cells.)       [task worth 5 marks]\n"
   ]
  },
  {
   "cell_type": "code",
   "execution_count": 256,
   "metadata": {},
   "outputs": [
    {
     "name": "stdout",
     "output_type": "stream",
     "text": [
      "[array([ 0.        , 33.32438368]), array([105.14124579, 138.46562947, 170.6794986 , 201.8198604 ,\n",
      "       231.92248883]), array([262.72323428, 296.04761796, 328.26148709, 359.40184889,\n",
      "       389.50447732, 418.60395422, 446.73370898, 473.926057  ,\n",
      "       500.21223678]), array([ 648.49995332,  681.824337  ,  714.03820613,  745.17856793,\n",
      "        775.28119636,  804.38067326,  832.51042802,  859.70277604,\n",
      "        885.98895582,  911.39916486,  935.96259435,  959.70746269,\n",
      "        982.66104792, 1004.84971907, 1026.29896643, 1047.03343085,\n",
      "       1067.07693201]), array([1809.63868746, 1842.96307114, 1875.17694028, 1906.31730207,\n",
      "       1936.41993051, 1965.5194074 , 1993.64916216, 2020.84151018,\n",
      "       2047.12768996, 2072.53789901, 2097.10132849, 2120.84619683,\n",
      "       2143.79978206, 2165.98845322, 2187.43770058, 2208.17216499,\n",
      "       2228.21566616, 2247.59123   , 2266.32111512, 2284.42683836,\n",
      "       2301.92919953, 2318.84830531, 2335.20359231, 2351.01384945,\n",
      "       2366.29723952, 2381.07132003, 2395.35306342, 2409.15887651,\n",
      "       2422.50461938, 2435.4056236 , 2447.87670981, 2459.93220475,\n",
      "       2471.58595776]), array([7161.56689418, 7194.89127786, 7227.105147  , 7258.2455088 ,\n",
      "       7288.34813723, 7317.44761412, 7345.57736888, 7372.7697169 ,\n",
      "       7399.05589669, 7424.46610573, 7449.02953521, 7472.77440355,\n",
      "       7495.72798879, 7517.91665994, 7539.3659073 , 7560.10037171,\n",
      "       7580.14387288, 7599.51943672, 7618.24932184, 7636.35504508,\n",
      "       7653.85740626, 7670.77651203, 7687.13179903, 7702.94205617,\n",
      "       7718.22544624, 7732.99952675, 7747.28127014, 7761.08708323,\n",
      "       7774.43282611, 7787.33383033, 7799.80491653, 7811.86041148,\n",
      "       7823.51416448, 7834.77956335, 7845.66954975, 7856.19663406,\n",
      "       7866.37290977, 7876.21006737, 7885.71940775, 7894.91185522,\n",
      "       7903.79797005, 7912.38796058, 7920.69169497, 7928.71871253,\n",
      "       7936.47823467, 7943.97917552, 7951.23015214, 7958.23949444,\n",
      "       7965.01525472, 7971.56521697, 7977.89690576, 7984.01759492,\n",
      "       7989.93431589, 7995.65386579, 8001.1828152 , 8006.52751579,\n",
      "       8011.69410752, 8016.68852576, 8021.5165081 , 8026.1836009 ,\n",
      "       8030.69516571, 8035.0563854 , 8039.27227014, 8043.34766311,\n",
      "       8047.28724612]), array([67868.35112736, 67901.67551104, 67933.88938018, 67965.02974198,\n",
      "       67995.13237041, 68024.2318473 , 68052.36160206, 68079.55395008,\n",
      "       68105.84012987, 68131.25033891, 68155.81376839, 68179.55863673,\n",
      "       68202.51222197, 68224.70089312, 68246.15014048, 68266.88460489,\n",
      "       68286.92810606, 68306.3036699 , 68325.03355502, 68343.13927826,\n",
      "       68360.64163944, 68377.56074521, 68393.91603221, 68409.72628935,\n",
      "       68425.00967942, 68439.78375993, 68454.06550332, 68467.87131641,\n",
      "       68481.21705929, 68494.11806351, 68506.58914971, 68518.64464466,\n",
      "       68530.29839766, 68541.56379653, 68552.45378293, 68562.98086724,\n",
      "       68573.15714295, 68582.99430055, 68592.50364093, 68601.6960884 ,\n",
      "       68610.58220323, 68619.17219376, 68627.47592815, 68635.50294571,\n",
      "       68643.26246785, 68650.7634087 , 68658.01438532, 68665.02372762,\n",
      "       68671.7994879 , 68678.34945015, 68684.68113894, 68690.8018281 ,\n",
      "       68696.71854907, 68702.43809897, 68707.96704838, 68713.31174897,\n",
      "       68718.4783407 , 68723.47275894, 68728.30074128, 68732.96783408,\n",
      "       68737.47939889, 68741.84061858, 68746.05650332, 68750.13189629,\n",
      "       68754.0714793 , 68757.87977814, 68761.56116777, 68765.11987736,\n",
      "       68768.55999514, 68771.88547312, 68775.10013159, 68778.20766355,\n",
      "       68781.21163893, 68784.11550868, 68786.92260875, 68789.63616395,\n",
      "       68792.25929159, 68794.79500512, 68797.24621756, 68799.61574486,\n",
      "       68801.90630912, 68804.12054173, 68806.26098641, 68808.33010209,\n",
      "       68810.33026577, 68812.26377522, 68814.13285166, 68815.93964228,\n",
      "       68817.68622272, 68819.37459944, 68821.00671205, 68822.58443551,\n",
      "       68824.10958231, 68825.58390453, 68827.00909588, 68828.3867936 ,\n",
      "       68829.71858039, 68831.00598621, 68832.25049002, 68833.45352151,\n",
      "       68834.61646272, 68835.74064962, 68836.8273737 , 68837.87788336,\n",
      "       68838.89338543, 68839.87504653, 68840.82399437, 68841.74131911,\n",
      "       68842.62807457, 68843.48527945, 68844.31391851, 68845.11494368,\n",
      "       68845.88927518, 68846.63780256, 68847.36138573, 68848.06085593,\n",
      "       68848.73701672, 68849.39064487, 68850.02249126, 68850.63328177,\n",
      "       68851.22371805, 68851.79447841, 68852.34621853, 68852.87957225,\n",
      "       68853.39515229, 68853.89355094, 68854.37534077, 68854.84107524,\n",
      "       68855.2912894 ]), array([4902565.33350764, 4902598.65789132, 4902630.87176045,\n",
      "       4902662.01212225, 4902692.11475069, 4902721.21422758,\n",
      "       4902749.34398234, 4902776.53633036, 4902802.82251014,\n",
      "       4902828.23271919, 4902852.79614867, 4902876.54101701,\n",
      "       4902899.49460224, 4902921.6832734 , 4902943.13252076,\n",
      "       4902963.86698517, 4902983.91048634, 4903003.28605018,\n",
      "       4903022.0159353 , 4903040.12165854, 4903057.62401971,\n",
      "       4903074.54312549, 4903090.89841249, 4903106.70866963,\n",
      "       4903121.9920597 , 4903136.76614021, 4903151.0478836 ,\n",
      "       4903164.85369669, 4903178.19943956, 4903191.10044378,\n",
      "       4903203.57152999, 4903215.62702493, 4903227.28077794,\n",
      "       4903238.54617681, 4903249.4361632 , 4903259.96324751,\n",
      "       4903270.13952323, 4903279.97668082, 4903289.48602121,\n",
      "       4903298.67846868, 4903307.56458351, 4903316.15457404,\n",
      "       4903324.45830843, 4903332.48532598, 4903340.24484813,\n",
      "       4903347.74578898, 4903354.9967656 , 4903362.0061079 ,\n",
      "       4903368.78186818, 4903375.33183043, 4903381.66351922,\n",
      "       4903387.78420838, 4903393.70092935, 4903399.42047924,\n",
      "       4903404.94942866, 4903410.29412924, 4903415.46072097,\n",
      "       4903420.45513922, 4903425.28312156, 4903429.95021436,\n",
      "       4903434.46177917, 4903438.82299886, 4903443.03888359,\n",
      "       4903447.11427657, 4903451.05385958, 4903454.86215842,\n",
      "       4903458.54354805, 4903462.10225764, 4903465.54237542,\n",
      "       4903468.8678534 , 4903472.08251187, 4903475.19004383,\n",
      "       4903478.19401921, 4903481.09788895, 4903483.90498903,\n",
      "       4903486.61854423, 4903489.24167187, 4903491.7773854 ,\n",
      "       4903494.22859784, 4903496.59812513, 4903498.88868939,\n",
      "       4903501.10292201, 4903503.24336669, 4903505.31248237,\n",
      "       4903507.31264604, 4903509.2461555 , 4903511.11523194,\n",
      "       4903512.92202256, 4903514.668603  , 4903516.35697972,\n",
      "       4903517.98909233, 4903519.56681579, 4903521.09196259,\n",
      "       4903522.56628481, 4903523.99147615, 4903525.36917387,\n",
      "       4903526.70096067, 4903527.98836648, 4903529.2328703 ,\n",
      "       4903530.43590179, 4903531.59884299, 4903532.7230299 ,\n",
      "       4903533.80975397, 4903534.86026364, 4903535.87576571,\n",
      "       4903536.85742681, 4903537.80637465, 4903538.72369939,\n",
      "       4903539.61045485, 4903540.46765973, 4903541.29629879,\n",
      "       4903542.09732396, 4903542.87165546, 4903543.62018284,\n",
      "       4903544.343766  , 4903545.04323621, 4903545.719397  ,\n",
      "       4903546.37302515, 4903547.00487154, 4903547.61566204,\n",
      "       4903548.20609833, 4903548.77685869, 4903549.32859881,\n",
      "       4903549.86195253, 4903550.37753257, 4903550.87593122,\n",
      "       4903551.35772105, 4903551.82345552, 4903552.27366968,\n",
      "       4903552.70888073, 4903553.12958864, 4903553.53627672,\n",
      "       4903553.92941217, 4903554.30944662, 4903554.67681666,\n",
      "       4903555.03194432, 4903555.37523757, 4903555.70709078,\n",
      "       4903556.02788519, 4903556.33798933, 4903556.63775943,\n",
      "       4903556.92753988, 4903557.20766357, 4903557.47845232,\n",
      "       4903557.7402172 , 4903557.99325892, 4903558.23786819,\n",
      "       4903558.474326  , 4903558.702904  , 4903558.92386478,\n",
      "       4903559.13746218, 4903559.34394157, 4903559.54354017,\n",
      "       4903559.73648727, 4903559.92300452, 4903560.1033062 ,\n",
      "       4903560.27759944, 4903560.44608447, 4903560.60895483,\n",
      "       4903560.76639764, 4903560.91859377, 4903561.06571805,\n",
      "       4903561.20793951, 4903561.34542153, 4903561.47832204,\n",
      "       4903561.60679372, 4903561.73098417, 4903561.85103604,\n",
      "       4903561.96708726, 4903562.07927115, 4903562.18771657,\n",
      "       4903562.29254812, 4903562.39388622, 4903562.49184729,\n",
      "       4903562.58654387, 4903562.67808475, 4903562.76657508,\n",
      "       4903562.85211652, 4903562.93480735, 4903563.01474256,\n",
      "       4903563.09201398, 4903563.16671037, 4903563.23891756,\n",
      "       4903563.30871848, 4903563.37619333, 4903563.44141963,\n",
      "       4903563.50447229, 4903563.56542377, 4903563.62434407,\n",
      "       4903563.6813009 , 4903563.73635967, 4903563.78958364,\n",
      "       4903563.84103396, 4903563.89076972, 4903563.93884807,\n",
      "       4903563.98532424, 4903564.03025162, 4903564.07368183,\n",
      "       4903564.11566475, 4903564.15624861, 4903564.19548004,\n",
      "       4903564.23340411, 4903564.27006438, 4903564.30550297,\n",
      "       4903564.3397606 , 4903564.3728766 , 4903564.40488904,\n",
      "       4903564.43583468, 4903564.46574908, 4903564.4946666 ,\n",
      "       4903564.52262046, 4903564.54964278, 4903564.57576459,\n",
      "       4903564.60101591, 4903564.62542575, 4903564.64902214,\n",
      "       4903564.6718322 , 4903564.69388212, 4903564.71519725,\n",
      "       4903564.73580206, 4903564.75572023, 4903564.77497464,\n",
      "       4903564.79358741, 4903564.81157992, 4903564.82897284,\n",
      "       4903564.84578615, 4903564.86203917, 4903564.87775056,\n",
      "       4903564.89293839, 4903564.90762009, 4903564.92181253,\n",
      "       4903564.93553201, 4903564.94879431, 4903564.96161464,\n",
      "       4903564.97400775, 4903564.98598786, 4903564.99756874,\n",
      "       4903565.0087637 , 4903565.01958559, 4903565.03004685,\n",
      "       4903565.04015949, 4903565.04993514, 4903565.05938502,\n",
      "       4903565.06851998, 4903565.07735053, 4903565.08588681,\n",
      "       4903565.09413862, 4903565.10211545, 4903565.10982645,\n",
      "       4903565.11728049, 4903565.12448613, 4903565.13145164,\n",
      "       4903565.13818503, 4903565.14469404, 4903565.15098613,\n",
      "       4903565.15706855, 4903565.16294827]), array([2.48597359e+10, 2.48597359e+10, 2.48597360e+10, 2.48597360e+10,\n",
      "       2.48597360e+10, 2.48597361e+10, 2.48597361e+10, 2.48597361e+10,\n",
      "       2.48597361e+10, 2.48597362e+10, 2.48597362e+10, 2.48597362e+10,\n",
      "       2.48597362e+10, 2.48597363e+10, 2.48597363e+10, 2.48597363e+10,\n",
      "       2.48597363e+10, 2.48597363e+10, 2.48597364e+10, 2.48597364e+10,\n",
      "       2.48597364e+10, 2.48597364e+10, 2.48597364e+10, 2.48597364e+10,\n",
      "       2.48597365e+10, 2.48597365e+10, 2.48597365e+10, 2.48597365e+10,\n",
      "       2.48597365e+10, 2.48597365e+10, 2.48597365e+10, 2.48597366e+10,\n",
      "       2.48597366e+10, 2.48597366e+10, 2.48597366e+10, 2.48597366e+10,\n",
      "       2.48597366e+10, 2.48597366e+10, 2.48597366e+10, 2.48597366e+10,\n",
      "       2.48597366e+10, 2.48597367e+10, 2.48597367e+10, 2.48597367e+10,\n",
      "       2.48597367e+10, 2.48597367e+10, 2.48597367e+10, 2.48597367e+10,\n",
      "       2.48597367e+10, 2.48597367e+10, 2.48597367e+10, 2.48597367e+10,\n",
      "       2.48597367e+10, 2.48597367e+10, 2.48597367e+10, 2.48597367e+10,\n",
      "       2.48597368e+10, 2.48597368e+10, 2.48597368e+10, 2.48597368e+10,\n",
      "       2.48597368e+10, 2.48597368e+10, 2.48597368e+10, 2.48597368e+10,\n",
      "       2.48597368e+10, 2.48597368e+10, 2.48597368e+10, 2.48597368e+10,\n",
      "       2.48597368e+10, 2.48597368e+10, 2.48597368e+10, 2.48597368e+10,\n",
      "       2.48597368e+10, 2.48597368e+10, 2.48597368e+10, 2.48597368e+10,\n",
      "       2.48597368e+10, 2.48597368e+10, 2.48597368e+10, 2.48597368e+10,\n",
      "       2.48597368e+10, 2.48597368e+10, 2.48597368e+10, 2.48597368e+10,\n",
      "       2.48597368e+10, 2.48597368e+10, 2.48597368e+10, 2.48597369e+10,\n",
      "       2.48597369e+10, 2.48597369e+10, 2.48597369e+10, 2.48597369e+10,\n",
      "       2.48597369e+10, 2.48597369e+10, 2.48597369e+10, 2.48597369e+10,\n",
      "       2.48597369e+10, 2.48597369e+10, 2.48597369e+10, 2.48597369e+10,\n",
      "       2.48597369e+10, 2.48597369e+10, 2.48597369e+10, 2.48597369e+10,\n",
      "       2.48597369e+10, 2.48597369e+10, 2.48597369e+10, 2.48597369e+10,\n",
      "       2.48597369e+10, 2.48597369e+10, 2.48597369e+10, 2.48597369e+10,\n",
      "       2.48597369e+10, 2.48597369e+10, 2.48597369e+10, 2.48597369e+10,\n",
      "       2.48597369e+10, 2.48597369e+10, 2.48597369e+10, 2.48597369e+10,\n",
      "       2.48597369e+10, 2.48597369e+10, 2.48597369e+10, 2.48597369e+10,\n",
      "       2.48597369e+10, 2.48597369e+10, 2.48597369e+10, 2.48597369e+10,\n",
      "       2.48597369e+10, 2.48597369e+10, 2.48597369e+10, 2.48597369e+10,\n",
      "       2.48597369e+10, 2.48597369e+10, 2.48597369e+10, 2.48597369e+10,\n",
      "       2.48597369e+10, 2.48597369e+10, 2.48597369e+10, 2.48597369e+10,\n",
      "       2.48597369e+10, 2.48597369e+10, 2.48597369e+10, 2.48597369e+10,\n",
      "       2.48597369e+10, 2.48597369e+10, 2.48597369e+10, 2.48597369e+10,\n",
      "       2.48597369e+10, 2.48597369e+10, 2.48597369e+10, 2.48597369e+10,\n",
      "       2.48597369e+10, 2.48597369e+10, 2.48597369e+10, 2.48597369e+10,\n",
      "       2.48597369e+10, 2.48597369e+10, 2.48597369e+10, 2.48597369e+10,\n",
      "       2.48597369e+10, 2.48597369e+10, 2.48597369e+10, 2.48597369e+10,\n",
      "       2.48597369e+10, 2.48597369e+10, 2.48597369e+10, 2.48597369e+10,\n",
      "       2.48597369e+10, 2.48597369e+10, 2.48597369e+10, 2.48597369e+10,\n",
      "       2.48597369e+10, 2.48597369e+10, 2.48597369e+10, 2.48597369e+10,\n",
      "       2.48597369e+10, 2.48597369e+10, 2.48597369e+10, 2.48597369e+10,\n",
      "       2.48597369e+10, 2.48597369e+10, 2.48597369e+10, 2.48597369e+10,\n",
      "       2.48597369e+10, 2.48597369e+10, 2.48597369e+10, 2.48597369e+10,\n",
      "       2.48597369e+10, 2.48597369e+10, 2.48597369e+10, 2.48597369e+10,\n",
      "       2.48597369e+10, 2.48597369e+10, 2.48597369e+10, 2.48597369e+10,\n",
      "       2.48597369e+10, 2.48597369e+10, 2.48597369e+10, 2.48597369e+10,\n",
      "       2.48597369e+10, 2.48597369e+10, 2.48597369e+10, 2.48597369e+10,\n",
      "       2.48597369e+10, 2.48597369e+10, 2.48597369e+10, 2.48597369e+10,\n",
      "       2.48597369e+10, 2.48597369e+10, 2.48597369e+10, 2.48597369e+10,\n",
      "       2.48597369e+10, 2.48597369e+10, 2.48597369e+10, 2.48597369e+10,\n",
      "       2.48597369e+10, 2.48597369e+10, 2.48597369e+10, 2.48597369e+10,\n",
      "       2.48597369e+10, 2.48597369e+10, 2.48597369e+10, 2.48597369e+10,\n",
      "       2.48597369e+10, 2.48597369e+10, 2.48597369e+10, 2.48597369e+10,\n",
      "       2.48597369e+10, 2.48597369e+10, 2.48597369e+10, 2.48597369e+10,\n",
      "       2.48597369e+10, 2.48597369e+10, 2.48597369e+10, 2.48597369e+10,\n",
      "       2.48597369e+10, 2.48597369e+10, 2.48597369e+10, 2.48597369e+10,\n",
      "       2.48597369e+10, 2.48597369e+10, 2.48597369e+10, 2.48597369e+10,\n",
      "       2.48597369e+10, 2.48597369e+10, 2.48597369e+10, 2.48597369e+10,\n",
      "       2.48597369e+10, 2.48597369e+10, 2.48597369e+10, 2.48597369e+10,\n",
      "       2.48597369e+10, 2.48597369e+10, 2.48597369e+10, 2.48597369e+10,\n",
      "       2.48597369e+10, 2.48597369e+10, 2.48597369e+10, 2.48597369e+10,\n",
      "       2.48597369e+10, 2.48597369e+10, 2.48597369e+10, 2.48597369e+10,\n",
      "       2.48597369e+10, 2.48597369e+10, 2.48597369e+10, 2.48597369e+10,\n",
      "       2.48597369e+10, 2.48597369e+10, 2.48597369e+10, 2.48597369e+10,\n",
      "       2.48597369e+10, 2.48597369e+10, 2.48597369e+10, 2.48597369e+10,\n",
      "       2.48597369e+10, 2.48597369e+10, 2.48597369e+10, 2.48597369e+10,\n",
      "       2.48597369e+10, 2.48597369e+10, 2.48597369e+10, 2.48597369e+10,\n",
      "       2.48597369e+10, 2.48597369e+10, 2.48597369e+10, 2.48597369e+10,\n",
      "       2.48597369e+10, 2.48597369e+10, 2.48597369e+10, 2.48597369e+10,\n",
      "       2.48597369e+10, 2.48597369e+10, 2.48597369e+10, 2.48597369e+10,\n",
      "       2.48597369e+10, 2.48597369e+10, 2.48597369e+10, 2.48597369e+10,\n",
      "       2.48597369e+10, 2.48597369e+10, 2.48597369e+10, 2.48597369e+10,\n",
      "       2.48597369e+10, 2.48597369e+10, 2.48597369e+10, 2.48597369e+10,\n",
      "       2.48597369e+10, 2.48597369e+10, 2.48597369e+10, 2.48597369e+10,\n",
      "       2.48597369e+10, 2.48597369e+10, 2.48597369e+10, 2.48597369e+10,\n",
      "       2.48597369e+10, 2.48597369e+10, 2.48597369e+10, 2.48597369e+10,\n",
      "       2.48597369e+10, 2.48597369e+10, 2.48597369e+10, 2.48597369e+10,\n",
      "       2.48597369e+10, 2.48597369e+10, 2.48597369e+10, 2.48597369e+10,\n",
      "       2.48597369e+10, 2.48597369e+10, 2.48597369e+10, 2.48597369e+10,\n",
      "       2.48597369e+10, 2.48597369e+10, 2.48597369e+10, 2.48597369e+10,\n",
      "       2.48597369e+10, 2.48597369e+10, 2.48597369e+10, 2.48597369e+10,\n",
      "       2.48597369e+10, 2.48597369e+10, 2.48597369e+10, 2.48597369e+10,\n",
      "       2.48597369e+10, 2.48597369e+10, 2.48597369e+10, 2.48597369e+10,\n",
      "       2.48597369e+10, 2.48597369e+10, 2.48597369e+10, 2.48597369e+10,\n",
      "       2.48597369e+10, 2.48597369e+10, 2.48597369e+10, 2.48597369e+10,\n",
      "       2.48597369e+10, 2.48597369e+10, 2.48597369e+10, 2.48597369e+10,\n",
      "       2.48597369e+10, 2.48597369e+10, 2.48597369e+10, 2.48597369e+10,\n",
      "       2.48597369e+10, 2.48597369e+10, 2.48597369e+10, 2.48597369e+10,\n",
      "       2.48597369e+10, 2.48597369e+10, 2.48597369e+10, 2.48597369e+10,\n",
      "       2.48597369e+10, 2.48597369e+10, 2.48597369e+10, 2.48597369e+10,\n",
      "       2.48597369e+10, 2.48597369e+10, 2.48597369e+10, 2.48597369e+10,\n",
      "       2.48597369e+10, 2.48597369e+10, 2.48597369e+10, 2.48597369e+10,\n",
      "       2.48597369e+10, 2.48597369e+10, 2.48597369e+10, 2.48597369e+10,\n",
      "       2.48597369e+10, 2.48597369e+10, 2.48597369e+10, 2.48597369e+10,\n",
      "       2.48597369e+10, 2.48597369e+10, 2.48597369e+10, 2.48597369e+10,\n",
      "       2.48597369e+10, 2.48597369e+10, 2.48597369e+10, 2.48597369e+10,\n",
      "       2.48597369e+10, 2.48597369e+10, 2.48597369e+10, 2.48597369e+10,\n",
      "       2.48597369e+10, 2.48597369e+10, 2.48597369e+10, 2.48597369e+10,\n",
      "       2.48597369e+10, 2.48597369e+10, 2.48597369e+10, 2.48597369e+10,\n",
      "       2.48597369e+10, 2.48597369e+10, 2.48597369e+10, 2.48597369e+10,\n",
      "       2.48597369e+10, 2.48597369e+10, 2.48597369e+10, 2.48597369e+10,\n",
      "       2.48597369e+10, 2.48597369e+10, 2.48597369e+10, 2.48597369e+10,\n",
      "       2.48597369e+10, 2.48597369e+10, 2.48597369e+10, 2.48597369e+10,\n",
      "       2.48597369e+10, 2.48597369e+10, 2.48597369e+10, 2.48597369e+10,\n",
      "       2.48597369e+10, 2.48597369e+10, 2.48597369e+10, 2.48597369e+10,\n",
      "       2.48597369e+10, 2.48597369e+10, 2.48597369e+10, 2.48597369e+10,\n",
      "       2.48597369e+10, 2.48597369e+10, 2.48597369e+10, 2.48597369e+10,\n",
      "       2.48597369e+10, 2.48597369e+10, 2.48597369e+10, 2.48597369e+10,\n",
      "       2.48597369e+10, 2.48597369e+10, 2.48597369e+10, 2.48597369e+10,\n",
      "       2.48597369e+10, 2.48597369e+10, 2.48597369e+10, 2.48597369e+10,\n",
      "       2.48597369e+10, 2.48597369e+10, 2.48597369e+10, 2.48597369e+10,\n",
      "       2.48597369e+10, 2.48597369e+10, 2.48597369e+10, 2.48597369e+10,\n",
      "       2.48597369e+10, 2.48597369e+10, 2.48597369e+10, 2.48597369e+10,\n",
      "       2.48597369e+10, 2.48597369e+10, 2.48597369e+10, 2.48597369e+10,\n",
      "       2.48597369e+10, 2.48597369e+10, 2.48597369e+10, 2.48597369e+10,\n",
      "       2.48597369e+10, 2.48597369e+10, 2.48597369e+10, 2.48597369e+10,\n",
      "       2.48597369e+10, 2.48597369e+10, 2.48597369e+10, 2.48597369e+10,\n",
      "       2.48597369e+10, 2.48597369e+10, 2.48597369e+10, 2.48597369e+10,\n",
      "       2.48597369e+10, 2.48597369e+10, 2.48597369e+10, 2.48597369e+10,\n",
      "       2.48597369e+10, 2.48597369e+10, 2.48597369e+10, 2.48597369e+10,\n",
      "       2.48597369e+10, 2.48597369e+10, 2.48597369e+10, 2.48597369e+10,\n",
      "       2.48597369e+10, 2.48597369e+10, 2.48597369e+10, 2.48597369e+10,\n",
      "       2.48597369e+10, 2.48597369e+10, 2.48597369e+10, 2.48597369e+10,\n",
      "       2.48597369e+10, 2.48597369e+10, 2.48597369e+10, 2.48597369e+10,\n",
      "       2.48597369e+10]), array([6.38948202e+17, 6.38948202e+17, 6.38948202e+17, ...,\n",
      "       6.38948202e+17, 6.38948202e+17, 6.38948202e+17])]\n"
     ]
    }
   ],
   "source": [
    "n_steps = [1, 4, 8, 16, 32, 64, 128, 256, 512, 1024]\n",
    "n0 = 1000\n",
    "t0 = 0\n",
    "dt = 1\n",
    "errE = []\n",
    "errRK4 = []\n",
    "for i in n_steps:\n",
    "    errE.append(numpy.abs((solve_euler(f_rad, n0, t0, dt, i)-analytic(n0, t0+(dt*(1-i))))));\n",
    "    #errRK4.append(numpy.abs((solve_RK4(f_rad, n0, t0, dt, i)-analytic(n0, t0+(dt*(1-i))))));\n",
    "\n",
    "print(errE)\n",
    "    \n"
   ]
  },
  {
   "cell_type": "code",
   "execution_count": null,
   "metadata": {},
   "outputs": [],
   "source": []
  }
 ],
 "metadata": {
  "kernelspec": {
   "display_name": "Python 3",
   "language": "python",
   "name": "python3"
  },
  "language_info": {
   "codemirror_mode": {
    "name": "ipython",
    "version": 3
   },
   "file_extension": ".py",
   "mimetype": "text/x-python",
   "name": "python",
   "nbconvert_exporter": "python",
   "pygments_lexer": "ipython3",
   "version": "3.6.3"
  },
  "toc": {
   "base_numbering": 1,
   "nav_menu": {},
   "number_sections": false,
   "sideBar": true,
   "skip_h1_title": false,
   "title_cell": "Table of Contents",
   "title_sidebar": "Contents",
   "toc_cell": false,
   "toc_position": {},
   "toc_section_display": true,
   "toc_window_display": false
  }
 },
 "nbformat": 4,
 "nbformat_minor": 2
}
