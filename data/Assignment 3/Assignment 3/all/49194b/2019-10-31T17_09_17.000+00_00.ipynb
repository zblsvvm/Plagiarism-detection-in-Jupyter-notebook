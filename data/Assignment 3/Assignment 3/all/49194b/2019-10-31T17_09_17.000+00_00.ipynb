{
 "cells": [
  {
   "cell_type": "markdown",
   "metadata": {
    "deletable": false,
    "editable": false,
    "nbgrader": {
     "cell_type": "markdown",
     "checksum": "9e255c2f6a00086caac01bd9f93ae0fd",
     "grade": false,
     "grade_id": "cell-653a2d7b8720a14f",
     "locked": true,
     "schema_version": 3,
     "solution": false
    }
   },
   "source": [
    "# <center>L2 Computational Physics</center>\n",
    "\n",
    "## <center>Week 3: Differential Equations I</center>"
   ]
  },
  {
   "cell_type": "code",
   "execution_count": 1,
   "metadata": {
    "deletable": false,
    "editable": false,
    "nbgrader": {
     "cell_type": "code",
     "checksum": "96aa70f20e306039b1ae0aad9e021a86",
     "grade": false,
     "grade_id": "imports",
     "locked": true,
     "schema_version": 3,
     "solution": false
    }
   },
   "outputs": [],
   "source": [
    "# usual packages to import\n",
    "import numpy \n",
    "import matplotlib.pyplot as plt\n",
    "%matplotlib inline"
   ]
  },
  {
   "cell_type": "markdown",
   "metadata": {
    "deletable": false,
    "editable": false,
    "nbgrader": {
     "cell_type": "markdown",
     "checksum": "b26b91b158cd26a964af9866fcae4f62",
     "grade": false,
     "grade_id": "introduction",
     "locked": true,
     "schema_version": 3,
     "solution": false
    }
   },
   "source": [
    "In this notebook, you will generate and plot the decay curve for Iodine-133 analytically and numerically. $^{133}\\textrm{I}$ has a half life $t_{1/2}$ of 20.8 hours. This means that half of the nuclei will have decayed after time $t_{1/2}$. Derive the mean lifetime $\\tau$ from that information."
   ]
  },
  {
   "cell_type": "code",
   "execution_count": 2,
   "metadata": {
    "deletable": false,
    "nbgrader": {
     "cell_type": "code",
     "checksum": "1f32203e67620dad43f0e3253b2b80d0",
     "grade": false,
     "grade_id": "constants",
     "locked": false,
     "schema_version": 3,
     "solution": true
    }
   },
   "outputs": [],
   "source": [
    "# define a function to calculate the mean lifetime from the half life\n",
    "def meanLifetime(halfLife):\n",
    "    return (halfLife/numpy.log(2))\n",
    "\n",
    "T_HALF = 20.8\n",
    "TAU = meanLifetime(T_HALF)\n"
   ]
  },
  {
   "cell_type": "markdown",
   "metadata": {
    "deletable": false,
    "editable": false,
    "nbgrader": {
     "cell_type": "markdown",
     "checksum": "474783dac86dd74a9510b7a6dccccb55",
     "grade": false,
     "grade_id": "cell-7ed602ac8b4a8623",
     "locked": true,
     "schema_version": 3,
     "solution": false
    }
   },
   "source": [
    "Check your average lifetime:"
   ]
  },
  {
   "cell_type": "code",
   "execution_count": 3,
   "metadata": {
    "deletable": false,
    "editable": false,
    "nbgrader": {
     "cell_type": "code",
     "checksum": "5b581ceaabfd40522833ba0df84148e3",
     "grade": true,
     "grade_id": "constants_check",
     "locked": true,
     "points": 1,
     "schema_version": 3,
     "solution": false
    }
   },
   "outputs": [],
   "source": [
    "# this test is worth 1 mark\n",
    "assert numpy.isclose(TAU, 30.0080568505)         "
   ]
  },
  {
   "cell_type": "markdown",
   "metadata": {
    "deletable": false,
    "editable": false,
    "nbgrader": {
     "cell_type": "markdown",
     "checksum": "6b5e2bcf6c6e49eda2f081cccb315844",
     "grade": false,
     "grade_id": "cell-864b8c95035f9b93",
     "locked": true,
     "schema_version": 3,
     "solution": false
    }
   },
   "source": [
    "### The Decay Equation"
   ]
  },
  {
   "cell_type": "markdown",
   "metadata": {
    "deletable": false,
    "editable": false,
    "nbgrader": {
     "cell_type": "markdown",
     "checksum": "b6c5672c9f405cb9a80f72ab719fc145",
     "grade": false,
     "grade_id": "decay_introduction",
     "locked": true,
     "schema_version": 3,
     "solution": false
    }
   },
   "source": [
    "Implement the function `f_rad` such that the differential equation \n",
    "\n",
    "$$ \\frac{dN}{dt} = f_{rad}(N,t)$$\n",
    "\n",
    "describes the radioactive decay process.\n",
    "\n",
    "- *Your function should return values using hours as the time unit.*\n",
    "- *The function should use the constant* `TAU`."
   ]
  },
  {
   "cell_type": "code",
   "execution_count": 4,
   "metadata": {
    "deletable": false,
    "nbgrader": {
     "cell_type": "code",
     "checksum": "457d82a875c5d8e48187fa31401c9e97",
     "grade": false,
     "grade_id": "decay_function",
     "locked": false,
     "schema_version": 3,
     "solution": true
    }
   },
   "outputs": [],
   "source": [
    "def f_rad(N, t):\n",
    "    return (N*(-1/TAU))\n"
   ]
  },
  {
   "cell_type": "markdown",
   "metadata": {
    "deletable": false,
    "editable": false,
    "nbgrader": {
     "cell_type": "markdown",
     "checksum": "1b781e9bfdf185906da10a3fce5afc03",
     "grade": false,
     "grade_id": "cell-d59ccbc070af010b",
     "locked": true,
     "schema_version": 3,
     "solution": false
    }
   },
   "source": [
    "Make sure your function works:"
   ]
  },
  {
   "cell_type": "code",
   "execution_count": 5,
   "metadata": {
    "deletable": false,
    "editable": false,
    "nbgrader": {
     "cell_type": "code",
     "checksum": "87996117de466ae5951d10c9cba1f259",
     "grade": true,
     "grade_id": "decay_test",
     "locked": true,
     "points": 1,
     "schema_version": 3,
     "solution": false
    }
   },
   "outputs": [],
   "source": [
    "# this test cell is worth 1 mark\n",
    "assert numpy.isclose(f_rad(1000, 0), -33.324383681)           "
   ]
  },
  {
   "cell_type": "markdown",
   "metadata": {
    "deletable": false,
    "editable": false,
    "nbgrader": {
     "cell_type": "markdown",
     "checksum": "007a2d2688cd376a73cc4c6d0e0baff1",
     "grade": false,
     "grade_id": "analytic_introduction",
     "locked": true,
     "schema_version": 3,
     "solution": false
    }
   },
   "source": [
    "Solve this first order, ordinary differential equation analytically. Implement this function below, naming it `analytic`. The function should take an initial number of atoms `N0` at time `t=0`, and a time argument. The function should return nuclei count at the time argument. Make sure the function also works for numpy arrays."
   ]
  },
  {
   "cell_type": "code",
   "execution_count": 6,
   "metadata": {
    "deletable": false,
    "nbgrader": {
     "cell_type": "code",
     "checksum": "d5f8a683edd2825602878f6dee9d6c21",
     "grade": false,
     "grade_id": "analytic_function",
     "locked": false,
     "schema_version": 3,
     "solution": true
    }
   },
   "outputs": [],
   "source": [
    "def analytic(N0, t):\n",
    "    return N0*numpy.exp(-t/TAU)"
   ]
  },
  {
   "cell_type": "markdown",
   "metadata": {
    "deletable": false,
    "editable": false,
    "nbgrader": {
     "cell_type": "markdown",
     "checksum": "9a4d0cc32dcf367bc150dd45d10d4285",
     "grade": false,
     "grade_id": "cell-18ca8dc7e04d23a3",
     "locked": true,
     "schema_version": 3,
     "solution": false
    }
   },
   "source": [
    "Check your answer for a single time:"
   ]
  },
  {
   "cell_type": "code",
   "execution_count": 7,
   "metadata": {
    "deletable": false,
    "editable": false,
    "nbgrader": {
     "cell_type": "code",
     "checksum": "ab62ed3d3535e88940e063c1c4a12d84",
     "grade": true,
     "grade_id": "analytic_test",
     "locked": true,
     "points": 1,
     "schema_version": 3,
     "solution": false
    }
   },
   "outputs": [],
   "source": [
    "# this test is worth 1 mark\n",
    "assert numpy.isclose(analytic(1000, 41.6), 250.0)           "
   ]
  },
  {
   "cell_type": "code",
   "execution_count": 8,
   "metadata": {
    "deletable": false,
    "editable": false,
    "nbgrader": {
     "cell_type": "code",
     "checksum": "bafe495357c897607c0ddf170f01b6cd",
     "grade": true,
     "grade_id": "analytic_test_array",
     "locked": true,
     "points": 2,
     "schema_version": 3,
     "solution": false
    }
   },
   "outputs": [],
   "source": [
    "# this test is worth 1 mark\n",
    "assert numpy.isclose(analytic(1000, numpy.arange(0, 60, 6)), \n",
    "                     [1000.        ,  818.77471839,  670.39203948,  548.90005334,\n",
    "                       449.4254866 ,  367.97822623,  301.29126855,  246.68967356,\n",
    "                       201.983268  ,  165.37879338]).all()\n"
   ]
  },
  {
   "cell_type": "markdown",
   "metadata": {
    "deletable": false,
    "editable": false,
    "nbgrader": {
     "cell_type": "markdown",
     "checksum": "307e9faa76135ad8d47eab7472b50e0a",
     "grade": false,
     "grade_id": "cell-e43cb07c20fa5758",
     "locked": true,
     "schema_version": 3,
     "solution": false
    }
   },
   "source": [
    "## Numerically Solving the ODE"
   ]
  },
  {
   "cell_type": "markdown",
   "metadata": {
    "deletable": false,
    "editable": false,
    "nbgrader": {
     "cell_type": "markdown",
     "checksum": "60f79d9c7fa0d2d94bc79706ab1ae03d",
     "grade": false,
     "grade_id": "cell-1cd6e2a66887f196",
     "locked": true,
     "schema_version": 3,
     "solution": false
    }
   },
   "source": [
    "We now wish to solve our differential equation numerically. We shall do this using Euler's and RK4 methods."
   ]
  },
  {
   "cell_type": "markdown",
   "metadata": {
    "deletable": false,
    "editable": false,
    "nbgrader": {
     "cell_type": "markdown",
     "checksum": "506315221a1ce2a83589f0664570efcb",
     "grade": false,
     "grade_id": "cell-1a07e2754604c846",
     "locked": true,
     "schema_version": 3,
     "solution": false
    }
   },
   "source": [
    "### Euler's Method"
   ]
  },
  {
   "cell_type": "markdown",
   "metadata": {
    "deletable": false,
    "editable": false,
    "nbgrader": {
     "cell_type": "markdown",
     "checksum": "d54ff05e541949049048ca38c990052f",
     "grade": false,
     "grade_id": "euler_introduction",
     "locked": true,
     "schema_version": 3,
     "solution": false
    }
   },
   "source": [
    "Create a function which takes as its arguments the initial number of atoms, `n0`, the initial time `t0`, the time step, `dt`, and the number of steps to perform, `n_steps`.  This function should return an array of the number of counts at each time step using Euler's method. This array should contain the initial and final values, so the array length should be `n_steps+1` "
   ]
  },
  {
   "cell_type": "code",
   "execution_count": 9,
   "metadata": {
    "deletable": false,
    "nbgrader": {
     "cell_type": "code",
     "checksum": "013501145cd3d22fc032e943bb1d1ea1",
     "grade": false,
     "grade_id": "euler_function",
     "locked": false,
     "schema_version": 3,
     "solution": true
    }
   },
   "outputs": [],
   "source": [
    "\n",
    "def solve_euler(f, n0, t0, dt, n_panels):\n",
    "    counts = [n0]\n",
    "    for i in range (0, n_panels):\n",
    "        next_step = counts[-1] + dt*f(counts[-1],t0)\n",
    "        counts.append(next_step)\n",
    "    return counts\n"
   ]
  },
  {
   "cell_type": "markdown",
   "metadata": {
    "deletable": false,
    "editable": false,
    "nbgrader": {
     "cell_type": "markdown",
     "checksum": "45340539b0c9b862d47028a5f97eb352",
     "grade": false,
     "grade_id": "cell-00862d5c2364027a",
     "locked": true,
     "schema_version": 3,
     "solution": false
    }
   },
   "source": [
    "Try your solution:"
   ]
  },
  {
   "cell_type": "code",
   "execution_count": 10,
   "metadata": {
    "deletable": false,
    "editable": false,
    "nbgrader": {
     "cell_type": "code",
     "checksum": "4b131e25e6aa3c8dae913e63d911771f",
     "grade": true,
     "grade_id": "euler_test_length",
     "locked": true,
     "points": 1,
     "schema_version": 3,
     "solution": false,
     "task": false
    }
   },
   "outputs": [],
   "source": [
    "# this test is worth 1 mark\n",
    "assert len(solve_euler(f_rad, 1000, 0, 1, 17)) == 18"
   ]
  },
  {
   "cell_type": "code",
   "execution_count": 11,
   "metadata": {
    "deletable": false,
    "editable": false,
    "nbgrader": {
     "cell_type": "code",
     "checksum": "fe20ccbd32656ef965ec3f9a7a415119",
     "grade": true,
     "grade_id": "euler_test_one",
     "locked": true,
     "points": 2,
     "schema_version": 3,
     "solution": false
    }
   },
   "outputs": [],
   "source": [
    "# this test is worth 2 marks\n",
    "assert numpy.isclose(solve_euler(f_rad, 1000, 0, 6, 1), [1000.,  800.05369792]).all()"
   ]
  },
  {
   "cell_type": "code",
   "execution_count": 12,
   "metadata": {
    "deletable": false,
    "editable": false,
    "nbgrader": {
     "cell_type": "code",
     "checksum": "d959639ea019b5a5bf260b744ed9a1e8",
     "grade": true,
     "grade_id": "euler_test_many",
     "locked": true,
     "points": 2,
     "schema_version": 3,
     "solution": false
    }
   },
   "outputs": [],
   "source": [
    "# this test is worth 2 mark\n",
    "assert numpy.isclose(solve_euler(f_rad, 1000, 0, 6, 10), [1000.        ,  800.05369792,  640.08591955,  512.10310692,\n",
    "                                                409.7099844 ,  327.7899881 ,  262.24959212,  209.81375595,\n",
    "                                                167.86227132,  134.29883091,  107.4462763 ]).all()"
   ]
  },
  {
   "cell_type": "markdown",
   "metadata": {
    "deletable": false,
    "editable": false,
    "nbgrader": {
     "cell_type": "markdown",
     "checksum": "860387a32a77ca0cdf4007ccdf282e18",
     "grade": false,
     "grade_id": "cell-9afd689c4b5b66e4",
     "locked": true,
     "schema_version": 3,
     "solution": false,
     "task": false
    }
   },
   "source": [
    "### RK 4 method"
   ]
  },
  {
   "cell_type": "markdown",
   "metadata": {
    "deletable": false,
    "editable": false,
    "nbgrader": {
     "cell_type": "markdown",
     "checksum": "ffb95947375cff594bf6f0659f1467c0",
     "grade": false,
     "grade_id": "cell-b46cd6a3a22d98eb",
     "locked": true,
     "schema_version": 3,
     "solution": false,
     "task": false
    }
   },
   "source": [
    "Implement the RK4 method in the `solve_RK4` function. The arguments are the same as for `solve_euler`."
   ]
  },
  {
   "cell_type": "code",
   "execution_count": 13,
   "metadata": {
    "deletable": false,
    "nbgrader": {
     "cell_type": "code",
     "checksum": "611b8f6c6a052ff1085a80404fc92a2b",
     "grade": false,
     "grade_id": "RK4",
     "locked": false,
     "schema_version": 3,
     "solution": true,
     "task": false
    }
   },
   "outputs": [],
   "source": [
    "def solve_RK4(f, n0, t0, dt, nsteps):\n",
    "    ans = [n0]\n",
    "    for i in range (1, nsteps+1):\n",
    "        k1 = dt*f(ans[-1], t0)\n",
    "        k2 = dt*f((ans[-1] + 0.5*k1), t0)\n",
    "        k3 = dt*f((ans[-1] + 0.5*k2), t0)\n",
    "        k4 = dt*f((ans[-1] + k3), t0)\n",
    "        k = (1/6)*(k1 + 2*k2 + 2*k3 + k4) + ans[-1]\n",
    "        ans.append(k)\n",
    "    return ans\n",
    "    \n"
   ]
  },
  {
   "cell_type": "code",
   "execution_count": 14,
   "metadata": {
    "deletable": false,
    "editable": false,
    "nbgrader": {
     "cell_type": "code",
     "checksum": "0e92b0664845bd78bc9032ff5795c8f2",
     "grade": true,
     "grade_id": "RK4-test-1",
     "locked": true,
     "points": 1,
     "schema_version": 3,
     "solution": false,
     "task": false
    }
   },
   "outputs": [],
   "source": [
    "# This checks that we return an array of the right length\n",
    "# this test is worth 1 mark\n",
    "assert len(solve_RK4(f_rad, 1000, 0, 1, 17)) == 18"
   ]
  },
  {
   "cell_type": "code",
   "execution_count": 15,
   "metadata": {
    "deletable": false,
    "editable": false,
    "nbgrader": {
     "cell_type": "code",
     "checksum": "2cc4284fa713bc2d5af4f1366e54e7d9",
     "grade": true,
     "grade_id": "RK4-test-2",
     "locked": true,
     "points": 2,
     "schema_version": 3,
     "solution": false,
     "task": false
    }
   },
   "outputs": [],
   "source": [
    "# This checks that a single step is working\n",
    "# this test is worth 2 mark\n",
    "assert numpy.isclose(solve_RK4(f_rad, 1000,0, 6, 1), [1000.,  818.7773]).all()"
   ]
  },
  {
   "cell_type": "code",
   "execution_count": 16,
   "metadata": {
    "deletable": false,
    "editable": false,
    "nbgrader": {
     "cell_type": "code",
     "checksum": "be67647e705ca3915a432ef233c6a96b",
     "grade": true,
     "grade_id": "RK4-test-3",
     "locked": true,
     "points": 2,
     "schema_version": 3,
     "solution": false,
     "task": false
    }
   },
   "outputs": [],
   "source": [
    "# This checks multiple steps\n",
    "# this test is worth 2 marks\n",
    "assert numpy.isclose(solve_RK4(f_rad, 1000, 0, 6, 10), [\n",
    "    1000.,\n",
    "    818.77729521,  \n",
    "    670.39625915,  \n",
    "    548.90523578,\n",
    "    449.43114428,  \n",
    "    367.9840167,  \n",
    "    301.29695787,  \n",
    "    246.69510822, \n",
    "    201.98835345,  \n",
    "    165.3834777,  \n",
    "    135.41223655]).all()"
   ]
  },
  {
   "cell_type": "markdown",
   "metadata": {},
   "source": [
    "## Plotting task"
   ]
  },
  {
   "cell_type": "markdown",
   "metadata": {
    "deletable": false,
    "editable": false,
    "nbgrader": {
     "cell_type": "markdown",
     "checksum": "711a0e023c32f2bbd63b847d0eeaf33a",
     "grade": false,
     "grade_id": "plotting_task",
     "locked": true,
     "points": 5,
     "schema_version": 3,
     "solution": false,
     "task": true
    }
   },
   "source": [
    "**Task 1: **\n",
    "\n",
    "Create a plot to show that the RK4 method has an error that scales better with the number of steps than the Euler method. (click on the \"+\" button to create new cells.)       [task worth 5 marks]\n"
   ]
  },
  {
   "cell_type": "code",
   "execution_count": 20,
   "metadata": {},
   "outputs": [
    {
     "name": "stdout",
     "output_type": "stream",
     "text": [
      "[124.79535041  91.47096673  59.25709759  28.1167358   -1.98589264]\n",
      "[234.01682133 200.69243765 168.47856852 137.33820672 107.23557829\n",
      "  78.13610139  50.00634663  22.81399861  -3.47218117]\n",
      "[413.26977    379.94538632 347.73151718 316.59115539 286.48852695\n",
      " 257.38905006 229.2592953  202.06694728 175.78076749 150.37055845\n",
      " 125.80712897 102.06226063  79.1086754   56.92000424  35.47075688\n",
      "  14.73629247  -5.3072087 ]\n",
      "[655.7476372  622.42325352 590.20938439 559.06902259 528.96639416\n",
      " 499.86691726 471.7371625  444.54481448 418.2586347  392.84842566\n",
      " 368.28499617 344.54012783 321.5865426  299.39787145 277.94862408\n",
      " 257.21415967 237.1706585  217.79509466 199.06520954 180.9594863\n",
      " 163.45712513 146.53801935 130.18273235 114.37247521  99.08908514\n",
      "  84.31500463  70.03326124  56.22744816  42.88170528  29.98070106\n",
      "  17.50961485   5.45411991  -6.1996331 ]\n",
      "[ 8.81490311e+02  8.48165927e+02  8.15952058e+02  7.84811696e+02\n",
      "  7.54709068e+02  7.25609591e+02  6.97479836e+02  6.70287488e+02\n",
      "  6.44001308e+02  6.18591099e+02  5.94027670e+02  5.70282801e+02\n",
      "  5.47329216e+02  5.25140545e+02  5.03691298e+02  4.82956833e+02\n",
      "  4.62913332e+02  4.43537768e+02  4.24807883e+02  4.06702160e+02\n",
      "  3.89199799e+02  3.72280693e+02  3.55925406e+02  3.40115149e+02\n",
      "  3.24831759e+02  3.10057678e+02  2.95775935e+02  2.81970122e+02\n",
      "  2.68624379e+02  2.55723375e+02  2.43252288e+02  2.31196793e+02\n",
      "  2.19543040e+02  2.08277642e+02  1.97387655e+02  1.86860571e+02\n",
      "  1.76684295e+02  1.66847138e+02  1.57337797e+02  1.48145350e+02\n",
      "  1.39259235e+02  1.30669244e+02  1.22365510e+02  1.14338492e+02\n",
      "  1.06578970e+02  9.90780294e+01  9.18270527e+01  8.48177105e+01\n",
      "  7.80419502e+01  7.14919879e+01  6.51602991e+01  5.90396100e+01\n",
      "  5.31228890e+01  4.74033391e+01  4.18743897e+01  3.65296891e+01\n",
      "  3.13630974e+01  2.63686791e+01  2.15406968e+01  1.68736040e+01\n",
      "  1.23620392e+01  8.00081949e+00  3.78493475e+00 -2.90458219e-01\n",
      " -4.23004123e+00]\n",
      "[ 9.85955454e+02  9.52631070e+02  9.20417201e+02  8.89276839e+02\n",
      "  8.59174210e+02  8.30074734e+02  8.01944979e+02  7.74752631e+02\n",
      "  7.48466451e+02  7.23056242e+02  6.98492813e+02  6.74747944e+02\n",
      "  6.51794359e+02  6.29605688e+02  6.08156440e+02  5.87421976e+02\n",
      "  5.67378475e+02  5.48002911e+02  5.29273026e+02  5.11167303e+02\n",
      "  4.93664941e+02  4.76745836e+02  4.60390549e+02  4.44580292e+02\n",
      "  4.29296901e+02  4.14522821e+02  4.00241078e+02  3.86435264e+02\n",
      "  3.73089522e+02  3.60188517e+02  3.47717431e+02  3.35661936e+02\n",
      "  3.24008183e+02  3.12742784e+02  3.01852798e+02  2.91325714e+02\n",
      "  2.81149438e+02  2.71312280e+02  2.61802940e+02  2.52610493e+02\n",
      "  2.43724378e+02  2.35134387e+02  2.26830653e+02  2.18803635e+02\n",
      "  2.11044113e+02  2.03543172e+02  1.96292196e+02  1.89282853e+02\n",
      "  1.82507093e+02  1.75957131e+02  1.69625442e+02  1.63504753e+02\n",
      "  1.57588032e+02  1.51868482e+02  1.46339533e+02  1.40994832e+02\n",
      "  1.35828240e+02  1.30833822e+02  1.26005840e+02  1.21338747e+02\n",
      "  1.16827182e+02  1.12465962e+02  1.08250078e+02  1.04174685e+02\n",
      "  1.00235102e+02  9.64268028e+01  9.27454131e+01  8.91867035e+01\n",
      "  8.57465858e+01  8.24211078e+01  7.92064493e+01  7.60989174e+01\n",
      "  7.30949420e+01  7.01910722e+01  6.73839722e+01  6.46704170e+01\n",
      "  6.20472893e+01  5.95115758e+01  5.70603633e+01  5.46908361e+01\n",
      "  5.24002718e+01  5.01860392e+01  4.80455945e+01  4.59764788e+01\n",
      "  4.39763151e+01  4.20428057e+01  4.01737292e+01  3.83669386e+01\n",
      "  3.66203582e+01  3.49319815e+01  3.32998689e+01  3.17221454e+01\n",
      "  3.01969986e+01  2.87226764e+01  2.72974850e+01  2.59197873e+01\n",
      "  2.45880005e+01  2.33005947e+01  2.20560909e+01  2.08530594e+01\n",
      "  1.96901182e+01  1.85659313e+01  1.74792072e+01  1.64286975e+01\n",
      "  1.54131955e+01  1.44315344e+01  1.34825865e+01  1.25652618e+01\n",
      "  1.16785063e+01  1.08213015e+01  9.99266240e+00  9.19163723e+00\n",
      "  8.41730573e+00  7.66877835e+00  6.94519518e+00  6.24572498e+00\n",
      "  5.56956419e+00  4.91593604e+00  4.28408964e+00  3.67329914e+00\n",
      "  3.08286286e+00  2.51210250e+00  1.96036238e+00  1.42700865e+00\n",
      "  9.11428615e-01  4.13029963e-01 -6.87598606e-02 -5.34494335e-01\n",
      " -9.84708496e-01]\n",
      "[ 9.99802751e+02  9.66478367e+02  9.34264498e+02  9.03124136e+02\n",
      "  8.73021508e+02  8.43922031e+02  8.15792276e+02  7.88599928e+02\n",
      "  7.62313748e+02  7.36903539e+02  7.12340110e+02  6.88595241e+02\n",
      "  6.65641656e+02  6.43452985e+02  6.22003738e+02  6.01269273e+02\n",
      "  5.81225772e+02  5.61850208e+02  5.43120323e+02  5.25014600e+02\n",
      "  5.07512239e+02  4.90593133e+02  4.74237846e+02  4.58427589e+02\n",
      "  4.43144199e+02  4.28370118e+02  4.14088375e+02  4.00282562e+02\n",
      "  3.86936819e+02  3.74035815e+02  3.61564728e+02  3.49509233e+02\n",
      "  3.37855480e+02  3.26590082e+02  3.15700095e+02  3.05173011e+02\n",
      "  2.94996735e+02  2.85159578e+02  2.75650237e+02  2.66457790e+02\n",
      "  2.57571675e+02  2.48981684e+02  2.40677950e+02  2.32650932e+02\n",
      "  2.24891410e+02  2.17390469e+02  2.10139493e+02  2.03130150e+02\n",
      "  1.96354390e+02  1.89804428e+02  1.83472739e+02  1.77352050e+02\n",
      "  1.71435329e+02  1.65715779e+02  1.60186830e+02  1.54842129e+02\n",
      "  1.49675537e+02  1.44681119e+02  1.39853137e+02  1.35186044e+02\n",
      "  1.30674479e+02  1.26313259e+02  1.22097375e+02  1.18021982e+02\n",
      "  1.14082399e+02  1.10274100e+02  1.06592710e+02  1.03034001e+02\n",
      "  9.95938829e+01  9.62684050e+01  9.30537465e+01  8.99462145e+01\n",
      "  8.69422391e+01  8.40383694e+01  8.12312693e+01  7.85177141e+01\n",
      "  7.58945865e+01  7.33588730e+01  7.09076605e+01  6.85381332e+01\n",
      "  6.62475690e+01  6.40333363e+01  6.18928917e+01  5.98237760e+01\n",
      "  5.78236123e+01  5.58901029e+01  5.40210264e+01  5.22142358e+01\n",
      "  5.04676554e+01  4.87792786e+01  4.71471660e+01  4.55694426e+01\n",
      "  4.40442958e+01  4.25699735e+01  4.11447822e+01  3.97670845e+01\n",
      "  3.84352977e+01  3.71478919e+01  3.59033881e+01  3.47003566e+01\n",
      "  3.35374154e+01  3.24132285e+01  3.13265044e+01  3.02759947e+01\n",
      "  2.92604926e+01  2.82788316e+01  2.73298837e+01  2.64125590e+01\n",
      "  2.55258035e+01  2.46685986e+01  2.38399596e+01  2.30389344e+01\n",
      "  2.22646029e+01  2.15160755e+01  2.07924924e+01  2.00930221e+01\n",
      "  1.94168614e+01  1.87632332e+01  1.81313868e+01  1.75205963e+01\n",
      "  1.69301600e+01  1.63593997e+01  1.58076595e+01  1.52743058e+01\n",
      "  1.47587258e+01  1.42603271e+01  1.37785373e+01  1.33128028e+01\n",
      "  1.28625887e+01  1.24273776e+01  1.20066697e+01  1.15999816e+01\n",
      "  1.12068462e+01  1.08268117e+01  1.04594417e+01  1.01043140e+01\n",
      "  9.76102079e+00  9.42916757e+00  9.10837316e+00  8.79826903e+00\n",
      "  8.49849893e+00  8.20871848e+00  7.92859478e+00  7.65780604e+00\n",
      "  7.39604116e+00  7.14299944e+00  6.89839017e+00  6.66193236e+00\n",
      "  6.43335436e+00  6.21239358e+00  5.99879618e+00  5.79231678e+00\n",
      "  5.59271819e+00  5.39977109e+00  5.21325383e+00  5.03295215e+00\n",
      "  4.85865891e+00  4.69017389e+00  4.52730352e+00  4.36986071e+00\n",
      "  4.21766459e+00  4.07054030e+00  3.92831885e+00  3.79083683e+00\n",
      "  3.65793632e+00  3.52946463e+00  3.40527419e+00  3.28522231e+00\n",
      "  3.16917110e+00  3.05698721e+00  2.94854179e+00  2.84371024e+00\n",
      "  2.74237213e+00  2.64441106e+00  2.54971448e+00  2.45817361e+00\n",
      "  2.36968328e+00  2.28414183e+00  2.20145100e+00  2.12151579e+00\n",
      "  2.04424438e+00  1.96954798e+00  1.89734080e+00  1.82753987e+00\n",
      "  1.76006502e+00  1.69483873e+00  1.63178606e+00  1.57083459e+00\n",
      "  1.51191428e+00  1.45495746e+00  1.39989869e+00  1.34667472e+00\n",
      "  1.29522440e+00  1.24548863e+00  1.19741028e+00  1.15093411e+00\n",
      "  1.10600673e+00  1.06257653e+00  1.02059361e+00  9.80009745e-01\n",
      "  9.40778314e-01  9.02854245e-01  8.66193973e-01  8.30755382e-01\n",
      "  7.96497760e-01  7.63381752e-01  7.31369315e-01  7.00423673e-01\n",
      "  6.70509274e-01  6.41591755e-01  6.13637895e-01  5.86615579e-01\n",
      "  5.60493766e-01  5.35242445e-01  5.10832610e-01  4.87236217e-01\n",
      "  4.64426160e-01  4.42376233e-01  4.21061107e-01  4.00456294e-01\n",
      "  3.80538124e-01  3.61283715e-01  3.42670947e-01  3.24678438e-01\n",
      "  3.07285518e-01  2.90472207e-01  2.74219189e-01  2.58507793e-01\n",
      "  2.43319969e-01  2.28638270e-01  2.14445830e-01  2.00726344e-01\n",
      "  1.87464051e-01  1.74643716e-01  1.62250611e-01  1.50270499e-01\n",
      "  1.38689616e-01  1.27494659e-01  1.16672767e-01  1.06211509e-01\n",
      "  9.60988646e-02  8.63232183e-02  7.68733394e-02  6.77383719e-02\n",
      "  5.89078216e-02  5.03715439e-02  4.21197323e-02  3.41429074e-02\n",
      "  2.64319052e-02  1.89778674e-02  1.17722308e-02  4.80671757e-03\n",
      " -1.92667419e-03 -8.43567982e-03 -1.47277769e-02 -2.08101936e-02\n",
      " -2.66899176e-02]\n",
      "[ 9.99999961e+02  9.66675577e+02  9.34461708e+02  9.03321346e+02\n",
      "  8.73218718e+02  8.44119241e+02  8.15989486e+02  7.88797138e+02\n",
      "  7.62510959e+02  7.37100750e+02  7.12537320e+02  6.88792452e+02\n",
      "  6.65838866e+02  6.43650195e+02  6.22200948e+02  6.01466484e+02\n",
      "  5.81422982e+02  5.62047419e+02  5.43317533e+02  5.25211810e+02\n",
      "  5.07709449e+02  4.90790343e+02  4.74435056e+02  4.58624799e+02\n",
      "  4.43341409e+02  4.28567329e+02  4.14285585e+02  4.00479772e+02\n",
      "  3.87134029e+02  3.74233025e+02  3.61761939e+02  3.49706444e+02\n",
      "  3.38052691e+02  3.26787292e+02  3.15897306e+02  3.05370221e+02\n",
      "  2.95193946e+02  2.85356788e+02  2.75847448e+02  2.66655000e+02\n",
      "  2.57768885e+02  2.49178895e+02  2.40875160e+02  2.32848143e+02\n",
      "  2.25088621e+02  2.17587680e+02  2.10336703e+02  2.03327361e+02\n",
      "  1.96551601e+02  1.90001638e+02  1.83669950e+02  1.77549260e+02\n",
      "  1.71632539e+02  1.65912989e+02  1.60384040e+02  1.55039339e+02\n",
      "  1.49872748e+02  1.44878330e+02  1.40050347e+02  1.35383254e+02\n",
      "  1.30871690e+02  1.26510470e+02  1.22294585e+02  1.18219192e+02\n",
      "  1.14279609e+02  1.10471310e+02  1.06789921e+02  1.03231211e+02\n",
      "  9.97910933e+01  9.64656153e+01  9.32509569e+01  9.01434249e+01\n",
      "  8.71394495e+01  8.42355798e+01  8.14284797e+01  7.87149245e+01\n",
      "  7.60917969e+01  7.35560833e+01  7.11048709e+01  6.87353436e+01\n",
      "  6.64447793e+01  6.42305467e+01  6.20901020e+01  6.00209864e+01\n",
      "  5.80208227e+01  5.60873132e+01  5.42182368e+01  5.24114462e+01\n",
      "  5.06648657e+01  4.89764890e+01  4.73443764e+01  4.57666529e+01\n",
      "  4.42415061e+01  4.27671839e+01  4.13419926e+01  3.99642949e+01\n",
      "  3.86325081e+01  3.73451023e+01  3.61005984e+01  3.48975669e+01\n",
      "  3.37346257e+01  3.26104388e+01  3.15237148e+01  3.04732051e+01\n",
      "  2.94577030e+01  2.84760419e+01  2.75270941e+01  2.66097693e+01\n",
      "  2.57230139e+01  2.48658090e+01  2.40371699e+01  2.32361448e+01\n",
      "  2.24618133e+01  2.17132859e+01  2.09897027e+01  2.02902325e+01\n",
      "  1.96140717e+01  1.89604436e+01  1.83285972e+01  1.77178067e+01\n",
      "  1.71273704e+01  1.65566100e+01  1.60048699e+01  1.54715162e+01\n",
      "  1.49559362e+01  1.44575375e+01  1.39757477e+01  1.35100132e+01\n",
      "  1.30597991e+01  1.26245880e+01  1.22038801e+01  1.17971920e+01\n",
      "  1.14040566e+01  1.10240221e+01  1.06566521e+01  1.03015244e+01\n",
      "  9.95823116e+00  9.62637795e+00  9.30558354e+00  8.99547941e+00\n",
      "  8.69570930e+00  8.40592886e+00  8.12580516e+00  7.85501641e+00\n",
      "  7.59325154e+00  7.34020981e+00  7.09560055e+00  6.85914274e+00\n",
      "  6.63056474e+00  6.40960396e+00  6.19600656e+00  5.98952716e+00\n",
      "  5.78992856e+00  5.59698147e+00  5.41046421e+00  5.23016253e+00\n",
      "  5.05586929e+00  4.88738427e+00  4.72451390e+00  4.56707109e+00\n",
      "  4.41487496e+00  4.26775068e+00  4.12552922e+00  3.98804721e+00\n",
      "  3.85514670e+00  3.72667501e+00  3.60248457e+00  3.48243269e+00\n",
      "  3.36638147e+00  3.25419759e+00  3.14575216e+00  3.04092061e+00\n",
      "  2.93958251e+00  2.84162144e+00  2.74692486e+00  2.65538399e+00\n",
      "  2.56689365e+00  2.48135221e+00  2.39866138e+00  2.31872617e+00\n",
      "  2.24145475e+00  2.16675836e+00  2.09455118e+00  2.02475025e+00\n",
      "  1.95727540e+00  1.89204911e+00  1.82899644e+00  1.76804497e+00\n",
      "  1.70912466e+00  1.65216784e+00  1.59710907e+00  1.54388509e+00\n",
      "  1.49243478e+00  1.44269901e+00  1.39462066e+00  1.34814449e+00\n",
      "  1.30321711e+00  1.25978691e+00  1.21780399e+00  1.17722012e+00\n",
      "  1.13798869e+00  1.10006462e+00  1.06340435e+00  1.02796576e+00\n",
      "  9.93708138e-01  9.60592130e-01  9.28579693e-01  8.97634050e-01\n",
      "  8.67719652e-01  8.38802133e-01  8.10848272e-01  7.83825957e-01\n",
      "  7.57704143e-01  7.32452823e-01  7.08042988e-01  6.84446595e-01\n",
      "  6.61636538e-01  6.39586611e-01  6.18271485e-01  5.97666672e-01\n",
      "  5.77748502e-01  5.58494093e-01  5.39881325e-01  5.21888816e-01\n",
      "  5.04495896e-01  4.87682585e-01  4.71429567e-01  4.55718170e-01\n",
      "  4.40530347e-01  4.25848648e-01  4.11656208e-01  3.97936722e-01\n",
      "  3.84674429e-01  3.71854094e-01  3.59460989e-01  3.47480877e-01\n",
      "  3.35899994e-01  3.24705037e-01  3.13883145e-01  3.03421886e-01\n",
      "  2.93309243e-01  2.83533596e-01  2.74083717e-01  2.64948750e-01\n",
      "  2.56118199e-01  2.47581922e-01  2.39330110e-01  2.31353285e-01\n",
      "  2.23642283e-01  2.16188245e-01  2.08982609e-01  2.02017095e-01\n",
      "  1.95283704e-01  1.88774698e-01  1.82482601e-01  1.76400184e-01\n",
      "  1.70520460e-01  1.64836674e-01  1.59342297e-01  1.54031017e-01\n",
      "  1.48896732e-01  1.43933543e-01  1.39135750e-01  1.34497840e-01\n",
      "  1.30014486e-01  1.25680537e-01  1.21491014e-01  1.17441104e-01\n",
      "  1.13526155e-01  1.09741670e-01  1.06083300e-01  1.02546842e-01\n",
      "  9.91282355e-02  9.58235516e-02  9.26289942e-02  8.95408935e-02\n",
      "  8.65557019e-02  8.36699899e-02  8.08804425e-02  7.81838550e-02\n",
      "  7.55771297e-02  7.30572719e-02  7.06213867e-02  6.82666760e-02\n",
      "  6.59904345e-02  6.37900474e-02  6.16629868e-02  5.96068092e-02\n",
      "  5.76191525e-02  5.56977332e-02  5.38403440e-02  5.20448512e-02\n",
      "  5.03091920e-02  4.86313726e-02  4.70094655e-02  4.54416075e-02\n",
      "  4.39259974e-02  4.24608940e-02  4.10446144e-02  3.96755313e-02\n",
      "  3.83520721e-02  3.70727164e-02  3.58359944e-02  3.46404854e-02\n",
      "  3.34848160e-02  3.23676586e-02  3.12877298e-02  3.02437889e-02\n",
      "  2.92346367e-02  2.82591139e-02  2.73160998e-02  2.64045110e-02\n",
      "  2.55233004e-02  2.46714556e-02  2.38479980e-02  2.30519816e-02\n",
      "  2.22824920e-02  2.15386451e-02  2.08195865e-02  2.01244900e-02\n",
      "  1.94525572e-02  1.88030162e-02  1.81751207e-02  1.75681494e-02\n",
      "  1.69814051e-02  1.64142137e-02  1.58659236e-02  1.53359049e-02\n",
      "  1.48235488e-02  1.43282666e-02  1.38494894e-02  1.33866671e-02\n",
      "  1.29392681e-02  1.25067784e-02  1.20887012e-02  1.16845561e-02\n",
      "  1.12938789e-02  1.09162208e-02  1.05511479e-02  1.01982408e-02\n",
      "  9.85709418e-03  9.52731603e-03  9.20852753e-03  8.90036247e-03\n",
      "  8.60246681e-03  8.31449835e-03  8.03612625e-03  7.76703074e-03\n",
      "  7.50690266e-03  7.25544320e-03  7.01236346e-03  6.77738421e-03\n",
      "  6.55023550e-03  6.33065638e-03  6.11839459e-03  5.91320630e-03\n",
      "  5.71485579e-03  5.52311518e-03  5.33776421e-03  5.15858994e-03\n",
      "  4.98538655e-03  4.81795506e-03  4.65610311e-03  4.49964479e-03\n",
      "  4.34840034e-03  4.20219601e-03  4.06086386e-03  3.92424151e-03\n",
      "  3.79217202e-03  3.66450367e-03  3.54108978e-03  3.42178858e-03\n",
      "  3.30646303e-03  3.19498062e-03  3.08721330e-03  2.98303726e-03\n",
      "  2.88233282e-03  2.78498429e-03  2.69087985e-03  2.59991137e-03\n",
      "  2.51197437e-03  2.42696781e-03  2.34479404e-03  2.26535866e-03\n",
      "  2.18857042e-03  2.11434110e-03  2.04258543e-03  1.97322096e-03\n",
      "  1.90616803e-03  1.84134959e-03  1.77869119e-03  1.71812084e-03\n",
      "  1.65956896e-03  1.60296829e-03  1.54825380e-03  1.49536263e-03\n",
      "  1.44423403e-03  1.39480926e-03  1.34703154e-03  1.30084599e-03\n",
      "  1.25619954e-03  1.21304090e-03  1.17132050e-03  1.13099040e-03\n",
      "  1.09200428e-03  1.05431735e-03  1.01788632e-03  9.82669320e-04\n",
      "  9.48625910e-04  9.15716975e-04  8.83904710e-04  8.53152569e-04\n",
      "  8.23425224e-04  7.94688525e-04  7.66909458e-04  7.40056112e-04\n",
      "  7.14097637e-04  6.89004213e-04  6.64747011e-04  6.41298165e-04\n",
      "  6.18630738e-04  5.96718689e-04  5.75536845e-04  5.55060873e-04\n",
      "  5.35267250e-04  5.16133238e-04  4.97636855e-04  4.79756852e-04\n",
      "  4.62472690e-04  4.45764511e-04  4.29613122e-04  4.13999969e-04\n",
      "  3.98907114e-04  3.84317219e-04  3.70213523e-04  3.56579825e-04\n",
      "  3.43400461e-04  3.30660291e-04  3.18344679e-04  3.06439478e-04\n",
      "  2.94931010e-04  2.83806055e-04  2.73051832e-04  2.62655987e-04\n",
      "  2.52606577e-04  2.42892057e-04  2.33501268e-04  2.24423421e-04\n",
      "  2.15648087e-04  2.07165187e-04  1.98964973e-04  1.91038027e-04\n",
      "  1.83375241e-04  1.75967813e-04  1.68807233e-04  1.61885275e-04\n",
      "  1.55193987e-04  1.48725682e-04  1.42472929e-04  1.36428545e-04\n",
      "  1.30585587e-04  1.24937342e-04  1.19477321e-04  1.14199251e-04\n",
      "  1.09097071e-04  1.04164917e-04  9.93971240e-05  9.47882150e-05\n",
      "  9.03328950e-05  8.60260458e-05  8.18627197e-05  7.78381339e-05\n",
      "  7.39476649e-05  7.01868434e-05  6.65513490e-05  6.30370051e-05\n",
      "  5.96397746e-05  5.63557548e-05  5.31811728e-05  5.01123819e-05\n",
      "  4.71458565e-05  4.42781887e-05  4.15060842e-05  3.88263584e-05\n",
      "  3.62359328e-05  3.37318315e-05  3.13111779e-05  2.89711911e-05\n",
      "  2.67091828e-05  2.45225546e-05  2.24087945e-05  2.03654741e-05\n",
      "  1.83902460e-05  1.64808413e-05  1.46350663e-05  1.28508006e-05\n",
      "  1.11259944e-05  9.45866636e-06  7.84690099e-06  6.28884670e-06\n",
      "  4.78271362e-06  3.32677149e-06  1.91934774e-06  5.58825517e-07\n",
      " -7.56358142e-07 -2.02771412e-06 -3.25670294e-06 -4.44473646e-06\n",
      " -5.59317950e-06 -6.70335138e-06 -7.77652747e-06 -8.81394063e-06\n",
      " -9.81678264e-06]\n",
      "[ 1.00000000e+03  9.66675616e+02  9.34461747e+02 ... -6.08167371e-13\n",
      " -6.38346237e-13 -6.67519410e-13]\n",
      "1025\n",
      "1025\n"
     ]
    },
    {
     "ename": "ValueError",
     "evalue": "x and y must have same first dimension, but have shapes (9,) and (1025,)",
     "output_type": "error",
     "traceback": [
      "\u001b[0;31m---------------------------------------------------------------------------\u001b[0m",
      "\u001b[0;31mValueError\u001b[0m                                Traceback (most recent call last)",
      "\u001b[0;32m<ipython-input-20-26c90b460332>\u001b[0m in \u001b[0;36m<module>\u001b[0;34m()\u001b[0m\n\u001b[1;32m     16\u001b[0m \u001b[0;34m\u001b[0m\u001b[0m\n\u001b[1;32m     17\u001b[0m \u001b[0mplt\u001b[0m\u001b[0;34m.\u001b[0m\u001b[0mfigure\u001b[0m\u001b[0;34m(\u001b[0m\u001b[0mfigsize\u001b[0m\u001b[0;34m=\u001b[0m\u001b[0;34m(\u001b[0m\u001b[0;36m12\u001b[0m\u001b[0;34m,\u001b[0m\u001b[0;36m8\u001b[0m\u001b[0;34m)\u001b[0m\u001b[0;34m)\u001b[0m\u001b[0;34m\u001b[0m\u001b[0m\n\u001b[0;32m---> 18\u001b[0;31m \u001b[0mplt\u001b[0m\u001b[0;34m.\u001b[0m\u001b[0mplot\u001b[0m\u001b[0;34m(\u001b[0m\u001b[0mnumber_steps\u001b[0m\u001b[0;34m,\u001b[0m \u001b[0merror_euler\u001b[0m\u001b[0;34m)\u001b[0m\u001b[0;34m\u001b[0m\u001b[0m\n\u001b[0m\u001b[1;32m     19\u001b[0m \u001b[0mplt\u001b[0m\u001b[0;34m.\u001b[0m\u001b[0mplot\u001b[0m\u001b[0;34m(\u001b[0m\u001b[0mnumber_steps\u001b[0m\u001b[0;34m,\u001b[0m \u001b[0merror_RK4\u001b[0m\u001b[0;34m)\u001b[0m\u001b[0;34m\u001b[0m\u001b[0m\n\u001b[1;32m     20\u001b[0m \u001b[0mplt\u001b[0m\u001b[0;34m.\u001b[0m\u001b[0mxlabel\u001b[0m\u001b[0;34m(\u001b[0m\u001b[0;34m'Number of steps - log 10 base'\u001b[0m\u001b[0;34m)\u001b[0m\u001b[0;34m\u001b[0m\u001b[0m\n",
      "\u001b[0;32m/opt/conda/lib/python3.6/site-packages/matplotlib/pyplot.py\u001b[0m in \u001b[0;36mplot\u001b[0;34m(*args, **kwargs)\u001b[0m\n\u001b[1;32m   3361\u001b[0m                       mplDeprecation)\n\u001b[1;32m   3362\u001b[0m     \u001b[0;32mtry\u001b[0m\u001b[0;34m:\u001b[0m\u001b[0;34m\u001b[0m\u001b[0m\n\u001b[0;32m-> 3363\u001b[0;31m         \u001b[0mret\u001b[0m \u001b[0;34m=\u001b[0m \u001b[0max\u001b[0m\u001b[0;34m.\u001b[0m\u001b[0mplot\u001b[0m\u001b[0;34m(\u001b[0m\u001b[0;34m*\u001b[0m\u001b[0margs\u001b[0m\u001b[0;34m,\u001b[0m \u001b[0;34m**\u001b[0m\u001b[0mkwargs\u001b[0m\u001b[0;34m)\u001b[0m\u001b[0;34m\u001b[0m\u001b[0m\n\u001b[0m\u001b[1;32m   3364\u001b[0m     \u001b[0;32mfinally\u001b[0m\u001b[0;34m:\u001b[0m\u001b[0;34m\u001b[0m\u001b[0m\n\u001b[1;32m   3365\u001b[0m         \u001b[0max\u001b[0m\u001b[0;34m.\u001b[0m\u001b[0m_hold\u001b[0m \u001b[0;34m=\u001b[0m \u001b[0mwashold\u001b[0m\u001b[0;34m\u001b[0m\u001b[0m\n",
      "\u001b[0;32m/opt/conda/lib/python3.6/site-packages/matplotlib/__init__.py\u001b[0m in \u001b[0;36minner\u001b[0;34m(ax, *args, **kwargs)\u001b[0m\n\u001b[1;32m   1865\u001b[0m                         \u001b[0;34m\"the Matplotlib list!)\"\u001b[0m \u001b[0;34m%\u001b[0m \u001b[0;34m(\u001b[0m\u001b[0mlabel_namer\u001b[0m\u001b[0;34m,\u001b[0m \u001b[0mfunc\u001b[0m\u001b[0;34m.\u001b[0m\u001b[0m__name__\u001b[0m\u001b[0;34m)\u001b[0m\u001b[0;34m,\u001b[0m\u001b[0;34m\u001b[0m\u001b[0m\n\u001b[1;32m   1866\u001b[0m                         RuntimeWarning, stacklevel=2)\n\u001b[0;32m-> 1867\u001b[0;31m             \u001b[0;32mreturn\u001b[0m \u001b[0mfunc\u001b[0m\u001b[0;34m(\u001b[0m\u001b[0max\u001b[0m\u001b[0;34m,\u001b[0m \u001b[0;34m*\u001b[0m\u001b[0margs\u001b[0m\u001b[0;34m,\u001b[0m \u001b[0;34m**\u001b[0m\u001b[0mkwargs\u001b[0m\u001b[0;34m)\u001b[0m\u001b[0;34m\u001b[0m\u001b[0m\n\u001b[0m\u001b[1;32m   1868\u001b[0m \u001b[0;34m\u001b[0m\u001b[0m\n\u001b[1;32m   1869\u001b[0m         inner.__doc__ = _add_data_doc(inner.__doc__,\n",
      "\u001b[0;32m/opt/conda/lib/python3.6/site-packages/matplotlib/axes/_axes.py\u001b[0m in \u001b[0;36mplot\u001b[0;34m(self, *args, **kwargs)\u001b[0m\n\u001b[1;32m   1526\u001b[0m         \u001b[0mkwargs\u001b[0m \u001b[0;34m=\u001b[0m \u001b[0mcbook\u001b[0m\u001b[0;34m.\u001b[0m\u001b[0mnormalize_kwargs\u001b[0m\u001b[0;34m(\u001b[0m\u001b[0mkwargs\u001b[0m\u001b[0;34m,\u001b[0m \u001b[0m_alias_map\u001b[0m\u001b[0;34m)\u001b[0m\u001b[0;34m\u001b[0m\u001b[0m\n\u001b[1;32m   1527\u001b[0m \u001b[0;34m\u001b[0m\u001b[0m\n\u001b[0;32m-> 1528\u001b[0;31m         \u001b[0;32mfor\u001b[0m \u001b[0mline\u001b[0m \u001b[0;32min\u001b[0m \u001b[0mself\u001b[0m\u001b[0;34m.\u001b[0m\u001b[0m_get_lines\u001b[0m\u001b[0;34m(\u001b[0m\u001b[0;34m*\u001b[0m\u001b[0margs\u001b[0m\u001b[0;34m,\u001b[0m \u001b[0;34m**\u001b[0m\u001b[0mkwargs\u001b[0m\u001b[0;34m)\u001b[0m\u001b[0;34m:\u001b[0m\u001b[0;34m\u001b[0m\u001b[0m\n\u001b[0m\u001b[1;32m   1529\u001b[0m             \u001b[0mself\u001b[0m\u001b[0;34m.\u001b[0m\u001b[0madd_line\u001b[0m\u001b[0;34m(\u001b[0m\u001b[0mline\u001b[0m\u001b[0;34m)\u001b[0m\u001b[0;34m\u001b[0m\u001b[0m\n\u001b[1;32m   1530\u001b[0m             \u001b[0mlines\u001b[0m\u001b[0;34m.\u001b[0m\u001b[0mappend\u001b[0m\u001b[0;34m(\u001b[0m\u001b[0mline\u001b[0m\u001b[0;34m)\u001b[0m\u001b[0;34m\u001b[0m\u001b[0m\n",
      "\u001b[0;32m/opt/conda/lib/python3.6/site-packages/matplotlib/axes/_base.py\u001b[0m in \u001b[0;36m_grab_next_args\u001b[0;34m(self, *args, **kwargs)\u001b[0m\n\u001b[1;32m    404\u001b[0m                 \u001b[0mthis\u001b[0m \u001b[0;34m+=\u001b[0m \u001b[0margs\u001b[0m\u001b[0;34m[\u001b[0m\u001b[0;36m0\u001b[0m\u001b[0;34m]\u001b[0m\u001b[0;34m,\u001b[0m\u001b[0;34m\u001b[0m\u001b[0m\n\u001b[1;32m    405\u001b[0m                 \u001b[0margs\u001b[0m \u001b[0;34m=\u001b[0m \u001b[0margs\u001b[0m\u001b[0;34m[\u001b[0m\u001b[0;36m1\u001b[0m\u001b[0;34m:\u001b[0m\u001b[0;34m]\u001b[0m\u001b[0;34m\u001b[0m\u001b[0m\n\u001b[0;32m--> 406\u001b[0;31m             \u001b[0;32mfor\u001b[0m \u001b[0mseg\u001b[0m \u001b[0;32min\u001b[0m \u001b[0mself\u001b[0m\u001b[0;34m.\u001b[0m\u001b[0m_plot_args\u001b[0m\u001b[0;34m(\u001b[0m\u001b[0mthis\u001b[0m\u001b[0;34m,\u001b[0m \u001b[0mkwargs\u001b[0m\u001b[0;34m)\u001b[0m\u001b[0;34m:\u001b[0m\u001b[0;34m\u001b[0m\u001b[0m\n\u001b[0m\u001b[1;32m    407\u001b[0m                 \u001b[0;32myield\u001b[0m \u001b[0mseg\u001b[0m\u001b[0;34m\u001b[0m\u001b[0m\n\u001b[1;32m    408\u001b[0m \u001b[0;34m\u001b[0m\u001b[0m\n",
      "\u001b[0;32m/opt/conda/lib/python3.6/site-packages/matplotlib/axes/_base.py\u001b[0m in \u001b[0;36m_plot_args\u001b[0;34m(self, tup, kwargs)\u001b[0m\n\u001b[1;32m    381\u001b[0m             \u001b[0mx\u001b[0m\u001b[0;34m,\u001b[0m \u001b[0my\u001b[0m \u001b[0;34m=\u001b[0m \u001b[0mindex_of\u001b[0m\u001b[0;34m(\u001b[0m\u001b[0mtup\u001b[0m\u001b[0;34m[\u001b[0m\u001b[0;34m-\u001b[0m\u001b[0;36m1\u001b[0m\u001b[0;34m]\u001b[0m\u001b[0;34m)\u001b[0m\u001b[0;34m\u001b[0m\u001b[0m\n\u001b[1;32m    382\u001b[0m \u001b[0;34m\u001b[0m\u001b[0m\n\u001b[0;32m--> 383\u001b[0;31m         \u001b[0mx\u001b[0m\u001b[0;34m,\u001b[0m \u001b[0my\u001b[0m \u001b[0;34m=\u001b[0m \u001b[0mself\u001b[0m\u001b[0;34m.\u001b[0m\u001b[0m_xy_from_xy\u001b[0m\u001b[0;34m(\u001b[0m\u001b[0mx\u001b[0m\u001b[0;34m,\u001b[0m \u001b[0my\u001b[0m\u001b[0;34m)\u001b[0m\u001b[0;34m\u001b[0m\u001b[0m\n\u001b[0m\u001b[1;32m    384\u001b[0m \u001b[0;34m\u001b[0m\u001b[0m\n\u001b[1;32m    385\u001b[0m         \u001b[0;32mif\u001b[0m \u001b[0mself\u001b[0m\u001b[0;34m.\u001b[0m\u001b[0mcommand\u001b[0m \u001b[0;34m==\u001b[0m \u001b[0;34m'plot'\u001b[0m\u001b[0;34m:\u001b[0m\u001b[0;34m\u001b[0m\u001b[0m\n",
      "\u001b[0;32m/opt/conda/lib/python3.6/site-packages/matplotlib/axes/_base.py\u001b[0m in \u001b[0;36m_xy_from_xy\u001b[0;34m(self, x, y)\u001b[0m\n\u001b[1;32m    240\u001b[0m         \u001b[0;32mif\u001b[0m \u001b[0mx\u001b[0m\u001b[0;34m.\u001b[0m\u001b[0mshape\u001b[0m\u001b[0;34m[\u001b[0m\u001b[0;36m0\u001b[0m\u001b[0;34m]\u001b[0m \u001b[0;34m!=\u001b[0m \u001b[0my\u001b[0m\u001b[0;34m.\u001b[0m\u001b[0mshape\u001b[0m\u001b[0;34m[\u001b[0m\u001b[0;36m0\u001b[0m\u001b[0;34m]\u001b[0m\u001b[0;34m:\u001b[0m\u001b[0;34m\u001b[0m\u001b[0m\n\u001b[1;32m    241\u001b[0m             raise ValueError(\"x and y must have same first dimension, but \"\n\u001b[0;32m--> 242\u001b[0;31m                              \"have shapes {} and {}\".format(x.shape, y.shape))\n\u001b[0m\u001b[1;32m    243\u001b[0m         \u001b[0;32mif\u001b[0m \u001b[0mx\u001b[0m\u001b[0;34m.\u001b[0m\u001b[0mndim\u001b[0m \u001b[0;34m>\u001b[0m \u001b[0;36m2\u001b[0m \u001b[0;32mor\u001b[0m \u001b[0my\u001b[0m\u001b[0;34m.\u001b[0m\u001b[0mndim\u001b[0m \u001b[0;34m>\u001b[0m \u001b[0;36m2\u001b[0m\u001b[0;34m:\u001b[0m\u001b[0;34m\u001b[0m\u001b[0m\n\u001b[1;32m    244\u001b[0m             raise ValueError(\"x and y can be no greater than 2-D, but have \"\n",
      "\u001b[0;31mValueError\u001b[0m: x and y must have same first dimension, but have shapes (9,) and (1025,)"
     ]
    },
    {
     "data": {
      "image/png": "[encoded data removed]",
      "text/plain": [
       "<Figure size 864x576 with 1 Axes>"
      ]
     },
     "metadata": {},
     "output_type": "display_data"
    }
   ],
   "source": [
    "n0=1000\n",
    "t0 = 0\n",
    "dt = 1\n",
    "number_steps = [4, 8, 16, 32, 64, 128, 256, 512, 1024]\n",
    "\n",
    "for i in number_steps:\n",
    "    result_euler = solve_euler(f_rad, n0, t0, dt, i)\n",
    "    result_RK4 = solve_RK4(f_rad, n0, t0, dt, i)\n",
    "    error_euler = numpy.array(result_euler - analytic(n0, t0+i*dt))\n",
    "    error_RK4 = numpy.array(result_RK4 - analytic(n0, t0+i*dt))\n",
    "    print(error_euler)\n",
    "\n",
    "print(len(error_euler))\n",
    "print(len(error_RK4))\n",
    "\n",
    "\n",
    "plt.figure(figsize=(12,8))\n",
    "plt.plot(number_steps, error_euler)\n",
    "plt.plot(number_steps, error_RK4)\n",
    "plt.xlabel('Number of steps - log 10 base')\n",
    "plt.ylabel('Error in numeical method - log 10 base')\n",
    "plt.xscale('log')\n",
    "plt.yscale('log')\n",
    "plt.title('Error scaling with the RK4 and Euler method for number of steps taken')\n",
    "        \n"
   ]
  },
  {
   "cell_type": "code",
   "execution_count": null,
   "metadata": {},
   "outputs": [],
   "source": []
  },
  {
   "cell_type": "code",
   "execution_count": null,
   "metadata": {},
   "outputs": [],
   "source": []
  },
  {
   "cell_type": "code",
   "execution_count": null,
   "metadata": {},
   "outputs": [],
   "source": []
  },
  {
   "cell_type": "code",
   "execution_count": null,
   "metadata": {},
   "outputs": [],
   "source": []
  },
  {
   "cell_type": "code",
   "execution_count": null,
   "metadata": {},
   "outputs": [],
   "source": []
  },
  {
   "cell_type": "code",
   "execution_count": null,
   "metadata": {},
   "outputs": [],
   "source": []
  }
 ],
 "metadata": {
  "kernelspec": {
   "display_name": "Python 3",
   "language": "python",
   "name": "python3"
  },
  "language_info": {
   "codemirror_mode": {
    "name": "ipython",
    "version": 3
   },
   "file_extension": ".py",
   "mimetype": "text/x-python",
   "name": "python",
   "nbconvert_exporter": "python",
   "pygments_lexer": "ipython3",
   "version": "3.6.3"
  },
  "toc": {
   "base_numbering": 1,
   "nav_menu": {},
   "number_sections": false,
   "sideBar": true,
   "skip_h1_title": false,
   "title_cell": "Table of Contents",
   "title_sidebar": "Contents",
   "toc_cell": false,
   "toc_position": {},
   "toc_section_display": true,
   "toc_window_display": false
  }
 },
 "nbformat": 4,
 "nbformat_minor": 2
}
