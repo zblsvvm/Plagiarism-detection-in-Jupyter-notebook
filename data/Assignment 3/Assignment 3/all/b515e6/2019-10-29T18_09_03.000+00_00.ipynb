{
 "cells": [
  {
   "cell_type": "markdown",
   "metadata": {
    "deletable": false,
    "editable": false,
    "nbgrader": {
     "cell_type": "markdown",
     "checksum": "9e255c2f6a00086caac01bd9f93ae0fd",
     "grade": false,
     "grade_id": "cell-653a2d7b8720a14f",
     "locked": true,
     "schema_version": 3,
     "solution": false
    }
   },
   "source": [
    "# <center>L2 Computational Physics</center>\n",
    "\n",
    "## <center>Week 3: Differential Equations I</center>"
   ]
  },
  {
   "cell_type": "code",
   "execution_count": 4,
   "metadata": {
    "deletable": false,
    "editable": false,
    "nbgrader": {
     "cell_type": "code",
     "checksum": "96aa70f20e306039b1ae0aad9e021a86",
     "grade": false,
     "grade_id": "imports",
     "locked": true,
     "schema_version": 3,
     "solution": false
    }
   },
   "outputs": [],
   "source": [
    "# usual packages to import\n",
    "import numpy \n",
    "import matplotlib.pyplot as plt\n",
    "%matplotlib inline"
   ]
  },
  {
   "cell_type": "markdown",
   "metadata": {
    "deletable": false,
    "editable": false,
    "nbgrader": {
     "cell_type": "markdown",
     "checksum": "b26b91b158cd26a964af9866fcae4f62",
     "grade": false,
     "grade_id": "introduction",
     "locked": true,
     "schema_version": 3,
     "solution": false
    }
   },
   "source": [
    "In this notebook, you will generate and plot the decay curve for Iodine-133 analytically and numerically. $^{133}\\textrm{I}$ has a half life $t_{1/2}$ of 20.8 hours. This means that half of the nuclei will have decayed after time $t_{1/2}$. Derive the mean lifetime $\\tau$ from that information."
   ]
  },
  {
   "cell_type": "code",
   "execution_count": 5,
   "metadata": {
    "deletable": false,
    "nbgrader": {
     "cell_type": "code",
     "checksum": "1f32203e67620dad43f0e3253b2b80d0",
     "grade": false,
     "grade_id": "constants",
     "locked": false,
     "schema_version": 3,
     "solution": true
    }
   },
   "outputs": [],
   "source": [
    "# define a function to calculate the mean lifetime from the half life\n",
    "def meanLifetime(halfLife):\n",
    "    mean=halfLife/numpy.log(2)\n",
    "    return mean\n",
    "\n",
    "T_HALF = 20.8\n",
    "TAU = meanLifetime(T_HALF)\n"
   ]
  },
  {
   "cell_type": "markdown",
   "metadata": {
    "deletable": false,
    "editable": false,
    "nbgrader": {
     "cell_type": "markdown",
     "checksum": "474783dac86dd74a9510b7a6dccccb55",
     "grade": false,
     "grade_id": "cell-7ed602ac8b4a8623",
     "locked": true,
     "schema_version": 3,
     "solution": false
    }
   },
   "source": [
    "Check your average lifetime:"
   ]
  },
  {
   "cell_type": "code",
   "execution_count": 11,
   "metadata": {
    "deletable": false,
    "editable": false,
    "nbgrader": {
     "cell_type": "code",
     "checksum": "5b581ceaabfd40522833ba0df84148e3",
     "grade": true,
     "grade_id": "constants_check",
     "locked": true,
     "points": 1,
     "schema_version": 3,
     "solution": false
    }
   },
   "outputs": [],
   "source": [
    "# this test is worth 1 mark\n",
    "assert numpy.isclose(TAU, 30.0080568505)         "
   ]
  },
  {
   "cell_type": "markdown",
   "metadata": {
    "deletable": false,
    "editable": false,
    "nbgrader": {
     "cell_type": "markdown",
     "checksum": "6b5e2bcf6c6e49eda2f081cccb315844",
     "grade": false,
     "grade_id": "cell-864b8c95035f9b93",
     "locked": true,
     "schema_version": 3,
     "solution": false
    }
   },
   "source": [
    "### The Decay Equation"
   ]
  },
  {
   "cell_type": "markdown",
   "metadata": {
    "deletable": false,
    "editable": false,
    "nbgrader": {
     "cell_type": "markdown",
     "checksum": "b6c5672c9f405cb9a80f72ab719fc145",
     "grade": false,
     "grade_id": "decay_introduction",
     "locked": true,
     "schema_version": 3,
     "solution": false
    }
   },
   "source": [
    "Implement the function `f_rad` such that the differential equation \n",
    "\n",
    "$$ \\frac{dN}{dt} = f_{rad}(N,t)$$\n",
    "\n",
    "describes the radioactive decay process.\n",
    "\n",
    "- *Your function should return values using hours as the time unit.*\n",
    "- *The function should use the constant* `TAU`."
   ]
  },
  {
   "cell_type": "code",
   "execution_count": 6,
   "metadata": {
    "deletable": false,
    "nbgrader": {
     "cell_type": "code",
     "checksum": "457d82a875c5d8e48187fa31401c9e97",
     "grade": false,
     "grade_id": "decay_function",
     "locked": false,
     "schema_version": 3,
     "solution": true
    }
   },
   "outputs": [],
   "source": [
    "def f_rad(N, t):\n",
    "    funct=-N/TAU\n",
    "    return funct"
   ]
  },
  {
   "cell_type": "markdown",
   "metadata": {
    "deletable": false,
    "editable": false,
    "nbgrader": {
     "cell_type": "markdown",
     "checksum": "1b781e9bfdf185906da10a3fce5afc03",
     "grade": false,
     "grade_id": "cell-d59ccbc070af010b",
     "locked": true,
     "schema_version": 3,
     "solution": false
    }
   },
   "source": [
    "Make sure your function works:"
   ]
  },
  {
   "cell_type": "code",
   "execution_count": 13,
   "metadata": {
    "deletable": false,
    "editable": false,
    "nbgrader": {
     "cell_type": "code",
     "checksum": "87996117de466ae5951d10c9cba1f259",
     "grade": true,
     "grade_id": "decay_test",
     "locked": true,
     "points": 1,
     "schema_version": 3,
     "solution": false
    }
   },
   "outputs": [],
   "source": [
    "# this test cell is worth 1 mark\n",
    "assert numpy.isclose(f_rad(1000, 0), -33.324383681)           "
   ]
  },
  {
   "cell_type": "markdown",
   "metadata": {
    "deletable": false,
    "editable": false,
    "nbgrader": {
     "cell_type": "markdown",
     "checksum": "007a2d2688cd376a73cc4c6d0e0baff1",
     "grade": false,
     "grade_id": "analytic_introduction",
     "locked": true,
     "schema_version": 3,
     "solution": false
    }
   },
   "source": [
    "Solve this first order, ordinary differential equation analytically. Implement this function below, naming it `analytic`. The function should take an initial number of atoms `N0` at time `t=0`, and a time argument. The function should return nuclei count at the time argument. Make sure the function also works for numpy arrays."
   ]
  },
  {
   "cell_type": "code",
   "execution_count": 7,
   "metadata": {
    "deletable": false,
    "nbgrader": {
     "cell_type": "code",
     "checksum": "d5f8a683edd2825602878f6dee9d6c21",
     "grade": false,
     "grade_id": "analytic_function",
     "locked": false,
     "schema_version": 3,
     "solution": true
    }
   },
   "outputs": [],
   "source": [
    "def analytic(N0, t):\n",
    "    expon=-t/TAU\n",
    "    value=N0*numpy.exp(expon)\n",
    "    return value"
   ]
  },
  {
   "cell_type": "markdown",
   "metadata": {
    "deletable": false,
    "editable": false,
    "nbgrader": {
     "cell_type": "markdown",
     "checksum": "9a4d0cc32dcf367bc150dd45d10d4285",
     "grade": false,
     "grade_id": "cell-18ca8dc7e04d23a3",
     "locked": true,
     "schema_version": 3,
     "solution": false
    }
   },
   "source": [
    "Check your answer for a single time:"
   ]
  },
  {
   "cell_type": "code",
   "execution_count": 15,
   "metadata": {
    "deletable": false,
    "editable": false,
    "nbgrader": {
     "cell_type": "code",
     "checksum": "ab62ed3d3535e88940e063c1c4a12d84",
     "grade": true,
     "grade_id": "analytic_test",
     "locked": true,
     "points": 1,
     "schema_version": 3,
     "solution": false
    }
   },
   "outputs": [],
   "source": [
    "# this test is worth 1 mark\n",
    "assert numpy.isclose(analytic(1000, 41.6), 250.0)           "
   ]
  },
  {
   "cell_type": "code",
   "execution_count": 16,
   "metadata": {
    "deletable": false,
    "editable": false,
    "nbgrader": {
     "cell_type": "code",
     "checksum": "bafe495357c897607c0ddf170f01b6cd",
     "grade": true,
     "grade_id": "analytic_test_array",
     "locked": true,
     "points": 2,
     "schema_version": 3,
     "solution": false
    }
   },
   "outputs": [],
   "source": [
    "# this test is worth 1 mark\n",
    "assert numpy.isclose(analytic(1000, numpy.arange(0, 60, 6)), \n",
    "                     [1000.        ,  818.77471839,  670.39203948,  548.90005334,\n",
    "                       449.4254866 ,  367.97822623,  301.29126855,  246.68967356,\n",
    "                       201.983268  ,  165.37879338]).all()\n"
   ]
  },
  {
   "cell_type": "markdown",
   "metadata": {
    "deletable": false,
    "editable": false,
    "nbgrader": {
     "cell_type": "markdown",
     "checksum": "307e9faa76135ad8d47eab7472b50e0a",
     "grade": false,
     "grade_id": "cell-e43cb07c20fa5758",
     "locked": true,
     "schema_version": 3,
     "solution": false
    }
   },
   "source": [
    "## Numerically Solving the ODE"
   ]
  },
  {
   "cell_type": "markdown",
   "metadata": {
    "deletable": false,
    "editable": false,
    "nbgrader": {
     "cell_type": "markdown",
     "checksum": "60f79d9c7fa0d2d94bc79706ab1ae03d",
     "grade": false,
     "grade_id": "cell-1cd6e2a66887f196",
     "locked": true,
     "schema_version": 3,
     "solution": false
    }
   },
   "source": [
    "We now wish to solve our differential equation numerically. We shall do this using Euler's and RK4 methods."
   ]
  },
  {
   "cell_type": "markdown",
   "metadata": {
    "deletable": false,
    "editable": false,
    "nbgrader": {
     "cell_type": "markdown",
     "checksum": "506315221a1ce2a83589f0664570efcb",
     "grade": false,
     "grade_id": "cell-1a07e2754604c846",
     "locked": true,
     "schema_version": 3,
     "solution": false
    }
   },
   "source": [
    "### Euler's Method"
   ]
  },
  {
   "cell_type": "markdown",
   "metadata": {
    "deletable": false,
    "editable": false,
    "nbgrader": {
     "cell_type": "markdown",
     "checksum": "d54ff05e541949049048ca38c990052f",
     "grade": false,
     "grade_id": "euler_introduction",
     "locked": true,
     "schema_version": 3,
     "solution": false
    }
   },
   "source": [
    "Create a function which takes as its arguments the initial number of atoms, `n0`, the initial time `t0`, the time step, `dt`, and the number of steps to perform, `n_steps`.  This function should return an array of the number of counts at each time step using Euler's method. This array should contain the initial and final values, so the array length should be `n_steps+1` "
   ]
  },
  {
   "cell_type": "code",
   "execution_count": 8,
   "metadata": {
    "deletable": false,
    "nbgrader": {
     "cell_type": "code",
     "checksum": "013501145cd3d22fc032e943bb1d1ea1",
     "grade": false,
     "grade_id": "euler_function",
     "locked": false,
     "schema_version": 3,
     "solution": true
    }
   },
   "outputs": [],
   "source": [
    "def solve_euler(f, n0, t0, dt, n_panels):\n",
    "    countnumber=[0]*(n_panels+1)\n",
    "    countnumber[0]=n0\n",
    "    for i in range (1,n_panels+1):\n",
    "        countnumber[i]=f(countnumber[i-1],t0+i*dt)*dt+countnumber[i-1]\n",
    "    return countnumber"
   ]
  },
  {
   "cell_type": "markdown",
   "metadata": {
    "deletable": false,
    "editable": false,
    "nbgrader": {
     "cell_type": "markdown",
     "checksum": "45340539b0c9b862d47028a5f97eb352",
     "grade": false,
     "grade_id": "cell-00862d5c2364027a",
     "locked": true,
     "schema_version": 3,
     "solution": false
    }
   },
   "source": [
    "Try your solution:"
   ]
  },
  {
   "cell_type": "code",
   "execution_count": 48,
   "metadata": {
    "deletable": false,
    "editable": false,
    "nbgrader": {
     "cell_type": "code",
     "checksum": "4b131e25e6aa3c8dae913e63d911771f",
     "grade": true,
     "grade_id": "euler_test_length",
     "locked": true,
     "points": 1,
     "schema_version": 3,
     "solution": false,
     "task": false
    }
   },
   "outputs": [],
   "source": [
    "# this test is worth 1 mark\n",
    "assert len(solve_euler(f_rad, 1000, 0, 1, 17)) == 18"
   ]
  },
  {
   "cell_type": "code",
   "execution_count": 55,
   "metadata": {
    "deletable": false,
    "editable": false,
    "nbgrader": {
     "cell_type": "code",
     "checksum": "fe20ccbd32656ef965ec3f9a7a415119",
     "grade": true,
     "grade_id": "euler_test_one",
     "locked": true,
     "points": 2,
     "schema_version": 3,
     "solution": false
    }
   },
   "outputs": [],
   "source": [
    "# this test is worth 2 marks\n",
    "assert numpy.isclose(solve_euler(f_rad, 1000, 0, 6, 1), [1000.,  800.05369792]).all()"
   ]
  },
  {
   "cell_type": "code",
   "execution_count": 58,
   "metadata": {
    "deletable": false,
    "editable": false,
    "nbgrader": {
     "cell_type": "code",
     "checksum": "d959639ea019b5a5bf260b744ed9a1e8",
     "grade": true,
     "grade_id": "euler_test_many",
     "locked": true,
     "points": 2,
     "schema_version": 3,
     "solution": false
    }
   },
   "outputs": [],
   "source": [
    "# this test is worth 2 mark\n",
    "assert numpy.isclose(solve_euler(f_rad, 1000, 0, 6, 10), [1000.        ,  800.05369792,  640.08591955,  512.10310692,\n",
    "                                                409.7099844 ,  327.7899881 ,  262.24959212,  209.81375595,\n",
    "                                                167.86227132,  134.29883091,  107.4462763 ]).all()"
   ]
  },
  {
   "cell_type": "markdown",
   "metadata": {
    "deletable": false,
    "editable": false,
    "nbgrader": {
     "cell_type": "markdown",
     "checksum": "860387a32a77ca0cdf4007ccdf282e18",
     "grade": false,
     "grade_id": "cell-9afd689c4b5b66e4",
     "locked": true,
     "schema_version": 3,
     "solution": false,
     "task": false
    }
   },
   "source": [
    "### RK 4 method"
   ]
  },
  {
   "cell_type": "markdown",
   "metadata": {
    "deletable": false,
    "editable": false,
    "nbgrader": {
     "cell_type": "markdown",
     "checksum": "ffb95947375cff594bf6f0659f1467c0",
     "grade": false,
     "grade_id": "cell-b46cd6a3a22d98eb",
     "locked": true,
     "schema_version": 3,
     "solution": false,
     "task": false
    }
   },
   "source": [
    "Implement the RK4 method in the `solve_RK4` function. The arguments are the same as for `solve_euler`."
   ]
  },
  {
   "cell_type": "code",
   "execution_count": 21,
   "metadata": {
    "deletable": false,
    "nbgrader": {
     "cell_type": "code",
     "checksum": "611b8f6c6a052ff1085a80404fc92a2b",
     "grade": false,
     "grade_id": "RK4",
     "locked": false,
     "schema_version": 3,
     "solution": true,
     "task": false
    }
   },
   "outputs": [],
   "source": [
    "def solve_RK4(f, n0, t0, dt, nsteps):\n",
    "    countnumber=[0]*(nsteps+1)\n",
    "    countnumber[0]=n0\n",
    "    for i in range (1,nsteps+1):\n",
    "        k1=f(countnumber[i-1],t0)\n",
    "        k2=f(countnumber[i-1]+k1*dt/2,t0+dt/2)\n",
    "        k3=f(countnumber[i-1]+k2*dt/2,t0+dt/2)\n",
    "        k4=f(countnumber[i-1]+k3*dt,t0+dt)\n",
    "        T4=(k1+(2*k2)+(2*k3)+k4)/6\n",
    "        countnumber[i]=T4*dt+countnumber[i-1]\n",
    "    return countnumber"
   ]
  },
  {
   "cell_type": "code",
   "execution_count": 18,
   "metadata": {
    "deletable": false,
    "editable": false,
    "nbgrader": {
     "cell_type": "code",
     "checksum": "0e92b0664845bd78bc9032ff5795c8f2",
     "grade": true,
     "grade_id": "RK4-test-1",
     "locked": true,
     "points": 1,
     "schema_version": 3,
     "solution": false,
     "task": false
    }
   },
   "outputs": [],
   "source": [
    "# This checks that we return an array of the right length\n",
    "# this test is worth 1 mark\n",
    "assert len(solve_RK4(f_rad, 1000, 0, 1, 17)) == 18"
   ]
  },
  {
   "cell_type": "code",
   "execution_count": 19,
   "metadata": {
    "deletable": false,
    "editable": false,
    "nbgrader": {
     "cell_type": "code",
     "checksum": "2cc4284fa713bc2d5af4f1366e54e7d9",
     "grade": true,
     "grade_id": "RK4-test-2",
     "locked": true,
     "points": 2,
     "schema_version": 3,
     "solution": false,
     "task": false
    }
   },
   "outputs": [],
   "source": [
    "# This checks that a single step is working\n",
    "# this test is worth 2 mark\n",
    "assert numpy.isclose(solve_RK4(f_rad, 1000,0, 6, 1), [1000.,  818.7773]).all()"
   ]
  },
  {
   "cell_type": "code",
   "execution_count": 22,
   "metadata": {
    "deletable": false,
    "editable": false,
    "nbgrader": {
     "cell_type": "code",
     "checksum": "be67647e705ca3915a432ef233c6a96b",
     "grade": true,
     "grade_id": "RK4-test-3",
     "locked": true,
     "points": 2,
     "schema_version": 3,
     "solution": false,
     "task": false
    }
   },
   "outputs": [],
   "source": [
    "# This checks multiple steps\n",
    "# this test is worth 2 marks\n",
    "assert numpy.isclose(solve_RK4(f_rad, 1000, 0, 6, 10), [\n",
    "    1000.,\n",
    "    818.77729521,  \n",
    "    670.39625915,  \n",
    "    548.90523578,\n",
    "    449.43114428,  \n",
    "    367.9840167,  \n",
    "    301.29695787,  \n",
    "    246.69510822, \n",
    "    201.98835345,  \n",
    "    165.3834777,  \n",
    "    135.41223655]).all()"
   ]
  },
  {
   "cell_type": "markdown",
   "metadata": {},
   "source": [
    "## Plotting task"
   ]
  },
  {
   "cell_type": "markdown",
   "metadata": {
    "deletable": false,
    "editable": false,
    "nbgrader": {
     "cell_type": "markdown",
     "checksum": "711a0e023c32f2bbd63b847d0eeaf33a",
     "grade": false,
     "grade_id": "plotting_task",
     "locked": true,
     "points": 5,
     "schema_version": 3,
     "solution": false,
     "task": true
    }
   },
   "source": [
    "**Task 1: **\n",
    "\n",
    "Create a plot to show that the RK4 method has an error that scales better with the number of steps than the Euler method. (click on the \"+\" button to create new cells.)       [task worth 5 marks]\n"
   ]
  },
  {
   "cell_type": "code",
   "execution_count": 45,
   "metadata": {},
   "outputs": [
    {
     "name": "stdout",
     "output_type": "stream",
     "text": [
      "[4, 8, 16, 32, 64, 128, 256, 512, 1024]\n",
      "[array([-1.22506295, -0.78016984, -0.42423147, -0.13946165,  0.08836949]), array([-3.95090514, -2.96098997, -2.16900467, -1.5353739 , -1.02843527,\n",
      "       -0.62285714, -0.29837285, -0.038768  ,  0.16892982]), array([-23.51146172, -18.61048559, -14.68944151, -11.5523957 ,\n",
      "        -9.0425906 ,  -7.03461174,  -5.42812084,  -4.14284185,\n",
      "        -3.11454964,  -2.29186065,  -1.63366529,  -1.10707365,\n",
      "        -0.68577207,  -0.34870818,  -0.07903896,   0.13671089,\n",
      "         0.30932235]), array([-5.99811756e+02, -4.79681667e+02, -3.83571145e+02, -3.06677567e+02,\n",
      "       -2.45158575e+02, -1.95940078e+02, -1.56562638e+02, -1.25058571e+02,\n",
      "       -9.98536259e+01, -7.96883164e+01, -6.35549859e+01, -5.06474552e+01,\n",
      "       -4.03207375e+01, -3.20588088e+01, -2.54488223e+01, -2.01604781e+01,\n",
      "       -1.59295187e+01, -1.25445241e+01, -9.83634656e+00, -7.66965913e+00,\n",
      "       -5.93619285e+00, -4.54932674e+00, -3.43975938e+00, -2.55204591e+00,\n",
      "       -1.84182746e+00, -1.27361457e+00, -8.19013746e-01, -4.55308674e-01,\n",
      "       -1.64325086e-01,  6.84774093e-02,  2.54731907e-01,  4.03745506e-01,\n",
      "        5.22964387e-01]), array([-3.60973766e+05, -2.88798196e+05, -2.31053865e+05, -1.84855299e+05,\n",
      "       -1.47893966e+05, -1.18322914e+05, -9.46644850e+04, -7.57364714e+04,\n",
      "       -6.05930440e+04, -4.84774890e+04, -3.87843944e+04, -3.10293982e+04,\n",
      "       -2.48249848e+04, -1.98611210e+04, -1.58897633e+04, -1.27124640e+04,\n",
      "       -1.01704539e+04, -8.13670927e+03, -6.50960440e+03, -5.20783312e+03,\n",
      "       -4.16634620e+03, -3.33310074e+03, -2.66645963e+03, -2.13311094e+03,\n",
      "       -1.70640335e+03, -1.36501436e+03, -1.09188484e+03, -8.73366559e+02,\n",
      "       -6.98540199e+02, -5.58669723e+02, -4.46765832e+02, -3.57236709e+02,\n",
      "       -2.85608604e+02, -2.28302273e+02, -1.82454132e+02, -1.45773157e+02,\n",
      "       -1.16426407e+02, -9.29474309e+01, -7.41629895e+01, -5.91344277e+01,\n",
      "       -4.71107712e+01, -3.74912004e+01, -2.97950273e+01, -2.36376754e+01,\n",
      "       -1.87114633e+01, -1.47702291e+01, -1.16170301e+01, -9.09430162e+00,\n",
      "       -7.07598334e+00, -5.46122033e+00, -4.16932322e+00, -3.13573616e+00,\n",
      "       -2.30881101e+00, -1.64722648e+00, -1.11792334e+00, -6.94452397e-01,\n",
      "       -3.55652906e-01, -8.45951206e-02,  1.32265663e-01,  3.05765935e-01,\n",
      "        4.44575469e-01,  5.55630550e-01,  6.44480578e-01,  7.15565372e-01,\n",
      "        7.72437024e-01]), array([-1.30302781e+11, -1.04249222e+11, -8.34049756e+10, -6.67284592e+10,\n",
      "       -5.33863505e+10, -4.27119472e+10, -3.41718513e+10, -2.73393160e+10,\n",
      "       -2.18729208e+10, -1.74995112e+10, -1.40005486e+10, -1.12011907e+10,\n",
      "       -8.96155406e+09, -7.16972446e+09, -5.73616457e+09, -4.58923967e+09,\n",
      "       -3.67163817e+09, -2.93750770e+09, -2.35016390e+09, -1.88025731e+09,\n",
      "       -1.50430682e+09, -1.20352623e+09, -9.62885612e+08, -7.70360195e+08,\n",
      "       -6.16329522e+08, -4.93096713e+08, -3.94503849e+08, -3.15624263e+08,\n",
      "       -2.52516358e+08, -2.02026646e+08, -1.61632165e+08, -1.29314411e+08,\n",
      "       -1.03458473e+08, -8.27723334e+07, -6.62223112e+07, -5.29814048e+07,\n",
      "       -4.23879686e+07, -3.39126508e+07, -2.71319415e+07, -2.17070099e+07,\n",
      "       -1.73667734e+07, -1.38943511e+07, -1.11162267e+07, -8.89357811e+06,\n",
      "       -7.11533986e+06, -5.69265376e+06, -4.55442850e+06, -3.64378716e+06,\n",
      "       -2.91522519e+06, -2.33233649e+06, -1.86599424e+06, -1.49289539e+06,\n",
      "       -1.19439628e+06, -9.55580959e+05, -7.64515880e+05, -6.11653557e+05,\n",
      "       -4.89355490e+05, -3.91510469e+05, -3.13229199e+05, -2.50599979e+05,\n",
      "       -2.00493240e+05, -1.60405158e+05, -1.28332540e+05, -1.02672723e+05,\n",
      "       -8.21434919e+04, -6.57190045e+04, -5.25785326e+04, -4.20654495e+04,\n",
      "       -3.36544185e+04, -2.69251420e+04, -2.15413595e+04, -1.72340444e+04,\n",
      "       -1.37879610e+04, -1.10309092e+04, -8.82511977e+03, -7.06036976e+03,\n",
      "       -5.64847499e+03, -4.51888336e+03, -3.61514939e+03, -2.89211369e+03,\n",
      "       -2.31364631e+03, -1.85084134e+03, -1.48057251e+03, -1.18433757e+03,\n",
      "       -9.47333704e+02, -7.57717886e+02, -6.06015051e+02, -4.84644636e+02,\n",
      "       -3.87541787e+02, -3.09854293e+02, -2.47700127e+02, -1.97973456e+02,\n",
      "       -1.58189449e+02, -1.26360108e+02, -1.00894925e+02, -8.05214117e+01,\n",
      "       -6.42215069e+01, -5.11807077e+01, -4.07473682e+01, -3.24001363e+01,\n",
      "       -2.57219026e+01, -2.03789570e+01, -1.61043136e+01, -1.26843693e+01,\n",
      "       -9.94823028e+00, -7.75917212e+00, -6.00780805e+00, -4.60662274e+00,\n",
      "       -3.48559926e+00, -2.58872027e+00, -1.87116893e+00, -1.29708932e+00,\n",
      "       -8.37794802e-01, -4.70334527e-01, -1.76346576e-01,  5.88595722e-02,\n",
      "        2.47037120e-01,  3.97589264e-01,  5.18039063e-01,  6.14405370e-01,\n",
      "        6.91503590e-01,  7.53186307e-01,  8.02535792e-01,  8.42018030e-01,\n",
      "        8.73605941e-01,  8.98877966e-01,  9.19096942e-01,  9.35273210e-01,\n",
      "        9.48215092e-01]), array([-1.69788148e+22, -1.35839636e+22, -1.08679003e+22, -8.69490383e+21,\n",
      "       -6.95638996e+21, -5.56548551e+21, -4.45268727e+21, -3.56238891e+21,\n",
      "       -2.85010242e+21, -2.28023498e+21, -1.82431043e+21, -1.45954631e+21,\n",
      "       -1.16771542e+21, -9.34235039e+20, -7.47438198e+20, -5.97990694e+20,\n",
      "       -4.78424666e+20, -3.82765423e+20, -3.06232892e+20, -2.45002758e+20,\n",
      "       -1.96015363e+20, -1.56822816e+20, -1.25466674e+20, -1.00380076e+20,\n",
      "       -8.03094511e+19, -6.42518733e+19, -5.14049489e+19, -4.11267194e+19,\n",
      "       -3.29035840e+19, -2.63246340e+19, -2.10611208e+19, -1.68500276e+19,\n",
      "       -1.34809269e+19, -1.07854654e+19, -8.62895147e+18, -6.90362454e+18,\n",
      "       -5.52327034e+18, -4.41891286e+18, -3.53536757e+18, -2.82848390e+18,\n",
      "       -2.26293900e+18, -1.81047272e+18, -1.44847539e+18, -1.15885809e+18,\n",
      "       -9.27148704e+17, -7.41768749e+17, -5.93454831e+17, -4.74795732e+17,\n",
      "       -3.79862081e+17, -3.03910063e+17, -2.43144370e+17, -1.94528552e+17,\n",
      "       -1.55633287e+17, -1.24514987e+17, -9.96186758e+16, -7.97002900e+16,\n",
      "       -6.37645117e+16, -5.10150334e+16, -4.08147661e+16, -3.26540046e+16,\n",
      "       -2.61249571e+16, -2.09013685e+16, -1.67222172e+16, -1.33786717e+16,\n",
      "       -1.07036558e+16, -8.56349938e+15, -6.85125934e+15, -5.48137537e+15,\n",
      "       -4.38539464e+15, -3.50855120e+15, -2.80702936e+15, -2.24577422e+15,\n",
      "       -1.79673997e+15, -1.43748846e+15, -1.15006796e+15, -9.20116120e+14,\n",
      "       -7.36142305e+14, -5.88953373e+14, -4.71194324e+14, -3.76980761e+14,\n",
      "       -3.01604852e+14, -2.41300077e+14, -1.93053019e+14, -1.54452782e+14,\n",
      "       -1.23570519e+14, -9.88630509e+13, -7.90957494e+13, -6.32808468e+13,\n",
      "       -5.06280755e+13, -4.05051790e+13, -3.24063183e+13, -2.59267948e+13,\n",
      "       -2.07428280e+13, -1.65953763e+13, -1.32771922e+13, -1.06224667e+13,\n",
      "       -8.49854375e+12, -6.79929135e+12, -5.43979819e+12, -4.35213066e+12,\n",
      "       -3.48193823e+12, -2.78573755e+12, -2.22873963e+12, -1.78311138e+12,\n",
      "       -1.42658486e+12, -1.14134449e+12, -9.13136880e+11, -7.30558537e+11,\n",
      "       -5.84486059e+11, -4.67620233e+11, -3.74121297e+11, -2.99317127e+11,\n",
      "       -2.39469774e+11, -1.91588678e+11, -1.53281231e+11, -1.22633215e+11,\n",
      "       -9.81131575e+10, -7.84957945e+10, -6.28008506e+10, -5.02440528e+10,\n",
      "       -4.01979402e+10, -3.21605107e+10, -2.57301355e+10, -2.05854901e+10,\n",
      "       -1.64694975e+10, -1.31764823e+10, -1.05418934e+10, -8.43408082e+09,\n",
      "       -6.74771755e+09, -5.39853638e+09, -4.31911899e+09, -3.45552712e+09,\n",
      "       -2.76460725e+09, -2.21183425e+09, -1.76958617e+09, -1.41576396e+09,\n",
      "       -1.13268719e+09, -9.06210577e+08, -7.25017123e+08, -5.80052630e+08,\n",
      "       -4.64073252e+08, -3.71283521e+08, -2.97046754e+08, -2.37653353e+08,\n",
      "       -1.90135444e+08, -1.52118565e+08, -1.21703020e+08, -9.73689511e+07,\n",
      "       -7.79003892e+07, -6.23244943e+07, -4.98629419e+07, -3.98930309e+07,\n",
      "       -3.19165667e+07, -2.55349670e+07, -2.04293446e+07, -1.63445725e+07,\n",
      "       -1.30765354e+07, -1.04619303e+07, -8.37010585e+06, -6.69653394e+06,\n",
      "       -5.35758654e+06, -4.28635672e+06, -3.42931535e+06, -2.74363623e+06,\n",
      "       -2.19505611e+06, -1.75616256e+06, -1.40502415e+06, -1.12409456e+06,\n",
      "       -8.99335813e+05, -7.19516743e+05, -5.75651831e+05, -4.60552176e+05,\n",
      "       -3.68466272e+05, -2.94792603e+05, -2.35849712e+05, -1.88692235e+05,\n",
      "       -1.50963720e+05, -1.20778883e+05, -9.66293917e+04, -7.73085022e+04,\n",
      "       -6.18507531e+04, -4.94837238e+04, -3.95894363e+04, -3.16734750e+04,\n",
      "       -2.53402808e+04, -2.02733854e+04, -1.62195970e+04, -1.29763486e+04,\n",
      "       -1.03815758e+04, -8.30561814e+03, -6.64474056e+03, -5.31594931e+03,\n",
      "       -4.25284496e+03, -3.40230439e+03, -2.72182626e+03, -2.17740722e+03,\n",
      "       -1.74184275e+03, -1.39336779e+03, -1.11456910e+03, -8.91515188e+02,\n",
      "       -7.13060076e+02, -5.70286405e+02, -4.56059800e+02, -3.64672384e+02,\n",
      "       -2.91557543e+02, -2.33061744e+02, -1.86261964e+02, -1.48819627e+02,\n",
      "       -1.18863746e+02, -9.48974334e+01, -7.57230962e+01, -6.03825969e+01,\n",
      "       -4.81093736e+01, -3.82901360e+01, -3.04342186e+01, -2.41490628e+01,\n",
      "       -1.91206007e+01, -1.50975610e+01, -1.18789132e+01, -9.30382213e+00,\n",
      "       -7.24361100e+00, -5.59533146e+00, -4.27661933e+00, -3.22157880e+00,\n",
      "       -2.37748973e+00, -1.70217315e+00, -1.16188362e+00, -7.29622986e-01,\n",
      "       -3.83791266e-01, -1.07107319e-01,  1.14254695e-01,  2.91356193e-01,\n",
      "        4.33046902e-01,  5.46407077e-01,  6.37101305e-01,  7.09661557e-01,\n",
      "        7.67713655e-01,  8.14158451e-01,  8.51316781e-01,  8.81045441e-01,\n",
      "        9.04829965e-01,  9.23858862e-01,  9.39083001e-01,  9.51263130e-01,\n",
      "        9.61007887e-01,  9.68804215e-01,  9.75041697e-01,  9.80032018e-01,\n",
      "        9.84024542e-01,  9.87218776e-01,  9.89774334e-01,  9.91818918e-01,\n",
      "        9.93454695e-01,  9.94763405e-01,  9.95810443e-01,  9.96648129e-01,\n",
      "        9.97318323e-01]), array([-2.88280153e+44, -2.30639603e+44, -1.84524067e+44, -1.47629162e+44,\n",
      "       -1.18111257e+44, -9.44953480e+43, -7.56013526e+43, -6.04851417e+43,\n",
      "       -4.83913613e+43, -3.87156876e+43, -3.09746290e+43, -2.47813665e+43,\n",
      "       -1.98264239e+43, -1.58622037e+43, -1.26906148e+43, -1.01531733e+43,\n",
      "       -8.12308382e+42, -6.49890325e+42, -5.19947158e+42, -4.15985646e+42,\n",
      "       -3.32810855e+42, -2.66266555e+42, -2.13027542e+42, -1.70433473e+42,\n",
      "       -1.36355930e+42, -1.09092066e+42, -8.72795108e+41, -6.98282954e+41,\n",
      "       -5.58663860e+41, -4.46961087e+41, -3.57592870e+41, -2.86093498e+41,\n",
      "       -2.28890161e+41, -1.83124420e+41, -1.46509369e+41, -1.17215363e+41,\n",
      "       -9.37785844e+40, -7.50279032e+40, -6.00263514e+40, -4.80243044e+40,\n",
      "       -3.84220223e+40, -3.07396811e+40, -2.45933955e+40, -1.96760370e+40,\n",
      "       -1.57418862e+40, -1.25943542e+40, -1.00761597e+40, -8.06146882e+39,\n",
      "       -6.44960794e+39, -5.16003268e+39, -4.12830323e+39, -3.30286426e+39,\n",
      "       -2.64246877e+39, -2.11411691e+39, -1.69140705e+39, -1.35321647e+39,\n",
      "       -1.08264584e+39, -8.66174806e+38, -6.92986357e+38, -5.54426297e+38,\n",
      "       -4.43570809e+38, -3.54880466e+38, -2.83923429e+38, -2.27153990e+38,\n",
      "       -1.81735389e+38, -1.45398070e+38, -1.16326264e+38, -9.30672575e+37,\n",
      "       -7.44588035e+37, -5.95710411e+37, -4.76600317e+37, -3.81305846e+37,\n",
      "       -3.05065152e+37, -2.44068503e+37, -1.95267909e+37, -1.56224812e+37,\n",
      "       -1.24988239e+37, -9.99973027e+36, -8.00032118e+36, -6.40068654e+36,\n",
      "       -5.12089294e+36, -4.09698933e+36, -3.27781146e+36, -2.62242518e+36,\n",
      "       -2.09808097e+36, -1.67857744e+36, -1.34295208e+36, -1.07443378e+36,\n",
      "       -8.59604720e+35, -6.87729935e+35, -5.50220877e+35, -4.40206248e+35,\n",
      "       -3.52188636e+35, -2.81769821e+35, -2.25430987e+35, -1.80356895e+35,\n",
      "       -1.44295201e+35, -1.15443909e+35, -9.23613262e+34, -7.38940206e+34,\n",
      "       -5.91191844e+34, -4.72985221e+34, -3.78413575e+34, -3.02751180e+34,\n",
      "       -2.42217201e+34, -1.93786768e+34, -1.55039820e+34, -1.24040181e+34,\n",
      "       -9.92388058e+33, -7.93963735e+33, -6.35213622e+33, -5.08205008e+33,\n",
      "       -4.06591296e+33, -3.25294870e+33, -2.60253363e+33, -2.08216666e+33,\n",
      "       -1.66584513e+33, -1.33276556e+33, -1.06628401e+33, -8.53084469e+32,\n",
      "       -6.82513384e+32, -5.46047357e+32, -4.36867207e+32, -3.49517224e+32,\n",
      "       -2.79632548e+32, -2.23721054e+32, -1.78988857e+32, -1.43200697e+32,\n",
      "       -1.14568247e+32, -9.16607495e+31, -7.33335216e+31, -5.86707551e+31,\n",
      "       -4.69397546e+31, -3.75543243e+31, -3.00454760e+31, -2.40379942e+31,\n",
      "       -1.92316861e+31, -1.53863816e+31, -1.23099315e+31, -9.84860622e+30,\n",
      "       -7.87941382e+30, -6.30395417e+30, -5.04350184e+30, -4.03507230e+30,\n",
      "       -3.22827452e+30, -2.58279296e+30, -2.06637306e+30, -1.65320941e+30,\n",
      "       -1.32265630e+30, -1.05819606e+30, -8.46613675e+29, -6.77336401e+29,\n",
      "       -5.41905493e+29, -4.33553493e+29, -3.46866076e+29, -2.77511486e+29,\n",
      "       -2.22024091e+29, -1.77631195e+29, -1.42114494e+29, -1.13699227e+29,\n",
      "       -9.09654868e+28, -7.27772741e+28, -5.82257273e+28, -4.65837084e+28,\n",
      "       -3.72694682e+28, -2.98175758e+28, -2.38556618e+28, -1.90858105e+28,\n",
      "       -1.52696732e+28, -1.22165585e+28, -9.77390283e+27, -7.81964710e+27,\n",
      "       -6.25613758e+27, -5.00524601e+27, -4.00446558e+27, -3.20378749e+27,\n",
      "       -2.56320203e+27, -2.05069926e+27, -1.64066953e+27, -1.31262372e+27,\n",
      "       -1.05016946e+27, -8.40191963e+26, -6.72198687e+26, -5.37795045e+26,\n",
      "       -4.30264915e+26, -3.44235036e+26, -2.75406514e+26, -2.20340000e+26,\n",
      "       -1.76283831e+26, -1.41036531e+26, -1.12836798e+26, -9.02754978e+25,\n",
      "       -7.22252459e+25, -5.77840750e+25, -4.62303629e+25, -3.69867728e+25,\n",
      "       -2.95914044e+25, -2.36747125e+25, -1.89410413e+25, -1.51538501e+25,\n",
      "       -1.21238938e+25, -9.69976608e+24, -7.76033372e+24, -6.20868369e+24,\n",
      "       -4.96728035e+24, -3.97409101e+24, -3.17948621e+24, -2.54375970e+24,\n",
      "       -2.03514435e+24, -1.62822477e+24, -1.30266724e+24, -1.04220375e+24,\n",
      "       -8.33818961e+23, -6.67099943e+23, -5.33715776e+23, -4.27001281e+23,\n",
      "       -3.41623954e+23, -2.73317507e+23, -2.18668682e+23, -1.74946688e+23,\n",
      "       -1.39966745e+23, -1.11980912e+23, -8.95907425e+22, -7.16774048e+22,\n",
      "       -5.73457728e+22, -4.58796976e+22, -3.67062217e+22, -2.93669484e+22,\n",
      "       -2.34951357e+22, -1.87973702e+22, -1.50389055e+22, -1.20319320e+22,\n",
      "       -9.62619167e+21, -7.70147024e+21, -6.16158975e+21, -4.92960266e+21,\n",
      "       -3.94394684e+21, -3.15536925e+21, -2.52446484e+21, -2.01970743e+21,\n",
      "       -1.61587440e+21, -1.29278629e+21, -1.03429845e+21, -8.27494300e+20,\n",
      "       -6.62039874e+20, -5.29667450e+20, -4.23762402e+20, -3.39032677e+20,\n",
      "       -2.71244347e+20, -2.17010043e+20, -1.73619687e+20, -1.38905073e+20,\n",
      "       -1.11131517e+20, -8.89111811e+19, -7.11337193e+19, -5.69107951e+19,\n",
      "       -4.55316921e+19, -3.64277986e+19, -2.91441950e+19, -2.33169210e+19,\n",
      "       -1.86547889e+19, -1.49248328e+19, -1.19406677e+19, -9.55317533e+18,\n",
      "       -7.64305325e+18, -6.11485302e+18, -4.89221077e+18, -3.91403132e+18,\n",
      "       -3.13143523e+18, -2.50531634e+18, -2.00438760e+18, -1.60361771e+18,\n",
      "       -1.28298028e+18, -1.02645312e+18, -8.21217612e+17, -6.57018187e+17,\n",
      "       -5.25649830e+17, -4.20548090e+17, -3.36461055e+17, -2.69186911e+17,\n",
      "       -2.15363984e+17, -1.72302752e+17, -1.37851454e+17, -1.10288565e+17,\n",
      "       -8.82367744e+16, -7.05941576e+16, -5.64791169e+16, -4.51863263e+16,\n",
      "       -3.61514875e+16, -2.89231312e+16, -2.31400581e+16, -1.85132890e+16,\n",
      "       -1.48116254e+16, -1.18500956e+16, -9.48071284e+15, -7.58507937e+15,\n",
      "       -6.06847080e+15, -4.85510250e+15, -3.88434271e+15, -3.10768275e+15,\n",
      "       -2.48631308e+15, -1.98918397e+15, -1.59145399e+15, -1.27324865e+15,\n",
      "       -1.01866729e+15, -8.14988533e+14, -6.52034590e+14, -5.21662685e+14,\n",
      "       -4.17358160e+14, -3.33908939e+14, -2.67145082e+14, -2.13730410e+14,\n",
      "       -1.70995805e+14, -1.36805826e+14, -1.09452007e+14, -8.75674831e+13,\n",
      "       -7.00586887e+13, -5.60507130e+13, -4.48435802e+13, -3.58772722e+13,\n",
      "       -2.87037443e+13, -2.29645367e+13, -1.83728625e+13, -1.46992766e+13,\n",
      "       -1.17602106e+13, -9.40879999e+12, -7.52754522e+12, -6.02244039e+12,\n",
      "       -4.81827571e+12, -3.85487930e+12, -3.08411044e+12, -2.46745396e+12,\n",
      "       -1.97409566e+12, -1.57938254e+12, -1.26359084e+12, -1.01094052e+12,\n",
      "       -8.08806704e+11, -6.47088794e+11, -5.17705783e+11, -4.14192426e+11,\n",
      "       -3.31376182e+11, -2.65118740e+11, -2.12109228e+11, -1.69698772e+11,\n",
      "       -1.35768130e+11, -1.08621795e+11, -8.69032686e+10, -6.95272814e+10,\n",
      "       -5.56255586e+10, -4.45034338e+10, -3.56051368e+10, -2.84860214e+10,\n",
      "       -2.27903467e+10, -1.82335012e+10, -1.45877800e+10, -1.16710074e+10,\n",
      "       -9.33743261e+09, -7.47044748e+09, -5.97675914e+09, -4.78172825e+09,\n",
      "       -3.82563937e+09, -3.06071692e+09, -2.44873789e+09, -1.95912181e+09,\n",
      "       -1.56740264e+09, -1.25400628e+09, -1.00327236e+09, -8.02671764e+08,\n",
      "       -6.42180513e+08, -5.13778894e+08, -4.11050704e+08, -3.28862635e+08,\n",
      "       -2.63107767e+08, -2.10500342e+08, -1.68411577e+08, -1.34738305e+08,\n",
      "       -1.07797879e+08, -8.62440912e+07, -6.89999039e+07, -5.52036281e+07,\n",
      "       -4.41658666e+07, -3.53350647e+07, -2.82699490e+07, -2.26174770e+07,\n",
      "       -1.80951959e+07, -1.44771282e+07, -1.15824798e+07, -9.26660556e+06,\n",
      "       -7.41378184e+06, -5.93142338e+06, -4.74545701e+06, -3.79662023e+06,\n",
      "       -3.03749985e+06, -2.43016279e+06, -1.94426053e+06, -1.55551262e+06,\n",
      "       -1.24449343e+06, -9.95661369e+05, -7.96582360e+05, -6.37308463e+05,\n",
      "       -5.09880792e+05, -4.07931814e+05, -3.26367156e+05, -2.61111050e+05,\n",
      "       -2.08902661e+05, -1.67133147e+05, -1.33715292e+05, -1.06979214e+05,\n",
      "       -8.55889158e+04, -6.84755286e+04, -5.47838999e+04, -4.38298618e+04,\n",
      "       -3.50660431e+04, -2.80545175e+04, -2.24449205e+04, -1.79569417e+04,\n",
      "       -1.43663177e+04, -1.14936256e+04, -9.19531774e+03, -7.35654801e+03,\n",
      "       -5.88543350e+03, -4.70846289e+03, -3.76682320e+03, -3.01346088e+03,\n",
      "       -2.41073058e+03, -1.92851397e+03, -1.54271478e+03, -1.23405472e+03,\n",
      "       -9.87110097e+02, -7.89541137e+02, -6.31475360e+02, -5.05014251e+02,\n",
      "       -4.03838572e+02, -3.22892597e+02, -2.58131470e+02, -2.06319091e+02,\n",
      "       -1.64866405e+02, -1.31702031e+02, -1.05168750e+02, -8.39407014e+01,\n",
      "       -6.69571223e+01, -5.33693470e+01, -4.24983971e+01, -3.38010534e+01,\n",
      "       -2.68427115e+01, -2.12756643e+01, -1.68217276e+01, -1.32583391e+01,\n",
      "       -1.04074369e+01, -8.12656207e+00, -6.30173974e+00, -4.84178388e+00,\n",
      "       -3.67374079e+00, -2.73924360e+00, -1.99159567e+00, -1.39343718e+00,\n",
      "       -9.14878267e-01, -5.32005439e-01, -2.25686617e-01,  1.93848899e-02,\n",
      "        2.15455255e-01,  3.72322076e-01,  4.97823955e-01,  5.98232199e-01,\n",
      "        6.78564185e-01,  7.42834087e-01,  7.94253461e-01,  8.35391720e-01,\n",
      "        8.68304537e-01,  8.94636558e-01,  9.15703589e-01,  9.32558344e-01,\n",
      "        9.46043054e-01,  9.56831546e-01,  9.65462919e-01,  9.72368480e-01,\n",
      "        9.77893300e-01,  9.82313453e-01,  9.85849813e-01,  9.88679090e-01,\n",
      "        9.90942664e-01,  9.92753645e-01,  9.94202527e-01,  9.95361710e-01,\n",
      "        9.96289119e-01,  9.97031096e-01,  9.97624717e-01,  9.98099646e-01,\n",
      "        9.98479615e-01,  9.98783610e-01,  9.99026823e-01,  9.99221406e-01,\n",
      "        9.99377083e-01,  9.99501633e-01,  9.99601280e-01,  9.99681002e-01,\n",
      "        9.99744785e-01,  9.99795814e-01,  9.99836640e-01,  9.99869303e-01,\n",
      "        9.99895436e-01,  9.99916343e-01,  9.99933070e-01,  9.99946452e-01,\n",
      "        9.99957159e-01,  9.99965725e-01,  9.99972578e-01,  9.99978061e-01,\n",
      "        9.99982448e-01,  9.99985957e-01,  9.99988765e-01,  9.99991011e-01,\n",
      "        9.99992809e-01]), array([-8.31054467e+88, -6.64888200e+88, -5.31946263e+88, ...,\n",
      "        1.00000000e+00,  1.00000000e+00,  1.00000000e+00])]\n"
     ]
    },
    {
     "ename": "ValueError",
     "evalue": "setting an array element with a sequence.",
     "output_type": "error",
     "traceback": [
      "\u001b[0;31m---------------------------------------------------------------------------\u001b[0m",
      "\u001b[0;31mValueError\u001b[0m                                Traceback (most recent call last)",
      "\u001b[0;32m<ipython-input-45-75e240152053>\u001b[0m in \u001b[0;36m<module>\u001b[0;34m()\u001b[0m\n\u001b[1;32m     21\u001b[0m \u001b[0mprint\u001b[0m\u001b[0;34m(\u001b[0m\u001b[0mpanel_counts\u001b[0m\u001b[0;34m)\u001b[0m\u001b[0;34m\u001b[0m\u001b[0m\n\u001b[1;32m     22\u001b[0m \u001b[0mprint\u001b[0m\u001b[0;34m(\u001b[0m\u001b[0meulerfracterr\u001b[0m\u001b[0;34m)\u001b[0m\u001b[0;34m\u001b[0m\u001b[0m\n\u001b[0;32m---> 23\u001b[0;31m \u001b[0mplt\u001b[0m\u001b[0;34m.\u001b[0m\u001b[0mplot\u001b[0m\u001b[0;34m(\u001b[0m\u001b[0mpanel_counts\u001b[0m\u001b[0;34m,\u001b[0m \u001b[0meulerfracterr\u001b[0m\u001b[0;34m,\u001b[0m\u001b[0mlabel\u001b[0m\u001b[0;34m=\u001b[0m\u001b[0;34m'Euler error'\u001b[0m\u001b[0;34m)\u001b[0m\u001b[0;34m\u001b[0m\u001b[0m\n\u001b[0m\u001b[1;32m     24\u001b[0m \u001b[0mplt\u001b[0m\u001b[0;34m.\u001b[0m\u001b[0mplot\u001b[0m\u001b[0;34m(\u001b[0m\u001b[0mpanel_counts\u001b[0m\u001b[0;34m,\u001b[0m \u001b[0mrk4fracterr\u001b[0m\u001b[0;34m,\u001b[0m\u001b[0mlabel\u001b[0m\u001b[0;34m=\u001b[0m\u001b[0;34m'RK4 error'\u001b[0m\u001b[0;34m)\u001b[0m\u001b[0;34m\u001b[0m\u001b[0m\n\u001b[1;32m     25\u001b[0m \u001b[0mplt\u001b[0m\u001b[0;34m.\u001b[0m\u001b[0mtitle\u001b[0m\u001b[0;34m(\u001b[0m\u001b[0;34m\"Error\"\u001b[0m\u001b[0;34m)\u001b[0m\u001b[0;34m\u001b[0m\u001b[0m\n",
      "\u001b[0;32m/opt/conda/lib/python3.6/site-packages/matplotlib/pyplot.py\u001b[0m in \u001b[0;36mplot\u001b[0;34m(*args, **kwargs)\u001b[0m\n\u001b[1;32m   3361\u001b[0m                       mplDeprecation)\n\u001b[1;32m   3362\u001b[0m     \u001b[0;32mtry\u001b[0m\u001b[0;34m:\u001b[0m\u001b[0;34m\u001b[0m\u001b[0m\n\u001b[0;32m-> 3363\u001b[0;31m         \u001b[0mret\u001b[0m \u001b[0;34m=\u001b[0m \u001b[0max\u001b[0m\u001b[0;34m.\u001b[0m\u001b[0mplot\u001b[0m\u001b[0;34m(\u001b[0m\u001b[0;34m*\u001b[0m\u001b[0margs\u001b[0m\u001b[0;34m,\u001b[0m \u001b[0;34m**\u001b[0m\u001b[0mkwargs\u001b[0m\u001b[0;34m)\u001b[0m\u001b[0;34m\u001b[0m\u001b[0m\n\u001b[0m\u001b[1;32m   3364\u001b[0m     \u001b[0;32mfinally\u001b[0m\u001b[0;34m:\u001b[0m\u001b[0;34m\u001b[0m\u001b[0m\n\u001b[1;32m   3365\u001b[0m         \u001b[0max\u001b[0m\u001b[0;34m.\u001b[0m\u001b[0m_hold\u001b[0m \u001b[0;34m=\u001b[0m \u001b[0mwashold\u001b[0m\u001b[0;34m\u001b[0m\u001b[0m\n",
      "\u001b[0;32m/opt/conda/lib/python3.6/site-packages/matplotlib/__init__.py\u001b[0m in \u001b[0;36minner\u001b[0;34m(ax, *args, **kwargs)\u001b[0m\n\u001b[1;32m   1865\u001b[0m                         \u001b[0;34m\"the Matplotlib list!)\"\u001b[0m \u001b[0;34m%\u001b[0m \u001b[0;34m(\u001b[0m\u001b[0mlabel_namer\u001b[0m\u001b[0;34m,\u001b[0m \u001b[0mfunc\u001b[0m\u001b[0;34m.\u001b[0m\u001b[0m__name__\u001b[0m\u001b[0;34m)\u001b[0m\u001b[0;34m,\u001b[0m\u001b[0;34m\u001b[0m\u001b[0m\n\u001b[1;32m   1866\u001b[0m                         RuntimeWarning, stacklevel=2)\n\u001b[0;32m-> 1867\u001b[0;31m             \u001b[0;32mreturn\u001b[0m \u001b[0mfunc\u001b[0m\u001b[0;34m(\u001b[0m\u001b[0max\u001b[0m\u001b[0;34m,\u001b[0m \u001b[0;34m*\u001b[0m\u001b[0margs\u001b[0m\u001b[0;34m,\u001b[0m \u001b[0;34m**\u001b[0m\u001b[0mkwargs\u001b[0m\u001b[0;34m)\u001b[0m\u001b[0;34m\u001b[0m\u001b[0m\n\u001b[0m\u001b[1;32m   1868\u001b[0m \u001b[0;34m\u001b[0m\u001b[0m\n\u001b[1;32m   1869\u001b[0m         inner.__doc__ = _add_data_doc(inner.__doc__,\n",
      "\u001b[0;32m/opt/conda/lib/python3.6/site-packages/matplotlib/axes/_axes.py\u001b[0m in \u001b[0;36mplot\u001b[0;34m(self, *args, **kwargs)\u001b[0m\n\u001b[1;32m   1527\u001b[0m \u001b[0;34m\u001b[0m\u001b[0m\n\u001b[1;32m   1528\u001b[0m         \u001b[0;32mfor\u001b[0m \u001b[0mline\u001b[0m \u001b[0;32min\u001b[0m \u001b[0mself\u001b[0m\u001b[0;34m.\u001b[0m\u001b[0m_get_lines\u001b[0m\u001b[0;34m(\u001b[0m\u001b[0;34m*\u001b[0m\u001b[0margs\u001b[0m\u001b[0;34m,\u001b[0m \u001b[0;34m**\u001b[0m\u001b[0mkwargs\u001b[0m\u001b[0;34m)\u001b[0m\u001b[0;34m:\u001b[0m\u001b[0;34m\u001b[0m\u001b[0m\n\u001b[0;32m-> 1529\u001b[0;31m             \u001b[0mself\u001b[0m\u001b[0;34m.\u001b[0m\u001b[0madd_line\u001b[0m\u001b[0;34m(\u001b[0m\u001b[0mline\u001b[0m\u001b[0;34m)\u001b[0m\u001b[0;34m\u001b[0m\u001b[0m\n\u001b[0m\u001b[1;32m   1530\u001b[0m             \u001b[0mlines\u001b[0m\u001b[0;34m.\u001b[0m\u001b[0mappend\u001b[0m\u001b[0;34m(\u001b[0m\u001b[0mline\u001b[0m\u001b[0;34m)\u001b[0m\u001b[0;34m\u001b[0m\u001b[0m\n\u001b[1;32m   1531\u001b[0m \u001b[0;34m\u001b[0m\u001b[0m\n",
      "\u001b[0;32m/opt/conda/lib/python3.6/site-packages/matplotlib/axes/_base.py\u001b[0m in \u001b[0;36madd_line\u001b[0;34m(self, line)\u001b[0m\n\u001b[1;32m   1958\u001b[0m             \u001b[0mline\u001b[0m\u001b[0;34m.\u001b[0m\u001b[0mset_clip_path\u001b[0m\u001b[0;34m(\u001b[0m\u001b[0mself\u001b[0m\u001b[0;34m.\u001b[0m\u001b[0mpatch\u001b[0m\u001b[0;34m)\u001b[0m\u001b[0;34m\u001b[0m\u001b[0m\n\u001b[1;32m   1959\u001b[0m \u001b[0;34m\u001b[0m\u001b[0m\n\u001b[0;32m-> 1960\u001b[0;31m         \u001b[0mself\u001b[0m\u001b[0;34m.\u001b[0m\u001b[0m_update_line_limits\u001b[0m\u001b[0;34m(\u001b[0m\u001b[0mline\u001b[0m\u001b[0;34m)\u001b[0m\u001b[0;34m\u001b[0m\u001b[0m\n\u001b[0m\u001b[1;32m   1961\u001b[0m         \u001b[0;32mif\u001b[0m \u001b[0;32mnot\u001b[0m \u001b[0mline\u001b[0m\u001b[0;34m.\u001b[0m\u001b[0mget_label\u001b[0m\u001b[0;34m(\u001b[0m\u001b[0;34m)\u001b[0m\u001b[0;34m:\u001b[0m\u001b[0;34m\u001b[0m\u001b[0m\n\u001b[1;32m   1962\u001b[0m             \u001b[0mline\u001b[0m\u001b[0;34m.\u001b[0m\u001b[0mset_label\u001b[0m\u001b[0;34m(\u001b[0m\u001b[0;34m'_line%d'\u001b[0m \u001b[0;34m%\u001b[0m \u001b[0mlen\u001b[0m\u001b[0;34m(\u001b[0m\u001b[0mself\u001b[0m\u001b[0;34m.\u001b[0m\u001b[0mlines\u001b[0m\u001b[0;34m)\u001b[0m\u001b[0;34m)\u001b[0m\u001b[0;34m\u001b[0m\u001b[0m\n",
      "\u001b[0;32m/opt/conda/lib/python3.6/site-packages/matplotlib/axes/_base.py\u001b[0m in \u001b[0;36m_update_line_limits\u001b[0;34m(self, line)\u001b[0m\n\u001b[1;32m   1980\u001b[0m         \u001b[0mFigures\u001b[0m \u001b[0mout\u001b[0m \u001b[0mthe\u001b[0m \u001b[0mdata\u001b[0m \u001b[0mlimit\u001b[0m \u001b[0mof\u001b[0m \u001b[0mthe\u001b[0m \u001b[0mgiven\u001b[0m \u001b[0mline\u001b[0m\u001b[0;34m,\u001b[0m \u001b[0mupdating\u001b[0m \u001b[0mself\u001b[0m\u001b[0;34m.\u001b[0m\u001b[0mdataLim\u001b[0m\u001b[0;34m.\u001b[0m\u001b[0;34m\u001b[0m\u001b[0m\n\u001b[1;32m   1981\u001b[0m         \"\"\"\n\u001b[0;32m-> 1982\u001b[0;31m         \u001b[0mpath\u001b[0m \u001b[0;34m=\u001b[0m \u001b[0mline\u001b[0m\u001b[0;34m.\u001b[0m\u001b[0mget_path\u001b[0m\u001b[0;34m(\u001b[0m\u001b[0;34m)\u001b[0m\u001b[0;34m\u001b[0m\u001b[0m\n\u001b[0m\u001b[1;32m   1983\u001b[0m         \u001b[0;32mif\u001b[0m \u001b[0mpath\u001b[0m\u001b[0;34m.\u001b[0m\u001b[0mvertices\u001b[0m\u001b[0;34m.\u001b[0m\u001b[0msize\u001b[0m \u001b[0;34m==\u001b[0m \u001b[0;36m0\u001b[0m\u001b[0;34m:\u001b[0m\u001b[0;34m\u001b[0m\u001b[0m\n\u001b[1;32m   1984\u001b[0m             \u001b[0;32mreturn\u001b[0m\u001b[0;34m\u001b[0m\u001b[0m\n",
      "\u001b[0;32m/opt/conda/lib/python3.6/site-packages/matplotlib/lines.py\u001b[0m in \u001b[0;36mget_path\u001b[0;34m(self)\u001b[0m\n\u001b[1;32m    954\u001b[0m         \"\"\"\n\u001b[1;32m    955\u001b[0m         \u001b[0;32mif\u001b[0m \u001b[0mself\u001b[0m\u001b[0;34m.\u001b[0m\u001b[0m_invalidy\u001b[0m \u001b[0;32mor\u001b[0m \u001b[0mself\u001b[0m\u001b[0;34m.\u001b[0m\u001b[0m_invalidx\u001b[0m\u001b[0;34m:\u001b[0m\u001b[0;34m\u001b[0m\u001b[0m\n\u001b[0;32m--> 956\u001b[0;31m             \u001b[0mself\u001b[0m\u001b[0;34m.\u001b[0m\u001b[0mrecache\u001b[0m\u001b[0;34m(\u001b[0m\u001b[0;34m)\u001b[0m\u001b[0;34m\u001b[0m\u001b[0m\n\u001b[0m\u001b[1;32m    957\u001b[0m         \u001b[0;32mreturn\u001b[0m \u001b[0mself\u001b[0m\u001b[0;34m.\u001b[0m\u001b[0m_path\u001b[0m\u001b[0;34m\u001b[0m\u001b[0m\n\u001b[1;32m    958\u001b[0m \u001b[0;34m\u001b[0m\u001b[0m\n",
      "\u001b[0;32m/opt/conda/lib/python3.6/site-packages/matplotlib/lines.py\u001b[0m in \u001b[0;36mrecache\u001b[0;34m(self, always)\u001b[0m\n\u001b[1;32m    655\u001b[0m         \u001b[0;32mif\u001b[0m \u001b[0malways\u001b[0m \u001b[0;32mor\u001b[0m \u001b[0mself\u001b[0m\u001b[0;34m.\u001b[0m\u001b[0m_invalidy\u001b[0m\u001b[0;34m:\u001b[0m\u001b[0;34m\u001b[0m\u001b[0m\n\u001b[1;32m    656\u001b[0m             \u001b[0myconv\u001b[0m \u001b[0;34m=\u001b[0m \u001b[0mself\u001b[0m\u001b[0;34m.\u001b[0m\u001b[0mconvert_yunits\u001b[0m\u001b[0;34m(\u001b[0m\u001b[0mself\u001b[0m\u001b[0;34m.\u001b[0m\u001b[0m_yorig\u001b[0m\u001b[0;34m)\u001b[0m\u001b[0;34m\u001b[0m\u001b[0m\n\u001b[0;32m--> 657\u001b[0;31m             \u001b[0my\u001b[0m \u001b[0;34m=\u001b[0m \u001b[0m_to_unmasked_float_array\u001b[0m\u001b[0;34m(\u001b[0m\u001b[0myconv\u001b[0m\u001b[0;34m)\u001b[0m\u001b[0;34m.\u001b[0m\u001b[0mravel\u001b[0m\u001b[0;34m(\u001b[0m\u001b[0;34m)\u001b[0m\u001b[0;34m\u001b[0m\u001b[0m\n\u001b[0m\u001b[1;32m    658\u001b[0m         \u001b[0;32melse\u001b[0m\u001b[0;34m:\u001b[0m\u001b[0;34m\u001b[0m\u001b[0m\n\u001b[1;32m    659\u001b[0m             \u001b[0my\u001b[0m \u001b[0;34m=\u001b[0m \u001b[0mself\u001b[0m\u001b[0;34m.\u001b[0m\u001b[0m_y\u001b[0m\u001b[0;34m\u001b[0m\u001b[0m\n",
      "\u001b[0;32m/opt/conda/lib/python3.6/site-packages/matplotlib/cbook/__init__.py\u001b[0m in \u001b[0;36m_to_unmasked_float_array\u001b[0;34m(x)\u001b[0m\n\u001b[1;32m   2050\u001b[0m         \u001b[0;32mreturn\u001b[0m \u001b[0mnp\u001b[0m\u001b[0;34m.\u001b[0m\u001b[0mma\u001b[0m\u001b[0;34m.\u001b[0m\u001b[0masarray\u001b[0m\u001b[0;34m(\u001b[0m\u001b[0mx\u001b[0m\u001b[0;34m,\u001b[0m \u001b[0mfloat\u001b[0m\u001b[0;34m)\u001b[0m\u001b[0;34m.\u001b[0m\u001b[0mfilled\u001b[0m\u001b[0;34m(\u001b[0m\u001b[0mnp\u001b[0m\u001b[0;34m.\u001b[0m\u001b[0mnan\u001b[0m\u001b[0;34m)\u001b[0m\u001b[0;34m\u001b[0m\u001b[0m\n\u001b[1;32m   2051\u001b[0m     \u001b[0;32melse\u001b[0m\u001b[0;34m:\u001b[0m\u001b[0;34m\u001b[0m\u001b[0m\n\u001b[0;32m-> 2052\u001b[0;31m         \u001b[0;32mreturn\u001b[0m \u001b[0mnp\u001b[0m\u001b[0;34m.\u001b[0m\u001b[0masarray\u001b[0m\u001b[0;34m(\u001b[0m\u001b[0mx\u001b[0m\u001b[0;34m,\u001b[0m \u001b[0mfloat\u001b[0m\u001b[0;34m)\u001b[0m\u001b[0;34m\u001b[0m\u001b[0m\n\u001b[0m\u001b[1;32m   2053\u001b[0m \u001b[0;34m\u001b[0m\u001b[0m\n\u001b[1;32m   2054\u001b[0m \u001b[0;34m\u001b[0m\u001b[0m\n",
      "\u001b[0;32m/opt/conda/lib/python3.6/site-packages/numpy/core/numeric.py\u001b[0m in \u001b[0;36masarray\u001b[0;34m(a, dtype, order)\u001b[0m\n\u001b[1;32m    499\u001b[0m \u001b[0;34m\u001b[0m\u001b[0m\n\u001b[1;32m    500\u001b[0m     \"\"\"\n\u001b[0;32m--> 501\u001b[0;31m     \u001b[0;32mreturn\u001b[0m \u001b[0marray\u001b[0m\u001b[0;34m(\u001b[0m\u001b[0ma\u001b[0m\u001b[0;34m,\u001b[0m \u001b[0mdtype\u001b[0m\u001b[0;34m,\u001b[0m \u001b[0mcopy\u001b[0m\u001b[0;34m=\u001b[0m\u001b[0;32mFalse\u001b[0m\u001b[0;34m,\u001b[0m \u001b[0morder\u001b[0m\u001b[0;34m=\u001b[0m\u001b[0morder\u001b[0m\u001b[0;34m)\u001b[0m\u001b[0;34m\u001b[0m\u001b[0m\n\u001b[0m\u001b[1;32m    502\u001b[0m \u001b[0;34m\u001b[0m\u001b[0m\n\u001b[1;32m    503\u001b[0m \u001b[0;34m\u001b[0m\u001b[0m\n",
      "\u001b[0;31mValueError\u001b[0m: setting an array element with a sequence."
     ]
    },
    {
     "data": {
      "image/png": "[encoded data removed]",
      "text/plain": [
       "<Figure size 648x1512 with 1 Axes>"
      ]
     },
     "metadata": {},
     "output_type": "display_data"
    }
   ],
   "source": [
    "rk4val = solve_RK4(f_rad, 1000, 0, 6, 20)\n",
    "eulerval = solve_euler(f_rad, 1000, 0, 6, 20)\n",
    "analyticval = [0,0,0,0,0,0,0,0,0]\n",
    "rk4fracterr  = [0,0,0,0,0,0,0,0,0]\n",
    "eulerfracterr  = [0,0,0,0,0,0,0,0,0]\n",
    "\n",
    "x0, x1 = 0, 2  # Bounds to integrate f(x) over\n",
    "panel_counts = [4, 8, 16, 32, 64, 128, 256, 512, 1024]  # Panel numbers to use\n",
    "result_analytic = [0,0,0,0,0,0,0,0,0] # Define reference value from analytical solution 1000 N0 after 120 seconds\n",
    "result_numericrk4 = [0,0,0,0,0,0,0,0,0]\n",
    "result_numericeuler = [0,0,0,0,0,0,0,0,0]\n",
    "for i in range (0,9):\n",
    "    result_numericrk4[i]=solve_RK4(f_rad, 1000, 0, 6, panel_counts[i])\n",
    "    result_numericeuler[i]=solve_euler(f_rad, 1000, 0, 6, panel_counts[i])\n",
    "    result_analytic[i] = analytic(1000, panel_counts[i]*6)\n",
    "    rk4fracterr[i] = (result_analytic[i]-result_numericrk4[i])/result_analytic[i]\n",
    "    eulerfracterr[i] = (result_analytic[i]-result_numericeuler[i])/result_analytic[i]\n",
    "plt.figure(figsize=(9, 21))\n",
    "plt.xlabel(\"Time\")\n",
    "plt.ylabel(\"Error\")\n",
    "print(panel_counts)\n",
    "print(eulerfracterr)\n",
    "plt.plot(panel_counts, eulerfracterr,label='Euler error')\n",
    "plt.plot(panel_counts, rk4fracterr,label='RK4 error')\n",
    "plt.title(\"Error\")"
   ]
  },
  {
   "cell_type": "code",
   "execution_count": null,
   "metadata": {},
   "outputs": [],
   "source": []
  }
 ],
 "metadata": {
  "kernelspec": {
   "display_name": "Python 3",
   "language": "python",
   "name": "python3"
  },
  "language_info": {
   "codemirror_mode": {
    "name": "ipython",
    "version": 3
   },
   "file_extension": ".py",
   "mimetype": "text/x-python",
   "name": "python",
   "nbconvert_exporter": "python",
   "pygments_lexer": "ipython3",
   "version": "3.6.3"
  },
  "toc": {
   "base_numbering": 1,
   "nav_menu": {},
   "number_sections": false,
   "sideBar": true,
   "skip_h1_title": false,
   "title_cell": "Table of Contents",
   "title_sidebar": "Contents",
   "toc_cell": false,
   "toc_position": {},
   "toc_section_display": true,
   "toc_window_display": false
  }
 },
 "nbformat": 4,
 "nbformat_minor": 2
}
