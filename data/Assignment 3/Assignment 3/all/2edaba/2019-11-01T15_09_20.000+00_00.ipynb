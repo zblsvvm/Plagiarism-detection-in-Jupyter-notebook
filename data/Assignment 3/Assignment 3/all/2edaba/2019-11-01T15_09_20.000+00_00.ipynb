{
 "cells": [
  {
   "cell_type": "markdown",
   "metadata": {
    "deletable": false,
    "editable": false,
    "nbgrader": {
     "cell_type": "markdown",
     "checksum": "9e255c2f6a00086caac01bd9f93ae0fd",
     "grade": false,
     "grade_id": "cell-653a2d7b8720a14f",
     "locked": true,
     "schema_version": 3,
     "solution": false
    }
   },
   "source": [
    "# <center>L2 Computational Physics</center>\n",
    "\n",
    "## <center>Week 3: Differential Equations I</center>"
   ]
  },
  {
   "cell_type": "code",
   "execution_count": 1,
   "metadata": {
    "deletable": false,
    "editable": false,
    "nbgrader": {
     "cell_type": "code",
     "checksum": "96aa70f20e306039b1ae0aad9e021a86",
     "grade": false,
     "grade_id": "imports",
     "locked": true,
     "schema_version": 3,
     "solution": false
    }
   },
   "outputs": [],
   "source": [
    "# usual packages to import\n",
    "import numpy \n",
    "import matplotlib.pyplot as plt\n",
    "%matplotlib inline"
   ]
  },
  {
   "cell_type": "markdown",
   "metadata": {
    "deletable": false,
    "editable": false,
    "nbgrader": {
     "cell_type": "markdown",
     "checksum": "b26b91b158cd26a964af9866fcae4f62",
     "grade": false,
     "grade_id": "introduction",
     "locked": true,
     "schema_version": 3,
     "solution": false
    }
   },
   "source": [
    "In this notebook, you will generate and plot the decay curve for Iodine-133 analytically and numerically. $^{133}\\textrm{I}$ has a half life $t_{1/2}$ of 20.8 hours. This means that half of the nuclei will have decayed after time $t_{1/2}$. Derive the mean lifetime $\\tau$ from that information."
   ]
  },
  {
   "cell_type": "code",
   "execution_count": 2,
   "metadata": {
    "deletable": false,
    "nbgrader": {
     "cell_type": "code",
     "checksum": "1f32203e67620dad43f0e3253b2b80d0",
     "grade": false,
     "grade_id": "constants",
     "locked": false,
     "schema_version": 3,
     "solution": true
    }
   },
   "outputs": [],
   "source": [
    "# define a function to calculate the mean lifetime from the half life\n",
    "def meanLifetime(halfLife):\n",
    "    return halfLife/numpy.log(2);\n",
    "\n",
    "T_HALF = 20.8\n",
    "TAU = meanLifetime(T_HALF)"
   ]
  },
  {
   "cell_type": "markdown",
   "metadata": {
    "deletable": false,
    "editable": false,
    "nbgrader": {
     "cell_type": "markdown",
     "checksum": "474783dac86dd74a9510b7a6dccccb55",
     "grade": false,
     "grade_id": "cell-7ed602ac8b4a8623",
     "locked": true,
     "schema_version": 3,
     "solution": false
    }
   },
   "source": [
    "Check your average lifetime:"
   ]
  },
  {
   "cell_type": "code",
   "execution_count": 3,
   "metadata": {
    "deletable": false,
    "editable": false,
    "nbgrader": {
     "cell_type": "code",
     "checksum": "5b581ceaabfd40522833ba0df84148e3",
     "grade": true,
     "grade_id": "constants_check",
     "locked": true,
     "points": 1,
     "schema_version": 3,
     "solution": false
    }
   },
   "outputs": [],
   "source": [
    "# this test is worth 1 mark\n",
    "assert numpy.isclose(TAU, 30.0080568505)         "
   ]
  },
  {
   "cell_type": "markdown",
   "metadata": {
    "deletable": false,
    "editable": false,
    "nbgrader": {
     "cell_type": "markdown",
     "checksum": "6b5e2bcf6c6e49eda2f081cccb315844",
     "grade": false,
     "grade_id": "cell-864b8c95035f9b93",
     "locked": true,
     "schema_version": 3,
     "solution": false
    }
   },
   "source": [
    "### The Decay Equation"
   ]
  },
  {
   "cell_type": "markdown",
   "metadata": {
    "deletable": false,
    "editable": false,
    "nbgrader": {
     "cell_type": "markdown",
     "checksum": "b6c5672c9f405cb9a80f72ab719fc145",
     "grade": false,
     "grade_id": "decay_introduction",
     "locked": true,
     "schema_version": 3,
     "solution": false
    }
   },
   "source": [
    "Implement the function `f_rad` such that the differential equation \n",
    "\n",
    "$$ \\frac{dN}{dt} = f_{rad}(N,t)$$\n",
    "\n",
    "describes the radioactive decay process.\n",
    "\n",
    "- *Your function should return values using hours as the time unit.*\n",
    "- *The function should use the constant* `TAU`."
   ]
  },
  {
   "cell_type": "code",
   "execution_count": 4,
   "metadata": {
    "deletable": false,
    "nbgrader": {
     "cell_type": "code",
     "checksum": "457d82a875c5d8e48187fa31401c9e97",
     "grade": false,
     "grade_id": "decay_function",
     "locked": false,
     "schema_version": 3,
     "solution": true
    }
   },
   "outputs": [],
   "source": [
    "def f_rad(N, t):\n",
    "    return -(N/TAU);"
   ]
  },
  {
   "cell_type": "markdown",
   "metadata": {
    "deletable": false,
    "editable": false,
    "nbgrader": {
     "cell_type": "markdown",
     "checksum": "1b781e9bfdf185906da10a3fce5afc03",
     "grade": false,
     "grade_id": "cell-d59ccbc070af010b",
     "locked": true,
     "schema_version": 3,
     "solution": false
    }
   },
   "source": [
    "Make sure your function works:"
   ]
  },
  {
   "cell_type": "code",
   "execution_count": 5,
   "metadata": {
    "deletable": false,
    "editable": false,
    "nbgrader": {
     "cell_type": "code",
     "checksum": "87996117de466ae5951d10c9cba1f259",
     "grade": true,
     "grade_id": "decay_test",
     "locked": true,
     "points": 1,
     "schema_version": 3,
     "solution": false
    }
   },
   "outputs": [],
   "source": [
    "# this test cell is worth 1 mark\n",
    "assert numpy.isclose(f_rad(1000, 0), -33.324383681)           "
   ]
  },
  {
   "cell_type": "markdown",
   "metadata": {
    "deletable": false,
    "editable": false,
    "nbgrader": {
     "cell_type": "markdown",
     "checksum": "007a2d2688cd376a73cc4c6d0e0baff1",
     "grade": false,
     "grade_id": "analytic_introduction",
     "locked": true,
     "schema_version": 3,
     "solution": false
    }
   },
   "source": [
    "Solve this first order, ordinary differential equation analytically. Implement this function below, naming it `analytic`. The function should take an initial number of atoms `N0` at time `t=0`, and a time argument. The function should return nuclei count at the time argument. Make sure the function also works for numpy arrays."
   ]
  },
  {
   "cell_type": "code",
   "execution_count": 6,
   "metadata": {
    "deletable": false,
    "nbgrader": {
     "cell_type": "code",
     "checksum": "d5f8a683edd2825602878f6dee9d6c21",
     "grade": false,
     "grade_id": "analytic_function",
     "locked": false,
     "schema_version": 3,
     "solution": true
    }
   },
   "outputs": [],
   "source": [
    "def analytic(N0, t):\n",
    "    return N0 * numpy.exp(-t/TAU);"
   ]
  },
  {
   "cell_type": "markdown",
   "metadata": {
    "deletable": false,
    "editable": false,
    "nbgrader": {
     "cell_type": "markdown",
     "checksum": "9a4d0cc32dcf367bc150dd45d10d4285",
     "grade": false,
     "grade_id": "cell-18ca8dc7e04d23a3",
     "locked": true,
     "schema_version": 3,
     "solution": false
    }
   },
   "source": [
    "Check your answer for a single time:"
   ]
  },
  {
   "cell_type": "code",
   "execution_count": 7,
   "metadata": {
    "deletable": false,
    "editable": false,
    "nbgrader": {
     "cell_type": "code",
     "checksum": "ab62ed3d3535e88940e063c1c4a12d84",
     "grade": true,
     "grade_id": "analytic_test",
     "locked": true,
     "points": 1,
     "schema_version": 3,
     "solution": false
    }
   },
   "outputs": [],
   "source": [
    "# this test is worth 1 mark\n",
    "assert numpy.isclose(analytic(1000, 41.6), 250.0)           "
   ]
  },
  {
   "cell_type": "code",
   "execution_count": 8,
   "metadata": {
    "deletable": false,
    "editable": false,
    "nbgrader": {
     "cell_type": "code",
     "checksum": "bafe495357c897607c0ddf170f01b6cd",
     "grade": true,
     "grade_id": "analytic_test_array",
     "locked": true,
     "points": 2,
     "schema_version": 3,
     "solution": false
    }
   },
   "outputs": [],
   "source": [
    "# this test is worth 1 mark\n",
    "assert numpy.isclose(analytic(1000, numpy.arange(0, 60, 6)), \n",
    "                     [1000.        ,  818.77471839,  670.39203948,  548.90005334,\n",
    "                       449.4254866 ,  367.97822623,  301.29126855,  246.68967356,\n",
    "                       201.983268  ,  165.37879338]).all()\n"
   ]
  },
  {
   "cell_type": "markdown",
   "metadata": {
    "deletable": false,
    "editable": false,
    "nbgrader": {
     "cell_type": "markdown",
     "checksum": "307e9faa76135ad8d47eab7472b50e0a",
     "grade": false,
     "grade_id": "cell-e43cb07c20fa5758",
     "locked": true,
     "schema_version": 3,
     "solution": false
    }
   },
   "source": [
    "## Numerically Solving the ODE"
   ]
  },
  {
   "cell_type": "markdown",
   "metadata": {
    "deletable": false,
    "editable": false,
    "nbgrader": {
     "cell_type": "markdown",
     "checksum": "60f79d9c7fa0d2d94bc79706ab1ae03d",
     "grade": false,
     "grade_id": "cell-1cd6e2a66887f196",
     "locked": true,
     "schema_version": 3,
     "solution": false
    }
   },
   "source": [
    "We now wish to solve our differential equation numerically. We shall do this using Euler's and RK4 methods."
   ]
  },
  {
   "cell_type": "markdown",
   "metadata": {
    "deletable": false,
    "editable": false,
    "nbgrader": {
     "cell_type": "markdown",
     "checksum": "506315221a1ce2a83589f0664570efcb",
     "grade": false,
     "grade_id": "cell-1a07e2754604c846",
     "locked": true,
     "schema_version": 3,
     "solution": false
    }
   },
   "source": [
    "### Euler's Method"
   ]
  },
  {
   "cell_type": "markdown",
   "metadata": {
    "deletable": false,
    "editable": false,
    "nbgrader": {
     "cell_type": "markdown",
     "checksum": "d54ff05e541949049048ca38c990052f",
     "grade": false,
     "grade_id": "euler_introduction",
     "locked": true,
     "schema_version": 3,
     "solution": false
    }
   },
   "source": [
    "Create a function which takes as its arguments the initial number of atoms, `n0`, the initial time `t0`, the time step, `dt`, and the number of steps to perform, `n_steps`.  This function should return an array of the number of counts at each time step using Euler's method. This array should contain the initial and final values, so the array length should be `n_steps+1` "
   ]
  },
  {
   "cell_type": "code",
   "execution_count": 9,
   "metadata": {
    "deletable": false,
    "nbgrader": {
     "cell_type": "code",
     "checksum": "013501145cd3d22fc032e943bb1d1ea1",
     "grade": false,
     "grade_id": "euler_function",
     "locked": false,
     "schema_version": 3,
     "solution": true
    }
   },
   "outputs": [],
   "source": [
    "def solve_euler(f, n0, t0, dt, n_panels):\n",
    "    N = []\n",
    "    woohoo = n0\n",
    "    N.append(woohoo)\n",
    "    for i in range (0, n_panels):\n",
    "        DT = 0\n",
    "        for g in range (0, i):\n",
    "            DT += dt\n",
    "        T = t0 + DT\n",
    "        dN = f(woohoo,T)* dt\n",
    "        woohoo += dN\n",
    "        N.append(woohoo)\n",
    "    return N;"
   ]
  },
  {
   "cell_type": "markdown",
   "metadata": {
    "deletable": false,
    "editable": false,
    "nbgrader": {
     "cell_type": "markdown",
     "checksum": "45340539b0c9b862d47028a5f97eb352",
     "grade": false,
     "grade_id": "cell-00862d5c2364027a",
     "locked": true,
     "schema_version": 3,
     "solution": false
    }
   },
   "source": [
    "Try your solution:"
   ]
  },
  {
   "cell_type": "code",
   "execution_count": 10,
   "metadata": {
    "deletable": false,
    "editable": false,
    "nbgrader": {
     "cell_type": "code",
     "checksum": "4b131e25e6aa3c8dae913e63d911771f",
     "grade": true,
     "grade_id": "euler_test_length",
     "locked": true,
     "points": 1,
     "schema_version": 3,
     "solution": false,
     "task": false
    }
   },
   "outputs": [],
   "source": [
    "# this test is worth 1 mark\n",
    "assert len(solve_euler(f_rad, 1000, 0, 1, 17)) == 18"
   ]
  },
  {
   "cell_type": "code",
   "execution_count": 11,
   "metadata": {
    "deletable": false,
    "editable": false,
    "nbgrader": {
     "cell_type": "code",
     "checksum": "fe20ccbd32656ef965ec3f9a7a415119",
     "grade": true,
     "grade_id": "euler_test_one",
     "locked": true,
     "points": 2,
     "schema_version": 3,
     "solution": false
    }
   },
   "outputs": [],
   "source": [
    "# this test is worth 2 marks\n",
    "assert numpy.isclose(solve_euler(f_rad, 1000, 0, 6, 1), [1000.,  800.05369792]).all()"
   ]
  },
  {
   "cell_type": "code",
   "execution_count": 12,
   "metadata": {
    "deletable": false,
    "editable": false,
    "nbgrader": {
     "cell_type": "code",
     "checksum": "d959639ea019b5a5bf260b744ed9a1e8",
     "grade": true,
     "grade_id": "euler_test_many",
     "locked": true,
     "points": 2,
     "schema_version": 3,
     "solution": false
    }
   },
   "outputs": [],
   "source": [
    "# this test is worth 2 mark\n",
    "assert numpy.isclose(solve_euler(f_rad, 1000, 0, 6, 10), [1000.        ,  800.05369792,  640.08591955,  512.10310692,\n",
    "                                                409.7099844 ,  327.7899881 ,  262.24959212,  209.81375595,\n",
    "                                                167.86227132,  134.29883091,  107.4462763 ]).all()"
   ]
  },
  {
   "cell_type": "markdown",
   "metadata": {
    "deletable": false,
    "editable": false,
    "nbgrader": {
     "cell_type": "markdown",
     "checksum": "860387a32a77ca0cdf4007ccdf282e18",
     "grade": false,
     "grade_id": "cell-9afd689c4b5b66e4",
     "locked": true,
     "schema_version": 3,
     "solution": false,
     "task": false
    }
   },
   "source": [
    "### RK 4 method"
   ]
  },
  {
   "cell_type": "markdown",
   "metadata": {
    "deletable": false,
    "editable": false,
    "nbgrader": {
     "cell_type": "markdown",
     "checksum": "ffb95947375cff594bf6f0659f1467c0",
     "grade": false,
     "grade_id": "cell-b46cd6a3a22d98eb",
     "locked": true,
     "schema_version": 3,
     "solution": false,
     "task": false
    }
   },
   "source": [
    "Implement the RK4 method in the `solve_RK4` function. The arguments are the same as for `solve_euler`."
   ]
  },
  {
   "cell_type": "code",
   "execution_count": 38,
   "metadata": {
    "deletable": false,
    "nbgrader": {
     "cell_type": "code",
     "checksum": "611b8f6c6a052ff1085a80404fc92a2b",
     "grade": false,
     "grade_id": "RK4",
     "locked": false,
     "schema_version": 3,
     "solution": true,
     "task": false
    }
   },
   "outputs": [],
   "source": [
    "def solve_RK4(f, n0, t0, dt, nsteps): \n",
    "    h = dt  \n",
    "    N = n0\n",
    "    COUNT= []\n",
    "    COUNT.append(N)\n",
    "    for i in range(1, nsteps + 1): \n",
    "        k1 = h * f(N, t0) \n",
    "        k2 = h * f(N + 0.5 * k1, t0 + 0.5 * h)\n",
    "        k3 = h * f(N + 0.5 * k2, t0 + 0.5 * h)\n",
    "        k4 = h * f(N + k3, t0 + h)\n",
    "  \n",
    "        N += (1/6)*(k1 + 2 * k2 + 2 * k3 + k4) \n",
    "        COUNT.append(N)\n",
    "\n",
    "        t0 = t0 + h \n",
    "    return COUNT;"
   ]
  },
  {
   "cell_type": "code",
   "execution_count": 39,
   "metadata": {
    "deletable": false,
    "editable": false,
    "nbgrader": {
     "cell_type": "code",
     "checksum": "0e92b0664845bd78bc9032ff5795c8f2",
     "grade": true,
     "grade_id": "RK4-test-1",
     "locked": true,
     "points": 1,
     "schema_version": 3,
     "solution": false,
     "task": false
    }
   },
   "outputs": [],
   "source": [
    "# This checks that we return an array of the right length\n",
    "# this test is worth 1 mark\n",
    "assert len(solve_RK4(f_rad, 1000, 0, 1, 17)) == 18"
   ]
  },
  {
   "cell_type": "code",
   "execution_count": 40,
   "metadata": {
    "deletable": false,
    "editable": false,
    "nbgrader": {
     "cell_type": "code",
     "checksum": "2cc4284fa713bc2d5af4f1366e54e7d9",
     "grade": true,
     "grade_id": "RK4-test-2",
     "locked": true,
     "points": 2,
     "schema_version": 3,
     "solution": false,
     "task": false
    }
   },
   "outputs": [],
   "source": [
    "# This checks that a single step is working\n",
    "# this test is worth 2 mark\n",
    "assert numpy.isclose(solve_RK4(f_rad, 1000,0, 6, 1), [1000.,  818.7773]).all()"
   ]
  },
  {
   "cell_type": "code",
   "execution_count": 41,
   "metadata": {
    "deletable": false,
    "editable": false,
    "nbgrader": {
     "cell_type": "code",
     "checksum": "be67647e705ca3915a432ef233c6a96b",
     "grade": true,
     "grade_id": "RK4-test-3",
     "locked": true,
     "points": 2,
     "schema_version": 3,
     "solution": false,
     "task": false
    }
   },
   "outputs": [],
   "source": [
    "# This checks multiple steps\n",
    "# this test is worth 2 marks\n",
    "assert numpy.isclose(solve_RK4(f_rad, 1000, 0, 6, 10), [\n",
    "    1000.,\n",
    "    818.77729521,  \n",
    "    670.39625915,  \n",
    "    548.90523578,\n",
    "    449.43114428,  \n",
    "    367.9840167,  \n",
    "    301.29695787,  \n",
    "    246.69510822, \n",
    "    201.98835345,  \n",
    "    165.3834777,  \n",
    "    135.41223655]).all()"
   ]
  },
  {
   "cell_type": "markdown",
   "metadata": {},
   "source": [
    "## Plotting task"
   ]
  },
  {
   "cell_type": "markdown",
   "metadata": {
    "deletable": false,
    "editable": false,
    "nbgrader": {
     "cell_type": "markdown",
     "checksum": "711a0e023c32f2bbd63b847d0eeaf33a",
     "grade": false,
     "grade_id": "plotting_task",
     "locked": true,
     "points": 5,
     "schema_version": 3,
     "solution": false,
     "task": true
    }
   },
   "source": [
    "**Task 1: **\n",
    "\n",
    "Create a plot to show that the RK4 method has an error that scales better with the number of steps than the Euler method. (click on the \"+\" button to create new cells.)       [task worth 5 marks]\n"
   ]
  },
  {
   "cell_type": "code",
   "execution_count": 72,
   "metadata": {},
   "outputs": [
    {
     "name": "stderr",
     "output_type": "stream",
     "text": [
      "/opt/conda/lib/python3.6/site-packages/matplotlib/ticker.py:2207: UserWarning: Data has no positive values, and therefore cannot be log-scaled.\n",
      "  \"Data has no positive values, and therefore cannot be \"\n"
     ]
    },
    {
     "data": {
      "image/png": "[encoded data removed]",
      "text/plain": [
       "<Figure size 432x288 with 1 Axes>"
      ]
     },
     "metadata": {},
     "output_type": "display_data"
    },
    {
     "name": "stdout",
     "output_type": "stream",
     "text": [
      "[1000, 935.5237409450855, 875.2046698718874, 818.7747468511567, 765.9832141655595, 716.5954820173048, 670.3920860811758, 627.1677122706413, 586.7302843834013, 548.9001105721335, 513.5090848476134, 480.3999400659266, 449.4255490802705, 420.4482709518738, 393.33933931478987, 367.97829017664054, 344.25242661262695, 322.0563179740683, 301.29133138610035, 281.86519345265003, 263.6915802210334, 246.68973358410227, 230.78410241534584, 215.90400684225807, 201.9833241661026, 188.9601950323962, 176.77674854642027, 165.3788451122558, 154.7158358525954, 144.74033754026584, 135.4080220413239, 126.67741933407393, 118.50973322868215, 110.86866896850083, 103.72027194701421, 97.03277682371234, 90.77646636840896, 84.9235394067497, 79.44798728009987, 74.3254782708366, 69.53324947946572, 65.05000567309769, 60.85582465579538, 56.93206874028786, 53.26130192765686, 49.827212426967236, 46.614540170541844, 43.60900900278027, 40.79726324118891, 38.16680832771847, 35.705955306681226, 33.403768882524446, 31.250018826644308, 29.235134517306633, 27.350162410663497, 25.586726253879572, 23.936989863567252, 22.39362230412903, 20.94976531127009, 19.59900281592098, 18.33533243314366, 17.153138789326313, 16.04716856914081, 15.012507171379005, 14.04455686993341, 13.139016382876104, 12.291861758847018, 11.4993284958164, 10.757894812762581, 10.064265999929379, 9.415359778120365, 8.808292601971054, 8.240366846334881, 7.709058818843064, 7.212007545369765, 6.7470042785685065, 6.311982682858907, 5.905009652248761, 5.5242767201886, 5.168092023286686, 4.8348727831736165, 4.523138273108159, 4.231503238070038, 3.958671739100525, 3.703431394536911, 3.4646479925506455, 3.2412604510488605, 3.032276102542585, 2.836766283029023, 2.6538622052861967, 2.482751098242117, 2.322672595262985, 2.172915355311058, 2.0328139019576206, 1.9017456662045695, 1.7791282199738028, 1.6644166879708628, 1.5571013264219307, 1.4567052579247992, 1.362782352348184, 1.2749152443627165, 1.1927134787941265, 1.1158117755571082, 1.0438684064597639, 0.9765636766656234, 0.9135985040653108, 0.8546930902450135, 0.7995856771459305, 0.7480313838896703, 0.6998011186007937, 0.65468056039097, 0.6124692069809852, 0.5729794837285211, 0.5360359101024899, 0.5014743198999848, 0.4691411317407263, 0.4388926665972955, 0.41059450932846603, 0.38412091137847837, 0.35935423198802974, 0.33618441543388966, 0.3145085019741492, 0.2942301703258909, 0.27525930964218714, 0.25751161908642056, 0.24090823322455404, 0.22537537157070592, 0.21084401072871548, 0.19724957767279364, 0.18453166280429012, 0.17263375150948657, 0.16150297302553918, 0.15108986549860565, 0.14134815619014535, 0.132234555854695, 0.12370856637539614, 0.11573230080246401, 0.10827031499490306, 0.10128945011733449, 0.09475868529203939, 0.08864899975144674, 0.08293324387851342, 0.07758601856193799, 0.07258356233009906, 0.06790364576217506, 0.0635254727072399, 0.059429587872382006, 0.0555977903691955, 0.05201305283447042, 0.04865944576567815, 0.045522066735021724, 0.042586974167499354, 0.039841125388710714, 0.037272318667108874, 0.034869138993151035, 0.03262090735440681, 0.030517633281217708, 0.028549970452035035, 0.02670917516115947, 0.02498706746432546, 0.023375994829472987, 0.021868798131181547, 0.020458779837655854, 0.019139674248895695, 0.01790561965379722, 0.01675113228246022, 0.015671081937953173, 0.014660669199250912, 0.013715404094041605, 0.012831086146631343, 0.012003785712285216, 0.011229826515060232, 0.01050576931153346, 0.009828396607831857, 0.009194698362050847, 0.008601858608527458, 0.008047242944530296, 0.007528386823760927, 0.007042984604646513, 0.00658887930475755, 0.006164053015822437, 0.005766617936746043, 0.0053948079847856885, 0.005046970947607125, 0.004721561141346581, 0.004417132542053501, 0.004132332359992166, 0.003865895028248305, 0.0036166365789278613, 0.0033834493819574285, 0.003165297223107151, 0.0029612106993642928, 0.0027702829111958963, 0.002591665432558227, 0.0024245645407449355, 0.0022682376893205054, 0.0021219902084657558, 0.0019851722180727256, 0.0018571757398716492, 0.0017374319957571822, 0.0016254088803084451, 0.0015206085962715193, 0.0014225654424971869, 0.0013308437445041692, 0.001245035918471906, 0.0011647606600598379, 0.0010896612500048465, 0.001019403968967432, 0.0009536766145826799, 0.0008921871141262331, 0.0008346622266303736, 0.0007808463286828019, 0.0007305002785125706, 0.0006834003533155069, 0.0006393372550969162, 0.0005981151806138294, 0.0005595509512838952, 0.000523473199194491, 0.0004897216055949221, 0.00045814618848779524, 0.00042860663615383447, 0.00040097168364852437, 0.00037511852949991686, 0.0003509322900155816, 0.0003283054887738026, 0.0003071375790304726, 0.00028733449691940453, 0.0002688082434606155, 0.0002514764935191523, 0.00023526222997678992, 0.00022009340149096955, 0.00020590260232016049, 0.00019262677279288477, 0.00018020691908937858, 0.00016858785109068379, 0.00015771793713024952, 0.00014754887455823283, 0.00013803547509895513, 0.0001291354640477067, 0.00012080929241459017, 0.00011301996118062614, 0.0001057328568851677, 9.891559781402343e-05, 9.253789010479472e-05, 8.657139313000276e-05, 8.098959355980786e-05, 7.576768754469346e-05, 7.088247049456998e-05, 6.631223396450975e-05, 6.203666918890392e-05, 5.8036776835376114e-05, 5.429478257742614e-05, 5.079405811063375e-05, 4.7519047261442146e-05, 4.4455196860170676e-05, 4.158889207107709e-05, 3.8907395892095445e-05, 3.6398792555404585e-05, 3.405193457731623e-05, 3.1856393222188183e-05, 2.9802412160239156e-05, 2.7880864113334242e-05, 2.6083210296088036e-05, 2.440146247205365e-05, 2.2828147456386744e-05, 2.1356273907244966e-05, 1.997930125835373e-05, 1.8691110654683934e-05, 1.748597776208846e-05, 1.635854733007157e-05, 1.5303809394655797e-05, 1.4317077015598934e-05, 1.3393965449032015e-05, 1.2530372662967653e-05, 1.1722461109095531e-05, 1.0966640669864328e-05, 1.0259552705071995e-05, 9.598055127072224e-06, 8.979208438275764e-06, 8.400262668901421e-06, 7.858645156932006e-06, 7.351949115973009e-06, 6.8779229402129835e-06, 6.434460198960072e-06, 6.019590276293386e-06, 5.631469614234649e-06, 5.268373520527376e-06, 4.928688504619801e-06, 4.610905107794955e-06, 4.313611195587139e-06, 4.035485682678284e-06, 3.7752926623895203e-06, 3.531875914681176e-06, 3.304153768256379e-06, 3.091114293937009e-06, 2.8918108079527773e-06, 2.7053576651614123e-06, 2.5309263235062666e-06, 2.367741662222974e-06, 2.2150785374343718e-06, 2.072258559827772e-06, 1.9386470800955526e-06, 1.8136503687432581e-06, 1.6967129777331267e-06, 1.5873152722389702e-06, 1.4849711215442681e-06, 1.389225738822513e-06, 1.2996536602004377e-06, 1.2158568541236864e-06, 1.137462952623514e-06, 1.0641235966247924e-06, 9.95512887942365e-07, 9.313259410868869e-07, 8.712775284448067e-07, 8.151008128120737e-07, 7.625461616493311e-07, 7.13380037789498e-07, 6.673839616683777e-07, 6.243535404667522e-07, 5.840975598497649e-07, 5.464371342675481e-07, 5.112049120412885e-07, 4.782443317023696e-07, 4.474089262799831e-07, 4.185616724456738e-07, 3.9157438162260825e-07, 3.66327130353841e-07, 3.427077273983033e-07, 3.206112151864493e-07, 2.9993940342017686e-07, 2.80600432744481e-07, 2.6250836655192676e-07, 2.4558280910604226e-07, 2.2974854828668746e-07, 2.1493522136986447e-07, 2.010770023567957e-07, 1.8811230946285329e-07, 1.7598353146650812e-07, 1.6463677170227484e-07, 1.5402160856003416e-07, 1.4409087142646277e-07, 1.3480043107292177e-07, 1.2610900355834992e-07, 1.1797796677576462e-07, 1.1037118882715832e-07, 1.0325486746413958e-07, 9.659737988084085e-08, 9.036914219161777e-08, 8.454247796910061e-08, 7.909149525842047e-08, 7.399197152109801e-08, 6.922124599731984e-08, 6.475811900829269e-08, 6.058275775120503e-08, 5.66766081681772e-08, 5.3022312497571926e-08, 4.960363214128785e-08, 4.640537550528149e-08, 4.341333049266238e-08, 4.061420134938086e-08, 3.7995549581869717e-08, 3.5545738684095236e-08, 3.3253882428401217e-08, 3.110979649036595e-08, 2.9103953192707442e-08, 2.7227439167132333e-08, 2.5471915745990384e-08, 2.3829581907726952e-08, 2.2293139611474045e-08, 2.085576136673727e-08, 1.951105989406804e-08, 1.8253059741902156e-08, 1.7076170733438442e-08, 1.5975163125563315e-08, 1.4945144369434977e-08, 1.3981537369458191e-08, 1.3080060144039038e-08, 1.2236706797738114e-08, 1.1447729720268118e-08, 1.0709622933233467e-08, 1.0019106510609853e-08, 9.373112003732992e-09, 8.768768806029574e-09, 8.203391396899358e-09, 7.674467408064018e-09, 7.1796464593531845e-09, 6.716729714317229e-09, 6.283660109255069e-09, 5.8785132122377074e-09, 5.499488671507731e-09, 5.144902215254031e-09, 4.8131781672111085e-09, 4.502842444824547e-09, 4.2125160088685746e-09, 3.94090873540779e-09, 3.6868136828718618e-09, 3.4491017287678124e-09, 3.2267165521970256e-09, 3.0186699398807896e-09, 2.8240373948357527e-09, 2.641954028185557e-09, 2.47161071585309e-09, 2.3122505030548433e-09, 2.1631652406200227e-09, 2.02369243818722e-09, 1.8932123202951892e-09, 1.771145072285881e-09, 1.6569482637813412e-09, 1.5501144382851848e-09, 1.4501688581975458e-09, 1.3566673952230312e-09, 1.2691945567972748e-09, 1.1873616397621264e-09, 1.1108050030849555e-09, 1.0391844519465548e-09, 9.721817260170094e-10, 9.094990852018828e-10, 8.508579865741984e-10, 7.959978466128975e-10, 7.446748832475302e-10, 6.966610325635743e-10, 6.51742935354541e-10, 6.097209890174112e-10, 5.704084605783059e-10, 5.336306569069441e-10, 4.992241484325677e-10, 4.670360429117605e-10, 4.369233060209996e-10, 4.087521257548599e-10, 3.823973178054426e-10, 3.5774176928071437e-10, 3.3467591828980755e-10, 3.130972670827125e-10, 2.929099265809018e-10, 2.740241902749156e-10, 2.5635613559543695e-10, 2.3982725098646876e-10, 2.243640870234372e-10, 2.0989793002589468e-10, 1.9636449671445478e-10, 1.837036485551057e-10, 1.7185912452153373e-10, 1.6077829108793252e-10, 1.5041190834134052e-10, 1.4071391117418018e-10, 1.316412045846835e-10, 1.2315347217558046e-10, 1.1521299700007553e-10, 1.0778449395900557e-10, 1.0083495300440187e-10, 9.433349245269992e-11, 8.825122175576482e-11, 8.256111311992742e-11, 7.723788140254488e-11, 7.225787175238164e-11, 6.759895449451829e-11, 6.324042679268835e-11, 5.916292065205962e-11, 5.534831685365208e-11, 5.177966443794252e-11, 4.844110537986519e-11, 4.531780412048659e-11, 4.2395881642214223e-11, 3.9662353794589325e-11, 3.710507359660171e-11, 3.471267725913555e-11, 3.247453368768589e-11, 3.0380697240951106e-11, 2.8421863535374615e-11, 2.6589328099244372e-11, 2.4874947692621375e-11, 2.327110412121447e-11, 2.1770670383401156e-11, 2.0366978999961828e-11, 1.9053792385794284e-11, 1.7825275131949254e-11, 1.667596807481657e-11, 1.5600764037233213e-11, 1.459488513371397e-11, 1.3653861538955907e-11, 1.2773511625270252e-11, 1.1949923380678365e-11, 1.1179437025099368e-11, 1.0458628747380957e-11, 9.784295490905647e-12, 9.153440720164183e-12, 8.563261105047074e-12, 8.011134063683185e-12, 7.494606108469499e-12, 7.011381943505275e-12, 6.559314264982879e-12, 6.1363942192112466e-12, 5.740742475870302e-12, 5.370600876828537e-12, 5.024324623413589e-12, 4.7003749674183886e-12, 4.397312373363885e-12, 4.113790121633495e-12, 3.8485483240535055e-12, 3.6004083253264745e-12, 3.3682674654392537e-12, 3.1510941797713523e-12, 2.9479234151299814e-12, 2.7578523413420126e-12, 2.5800363393464423e-12, 2.4136852479596476e-12, 2.2580598526351758e-12, 2.112468600615168e-12, 1.976264527876532e-12, 1.8488423842161263e-12, 1.7296359436997015e-12, 1.618115488523028e-12, 1.5137854551042476e-12, 1.4161822319473843e-12, 1.3248720994913778e-12, 1.2394493027899432e-12, 1.1595342484578256e-12, 1.0847718178712132e-12, 1.0148297891266782e-12, 9.493973607463022e-13, 8.881837705687716e-13, 8.309170036892087e-13, 7.773425837062099e-13, 7.272224419047517e-13, 6.803338593499534e-13, 6.364684771906761e-13, 5.954313707750432e-13, 5.570401834635286e-13, 5.211243162905371e-13, 4.875241698735732e-13, 4.560904352012725e-13, 4.266834301487666e-13, 3.991724787720552e-13, 3.734353306231558e-13, 3.4935761750563953e-13, 3.2683234525653815e-13, 3.0575941829625233e-13, 2.860451948337032e-13, 2.6760207075019186e-13, 2.5034809031287094e-13, 2.3420658198795513e-13, 2.1910581773533365e-13, 2.049786942705914e-13, 1.9176243487806263e-13, 1.793983104498635e-13, 1.6783137851128412e-13, 1.5701023907284717e-13, 1.4688680622411223e-13, 1.3741609445425735e-13, 1.2855601874991007e-13, 1.2026720758192242e-13, 1.1251282795005921e-13, 1.0525842170815017e-13, 9.847175244238404e-14, 9.212266222231748e-14, 8.618293758804294e-14, 8.062618417800276e-14, 7.54277094403326e-14, 7.05644129065389e-14, 6.601468353991894e-14, 6.175830370257092e-14, 5.777635931425188e-14, 5.405115580385635e-14, 5.0566139480029365e-14, 4.730582397150805e-14, 4.425572141031491e-14, 4.140227805200132e-14, 3.873281404685688e-14, 3.6235467094445906e-14, 3.389913973108858e-14, 3.1713450016048165e-14, 2.966868539728836e-14, 2.7755759551794038e-14, 2.596617200866665e-14, 2.429197037557139e-14, 2.272571500068174e-14, 2.1260445913089627e-14, 1.988965189477426e-14, 1.8607241546694725e-14, 1.740751622043267e-14, 1.6285144695101426e-14, 1.52351394869933e-14, 1.4252834686692163e-14, 1.3333865225166127e-14, 1.2474147476705e-14, 1.166986111250776e-14, 1.0917432124282836e-14, 1.0213516942423129e-14, 9.554987578181697e-15, 8.938917723824363e-15, 8.362569748992497e-15, 7.823382535491665e-15, 7.31896009644761e-15, 6.847060929256471e-15, 6.4055880550169475e-15, 5.992579700182609e-15, 5.606200579026413e-15, 5.2447337381792945e-15, 4.906572927002396e-15, 4.5902154598891594e-15, 4.2942555387794725e-15, 4.0173780062131255e-15, 3.7583525011630125e-15, 3.5160279916783403e-15, 3.289327660042557e-15, 3.077244117717157e-15, 2.878834928808014e-15, 2.6932184221618523e-15, 2.5195697734830766e-15, 2.3571173400610496e-15, 2.2051392318204424e-15, 2.0629601034574325e-15, 1.9299481534069578e-15, 1.805512316305337e-15, 1.6890996364723951e-15, 1.5801928107416391e-15, 1.4783078897195477e-15, 1.3829921272590661e-15, 1.2938219685910033e-15, 1.2104011681731903e-15, 1.1323590288936846e-15, 1.059348754803564e-15, 9.910459100593483e-16, 9.271469772270482e-16, 8.673680085413762e-16, 8.114433641267171e-16, 7.591245315728916e-16, 7.101790216202572e-16, 6.643893350469038e-16, 6.215519961670972e-16, 5.814766486461282e-16, 5.439852096136369e-16, 5.089110783165461e-16, 4.760983957950926e-16, 4.45401352292179e-16, 4.166835393183792e-16, 3.8981734349336873e-16, 3.646833794701917e-16, 3.4116995942244997e-16, 3.191725967369734e-16, 2.9859354170653056e-16, 2.7934134715933586e-16, 2.613304620951417e-16, 2.444808515221548e-16, 2.287176408054463e-16, 2.1397078294644544e-16, 2.0017474731500755e-16, 1.8726822845087307e-16, 1.7519387364051968e-16, 1.6389802805883956e-16, 1.5333049634312816e-16, 1.4344431953989e-16, 1.3419556643328012e-16, 1.2554313832790697e-16, 1.1744858641850988e-16, 1.0987594093495653e-16, 1.0279155130333179e-16, 9.616393661284163e-17, 8.996364572405168e-17, 8.416312639682317e-17, 7.87366028563901e-17, 7.365996125351756e-17, 6.89106425097608e-17, 6.446754207166086e-17, 6.031091612841485e-17, 5.642229387627995e-17, 5.2784395439840407e-17, 4.938105508540421e-17, 4.6197149385312685e-17, 4.321853001394668e-17, 4.043196087679486e-17, 3.7825059293204466e-17, 3.5386240971448314e-17, 3.3104668531593586e-17, 3.097020334742348e-17, 2.8973360493411627e-17, 2.7105266596546993e-17, 2.535762040571551e-17, 2.372265590342041e-17, 2.2193107795920878e-17, 2.076217922843744e-17, 1.942351158196014e-17, 1.8171156217445546e-17, 1.6999548041842206e-17, 1.5903480778479923e-17, 1.4878083831931797e-17, 1.3918800644543428e-17, 1.3021368448452135e-17, 1.2181799323120245e-17, 1.1396362474207761e-17, 1.0661567655037035e-17, 9.97414965697937e-18, 9.33105379984348e-18, 8.729422357789427e-18, 8.166581860448833e-18, 7.640031212821368e-18, 7.147430581155864e-18, 6.686590995428241e-18, 6.25546462221275e-18, 5.852135664722108e-18, 5.474811849578981e-18, 5.121816462488611e-18, 4.79158089742147e-18, 4.4826376861967436e-18, 4.1936139774922e-18, 3.9232254363031026e-18, 3.670270536741194e-18, 3.4336252228126484e-18, 3.2122379134490916e-18, 3.00512482959553e-18, 2.8113656225901728e-18, 2.630099284409968e-18, 2.4605203216082053e-18, 2.301875175942313e-18, 2.1534588757861796e-18, 2.014611903446885e-18, 1.884717264465129e-18, 1.7631977458762057e-18, 1.64951335124805e-18, 1.5431589010984406e-18, 1.4436617880283204e-18, 1.3505798765957254e-18, 1.2634995385979849e-18, 1.1820338150315763e-18, 1.1058206965619315e-18, 1.0345215148621185e-18, 9.67819437671986e-19, 9.054180608902653e-19, 8.470400914433062e-19, 7.924261150775091e-19, 7.413334435998922e-19, 6.935350364442737e-19, 6.488184917708332e-19, 6.06985102615798e-19, 5.678489738970679e-19, 5.312361963520132e-19, 4.969840737366733e-19, 4.649403998522608e-19, 4.34962782186291e-19, 4.069180091628013e-19, 3.806814581899105e-19, 3.5613654187425523e-19, 3.331741899414493e-19, 3.1169236456037315e-19, 2.915956069175397e-19, 2.7279461302664937e-19, 2.55205836888358e-19, 2.3875111923681797e-19, 2.233573402232541e-19, 2.089560944932029e-19, 1.9548338721355595e-19, 1.8287934969864255e-19, 1.7108797337167857e-19, 1.600568608793859e-19, 1.497369932538102e-19, 1.4008251208667356e-19, 1.3105051574831e-19, 1.2260086874564182e-19, 1.1469602337204025e-19, 1.0730085285653605e-19, 1.0038249527094478e-19, 9.391020750127662e-20, 8.785522863452353e-20, 8.219065215375525e-20, 7.689130637359735e-20, 7.19336425847825e-20, 6.729563041072243e-20, 6.295665991109691e-20, 5.889744999743687e-20, 5.509996275372826e-20, 5.1547323281302735e-20, 4.8223744711830034e-20, 4.5114458055192015e-20, 4.2205646570503383e-20, 3.948438436864344e-20, 3.693857897346697e-20, 3.4556917586453294e-20, 3.23288168160098e-20, 3.0244375648041874e-20, 2.829433144880458e-20, 2.647001880452584e-20, 2.4763331014896773e-20, 2.316668406931769e-20, 2.1672982945821002e-20, 2.0275590082913503e-20, 1.8968295884236317e-20, 1.7745291124974026e-20, 1.6601141137395326e-20, 1.5530761660813428e-20, 1.4529396248650687e-20, 1.359259513221118e-20, 1.2716195447238163e-20, 1.189630273538911e-20, 1.1129273638426474e-20, 1.0411699708222257e-20, 9.740392260632941e-21, 9.112368205939887e-21, 8.524836792889941e-21, 7.975187207430702e-21, 7.46097697103296e-21, 6.979921087045887e-21, 6.529881886854656e-21, 6.1088595307198215e-21, 5.7149831210870465e-21, 5.346502388877374e-21, 5.001779915814398e-21, 4.67928385822668e-21, 4.3775811399921765e-21, 4.0953310843761334e-21, 3.831279456464254e-21, 3.584252889717493e-21, 3.3531536718817417e-21, 3.1369548670825567e-21, 2.9346957524289667e-21, 2.7454775488479992e-21, 2.568459427179024e-21, 2.402854771780192e-21, 2.247927685043555e-21, 2.1029897172859724e-21, 1.9673968074844207e-21, 1.8405464212612434e-21, 1.7218748734014078e-21, 1.6108548230038305e-21, 1.506992930135977e-21, 1.4098276635786052e-21, 1.3189272499189261e-21, 1.2338877548785674e-21, 1.15433128835033e-21, 1.079904325167461e-21, 1.010276134143441e-21, 9.45137308401411e-22, 8.84198390462457e-22, 8.271885859830612e-22, 7.738545604259489e-22, 7.239593133170985e-22, 6.772811250864472e-22, 6.336125718123695e-22, 5.927596034917445e-22, 5.545406817397224e-22, 5.187859730873832e-22, 4.853365942925451e-22, 4.540439063101091e-22, 4.247688537845531e-22, 3.9738134712948117e-22, 3.717596844483698e-22, 3.4779001072770343e-22, 3.2536581189931253e-22, 3.0438744152367985e-22, 2.847616779909364e-22, 2.6640131027188065e-22, 2.492247503782222e-22, 2.3315567080993955e-22, 2.1812266537867554e-22, 2.0405893189997164e-22, 1.909019753443199e-22, 1.7859333012792463e-22, 1.670783003091167e-22, 1.5630571653593128e-22, 1.4622770866479655e-22, 1.3679949303991856e-22, 1.279791734880958e-22, 1.197275551446435e-22, 1.120079702831259e-22, 1.047861153749359e-22, 9.802989865466337e-23, 9.170929751387827e-23, 8.579622508962923e-23, 8.026440545481654e-23, 7.508925685582309e-23, 7.024778247854603e-23, 6.571846825742601e-23, 6.148118727336803e-23, 5.751711031572664e-23, 5.380862221091976e-23, 5.033924354586047e-23, 4.709355743836914e-23, 4.405714102915535e-23, 4.121650139094063e-23, 3.85590155699211e-23, 3.6072874493132384e-23, 3.3747030492457765e-23, 3.157114821209196e-23, 2.9535558681308017e-23, 2.763121634844037e-23, 2.584965888515594e-23, 2.4182969582395454e-23, 2.2623742170883808e-23, 2.116504790988231e-23, 1.980040479793506e-23, 1.852374876879123e-23, 1.7329406744506493e-23, 1.621207142597971e-23, 1.5166777708901466e-23, 1.418888062031403e-23, 1.3274034677739407e-23, 1.2418174579153562e-23, 1.1617497137998902e-23, 1.0868444382959557e-23, 1.0167687747399926e-23, 9.512113278209089e-24, 8.898807798323587e-24, 8.325045961438982e-24, 7.788278141385173e-24, 7.286119102349495e-24, 6.816337399601448e-24, 6.3768454636190426e-24, 5.965690323553585e-24, 5.581044928810747e-24, 5.221200030183629e-24, 4.884556584459982e-24, 4.569618648751952e-24, 4.274986732972853e-24, 3.9993515809213724e-24, 3.741488352338204e-24, 3.500251180081901e-24, 3.27456807823767e-24, 3.0634361785322643e-24, 2.8659172738870207e-24, 2.6811336493059268e-24, 2.5082641815724295e-24, 2.3465406904232026e-24, 2.1952445249845782e-24, 2.0537033703027898e-24, 1.9212882597771963e-24, 1.797410780220636e-24, 1.6815204571270342e-24, 1.5731023085271733e-24, 1.4716745565626913e-24, 1.3767864866092288e-24, 1.2880164444353065e-24, 1.2049699624969058e-24, 1.1272780070415648e-24, 1.054595338232645e-24, 9.865989760066519e-25, 9.229867648463337e-25, 8.63476031091844e-25, 8.078023268234568e-25, 7.557182547340249e-25, 7.06992368769266e-25, 6.614081456506511e-25, 6.1876302271064915e-25, 5.788674977647554e-25, 5.415442870204049e-25, 5.066275372807683e-25, 4.739620889427002e-25, 4.434027865138222e-25, 4.148138335848861e-25, 3.880681893911048e-25, 3.6304700428095226e-25, 3.3963909158382293e-25, 3.1774043352968853e-25, 2.972537190252075e-25, 2.7808791123230143e-25, 2.601578430276475e-25, 2.433838385454291e-25, 2.2769135912159456e-25, 2.1301067206630504e-25, 1.9927654079269652e-25, 1.8642793492497938e-25, 1.7440775909768368e-25, 1.631625992409143e-25, 1.5264248522418392e-25, 1.4280066880408348e-25, 1.3359341588905636e-25, 1.2497981219816263e-25, 1.1692158145023934e-25, 1.0938291527554342e-25, 1.0233031409405572e-25, 9.573243825335662e-26, 8.955996876457459e-26, 8.378547701755982e-26, 7.838330289633605e-26, 7.332944075321205e-26, 6.860143273485595e-26, 6.417826898630509e-26, 6.00402942894481e-26, 5.616912072110834e-26, 5.254754594260739e-26, 4.915947675771182e-26, 4.598985759927754e-26, 4.302460362680789e-26, 4.0250538137630814e-26, 3.7655334013569213e-26, 3.5227458942910993e-26, 3.29561241742615e-26, 3.083123657455589e-26, 2.884335377819147e-26, 2.698364222797625e-26, 2.524383792144012e-26, 2.3616209688077074e-26, 2.2093524834333434e-26, 2.0669017003678765e-26, 1.933635610893914e-26, 1.80896202032811e-26, 1.6923269164849333e-26, 1.583212007812046e-26, 1.4811324202575055e-26, 1.3856345426343502e-26, 1.29629401090802e-26, 1.2127138224493804e-26, 1.1345225718736584e-26, 1.0613728006258847e-26, 9.9293945297889e-27, 9.28918431582778e-27, 8.69025246147162e-27, 8.129937492513166e-27, 7.605749536645626e-27, 7.115359259214066e-27, 6.656587512348195e-27, 6.227395651480324e-27, 5.825876476218031e-27, 5.450245755315465e-27, 5.0988342980827965e-27, 4.770080537001527e-27, 4.462523588585011e-27, 4.174796761648737e-27, 3.905621484143055e-27, 3.653801621561008e-27, 3.4182181616739736e-27, 3.197824241975669e-27, 2.99164049773796e-27, 2.798750710006634e-27, 2.6182977341981204e-27, 2.4494796912050667e-27, 2.291546404085177e-27]\n"
     ]
    }
   ],
   "source": [
    "nsteps = [4, 8, 16, 32, 64, 128, 256, 512, 1024]  # Panel numbers to use\n",
    "\n",
    "n0 = 1000\n",
    "dt = 2\n",
    "t0 = 0\n",
    "\n",
    "result_RK4 = []\n",
    "for i in range (0, len(nsteps)):\n",
    "    result_RK4 = solve_RK4(f_rad, n0, t0, dt, nsteps[i])\n",
    "    \n",
    "result_euler = []\n",
    "for i in range (0, len(nsteps)):\n",
    "    result_euler = solve_euler(f_rad, n0, t0, dt, nsteps[i])\n",
    "\n",
    "result_analytic = []\n",
    "t = t0\n",
    "for i in range (0, len(nsteps)):\n",
    "    e = analytic(n0, t)\n",
    "    result_analytic.append(e)\n",
    "    t += dt\n",
    "    \n",
    "\n",
    "\n",
    "fract_error_euler = ((result_euler-result_analytic)/result_analytic)\n",
    "\n",
    "fract_error_RK4 = ((result_RK4-result_analytic)/result_analytic)\n",
    "\n",
    "\n",
    "\n",
    "plt.yscale('log')\n",
    "plt.xscale('log')\n",
    "plt.plot(panel_counts, fract_error_RK4, label= 'RK4')\n",
    "plt.plot(panel_counts, fract_error_euler, label= 'Euler')\n",
    "plt.xlabel(\"Panel Counts\")\n",
    "plt.ylabel(\"Fractional Error\")\n",
    "plt.title(\"Logarithmic Plot of Fractional Error of RK4/Euler Method against Analytic Integration\")\n",
    "plt.legend()\n",
    "plt.show()\n",
    "\n",
    "print(result_RK4)"
   ]
  },
  {
   "cell_type": "code",
   "execution_count": null,
   "metadata": {},
   "outputs": [],
   "source": []
  }
 ],
 "metadata": {
  "kernelspec": {
   "display_name": "Python 3",
   "language": "python",
   "name": "python3"
  },
  "language_info": {
   "codemirror_mode": {
    "name": "ipython",
    "version": 3
   },
   "file_extension": ".py",
   "mimetype": "text/x-python",
   "name": "python",
   "nbconvert_exporter": "python",
   "pygments_lexer": "ipython3",
   "version": "3.6.3"
  },
  "toc": {
   "base_numbering": 1,
   "nav_menu": {},
   "number_sections": false,
   "sideBar": true,
   "skip_h1_title": false,
   "title_cell": "Table of Contents",
   "title_sidebar": "Contents",
   "toc_cell": false,
   "toc_position": {},
   "toc_section_display": true,
   "toc_window_display": false
  }
 },
 "nbformat": 4,
 "nbformat_minor": 2
}
