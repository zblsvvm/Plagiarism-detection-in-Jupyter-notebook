{
 "cells": [
  {
   "cell_type": "markdown",
   "metadata": {
    "deletable": false,
    "editable": false,
    "nbgrader": {
     "cell_type": "markdown",
     "checksum": "9e255c2f6a00086caac01bd9f93ae0fd",
     "grade": false,
     "grade_id": "cell-653a2d7b8720a14f",
     "locked": true,
     "schema_version": 3,
     "solution": false
    }
   },
   "source": [
    "# <center>L2 Computational Physics</center>\n",
    "\n",
    "## <center>Week 3: Differential Equations I</center>"
   ]
  },
  {
   "cell_type": "code",
   "execution_count": 1,
   "metadata": {
    "deletable": false,
    "editable": false,
    "nbgrader": {
     "cell_type": "code",
     "checksum": "96aa70f20e306039b1ae0aad9e021a86",
     "grade": false,
     "grade_id": "imports",
     "locked": true,
     "schema_version": 3,
     "solution": false
    }
   },
   "outputs": [],
   "source": [
    "# usual packages to import\n",
    "import numpy \n",
    "import matplotlib.pyplot as plt\n",
    "%matplotlib inline"
   ]
  },
  {
   "cell_type": "markdown",
   "metadata": {
    "deletable": false,
    "editable": false,
    "nbgrader": {
     "cell_type": "markdown",
     "checksum": "b26b91b158cd26a964af9866fcae4f62",
     "grade": false,
     "grade_id": "introduction",
     "locked": true,
     "schema_version": 3,
     "solution": false
    }
   },
   "source": [
    "In this notebook, you will generate and plot the decay curve for Iodine-133 analytically and numerically. $^{133}\\textrm{I}$ has a half life $t_{1/2}$ of 20.8 hours. This means that half of the nuclei will have decayed after time $t_{1/2}$. Derive the mean lifetime $\\tau$ from that information."
   ]
  },
  {
   "cell_type": "code",
   "execution_count": 2,
   "metadata": {
    "deletable": false,
    "nbgrader": {
     "cell_type": "code",
     "checksum": "1f32203e67620dad43f0e3253b2b80d0",
     "grade": false,
     "grade_id": "constants",
     "locked": false,
     "schema_version": 3,
     "solution": true
    }
   },
   "outputs": [],
   "source": [
    "# define a function to calculate the mean lifetime from the half life\n",
    "def meanLifetime(halfLife):\n",
    "    return (-T_HALF)/(numpy.log(0.5))\n",
    "\n",
    "T_HALF = 20.8\n",
    "TAU = meanLifetime(T_HALF)\n"
   ]
  },
  {
   "cell_type": "markdown",
   "metadata": {
    "deletable": false,
    "editable": false,
    "nbgrader": {
     "cell_type": "markdown",
     "checksum": "474783dac86dd74a9510b7a6dccccb55",
     "grade": false,
     "grade_id": "cell-7ed602ac8b4a8623",
     "locked": true,
     "schema_version": 3,
     "solution": false
    }
   },
   "source": [
    "Check your average lifetime:"
   ]
  },
  {
   "cell_type": "code",
   "execution_count": 3,
   "metadata": {
    "deletable": false,
    "editable": false,
    "nbgrader": {
     "cell_type": "code",
     "checksum": "5b581ceaabfd40522833ba0df84148e3",
     "grade": true,
     "grade_id": "constants_check",
     "locked": true,
     "points": 1,
     "schema_version": 3,
     "solution": false
    }
   },
   "outputs": [],
   "source": [
    "# this test is worth 1 mark\n",
    "assert numpy.isclose(TAU, 30.0080568505)         "
   ]
  },
  {
   "cell_type": "markdown",
   "metadata": {
    "deletable": false,
    "editable": false,
    "nbgrader": {
     "cell_type": "markdown",
     "checksum": "6b5e2bcf6c6e49eda2f081cccb315844",
     "grade": false,
     "grade_id": "cell-864b8c95035f9b93",
     "locked": true,
     "schema_version": 3,
     "solution": false
    }
   },
   "source": [
    "### The Decay Equation"
   ]
  },
  {
   "cell_type": "markdown",
   "metadata": {
    "deletable": false,
    "editable": false,
    "nbgrader": {
     "cell_type": "markdown",
     "checksum": "b6c5672c9f405cb9a80f72ab719fc145",
     "grade": false,
     "grade_id": "decay_introduction",
     "locked": true,
     "schema_version": 3,
     "solution": false
    }
   },
   "source": [
    "Implement the function `f_rad` such that the differential equation \n",
    "\n",
    "$$ \\frac{dN}{dt} = f_{rad}(N,t)$$\n",
    "\n",
    "describes the radioactive decay process.\n",
    "\n",
    "- *Your function should return values using hours as the time unit.*\n",
    "- *The function should use the constant* `TAU`."
   ]
  },
  {
   "cell_type": "code",
   "execution_count": 100,
   "metadata": {
    "deletable": false,
    "nbgrader": {
     "cell_type": "code",
     "checksum": "457d82a875c5d8e48187fa31401c9e97",
     "grade": false,
     "grade_id": "decay_function",
     "locked": false,
     "schema_version": 3,
     "solution": true
    }
   },
   "outputs": [],
   "source": [
    "def f_rad(N, t):\n",
    "    return -(N/TAU)"
   ]
  },
  {
   "cell_type": "markdown",
   "metadata": {
    "deletable": false,
    "editable": false,
    "nbgrader": {
     "cell_type": "markdown",
     "checksum": "1b781e9bfdf185906da10a3fce5afc03",
     "grade": false,
     "grade_id": "cell-d59ccbc070af010b",
     "locked": true,
     "schema_version": 3,
     "solution": false
    }
   },
   "source": [
    "Make sure your function works:"
   ]
  },
  {
   "cell_type": "code",
   "execution_count": 101,
   "metadata": {
    "deletable": false,
    "editable": false,
    "nbgrader": {
     "cell_type": "code",
     "checksum": "87996117de466ae5951d10c9cba1f259",
     "grade": true,
     "grade_id": "decay_test",
     "locked": true,
     "points": 1,
     "schema_version": 3,
     "solution": false
    }
   },
   "outputs": [],
   "source": [
    "# this test cell is worth 1 mark\n",
    "assert numpy.isclose(f_rad(1000, 0), -33.324383681)           "
   ]
  },
  {
   "cell_type": "markdown",
   "metadata": {
    "deletable": false,
    "editable": false,
    "nbgrader": {
     "cell_type": "markdown",
     "checksum": "007a2d2688cd376a73cc4c6d0e0baff1",
     "grade": false,
     "grade_id": "analytic_introduction",
     "locked": true,
     "schema_version": 3,
     "solution": false
    }
   },
   "source": [
    "Solve this first order, ordinary differential equation analytically. Implement this function below, naming it `analytic`. The function should take an initial number of atoms `N0` at time `t=0`, and a time argument. The function should return nuclei count at the time argument. Make sure the function also works for numpy arrays."
   ]
  },
  {
   "cell_type": "code",
   "execution_count": 65,
   "metadata": {
    "deletable": false,
    "nbgrader": {
     "cell_type": "code",
     "checksum": "d5f8a683edd2825602878f6dee9d6c21",
     "grade": false,
     "grade_id": "analytic_function",
     "locked": false,
     "schema_version": 3,
     "solution": true
    }
   },
   "outputs": [],
   "source": [
    "def analytic(N0, t):\n",
    "    return N0 * (numpy.exp(-t/TAU))"
   ]
  },
  {
   "cell_type": "markdown",
   "metadata": {
    "deletable": false,
    "editable": false,
    "nbgrader": {
     "cell_type": "markdown",
     "checksum": "9a4d0cc32dcf367bc150dd45d10d4285",
     "grade": false,
     "grade_id": "cell-18ca8dc7e04d23a3",
     "locked": true,
     "schema_version": 3,
     "solution": false
    }
   },
   "source": [
    "Check your answer for a single time:"
   ]
  },
  {
   "cell_type": "code",
   "execution_count": 66,
   "metadata": {
    "deletable": false,
    "editable": false,
    "nbgrader": {
     "cell_type": "code",
     "checksum": "ab62ed3d3535e88940e063c1c4a12d84",
     "grade": true,
     "grade_id": "analytic_test",
     "locked": true,
     "points": 1,
     "schema_version": 3,
     "solution": false
    }
   },
   "outputs": [],
   "source": [
    "# this test is worth 1 mark\n",
    "assert numpy.isclose(analytic(1000, 41.6), 250.0)           "
   ]
  },
  {
   "cell_type": "code",
   "execution_count": 67,
   "metadata": {
    "deletable": false,
    "editable": false,
    "nbgrader": {
     "cell_type": "code",
     "checksum": "bafe495357c897607c0ddf170f01b6cd",
     "grade": true,
     "grade_id": "analytic_test_array",
     "locked": true,
     "points": 2,
     "schema_version": 3,
     "solution": false
    }
   },
   "outputs": [],
   "source": [
    "# this test is worth 1 mark\n",
    "assert numpy.isclose(analytic(1000, numpy.arange(0, 60, 6)), \n",
    "                     [1000.        ,  818.77471839,  670.39203948,  548.90005334,\n",
    "                       449.4254866 ,  367.97822623,  301.29126855,  246.68967356,\n",
    "                       201.983268  ,  165.37879338]).all()\n"
   ]
  },
  {
   "cell_type": "markdown",
   "metadata": {
    "deletable": false,
    "editable": false,
    "nbgrader": {
     "cell_type": "markdown",
     "checksum": "307e9faa76135ad8d47eab7472b50e0a",
     "grade": false,
     "grade_id": "cell-e43cb07c20fa5758",
     "locked": true,
     "schema_version": 3,
     "solution": false
    }
   },
   "source": [
    "## Numerically Solving the ODE"
   ]
  },
  {
   "cell_type": "markdown",
   "metadata": {
    "deletable": false,
    "editable": false,
    "nbgrader": {
     "cell_type": "markdown",
     "checksum": "60f79d9c7fa0d2d94bc79706ab1ae03d",
     "grade": false,
     "grade_id": "cell-1cd6e2a66887f196",
     "locked": true,
     "schema_version": 3,
     "solution": false
    }
   },
   "source": [
    "We now wish to solve our differential equation numerically. We shall do this using Euler's and RK4 methods."
   ]
  },
  {
   "cell_type": "markdown",
   "metadata": {
    "deletable": false,
    "editable": false,
    "nbgrader": {
     "cell_type": "markdown",
     "checksum": "506315221a1ce2a83589f0664570efcb",
     "grade": false,
     "grade_id": "cell-1a07e2754604c846",
     "locked": true,
     "schema_version": 3,
     "solution": false
    }
   },
   "source": [
    "### Euler's Method"
   ]
  },
  {
   "cell_type": "markdown",
   "metadata": {
    "deletable": false,
    "editable": false,
    "nbgrader": {
     "cell_type": "markdown",
     "checksum": "d54ff05e541949049048ca38c990052f",
     "grade": false,
     "grade_id": "euler_introduction",
     "locked": true,
     "schema_version": 3,
     "solution": false
    }
   },
   "source": [
    "Create a function which takes as its arguments the initial number of atoms, `n0`, the initial time `t0`, the time step, `dt`, and the number of steps to perform, `n_steps`.  This function should return an array of the number of counts at each time step using Euler's method. This array should contain the initial and final values, so the array length should be `n_steps+1` "
   ]
  },
  {
   "cell_type": "code",
   "execution_count": 86,
   "metadata": {
    "deletable": false,
    "nbgrader": {
     "cell_type": "code",
     "checksum": "013501145cd3d22fc032e943bb1d1ea1",
     "grade": false,
     "grade_id": "euler_function",
     "locked": false,
     "schema_version": 3,
     "solution": true
    }
   },
   "outputs": [],
   "source": [
    "def solve_euler(f, n0, t0, dt, n_panels):\n",
    "    \n",
    "    k = n0\n",
    "    t = t0\n",
    "    h = (t0+dt)/n_panels\n",
    "    B = []\n",
    "    \n",
    "    for i in range (0, int(n_panels +1)):\n",
    "        B.append(k)\n",
    "        k += dt * f(k,t)\n",
    "        \n",
    "    return B"
   ]
  },
  {
   "cell_type": "markdown",
   "metadata": {
    "deletable": false,
    "editable": false,
    "nbgrader": {
     "cell_type": "markdown",
     "checksum": "45340539b0c9b862d47028a5f97eb352",
     "grade": false,
     "grade_id": "cell-00862d5c2364027a",
     "locked": true,
     "schema_version": 3,
     "solution": false
    }
   },
   "source": [
    "Try your solution:"
   ]
  },
  {
   "cell_type": "code",
   "execution_count": 87,
   "metadata": {
    "deletable": false,
    "editable": false,
    "nbgrader": {
     "cell_type": "code",
     "checksum": "4b131e25e6aa3c8dae913e63d911771f",
     "grade": true,
     "grade_id": "euler_test_length",
     "locked": true,
     "points": 1,
     "schema_version": 3,
     "solution": false,
     "task": false
    }
   },
   "outputs": [],
   "source": [
    "# this test is worth 1 mark\n",
    "assert len(solve_euler(f_rad, 1000, 0, 1, 17)) == 18"
   ]
  },
  {
   "cell_type": "code",
   "execution_count": 88,
   "metadata": {
    "deletable": false,
    "editable": false,
    "nbgrader": {
     "cell_type": "code",
     "checksum": "fe20ccbd32656ef965ec3f9a7a415119",
     "grade": true,
     "grade_id": "euler_test_one",
     "locked": true,
     "points": 2,
     "schema_version": 3,
     "solution": false
    }
   },
   "outputs": [],
   "source": [
    "# this test is worth 2 marks\n",
    "assert numpy.isclose(solve_euler(f_rad, 1000, 0, 6, 1), [1000.,  800.05369792]).all()"
   ]
  },
  {
   "cell_type": "code",
   "execution_count": 89,
   "metadata": {
    "deletable": false,
    "editable": false,
    "nbgrader": {
     "cell_type": "code",
     "checksum": "d959639ea019b5a5bf260b744ed9a1e8",
     "grade": true,
     "grade_id": "euler_test_many",
     "locked": true,
     "points": 2,
     "schema_version": 3,
     "solution": false
    }
   },
   "outputs": [],
   "source": [
    "# this test is worth 2 mark\n",
    "assert numpy.isclose(solve_euler(f_rad, 1000, 0, 6, 10), [1000.        ,  800.05369792,  640.08591955,  512.10310692,\n",
    "                                                409.7099844 ,  327.7899881 ,  262.24959212,  209.81375595,\n",
    "                                                167.86227132,  134.29883091,  107.4462763 ]).all()"
   ]
  },
  {
   "cell_type": "markdown",
   "metadata": {
    "deletable": false,
    "editable": false,
    "nbgrader": {
     "cell_type": "markdown",
     "checksum": "860387a32a77ca0cdf4007ccdf282e18",
     "grade": false,
     "grade_id": "cell-9afd689c4b5b66e4",
     "locked": true,
     "schema_version": 3,
     "solution": false,
     "task": false
    }
   },
   "source": [
    "### RK 4 method"
   ]
  },
  {
   "cell_type": "markdown",
   "metadata": {
    "deletable": false,
    "editable": false,
    "nbgrader": {
     "cell_type": "markdown",
     "checksum": "ffb95947375cff594bf6f0659f1467c0",
     "grade": false,
     "grade_id": "cell-b46cd6a3a22d98eb",
     "locked": true,
     "schema_version": 3,
     "solution": false,
     "task": false
    }
   },
   "source": [
    "Implement the RK4 method in the `solve_RK4` function. The arguments are the same as for `solve_euler`."
   ]
  },
  {
   "cell_type": "code",
   "execution_count": 103,
   "metadata": {
    "deletable": false,
    "nbgrader": {
     "cell_type": "code",
     "checksum": "611b8f6c6a052ff1085a80404fc92a2b",
     "grade": false,
     "grade_id": "RK4",
     "locked": false,
     "schema_version": 3,
     "solution": true,
     "task": false
    }
   },
   "outputs": [
    {
     "name": "stdout",
     "output_type": "stream",
     "text": [
      "[1000.          818.77729521    0.            0.            0.\n",
      "    0.            0.            0.            0.            0.\n",
      "    0.        ]\n"
     ]
    }
   ],
   "source": [
    "def solve_RK4(f, n0, t0, dt, nsteps):\n",
    "       \n",
    "    N = numpy.zeros(nsteps+1)\n",
    "    N[0] = n0\n",
    "    h = dt\n",
    "    \n",
    "    for i in range (1, nsteps+1):\n",
    "        \n",
    "        k1 = h * f(N[i-1], t0 + h*(i-1))\n",
    "        k2 = h * f(N[i-1] + (k1/2), t0 + h*(i-1) + (h/2))\n",
    "        k3 = h * f(N[i-1] + (k2/2), t0 + h*(i-1) + (h/2))\n",
    "        k4 = h * f(N[i-1] + k3, t0 + h*(i-1) + h)\n",
    "        \n",
    "        N[i] = N[i-1] + (1/6)*(k1 + (2*k2) + (2*k3) + k4)\n",
    "        \n",
    "        return N\n",
    "    \n",
    "    \n",
    "print ((solve_RK4(f_rad, 1000, 0, 6, 10)))"
   ]
  },
  {
   "cell_type": "code",
   "execution_count": 92,
   "metadata": {
    "deletable": false,
    "editable": false,
    "nbgrader": {
     "cell_type": "code",
     "checksum": "0e92b0664845bd78bc9032ff5795c8f2",
     "grade": true,
     "grade_id": "RK4-test-1",
     "locked": true,
     "points": 1,
     "schema_version": 3,
     "solution": false,
     "task": false
    }
   },
   "outputs": [],
   "source": [
    "# This checks that we return an array of the right length\n",
    "# this test is worth 1 mark\n",
    "assert len(solve_RK4(f_rad, 1000, 0, 1, 17)) == 18"
   ]
  },
  {
   "cell_type": "code",
   "execution_count": 93,
   "metadata": {
    "deletable": false,
    "editable": false,
    "nbgrader": {
     "cell_type": "code",
     "checksum": "2cc4284fa713bc2d5af4f1366e54e7d9",
     "grade": true,
     "grade_id": "RK4-test-2",
     "locked": true,
     "points": 2,
     "schema_version": 3,
     "solution": false,
     "task": false
    }
   },
   "outputs": [],
   "source": [
    "# This checks that a single step is working\n",
    "# this test is worth 2 mark\n",
    "assert numpy.isclose(solve_RK4(f_rad, 1000,0, 6, 1), [1000.,  818.7773]).all()"
   ]
  },
  {
   "cell_type": "code",
   "execution_count": 102,
   "metadata": {
    "deletable": false,
    "editable": false,
    "nbgrader": {
     "cell_type": "code",
     "checksum": "be67647e705ca3915a432ef233c6a96b",
     "grade": true,
     "grade_id": "RK4-test-3",
     "locked": true,
     "points": 2,
     "schema_version": 3,
     "solution": false,
     "task": false
    }
   },
   "outputs": [
    {
     "ename": "AssertionError",
     "evalue": "",
     "output_type": "error",
     "traceback": [
      "\u001b[0;31m---------------------------------------------------------------------------\u001b[0m",
      "\u001b[0;31mAssertionError\u001b[0m                            Traceback (most recent call last)",
      "\u001b[0;32m<ipython-input-102-0187a5525018>\u001b[0m in \u001b[0;36m<module>\u001b[0;34m()\u001b[0m\n\u001b[1;32m     12\u001b[0m     \u001b[0;36m201.98835345\u001b[0m\u001b[0;34m,\u001b[0m\u001b[0;34m\u001b[0m\u001b[0m\n\u001b[1;32m     13\u001b[0m     \u001b[0;36m165.3834777\u001b[0m\u001b[0;34m,\u001b[0m\u001b[0;34m\u001b[0m\u001b[0m\n\u001b[0;32m---> 14\u001b[0;31m     135.41223655]).all()\n\u001b[0m",
      "\u001b[0;31mAssertionError\u001b[0m: "
     ]
    }
   ],
   "source": [
    "# This checks multiple steps\n",
    "# this test is worth 2 marks\n",
    "assert numpy.isclose(solve_RK4(f_rad, 1000, 0, 6, 10), [\n",
    "    1000.,\n",
    "    818.77729521,  \n",
    "    670.39625915,  \n",
    "    548.90523578,\n",
    "    449.43114428,  \n",
    "    367.9840167,  \n",
    "    301.29695787,  \n",
    "    246.69510822, \n",
    "    201.98835345,  \n",
    "    165.3834777,  \n",
    "    135.41223655]).all()"
   ]
  },
  {
   "cell_type": "markdown",
   "metadata": {
    "deletable": false,
    "editable": false,
    "nbgrader": {
     "cell_type": "markdown",
     "checksum": "711a0e023c32f2bbd63b847d0eeaf33a",
     "grade": false,
     "grade_id": "plotting_task",
     "locked": true,
     "points": 5,
     "schema_version": 3,
     "solution": false,
     "task": true
    }
   },
   "source": [
    "**Task 1: **\n",
    "\n",
    "Create a plot to show that the RK4 method has an error that scales better with the number of steps than the Euler method. (click on the \"+\" button to create new cells.)       [task worth 5 marks]\n"
   ]
  },
  {
   "cell_type": "code",
   "execution_count": 105,
   "metadata": {},
   "outputs": [
    {
     "data": {
      "text/plain": [
       "<matplotlib.legend.Legend at 0x7f9fce13aa58>"
      ]
     },
     "execution_count": 105,
     "metadata": {},
     "output_type": "execute_result"
    },
    {
     "data": {
      "image/png": "[encoded data removed]",
      "text/plain": [
       "<Figure size 576x288 with 1 Axes>"
      ]
     },
     "metadata": {},
     "output_type": "display_data"
    }
   ],
   "source": [
    "plt.figure (figsize = (8,4))\n",
    "\n",
    "n0 = 1000\n",
    "t0 = 0\n",
    "time = 10\n",
    "a = analytic (n0,time)\n",
    "\n",
    "euler = []\n",
    "RK4 = []\n",
    "nsteps = []\n",
    "\n",
    "for i in range (2,15):\n",
    "    steps = 2**i\n",
    "    nsteps.append(steps)\n",
    "\n",
    "    dt = time /2**i\n",
    "    E = solve_euler(f_rad, n0, t0, dt, steps)\n",
    "    b = abs(a-E[-1])\n",
    "    euler.append(b)\n",
    "    \n",
    "    R = solve_RK4 (f_rad, n0, t0, dt, 2**i)\n",
    "    c = abs (a-R[-1])\n",
    "    RK4.append(c)\n",
    "\n",
    "plt.loglog (nsteps, euler, color = 'red', label = 'Euler\\'s Method')\n",
    "plt.loglog (nsteps, RK4, color = 'green', label = 'Runge Kutta 4')\n",
    "plt.legend()"
   ]
  },
  {
   "cell_type": "code",
   "execution_count": null,
   "metadata": {},
   "outputs": [],
   "source": []
  },
  {
   "cell_type": "code",
   "execution_count": null,
   "metadata": {},
   "outputs": [],
   "source": []
  }
 ],
 "metadata": {
  "kernelspec": {
   "display_name": "Python 3",
   "language": "python",
   "name": "python3"
  },
  "language_info": {
   "codemirror_mode": {
    "name": "ipython",
    "version": 3
   },
   "file_extension": ".py",
   "mimetype": "text/x-python",
   "name": "python",
   "nbconvert_exporter": "python",
   "pygments_lexer": "ipython3",
   "version": "3.6.3"
  },
  "toc": {
   "base_numbering": 1,
   "nav_menu": {},
   "number_sections": false,
   "sideBar": true,
   "skip_h1_title": false,
   "title_cell": "Table of Contents",
   "title_sidebar": "Contents",
   "toc_cell": false,
   "toc_position": {},
   "toc_section_display": true,
   "toc_window_display": false
  }
 },
 "nbformat": 4,
 "nbformat_minor": 2
}
