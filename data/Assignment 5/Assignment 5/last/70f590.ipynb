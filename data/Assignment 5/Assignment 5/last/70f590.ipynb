{
 "cells": [
  {
   "cell_type": "markdown",
   "metadata": {
    "deletable": false,
    "editable": false,
    "nbgrader": {
     "cell_type": "markdown",
     "checksum": "99cbf87edda3e3e5292c2402de7d1b06",
     "grade": false,
     "grade_id": "cell-0867630144920503",
     "locked": true,
     "schema_version": 3,
     "solution": false
    }
   },
   "source": [
    "# <center>L2 Computational Physics</center>\n",
    "---\n",
    "\n",
    "## Week 5: Monte Carlo Methods\n",
    "\n",
    "In this notebook, you will simulate a system with of three nuclei $A$, $B$ and $C$ where $A$ decays into $B$ and $B$ decays into $C$. If exposed to a neutron flux nucleus $C$ can be activated into a nucleus $A$. "
   ]
  },
  {
   "cell_type": "code",
   "execution_count": 1,
   "metadata": {
    "deletable": false,
    "editable": false,
    "nbgrader": {
     "cell_type": "code",
     "checksum": "321569d9eb049b6c5b93fc8b54ba3f29",
     "grade": false,
     "grade_id": "cell-79b49b449ef54a80",
     "locked": true,
     "schema_version": 3,
     "solution": false
    }
   },
   "outputs": [],
   "source": [
    "import numpy\n",
    "from matplotlib import pyplot as plt\n",
    "import random"
   ]
  },
  {
   "cell_type": "markdown",
   "metadata": {
    "deletable": false,
    "editable": false,
    "nbgrader": {
     "cell_type": "markdown",
     "checksum": "d83a755092ba510666e3bf1badd76395",
     "grade": false,
     "grade_id": "cell-8fc424548b449218",
     "locked": true,
     "schema_version": 3,
     "solution": false,
     "task": false
    }
   },
   "source": [
    "Implement a function that tells whether a transition has occured, based on the transition probability and a random number. Use the random number `r` from `random.random()` and use the procedure described in the notes so that the checks can work in a reproducible way."
   ]
  },
  {
   "cell_type": "code",
   "execution_count": 2,
   "metadata": {
    "deletable": false,
    "nbgrader": {
     "cell_type": "code",
     "checksum": "63100f06b5143da8a8289b2beaef3328",
     "grade": false,
     "grade_id": "decay_function",
     "locked": false,
     "schema_version": 3,
     "solution": true,
     "task": false
    }
   },
   "outputs": [],
   "source": [
    "def has_transitioned(prob):\n",
    "    r = random.random()\n",
    "    return(prob>r)"
   ]
  },
  {
   "cell_type": "code",
   "execution_count": 3,
   "metadata": {
    "deletable": false,
    "editable": false,
    "nbgrader": {
     "cell_type": "code",
     "checksum": "c968197e1aeb831aef895bb6852e22dc",
     "grade": true,
     "grade_id": "decay_function_test",
     "locked": true,
     "points": 1,
     "schema_version": 3,
     "solution": false,
     "task": false
    }
   },
   "outputs": [],
   "source": [
    "# this test is worth 1 mark\n",
    "random.seed(9867)\n",
    "assert [ has_transitioned(0.5) for i in range(10)] == [False, False, True, False, False, False, False, True, False, True]"
   ]
  },
  {
   "cell_type": "markdown",
   "metadata": {
    "deletable": false,
    "editable": false,
    "nbgrader": {
     "cell_type": "markdown",
     "checksum": "863ef95dde1b79b2f6a45296474892d6",
     "grade": false,
     "grade_id": "cell-2145274701a17ae6",
     "locked": true,
     "schema_version": 3,
     "solution": false,
     "task": false
    }
   },
   "source": [
    "We are going to keep track of the state of the atoms using a either `'A'`, `'B'` or `'C'` for each nucleus. For example \n",
    "```python\n",
    "state = ['A', 'A', 'B', 'A', 'C']\n",
    "```\n",
    "\n",
    "We will capture the possible physical reaction in a list of allowed transitions such as\n",
    "\n",
    "`('A', 'B', 0.25 )`\n",
    "\n",
    "where the first element is the initial state, the second element is the final state of the transition and its probability in the time interval considered is the third argument.\n",
    "\n",
    "Define a function that takes as arguments the current state and a list of such transition rules and implements the transition (or not) and returns the new state"
   ]
  },
  {
   "cell_type": "code",
   "execution_count": 4,
   "metadata": {
    "deletable": false,
    "nbgrader": {
     "cell_type": "code",
     "checksum": "2f91185de0b99b2034ef740e8dc32826",
     "grade": false,
     "grade_id": "evolve_function",
     "locked": false,
     "schema_version": 3,
     "solution": true,
     "task": false
    }
   },
   "outputs": [],
   "source": [
    "def evolveOne(currentState, rules):\n",
    "    newState = []\n",
    "    check = []\n",
    "    for j in range(0,len(rules)):\n",
    "        check.append(rules[j][0])\n",
    "    if check.count(currentState) == 0:\n",
    "        return(currentState)\n",
    "    for i in range(0,len(rules)):\n",
    "        if currentState == rules[i][0]:\n",
    "            if has_transitioned(rules[i][2]) == True:\n",
    "                newState.append(rules[i][1])\n",
    "                return(newState[0])\n",
    "            else:\n",
    "                return(currentState)"
   ]
  },
  {
   "cell_type": "code",
   "execution_count": 5,
   "metadata": {
    "deletable": false,
    "editable": false,
    "nbgrader": {
     "cell_type": "code",
     "checksum": "3154c068da716f5153052e6df93ac3d8",
     "grade": true,
     "grade_id": "cell-7782dc2753905180",
     "locked": true,
     "points": 1,
     "schema_version": 3,
     "solution": false,
     "task": false
    }
   },
   "outputs": [],
   "source": [
    "# these tests are worth 1 mark\n",
    "alwaysDecayRules = [\n",
    "    ('A', 'B', 1.0),\n",
    "    ('B', 'C', 1.0)\n",
    "]\n",
    "assert evolveOne('A', alwaysDecayRules) == 'B'\n",
    "assert evolveOne('B', alwaysDecayRules) == 'C'"
   ]
  },
  {
   "cell_type": "code",
   "execution_count": 6,
   "metadata": {
    "deletable": false,
    "editable": false,
    "nbgrader": {
     "cell_type": "code",
     "checksum": "983368b2058fcebe4bbd9d999cedfccf",
     "grade": true,
     "grade_id": "cell-e2a70f6b9e202d32",
     "locked": true,
     "points": 2,
     "schema_version": 3,
     "solution": false,
     "task": false
    }
   },
   "outputs": [],
   "source": [
    "# these tests are worth 2 mark\n",
    "random.seed(112211)\n",
    "testRules = [\n",
    "    ('A', 'B', 0.33),\n",
    "    ('B', 'C', 0.75)\n",
    "]\n",
    "assert evolveOne('A', testRules) == 'A'\n",
    "assert evolveOne('A', testRules) == 'A'\n",
    "assert evolveOne('A', testRules) == 'A'\n",
    "assert evolveOne('A', testRules) == 'A'\n",
    "assert evolveOne('A', testRules) == 'B'\n",
    "\n",
    "assert evolveOne('B', testRules) == 'B'\n",
    "assert evolveOne('B', testRules) == 'C'\n",
    "assert evolveOne('B', testRules) == 'C'\n",
    "assert evolveOne('B', testRules) == 'C'\n",
    "assert evolveOne('B', testRules) == 'C'\n",
    "\n",
    "# with no rules there should be no change\n",
    "assert evolveOne('C', testRules) == 'C'\n"
   ]
  },
  {
   "cell_type": "markdown",
   "metadata": {
    "deletable": false,
    "editable": false,
    "nbgrader": {
     "cell_type": "markdown",
     "checksum": "3af513ec634c58060bda27a8f1577cc6",
     "grade": false,
     "grade_id": "cell-f97a55a8ad8bd3d4",
     "locked": true,
     "schema_version": 3,
     "solution": false,
     "task": false
    }
   },
   "source": [
    "Now implement a function that takes a list of states and transition them according to the rules passed as argument. This function should return a new vector of states, it should not modify the state passed as an argument!"
   ]
  },
  {
   "cell_type": "code",
   "execution_count": 7,
   "metadata": {
    "deletable": false,
    "nbgrader": {
     "cell_type": "code",
     "checksum": "881bb86514741777729e52d4e7343a8e",
     "grade": false,
     "grade_id": "cell-b6743e72d540ebc3",
     "locked": false,
     "schema_version": 3,
     "solution": true,
     "task": false
    }
   },
   "outputs": [],
   "source": [
    "def evolveMany(states, rules):\n",
    "    newState = []\n",
    "    check = []\n",
    "    for k in range(0,len(states)):\n",
    "        currentState = states[k]\n",
    "        \n",
    "        for j in range(0,len(rules)):\n",
    "            check.append(rules[j][0])\n",
    "        if check.count(currentState) == 0:\n",
    "            newState.append(currentState)\n",
    "        for i in range(0,len(rules)):\n",
    "            if currentState == rules[i][0]:\n",
    "                if has_transitioned(rules[i][2]) == True:\n",
    "                    newState.append(rules[i][1])\n",
    "                else:\n",
    "                    newState.append(currentState)\n",
    "    return newState\n"
   ]
  },
  {
   "cell_type": "code",
   "execution_count": 8,
   "metadata": {
    "deletable": false,
    "editable": false,
    "nbgrader": {
     "cell_type": "code",
     "checksum": "f807f087b273be2963f779816e5c8f9c",
     "grade": true,
     "grade_id": "cell-231f8396b20ac4be",
     "locked": true,
     "points": 1,
     "schema_version": 3,
     "solution": false,
     "task": false
    }
   },
   "outputs": [],
   "source": [
    "# these tests are worth 1 mark\n",
    "random.seed(112287)\n",
    "testRules = [\n",
    "    ('A', 'B', 0.33),\n",
    "    ('B', 'C', 0.75)\n",
    "]\n",
    "initialTestArray = ['A','B','C']*5\n",
    "evolvedTest = evolveMany(initialTestArray, testRules)\n",
    "targetArray = ['B', 'C', 'C', 'A', 'C', 'C', 'A', 'B', 'C', 'A', 'C', 'C', 'B', 'C', 'C'] \n",
    "assert evolvedTest == targetArray\n",
    "# checks the initial array is left unchanged\n",
    "assert initialTestArray == ['A','B','C']*5"
   ]
  },
  {
   "cell_type": "markdown",
   "metadata": {
    "deletable": false,
    "editable": false,
    "nbgrader": {
     "cell_type": "markdown",
     "checksum": "3601312254dc022b8bca15d56f4cc652",
     "grade": false,
     "grade_id": "cell-4ffbe8df7a50fafb",
     "locked": true,
     "schema_version": 3,
     "solution": false,
     "task": false
    }
   },
   "source": [
    "Define a function that evolves a system that starts with initial amounts `NA`, `NB` and `NC` of $A$, $B$ and $C$ nuclei and evolved it in `n_timestep` from time $t=0$ to $t=t_{max}$. The function should return three arrays, one for each atom type, of the number of nuclei of that type at each time step. Each array should contain `n_timestep+1` elements including the initial amount. \n",
    " "
   ]
  },
  {
   "cell_type": "code",
   "execution_count": 9,
   "metadata": {
    "deletable": false,
    "nbgrader": {
     "cell_type": "code",
     "checksum": "8082bfd4e4ee17ba3850ef6615c21373",
     "grade": false,
     "grade_id": "evolve_system",
     "locked": false,
     "schema_version": 3,
     "solution": true,
     "task": false
    }
   },
   "outputs": [],
   "source": [
    "def evolve_system1(NA, NB, NC, rules, n_step):\n",
    "    state = (['A'] * NA)+(['B'] * NB)+(['C'] * NC)\n",
    "    A_count = numpy.zeros(n_step+1)\n",
    "    B_count = numpy.zeros(n_step+1)\n",
    "    C_count = numpy.zeros(n_step+1)\n",
    "    A = [NA]\n",
    "    B = [NB]\n",
    "    C = [NC]\n",
    "    A_count[0] = NA\n",
    "    B_count[0] = NB\n",
    "    C_count[0] = NC\n",
    "    tmax = 100\n",
    "    dt = tmax/n_step\n",
    "    for i in range(1,n_step+1):\n",
    "        #Nuclei A\n",
    "        for i in range(0,NA):\n",
    "            if has_transitioned(rules[0][2]) == True:\n",
    "                NA = NA-1\n",
    "                NB = NB+1\n",
    "        for j in range(0,NB):\n",
    "            if has_transitioned(rules[1][2]) == True:\n",
    "                NB = NB-1\n",
    "                NC = NC+1\n",
    "        for k in range(0,NC):    \n",
    "            if has_transitioned(rules[2][2]) == True:\n",
    "                NC = NC-1\n",
    "                NA = NA+1\n",
    "        A.append(NA)\n",
    "        B.append(NB)\n",
    "        C.append(NC)\n",
    "    for j in range(1,n_step+1):\n",
    "        A_count[j] = A[j]\n",
    "        B_count[j] = B[j]\n",
    "        C_count[j] = C[j]\n",
    "        \n",
    "\n",
    "    # YOUR CODE HERE\n",
    "    return A_count, B_count, C_count"
   ]
  },
  {
   "cell_type": "code",
   "execution_count": 10,
   "metadata": {},
   "outputs": [],
   "source": [
    "def evolve_system(NA, NB, NC, rules, n_step):\n",
    "    state = (['A'] * NA)+(['B'] * NB)+(['C'] * NC)\n",
    "    A_count = numpy.zeros(n_step+1)\n",
    "    B_count = numpy.zeros(n_step+1)\n",
    "    C_count = numpy.zeros(n_step+1)\n",
    "    A_count[0] = NA\n",
    "    B_count[0] = NB\n",
    "    C_count[0] = NC\n",
    "    for i in range(1,n_step+1):\n",
    "        state = evolveMany(state,rules)\n",
    "        NA = state.count('A')\n",
    "        NB = state.count('B')\n",
    "        NC = state.count('C')\n",
    "        A_count[i] = NA \n",
    "        B_count[i] = NB\n",
    "        C_count[i] = NC\n",
    "        \n",
    "    \n",
    "    \n",
    "    return A_count, B_count, C_count"
   ]
  },
  {
   "cell_type": "code",
   "execution_count": 11,
   "metadata": {
    "deletable": false,
    "editable": false,
    "nbgrader": {
     "cell_type": "code",
     "checksum": "3b3bf314834ca58cf7496a0087016ea3",
     "grade": true,
     "grade_id": "evolve_system_length",
     "locked": true,
     "points": 2,
     "schema_version": 3,
     "solution": false,
     "task": false
    }
   },
   "outputs": [],
   "source": [
    "# these tests are worth 2 marks\n",
    "rules = [\n",
    "    ('A', 'B', 0.0033),\n",
    "    ('B', 'C', 0.0075),\n",
    "    ('C', 'A', 0.009)\n",
    "    \n",
    "]\n",
    "\n",
    "r1, r2, r3 = evolve_system(0,0,250, rules, 17)\n",
    "assert len(r1) == 18\n",
    "assert len(r2) == 18\n",
    "assert len(r3) == 18"
   ]
  },
  {
   "cell_type": "code",
   "execution_count": 12,
   "metadata": {
    "deletable": false,
    "editable": false,
    "nbgrader": {
     "cell_type": "code",
     "checksum": "a441fb953d79363e24e99d7b6ffe791b",
     "grade": true,
     "grade_id": "evolve_system_values",
     "locked": true,
     "points": 2,
     "schema_version": 3,
     "solution": false,
     "task": false
    }
   },
   "outputs": [],
   "source": [
    "# these tests are worth 2 marks \n",
    "testrules = [\n",
    "    ('A', 'B', 0.086),\n",
    "    ('B', 'C', 0.075),\n",
    "    ('C', 'A', 0.19)\n",
    "    \n",
    "]\n",
    "\n",
    "random.seed(9485)\n",
    "r1, r2, r3 = evolve_system(200,200,200, testrules, 20)\n",
    "assert (r1 == [200, 213, 233, 250, 258, 251, 266, 263, 259, 260, 265, 259, 256,\n",
    "        255, 258, 256, 259, 253, 249, 247, 253]).all()\n",
    "assert (r2 == [200, 198, 201, 206, 205, 214, 214, 212, 216, 221, 225, 234, 236,\n",
    "        238, 234, 235, 231, 245, 253, 256, 252]).all()\n",
    "assert (r3 == [200, 189, 166, 144, 137, 135, 120, 125, 125, 119, 110, 107, 108,\n",
    "        107, 108, 109, 110, 102,  98,  97,  95]).all()"
   ]
  },
  {
   "cell_type": "markdown",
   "metadata": {},
   "source": [
    "## Plotting tasks"
   ]
  },
  {
   "cell_type": "markdown",
   "metadata": {
    "deletable": false,
    "editable": false,
    "nbgrader": {
     "cell_type": "markdown",
     "checksum": "758dd7618631763e50b6c8506eb935b1",
     "grade": false,
     "grade_id": "system_plot",
     "locked": true,
     "points": 8,
     "schema_version": 3,
     "solution": false,
     "task": true
    }
   },
   "source": [
    "Create a plot with the number of $A$, $B$ and $C$ nuclei, starting with 250 $C$ nuclei and evolving the system for 100 hours using 200 steps and with neutron flux on. Evolve the system for another 100 hours (using 200 steps) without neutron flux (i.e. no transitions from $C$ to $A$).  \n",
    "\n",
    "The half life of the $A$ atoms is 10.1 hours, the half life of $B$ nuclei is 15.7 hours and we can caracterise the rate of activation of $C$ into $A$ when the neutron flux is on with and effective half-life of 3.2 hours.\n",
    "\n",
    "The plot should have the appropriate labels and legend. [8 marks]    \n",
    "\n",
    "\n"
   ]
  },
  {
   "cell_type": "code",
   "execution_count": 13,
   "metadata": {
    "scrolled": false
   },
   "outputs": [
    {
     "data": {
      "text/plain": [
       "Text(0.5,1,'Evolution of A, B, and C nuclei over 200 hours; 100 hours with neutron flux, 100 without')"
      ]
     },
     "execution_count": 13,
     "metadata": {},
     "output_type": "execute_result"
    },
    {
     "data": {
      "image/png": "[encoded data removed]",
      "text/plain": [
       "<Figure size 864x576 with 1 Axes>"
      ]
     },
     "metadata": {},
     "output_type": "display_data"
    }
   ],
   "source": [
    "#def evolve_systemnflux(NA, NB, NC, rules, n_step):\n",
    "#    state = (['A'] * NA)+(['B'] * NB)+(['C'] * NC)\n",
    "#\n",
    "#    A_count = numpy.zeros(n_step+1)\n",
    "#    B_count = numpy.zeros(n_step+1)\n",
    "#    C_count = numpy.zeros(n_step+1)\n",
    "#    A = [NA]\n",
    "#    B = [NB]\n",
    "#    C = [NC]\n",
    "#    A_count[0] = NA\n",
    "#    B_count[0] = NB\n",
    "#    C_count[0] = NC\n",
    "#    tmax = 100\n",
    "#    dt = tmax/n_step\n",
    "#    for i in range(1,n_step+1):\n",
    "#        #Nuclei A\n",
    "#        for i in range(0,NA):\n",
    "#            if has_transitioned(rules[0][2]) == True:\n",
    "#                NA = NA-1\n",
    "#                NB = NB+1\n",
    "#        for j in range(0,NB):\n",
    "#            if has_transitioned(rules[1][2]) == True:\n",
    "#                NB = NB-1\n",
    "#                NC = NC+1\n",
    "#        A.append(NA)\n",
    "#        B.append(NB)\n",
    "#        C.append(NC)\n",
    "#    for j in range(1,n_step+1):\n",
    "#        A_count[j] = A[j]\n",
    "#        B_count[j] = B[j]\n",
    "#        C_count[j] = C[j]\n",
    "#\n",
    "#\n",
    "#    # YOUR CODE HERE\n",
    "#    return A_count, B_count, C_count\n",
    "nsteps = 200\n",
    "t_total = 100\n",
    "t_half_A = 10.1\n",
    "t_half_B = 15.7\n",
    "t_half_C = 3.2\n",
    "testflux = [\n",
    "    ('A', 'B', ((t_total/nsteps)/t_half_A)),\n",
    "    ('B', 'C', ((t_total/nsteps)/t_half_B)),\n",
    "    ('C', 'A', ((t_total/nsteps)/t_half_C))\n",
    "]\n",
    "testnflux = [\n",
    "    ('A', 'B', ((t_total/nsteps)/t_half_A)),\n",
    "    ('B', 'C', ((t_total/nsteps)/t_half_B))\n",
    "]\n",
    "x = []\n",
    "for i in range(0,(nsteps+1)*2):\n",
    "    x.append(i*0.5)\n",
    "flux = numpy.array(evolve_system(0,0,250,testflux,200))\n",
    "A1 = flux[0,:]\n",
    "B1 = flux[1,:]\n",
    "C1 = flux[2,:]\n",
    "An = int(A1[-1])\n",
    "Bn = int(B1[-1])\n",
    "Cn = int(C1[-1])\n",
    "nflux = numpy.array(evolve_system(An,Bn,Cn,testnflux,200))\n",
    "A2 = nflux[0,:]\n",
    "B2 = nflux[1,:]\n",
    "C2 = nflux[2,:]\n",
    "yA = numpy.append(A1,A2)\n",
    "yB = numpy.append(B1,B2)\n",
    "yC = numpy.append(C1,C2)\n",
    "plt.figure(figsize = (12,8))\n",
    "plt.plot(x,yA,label = 'A nuclei')\n",
    "plt.plot(x,yB,label = 'B nuclei')\n",
    "plt.plot(x,yC,label = 'C nuclei')\n",
    "xhalf = [100,100]\n",
    "yhalf = [0,250]\n",
    "plt.plot(xhalf,yhalf, linestyle = '--', label = \"Flux partition\")\n",
    "plt.xlim(0,200)\n",
    "plt.ylim(0,250)\n",
    "plt.legend()\n",
    "plt.ylabel('Number of remaining nuclei')\n",
    "plt.xlabel('Time/hours')\n",
    "plt.title('Evolution of A, B, and C nuclei over 200 hours; 100 hours with neutron flux, 100 without')"
   ]
  },
  {
   "cell_type": "markdown",
   "metadata": {
    "deletable": false,
    "editable": false,
    "nbgrader": {
     "cell_type": "markdown",
     "checksum": "8d62922ae8b327e13a0284b44033ccfb",
     "grade": false,
     "grade_id": "average_uncertainty_plot",
     "locked": true,
     "points": 3,
     "schema_version": 3,
     "solution": false,
     "task": true
    }
   },
   "source": [
    "Run the above simulation 20 times with 200 steps and use the results to calculate an average and the uncertainty on the number of $A$ atoms as a function of time. Use and `errorbar` plot for it. You might be interested in the `numpy.average` and `numpy.std` functions. The plot should have axis labels and a title.  [3 marks]\n"
   ]
  },
  {
   "cell_type": "code",
   "execution_count": 14,
   "metadata": {},
   "outputs": [
    {
     "data": {
      "text/plain": [
       "Text(0.5,1,'Average number of remaining A nuclei over 20 simulations, with standard deviation errorbars')"
      ]
     },
     "execution_count": 14,
     "metadata": {},
     "output_type": "execute_result"
    },
    {
     "data": {
      "image/png": "[encoded data removed]",
      "text/plain": [
       "<Figure size 864x576 with 1 Axes>"
      ]
     },
     "metadata": {},
     "output_type": "display_data"
    }
   ],
   "source": [
    "nsim = 20\n",
    "mess = []\n",
    "for i in range(0,nsim):\n",
    "    big_mess = numpy.array([])\n",
    "    nsteps = 200\n",
    "    t_total = 100\n",
    "    t_half_A = 10.1\n",
    "    t_half_B = 15.7\n",
    "    t_half_C = 3.2\n",
    "    testflux = [\n",
    "        ('A', 'B', ((t_total/nsteps)/t_half_A)),\n",
    "        ('B', 'C', ((t_total/nsteps)/t_half_B)),\n",
    "        ('C', 'A', ((t_total/nsteps)/t_half_C))\n",
    "    ]\n",
    "    stnflux = [\n",
    "    ('A', 'B', ((t_total/nsteps)/t_half_A)),\n",
    "    ('B', 'C', ((t_total/nsteps)/t_half_B)),\n",
    "    ]\n",
    "    flux = numpy.array(evolve_system(0,0,250,testflux,200))\n",
    "    A1 = flux[0,:]\n",
    "    B1 = flux[1,:]\n",
    "    C1 = flux[2,:]\n",
    "    An = int(A1[-1])\n",
    "    Bn = int(B1[-1])\n",
    "    Cn = int(C1[-1])\n",
    "    nflux = numpy.array(evolve_system(An,Bn,Cn,testnflux,200))\n",
    "    A2 = nflux[0,:]\n",
    "    B2 = nflux[1,:]\n",
    "    C2 = nflux[2,:]\n",
    "    yA = numpy.append(A1,A2)\n",
    "    yB = numpy.append(B1,B2)\n",
    "    yC = numpy.append(C1,C2)\n",
    "    mess.append(yA)\n",
    "ymean = numpy.zeros(402)\n",
    "ydev = numpy.zeros(402)\n",
    "for i in range(0,402):\n",
    "    ytemp = []\n",
    "    for j in range(0,nsim):\n",
    "        ytemp.append(mess[j][i])\n",
    "    ymean[i]= numpy.average(ytemp)\n",
    "    ydev[i]= numpy.std(ytemp)\n",
    "x=[]\n",
    "for i in range(0,402):\n",
    "    x.append(i*0.5)\n",
    "plt.figure(figsize = (12,8))\n",
    "plt.errorbar(x,ymean,ydev,ecolor='blue',color = 'black')\n",
    "plt.xlim(0,200)\n",
    "plt.ylim(0,200)\n",
    "plt.ylabel('Number of remaining A nuclei')\n",
    "plt.xlabel('Time/hours')\n",
    "plt.title('Average number of remaining A nuclei over 20 simulations, with standard deviation errorbars')"
   ]
  },
  {
   "cell_type": "code",
   "execution_count": 15,
   "metadata": {},
   "outputs": [
    {
     "data": {
      "text/plain": [
       "0.0"
      ]
     },
     "execution_count": 15,
     "metadata": {},
     "output_type": "execute_result"
    }
   ],
   "source": [
    "mess[19][0]"
   ]
  },
  {
   "cell_type": "code",
   "execution_count": 16,
   "metadata": {},
   "outputs": [
    {
     "data": {
      "text/plain": [
       "Text(0.5,1,'Average number of remaining A nuclei over 20 simulations, with standard deviation errorbars')"
      ]
     },
     "execution_count": 16,
     "metadata": {},
     "output_type": "execute_result"
    },
    {
     "data": {
      "image/png": "[encoded data removed]",
      "text/plain": [
       "<Figure size 864x576 with 1 Axes>"
      ]
     },
     "metadata": {},
     "output_type": "display_data"
    }
   ],
   "source": [
    "ymean = numpy.zeros(402)\n",
    "ydev = numpy.zeros(402)\n",
    "for i in range(0,402):\n",
    "    ytemp = []\n",
    "    for j in range(0,nsim):\n",
    "        ytemp.append(mess[j][i])\n",
    "    ymean[i]= numpy.average(ytemp)\n",
    "    ydev[i]= numpy.std(ytemp)\n",
    "x=[]\n",
    "for i in range(0,402):\n",
    "    x.append(i*0.5)\n",
    "plt.figure(figsize = (12,8))\n",
    "plt.errorbar(x,ymean,ydev,ecolor='b',color = 'black')\n",
    "plt.xlim(0,200)\n",
    "plt.ylim(0,200)\n",
    "plt.ylabel('Number of remaining A nuclei')\n",
    "plt.xlabel('Time/hours')\n",
    "plt.title('Average number of remaining A nuclei over 20 simulations, with standard deviation errorbars')"
   ]
  },
  {
   "cell_type": "code",
   "execution_count": 17,
   "metadata": {},
   "outputs": [
    {
     "ename": "SyntaxError",
     "evalue": "unexpected EOF while parsing (<ipython-input-17-8937886bac50>, line 2)",
     "output_type": "error",
     "traceback": [
      "\u001b[0;36m  File \u001b[0;32m\"<ipython-input-17-8937886bac50>\"\u001b[0;36m, line \u001b[0;32m2\u001b[0m\n\u001b[0;31m    ('B', 'C', ((t_total/nsteps)/t_half_B),\u001b[0m\n\u001b[0m                                           ^\u001b[0m\n\u001b[0;31mSyntaxError\u001b[0m\u001b[0;31m:\u001b[0m unexpected EOF while parsing\n"
     ]
    }
   ],
   "source": [
    "    ('A', 'B', ((t_total/nsteps)/t_half_A),\n",
    "    ('B', 'C', ((t_total/nsteps)/t_half_B),"
   ]
  },
  {
   "cell_type": "code",
   "execution_count": null,
   "metadata": {},
   "outputs": [],
   "source": []
  },
  {
   "cell_type": "code",
   "execution_count": null,
   "metadata": {},
   "outputs": [],
   "source": []
  },
  {
   "cell_type": "code",
   "execution_count": null,
   "metadata": {},
   "outputs": [],
   "source": []
  },
  {
   "cell_type": "code",
   "execution_count": null,
   "metadata": {},
   "outputs": [],
   "source": []
  },
  {
   "cell_type": "code",
   "execution_count": null,
   "metadata": {},
   "outputs": [],
   "source": []
  },
  {
   "cell_type": "code",
   "execution_count": null,
   "metadata": {},
   "outputs": [],
   "source": []
  }
 ],
 "metadata": {
  "kernelspec": {
   "display_name": "Python 3",
   "language": "python",
   "name": "python3"
  },
  "language_info": {
   "codemirror_mode": {
    "name": "ipython",
    "version": 3
   },
   "file_extension": ".py",
   "mimetype": "text/x-python",
   "name": "python",
   "nbconvert_exporter": "python",
   "pygments_lexer": "ipython3",
   "version": "3.6.3"
  },
  "toc": {
   "base_numbering": 1,
   "nav_menu": {},
   "number_sections": false,
   "sideBar": true,
   "skip_h1_title": false,
   "title_cell": "Table of Contents",
   "title_sidebar": "Contents",
   "toc_cell": false,
   "toc_position": {},
   "toc_section_display": true,
   "toc_window_display": false
  }
 },
 "nbformat": 4,
 "nbformat_minor": 2
}
