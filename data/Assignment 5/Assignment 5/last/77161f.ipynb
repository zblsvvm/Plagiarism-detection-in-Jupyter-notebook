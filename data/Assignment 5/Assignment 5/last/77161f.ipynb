{
 "cells": [
  {
   "cell_type": "markdown",
   "metadata": {
    "deletable": false,
    "editable": false,
    "nbgrader": {
     "cell_type": "markdown",
     "checksum": "99cbf87edda3e3e5292c2402de7d1b06",
     "grade": false,
     "grade_id": "cell-0867630144920503",
     "locked": true,
     "schema_version": 3,
     "solution": false
    }
   },
   "source": [
    "# <center>L2 Computational Physics</center>\n",
    "---\n",
    "\n",
    "## Week 5: Monte Carlo Methods\n",
    "\n",
    "In this notebook, you will simulate a system with of three nuclei $A$, $B$ and $C$ where $A$ decays into $B$ and $B$ decays into $C$. If exposed to a neutron flux nucleus $C$ can be activated into a nucleus $A$. "
   ]
  },
  {
   "cell_type": "code",
   "execution_count": 29,
   "metadata": {
    "deletable": false,
    "editable": false,
    "nbgrader": {
     "cell_type": "code",
     "checksum": "321569d9eb049b6c5b93fc8b54ba3f29",
     "grade": false,
     "grade_id": "cell-79b49b449ef54a80",
     "locked": true,
     "schema_version": 3,
     "solution": false
    }
   },
   "outputs": [],
   "source": [
    "import numpy\n",
    "from matplotlib import pyplot as plt\n",
    "import random"
   ]
  },
  {
   "cell_type": "markdown",
   "metadata": {
    "deletable": false,
    "editable": false,
    "nbgrader": {
     "cell_type": "markdown",
     "checksum": "d83a755092ba510666e3bf1badd76395",
     "grade": false,
     "grade_id": "cell-8fc424548b449218",
     "locked": true,
     "schema_version": 3,
     "solution": false,
     "task": false
    }
   },
   "source": [
    "Implement a function that tells whether a transition has occured, based on the transition probability and a random number. Use the random number `r` from `random.random()` and use the procedure described in the notes so that the checks can work in a reproducible way."
   ]
  },
  {
   "cell_type": "code",
   "execution_count": 30,
   "metadata": {
    "deletable": false,
    "nbgrader": {
     "cell_type": "code",
     "checksum": "63100f06b5143da8a8289b2beaef3328",
     "grade": false,
     "grade_id": "decay_function",
     "locked": false,
     "schema_version": 3,
     "solution": true,
     "task": false
    }
   },
   "outputs": [],
   "source": [
    "def has_transitioned(prob):\n",
    "    r = random.random()\n",
    "    return r < 0.5\n",
    "\n",
    "    "
   ]
  },
  {
   "cell_type": "code",
   "execution_count": 31,
   "metadata": {
    "deletable": false,
    "editable": false,
    "nbgrader": {
     "cell_type": "code",
     "checksum": "c968197e1aeb831aef895bb6852e22dc",
     "grade": true,
     "grade_id": "decay_function_test",
     "locked": true,
     "points": 1,
     "schema_version": 3,
     "solution": false,
     "task": false
    }
   },
   "outputs": [],
   "source": [
    "# this test is worth 1 mark\n",
    "random.seed(9867)\n",
    "assert [ has_transitioned(0.5) for i in range(10)] == [False, False, True, False, False, False, False, True, False, True]"
   ]
  },
  {
   "cell_type": "markdown",
   "metadata": {
    "deletable": false,
    "editable": false,
    "nbgrader": {
     "cell_type": "markdown",
     "checksum": "863ef95dde1b79b2f6a45296474892d6",
     "grade": false,
     "grade_id": "cell-2145274701a17ae6",
     "locked": true,
     "schema_version": 3,
     "solution": false,
     "task": false
    }
   },
   "source": [
    "We are going to keep track of the state of the atoms using a either `'A'`, `'B'` or `'C'` for each nucleus. For example \n",
    "```python\n",
    "state = ['A', 'A', 'B', 'A', 'C']\n",
    "```\n",
    "\n",
    "We will capture the possible physical reaction in a list of allowed transitions such as\n",
    "\n",
    "`('A', 'B', 0.25 )`\n",
    "\n",
    "where the first element is the initial state, the second element is the final state of the transition and its probability in the time interval considered is the third argument.\n",
    "\n",
    "Define a function that takes as arguments the current state and a list of such transition rules and implements the transition (or not) and returns the new state"
   ]
  },
  {
   "cell_type": "code",
   "execution_count": 32,
   "metadata": {
    "deletable": false,
    "nbgrader": {
     "cell_type": "code",
     "checksum": "2f91185de0b99b2034ef740e8dc32826",
     "grade": false,
     "grade_id": "evolve_function",
     "locked": false,
     "schema_version": 3,
     "solution": true,
     "task": false
    }
   },
   "outputs": [],
   "source": [
    "def evolveOne(currentState, rules):\n",
    "    output =[] \n",
    "    # Loops over each current state\n",
    "    for i in range(len(currentState)):\n",
    "        rule_used = False # Boolean flag for rule use\n",
    "        # Loops over each rule\n",
    "        for j in range(len(rules)):\n",
    "            # Checks if rule is relevant to current state\n",
    "            if currentState[i]==rules[j][0]:\n",
    "                rule_used = True\n",
    "                r = random.random()\n",
    "                # Checks for decay\n",
    "                if r < rules[j][2]:\n",
    "                    output.append(rules[j][1])\n",
    "                else:\n",
    "                    output.append(currentState[i])\n",
    "        if not rule_used:\n",
    "            output.append(currentState[i]) # Checks if rule has been used\n",
    "            \n",
    "    return output[0]"
   ]
  },
  {
   "cell_type": "code",
   "execution_count": 33,
   "metadata": {
    "deletable": false,
    "editable": false,
    "nbgrader": {
     "cell_type": "code",
     "checksum": "3154c068da716f5153052e6df93ac3d8",
     "grade": true,
     "grade_id": "cell-7782dc2753905180",
     "locked": true,
     "points": 1,
     "schema_version": 3,
     "solution": false,
     "task": false
    }
   },
   "outputs": [],
   "source": [
    "# these tests are worth 1 mark\n",
    "alwaysDecayRules = [\n",
    "    ('A', 'B', 1.0),\n",
    "    ('B', 'C', 1.0)\n",
    "]\n",
    "assert evolveOne('A', alwaysDecayRules) == 'B'\n",
    "assert evolveOne('B', alwaysDecayRules) == 'C'"
   ]
  },
  {
   "cell_type": "code",
   "execution_count": 34,
   "metadata": {
    "deletable": false,
    "editable": false,
    "nbgrader": {
     "cell_type": "code",
     "checksum": "983368b2058fcebe4bbd9d999cedfccf",
     "grade": true,
     "grade_id": "cell-e2a70f6b9e202d32",
     "locked": true,
     "points": 2,
     "schema_version": 3,
     "solution": false,
     "task": false
    }
   },
   "outputs": [],
   "source": [
    "# these tests are worth 2 mark\n",
    "random.seed(112211)\n",
    "testRules = [\n",
    "    ('A', 'B', 0.33),\n",
    "    ('B', 'C', 0.75)\n",
    "]\n",
    "assert evolveOne('A', testRules) == 'A'\n",
    "assert evolveOne('A', testRules) == 'A'\n",
    "assert evolveOne('A', testRules) == 'A'\n",
    "assert evolveOne('A', testRules) == 'A'\n",
    "assert evolveOne('A', testRules) == 'B'\n",
    "\n",
    "assert evolveOne('B', testRules) == 'B'\n",
    "assert evolveOne('B', testRules) == 'C'\n",
    "assert evolveOne('B', testRules) == 'C'\n",
    "assert evolveOne('B', testRules) == 'C'\n",
    "assert evolveOne('B', testRules) == 'C'\n",
    "\n",
    "# with no rules there should be no change\n",
    "assert evolveOne('C', testRules) == 'C'\n"
   ]
  },
  {
   "cell_type": "markdown",
   "metadata": {
    "deletable": false,
    "editable": false,
    "nbgrader": {
     "cell_type": "markdown",
     "checksum": "3af513ec634c58060bda27a8f1577cc6",
     "grade": false,
     "grade_id": "cell-f97a55a8ad8bd3d4",
     "locked": true,
     "schema_version": 3,
     "solution": false,
     "task": false
    }
   },
   "source": [
    "Now implement a function that takes a list of states and transition them according to the rules passed as argument. This function should return a new vector of states, it should not modify the state passed as an argument!"
   ]
  },
  {
   "cell_type": "code",
   "execution_count": 35,
   "metadata": {
    "deletable": false,
    "nbgrader": {
     "cell_type": "code",
     "checksum": "881bb86514741777729e52d4e7343a8e",
     "grade": false,
     "grade_id": "cell-b6743e72d540ebc3",
     "locked": false,
     "schema_version": 3,
     "solution": true,
     "task": false
    }
   },
   "outputs": [],
   "source": [
    "def evolveMany(states, rules):\n",
    "    newState =[] \n",
    "    # Loops over each current state\n",
    "    for i in range(len(states)):\n",
    "        rule_used = False # Boolean flag for rule use\n",
    "        # Loops over each rule\n",
    "        for j in range(len(rules)):\n",
    "            # Checks if rule is relevant to current state\n",
    "            if states[i]==rules[j][0]:\n",
    "                rule_used = True\n",
    "                r = random.random()\n",
    "                # Checks for decay\n",
    "                if r < rules[j][2]:\n",
    "                    newState.append(rules[j][1])\n",
    "                else:\n",
    "                    newState.append(states[i])\n",
    "        if not rule_used:\n",
    "            newState.append(states[i]) # Checks if rule has been used\n",
    "    return newState\n"
   ]
  },
  {
   "cell_type": "code",
   "execution_count": 36,
   "metadata": {
    "deletable": false,
    "editable": false,
    "nbgrader": {
     "cell_type": "code",
     "checksum": "f807f087b273be2963f779816e5c8f9c",
     "grade": true,
     "grade_id": "cell-231f8396b20ac4be",
     "locked": true,
     "points": 1,
     "schema_version": 3,
     "solution": false,
     "task": false
    }
   },
   "outputs": [],
   "source": [
    "# these tests are worth 1 mark\n",
    "random.seed(112287)\n",
    "testRules = [\n",
    "    ('A', 'B', 0.33),\n",
    "    ('B', 'C', 0.75)\n",
    "]\n",
    "initialTestArray = ['A','B','C']*5\n",
    "evolvedTest = evolveMany(initialTestArray, testRules)\n",
    "targetArray = ['B', 'C', 'C', 'A', 'C', 'C', 'A', 'B', 'C', 'A', 'C', 'C', 'B', 'C', 'C'] \n",
    "assert evolvedTest == targetArray\n",
    "# checks the initial array is left unchanged\n",
    "assert initialTestArray == ['A','B','C']*5"
   ]
  },
  {
   "cell_type": "markdown",
   "metadata": {
    "deletable": false,
    "editable": false,
    "nbgrader": {
     "cell_type": "markdown",
     "checksum": "3601312254dc022b8bca15d56f4cc652",
     "grade": false,
     "grade_id": "cell-4ffbe8df7a50fafb",
     "locked": true,
     "schema_version": 3,
     "solution": false,
     "task": false
    }
   },
   "source": [
    "Define a function that evolves a system that starts with initial amounts `NA`, `NB` and `NC` of $A$, $B$ and $C$ nuclei and evolved it in `n_timestep` from time $t=0$ to $t=t_{max}$. The function should return three arrays, one for each atom type, of the number of nuclei of that type at each time step. Each array should contain `n_timestep+1` elements including the initial amount. \n",
    " "
   ]
  },
  {
   "cell_type": "code",
   "execution_count": 37,
   "metadata": {
    "deletable": false,
    "nbgrader": {
     "cell_type": "code",
     "checksum": "8082bfd4e4ee17ba3850ef6615c21373",
     "grade": false,
     "grade_id": "evolve_system",
     "locked": false,
     "schema_version": 3,
     "solution": true,
     "task": false
    }
   },
   "outputs": [],
   "source": [
    "def evolve_system(NA, NB, NC, rules, n_step):\n",
    "    state = (['A'] * NA)+(['B'] * NB)+(['C'] * NC)\n",
    "    \n",
    "    A_count = numpy.empty(n_step + 1, dtype=int)\n",
    "    B_count = numpy.empty(n_step + 1, dtype=int)\n",
    "    C_count = numpy.empty(n_step + 1, dtype=int)\n",
    "    \n",
    "    for step in range(n_step+1):\n",
    "        # Counts current numbers\n",
    "        A_count[step] = state.count('A')\n",
    "        B_count[step] = state.count('B')\n",
    "        C_count[step] = state.count('C')\n",
    "\n",
    "        newState =[] \n",
    "        # Loops over each current state\n",
    "        for i in range(len(state)):\n",
    "            rule_used = False # Boolean flag for rule use\n",
    "            # Loops over each rule\n",
    "            for j in range(len(rules)):\n",
    "                # Checks if rule is relevant to current state\n",
    "                if state[i]==rules[j][0]:\n",
    "                    rule_used = True\n",
    "                    r = random.random()\n",
    "                    # Checks for decay\n",
    "                    if r < rules[j][2]:\n",
    "                        newState.append(rules[j][1])\n",
    "                    else:\n",
    "                        newState.append(state[i])\n",
    "            if not rule_used:\n",
    "                newState.append(state[i]) # Checks if rule has been used\n",
    "\n",
    "        state = newState # Updates state list\n",
    "       \n",
    "    return A_count, B_count, C_count"
   ]
  },
  {
   "cell_type": "code",
   "execution_count": 38,
   "metadata": {
    "deletable": false,
    "editable": false,
    "nbgrader": {
     "cell_type": "code",
     "checksum": "3b3bf314834ca58cf7496a0087016ea3",
     "grade": true,
     "grade_id": "evolve_system_length",
     "locked": true,
     "points": 2,
     "schema_version": 3,
     "solution": false,
     "task": false
    }
   },
   "outputs": [],
   "source": [
    "# these tests are worth 2 marks\n",
    "rules = [\n",
    "    ('A', 'B', 0.0033),\n",
    "    ('B', 'C', 0.0075),\n",
    "    ('C', 'A', 0.009)\n",
    "    \n",
    "]\n",
    "\n",
    "r1, r2, r3 = evolve_system(0,0,250, rules, 17)\n",
    "assert len(r1) == 18\n",
    "assert len(r2) == 18\n",
    "assert len(r3) == 18"
   ]
  },
  {
   "cell_type": "code",
   "execution_count": 39,
   "metadata": {
    "deletable": false,
    "editable": false,
    "nbgrader": {
     "cell_type": "code",
     "checksum": "a441fb953d79363e24e99d7b6ffe791b",
     "grade": true,
     "grade_id": "evolve_system_values",
     "locked": true,
     "points": 2,
     "schema_version": 3,
     "solution": false,
     "task": false
    }
   },
   "outputs": [],
   "source": [
    "# these tests are worth 2 marks \n",
    "testrules = [\n",
    "    ('A', 'B', 0.086),\n",
    "    ('B', 'C', 0.075),\n",
    "    ('C', 'A', 0.19)\n",
    "    \n",
    "]\n",
    "\n",
    "random.seed(9485)\n",
    "r1, r2, r3 = evolve_system(200,200,200, testrules, 20)\n",
    "assert (r1 == [200, 213, 233, 250, 258, 251, 266, 263, 259, 260, 265, 259, 256,\n",
    "        255, 258, 256, 259, 253, 249, 247, 253]).all()\n",
    "assert (r2 == [200, 198, 201, 206, 205, 214, 214, 212, 216, 221, 225, 234, 236,\n",
    "        238, 234, 235, 231, 245, 253, 256, 252]).all()\n",
    "assert (r3 == [200, 189, 166, 144, 137, 135, 120, 125, 125, 119, 110, 107, 108,\n",
    "        107, 108, 109, 110, 102,  98,  97,  95]).all()"
   ]
  },
  {
   "cell_type": "markdown",
   "metadata": {},
   "source": [
    "## Plotting tasks"
   ]
  },
  {
   "cell_type": "markdown",
   "metadata": {
    "deletable": false,
    "editable": false,
    "nbgrader": {
     "cell_type": "markdown",
     "checksum": "758dd7618631763e50b6c8506eb935b1",
     "grade": false,
     "grade_id": "system_plot",
     "locked": true,
     "points": 8,
     "schema_version": 3,
     "solution": false,
     "task": true
    }
   },
   "source": [
    "Create a plot with the number of $A$, $B$ and $C$ nuclei, starting with 250 $C$ nuclei and evolving the system for 100 hours using 200 steps and with neutron flux on. Evolve the system for another 100 hours (using 200 steps) without neutron flux (i.e. no transitions from $C$ to $A$).  \n",
    "\n",
    "The half life of the $A$ atoms is 10.1 hours, the half life of $B$ nuclei is 15.7 hours and we can caracterise the rate of activation of $C$ into $A$ when the neutron flux is on with and effective half-life of 3.2 hours.\n",
    "\n",
    "The plot should have the appropriate labels and legend. [8 marks]    \n",
    "\n",
    "\n"
   ]
  },
  {
   "cell_type": "code",
   "execution_count": 40,
   "metadata": {},
   "outputs": [
    {
     "data": {
      "image/png": "[encoded data removed]",
      "text/plain": [
       "<Figure size 432x288 with 1 Axes>"
      ]
     },
     "metadata": {},
     "output_type": "display_data"
    }
   ],
   "source": [
    "t_half_A = 10.1\n",
    "t_half_B = 15.7\n",
    "t_half_C = 3.2\n",
    "\n",
    "NA, NB, NC = 0, 0, 250\n",
    "n_step = 400 # 400 steps total\n",
    "dt = 100/200 # 100 hours over 200 steps\n",
    "\n",
    "\n",
    "def prob(dt, t_half):\n",
    "    tau = t_half / numpy.log(2)\n",
    "    prob = 1 - numpy.exp(-dt/tau)\n",
    "    return prob\n",
    "\n",
    "\n",
    "state = (['A'] * NA)+(['B'] * NB)+(['C'] * NC)\n",
    "# Log counts over time\n",
    "A_count = numpy.empty(n_step + 1, dtype=int)\n",
    "B_count = numpy.empty(n_step + 1, dtype=int)\n",
    "C_count = numpy.empty(n_step + 1, dtype=int)\n",
    "\n",
    "\n",
    "for step in range(n_step+1):\n",
    "\n",
    "    if step <= 200:\n",
    "        rules = [\n",
    "        ('A', 'B', prob(dt, t_half_A)),\n",
    "        ('B', 'C', prob(dt, t_half_B)),\n",
    "        ('C', 'A', prob(dt, t_half_C))\n",
    "        ]\n",
    "    else:\n",
    "        rules = [\n",
    "        ('A', 'B', prob(dt, t_half_A)),\n",
    "        ('B', 'C', prob(dt, t_half_B)),\n",
    "        ('C', 'A', 0)\n",
    "        ]\n",
    "\n",
    "    # Counts current numbers\n",
    "    A_count[step] = state.count('A')\n",
    "    B_count[step] = state.count('B')\n",
    "    C_count[step] = state.count('C')\n",
    "    #print(state.count('A'), step)\n",
    "    \n",
    "    newState =[] \n",
    "\n",
    "    # Loops over each current state\n",
    "    for i in range(len(state)):\n",
    "        rule_used = False # Boolean flag for rule use\n",
    "        # Loops over each rule\n",
    "        for j in range(len(rules)):\n",
    "            # Checks if rule is relevant to current state\n",
    "            if state[i]==rules[j][0]:\n",
    "                rule_used = True\n",
    "                r = random.random()\n",
    "                # Checks for decay\n",
    "                if r < rules[j][2]:\n",
    "                    newState.append(rules[j][1])\n",
    "                else:\n",
    "                    newState.append(state[i])\n",
    "        if not rule_used:\n",
    "            newState.append(state[i]) # Checks if rule has been used\n",
    "\n",
    "    state = newState # Updates state list\n",
    "          \n",
    "\n",
    "        \n",
    "        \n",
    "times = numpy.arange(0, 200+dt, dt)    \n",
    "plt.figure()\n",
    "plt.plot(times, A_count, label='A')\n",
    "plt.plot(times, B_count, label='B')\n",
    "plt.plot(times, C_count, label='C')\n",
    "plt.legend()\n",
    "plt.xlabel('Time (hours)')\n",
    "plt.ylabel('Counts')\n",
    "plt.show()\n",
    "   "
   ]
  },
  {
   "cell_type": "markdown",
   "metadata": {
    "deletable": false,
    "editable": false,
    "nbgrader": {
     "cell_type": "markdown",
     "checksum": "8d62922ae8b327e13a0284b44033ccfb",
     "grade": false,
     "grade_id": "average_uncertainty_plot",
     "locked": true,
     "points": 3,
     "schema_version": 3,
     "solution": false,
     "task": true
    }
   },
   "source": [
    "Run the above simulation 20 times with 200 steps and use the results to calculate an average and the uncertainty on the number of $A$ atoms as a function of time. Use and `errorbar` plot for it. You might be interested in the `numpy.average` and `numpy.std` functions. The plot should have axis labels and a title.  [3 marks]\n"
   ]
  },
  {
   "cell_type": "code",
   "execution_count": 41,
   "metadata": {},
   "outputs": [
    {
     "data": {
      "image/png": "[encoded data removed]",
      "text/plain": [
       "<Figure size 432x288 with 1 Axes>"
      ]
     },
     "metadata": {},
     "output_type": "display_data"
    }
   ],
   "source": [
    "n_sim = 20\n",
    "\n",
    "t_half_A = 10.1\n",
    "t_half_B = 15.7\n",
    "t_half_C = 3.2\n",
    "\n",
    "NA, NB, NC = 0, 0, 250\n",
    "n_step = 200 # 400 steps total\n",
    "dt = 100/200 # 100 hours over 200 steps\n",
    "\n",
    "def prob(dt, t_half):\n",
    "    tau = t_half / numpy.log(2)\n",
    "    prob = 1 - numpy.exp(-dt/tau)\n",
    "    return prob\n",
    "\n",
    "all_A_counts = numpy.zeros((n_sim, n_step+1))\n",
    "\n",
    "for sim in range(n_sim):\n",
    "\n",
    "    state = (['A'] * NA)+(['B'] * NB)+(['C'] * NC)\n",
    "    # Log counts over time\n",
    "    A_count = numpy.empty(n_step + 1, dtype=int)\n",
    "    B_count = numpy.empty(n_step + 1, dtype=int)\n",
    "    C_count = numpy.empty(n_step + 1, dtype=int)\n",
    "\n",
    "\n",
    "    for step in range(n_step+1):\n",
    "\n",
    "        if step <= 200:\n",
    "            rules = [\n",
    "            ('A', 'B', prob(dt, t_half_A)),\n",
    "            ('B', 'C', prob(dt, t_half_B)),\n",
    "            ('C', 'A', prob(dt, t_half_C))\n",
    "            ]\n",
    "        else:\n",
    "            rules = [\n",
    "            ('A', 'B', prob(dt, t_half_A)),\n",
    "            ('B', 'C', prob(dt, t_half_B)),\n",
    "            ('C', 'A', 0)\n",
    "            ]\n",
    "\n",
    "        # Counts current numbers\n",
    "        A_count[step] = state.count('A')\n",
    "        B_count[step] = state.count('B')\n",
    "        C_count[step] = state.count('C')\n",
    "        #print(state.count('A'), step)\n",
    "\n",
    "        newState =[] \n",
    "\n",
    "        # Loops over each current state\n",
    "        for i in range(len(state)):\n",
    "            rule_used = False # Boolean flag for rule use\n",
    "            # Loops over each rule\n",
    "            for j in range(len(rules)):\n",
    "                # Checks if rule is relevant to current state\n",
    "                if state[i]==rules[j][0]:\n",
    "                    rule_used = True\n",
    "                    r = random.random()\n",
    "                    # Checks for decay\n",
    "                    if r < rules[j][2]:\n",
    "                        newState.append(rules[j][1])\n",
    "                    else:\n",
    "                        newState.append(state[i])\n",
    "            if not rule_used:\n",
    "                newState.append(state[i]) # Checks if rule has been used\n",
    "\n",
    "        state = newState # Updates state list\n",
    "    all_A_counts[sim] = A_count\n",
    "    \n",
    "average_A = numpy.average(all_A_counts, axis=0)\n",
    "error_A = numpy.std(all_A_counts, axis=0)\n",
    "\n",
    "times = numpy.arange(0, 100+dt, dt)  \n",
    "\n",
    "plt.figure()\n",
    "plt.plot(times, average_A, label='A')\n",
    "plt.errorbar(times, average_A, yerr=error_A, ls='none', \n",
    "             color='steelblue', alpha=0.6)\n",
    "\n",
    "plt.xlabel('Time (hours)')\n",
    "plt.ylabel('Average A Count')\n",
    "plt.show()\n"
   ]
  },
  {
   "cell_type": "code",
   "execution_count": null,
   "metadata": {},
   "outputs": [],
   "source": []
  }
 ],
 "metadata": {
  "kernelspec": {
   "display_name": "Python 3",
   "language": "python",
   "name": "python3"
  },
  "language_info": {
   "codemirror_mode": {
    "name": "ipython",
    "version": 3
   },
   "file_extension": ".py",
   "mimetype": "text/x-python",
   "name": "python",
   "nbconvert_exporter": "python",
   "pygments_lexer": "ipython3",
   "version": "3.6.3"
  },
  "toc": {
   "base_numbering": 1,
   "nav_menu": {},
   "number_sections": false,
   "sideBar": true,
   "skip_h1_title": false,
   "title_cell": "Table of Contents",
   "title_sidebar": "Contents",
   "toc_cell": false,
   "toc_position": {},
   "toc_section_display": true,
   "toc_window_display": false
  }
 },
 "nbformat": 4,
 "nbformat_minor": 2
}
