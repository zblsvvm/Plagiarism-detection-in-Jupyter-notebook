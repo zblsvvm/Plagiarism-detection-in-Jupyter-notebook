{
 "cells": [
  {
   "cell_type": "markdown",
   "metadata": {
    "deletable": false,
    "editable": false,
    "nbgrader": {
     "cell_type": "markdown",
     "checksum": "99cbf87edda3e3e5292c2402de7d1b06",
     "grade": false,
     "grade_id": "cell-0867630144920503",
     "locked": true,
     "schema_version": 3,
     "solution": false
    }
   },
   "source": [
    "# <center>L2 Computational Physics</center>\n",
    "---\n",
    "\n",
    "## Week 5: Monte Carlo Methods\n",
    "\n",
    "In this notebook, you will simulate a system with of three nuclei $A$, $B$ and $C$ where $A$ decays into $B$ and $B$ decays into $C$. If exposed to a neutron flux nucleus $C$ can be activated into a nucleus $A$. "
   ]
  },
  {
   "cell_type": "code",
   "execution_count": 220,
   "metadata": {
    "deletable": false,
    "editable": false,
    "nbgrader": {
     "cell_type": "code",
     "checksum": "321569d9eb049b6c5b93fc8b54ba3f29",
     "grade": false,
     "grade_id": "cell-79b49b449ef54a80",
     "locked": true,
     "schema_version": 3,
     "solution": false
    }
   },
   "outputs": [],
   "source": [
    "import numpy\n",
    "from matplotlib import pyplot as plt\n",
    "import random"
   ]
  },
  {
   "cell_type": "markdown",
   "metadata": {
    "deletable": false,
    "editable": false,
    "nbgrader": {
     "cell_type": "markdown",
     "checksum": "d83a755092ba510666e3bf1badd76395",
     "grade": false,
     "grade_id": "cell-8fc424548b449218",
     "locked": true,
     "schema_version": 3,
     "solution": false,
     "task": false
    }
   },
   "source": [
    "Implement a function that tells whether a transition has occured, based on the transition probability and a random number. Use the random number `r` from `random.random()` and use the procedure described in the notes so that the checks can work in a reproducible way."
   ]
  },
  {
   "cell_type": "code",
   "execution_count": 221,
   "metadata": {
    "deletable": false,
    "nbgrader": {
     "cell_type": "code",
     "checksum": "63100f06b5143da8a8289b2beaef3328",
     "grade": false,
     "grade_id": "decay_function",
     "locked": false,
     "schema_version": 3,
     "solution": true,
     "task": false
    }
   },
   "outputs": [],
   "source": [
    "\n",
    "def has_transitioned(prob):\n",
    "    r = random.random()\n",
    "    return r<=prob\n"
   ]
  },
  {
   "cell_type": "code",
   "execution_count": 192,
   "metadata": {
    "deletable": false,
    "editable": false,
    "nbgrader": {
     "cell_type": "code",
     "checksum": "c968197e1aeb831aef895bb6852e22dc",
     "grade": true,
     "grade_id": "decay_function_test",
     "locked": true,
     "points": 1,
     "schema_version": 3,
     "solution": false,
     "task": false
    }
   },
   "outputs": [],
   "source": [
    "# this test is worth 1 mark\n",
    "random.seed(9867)\n",
    "assert [ has_transitioned(0.5) for i in range(10)] == [False, False, True, False, False, False, False, True, False, True]"
   ]
  },
  {
   "cell_type": "markdown",
   "metadata": {
    "deletable": false,
    "editable": false,
    "nbgrader": {
     "cell_type": "markdown",
     "checksum": "863ef95dde1b79b2f6a45296474892d6",
     "grade": false,
     "grade_id": "cell-2145274701a17ae6",
     "locked": true,
     "schema_version": 3,
     "solution": false,
     "task": false
    }
   },
   "source": [
    "We are going to keep track of the state of the atoms using a either `'A'`, `'B'` or `'C'` for each nucleus. For example \n",
    "```python\n",
    "state = ['A', 'A', 'B', 'A', 'C']\n",
    "```\n",
    "\n",
    "We will capture the possible physical reaction in a list of allowed transitions such as\n",
    "\n",
    "`('A', 'B', 0.25 )`\n",
    "\n",
    "where the first element is the initial state, the second element is the final state of the transition and its probability in the time interval considered is the third argument.\n",
    "\n",
    "Define a function that takes as arguments the current state and a list of such transition rules and implements the transition (or not) and returns the new state"
   ]
  },
  {
   "cell_type": "code",
   "execution_count": 193,
   "metadata": {
    "deletable": false,
    "nbgrader": {
     "cell_type": "code",
     "checksum": "2f91185de0b99b2034ef740e8dc32826",
     "grade": false,
     "grade_id": "evolve_function",
     "locked": false,
     "schema_version": 3,
     "solution": true,
     "task": false
    }
   },
   "outputs": [
    {
     "name": "stdout",
     "output_type": "stream",
     "text": [
      "True\n",
      "B\n"
     ]
    },
    {
     "data": {
      "text/plain": [
       "'C'"
      ]
     },
     "execution_count": 193,
     "metadata": {},
     "output_type": "execute_result"
    }
   ],
   "source": [
    "def evolveOne(currentState, rules):\n",
    "    # YOUR CODE HERE\n",
    "    if currentState=='A': \n",
    "        if has_transitioned((rules[0])[2])==True:\n",
    "            currentState=str((rules[0])[1])\n",
    "    elif currentState=='B':\n",
    "        if has_transitioned(rules[1][2])==True:\n",
    "            currentState=str(rules[1][1])\n",
    "    return currentState\n",
    "\n",
    "alwaysDecayRules = [\n",
    "    ('A', 'B', 1.0),\n",
    "    ('B', 'C', 1.0)\n",
    "]\n",
    "\n",
    "\n",
    "print(has_transitioned(alwaysDecayRules[0][2]))\n",
    "print(str((alwaysDecayRules[0])[1]))\n",
    "\n",
    "evolveOne('A', alwaysDecayRules) \n",
    "\n",
    "evolveOne('B', alwaysDecayRules) \n",
    "            \n",
    "    "
   ]
  },
  {
   "cell_type": "code",
   "execution_count": 194,
   "metadata": {
    "deletable": false,
    "editable": false,
    "nbgrader": {
     "cell_type": "code",
     "checksum": "3154c068da716f5153052e6df93ac3d8",
     "grade": true,
     "grade_id": "cell-7782dc2753905180",
     "locked": true,
     "points": 1,
     "schema_version": 3,
     "solution": false,
     "task": false
    }
   },
   "outputs": [],
   "source": [
    "# these tests are worth 1 mark\n",
    "alwaysDecayRules = [\n",
    "    ('A', 'B', 1.0),\n",
    "    ('B', 'C', 1.0)\n",
    "]\n",
    "assert evolveOne('A', alwaysDecayRules) == 'B'\n",
    "assert evolveOne('B', alwaysDecayRules) == 'C'"
   ]
  },
  {
   "cell_type": "code",
   "execution_count": 195,
   "metadata": {
    "deletable": false,
    "editable": false,
    "nbgrader": {
     "cell_type": "code",
     "checksum": "983368b2058fcebe4bbd9d999cedfccf",
     "grade": true,
     "grade_id": "cell-e2a70f6b9e202d32",
     "locked": true,
     "points": 2,
     "schema_version": 3,
     "solution": false,
     "task": false
    }
   },
   "outputs": [],
   "source": [
    "# these tests are worth 2 mark\n",
    "random.seed(112211)\n",
    "testRules = [\n",
    "    ('A', 'B', 0.33),\n",
    "    ('B', 'C', 0.75)\n",
    "]\n",
    "assert evolveOne('A', testRules) == 'A'\n",
    "assert evolveOne('A', testRules) == 'A'\n",
    "assert evolveOne('A', testRules) == 'A'\n",
    "assert evolveOne('A', testRules) == 'A'\n",
    "assert evolveOne('A', testRules) == 'B'\n",
    "\n",
    "assert evolveOne('B', testRules) == 'B'\n",
    "assert evolveOne('B', testRules) == 'C'\n",
    "assert evolveOne('B', testRules) == 'C'\n",
    "assert evolveOne('B', testRules) == 'C'\n",
    "assert evolveOne('B', testRules) == 'C'\n",
    "\n",
    "# with no rules there should be no change\n",
    "assert evolveOne('C', testRules) == 'C'\n"
   ]
  },
  {
   "cell_type": "markdown",
   "metadata": {
    "deletable": false,
    "editable": false,
    "nbgrader": {
     "cell_type": "markdown",
     "checksum": "3af513ec634c58060bda27a8f1577cc6",
     "grade": false,
     "grade_id": "cell-f97a55a8ad8bd3d4",
     "locked": true,
     "schema_version": 3,
     "solution": false,
     "task": false
    }
   },
   "source": [
    "Now implement a function that takes a list of states and transition them according to the rules passed as argument. This function should return a new vector of states, it should not modify the state passed as an argument!"
   ]
  },
  {
   "cell_type": "code",
   "execution_count": 196,
   "metadata": {
    "deletable": false,
    "nbgrader": {
     "cell_type": "code",
     "checksum": "881bb86514741777729e52d4e7343a8e",
     "grade": false,
     "grade_id": "cell-b6743e72d540ebc3",
     "locked": false,
     "schema_version": 3,
     "solution": true,
     "task": false
    }
   },
   "outputs": [
    {
     "name": "stdout",
     "output_type": "stream",
     "text": [
      "15\n"
     ]
    }
   ],
   "source": [
    "def evolveMany(states, rules):\n",
    "    newState = []\n",
    "    # YOUR CODE HERE\n",
    "    for i in range(len(states)):\n",
    "        \n",
    "        if states[i]=='A':\n",
    "            if has_transitioned((rules[0])[2])==True:\n",
    "                newState.append(str((rules[0])[1]))\n",
    "            else:\n",
    "                newState.append(str(states[i]))\n",
    "        elif states[i]=='B':\n",
    "            if has_transitioned(rules[1][2])==True:\n",
    "                newState.append(str((rules[1])[1]))\n",
    "            else:\n",
    "                newState.append(str(states[i]))\n",
    "        elif states[i]=='C':\n",
    "            newState.append(str(states[i]))\n",
    "       \n",
    "    return (newState)\n",
    "\n",
    "random.seed(112287)\n",
    "testRules = [\n",
    "    ('A', 'B', 0.33),\n",
    "    ('B', 'C', 0.75)\n",
    "]\n",
    "initialTestArray = ['A','B','C']*5\n",
    "evolvedTest = evolveMany(initialTestArray, testRules)\n",
    "\n",
    "print(len(initialTestArray))\n",
    "\n",
    "\n"
   ]
  },
  {
   "cell_type": "code",
   "execution_count": 197,
   "metadata": {
    "deletable": false,
    "editable": false,
    "nbgrader": {
     "cell_type": "code",
     "checksum": "f807f087b273be2963f779816e5c8f9c",
     "grade": true,
     "grade_id": "cell-231f8396b20ac4be",
     "locked": true,
     "points": 1,
     "schema_version": 3,
     "solution": false,
     "task": false
    }
   },
   "outputs": [],
   "source": [
    "# these tests are worth 1 mark\n",
    "random.seed(112287)\n",
    "testRules = [\n",
    "    ('A', 'B', 0.33),\n",
    "    ('B', 'C', 0.75)\n",
    "]\n",
    "initialTestArray = ['A','B','C']*5\n",
    "evolvedTest = evolveMany(initialTestArray, testRules)\n",
    "targetArray = ['B', 'C', 'C', 'A', 'C', 'C', 'A', 'B', 'C', 'A', 'C', 'C', 'B', 'C', 'C'] \n",
    "assert evolvedTest == targetArray\n",
    "# checks the initial array is left unchanged\n",
    "assert initialTestArray == ['A','B','C']*5"
   ]
  },
  {
   "cell_type": "markdown",
   "metadata": {
    "deletable": false,
    "editable": false,
    "nbgrader": {
     "cell_type": "markdown",
     "checksum": "3601312254dc022b8bca15d56f4cc652",
     "grade": false,
     "grade_id": "cell-4ffbe8df7a50fafb",
     "locked": true,
     "schema_version": 3,
     "solution": false,
     "task": false
    }
   },
   "source": [
    "Define a function that evolves a system that starts with initial amounts `NA`, `NB` and `NC` of $A$, $B$ and $C$ nuclei and evolved it in `n_timestep` from time $t=0$ to $t=t_{max}$. The function should return three arrays, one for each atom type, of the number of nuclei of that type at each time step. Each array should contain `n_timestep+1` elements including the initial amount. \n",
    " "
   ]
  },
  {
   "cell_type": "code",
   "execution_count": 198,
   "metadata": {
    "deletable": false,
    "nbgrader": {
     "cell_type": "code",
     "checksum": "8082bfd4e4ee17ba3850ef6615c21373",
     "grade": false,
     "grade_id": "evolve_system",
     "locked": false,
     "schema_version": 3,
     "solution": true,
     "task": false
    }
   },
   "outputs": [
    {
     "name": "stdout",
     "output_type": "stream",
     "text": [
      "600\n"
     ]
    },
    {
     "data": {
      "text/plain": [
       "(array([200, 213, 233, 250, 258, 251, 266, 263, 259, 260, 265, 259, 256,\n",
       "        255, 258, 256, 259, 253, 249, 247, 253]),\n",
       " array([200, 198, 201, 206, 205, 214, 214, 212, 216, 221, 225, 234, 236,\n",
       "        238, 234, 235, 231, 245, 253, 256, 252]),\n",
       " array([200, 189, 166, 144, 137, 135, 120, 125, 125, 119, 110, 107, 108,\n",
       "        107, 108, 109, 110, 102,  98,  97,  95]))"
      ]
     },
     "execution_count": 198,
     "metadata": {},
     "output_type": "execute_result"
    }
   ],
   "source": [
    "def evolve_system(NA, NB, NC, rules, n_step):\n",
    "    state = (['A'] * NA)+(['B'] * NB)+(['C'] * NC)\n",
    "\n",
    "    A_count = numpy.empty(n_step + 1, dtype=int)\n",
    "    B_count = numpy.empty(n_step + 1, dtype=int)\n",
    "    C_count = numpy.empty(n_step + 1, dtype=int)\n",
    "\n",
    "    # YOUR CODE HERE\n",
    "    A_count[0]=NA\n",
    "    B_count[0]=NB\n",
    "    C_count[0]=NC\n",
    "    for t in range(1,n_step+1):\n",
    "        x=0\n",
    "        y=0\n",
    "        z=0\n",
    "        for i in range(len(state)):\n",
    "            if state[i]=='A':\n",
    "                if has_transitioned(rules[0][2])==True:\n",
    "                    state[i]='B'\n",
    "                    x+=-1\n",
    "                    y+=+1\n",
    "                    z+=0\n",
    "                else:\n",
    "                    x+=0\n",
    "                    y+=0\n",
    "                    z+=0\n",
    "            elif state[i]=='B':\n",
    "                if has_transitioned((rules[1])[2])==True:\n",
    "                    state[i]='C'\n",
    "                    x+=0\n",
    "                    y+=-1\n",
    "                    z+=1\n",
    "                else:\n",
    "                    x+=0\n",
    "                    y+=0\n",
    "                    z+=0\n",
    "            elif state[i]=='C':\n",
    "                if has_transitioned(rules[2][2])==True:\n",
    "                    state[i]='A'\n",
    "                    y+=0\n",
    "                    z+=-1\n",
    "                    x+=1\n",
    "                else:\n",
    "                    x+=0\n",
    "                    y+=0\n",
    "                    z+=0\n",
    "                \n",
    "        A_count[t]=A_count[t-1]+x \n",
    "        B_count[t]=B_count[t-1]+y\n",
    "        C_count[t]=C_count[t-1]+z \n",
    "       \n",
    "     \n",
    "    \n",
    "    return A_count, B_count, C_count, #numpy.array(state)\n",
    "\n",
    "random.seed(9485)\n",
    "testrules = [\n",
    "    ('A', 'B', 0.086),\n",
    "    ('B', 'C', 0.075),\n",
    "    ('C', 'A', 0.19)]\n",
    "state1=(['A'] * 200)+(['B'] * 200)+(['C'] * 200)\n",
    "#print( state1)\n",
    "print(len(state1))\n",
    "evolve_system(200,200,200, testrules, 20)"
   ]
  },
  {
   "cell_type": "code",
   "execution_count": 199,
   "metadata": {
    "deletable": false,
    "editable": false,
    "nbgrader": {
     "cell_type": "code",
     "checksum": "3b3bf314834ca58cf7496a0087016ea3",
     "grade": true,
     "grade_id": "evolve_system_length",
     "locked": true,
     "points": 2,
     "schema_version": 3,
     "solution": false,
     "task": false
    }
   },
   "outputs": [],
   "source": [
    "# these tests are worth 2 marks\n",
    "rules = [\n",
    "    ('A', 'B', 0.0033),\n",
    "    ('B', 'C', 0.0075),\n",
    "    ('C', 'A', 0.009)\n",
    "    \n",
    "]\n",
    "\n",
    "r1, r2, r3 = evolve_system(0,0,250, rules, 17)\n",
    "assert len(r1) == 18\n",
    "assert len(r2) == 18\n",
    "assert len(r3) == 18"
   ]
  },
  {
   "cell_type": "code",
   "execution_count": 200,
   "metadata": {
    "deletable": false,
    "editable": false,
    "nbgrader": {
     "cell_type": "code",
     "checksum": "a441fb953d79363e24e99d7b6ffe791b",
     "grade": true,
     "grade_id": "evolve_system_values",
     "locked": true,
     "points": 2,
     "schema_version": 3,
     "solution": false,
     "task": false
    }
   },
   "outputs": [],
   "source": [
    "# these tests are worth 2 marks \n",
    "testrules = [\n",
    "    ('A', 'B', 0.086),\n",
    "    ('B', 'C', 0.075),\n",
    "    ('C', 'A', 0.19)\n",
    "    \n",
    "]\n",
    "\n",
    "random.seed(9485)\n",
    "r1, r2, r3 = evolve_system(200,200,200, testrules, 20)\n",
    "assert (r1 == [200, 213, 233, 250, 258, 251, 266, 263, 259, 260, 265, 259, 256,\n",
    "        255, 258, 256, 259, 253, 249, 247, 253]).all()\n",
    "assert (r2 == [200, 198, 201, 206, 205, 214, 214, 212, 216, 221, 225, 234, 236,\n",
    "        238, 234, 235, 231, 245, 253, 256, 252]).all()\n",
    "assert (r3 == [200, 189, 166, 144, 137, 135, 120, 125, 125, 119, 110, 107, 108,\n",
    "        107, 108, 109, 110, 102,  98,  97,  95]).all()"
   ]
  },
  {
   "cell_type": "markdown",
   "metadata": {},
   "source": [
    "## Plotting tasks"
   ]
  },
  {
   "cell_type": "markdown",
   "metadata": {
    "deletable": false,
    "editable": false,
    "nbgrader": {
     "cell_type": "markdown",
     "checksum": "758dd7618631763e50b6c8506eb935b1",
     "grade": false,
     "grade_id": "system_plot",
     "locked": true,
     "points": 8,
     "schema_version": 3,
     "solution": false,
     "task": true
    }
   },
   "source": [
    "Create a plot with the number of $A$, $B$ and $C$ nuclei, starting with 250 $C$ nuclei and evolving the system for 100 hours using 200 steps and with neutron flux on. Evolve the system for another 100 hours (using 200 steps) without neutron flux (i.e. no transitions from $C$ to $A$).  \n",
    "\n",
    "The half life of the $A$ atoms is 10.1 hours, the half life of $B$ nuclei is 15.7 hours and we can caracterise the rate of activation of $C$ into $A$ when the neutron flux is on with and effective half-life of 3.2 hours.\n",
    "\n",
    "The plot should have the appropriate labels and legend. [8 marks]    \n",
    "\n",
    "\n"
   ]
  },
  {
   "cell_type": "code",
   "execution_count": 262,
   "metadata": {},
   "outputs": [
    {
     "name": "stdout",
     "output_type": "stream",
     "text": [
      "200\n",
      "[250 197 156 117  88  71  61  47  41  31  29  33  29  22  21  19  18  21\n",
      "  20  20  20  21  18  20  20  22  20  20  16  17  23  24  22  20  24  24\n",
      "  23  30  32  31  29  29  34  30  34  32  36  34  34  35  32  28  20  22\n",
      "  25  27  30  24  26  26  29  26  29  27  29  27  29  31  28  30  27  23\n",
      "  25  29  35  35  30  32  28  28  25  29  32  31  30  28  34  28  23  23\n",
      "  22  31  30  28  22  25  26  27  25  30  22  22  22  26  29  31  31  28\n",
      "  25  27  28  27  34  29  28  30  30  31  32  27  23  21  22  24  25  29\n",
      "  30  31  37  38  33  28  30  30  27  28  30  32  31  30  28  31  41  35\n",
      "  32  30  28  26  29  27  30  29  25  26  25  31  33  34  35  30  29  28\n",
      "  26  28  30  32  33  34  32  31  35  36  30  29  30  29  25  26  29  26\n",
      "  30  26  29  31  33  31  29  29  33  30  31  27  26  24  28  25  23  28\n",
      "  30  37]\n"
     ]
    },
    {
     "data": {
      "text/plain": [
       "<matplotlib.legend.Legend at 0x7fa90539a198>"
      ]
     },
     "execution_count": 262,
     "metadata": {},
     "output_type": "execute_result"
    },
    {
     "data": {
      "image/png": "[encoded data removed]",
      "text/plain": [
       "<Figure size 720x576 with 1 Axes>"
      ]
     },
     "metadata": {},
     "output_type": "display_data"
    }
   ],
   "source": [
    "\n",
    "nsteps = 200\n",
    "t_total = 100\n",
    "t_half_A = 10.1\n",
    "lambda_A=numpy.log(2)/t_half_A\n",
    "t_half_B = 15.7\n",
    "lambda_B=numpy.log(2)/t_half_B\n",
    "t_half_C = 3.2\n",
    "lambda_C=numpy.log(2)/t_half_C\n",
    "\n",
    "time=numpy.linspace(0,100,200)\n",
    "print(len(NC))\n",
    "TestRules0=[('A','B',lambda_A),('B','C',lambda_B),('C','A',lambda_C)]\n",
    "\n",
    "TestRules1=[('A','B',lambda_A),('B','C',lambda_B),('C','A',0)]\n",
    "\n",
    "time2=numpy.linspace(100,200,200)\n",
    "\n",
    "\n",
    "NA,NB,NC=evolve_system(0, 0, 250, TestRules0, 199)\n",
    "\n",
    "NA1,NB1,NC1=evolve_system(NA[199], NB[199], NC[199], TestRules0, 199)\n",
    "\n",
    "print(NC)\n",
    "plt.figure(figsize=(10, 8))\n",
    "plt.plot(time,NA)\n",
    "plt.plot(time,NB)\n",
    "plt.plot(time,NC)\n",
    "plt.plot(time2,NA1)\n",
    "plt.plot(time2,NB1)\n",
    "plt.plot(time2,NC1)\n",
    "\n",
    "plt.xlabel(\"Time(Hours)\")\n",
    "plt.ylabel(\"Number of nuclei\")\n",
    "plt.title(\"State as a function of time\")\n",
    "plt.legend([\"A nuclei with flux\",\"B nuclei with flux\",\"C nuclei with flux\",\"A nuclei without flux\",\"B nuclei without flux\",\"C nuclei without flux\"])"
   ]
  },
  {
   "cell_type": "markdown",
   "metadata": {
    "deletable": false,
    "editable": false,
    "nbgrader": {
     "cell_type": "markdown",
     "checksum": "8d62922ae8b327e13a0284b44033ccfb",
     "grade": false,
     "grade_id": "average_uncertainty_plot",
     "locked": true,
     "points": 3,
     "schema_version": 3,
     "solution": false,
     "task": true
    }
   },
   "source": [
    "Run the above simulation 20 times with 200 steps and use the results to calculate an average and the uncertainty on the number of $A$ atoms as a function of time. Use and `errorbar` plot for it. You might be interested in the `numpy.average` and `numpy.std` functions. The plot should have axis labels and a title.  [3 marks]\n"
   ]
  },
  {
   "cell_type": "code",
   "execution_count": 282,
   "metadata": {},
   "outputs": [
    {
     "name": "stdout",
     "output_type": "stream",
     "text": [
      "[  0  51  91 121 140 143 145 152 151 160 154 153 149 147 136 130 123 123\n",
      " 120 117 110 106 104 104 101 102  99 100  96  94  93  86  85  85  87  84\n",
      "  79  81  80  83  85  82  84  88  91  89  86  89  93  97  98  98  97  98\n",
      " 100  92  82  79  82  79  86  81  83  83  90  93  93  96  94  86  88  92\n",
      "  90  92  89  84  84  85  84  83  86  94  99  97 100  99  99  99  94  95\n",
      "  96  94 100  96  90  88  89  84  85  84  80  83  80  72  75  76  74  78\n",
      "  71  71  72  74  77  78  80  77  76  80  78  78  77  78  78  82  81  78\n",
      "  81  85  88  85  83  85  87  91  95  93  95  98 100 101  95  95  94  86\n",
      "  89  91  94  93  91  90  91  88  88  87  86  83  85  83  81  80  82  79\n",
      "  77  80  81  87  89  80  84  81  82  91  91  88  87  82  84  84  87  84\n",
      "  82  83  85  90  91  87  86  87  88  86  85  77  76  79  82  89  93  96\n",
      "  90  88  88  83  83  82  86  85  89  91  96  98  99  98  97  92  83  83\n",
      "  79  85  82  82  86  86  82  87  90  88  90  88  92  96 102 102  97  93\n",
      " 100  93  93  95  94  92  89  85  84  79  81  82  83  86  92  93  91  93\n",
      "  91  90  94  91  97  98 102 110 108 107 101 100  99  96 100 103 101  97\n",
      "  97  98  93  91  92  89  97  97 101 100  92  93  92  91  87  89  95  92\n",
      " 100  98  97  97 100 100  97  99  93  95  87  82  75  79  78  75  76  72\n",
      "  77  76  80  76  75  76  80  84  87  86  87  90  86  81  80  78  84  86\n",
      "  84  83  86  85  84  88  86  82  77  74  74  77  73  77  74  78  72  71\n",
      "  74  74  78  81  82  80  87  85  83  87  87  91  84  84  86  87  86  89\n",
      "  89  86  92  84  84  82  79  82  82  83  82  87  93  96  96  98  98 103\n",
      "  98  97  95  93  98  98  93  94  92  88  89  86  86  85  85  88  88  89\n",
      "  90  92  88  87]\n",
      "\n",
      "[  0  58 100 135 157 162 161 166 159 155 145 137 135 131 124 118 115 117\n",
      " 116 112 106 103 103 103  96 101  97  94  97  98  97  95  96  94  89  92\n",
      "  92  93  87  80  76  76  80  86  79  82  86  89  91  91  88  91  92  91\n",
      "  96  95  92  91  86  83  89  86  87  95  97  91  96  88  86  80  79  75\n",
      "  76  79  81  81  79  76  82  85  89  90  91  91  88  90  87  85  90  89\n",
      "  85  84  81  87  88  88  88  91  89  79  79  79  79  79  76  69  69  69\n",
      "  74  71  75  82  85  87  87  91  86  84  84  85  86  86  98  99  97  96\n",
      "  99 103 101 103 106 109 105 100 101 102 100  99  98  96  94 100 103 105\n",
      " 101  97  93  94  91  87  86  86  81  82  85  90  91  87  84  87  85  83\n",
      "  82  80  79  80  78  77  79  80  76  79  82  85  93  86  89  82  87  84\n",
      "  83  84  82  80  80  80  83  88  88  85  93  90  89  95  93  91  88  89\n",
      "  81  85  85  85  86  94  87  92  93  93  92  90  90  85  80  87  92  90\n",
      "  88  91  87  81  78  80  80  85  85  86  85  82  78  73  76  76  83  77\n",
      "  72  77  81  86  85  88  87  84  85  87  86  83  83  87  93  91  95  96\n",
      " 100 104 101 103 101  97  99  96  96  93  97  96  93  92  90  83  80  81\n",
      "  80  79  76  76  77  73  70  69  73  75  73  75  77  79  79  77  77  78\n",
      "  84  88  92  92  93  93  96  92  90  86  87  86  87  91  86  87  86  89\n",
      "  86  88  93  89  92  98  97  97  94  96  96  92  92  89  91  93  92  91\n",
      "  89  91  89  96  91  88  83  82  86  84  80  81  81  84  81  79  84  90\n",
      "  90  85  85  91  89  84  87  82  79  84  82  86  87  83  80  80  80  83\n",
      "  82  83  87  94  97  97  91  89  92  90  83  90  87  84  90  86  84  83\n",
      "  90  94  91  98  94  96  97  90  92  92  87  88  93  94  93  86  87  85\n",
      "  80  83  80  83]\n",
      "\n",
      "91.83\n",
      "18.168409396532216\n"
     ]
    }
   ],
   "source": [
    "nsim = 20\n",
    "totalA=[]\n",
    "for i in range(0,2):\n",
    "    nsteps = 200\n",
    "    t_total = 100\n",
    "    t_half_A = 10.1\n",
    "    lambda_A=numpy.log(2)/t_half_A\n",
    "    t_half_B = 15.7\n",
    "    lambda_B=numpy.log(2)/t_half_B\n",
    "    t_half_C = 3.2\n",
    "    lambda_C=numpy.log(2)/t_half_C\n",
    "\n",
    "    time=numpy.linspace(0,100,200)\n",
    "    TestRules0=[('A','B',lambda_A),('B','C',lambda_B),('C','A',lambda_C)]\n",
    "\n",
    "    TestRules1=[('A','B',lambda_A),('B','C',lambda_B),('C','A',0)]\n",
    "\n",
    "    time2=numpy.linspace(100,200,200)\n",
    "\n",
    "\n",
    "    NA,NB,NC=evolve_system(0, 0, 250, TestRules0, 199)\n",
    "    \n",
    "\n",
    "    NA1,NB1,NC1=evolve_system(NA[199], NB[199], NC[199], TestRules0, 199)\n",
    "    totalA=numpy.concatenate([NA,NA1])\n",
    "    print(totalA)\n",
    "    print()\n",
    "print(numpy.average(NA))\n",
    "print(numpy.std(NA))"
   ]
  },
  {
   "cell_type": "code",
   "execution_count": null,
   "metadata": {},
   "outputs": [],
   "source": []
  }
 ],
 "metadata": {
  "kernelspec": {
   "display_name": "Python 3",
   "language": "python",
   "name": "python3"
  },
  "language_info": {
   "codemirror_mode": {
    "name": "ipython",
    "version": 3
   },
   "file_extension": ".py",
   "mimetype": "text/x-python",
   "name": "python",
   "nbconvert_exporter": "python",
   "pygments_lexer": "ipython3",
   "version": "3.6.3"
  },
  "toc": {
   "base_numbering": 1,
   "nav_menu": {},
   "number_sections": false,
   "sideBar": true,
   "skip_h1_title": false,
   "title_cell": "Table of Contents",
   "title_sidebar": "Contents",
   "toc_cell": false,
   "toc_position": {},
   "toc_section_display": true,
   "toc_window_display": false
  }
 },
 "nbformat": 4,
 "nbformat_minor": 2
}
