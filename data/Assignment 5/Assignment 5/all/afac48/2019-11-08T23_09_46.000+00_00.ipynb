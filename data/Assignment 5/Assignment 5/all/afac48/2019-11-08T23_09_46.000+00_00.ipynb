{
 "cells": [
  {
   "cell_type": "markdown",
   "metadata": {
    "deletable": false,
    "editable": false,
    "nbgrader": {
     "cell_type": "markdown",
     "checksum": "99cbf87edda3e3e5292c2402de7d1b06",
     "grade": false,
     "grade_id": "cell-0867630144920503",
     "locked": true,
     "schema_version": 3,
     "solution": false
    }
   },
   "source": [
    "# <center>L2 Computational Physics</center>\n",
    "---\n",
    "\n",
    "## Week 5: Monte Carlo Methods\n",
    "\n",
    "In this notebook, you will simulate a system with of three nuclei $A$, $B$ and $C$ where $A$ decays into $B$ and $B$ decays into $C$. If exposed to a neutron flux nucleus $C$ can be activated into a nucleus $A$. "
   ]
  },
  {
   "cell_type": "code",
   "execution_count": 579,
   "metadata": {
    "deletable": false,
    "editable": false,
    "nbgrader": {
     "cell_type": "code",
     "checksum": "321569d9eb049b6c5b93fc8b54ba3f29",
     "grade": false,
     "grade_id": "cell-79b49b449ef54a80",
     "locked": true,
     "schema_version": 3,
     "solution": false
    }
   },
   "outputs": [],
   "source": [
    "import numpy\n",
    "from matplotlib import pyplot as plt\n",
    "import random"
   ]
  },
  {
   "cell_type": "markdown",
   "metadata": {
    "deletable": false,
    "editable": false,
    "nbgrader": {
     "cell_type": "markdown",
     "checksum": "d83a755092ba510666e3bf1badd76395",
     "grade": false,
     "grade_id": "cell-8fc424548b449218",
     "locked": true,
     "schema_version": 3,
     "solution": false,
     "task": false
    }
   },
   "source": [
    "Implement a function that tells whether a transition has occured, based on the transition probability and a random number. Use the random number `r` from `random.random()` and use the procedure described in the notes so that the checks can work in a reproducible way."
   ]
  },
  {
   "cell_type": "code",
   "execution_count": 580,
   "metadata": {
    "deletable": false,
    "nbgrader": {
     "cell_type": "code",
     "checksum": "63100f06b5143da8a8289b2beaef3328",
     "grade": false,
     "grade_id": "decay_function",
     "locked": false,
     "schema_version": 3,
     "solution": true,
     "task": false
    }
   },
   "outputs": [],
   "source": [
    "def has_transitioned(prob):\n",
    "    r = random.random()\n",
    "    # YOUR CODE HERE\n",
    "    if r <= prob:\n",
    "        return True\n",
    "    else:\n",
    "        return False"
   ]
  },
  {
   "cell_type": "code",
   "execution_count": 581,
   "metadata": {
    "deletable": false,
    "editable": false,
    "nbgrader": {
     "cell_type": "code",
     "checksum": "c968197e1aeb831aef895bb6852e22dc",
     "grade": true,
     "grade_id": "decay_function_test",
     "locked": true,
     "points": 1,
     "schema_version": 3,
     "solution": false,
     "task": false
    }
   },
   "outputs": [],
   "source": [
    "# this test is worth 1 mark\n",
    "random.seed(9867)\n",
    "assert [ has_transitioned(0.5) for i in range(10)] == [False, False, True, False, False, False, False, True, False, True]"
   ]
  },
  {
   "cell_type": "markdown",
   "metadata": {
    "deletable": false,
    "editable": false,
    "nbgrader": {
     "cell_type": "markdown",
     "checksum": "863ef95dde1b79b2f6a45296474892d6",
     "grade": false,
     "grade_id": "cell-2145274701a17ae6",
     "locked": true,
     "schema_version": 3,
     "solution": false,
     "task": false
    }
   },
   "source": [
    "We are going to keep track of the state of the atoms using a either `'A'`, `'B'` or `'C'` for each nucleus. For example \n",
    "```python\n",
    "state = ['A', 'A', 'B', 'A', 'C']\n",
    "```\n",
    "\n",
    "We will capture the possible physical reaction in a list of allowed transitions such as\n",
    "\n",
    "`('A', 'B', 0.25 )`\n",
    "\n",
    "where the first element is the initial state, the second element is the final state of the transition and its probability in the time interval considered is the third argument.\n",
    "\n",
    "Define a function that takes as arguments the current state and a list of such transition rules and implements the transition (or not) and returns the new state"
   ]
  },
  {
   "cell_type": "code",
   "execution_count": 628,
   "metadata": {
    "deletable": false,
    "nbgrader": {
     "cell_type": "code",
     "checksum": "2f91185de0b99b2034ef740e8dc32826",
     "grade": false,
     "grade_id": "evolve_function",
     "locked": false,
     "schema_version": 3,
     "solution": true,
     "task": false
    }
   },
   "outputs": [],
   "source": [
    "\n",
    "def evolveOne(currentState, rules):\n",
    "    # YOUR CODE HERE\n",
    "    for i in range(0, len(rules)):\n",
    "        if currentState == rules[i][0]:\n",
    "            r = random.random()\n",
    "            if r <= rules[i][2]:\n",
    "                return rules[i][1]\n",
    "            else:\n",
    "                return currentState\n",
    "        if currentState != rules[len(rules)-1][0]:\n",
    "            return currentState\n",
    "        "
   ]
  },
  {
   "cell_type": "code",
   "execution_count": 629,
   "metadata": {},
   "outputs": [
    {
     "data": {
      "text/plain": [
       "'A'"
      ]
     },
     "execution_count": 629,
     "metadata": {},
     "output_type": "execute_result"
    }
   ],
   "source": [
    "evolveOne('A', testRules)"
   ]
  },
  {
   "cell_type": "code",
   "execution_count": 630,
   "metadata": {
    "deletable": false,
    "editable": false,
    "nbgrader": {
     "cell_type": "code",
     "checksum": "3154c068da716f5153052e6df93ac3d8",
     "grade": true,
     "grade_id": "cell-7782dc2753905180",
     "locked": true,
     "points": 1,
     "schema_version": 3,
     "solution": false,
     "task": false
    }
   },
   "outputs": [],
   "source": [
    "# these tests are worth 1 mark\n",
    "alwaysDecayRules = [\n",
    "    ('A', 'B', 1.0),\n",
    "    ('B', 'C', 1.0)\n",
    "]\n",
    "assert evolveOne('A', alwaysDecayRules) == 'B'\n",
    "assert evolveOne('B', alwaysDecayRules) == 'C'"
   ]
  },
  {
   "cell_type": "code",
   "execution_count": 585,
   "metadata": {
    "deletable": false,
    "editable": false,
    "nbgrader": {
     "cell_type": "code",
     "checksum": "983368b2058fcebe4bbd9d999cedfccf",
     "grade": true,
     "grade_id": "cell-e2a70f6b9e202d32",
     "locked": true,
     "points": 2,
     "schema_version": 3,
     "solution": false,
     "task": false
    }
   },
   "outputs": [],
   "source": [
    "# these tests are worth 2 mark\n",
    "random.seed(112211)\n",
    "testRules = [\n",
    "    ('A', 'B', 0.33),\n",
    "    ('B', 'C', 0.75)\n",
    "]\n",
    "assert evolveOne('A', testRules) == 'A'\n",
    "assert evolveOne('A', testRules) == 'A'\n",
    "assert evolveOne('A', testRules) == 'A'\n",
    "assert evolveOne('A', testRules) == 'A'\n",
    "assert evolveOne('A', testRules) == 'B'\n",
    "\n",
    "assert evolveOne('B', testRules) == 'B'\n",
    "assert evolveOne('B', testRules) == 'C'\n",
    "assert evolveOne('B', testRules) == 'C'\n",
    "assert evolveOne('B', testRules) == 'C'\n",
    "assert evolveOne('B', testRules) == 'C'\n",
    "\n",
    "# with no rules there should be no change\n",
    "assert evolveOne('C', testRules) == 'C'\n"
   ]
  },
  {
   "cell_type": "markdown",
   "metadata": {
    "deletable": false,
    "editable": false,
    "nbgrader": {
     "cell_type": "markdown",
     "checksum": "3af513ec634c58060bda27a8f1577cc6",
     "grade": false,
     "grade_id": "cell-f97a55a8ad8bd3d4",
     "locked": true,
     "schema_version": 3,
     "solution": false,
     "task": false
    }
   },
   "source": [
    "Now implement a function that takes a list of states and transition them according to the rules passed as argument. This function should return a new vector of states, it should not modify the state passed as an argument!"
   ]
  },
  {
   "cell_type": "code",
   "execution_count": 631,
   "metadata": {
    "deletable": false,
    "nbgrader": {
     "cell_type": "code",
     "checksum": "881bb86514741777729e52d4e7343a8e",
     "grade": false,
     "grade_id": "cell-b6743e72d540ebc3",
     "locked": false,
     "schema_version": 3,
     "solution": true,
     "task": false
    }
   },
   "outputs": [],
   "source": [
    "def evolveMany(states, rules):\n",
    "    newState = []\n",
    "    # YOUR CODE HERE\n",
    "    for i in range(0, len(states)):\n",
    "        newState.append(evolveOne(states[i], rules))\n",
    "    return newState\n"
   ]
  },
  {
   "cell_type": "code",
   "execution_count": 605,
   "metadata": {
    "deletable": false,
    "editable": false,
    "nbgrader": {
     "cell_type": "code",
     "checksum": "f807f087b273be2963f779816e5c8f9c",
     "grade": true,
     "grade_id": "cell-231f8396b20ac4be",
     "locked": true,
     "points": 1,
     "schema_version": 3,
     "solution": false,
     "task": false
    }
   },
   "outputs": [],
   "source": [
    "# these tests are worth 1 mark\n",
    "random.seed(112287)\n",
    "testRules = [\n",
    "    ('A', 'B', 0.33),\n",
    "    ('B', 'C', 0.75)\n",
    "]\n",
    "initialTestArray = ['A','B','C']*5\n",
    "evolvedTest = evolveMany(initialTestArray, testRules)\n",
    "targetArray = ['B', 'C', 'C', 'A', 'C', 'C', 'A', 'B', 'C', 'A', 'C', 'C', 'B', 'C', 'C'] \n",
    "assert evolvedTest == targetArray\n",
    "# checks the initial array is left unchanged\n",
    "assert initialTestArray == ['A','B','C']*5"
   ]
  },
  {
   "cell_type": "markdown",
   "metadata": {
    "deletable": false,
    "editable": false,
    "nbgrader": {
     "cell_type": "markdown",
     "checksum": "3601312254dc022b8bca15d56f4cc652",
     "grade": false,
     "grade_id": "cell-4ffbe8df7a50fafb",
     "locked": true,
     "schema_version": 3,
     "solution": false,
     "task": false
    }
   },
   "source": [
    "Define a function that evolves a system that starts with initial amounts `NA`, `NB` and `NC` of $A$, $B$ and $C$ nuclei and evolved it in `n_timestep` from time $t=0$ to $t=t_{max}$. The function should return three arrays, one for each atom type, of the number of nuclei of that type at each time step. Each array should contain `n_timestep+1` elements including the initial amount. \n",
    " "
   ]
  },
  {
   "cell_type": "code",
   "execution_count": 637,
   "metadata": {
    "deletable": false,
    "nbgrader": {
     "cell_type": "code",
     "checksum": "8082bfd4e4ee17ba3850ef6615c21373",
     "grade": false,
     "grade_id": "evolve_system",
     "locked": false,
     "schema_version": 3,
     "solution": true,
     "task": false
    }
   },
   "outputs": [],
   "source": [
    "def evolve_system(NA, NB, NC, rules, n_step):\n",
    "    state = (['A'] * NA)+(['B'] * NB)+(['C'] * NC)\n",
    "\n",
    "    A_count = [NA]\n",
    "    B_count = [NB]\n",
    "    C_count = [NC]\n",
    "    \n",
    "    # YOUR CODE HERE\n",
    "    evolve = state\n",
    "    for i in range(0, n_step):\n",
    "        evolve = evolveMany(evolve, rules)\n",
    "        decay_a = evolve.count('A')\n",
    "        decay_b = evolve.count('B')\n",
    "        decay_c = evolve.count('C')\n",
    "        A_count.append(decay_a)\n",
    "        B_count.append(decay_b)\n",
    "        C_count.append(decay_c)\n",
    "    print(C_count)\n",
    "    return numpy.array(A_count), numpy.array(B_count), numpy.array(C_count)\n",
    "\n"
   ]
  },
  {
   "cell_type": "code",
   "execution_count": null,
   "metadata": {},
   "outputs": [],
   "source": []
  },
  {
   "cell_type": "code",
   "execution_count": 638,
   "metadata": {
    "deletable": false,
    "editable": false,
    "nbgrader": {
     "cell_type": "code",
     "checksum": "3b3bf314834ca58cf7496a0087016ea3",
     "grade": true,
     "grade_id": "evolve_system_length",
     "locked": true,
     "points": 2,
     "schema_version": 3,
     "solution": false,
     "task": false
    }
   },
   "outputs": [
    {
     "name": "stdout",
     "output_type": "stream",
     "text": [
      "[250, 3, 4, 5, 6, 7, 9, 12, 13, 17, 19, 21, 23, 24, 24, 26, 30, 30]\n"
     ]
    }
   ],
   "source": [
    "# these tests are worth 2 marks\n",
    "rules = [\n",
    "    ('A', 'B', 0.0033),\n",
    "    ('B', 'C', 0.0075),\n",
    "    ('C', 'A', 0.009)\n",
    "    \n",
    "]\n",
    "\n",
    "r1, r2, r3 = evolve_system(0,0,250, rules, 17)\n",
    "assert len(r1) == 18\n",
    "assert len(r2) == 18\n",
    "assert len(r3) == 18"
   ]
  },
  {
   "cell_type": "code",
   "execution_count": 639,
   "metadata": {
    "deletable": false,
    "editable": false,
    "nbgrader": {
     "cell_type": "code",
     "checksum": "a441fb953d79363e24e99d7b6ffe791b",
     "grade": true,
     "grade_id": "evolve_system_values",
     "locked": true,
     "points": 2,
     "schema_version": 3,
     "solution": false,
     "task": false
    }
   },
   "outputs": [
    {
     "name": "stdout",
     "output_type": "stream",
     "text": [
      "[200, 42, 76, 106, 120, 137, 152, 162, 168, 173, 178, 186, 188, 188, 190, 190, 192, 194, 194, 194, 196]\n"
     ]
    },
    {
     "ename": "AssertionError",
     "evalue": "",
     "output_type": "error",
     "traceback": [
      "\u001b[0;31m---------------------------------------------------------------------------\u001b[0m",
      "\u001b[0;31mAssertionError\u001b[0m                            Traceback (most recent call last)",
      "\u001b[0;32m<ipython-input-639-f2bd2ecaafc4>\u001b[0m in \u001b[0;36m<module>\u001b[0;34m()\u001b[0m\n\u001b[1;32m     10\u001b[0m \u001b[0mr1\u001b[0m\u001b[0;34m,\u001b[0m \u001b[0mr2\u001b[0m\u001b[0;34m,\u001b[0m \u001b[0mr3\u001b[0m \u001b[0;34m=\u001b[0m \u001b[0mevolve_system\u001b[0m\u001b[0;34m(\u001b[0m\u001b[0;36m200\u001b[0m\u001b[0;34m,\u001b[0m\u001b[0;36m200\u001b[0m\u001b[0;34m,\u001b[0m\u001b[0;36m200\u001b[0m\u001b[0;34m,\u001b[0m \u001b[0mtestrules\u001b[0m\u001b[0;34m,\u001b[0m \u001b[0;36m20\u001b[0m\u001b[0;34m)\u001b[0m\u001b[0;34m\u001b[0m\u001b[0m\n\u001b[1;32m     11\u001b[0m assert (r1 == [200, 213, 233, 250, 258, 251, 266, 263, 259, 260, 265, 259, 256,\n\u001b[0;32m---> 12\u001b[0;31m         255, 258, 256, 259, 253, 249, 247, 253]).all()\n\u001b[0m\u001b[1;32m     13\u001b[0m assert (r2 == [200, 198, 201, 206, 205, 214, 214, 212, 216, 221, 225, 234, 236,\n\u001b[1;32m     14\u001b[0m         238, 234, 235, 231, 245, 253, 256, 252]).all()\n",
      "\u001b[0;31mAssertionError\u001b[0m: "
     ]
    }
   ],
   "source": [
    "# these tests are worth 2 marks \n",
    "testrules = [\n",
    "    ('A', 'B', 0.086),\n",
    "    ('B', 'C', 0.075),\n",
    "    ('C', 'A', 0.19)\n",
    "    \n",
    "]\n",
    "\n",
    "random.seed(9485)\n",
    "r1, r2, r3 = evolve_system(200,200,200, testrules, 20)\n",
    "assert (r1 == [200, 213, 233, 250, 258, 251, 266, 263, 259, 260, 265, 259, 256,\n",
    "        255, 258, 256, 259, 253, 249, 247, 253]).all()\n",
    "assert (r2 == [200, 198, 201, 206, 205, 214, 214, 212, 216, 221, 225, 234, 236,\n",
    "        238, 234, 235, 231, 245, 253, 256, 252]).all()\n",
    "assert (r3 == [200, 189, 166, 144, 137, 135, 120, 125, 125, 119, 110, 107, 108,\n",
    "        107, 108, 109, 110, 102,  98,  97,  95]).all()"
   ]
  },
  {
   "cell_type": "markdown",
   "metadata": {},
   "source": [
    "## Plotting tasks"
   ]
  },
  {
   "cell_type": "markdown",
   "metadata": {
    "deletable": false,
    "editable": false,
    "nbgrader": {
     "cell_type": "markdown",
     "checksum": "758dd7618631763e50b6c8506eb935b1",
     "grade": false,
     "grade_id": "system_plot",
     "locked": true,
     "points": 8,
     "schema_version": 3,
     "solution": false,
     "task": true
    }
   },
   "source": [
    "Create a plot with the number of $A$, $B$ and $C$ nuclei, starting with 250 $C$ nuclei and evolving the system for 100 hours using 200 steps and with neutron flux on. Evolve the system for another 100 hours (using 200 steps) without neutron flux (i.e. no transitions from $C$ to $A$).  \n",
    "\n",
    "The half life of the $A$ atoms is 10.1 hours, the half life of $B$ nuclei is 15.7 hours and we can caracterise the rate of activation of $C$ into $A$ when the neutron flux is on with and effective half-life of 3.2 hours.\n",
    "\n",
    "The plot should have the appropriate labels and legend. [8 marks]    \n",
    "\n",
    "\n"
   ]
  },
  {
   "cell_type": "code",
   "execution_count": 626,
   "metadata": {},
   "outputs": [
    {
     "name": "stdout",
     "output_type": "stream",
     "text": [
      "[250, 250, 250]\n",
      "[250, 250, 250]\n",
      "[250, 250, 250]\n",
      "[250, 250, 250]\n",
      "[250, 250, 250]\n",
      "[250, 250, 250]\n",
      "[250, 250, 250]\n",
      "[250, 250, 250]\n",
      "[250, 250, 250]\n",
      "[250, 250, 250]\n",
      "[250, 250, 250]\n",
      "[250, 250, 250]\n",
      "[250, 250, 250]\n",
      "[250, 250, 250]\n",
      "[250, 250, 250]\n",
      "[250, 250, 250]\n",
      "[250, 250, 250]\n",
      "[250, 250, 250]\n",
      "[250, 250, 250]\n",
      "[250, 250, 250]\n",
      "[250, 250, 250]\n",
      "[250, 250, 250]\n",
      "[250, 250, 250]\n",
      "[250, 250, 250]\n",
      "[250, 250, 250]\n",
      "[250, 250, 250]\n",
      "[250, 250, 250]\n",
      "[250, 250, 250]\n",
      "[250, 250, 250]\n",
      "[250, 250, 250]\n",
      "[250, 250, 250]\n",
      "[250, 250, 250]\n",
      "[250, 250, 250]\n",
      "[250, 250, 250]\n",
      "[250, 250, 250]\n",
      "[250, 250, 250]\n",
      "[250, 250, 250]\n",
      "[250, 250, 250]\n",
      "[250, 250, 250]\n",
      "[250, 250, 250]\n",
      "[250, 250, 250]\n",
      "[250, 250, 250]\n",
      "[250, 250, 250]\n",
      "[250, 250, 250]\n",
      "[250, 250, 250]\n",
      "[250, 250, 250]\n",
      "[250, 250, 250]\n",
      "[250, 250, 250]\n",
      "[250, 250, 250]\n",
      "[250, 250, 250]\n",
      "[250, 250, 250]\n",
      "[250, 250, 250]\n",
      "[250, 250, 250]\n",
      "[250, 250, 250]\n",
      "[250, 250, 250]\n",
      "[250, 250, 250]\n",
      "[250, 250, 250]\n",
      "[250, 250, 250]\n",
      "[250, 250, 250]\n",
      "[250, 250, 250]\n",
      "[250, 250, 250]\n",
      "[250, 250, 250]\n",
      "[250, 250, 250]\n",
      "[250, 250, 250]\n",
      "[250, 250, 250]\n",
      "[250, 250, 250]\n",
      "[250, 250, 250]\n",
      "[250, 250, 250]\n",
      "[250, 250, 250]\n",
      "[250, 250, 250]\n",
      "[250, 250, 250]\n",
      "[250, 250, 250]\n",
      "[250, 250, 250]\n",
      "[250, 250, 250]\n",
      "[250, 250, 250]\n",
      "[250, 250, 250]\n",
      "[250, 250, 250]\n",
      "[250, 250, 250]\n",
      "[250, 250, 250]\n",
      "[250, 250, 250]\n",
      "[250, 250, 250]\n",
      "[250, 250, 250]\n",
      "[250, 250, 250]\n",
      "[250, 250, 250]\n",
      "[250, 250, 250]\n",
      "[250, 250, 250]\n",
      "[250, 250, 250]\n",
      "[250, 250, 250]\n",
      "[250, 250, 250]\n",
      "[250, 250, 250]\n",
      "[250, 250, 250]\n",
      "[250, 250, 250]\n",
      "[250, 250, 250]\n",
      "[250, 250, 250]\n",
      "[250, 250, 250]\n",
      "[250, 250, 250]\n",
      "[250, 250, 250]\n",
      "[250, 250, 250]\n",
      "[250, 250, 250]\n",
      "[250, 250, 250]\n",
      "[250, 250, 250]\n",
      "[250, 250, 250]\n",
      "[250, 250, 250]\n",
      "[250, 250, 250]\n",
      "[250, 250, 250]\n",
      "[250, 250, 250]\n",
      "[250, 250, 250]\n",
      "[250, 250, 250]\n",
      "[250, 250, 250]\n",
      "[250, 250, 250]\n",
      "[250, 250, 250]\n",
      "[250, 250, 250]\n",
      "[250, 250, 250]\n",
      "[250, 250, 250]\n",
      "[250, 250, 250]\n",
      "[250, 250, 250]\n",
      "[250, 250, 250]\n",
      "[250, 250, 250]\n",
      "[250, 250, 250]\n",
      "[250, 250, 250]\n",
      "[250, 250, 250]\n",
      "[250, 250, 250]\n",
      "[250, 250, 250]\n",
      "[250, 250, 250]\n",
      "[250, 250, 250]\n",
      "[250, 250, 250]\n",
      "[250, 250, 250]\n",
      "[250, 250, 250]\n",
      "[250, 250, 250]\n",
      "[250, 250, 250]\n",
      "[250, 250, 250]\n",
      "[250, 250, 250]\n",
      "[250, 250, 250]\n",
      "[250, 250, 250]\n",
      "[250, 250, 250]\n",
      "[250, 250, 250]\n",
      "[250, 250, 250]\n",
      "[250, 250, 250]\n",
      "[250, 250, 250]\n",
      "[250, 250, 250]\n",
      "[250, 250, 250]\n",
      "[250, 250, 250]\n",
      "[250, 250, 250]\n",
      "[250, 250, 250]\n",
      "[250, 250, 250]\n",
      "[250, 250, 250]\n",
      "[250, 250, 250]\n",
      "[250, 250, 250]\n",
      "[250, 250, 250]\n",
      "[250, 250, 250]\n",
      "[250, 250, 250]\n",
      "[250, 250, 250]\n",
      "[250, 250, 250]\n",
      "[250, 250, 250]\n",
      "[250, 250, 250]\n",
      "[250, 250, 250]\n",
      "[250, 250, 250]\n",
      "[250, 250, 250]\n",
      "[250, 250, 250]\n",
      "[250, 250, 250]\n",
      "[250, 250, 250]\n",
      "[250, 250, 250]\n",
      "[250, 250, 250]\n",
      "[250, 250, 250]\n",
      "[250, 250, 250]\n",
      "[250, 250, 250]\n",
      "[250, 250, 250]\n",
      "[250, 250, 250]\n",
      "[250, 250, 250]\n",
      "[250, 250, 250]\n",
      "[250, 250, 250]\n",
      "[250, 250, 250]\n",
      "[250, 250, 250]\n",
      "[250, 250, 250]\n",
      "[250, 250, 250]\n",
      "[250, 250, 250]\n",
      "[250, 250, 250]\n",
      "[250, 250, 250]\n",
      "[250, 250, 250]\n",
      "[250, 250, 250]\n",
      "[250, 250, 250]\n",
      "[250, 250, 250]\n",
      "[250, 250, 250]\n",
      "[250, 250, 250]\n",
      "[250, 250, 250]\n",
      "[250, 250, 250]\n",
      "[250, 250, 250]\n",
      "[250, 250, 250]\n",
      "[250, 250, 250]\n",
      "[250, 250, 250]\n",
      "[250, 250, 250]\n",
      "[250, 250, 250]\n",
      "[250, 250, 250]\n",
      "[250, 250, 250]\n",
      "[250, 250, 250]\n",
      "[250, 250, 250]\n",
      "[250, 250, 250]\n",
      "[250, 250, 250]\n",
      "[250, 250, 250]\n",
      "[250, 250, 250]\n",
      "[250, 250, 250]\n",
      "[250, 250, 250]\n",
      "[250, 250, 250]\n",
      "[250, 250, 250]\n",
      "[250, 250, 250]\n",
      "[250, 250, 250]\n",
      "[250, 250, 250]\n",
      "[250, 250, 250]\n",
      "[250, 250, 250]\n",
      "[250, 250, 250]\n",
      "[250, 250, 250]\n",
      "[250, 250, 250]\n",
      "[250, 250, 250]\n",
      "[250, 250, 250]\n",
      "[250, 250, 250]\n",
      "[250, 250, 250]\n",
      "[250, 250, 250]\n",
      "[250, 250, 250]\n",
      "[250, 250, 250]\n",
      "[250, 250, 250]\n",
      "[250, 250, 250]\n",
      "[250, 250, 250]\n",
      "[250, 250, 250]\n",
      "[250, 250, 250]\n",
      "[250, 250, 250]\n",
      "[250, 250, 250]\n",
      "[250, 250, 250]\n",
      "[250, 250, 250]\n",
      "[250, 250, 250]\n",
      "[250, 250, 250]\n",
      "[250, 250, 250]\n",
      "[250, 250, 250]\n",
      "[250, 250, 250]\n",
      "[250, 250, 250]\n",
      "[250, 250, 250]\n",
      "[250, 250, 250]\n",
      "[250, 250, 250]\n",
      "[250, 250, 250]\n",
      "[250, 250, 250]\n",
      "[250, 250, 250]\n",
      "[250, 250, 250]\n",
      "[250, 250, 250]\n",
      "[250, 250, 250]\n",
      "[250, 250, 250]\n",
      "[250, 250, 250]\n",
      "[250, 250, 250]\n",
      "[250, 250, 250]\n",
      "[250, 250, 250]\n",
      "[250, 250, 250]\n",
      "[250, 250, 250]\n",
      "[250, 250, 250]\n",
      "[250, 250, 250]\n",
      "[250, 250, 250]\n",
      "[250, 250, 250]\n",
      "[250, 250, 250]\n",
      "[250, 250, 250]\n",
      "[250, 250, 250]\n",
      "[250, 250, 250]\n",
      "[250, 250, 250]\n",
      "[250, 250, 250]\n",
      "[250, 250, 250]\n",
      "[250, 250, 250]\n",
      "[250, 250, 250]\n",
      "[250, 250, 250]\n",
      "[250, 250, 250]\n",
      "[250, 250, 250]\n",
      "[250, 250, 250]\n",
      "[250, 250, 250]\n",
      "[250, 250, 250]\n",
      "[250, 250, 250]\n",
      "[250, 250, 250]\n",
      "[250, 250, 250]\n",
      "[250, 250, 250]\n",
      "[250, 250, 250]\n",
      "[250, 250, 250]\n",
      "[250, 250, 250]\n",
      "[250, 250, 250]\n",
      "[250, 250, 250]\n",
      "[250, 250, 250]\n",
      "[250, 250, 250]\n",
      "[250, 250, 250]\n",
      "[250, 250, 250]\n",
      "[250, 250, 250]\n",
      "[250, 250, 250]\n",
      "[250, 250, 250]\n",
      "[250, 250, 250]\n",
      "[250, 250, 250]\n",
      "[250, 250, 250]\n",
      "[250, 250, 250]\n",
      "[250, 250, 250]\n",
      "[250, 250, 250]\n",
      "[250, 250, 250]\n",
      "[250, 250, 250]\n",
      "[250, 250, 250]\n",
      "[250, 250, 250]\n",
      "[250, 250, 250]\n",
      "[250, 250, 250]\n",
      "[250, 250, 250]\n",
      "[250, 250, 250]\n",
      "[250, 250, 250]\n"
     ]
    },
    {
     "data": {
      "text/plain": [
       "<matplotlib.legend.Legend at 0x7f59dd8e89b0>"
      ]
     },
     "execution_count": 626,
     "metadata": {},
     "output_type": "execute_result"
    },
    {
     "data": {
      "image/png": "[encoded data removed]",
      "text/plain": [
       "<Figure size 432x288 with 1 Axes>"
      ]
     },
     "metadata": {},
     "output_type": "display_data"
    }
   ],
   "source": [
    "nsteps = 200\n",
    "t_total = 100\n",
    "t_half_A = 10.1\n",
    "t_half_B = 15.7\n",
    "t_half_C = 3.2\n",
    "a_nuclei = []\n",
    "b_nuclei = []\n",
    "c_nuclei = []\n",
    "time = []\n",
    "decay_constant_a = numpy.log(2)/10.1\n",
    "decay_constant_b = numpy.log(2)/15.7\n",
    "decay_constant_c = numpy.log(2)/3.2\n",
    "rules = [['C', 'A', 0], ['C', 'B', decay_constant_c]]\n",
    "for i in range(0, t_total):\n",
    "    a_nuclei.append(evolve_system(0,0,250, rules ,2)[0])\n",
    "    b_nuclei.append(evolve_system(0,0,250, rules ,2)[1])\n",
    "    c_nuclei.append(evolve_system(0,0,250, rules ,2)[2])\n",
    "    time.append(i)\n",
    "    \n",
    "    \n",
    "#need to find decay constant for each from half life, this will be probability\n",
    "plt.plot(time, a_nuclei, label = 'A')\n",
    "plt.plot(time, b_nuclei, label = 'B')\n",
    "plt.plot(time, c_nuclei, label = 'C')\n",
    "plt.xlabel('Time (hours)')\n",
    "plt.ylabel('Number of nuclei')\n",
    "plt.legend()\n",
    "\n",
    "#need separate arrays for each nuclei, all plot on same graph, need labels, titles, legend etc."
   ]
  },
  {
   "cell_type": "markdown",
   "metadata": {
    "deletable": false,
    "editable": false,
    "nbgrader": {
     "cell_type": "markdown",
     "checksum": "8d62922ae8b327e13a0284b44033ccfb",
     "grade": false,
     "grade_id": "average_uncertainty_plot",
     "locked": true,
     "points": 3,
     "schema_version": 3,
     "solution": false,
     "task": true
    }
   },
   "source": [
    "Run the above simulation 20 times with 200 steps and use the results to calculate an average and the uncertainty on the number of $A$ atoms as a function of time. Use and `errorbar` plot for it. You might be interested in the `numpy.average` and `numpy.std` functions. The plot should have axis labels and a title.  [3 marks]\n"
   ]
  },
  {
   "cell_type": "code",
   "execution_count": null,
   "metadata": {},
   "outputs": [],
   "source": [
    "nsim = 20\n"
   ]
  }
 ],
 "metadata": {
  "kernelspec": {
   "display_name": "Python 3",
   "language": "python",
   "name": "python3"
  },
  "language_info": {
   "codemirror_mode": {
    "name": "ipython",
    "version": 3
   },
   "file_extension": ".py",
   "mimetype": "text/x-python",
   "name": "python",
   "nbconvert_exporter": "python",
   "pygments_lexer": "ipython3",
   "version": "3.6.3"
  },
  "toc": {
   "base_numbering": 1,
   "nav_menu": {},
   "number_sections": false,
   "sideBar": true,
   "skip_h1_title": false,
   "title_cell": "Table of Contents",
   "title_sidebar": "Contents",
   "toc_cell": false,
   "toc_position": {},
   "toc_section_display": true,
   "toc_window_display": false
  }
 },
 "nbformat": 4,
 "nbformat_minor": 2
}
