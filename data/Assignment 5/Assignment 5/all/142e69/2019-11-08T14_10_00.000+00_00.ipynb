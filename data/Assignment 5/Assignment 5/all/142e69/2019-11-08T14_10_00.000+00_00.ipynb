{
 "cells": [
  {
   "cell_type": "markdown",
   "metadata": {
    "deletable": false,
    "editable": false,
    "nbgrader": {
     "cell_type": "markdown",
     "checksum": "99cbf87edda3e3e5292c2402de7d1b06",
     "grade": false,
     "grade_id": "cell-0867630144920503",
     "locked": true,
     "schema_version": 3,
     "solution": false
    }
   },
   "source": [
    "# <center>L2 Computational Physics</center>\n",
    "---\n",
    "\n",
    "## Week 5: Monte Carlo Methods\n",
    "\n",
    "In this notebook, you will simulate a system with of three nuclei $A$, $B$ and $C$ where $A$ decays into $B$ and $B$ decays into $C$. If exposed to a neutron flux nucleus $C$ can be activated into a nucleus $A$. "
   ]
  },
  {
   "cell_type": "code",
   "execution_count": 1,
   "metadata": {
    "deletable": false,
    "editable": false,
    "nbgrader": {
     "cell_type": "code",
     "checksum": "321569d9eb049b6c5b93fc8b54ba3f29",
     "grade": false,
     "grade_id": "cell-79b49b449ef54a80",
     "locked": true,
     "schema_version": 3,
     "solution": false
    }
   },
   "outputs": [],
   "source": [
    "import numpy\n",
    "from matplotlib import pyplot as plt\n",
    "import random"
   ]
  },
  {
   "cell_type": "markdown",
   "metadata": {
    "deletable": false,
    "editable": false,
    "nbgrader": {
     "cell_type": "markdown",
     "checksum": "d83a755092ba510666e3bf1badd76395",
     "grade": false,
     "grade_id": "cell-8fc424548b449218",
     "locked": true,
     "schema_version": 3,
     "solution": false,
     "task": false
    }
   },
   "source": [
    "Implement a function that tells whether a transition has occured, based on the transition probability and a random number. Use the random number `r` from `random.random()` and use the procedure described in the notes so that the checks can work in a reproducible way."
   ]
  },
  {
   "cell_type": "code",
   "execution_count": 13,
   "metadata": {
    "deletable": false,
    "nbgrader": {
     "cell_type": "code",
     "checksum": "63100f06b5143da8a8289b2beaef3328",
     "grade": false,
     "grade_id": "decay_function",
     "locked": false,
     "schema_version": 3,
     "solution": true,
     "task": false
    }
   },
   "outputs": [],
   "source": [
    "def has_transitioned(prob):\n",
    "    r = random.random()\n",
    "    # YOUR CODE HERE\n",
    "    return r < prob"
   ]
  },
  {
   "cell_type": "code",
   "execution_count": 14,
   "metadata": {
    "deletable": false,
    "editable": false,
    "nbgrader": {
     "cell_type": "code",
     "checksum": "c968197e1aeb831aef895bb6852e22dc",
     "grade": true,
     "grade_id": "decay_function_test",
     "locked": true,
     "points": 1,
     "schema_version": 3,
     "solution": false,
     "task": false
    }
   },
   "outputs": [],
   "source": [
    "# this test is worth 1 mark\n",
    "random.seed(9867)\n",
    "assert [ has_transitioned(0.5) for i in range(10)] == [False, False, True, False, False, False, False, True, False, True]"
   ]
  },
  {
   "cell_type": "markdown",
   "metadata": {
    "deletable": false,
    "editable": false,
    "nbgrader": {
     "cell_type": "markdown",
     "checksum": "863ef95dde1b79b2f6a45296474892d6",
     "grade": false,
     "grade_id": "cell-2145274701a17ae6",
     "locked": true,
     "schema_version": 3,
     "solution": false,
     "task": false
    }
   },
   "source": [
    "We are going to keep track of the state of the atoms using a either `'A'`, `'B'` or `'C'` for each nucleus. For example \n",
    "```python\n",
    "state = ['A', 'A', 'B', 'A', 'C']\n",
    "```\n",
    "\n",
    "We will capture the possible physical reaction in a list of allowed transitions such as\n",
    "\n",
    "`('A', 'B', 0.25 )`\n",
    "\n",
    "where the first element is the initial state, the second element is the final state of the transition and its probability in the time interval considered is the third argument.\n",
    "\n",
    "Define a function that takes as arguments the current state and a list of such transition rules and implements the transition (or not) and returns the new state"
   ]
  },
  {
   "cell_type": "code",
   "execution_count": 21,
   "metadata": {
    "deletable": false,
    "nbgrader": {
     "cell_type": "code",
     "checksum": "2f91185de0b99b2034ef740e8dc32826",
     "grade": false,
     "grade_id": "evolve_function",
     "locked": false,
     "schema_version": 3,
     "solution": true,
     "task": false
    }
   },
   "outputs": [],
   "source": [
    "def evolveOne(currentState, rules):\n",
    "    # YOUR CODE HERE\n",
    "    for rule in rules:\n",
    "        if rule[0] == currentState:\n",
    "            if has_transitioned(rule[2]):\n",
    "                return rule[1]\n",
    "            else:\n",
    "                return currentState\n",
    "            \n",
    "    # If currentState isn't in list of rules    \n",
    "    return currentState"
   ]
  },
  {
   "cell_type": "code",
   "execution_count": 22,
   "metadata": {
    "deletable": false,
    "editable": false,
    "nbgrader": {
     "cell_type": "code",
     "checksum": "3154c068da716f5153052e6df93ac3d8",
     "grade": true,
     "grade_id": "cell-7782dc2753905180",
     "locked": true,
     "points": 1,
     "schema_version": 3,
     "solution": false,
     "task": false
    }
   },
   "outputs": [],
   "source": [
    "# these tests are worth 1 mark\n",
    "alwaysDecayRules = [\n",
    "    ('A', 'B', 1.0),\n",
    "    ('B', 'C', 1.0)\n",
    "]\n",
    "assert evolveOne('A', alwaysDecayRules) == 'B'\n",
    "assert evolveOne('B', alwaysDecayRules) == 'C'"
   ]
  },
  {
   "cell_type": "code",
   "execution_count": 23,
   "metadata": {
    "deletable": false,
    "editable": false,
    "nbgrader": {
     "cell_type": "code",
     "checksum": "983368b2058fcebe4bbd9d999cedfccf",
     "grade": true,
     "grade_id": "cell-e2a70f6b9e202d32",
     "locked": true,
     "points": 2,
     "schema_version": 3,
     "solution": false,
     "task": false
    }
   },
   "outputs": [],
   "source": [
    "# these tests are worth 2 mark\n",
    "random.seed(112211)\n",
    "testRules = [\n",
    "    ('A', 'B', 0.33),\n",
    "    ('B', 'C', 0.75)\n",
    "]\n",
    "assert evolveOne('A', testRules) == 'A'\n",
    "assert evolveOne('A', testRules) == 'A'\n",
    "assert evolveOne('A', testRules) == 'A'\n",
    "assert evolveOne('A', testRules) == 'A'\n",
    "assert evolveOne('A', testRules) == 'B'\n",
    "\n",
    "assert evolveOne('B', testRules) == 'B'\n",
    "assert evolveOne('B', testRules) == 'C'\n",
    "assert evolveOne('B', testRules) == 'C'\n",
    "assert evolveOne('B', testRules) == 'C'\n",
    "assert evolveOne('B', testRules) == 'C'\n",
    "\n",
    "# with no rules there should be no change\n",
    "assert evolveOne('C', testRules) == 'C'\n"
   ]
  },
  {
   "cell_type": "markdown",
   "metadata": {
    "deletable": false,
    "editable": false,
    "nbgrader": {
     "cell_type": "markdown",
     "checksum": "3af513ec634c58060bda27a8f1577cc6",
     "grade": false,
     "grade_id": "cell-f97a55a8ad8bd3d4",
     "locked": true,
     "schema_version": 3,
     "solution": false,
     "task": false
    }
   },
   "source": [
    "Now implement a function that takes a list of states and transition them according to the rules passed as argument. This function should return a new vector of states, it should not modify the state passed as an argument!"
   ]
  },
  {
   "cell_type": "code",
   "execution_count": 28,
   "metadata": {
    "deletable": false,
    "nbgrader": {
     "cell_type": "code",
     "checksum": "881bb86514741777729e52d4e7343a8e",
     "grade": false,
     "grade_id": "cell-b6743e72d540ebc3",
     "locked": false,
     "schema_version": 3,
     "solution": true,
     "task": false
    }
   },
   "outputs": [],
   "source": [
    "def evolveMany(states, rules):\n",
    "    # YOUR CODE HERE\n",
    "    return [evolveOne(state, rules) for state in states]\n"
   ]
  },
  {
   "cell_type": "code",
   "execution_count": 29,
   "metadata": {
    "deletable": false,
    "editable": false,
    "nbgrader": {
     "cell_type": "code",
     "checksum": "f807f087b273be2963f779816e5c8f9c",
     "grade": true,
     "grade_id": "cell-231f8396b20ac4be",
     "locked": true,
     "points": 1,
     "schema_version": 3,
     "solution": false,
     "task": false
    }
   },
   "outputs": [],
   "source": [
    "# these tests are worth 1 mark\n",
    "random.seed(112287)\n",
    "testRules = [\n",
    "    ('A', 'B', 0.33),\n",
    "    ('B', 'C', 0.75)\n",
    "]\n",
    "initialTestArray = ['A','B','C']*5\n",
    "evolvedTest = evolveMany(initialTestArray, testRules)\n",
    "targetArray = ['B', 'C', 'C', 'A', 'C', 'C', 'A', 'B', 'C', 'A', 'C', 'C', 'B', 'C', 'C'] \n",
    "assert evolvedTest == targetArray\n",
    "# checks the initial array is left unchanged\n",
    "assert initialTestArray == ['A','B','C']*5"
   ]
  },
  {
   "cell_type": "markdown",
   "metadata": {
    "deletable": false,
    "editable": false,
    "nbgrader": {
     "cell_type": "markdown",
     "checksum": "3601312254dc022b8bca15d56f4cc652",
     "grade": false,
     "grade_id": "cell-4ffbe8df7a50fafb",
     "locked": true,
     "schema_version": 3,
     "solution": false,
     "task": false
    }
   },
   "source": [
    "Define a function that evolves a system that starts with initial amounts `NA`, `NB` and `NC` of $A$, $B$ and $C$ nuclei and evolved it in `n_timestep` from time $t=0$ to $t=t_{max}$. The function should return three arrays, one for each atom type, of the number of nuclei of that type at each time step. Each array should contain `n_timestep+1` elements including the initial amount. \n",
    " "
   ]
  },
  {
   "cell_type": "code",
   "execution_count": 30,
   "metadata": {
    "deletable": false,
    "nbgrader": {
     "cell_type": "code",
     "checksum": "8082bfd4e4ee17ba3850ef6615c21373",
     "grade": false,
     "grade_id": "evolve_system",
     "locked": false,
     "schema_version": 3,
     "solution": true,
     "task": false
    }
   },
   "outputs": [],
   "source": [
    "def evolve_system(NA, NB, NC, rules, n_step):\n",
    "    state = (['A'] * NA)+(['B'] * NB)+(['C'] * NC)\n",
    "\n",
    "    A_count = numpy.empty(n_step + 1, dtype=int)\n",
    "    B_count = numpy.empty(n_step + 1, dtype=int)\n",
    "    C_count = numpy.empty(n_step + 1, dtype=int)\n",
    "\n",
    "    # YOUR CODE HERE\n",
    "    A_count[0] = NA\n",
    "    B_count[0] = NB\n",
    "    C_count[0] = NC\n",
    "    \n",
    "    for i in range(1, n_step+1):\n",
    "        state = evolveMany(state, rules)\n",
    "        \n",
    "        A_count[i] = state.count('A')\n",
    "        B_count[i] = state.count('B')\n",
    "        C_count[i] = state.count('C')\n",
    "    \n",
    "    return A_count, B_count, C_count"
   ]
  },
  {
   "cell_type": "code",
   "execution_count": 31,
   "metadata": {
    "deletable": false,
    "editable": false,
    "nbgrader": {
     "cell_type": "code",
     "checksum": "3b3bf314834ca58cf7496a0087016ea3",
     "grade": true,
     "grade_id": "evolve_system_length",
     "locked": true,
     "points": 2,
     "schema_version": 3,
     "solution": false,
     "task": false
    }
   },
   "outputs": [],
   "source": [
    "# these tests are worth 2 marks\n",
    "rules = [\n",
    "    ('A', 'B', 0.0033),\n",
    "    ('B', 'C', 0.0075),\n",
    "    ('C', 'A', 0.009)\n",
    "    \n",
    "]\n",
    "\n",
    "r1, r2, r3 = evolve_system(0,0,250, rules, 17)\n",
    "assert len(r1) == 18\n",
    "assert len(r2) == 18\n",
    "assert len(r3) == 18"
   ]
  },
  {
   "cell_type": "code",
   "execution_count": 32,
   "metadata": {
    "deletable": false,
    "editable": false,
    "nbgrader": {
     "cell_type": "code",
     "checksum": "a441fb953d79363e24e99d7b6ffe791b",
     "grade": true,
     "grade_id": "evolve_system_values",
     "locked": true,
     "points": 2,
     "schema_version": 3,
     "solution": false,
     "task": false
    }
   },
   "outputs": [],
   "source": [
    "# these tests are worth 2 marks \n",
    "testrules = [\n",
    "    ('A', 'B', 0.086),\n",
    "    ('B', 'C', 0.075),\n",
    "    ('C', 'A', 0.19)\n",
    "    \n",
    "]\n",
    "\n",
    "random.seed(9485)\n",
    "r1, r2, r3 = evolve_system(200,200,200, testrules, 20)\n",
    "assert (r1 == [200, 213, 233, 250, 258, 251, 266, 263, 259, 260, 265, 259, 256,\n",
    "        255, 258, 256, 259, 253, 249, 247, 253]).all()\n",
    "assert (r2 == [200, 198, 201, 206, 205, 214, 214, 212, 216, 221, 225, 234, 236,\n",
    "        238, 234, 235, 231, 245, 253, 256, 252]).all()\n",
    "assert (r3 == [200, 189, 166, 144, 137, 135, 120, 125, 125, 119, 110, 107, 108,\n",
    "        107, 108, 109, 110, 102,  98,  97,  95]).all()"
   ]
  },
  {
   "cell_type": "markdown",
   "metadata": {},
   "source": [
    "## Plotting tasks"
   ]
  },
  {
   "cell_type": "markdown",
   "metadata": {
    "deletable": false,
    "editable": false,
    "nbgrader": {
     "cell_type": "markdown",
     "checksum": "758dd7618631763e50b6c8506eb935b1",
     "grade": false,
     "grade_id": "system_plot",
     "locked": true,
     "points": 8,
     "schema_version": 3,
     "solution": false,
     "task": true
    }
   },
   "source": [
    "Create a plot with the number of $A$, $B$ and $C$ nuclei, starting with 250 $C$ nuclei and evolving the system for 100 hours using 200 steps and with neutron flux on. Evolve the system for another 100 hours (using 200 steps) without neutron flux (i.e. no transitions from $C$ to $A$).  \n",
    "\n",
    "The half life of the $A$ atoms is 10.1 hours, the half life of $B$ nuclei is 15.7 hours and we can caracterise the rate of activation of $C$ into $A$ when the neutron flux is on with and effective half-life of 3.2 hours.\n",
    "\n",
    "The plot should have the appropriate labels and legend. [8 marks]    \n",
    "\n",
    "\n"
   ]
  },
  {
   "cell_type": "code",
   "execution_count": 42,
   "metadata": {},
   "outputs": [
    {
     "data": {
      "text/plain": [
       "<matplotlib.legend.Legend at 0x7f866301ff98>"
      ]
     },
     "execution_count": 42,
     "metadata": {},
     "output_type": "execute_result"
    },
    {
     "data": {
      "image/png": "[encoded data removed]",
      "text/plain": [
       "<Figure size 432x288 with 1 Axes>"
      ]
     },
     "metadata": {},
     "output_type": "display_data"
    }
   ],
   "source": [
    "nsteps = 200\n",
    "t_total = 100\n",
    "t_half_A = 10.1\n",
    "t_half_B = 15.7\n",
    "t_half_C = 3.2\n",
    "\n",
    "t = numpy.linspace(0, 100, 201)\n",
    "rules = [\n",
    "    ('A', 'B', numpy.log(2)/t_half_A),\n",
    "    ('B', 'C', numpy.log(2)/t_half_B),\n",
    "    ('C', 'A', numpy.log(2)/t_half_C)\n",
    "]\n",
    "\n",
    "A, B, C = evolve_system(0, 0, 250, rules, nsteps)\n",
    "\n",
    "plt.plot(t, A, label=\"A\")\n",
    "plt.plot(t, B, label=\"B\")\n",
    "plt.plot(t, C, label=\"C\")\n",
    "\n",
    "plt.xlabel(\"Time /s\")\n",
    "plt.ylabel(\"Number of nuclei\")\n",
    "plt.title(\"Number of nuclei over time\")\n",
    "plt.legend()"
   ]
  },
  {
   "cell_type": "markdown",
   "metadata": {
    "deletable": false,
    "editable": false,
    "nbgrader": {
     "cell_type": "markdown",
     "checksum": "8d62922ae8b327e13a0284b44033ccfb",
     "grade": false,
     "grade_id": "average_uncertainty_plot",
     "locked": true,
     "points": 3,
     "schema_version": 3,
     "solution": false,
     "task": true
    }
   },
   "source": [
    "Run the above simulation 20 times with 200 steps and use the results to calculate an average and the uncertainty on the number of $A$ atoms as a function of time. Use and `errorbar` plot for it. You might be interested in the `numpy.average` and `numpy.std` functions. The plot should have axis labels and a title.  [3 marks]\n"
   ]
  },
  {
   "cell_type": "code",
   "execution_count": 55,
   "metadata": {},
   "outputs": [
    {
     "name": "stdout",
     "output_type": "stream",
     "text": [
      "[(0, 0, 0, 0, 0, 0, 0, 0, 0, 0, 0, 0, 0, 0, 0, 0, 0, 0, 0, 0), (66, 55, 44, 48, 54, 60, 57, 53, 50, 52, 56, 49, 37, 54, 50, 58, 60, 49, 63, 54), (97, 98, 83, 79, 92, 94, 93, 90, 79, 80, 85, 86, 81, 99, 81, 95, 89, 96, 100, 97), (119, 121, 115, 113, 112, 120, 122, 125, 118, 111, 110, 112, 116, 126, 101, 124, 116, 119, 125, 112), (126, 133, 131, 127, 131, 130, 132, 132, 133, 125, 127, 137, 133, 143, 129, 141, 137, 137, 137, 131), (148, 141, 157, 139, 151, 151, 144, 138, 146, 136, 137, 146, 143, 147, 147, 148, 143, 169, 145, 138), (149, 149, 158, 147, 151, 158, 146, 143, 158, 149, 145, 149, 151, 144, 147, 153, 153, 177, 152, 141), (149, 156, 157, 149, 151, 156, 154, 146, 153, 156, 145, 158, 156, 153, 154, 152, 156, 177, 148, 144), (152, 156, 159, 156, 147, 164, 152, 151, 148, 158, 144, 153, 155, 158, 151, 155, 161, 166, 145, 140), (142, 157, 153, 157, 144, 164, 156, 152, 147, 159, 142, 149, 159, 162, 151, 151, 161, 158, 140, 141), (132, 148, 147, 155, 145, 164, 152, 147, 143, 153, 143, 146, 154, 159, 150, 152, 158, 155, 144, 141), (141, 141, 145, 147, 146, 158, 148, 142, 141, 152, 143, 142, 144, 158, 154, 147, 153, 149, 141, 135), (135, 142, 147, 145, 141, 148, 142, 135, 139, 146, 140, 138, 141, 154, 149, 149, 155, 137, 140, 137), (128, 138, 144, 140, 141, 149, 143, 130, 137, 137, 134, 135, 136, 154, 140, 141, 147, 136, 133, 135), (125, 134, 136, 138, 138, 136, 140, 124, 138, 135, 120, 132, 130, 141, 135, 134, 140, 128, 134, 129), (108, 129, 125, 133, 129, 134, 137, 112, 125, 125, 127, 128, 129, 137, 130, 129, 134, 119, 125, 123), (104, 126, 123, 132, 126, 130, 135, 113, 119, 126, 122, 125, 126, 129, 127, 123, 129, 116, 116, 119), (102, 126, 118, 126, 121, 125, 126, 113, 113, 124, 120, 122, 128, 126, 125, 119, 122, 112, 111, 118), (103, 118, 111, 122, 115, 119, 120, 112, 111, 128, 117, 123, 125, 118, 113, 113, 123, 113, 104, 121), (106, 112, 107, 117, 118, 115, 121, 104, 109, 120, 116, 112, 118, 116, 109, 114, 114, 113, 102, 120), (105, 111, 105, 111, 111, 114, 112, 108, 103, 111, 115, 104, 117, 116, 105, 111, 108, 106, 96, 119), (103, 107, 101, 104, 106, 109, 107, 109, 97, 107, 107, 102, 109, 114, 104, 104, 108, 103, 97, 116), (101, 104, 102, 99, 100, 110, 102, 105, 100, 102, 106, 100, 106, 110, 104, 104, 106, 102, 97, 117), (106, 107, 104, 102, 97, 107, 103, 107, 100, 100, 99, 101, 107, 106, 96, 103, 104, 101, 94, 118), (106, 95, 97, 102, 89, 103, 98, 104, 94, 94, 100, 100, 109, 110, 93, 97, 102, 99, 93, 113), (108, 95, 94, 102, 90, 101, 97, 108, 92, 95, 96, 106, 104, 104, 94, 103, 103, 93, 97, 112), (109, 97, 93, 102, 87, 102, 94, 104, 89, 97, 98, 108, 101, 96, 93, 102, 99, 94, 98, 108), (108, 100, 94, 94, 86, 98, 90, 100, 80, 95, 94, 102, 101, 99, 91, 101, 97, 93, 102, 107), (108, 97, 90, 92, 85, 102, 84, 96, 79, 93, 92, 102, 102, 97, 92, 101, 95, 91, 102, 103), (103, 102, 92, 87, 87, 102, 85, 104, 80, 89, 95, 109, 97, 98, 90, 99, 95, 92, 104, 110), (102, 98, 92, 86, 87, 97, 86, 99, 79, 86, 88, 108, 97, 99, 89, 98, 97, 92, 100, 107), (100, 101, 90, 88, 87, 90, 86, 103, 82, 90, 88, 106, 101, 95, 89, 98, 95, 90, 103, 104), (99, 94, 92, 92, 83, 89, 85, 105, 80, 86, 94, 103, 100, 93, 91, 95, 93, 92, 100, 104), (99, 91, 101, 90, 80, 82, 84, 104, 85, 82, 95, 107, 96, 91, 91, 95, 95, 90, 99, 107), (91, 88, 102, 88, 83, 82, 84, 107, 86, 84, 91, 102, 94, 97, 96, 97, 95, 90, 95, 103), (91, 84, 98, 93, 79, 84, 84, 111, 84, 84, 92, 95, 91, 96, 96, 93, 91, 92, 96, 101), (92, 87, 101, 92, 82, 81, 85, 107, 84, 89, 87, 95, 95, 92, 95, 101, 89, 98, 97, 99), (95, 84, 96, 89, 80, 79, 80, 100, 83, 83, 88, 97, 97, 83, 98, 102, 86, 97, 98, 99), (92, 85, 96, 84, 83, 81, 81, 93, 84, 80, 93, 97, 95, 88, 95, 106, 86, 95, 95, 98), (91, 89, 92, 79, 80, 81, 86, 84, 80, 82, 93, 98, 92, 87, 90, 106, 89, 95, 94, 98), (94, 93, 88, 80, 81, 80, 85, 80, 83, 81, 93, 92, 86, 89, 92, 102, 90, 97, 94, 103), (96, 91, 89, 79, 87, 82, 89, 76, 85, 77, 96, 94, 90, 85, 89, 105, 86, 97, 94, 101), (94, 89, 87, 77, 86, 82, 93, 76, 80, 82, 95, 96, 90, 82, 95, 100, 87, 97, 88, 101), (97, 93, 83, 84, 90, 84, 88, 83, 84, 81, 100, 99, 93, 83, 95, 95, 95, 91, 86, 102), (92, 96, 84, 81, 96, 78, 90, 87, 84, 83, 94, 96, 90, 82, 98, 94, 91, 90, 89, 103), (98, 97, 81, 79, 96, 80, 88, 85, 82, 77, 88, 87, 88, 86, 95, 94, 87, 91, 92, 107), (94, 95, 77, 84, 86, 80, 89, 85, 84, 74, 86, 88, 85, 89, 97, 98, 92, 91, 83, 109), (94, 89, 80, 85, 80, 82, 94, 90, 83, 81, 89, 84, 85, 95, 97, 95, 94, 91, 83, 105), (93, 86, 78, 87, 82, 83, 91, 96, 82, 83, 87, 81, 87, 94, 97, 97, 92, 94, 81, 104), (85, 85, 81, 82, 85, 89, 92, 98, 90, 83, 87, 83, 84, 88, 97, 97, 92, 98, 86, 97), (83, 83, 76, 78, 84, 86, 89, 98, 93, 84, 91, 87, 88, 84, 95, 95, 90, 99, 89, 97), (83, 78, 77, 74, 83, 89, 95, 89, 92, 82, 90, 91, 86, 86, 101, 88, 88, 96, 89, 99), (85, 77, 78, 69, 79, 91, 94, 88, 94, 86, 92, 83, 86, 86, 100, 87, 92, 100, 88, 103), (81, 79, 80, 67, 77, 89, 92, 88, 96, 86, 94, 86, 85, 87, 101, 88, 93, 100, 83, 103), (84, 80, 78, 66, 79, 89, 91, 87, 92, 87, 95, 93, 86, 93, 101, 88, 97, 97, 84, 97), (88, 78, 73, 68, 77, 93, 87, 86, 92, 91, 92, 91, 81, 91, 98, 83, 100, 96, 88, 97), (90, 82, 67, 68, 73, 90, 86, 82, 92, 90, 91, 91, 82, 93, 94, 83, 103, 98, 85, 95), (90, 88, 70, 65, 75, 93, 88, 81, 89, 84, 97, 86, 82, 91, 99, 80, 104, 98, 88, 92), (85, 92, 70, 68, 79, 92, 89, 85, 87, 87, 97, 87, 83, 87, 98, 77, 103, 95, 88, 92), (83, 97, 77, 70, 79, 90, 86, 86, 92, 84, 95, 87, 84, 85, 96, 77, 104, 104, 90, 94), (82, 98, 80, 69, 83, 92, 83, 86, 85, 78, 100, 91, 85, 84, 96, 79, 100, 100, 86, 91), (87, 96, 85, 75, 84, 93, 85, 89, 84, 81, 106, 94, 85, 85, 93, 77, 96, 100, 83, 92), (90, 95, 84, 72, 91, 90, 90, 81, 86, 78, 105, 96, 79, 85, 94, 87, 97, 102, 81, 89), (91, 98, 92, 78, 91, 89, 94, 87, 90, 79, 104, 94, 79, 84, 89, 85, 97, 98, 82, 89), (91, 100, 86, 85, 93, 87, 99, 89, 90, 80, 101, 93, 81, 91, 85, 88, 96, 98, 83, 89), (91, 97, 84, 90, 92, 83, 96, 87, 88, 80, 96, 94, 80, 95, 82, 85, 94, 96, 87, 90), (92, 94, 90, 88, 97, 84, 95, 81, 94, 79, 92, 96, 76, 98, 88, 88, 93, 101, 90, 94), (95, 100, 93, 85, 91, 86, 92, 80, 94, 77, 89, 91, 80, 94, 86, 89, 93, 100, 88, 95), (92, 101, 94, 84, 95, 82, 90, 81, 94, 77, 92, 91, 80, 98, 87, 83, 90, 102, 90, 93), (94, 101, 90, 86, 101, 82, 99, 82, 89, 82, 90, 88, 79, 94, 82, 85, 92, 99, 86, 91), (93, 103, 86, 89, 95, 85, 100, 89, 87, 87, 88, 82, 82, 95, 86, 85, 91, 101, 85, 90), (99, 104, 83, 94, 93, 91, 101, 88, 85, 88, 90, 80, 84, 99, 84, 79, 88, 97, 81, 90), (101, 108, 82, 96, 93, 95, 102, 89, 85, 88, 88, 78, 85, 100, 88, 84, 87, 95, 82, 99), (104, 111, 82, 98, 92, 94, 102, 93, 88, 93, 89, 73, 83, 95, 84, 87, 93, 94, 78, 94), (105, 111, 75, 93, 91, 92, 99, 98, 87, 89, 89, 80, 79, 95, 83, 81, 97, 95, 81, 93), (100, 111, 83, 91, 94, 92, 100, 94, 91, 86, 92, 78, 78, 91, 83, 78, 90, 96, 81, 91), (99, 106, 83, 88, 94, 89, 99, 92, 91, 87, 95, 80, 81, 89, 82, 83, 88, 96, 77, 88), (90, 101, 78, 90, 93, 89, 103, 84, 96, 83, 96, 81, 84, 90, 83, 80, 86, 96, 83, 91), (90, 100, 82, 84, 93, 87, 106, 81, 92, 85, 93, 79, 87, 89, 83, 83, 84, 93, 83, 88), (91, 95, 78, 84, 95, 87, 102, 79, 86, 89, 93, 82, 87, 89, 87, 82, 85, 96, 84, 85), (89, 96, 75, 82, 91, 91, 103, 77, 91, 92, 97, 84, 92, 94, 89, 90, 85, 99, 83, 80), (81, 100, 75, 77, 91, 95, 102, 79, 92, 93, 88, 82, 95, 94, 81, 91, 77, 98, 82, 85), (83, 99, 79, 75, 89, 93, 105, 79, 88, 92, 86, 82, 90, 88, 82, 95, 76, 97, 84, 85), (81, 99, 78, 76, 91, 93, 104, 77, 89, 92, 87, 78, 81, 92, 78, 94, 80, 94, 86, 87), (82, 94, 84, 81, 91, 96, 101, 75, 85, 94, 88, 78, 80, 101, 80, 91, 83, 98, 82, 91), (83, 97, 83, 79, 90, 99, 101, 75, 82, 89, 88, 79, 80, 99, 83, 88, 81, 88, 81, 96), (84, 95, 83, 78, 89, 99, 103, 79, 84, 93, 87, 80, 83, 98, 84, 91, 73, 87, 82, 96), (90, 92, 85, 77, 92, 98, 99, 77, 87, 92, 87, 77, 83, 97, 84, 92, 75, 94, 81, 90), (91, 95, 86, 79, 96, 94, 102, 78, 89, 86, 86, 78, 88, 101, 85, 91, 74, 85, 78, 88), (94, 99, 88, 79, 100, 99, 103, 79, 90, 88, 87, 77, 87, 103, 87, 89, 72, 89, 82, 88), (91, 94, 90, 79, 95, 97, 101, 80, 89, 84, 86, 77, 87, 101, 89, 86, 73, 90, 83, 91), (91, 88, 97, 84, 87, 96, 95, 81, 81, 82, 85, 80, 87, 104, 92, 89, 74, 87, 80, 85), (95, 88, 93, 82, 82, 99, 89, 85, 87, 78, 83, 86, 87, 104, 96, 89, 75, 91, 76, 88), (97, 86, 89, 84, 83, 96, 93, 90, 86, 81, 85, 91, 85, 106, 99, 83, 77, 84, 76, 87), (96, 89, 88, 74, 79, 100, 93, 86, 87, 82, 88, 98, 87, 107, 97, 79, 82, 83, 78, 92), (96, 92, 90, 77, 78, 101, 95, 85, 84, 78, 89, 101, 85, 104, 90, 79, 79, 84, 81, 99), (99, 96, 88, 82, 80, 95, 99, 87, 85, 75, 91, 102, 82, 103, 88, 83, 82, 83, 76, 101), (93, 95, 90, 81, 80, 100, 103, 87, 87, 72, 94, 100, 77, 100, 93, 85, 81, 80, 81, 97), (92, 96, 90, 79, 78, 99, 97, 93, 89, 75, 92, 100, 83, 100, 95, 83, 84, 86, 81, 93), (95, 98, 86, 79, 81, 96, 95, 85, 88, 73, 92, 102, 83, 95, 97, 79, 81, 86, 83, 91), (87, 99, 84, 86, 81, 95, 95, 88, 85, 71, 94, 102, 89, 93, 99, 81, 84, 84, 80, 93), (85, 100, 89, 89, 86, 90, 98, 91, 85, 81, 91, 98, 86, 94, 95, 78, 82, 81, 77, 89), (86, 104, 93, 90, 84, 90, 100, 90, 86, 84, 86, 99, 91, 92, 90, 79, 82, 76, 80, 90), (85, 105, 94, 86, 89, 92, 101, 93, 88, 82, 84, 95, 81, 89, 93, 83, 80, 70, 85, 91), (78, 104, 93, 94, 86, 88, 103, 92, 87, 83, 85, 94, 91, 87, 96, 83, 79, 77, 90, 93), (81, 99, 87, 88, 87, 85, 100, 94, 79, 78, 84, 101, 95, 83, 97, 82, 86, 79, 86, 96), (82, 100, 86, 89, 80, 88, 101, 95, 81, 77, 82, 100, 94, 82, 91, 86, 89, 74, 92, 96), (80, 99, 84, 92, 80, 87, 96, 95, 84, 76, 82, 97, 101, 83, 88, 83, 88, 77, 95, 100), (76, 95, 83, 92, 80, 90, 92, 91, 88, 74, 78, 95, 99, 79, 84, 81, 87, 78, 94, 100), (81, 98, 90, 97, 82, 89, 87, 94, 84, 82, 79, 97, 100, 80, 82, 83, 93, 80, 98, 98), (82, 92, 92, 94, 79, 86, 84, 88, 84, 85, 80, 92, 99, 82, 85, 78, 92, 85, 100, 93), (78, 97, 91, 92, 82, 91, 86, 88, 86, 84, 78, 93, 103, 81, 87, 80, 92, 83, 96, 93), (83, 101, 90, 91, 85, 95, 92, 86, 79, 86, 83, 93, 97, 87, 90, 83, 91, 85, 96, 94), (79, 102, 93, 97, 89, 92, 88, 84, 80, 87, 85, 90, 95, 86, 89, 81, 91, 88, 89, 92), (75, 96, 96, 96, 94, 86, 87, 86, 78, 83, 80, 90, 98, 85, 89, 80, 91, 88, 93, 94), (82, 98, 100, 102, 86, 91, 85, 88, 80, 83, 79, 90, 95, 89, 93, 87, 94, 89, 95, 95), (81, 103, 99, 96, 89, 89, 92, 87, 85, 92, 80, 89, 95, 89, 97, 92, 94, 92, 88, 96), (84, 102, 99, 93, 90, 87, 86, 97, 89, 92, 83, 86, 92, 83, 89, 92, 96, 92, 90, 93), (84, 105, 104, 96, 91, 93, 88, 90, 91, 95, 79, 85, 97, 83, 89, 97, 94, 90, 87, 95), (84, 108, 103, 94, 88, 94, 87, 90, 88, 97, 75, 87, 92, 80, 88, 97, 96, 88, 85, 95), (82, 108, 101, 95, 86, 92, 86, 91, 89, 98, 71, 87, 88, 81, 90, 101, 97, 92, 87, 94), (85, 104, 101, 92, 90, 93, 82, 91, 91, 94, 75, 91, 93, 80, 89, 106, 94, 84, 82, 91), (81, 103, 98, 88, 91, 92, 83, 90, 90, 94, 76, 82, 88, 76, 93, 101, 97, 82, 83, 92), (75, 96, 93, 92, 92, 96, 86, 83, 83, 93, 79, 87, 86, 78, 96, 104, 91, 84, 83, 91), (81, 90, 92, 96, 88, 96, 87, 81, 83, 93, 80, 85, 86, 79, 90, 109, 93, 80, 86, 98), (87, 90, 95, 86, 96, 95, 85, 81, 85, 88, 78, 85, 85, 76, 91, 105, 91, 78, 89, 99), (89, 87, 93, 86, 98, 95, 91, 84, 90, 91, 80, 78, 90, 77, 90, 103, 91, 77, 86, 101), (88, 84, 90, 86, 97, 101, 88, 79, 92, 89, 79, 79, 88, 76, 93, 99, 91, 77, 87, 105), (97, 81, 86, 85, 95, 103, 90, 81, 92, 93, 77, 77, 85, 80, 91, 100, 93, 85, 84, 105), (98, 81, 93, 89, 92, 104, 85, 79, 84, 92, 81, 78, 89, 81, 91, 97, 96, 84, 80, 103), (90, 87, 93, 96, 84, 101, 84, 78, 85, 92, 78, 80, 87, 79, 89, 95, 92, 87, 79, 98), (90, 93, 96, 96, 86, 95, 87, 82, 87, 97, 78, 78, 87, 75, 92, 92, 96, 87, 79, 97), (91, 87, 96, 94, 85, 88, 91, 78, 81, 98, 76, 79, 88, 77, 91, 89, 98, 94, 83, 100), (90, 86, 100, 97, 87, 85, 92, 83, 82, 101, 72, 77, 87, 81, 92, 86, 93, 95, 85, 98), (90, 77, 107, 99, 92, 90, 86, 80, 79, 98, 70, 78, 86, 83, 89, 85, 92, 100, 84, 95), (91, 85, 108, 96, 96, 91, 85, 77, 80, 96, 74, 79, 83, 88, 87, 84, 98, 98, 85, 97), (91, 89, 103, 90, 99, 93, 87, 80, 84, 99, 76, 74, 81, 86, 83, 85, 96, 96, 86, 102), (94, 90, 103, 92, 95, 89, 86, 82, 83, 101, 70, 75, 82, 84, 81, 89, 103, 96, 86, 108), (99, 87, 100, 92, 104, 90, 81, 86, 84, 95, 69, 79, 89, 91, 80, 83, 103, 91, 87, 98), (97, 85, 99, 86, 105, 89, 81, 87, 88, 93, 76, 81, 91, 81, 85, 84, 106, 91, 88, 94), (90, 81, 94, 81, 102, 92, 83, 90, 86, 92, 75, 86, 87, 78, 83, 81, 105, 89, 82, 94), (94, 83, 97, 83, 100, 93, 82, 87, 87, 91, 79, 81, 90, 73, 82, 86, 101, 91, 76, 94), (96, 83, 94, 84, 98, 93, 81, 86, 83, 92, 79, 83, 98, 71, 86, 82, 104, 98, 75, 89), (95, 84, 92, 82, 94, 95, 83, 90, 81, 87, 77, 83, 95, 71, 81, 84, 102, 101, 83, 88), (93, 86, 92, 81, 97, 92, 85, 97, 78, 90, 77, 87, 92, 73, 75, 84, 98, 99, 80, 84), (95, 82, 94, 84, 96, 90, 83, 94, 80, 85, 82, 85, 89, 77, 77, 85, 96, 104, 81, 85), (98, 86, 92, 84, 93, 90, 86, 96, 85, 84, 86, 87, 85, 80, 76, 86, 87, 102, 80, 90), (98, 82, 91, 86, 101, 93, 81, 95, 83, 85, 84, 87, 86, 83, 83, 88, 82, 94, 78, 93), (97, 87, 95, 83, 105, 89, 80, 93, 81, 88, 84, 84, 82, 86, 85, 89, 83, 95, 80, 89), (101, 84, 99, 94, 112, 91, 84, 90, 89, 86, 87, 86, 82, 86, 80, 86, 81, 92, 83, 89), (102, 88, 104, 98, 114, 89, 84, 90, 93, 85, 85, 91, 83, 80, 83, 88, 80, 90, 83, 88), (100, 92, 104, 89, 112, 97, 87, 86, 96, 84, 88, 89, 86, 74, 83, 88, 78, 87, 83, 86), (97, 84, 100, 87, 112, 99, 87, 84, 93, 85, 91, 88, 89, 72, 82, 87, 77, 83, 82, 83), (102, 80, 96, 84, 110, 97, 91, 87, 95, 88, 91, 95, 93, 70, 79, 85, 79, 88, 93, 86), (102, 77, 95, 81, 113, 99, 86, 85, 93, 84, 90, 94, 93, 71, 82, 79, 80, 87, 95, 87), (104, 77, 92, 82, 113, 94, 87, 78, 92, 87, 89, 94, 88, 74, 83, 80, 80, 91, 93, 89), (101, 79, 88, 79, 111, 90, 85, 72, 87, 87, 87, 93, 91, 75, 84, 78, 83, 90, 95, 89), (102, 77, 88, 76, 103, 92, 90, 71, 82, 92, 83, 96, 93, 76, 91, 82, 82, 96, 92, 83), (99, 80, 92, 72, 103, 92, 89, 75, 85, 94, 86, 95, 102, 78, 92, 83, 81, 93, 88, 79), (102, 82, 88, 70, 97, 93, 91, 77, 85, 91, 83, 93, 106, 79, 93, 86, 80, 95, 86, 82), (98, 77, 81, 70, 100, 93, 93, 81, 87, 89, 86, 93, 113, 83, 93, 89, 79, 94, 89, 87), (99, 79, 79, 71, 93, 86, 94, 81, 87, 83, 85, 96, 115, 80, 88, 89, 80, 93, 92, 87), (98, 78, 78, 73, 96, 88, 92, 82, 88, 87, 86, 98, 110, 79, 85, 96, 86, 92, 95, 83), (96, 73, 74, 76, 92, 88, 92, 82, 90, 91, 81, 95, 106, 79, 78, 100, 94, 91, 101, 88), (91, 74, 78, 80, 90, 84, 97, 81, 86, 90, 85, 95, 99, 76, 70, 99, 96, 85, 100, 89), (97, 75, 82, 77, 91, 87, 102, 84, 85, 91, 78, 91, 102, 78, 74, 94, 96, 82, 100, 93), (99, 77, 90, 84, 88, 90, 99, 86, 82, 100, 80, 90, 100, 83, 79, 98, 97, 82, 103, 92), (99, 74, 94, 84, 88, 85, 93, 83, 81, 102, 80, 94, 94, 84, 79, 97, 95, 82, 102, 97), (93, 77, 94, 88, 94, 84, 94, 84, 80, 96, 81, 92, 93, 84, 74, 97, 94, 78, 91, 92), (95, 79, 99, 93, 93, 84, 91, 83, 83, 99, 78, 93, 91, 82, 82, 90, 93, 77, 89, 93), (95, 81, 100, 94, 93, 86, 95, 81, 87, 99, 83, 90, 87, 84, 89, 90, 93, 72, 88, 86), (97, 81, 94, 91, 85, 89, 93, 80, 90, 97, 92, 92, 83, 77, 87, 90, 95, 74, 86, 86), (91, 83, 92, 92, 87, 96, 92, 83, 89, 94, 88, 91, 83, 79, 90, 83, 95, 75, 82, 82), (87, 86, 86, 95, 82, 95, 89, 88, 95, 95, 91, 89, 81, 78, 89, 83, 93, 78, 82, 86), (87, 79, 84, 96, 82, 97, 90, 92, 98, 93, 92, 92, 81, 83, 84, 80, 86, 78, 78, 88), (88, 76, 86, 94, 81, 98, 92, 89, 98, 91, 91, 89, 81, 84, 85, 88, 84, 80, 80, 87), (86, 75, 80, 99, 73, 96, 90, 85, 95, 86, 89, 87, 78, 84, 85, 85, 84, 83, 79, 88), (86, 69, 85, 95, 76, 93, 90, 89, 98, 91, 86, 88, 77, 82, 87, 93, 87, 83, 77, 86), (87, 72, 91, 97, 75, 95, 92, 87, 99, 84, 87, 89, 75, 81, 82, 96, 84, 87, 79, 85), (92, 77, 95, 100, 74, 95, 93, 92, 98, 84, 83, 90, 76, 88, 78, 95, 89, 83, 79, 83), (91, 77, 99, 99, 81, 93, 96, 96, 93, 83, 75, 82, 76, 83, 80, 98, 85, 89, 75, 78), (91, 76, 98, 101, 81, 84, 95, 96, 94, 87, 73, 79, 79, 83, 87, 90, 87, 90, 75, 75), (93, 75, 98, 98, 81, 85, 100, 94, 91, 93, 69, 86, 82, 82, 84, 90, 88, 91, 78, 77), (92, 79, 102, 99, 86, 83, 106, 93, 92, 91, 67, 83, 81, 77, 88, 92, 91, 94, 78, 75), (93, 78, 96, 95, 88, 81, 101, 96, 91, 93, 69, 83, 81, 76, 88, 92, 92, 93, 75, 76), (94, 82, 94, 95, 89, 83, 108, 96, 92, 97, 70, 81, 81, 67, 91, 95, 91, 90, 75, 79), (90, 82, 89, 93, 92, 82, 104, 99, 95, 93, 69, 76, 82, 67, 91, 89, 90, 93, 69, 78), (88, 88, 88, 83, 98, 83, 108, 99, 96, 87, 73, 78, 81, 71, 89, 88, 91, 92, 72, 79), (90, 86, 86, 79, 94, 81, 104, 96, 98, 85, 67, 84, 80, 75, 84, 90, 90, 92, 76, 82), (93, 87, 84, 79, 91, 84, 104, 96, 97, 83, 67, 85, 80, 79, 84, 85, 87, 86, 73, 81), (96, 89, 81, 78, 97, 76, 100, 96, 86, 84, 61, 88, 71, 76, 85, 81, 87, 83, 72, 87), (95, 90, 81, 80, 99, 77, 101, 96, 89, 87, 71, 92, 76, 74, 81, 85, 88, 83, 70, 84), (87, 90, 86, 87, 98, 73, 96, 90, 86, 86, 70, 88, 85, 78, 82, 83, 93, 83, 70, 82), (91, 92, 85, 84, 95, 75, 100, 89, 87, 90, 72, 91, 83, 81, 79, 79, 94, 81, 73, 82), (91, 84, 84, 88, 95, 69, 96, 90, 83, 83, 71, 92, 88, 84, 80, 78, 90, 84, 72, 89), (88, 89, 80, 85, 89, 72, 95, 88, 80, 84, 75, 90, 88, 83, 79, 80, 92, 94, 76, 88), (82, 88, 77, 87, 85, 77, 96, 85, 81, 87, 73, 89, 94, 84, 85, 83, 89, 96, 72, 89), (81, 82, 73, 89, 85, 76, 98, 80, 83, 85, 72, 94, 92, 83, 84, 84, 88, 92, 71, 89), (83, 82, 74, 89, 85, 80, 99, 77, 85, 80, 80, 89, 82, 81, 83, 79, 84, 92, 70, 89), (83, 84, 70, 90, 82, 79, 100, 75, 88, 79, 75, 87, 80, 83, 82, 77, 88, 93, 82, 83), (88, 83, 72, 92, 79, 77, 101, 77, 86, 86, 75, 88, 82, 79, 88, 86, 86, 94, 81, 82)]\n"
     ]
    },
    {
     "ename": "AssertionError",
     "evalue": "",
     "output_type": "error",
     "traceback": [
      "\u001b[0;31m---------------------------------------------------------------------------\u001b[0m",
      "\u001b[0;31mAssertionError\u001b[0m                            Traceback (most recent call last)",
      "\u001b[0;32m<ipython-input-55-39fe6ef121c7>\u001b[0m in \u001b[0;36m<module>\u001b[0;34m()\u001b[0m\n\u001b[1;32m     26\u001b[0m \u001b[0maStd\u001b[0m \u001b[0;34m=\u001b[0m \u001b[0mnumpy\u001b[0m\u001b[0;34m.\u001b[0m\u001b[0mstd\u001b[0m\u001b[0;34m(\u001b[0m\u001b[0mallA\u001b[0m\u001b[0;34m)\u001b[0m\u001b[0;34m\u001b[0m\u001b[0m\n\u001b[1;32m     27\u001b[0m \u001b[0;34m\u001b[0m\u001b[0m\n\u001b[0;32m---> 28\u001b[0;31m \u001b[0mplt\u001b[0m\u001b[0;34m.\u001b[0m\u001b[0merrorbar\u001b[0m\u001b[0;34m(\u001b[0m\u001b[0mn\u001b[0m\u001b[0;34m,\u001b[0m \u001b[0maAvg\u001b[0m\u001b[0;34m,\u001b[0m \u001b[0myerr\u001b[0m\u001b[0;34m=\u001b[0m\u001b[0maStd\u001b[0m\u001b[0;34m)\u001b[0m\u001b[0;34m\u001b[0m\u001b[0m\n\u001b[0m",
      "\u001b[0;32m/opt/conda/lib/python3.6/site-packages/matplotlib/pyplot.py\u001b[0m in \u001b[0;36merrorbar\u001b[0;34m(x, y, yerr, xerr, fmt, ecolor, elinewidth, capsize, barsabove, lolims, uplims, xlolims, xuplims, errorevery, capthick, hold, data, **kwargs)\u001b[0m\n\u001b[1;32m   2989\u001b[0m                           \u001b[0mxlolims\u001b[0m\u001b[0;34m=\u001b[0m\u001b[0mxlolims\u001b[0m\u001b[0;34m,\u001b[0m \u001b[0mxuplims\u001b[0m\u001b[0;34m=\u001b[0m\u001b[0mxuplims\u001b[0m\u001b[0;34m,\u001b[0m\u001b[0;34m\u001b[0m\u001b[0m\n\u001b[1;32m   2990\u001b[0m                           \u001b[0merrorevery\u001b[0m\u001b[0;34m=\u001b[0m\u001b[0merrorevery\u001b[0m\u001b[0;34m,\u001b[0m \u001b[0mcapthick\u001b[0m\u001b[0;34m=\u001b[0m\u001b[0mcapthick\u001b[0m\u001b[0;34m,\u001b[0m \u001b[0mdata\u001b[0m\u001b[0;34m=\u001b[0m\u001b[0mdata\u001b[0m\u001b[0;34m,\u001b[0m\u001b[0;34m\u001b[0m\u001b[0m\n\u001b[0;32m-> 2991\u001b[0;31m                           **kwargs)\n\u001b[0m\u001b[1;32m   2992\u001b[0m     \u001b[0;32mfinally\u001b[0m\u001b[0;34m:\u001b[0m\u001b[0;34m\u001b[0m\u001b[0m\n\u001b[1;32m   2993\u001b[0m         \u001b[0max\u001b[0m\u001b[0;34m.\u001b[0m\u001b[0m_hold\u001b[0m \u001b[0;34m=\u001b[0m \u001b[0mwashold\u001b[0m\u001b[0;34m\u001b[0m\u001b[0m\n",
      "\u001b[0;32m/opt/conda/lib/python3.6/site-packages/matplotlib/__init__.py\u001b[0m in \u001b[0;36minner\u001b[0;34m(ax, *args, **kwargs)\u001b[0m\n\u001b[1;32m   1865\u001b[0m                         \u001b[0;34m\"the Matplotlib list!)\"\u001b[0m \u001b[0;34m%\u001b[0m \u001b[0;34m(\u001b[0m\u001b[0mlabel_namer\u001b[0m\u001b[0;34m,\u001b[0m \u001b[0mfunc\u001b[0m\u001b[0;34m.\u001b[0m\u001b[0m__name__\u001b[0m\u001b[0;34m)\u001b[0m\u001b[0;34m,\u001b[0m\u001b[0;34m\u001b[0m\u001b[0m\n\u001b[1;32m   1866\u001b[0m                         RuntimeWarning, stacklevel=2)\n\u001b[0;32m-> 1867\u001b[0;31m             \u001b[0;32mreturn\u001b[0m \u001b[0mfunc\u001b[0m\u001b[0;34m(\u001b[0m\u001b[0max\u001b[0m\u001b[0;34m,\u001b[0m \u001b[0;34m*\u001b[0m\u001b[0margs\u001b[0m\u001b[0;34m,\u001b[0m \u001b[0;34m**\u001b[0m\u001b[0mkwargs\u001b[0m\u001b[0;34m)\u001b[0m\u001b[0;34m\u001b[0m\u001b[0m\n\u001b[0m\u001b[1;32m   1868\u001b[0m \u001b[0;34m\u001b[0m\u001b[0m\n\u001b[1;32m   1869\u001b[0m         inner.__doc__ = _add_data_doc(inner.__doc__,\n",
      "\u001b[0;32m/opt/conda/lib/python3.6/site-packages/matplotlib/axes/_axes.py\u001b[0m in \u001b[0;36merrorbar\u001b[0;34m(self, x, y, yerr, xerr, fmt, ecolor, elinewidth, capsize, barsabove, lolims, uplims, xlolims, xuplims, errorevery, capthick, **kwargs)\u001b[0m\n\u001b[1;32m   3322\u001b[0m             \u001b[0mnoylims\u001b[0m \u001b[0;34m=\u001b[0m \u001b[0;34m~\u001b[0m\u001b[0;34m(\u001b[0m\u001b[0mlolims\u001b[0m \u001b[0;34m|\u001b[0m \u001b[0muplims\u001b[0m\u001b[0;34m)\u001b[0m\u001b[0;34m\u001b[0m\u001b[0m\n\u001b[1;32m   3323\u001b[0m             \u001b[0;32mif\u001b[0m \u001b[0mnoylims\u001b[0m\u001b[0;34m.\u001b[0m\u001b[0many\u001b[0m\u001b[0;34m(\u001b[0m\u001b[0;34m)\u001b[0m \u001b[0;32mor\u001b[0m \u001b[0mlen\u001b[0m\u001b[0;34m(\u001b[0m\u001b[0mnoylims\u001b[0m\u001b[0;34m)\u001b[0m \u001b[0;34m==\u001b[0m \u001b[0;36m0\u001b[0m\u001b[0;34m:\u001b[0m\u001b[0;34m\u001b[0m\u001b[0m\n\u001b[0;32m-> 3324\u001b[0;31m                 \u001b[0mxo\u001b[0m\u001b[0;34m,\u001b[0m \u001b[0m_\u001b[0m \u001b[0;34m=\u001b[0m \u001b[0mxywhere\u001b[0m\u001b[0;34m(\u001b[0m\u001b[0mx\u001b[0m\u001b[0;34m,\u001b[0m \u001b[0mlower\u001b[0m\u001b[0;34m,\u001b[0m \u001b[0mnoylims\u001b[0m \u001b[0;34m&\u001b[0m \u001b[0meverymask\u001b[0m\u001b[0;34m)\u001b[0m\u001b[0;34m\u001b[0m\u001b[0m\n\u001b[0m\u001b[1;32m   3325\u001b[0m                 \u001b[0mlo\u001b[0m\u001b[0;34m,\u001b[0m \u001b[0muo\u001b[0m \u001b[0;34m=\u001b[0m \u001b[0mxywhere\u001b[0m\u001b[0;34m(\u001b[0m\u001b[0mlower\u001b[0m\u001b[0;34m,\u001b[0m \u001b[0mupper\u001b[0m\u001b[0;34m,\u001b[0m \u001b[0mnoylims\u001b[0m \u001b[0;34m&\u001b[0m \u001b[0meverymask\u001b[0m\u001b[0;34m)\u001b[0m\u001b[0;34m\u001b[0m\u001b[0m\n\u001b[1;32m   3326\u001b[0m                 \u001b[0mbarcols\u001b[0m\u001b[0;34m.\u001b[0m\u001b[0mappend\u001b[0m\u001b[0;34m(\u001b[0m\u001b[0mself\u001b[0m\u001b[0;34m.\u001b[0m\u001b[0mvlines\u001b[0m\u001b[0;34m(\u001b[0m\u001b[0mxo\u001b[0m\u001b[0;34m,\u001b[0m \u001b[0mlo\u001b[0m\u001b[0;34m,\u001b[0m \u001b[0muo\u001b[0m\u001b[0;34m,\u001b[0m \u001b[0;34m**\u001b[0m\u001b[0meb_lines_style\u001b[0m\u001b[0;34m)\u001b[0m\u001b[0;34m)\u001b[0m\u001b[0;34m\u001b[0m\u001b[0m\n",
      "\u001b[0;32m/opt/conda/lib/python3.6/site-packages/matplotlib/axes/_axes.py\u001b[0m in \u001b[0;36mxywhere\u001b[0;34m(xs, ys, mask)\u001b[0m\n\u001b[1;32m   3223\u001b[0m             \u001b[0mys\u001b[0m \u001b[0mare\u001b[0m \u001b[0;32mnot\u001b[0m \u001b[0marrays\u001b[0m\u001b[0;34m\u001b[0m\u001b[0m\n\u001b[1;32m   3224\u001b[0m             \"\"\"\n\u001b[0;32m-> 3225\u001b[0;31m             \u001b[0;32massert\u001b[0m \u001b[0mlen\u001b[0m\u001b[0;34m(\u001b[0m\u001b[0mxs\u001b[0m\u001b[0;34m)\u001b[0m \u001b[0;34m==\u001b[0m \u001b[0mlen\u001b[0m\u001b[0;34m(\u001b[0m\u001b[0mys\u001b[0m\u001b[0;34m)\u001b[0m\u001b[0;34m\u001b[0m\u001b[0m\n\u001b[0m\u001b[1;32m   3226\u001b[0m             \u001b[0;32massert\u001b[0m \u001b[0mlen\u001b[0m\u001b[0;34m(\u001b[0m\u001b[0mxs\u001b[0m\u001b[0;34m)\u001b[0m \u001b[0;34m==\u001b[0m \u001b[0mlen\u001b[0m\u001b[0;34m(\u001b[0m\u001b[0mmask\u001b[0m\u001b[0;34m)\u001b[0m\u001b[0;34m\u001b[0m\u001b[0m\n\u001b[1;32m   3227\u001b[0m             \u001b[0mxs\u001b[0m \u001b[0;34m=\u001b[0m \u001b[0;34m[\u001b[0m\u001b[0mthisx\u001b[0m \u001b[0;32mfor\u001b[0m \u001b[0mthisx\u001b[0m\u001b[0;34m,\u001b[0m \u001b[0mb\u001b[0m \u001b[0;32min\u001b[0m \u001b[0mzip\u001b[0m\u001b[0;34m(\u001b[0m\u001b[0mxs\u001b[0m\u001b[0;34m,\u001b[0m \u001b[0mmask\u001b[0m\u001b[0;34m)\u001b[0m \u001b[0;32mif\u001b[0m \u001b[0mb\u001b[0m\u001b[0;34m]\u001b[0m\u001b[0;34m\u001b[0m\u001b[0m\n",
      "\u001b[0;31mAssertionError\u001b[0m: "
     ]
    },
    {
     "data": {
      "image/png": "[encoded data removed]",
      "text/plain": [
       "<Figure size 432x288 with 1 Axes>"
      ]
     },
     "metadata": {},
     "output_type": "display_data"
    }
   ],
   "source": [
    "nsim = 20\n",
    "nsteps = 200\n",
    "t_total = 100\n",
    "t_half_A = 10.1\n",
    "t_half_B = 15.7\n",
    "t_half_C = 3.2\n",
    "\n",
    "t = numpy.linspace(0, 100, 201)\n",
    "rules = [\n",
    "    ('A', 'B', numpy.log(2)/t_half_A),\n",
    "    ('B', 'C', numpy.log(2)/t_half_B),\n",
    "    ('C', 'A', numpy.log(2)/t_half_C)\n",
    "]\n",
    "\n",
    "allA = []\n",
    "\n",
    "for sim in range(nsim):\n",
    "    A, B, C = evolve_system(0, 0, 250, rules, nsteps)\n",
    "    \n",
    "    allA.append(list(A))\n",
    "\n",
    "n = numpy.arange(1, nsim+1, 1)\n",
    "aAvg = [sum(i)/len(i) for i in ]\n",
    "aStd = numpy.std(allA)\n",
    "\n",
    "plt.errorbar(n, aAvg, yerr=aStd)"
   ]
  },
  {
   "cell_type": "code",
   "execution_count": null,
   "metadata": {},
   "outputs": [],
   "source": []
  }
 ],
 "metadata": {
  "kernelspec": {
   "display_name": "Python 3",
   "language": "python",
   "name": "python3"
  },
  "language_info": {
   "codemirror_mode": {
    "name": "ipython",
    "version": 3
   },
   "file_extension": ".py",
   "mimetype": "text/x-python",
   "name": "python",
   "nbconvert_exporter": "python",
   "pygments_lexer": "ipython3",
   "version": "3.6.3"
  },
  "toc": {
   "base_numbering": 1,
   "nav_menu": {},
   "number_sections": false,
   "sideBar": true,
   "skip_h1_title": false,
   "title_cell": "Table of Contents",
   "title_sidebar": "Contents",
   "toc_cell": false,
   "toc_position": {},
   "toc_section_display": true,
   "toc_window_display": false
  }
 },
 "nbformat": 4,
 "nbformat_minor": 2
}
