{
 "cells": [
  {
   "cell_type": "markdown",
   "metadata": {
    "deletable": false,
    "editable": false,
    "nbgrader": {
     "cell_type": "markdown",
     "checksum": "99cbf87edda3e3e5292c2402de7d1b06",
     "grade": false,
     "grade_id": "cell-0867630144920503",
     "locked": true,
     "schema_version": 3,
     "solution": false
    }
   },
   "source": [
    "# <center>L2 Computational Physics</center>\n",
    "---\n",
    "\n",
    "## Week 5: Monte Carlo Methods\n",
    "\n",
    "In this notebook, you will simulate a system with of three nuclei $A$, $B$ and $C$ where $A$ decays into $B$ and $B$ decays into $C$. If exposed to a neutron flux nucleus $C$ can be activated into a nucleus $A$. "
   ]
  },
  {
   "cell_type": "code",
   "execution_count": 1,
   "metadata": {
    "deletable": false,
    "editable": false,
    "nbgrader": {
     "cell_type": "code",
     "checksum": "321569d9eb049b6c5b93fc8b54ba3f29",
     "grade": false,
     "grade_id": "cell-79b49b449ef54a80",
     "locked": true,
     "schema_version": 3,
     "solution": false
    }
   },
   "outputs": [],
   "source": [
    "import numpy\n",
    "from matplotlib import pyplot as plt\n",
    "import random"
   ]
  },
  {
   "cell_type": "markdown",
   "metadata": {
    "deletable": false,
    "editable": false,
    "nbgrader": {
     "cell_type": "markdown",
     "checksum": "d83a755092ba510666e3bf1badd76395",
     "grade": false,
     "grade_id": "cell-8fc424548b449218",
     "locked": true,
     "schema_version": 3,
     "solution": false,
     "task": false
    }
   },
   "source": [
    "Implement a function that tells whether a transition has occured, based on the transition probability and a random number. Use the random number `r` from `random.random()` and use the procedure described in the notes so that the checks can work in a reproducible way."
   ]
  },
  {
   "cell_type": "code",
   "execution_count": 3,
   "metadata": {
    "deletable": false,
    "nbgrader": {
     "cell_type": "code",
     "checksum": "63100f06b5143da8a8289b2beaef3328",
     "grade": false,
     "grade_id": "decay_function",
     "locked": false,
     "schema_version": 3,
     "solution": true,
     "task": false
    }
   },
   "outputs": [],
   "source": [
    "def has_transitioned(prob):\n",
    "    r = random.random()\n",
    "    # YOUR CODE HERE\n",
    "    if r<prob:\n",
    "        return True\n",
    "    else:\n",
    "        return False"
   ]
  },
  {
   "cell_type": "code",
   "execution_count": 4,
   "metadata": {
    "deletable": false,
    "editable": false,
    "nbgrader": {
     "cell_type": "code",
     "checksum": "c968197e1aeb831aef895bb6852e22dc",
     "grade": true,
     "grade_id": "decay_function_test",
     "locked": true,
     "points": 1,
     "schema_version": 3,
     "solution": false,
     "task": false
    }
   },
   "outputs": [],
   "source": [
    "# this test is worth 1 mark\n",
    "random.seed(9867)\n",
    "assert [ has_transitioned(0.5) for i in range(10)] == [False, False, True, False, False, False, False, True, False, True]"
   ]
  },
  {
   "cell_type": "markdown",
   "metadata": {
    "deletable": false,
    "editable": false,
    "nbgrader": {
     "cell_type": "markdown",
     "checksum": "863ef95dde1b79b2f6a45296474892d6",
     "grade": false,
     "grade_id": "cell-2145274701a17ae6",
     "locked": true,
     "schema_version": 3,
     "solution": false,
     "task": false
    }
   },
   "source": [
    "We are going to keep track of the state of the atoms using a either `'A'`, `'B'` or `'C'` for each nucleus. For example \n",
    "```python\n",
    "state = ['A', 'A', 'B', 'A', 'C']\n",
    "```\n",
    "\n",
    "We will capture the possible physical reaction in a list of allowed transitions such as\n",
    "\n",
    "`('A', 'B', 0.25 )`\n",
    "\n",
    "where the first element is the initial state, the second element is the final state of the transition and its probability in the time interval considered is the third argument.\n",
    "\n",
    "Define a function that takes as arguments the current state and a list of such transition rules and implements the transition (or not) and returns the new state"
   ]
  },
  {
   "cell_type": "code",
   "execution_count": 7,
   "metadata": {
    "deletable": false,
    "nbgrader": {
     "cell_type": "code",
     "checksum": "2f91185de0b99b2034ef740e8dc32826",
     "grade": false,
     "grade_id": "evolve_function",
     "locked": false,
     "schema_version": 3,
     "solution": true,
     "task": false
    }
   },
   "outputs": [],
   "source": [
    "def evolveOne(currentState, rules):\n",
    "    # YOUR CODE HERE\n",
    "    for i in range(len(rules)):\n",
    "        if currentState == rules[i][0]:\n",
    "            a = has_transitioned(rules[i][2])\n",
    "            if a == True:\n",
    "                return rules[i][1]\n",
    "            if a == False:\n",
    "                return rules[i][0]\n",
    "    else:\n",
    "        return currentState\n",
    "                "
   ]
  },
  {
   "cell_type": "code",
   "execution_count": 8,
   "metadata": {
    "deletable": false,
    "editable": false,
    "nbgrader": {
     "cell_type": "code",
     "checksum": "3154c068da716f5153052e6df93ac3d8",
     "grade": true,
     "grade_id": "cell-7782dc2753905180",
     "locked": true,
     "points": 1,
     "schema_version": 3,
     "solution": false,
     "task": false
    }
   },
   "outputs": [],
   "source": [
    "# these tests are worth 1 mark\n",
    "alwaysDecayRules = [\n",
    "    ('A', 'B', 1.0),\n",
    "    ('B', 'C', 1.0)\n",
    "]\n",
    "assert evolveOne('A', alwaysDecayRules) == 'B'\n",
    "assert evolveOne('B', alwaysDecayRules) == 'C'"
   ]
  },
  {
   "cell_type": "code",
   "execution_count": 9,
   "metadata": {
    "deletable": false,
    "editable": false,
    "nbgrader": {
     "cell_type": "code",
     "checksum": "983368b2058fcebe4bbd9d999cedfccf",
     "grade": true,
     "grade_id": "cell-e2a70f6b9e202d32",
     "locked": true,
     "points": 2,
     "schema_version": 3,
     "solution": false,
     "task": false
    }
   },
   "outputs": [],
   "source": [
    "# these tests are worth 2 mark\n",
    "random.seed(112211)\n",
    "testRules = [\n",
    "    ('A', 'B', 0.33),\n",
    "    ('B', 'C', 0.75)\n",
    "]\n",
    "assert evolveOne('A', testRules) == 'A'\n",
    "assert evolveOne('A', testRules) == 'A'\n",
    "assert evolveOne('A', testRules) == 'A'\n",
    "assert evolveOne('A', testRules) == 'A'\n",
    "assert evolveOne('A', testRules) == 'B'\n",
    "\n",
    "assert evolveOne('B', testRules) == 'B'\n",
    "assert evolveOne('B', testRules) == 'C'\n",
    "assert evolveOne('B', testRules) == 'C'\n",
    "assert evolveOne('B', testRules) == 'C'\n",
    "assert evolveOne('B', testRules) == 'C'\n",
    "\n",
    "# with no rules there should be no change\n",
    "assert evolveOne('C', testRules) == 'C'\n"
   ]
  },
  {
   "cell_type": "markdown",
   "metadata": {
    "deletable": false,
    "editable": false,
    "nbgrader": {
     "cell_type": "markdown",
     "checksum": "3af513ec634c58060bda27a8f1577cc6",
     "grade": false,
     "grade_id": "cell-f97a55a8ad8bd3d4",
     "locked": true,
     "schema_version": 3,
     "solution": false,
     "task": false
    }
   },
   "source": [
    "Now implement a function that takes a list of states and transition them according to the rules passed as argument. This function should return a new vector of states, it should not modify the state passed as an argument!"
   ]
  },
  {
   "cell_type": "code",
   "execution_count": 11,
   "metadata": {
    "deletable": false,
    "nbgrader": {
     "cell_type": "code",
     "checksum": "881bb86514741777729e52d4e7343a8e",
     "grade": false,
     "grade_id": "cell-b6743e72d540ebc3",
     "locked": false,
     "schema_version": 3,
     "solution": true,
     "task": false
    }
   },
   "outputs": [],
   "source": [
    "def evolveMany(states, rules):\n",
    "    newState = []\n",
    "    # YOUR CODE HERE\n",
    "    for i in range(len(states)):\n",
    "        newState.append(evolveOne(states[i],rules))\n",
    "    return newState\n"
   ]
  },
  {
   "cell_type": "code",
   "execution_count": 12,
   "metadata": {
    "deletable": false,
    "editable": false,
    "nbgrader": {
     "cell_type": "code",
     "checksum": "f807f087b273be2963f779816e5c8f9c",
     "grade": true,
     "grade_id": "cell-231f8396b20ac4be",
     "locked": true,
     "points": 1,
     "schema_version": 3,
     "solution": false,
     "task": false
    }
   },
   "outputs": [],
   "source": [
    "# these tests are worth 1 mark\n",
    "random.seed(112287)\n",
    "testRules = [\n",
    "    ('A', 'B', 0.33),\n",
    "    ('B', 'C', 0.75)\n",
    "]\n",
    "initialTestArray = ['A','B','C']*5\n",
    "evolvedTest = evolveMany(initialTestArray, testRules)\n",
    "targetArray = ['B', 'C', 'C', 'A', 'C', 'C', 'A', 'B', 'C', 'A', 'C', 'C', 'B', 'C', 'C'] \n",
    "assert evolvedTest == targetArray\n",
    "# checks the initial array is left unchanged\n",
    "assert initialTestArray == ['A','B','C']*5"
   ]
  },
  {
   "cell_type": "markdown",
   "metadata": {
    "deletable": false,
    "editable": false,
    "nbgrader": {
     "cell_type": "markdown",
     "checksum": "3601312254dc022b8bca15d56f4cc652",
     "grade": false,
     "grade_id": "cell-4ffbe8df7a50fafb",
     "locked": true,
     "schema_version": 3,
     "solution": false,
     "task": false
    }
   },
   "source": [
    "Define a function that evolves a system that starts with initial amounts `NA`, `NB` and `NC` of $A$, $B$ and $C$ nuclei and evolved it in `n_timestep` from time $t=0$ to $t=t_{max}$. The function should return three arrays, one for each atom type, of the number of nuclei of that type at each time step. Each array should contain `n_timestep+1` elements including the initial amount. \n",
    " "
   ]
  },
  {
   "cell_type": "code",
   "execution_count": 19,
   "metadata": {
    "deletable": false,
    "nbgrader": {
     "cell_type": "code",
     "checksum": "8082bfd4e4ee17ba3850ef6615c21373",
     "grade": false,
     "grade_id": "evolve_system",
     "locked": false,
     "schema_version": 3,
     "solution": true,
     "task": false
    }
   },
   "outputs": [],
   "source": [
    "def evolve_system(NA, NB, NC, rules, n_step):\n",
    "    state = (['A'] * NA)+(['B'] * NB)+(['C'] * NC)\n",
    "\n",
    "    A_count = numpy.empty(n_step + 1, dtype=int)\n",
    "    B_count = numpy.empty(n_step + 1, dtype=int)\n",
    "    C_count = numpy.empty(n_step + 1, dtype=int)\n",
    "\n",
    "    # YOUR CODE HERE\n",
    "    A_count[0]=NA\n",
    "    B_count[0]=NB\n",
    "    C_count[0]=NC\n",
    "    for i in range(n_step):\n",
    "        state = evolveMany(state,rules)\n",
    "        CountA = state.count('A')\n",
    "        CountB = state.count('B')\n",
    "        CountC = state.count('C')\n",
    "        A_count[i+1] = CountA\n",
    "        B_count[i+1] = CountB\n",
    "        C_count[i+1] = CountC\n",
    "    return A_count, B_count, C_count"
   ]
  },
  {
   "cell_type": "code",
   "execution_count": 20,
   "metadata": {
    "deletable": false,
    "editable": false,
    "nbgrader": {
     "cell_type": "code",
     "checksum": "3b3bf314834ca58cf7496a0087016ea3",
     "grade": true,
     "grade_id": "evolve_system_length",
     "locked": true,
     "points": 2,
     "schema_version": 3,
     "solution": false,
     "task": false
    }
   },
   "outputs": [],
   "source": [
    "# these tests are worth 2 marks\n",
    "rules = [\n",
    "    ('A', 'B', 0.0033),\n",
    "    ('B', 'C', 0.0075),\n",
    "    ('C', 'A', 0.009)\n",
    "    \n",
    "]\n",
    "\n",
    "r1, r2, r3 = evolve_system(0,0,250, rules, 17)\n",
    "assert len(r1) == 18\n",
    "assert len(r2) == 18\n",
    "assert len(r3) == 18"
   ]
  },
  {
   "cell_type": "code",
   "execution_count": 21,
   "metadata": {
    "deletable": false,
    "editable": false,
    "nbgrader": {
     "cell_type": "code",
     "checksum": "a441fb953d79363e24e99d7b6ffe791b",
     "grade": true,
     "grade_id": "evolve_system_values",
     "locked": true,
     "points": 2,
     "schema_version": 3,
     "solution": false,
     "task": false
    }
   },
   "outputs": [],
   "source": [
    "# these tests are worth 2 marks \n",
    "testrules = [\n",
    "    ('A', 'B', 0.086),\n",
    "    ('B', 'C', 0.075),\n",
    "    ('C', 'A', 0.19)\n",
    "    \n",
    "]\n",
    "\n",
    "random.seed(9485)\n",
    "r1, r2, r3 = evolve_system(200,200,200, testrules, 20)\n",
    "assert (r1 == [200, 213, 233, 250, 258, 251, 266, 263, 259, 260, 265, 259, 256,\n",
    "        255, 258, 256, 259, 253, 249, 247, 253]).all()\n",
    "assert (r2 == [200, 198, 201, 206, 205, 214, 214, 212, 216, 221, 225, 234, 236,\n",
    "        238, 234, 235, 231, 245, 253, 256, 252]).all()\n",
    "assert (r3 == [200, 189, 166, 144, 137, 135, 120, 125, 125, 119, 110, 107, 108,\n",
    "        107, 108, 109, 110, 102,  98,  97,  95]).all()"
   ]
  },
  {
   "cell_type": "markdown",
   "metadata": {},
   "source": [
    "## Plotting tasks"
   ]
  },
  {
   "cell_type": "markdown",
   "metadata": {
    "deletable": false,
    "editable": false,
    "nbgrader": {
     "cell_type": "markdown",
     "checksum": "758dd7618631763e50b6c8506eb935b1",
     "grade": false,
     "grade_id": "system_plot",
     "locked": true,
     "points": 8,
     "schema_version": 3,
     "solution": false,
     "task": true
    }
   },
   "source": [
    "Create a plot with the number of $A$, $B$ and $C$ nuclei, starting with 250 $C$ nuclei and evolving the system for 100 hours using 200 steps and with neutron flux on. Evolve the system for another 100 hours (using 200 steps) without neutron flux (i.e. no transitions from $C$ to $A$).  \n",
    "\n",
    "The half life of the $A$ atoms is 10.1 hours, the half life of $B$ nuclei is 15.7 hours and we can caracterise the rate of activation of $C$ into $A$ when the neutron flux is on with and effective half-life of 3.2 hours.\n",
    "\n",
    "The plot should have the appropriate labels and legend. [8 marks]    \n",
    "\n",
    "\n"
   ]
  },
  {
   "cell_type": "code",
   "execution_count": 24,
   "metadata": {},
   "outputs": [
    {
     "name": "stdout",
     "output_type": "stream",
     "text": [
      "[  0  37  76 100 122 132 139 143 150 152 152 158 161 157 153 149 150 149\n",
      " 146 146 138 132 125 121 120 121 118 114 110 106 109 107 106 104 104 105\n",
      " 100  95  93  94  98  95  95  96  94  92  93  90  84  93  92  90  87  90\n",
      "  89  85  86  83  84  87  84  86  84  84  89  89  89  86  81  81  79  82\n",
      "  81  79  81  81  89  91  94  95  93  91  89  90  90  93  92  87  86  87\n",
      "  86  85  87  93  96  95  92  93  88  88  89  92  92  90  84  84  82  82\n",
      "  79  82  81  83  84  86  87  91  94  88  92  90  94  92  88  86  87  87\n",
      "  83  84  84  87  85  87  86  89  84  88  88  87  87  77  77  83  86  89\n",
      "  89  92  98  96  98  99  98  97  98  96  92  88  87  88  83  80  80  81\n",
      "  81  81  83  84  89  88  84  85  83  82  83  80  77  82  81  77  82  81\n",
      "  85  84  82  86  89  88  88  85  84  88  87  84  81  75  77  76  80  80\n",
      "  78  77  76]\n",
      "(array([  0,  37,  76, 100, 122, 132, 139, 143, 150, 152, 152, 158, 161,\n",
      "       157, 153, 149, 150, 149, 146, 146, 138, 132, 125, 121, 120, 121,\n",
      "       118, 114, 110, 106, 109, 107, 106, 104, 104, 105, 100,  95,  93,\n",
      "        94,  98,  95,  95,  96,  94,  92,  93,  90,  84,  93,  92,  90,\n",
      "        87,  90,  89,  85,  86,  83,  84,  87,  84,  86,  84,  84,  89,\n",
      "        89,  89,  86,  81,  81,  79,  82,  81,  79,  81,  81,  89,  91,\n",
      "        94,  95,  93,  91,  89,  90,  90,  93,  92,  87,  86,  87,  86,\n",
      "        85,  87,  93,  96,  95,  92,  93,  88,  88,  89,  92,  92,  90,\n",
      "        84,  84,  82,  82,  79,  82,  81,  83,  84,  86,  87,  91,  94,\n",
      "        88,  92,  90,  94,  92,  88,  86,  87,  87,  83,  84,  84,  87,\n",
      "        85,  87,  86,  89,  84,  88,  88,  87,  87,  77,  77,  83,  86,\n",
      "        89,  89,  92,  98,  96,  98,  99,  98,  97,  98,  96,  92,  88,\n",
      "        87,  88,  83,  80,  80,  81,  81,  81,  83,  84,  89,  88,  84,\n",
      "        85,  83,  82,  83,  80,  77,  82,  81,  77,  82,  81,  85,  84,\n",
      "        82,  86,  89,  88,  88,  85,  84,  88,  87,  84,  81,  75,  77,\n",
      "        76,  80,  80,  78,  77,  76]), array([  0,   0,   1,   4,   7,  16,  25,  29,  32,  43,  48,  51,  59,\n",
      "        64,  72,  73,  76,  79,  82,  88,  94, 100, 107, 109, 114, 112,\n",
      "       115, 117, 123, 124, 120, 121, 122, 127, 128, 127, 131, 137, 141,\n",
      "       137, 135, 139, 138, 136, 137, 138, 139, 139, 141, 135, 134, 134,\n",
      "       136, 138, 138, 140, 137, 140, 140, 137, 141, 137, 132, 133, 134,\n",
      "       134, 134, 132, 136, 140, 146, 147, 139, 139, 137, 133, 132, 133,\n",
      "       138, 139, 140, 141, 141, 138, 137, 137, 138, 141, 140, 140, 135,\n",
      "       131, 126, 122, 122, 126, 126, 129, 132, 137, 137, 135, 137, 138,\n",
      "       142, 138, 137, 136, 135, 135, 135, 139, 137, 133, 133, 131, 132,\n",
      "       135, 133, 131, 131, 134, 138, 137, 137, 133, 132, 133, 131, 131,\n",
      "       132, 134, 129, 131, 128, 126, 124, 126, 131, 138, 142, 139, 132,\n",
      "       132, 135, 132, 127, 135, 136, 134, 132, 128, 133, 137, 139, 140,\n",
      "       142, 142, 141, 146, 147, 150, 151, 147, 142, 139, 137, 141, 145,\n",
      "       141, 140, 138, 136, 138, 141, 134, 138, 140, 141, 143, 137, 137,\n",
      "       139, 137, 139, 138, 140, 145, 145, 144, 144, 146, 150, 154, 146,\n",
      "       146, 143, 141, 145, 145, 144]), array([250, 213, 173, 146, 121, 102,  86,  78,  68,  55,  50,  41,  30,\n",
      "        29,  25,  28,  24,  22,  22,  16,  18,  18,  18,  20,  16,  17,\n",
      "        17,  19,  17,  20,  21,  22,  22,  19,  18,  18,  19,  18,  16,\n",
      "        19,  17,  16,  17,  18,  19,  20,  18,  21,  25,  22,  24,  26,\n",
      "        27,  22,  23,  25,  27,  27,  26,  26,  25,  27,  34,  33,  27,\n",
      "        27,  27,  32,  33,  29,  25,  21,  30,  32,  32,  36,  29,  26,\n",
      "        18,  16,  17,  18,  20,  22,  23,  20,  20,  22,  24,  23,  29,\n",
      "        34,  37,  35,  32,  29,  32,  28,  30,  25,  24,  23,  21,  22,\n",
      "        24,  28,  31,  32,  36,  33,  34,  28,  29,  31,  30,  28,  24,\n",
      "        27,  25,  29,  25,  24,  24,  27,  26,  30,  35,  33,  35,  32,\n",
      "        33,  29,  35,  30,  38,  36,  38,  37,  32,  35,  31,  28,  32,\n",
      "        29,  26,  26,  25,  19,  16,  17,  20,  25,  19,  17,  19,  22,\n",
      "        21,  20,  26,  24,  23,  19,  18,  22,  25,  27,  24,  21,  21,\n",
      "        24,  27,  30,  31,  32,  32,  34,  31,  33,  27,  26,  28,  29,\n",
      "        29,  27,  22,  24,  22,  20,  21,  18,  19,  20,  19,  21,  27,\n",
      "        28,  27,  29,  27,  28,  30]))\n"
     ]
    },
    {
     "data": {
      "text/plain": [
       "Text(0.5,1,'Plot of Nuclear Decay vs. Time')"
      ]
     },
     "execution_count": 24,
     "metadata": {},
     "output_type": "execute_result"
    },
    {
     "data": {
      "image/png": "[encoded data removed]",
      "text/plain": [
       "<Figure size 432x288 with 1 Axes>"
      ]
     },
     "metadata": {},
     "output_type": "display_data"
    }
   ],
   "source": [
    "nsteps = 200\n",
    "t_total = 100\n",
    "t_half_A = 10.1\n",
    "t_half_B = 15.7\n",
    "t_half_C = 3.2\n",
    "\n",
    "firstRules = [\n",
    "    ('A','B',0.5/t_half_A),\n",
    "    ('B','C',0.5/t_half_B),\n",
    "    ('C','A',0.5/t_half_C)\n",
    "]\n",
    "\n",
    "secondRules = [\n",
    "    ('A','B',0.5/t_half_A),\n",
    "    ('B','C',0.5/t_half_B),\n",
    "    ('C','A',0)\n",
    "]\n",
    "\n",
    "time1 = numpy.arange(0,100.5,0.5)\n",
    "time2 = numpy.arange(100,200.5,0.5)\n",
    "a = evolve_system(0,0,250,firstRules,nsteps)\n",
    "print(a[0])\n",
    "print(a)\n",
    "a1=a[0]\n",
    "a2=a[1]\n",
    "a3=a[2]\n",
    "b = evolve_system(a1[200],a2[200],a3[200],secondRules,nsteps)\n",
    "b1=b[0]\n",
    "b2=b[1]\n",
    "b3=b[2]\n",
    "first, = plt.plot(time1,a1,'b')\n",
    "plt.plot(time2, b1, 'b')\n",
    "second,= plt.plot(time1,a2, 'g')\n",
    "plt.plot(time2, b2, 'g')\n",
    "third, =plt.plot(time1,a3,'r')\n",
    "plt.plot(time2,b3,'r')\n",
    "plt.xlabel('Time / h')\n",
    "plt.ylabel('No. of Nuclei')\n",
    "plt.legend((first, second, third),('A', 'B','C'))\n",
    "plt.title('Plot of Nuclear Decay vs. Time')\n"
   ]
  },
  {
   "cell_type": "markdown",
   "metadata": {
    "deletable": false,
    "editable": false,
    "nbgrader": {
     "cell_type": "markdown",
     "checksum": "8d62922ae8b327e13a0284b44033ccfb",
     "grade": false,
     "grade_id": "average_uncertainty_plot",
     "locked": true,
     "points": 3,
     "schema_version": 3,
     "solution": false,
     "task": true
    }
   },
   "source": [
    "Run the above simulation 20 times with 200 steps and use the results to calculate an average and the uncertainty on the number of $A$ atoms as a function of time. Use and `errorbar` plot for it. You might be interested in the `numpy.average` and `numpy.std` functions. The plot should have axis labels and a title.  [3 marks]\n"
   ]
  },
  {
   "cell_type": "code",
   "execution_count": 26,
   "metadata": {},
   "outputs": [
    {
     "data": {
      "text/plain": [
       "Text(0.5,1,'abc')"
      ]
     },
     "execution_count": 26,
     "metadata": {},
     "output_type": "execute_result"
    },
    {
     "data": {
      "image/png": "[encoded data removed]",
      "text/plain": [
       "<Figure size 432x288 with 1 Axes>"
      ]
     },
     "metadata": {},
     "output_type": "display_data"
    }
   ],
   "source": [
    "nsim = 20\n",
    "plt.xlabel('xyz')\n",
    "plt.ylabel('jkl')\n",
    "plt.title('abc')"
   ]
  },
  {
   "cell_type": "code",
   "execution_count": null,
   "metadata": {},
   "outputs": [],
   "source": []
  }
 ],
 "metadata": {
  "kernelspec": {
   "display_name": "Python 3",
   "language": "python",
   "name": "python3"
  },
  "language_info": {
   "codemirror_mode": {
    "name": "ipython",
    "version": 3
   },
   "file_extension": ".py",
   "mimetype": "text/x-python",
   "name": "python",
   "nbconvert_exporter": "python",
   "pygments_lexer": "ipython3",
   "version": "3.6.3"
  },
  "toc": {
   "base_numbering": 1,
   "nav_menu": {},
   "number_sections": false,
   "sideBar": true,
   "skip_h1_title": false,
   "title_cell": "Table of Contents",
   "title_sidebar": "Contents",
   "toc_cell": false,
   "toc_position": {},
   "toc_section_display": true,
   "toc_window_display": false
  }
 },
 "nbformat": 4,
 "nbformat_minor": 2
}
