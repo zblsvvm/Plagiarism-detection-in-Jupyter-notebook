{
 "cells": [
  {
   "cell_type": "markdown",
   "metadata": {
    "deletable": false,
    "editable": false,
    "nbgrader": {
     "cell_type": "markdown",
     "checksum": "99cbf87edda3e3e5292c2402de7d1b06",
     "grade": false,
     "grade_id": "cell-0867630144920503",
     "locked": true,
     "schema_version": 3,
     "solution": false
    }
   },
   "source": [
    "# <center>L2 Computational Physics</center>\n",
    "---\n",
    "\n",
    "## Week 5: Monte Carlo Methods\n",
    "\n",
    "In this notebook, you will simulate a system with of three nuclei $A$, $B$ and $C$ where $A$ decays into $B$ and $B$ decays into $C$. If exposed to a neutron flux nucleus $C$ can be activated into a nucleus $A$. "
   ]
  },
  {
   "cell_type": "code",
   "execution_count": 1,
   "metadata": {
    "deletable": false,
    "editable": false,
    "nbgrader": {
     "cell_type": "code",
     "checksum": "321569d9eb049b6c5b93fc8b54ba3f29",
     "grade": false,
     "grade_id": "cell-79b49b449ef54a80",
     "locked": true,
     "schema_version": 3,
     "solution": false
    }
   },
   "outputs": [],
   "source": [
    "import numpy\n",
    "from matplotlib import pyplot as plt\n",
    "import random"
   ]
  },
  {
   "cell_type": "markdown",
   "metadata": {
    "deletable": false,
    "editable": false,
    "nbgrader": {
     "cell_type": "markdown",
     "checksum": "d83a755092ba510666e3bf1badd76395",
     "grade": false,
     "grade_id": "cell-8fc424548b449218",
     "locked": true,
     "schema_version": 3,
     "solution": false,
     "task": false
    }
   },
   "source": [
    "Implement a function that tells whether a transition has occured, based on the transition probability and a random number. Use the random number `r` from `random.random()` and use the procedure described in the notes so that the checks can work in a reproducible way."
   ]
  },
  {
   "cell_type": "code",
   "execution_count": 2,
   "metadata": {
    "deletable": false,
    "nbgrader": {
     "cell_type": "code",
     "checksum": "63100f06b5143da8a8289b2beaef3328",
     "grade": false,
     "grade_id": "decay_function",
     "locked": false,
     "schema_version": 3,
     "solution": true,
     "task": false
    }
   },
   "outputs": [],
   "source": [
    "import numpy as np\n",
    "\n",
    "def has_transitioned(prob):\n",
    "    r = random.random()        \n",
    "    return r<prob"
   ]
  },
  {
   "cell_type": "code",
   "execution_count": 3,
   "metadata": {
    "deletable": false,
    "editable": false,
    "nbgrader": {
     "cell_type": "code",
     "checksum": "c968197e1aeb831aef895bb6852e22dc",
     "grade": true,
     "grade_id": "decay_function_test",
     "locked": true,
     "points": 1,
     "schema_version": 3,
     "solution": false,
     "task": false
    }
   },
   "outputs": [],
   "source": [
    "# this test is worth 1 mark\n",
    "random.seed(9867)\n",
    "assert [ has_transitioned(0.5) for i in range(10)] == [False, False, True, False, False, False, False, True, False, True]"
   ]
  },
  {
   "cell_type": "markdown",
   "metadata": {
    "deletable": false,
    "editable": false,
    "nbgrader": {
     "cell_type": "markdown",
     "checksum": "863ef95dde1b79b2f6a45296474892d6",
     "grade": false,
     "grade_id": "cell-2145274701a17ae6",
     "locked": true,
     "schema_version": 3,
     "solution": false,
     "task": false
    }
   },
   "source": [
    "We are going to keep track of the state of the atoms using a either `'A'`, `'B'` or `'C'` for each nucleus. For example \n",
    "```python\n",
    "state = ['A', 'A', 'B', 'A', 'C']\n",
    "```\n",
    "\n",
    "We will capture the possible physical reaction in a list of allowed transitions such as\n",
    "\n",
    "`('A', 'B', 0.25 )`\n",
    "\n",
    "where the first element is the initial state, the second element is the final state of the transition and its probability in the time interval considered is the third argument.\n",
    "\n",
    "Define a function that takes as arguments the current state and a list of such transition rules and implements the transition (or not) and returns the new state"
   ]
  },
  {
   "cell_type": "code",
   "execution_count": 4,
   "metadata": {
    "deletable": false,
    "nbgrader": {
     "cell_type": "code",
     "checksum": "2f91185de0b99b2034ef740e8dc32826",
     "grade": false,
     "grade_id": "evolve_function",
     "locked": false,
     "schema_version": 3,
     "solution": true,
     "task": false
    }
   },
   "outputs": [],
   "source": [
    "def evolveOne(currentState, rules):\n",
    "    #r = random.random()\n",
    "    number_of_rules = len(rules)\n",
    "    new_state = currentState\n",
    "    for i in range (1, number_of_rules+1):\n",
    "        rule_now = rules[i-1]\n",
    "        start_state = rule_now[0]\n",
    "        end_state = rule_now[1]\n",
    "        probability = rule_now[2]\n",
    "        if currentState==start_state:\n",
    "            r = random.random()\n",
    "            if probability>r:\n",
    "                new_state = end_state\n",
    "            else:\n",
    "                new_state = start_state\n",
    "    return new_state"
   ]
  },
  {
   "cell_type": "code",
   "execution_count": 5,
   "metadata": {
    "deletable": false,
    "editable": false,
    "nbgrader": {
     "cell_type": "code",
     "checksum": "3154c068da716f5153052e6df93ac3d8",
     "grade": true,
     "grade_id": "cell-7782dc2753905180",
     "locked": true,
     "points": 1,
     "schema_version": 3,
     "solution": false,
     "task": false
    }
   },
   "outputs": [],
   "source": [
    "# these tests are worth 1 mark\n",
    "alwaysDecayRules = [\n",
    "    ('A', 'B', 1.0),\n",
    "    ('B', 'C', 1.0)\n",
    "]\n",
    "assert evolveOne('A', alwaysDecayRules) == 'B'\n",
    "assert evolveOne('B', alwaysDecayRules) == 'C'"
   ]
  },
  {
   "cell_type": "code",
   "execution_count": 6,
   "metadata": {
    "deletable": false,
    "editable": false,
    "nbgrader": {
     "cell_type": "code",
     "checksum": "983368b2058fcebe4bbd9d999cedfccf",
     "grade": true,
     "grade_id": "cell-e2a70f6b9e202d32",
     "locked": true,
     "points": 2,
     "schema_version": 3,
     "solution": false,
     "task": false
    }
   },
   "outputs": [],
   "source": [
    "# these tests are worth 2 mark\n",
    "random.seed(112211)\n",
    "testRules = [\n",
    "    ('A', 'B', 0.33),\n",
    "    ('B', 'C', 0.75)\n",
    "]\n",
    "assert evolveOne('A', testRules) == 'A'\n",
    "assert evolveOne('A', testRules) == 'A'\n",
    "assert evolveOne('A', testRules) == 'A'\n",
    "assert evolveOne('A', testRules) == 'A'\n",
    "assert evolveOne('A', testRules) == 'B'\n",
    "\n",
    "assert evolveOne('B', testRules) == 'B'\n",
    "assert evolveOne('B', testRules) == 'C'\n",
    "assert evolveOne('B', testRules) == 'C'\n",
    "assert evolveOne('B', testRules) == 'C'\n",
    "assert evolveOne('B', testRules) == 'C'\n",
    "\n",
    "# with no rules there should be no change\n",
    "assert evolveOne('C', testRules) == 'C'\n"
   ]
  },
  {
   "cell_type": "markdown",
   "metadata": {
    "deletable": false,
    "editable": false,
    "nbgrader": {
     "cell_type": "markdown",
     "checksum": "3af513ec634c58060bda27a8f1577cc6",
     "grade": false,
     "grade_id": "cell-f97a55a8ad8bd3d4",
     "locked": true,
     "schema_version": 3,
     "solution": false,
     "task": false
    }
   },
   "source": [
    "Now implement a function that takes a list of states and transition them according to the rules passed as argument. This function should return a new vector of states, it should not modify the state passed as an argument!"
   ]
  },
  {
   "cell_type": "code",
   "execution_count": 7,
   "metadata": {
    "deletable": false,
    "nbgrader": {
     "cell_type": "code",
     "checksum": "881bb86514741777729e52d4e7343a8e",
     "grade": false,
     "grade_id": "cell-b6743e72d540ebc3",
     "locked": false,
     "schema_version": 3,
     "solution": true,
     "task": false
    }
   },
   "outputs": [],
   "source": [
    "def evolveMany(states, rules):\n",
    "    newState = []\n",
    "    number_of_states = len(states)\n",
    "    for i in range (1,number_of_states+1):\n",
    "        individual_particle = evolveOne(states[i-1],rules)\n",
    "        newState.append(individual_particle)\n",
    "    return newState\n"
   ]
  },
  {
   "cell_type": "code",
   "execution_count": 8,
   "metadata": {
    "deletable": false,
    "editable": false,
    "nbgrader": {
     "cell_type": "code",
     "checksum": "f807f087b273be2963f779816e5c8f9c",
     "grade": true,
     "grade_id": "cell-231f8396b20ac4be",
     "locked": true,
     "points": 1,
     "schema_version": 3,
     "solution": false,
     "task": false
    }
   },
   "outputs": [],
   "source": [
    "# these tests are worth 1 mark\n",
    "random.seed(112287)\n",
    "testRules = [\n",
    "    ('A', 'B', 0.33),\n",
    "    ('B', 'C', 0.75)\n",
    "]\n",
    "initialTestArray = ['A','B','C']*5\n",
    "evolvedTest = evolveMany(initialTestArray, testRules)\n",
    "targetArray = ['B', 'C', 'C', 'A', 'C', 'C', 'A', 'B', 'C', 'A', 'C', 'C', 'B', 'C', 'C'] \n",
    "assert evolvedTest == targetArray\n",
    "# checks the initial array is left unchanged\n",
    "assert initialTestArray == ['A','B','C']*5"
   ]
  },
  {
   "cell_type": "markdown",
   "metadata": {
    "deletable": false,
    "editable": false,
    "nbgrader": {
     "cell_type": "markdown",
     "checksum": "3601312254dc022b8bca15d56f4cc652",
     "grade": false,
     "grade_id": "cell-4ffbe8df7a50fafb",
     "locked": true,
     "schema_version": 3,
     "solution": false,
     "task": false
    }
   },
   "source": [
    "Define a function that evolves a system that starts with initial amounts `NA`, `NB` and `NC` of $A$, $B$ and $C$ nuclei and evolved it in `n_timestep` from time $t=0$ to $t=t_{max}$. The function should return three arrays, one for each atom type, of the number of nuclei of that type at each time step. Each array should contain `n_timestep+1` elements including the initial amount. \n",
    " "
   ]
  },
  {
   "cell_type": "code",
   "execution_count": 9,
   "metadata": {
    "deletable": false,
    "nbgrader": {
     "cell_type": "code",
     "checksum": "8082bfd4e4ee17ba3850ef6615c21373",
     "grade": false,
     "grade_id": "evolve_system",
     "locked": false,
     "schema_version": 3,
     "solution": true,
     "task": false
    }
   },
   "outputs": [],
   "source": [
    "def evolve_system(NA, NB, NC, rules, n_step):\n",
    "    state = (['A'] * NA)+(['B'] * NB)+(['C'] * NC)\n",
    "\n",
    "    A_count = [NA]\n",
    "    B_count = [NB]\n",
    "    C_count = [NC]\n",
    "    \n",
    "    new_state = state\n",
    "    \n",
    "    for i in range (1, n_step+1):\n",
    "        new_state = evolveMany(new_state, rules)\n",
    "        As = new_state.count('A')\n",
    "        Bs = new_state.count('B')\n",
    "        Cs = new_state.count('C')\n",
    "        A_count.append(As)\n",
    "        B_count.append(Bs)\n",
    "        C_count.append(Cs)\n",
    "        \n",
    "    return np.array(A_count), np.array(B_count), np.array(C_count)"
   ]
  },
  {
   "cell_type": "code",
   "execution_count": 10,
   "metadata": {
    "deletable": false,
    "editable": false,
    "nbgrader": {
     "cell_type": "code",
     "checksum": "3b3bf314834ca58cf7496a0087016ea3",
     "grade": true,
     "grade_id": "evolve_system_length",
     "locked": true,
     "points": 2,
     "schema_version": 3,
     "solution": false,
     "task": false
    }
   },
   "outputs": [],
   "source": [
    "# these tests are worth 2 marks\n",
    "rules = [\n",
    "    ('A', 'B', 0.0033),\n",
    "    ('B', 'C', 0.0075),\n",
    "    ('C', 'A', 0.009)\n",
    "    \n",
    "]\n",
    "\n",
    "r1, r2, r3 = evolve_system(0,0,250, rules, 17)\n",
    "assert len(r1) == 18\n",
    "assert len(r2) == 18\n",
    "assert len(r3) == 18"
   ]
  },
  {
   "cell_type": "code",
   "execution_count": 11,
   "metadata": {
    "deletable": false,
    "editable": false,
    "nbgrader": {
     "cell_type": "code",
     "checksum": "a441fb953d79363e24e99d7b6ffe791b",
     "grade": true,
     "grade_id": "evolve_system_values",
     "locked": true,
     "points": 2,
     "schema_version": 3,
     "solution": false,
     "task": false
    }
   },
   "outputs": [],
   "source": [
    "# these tests are worth 2 marks \n",
    "testrules = [\n",
    "    ('A', 'B', 0.086),\n",
    "    ('B', 'C', 0.075),\n",
    "    ('C', 'A', 0.19)\n",
    "    \n",
    "]\n",
    "\n",
    "random.seed(9485)\n",
    "r1, r2, r3 = evolve_system(200,200,200, testrules, 20)\n",
    "assert (r1 == [200, 213, 233, 250, 258, 251, 266, 263, 259, 260, 265, 259, 256,\n",
    "        255, 258, 256, 259, 253, 249, 247, 253]).all()\n",
    "assert (r2 == [200, 198, 201, 206, 205, 214, 214, 212, 216, 221, 225, 234, 236,\n",
    "        238, 234, 235, 231, 245, 253, 256, 252]).all()\n",
    "assert (r3 == [200, 189, 166, 144, 137, 135, 120, 125, 125, 119, 110, 107, 108,\n",
    "        107, 108, 109, 110, 102,  98,  97,  95]).all()"
   ]
  },
  {
   "cell_type": "markdown",
   "metadata": {},
   "source": [
    "## Plotting tasks"
   ]
  },
  {
   "cell_type": "markdown",
   "metadata": {
    "deletable": false,
    "editable": false,
    "nbgrader": {
     "cell_type": "markdown",
     "checksum": "758dd7618631763e50b6c8506eb935b1",
     "grade": false,
     "grade_id": "system_plot",
     "locked": true,
     "points": 8,
     "schema_version": 3,
     "solution": false,
     "task": true
    }
   },
   "source": [
    "Create a plot with the number of $A$, $B$ and $C$ nuclei, starting with 250 $C$ nuclei and evolving the system for 100 hours using 200 steps and with neutron flux on. Evolve the system for another 100 hours (using 200 steps) without neutron flux (i.e. no transitions from $C$ to $A$).  \n",
    "\n",
    "The half life of the $A$ atoms is 10.1 hours, the half life of $B$ nuclei is 15.7 hours and we can caracterise the rate of activation of $C$ into $A$ when the neutron flux is on with and effective half-life of 3.2 hours.\n",
    "\n",
    "The plot should have the appropriate labels and legend. [8 marks]    \n",
    "\n",
    "\n"
   ]
  },
  {
   "cell_type": "code",
   "execution_count": 12,
   "metadata": {},
   "outputs": [
    {
     "data": {
      "image/png": "[encoded data removed]",
      "text/plain": [
       "<Figure size 432x288 with 1 Axes>"
      ]
     },
     "metadata": {},
     "output_type": "display_data"
    }
   ],
   "source": [
    "'''\n",
    "\n",
    "WARNING: takes a few seconds to load graph\n",
    "\n",
    "I have calculated the decay probability after half an hour by using 1 - e^(-1 * t * lambda), with t=30mins=0.5hr.\n",
    "I got this formula from http://hyperphysics.phy-astr.gsu.edu/hbase/Nuclear/meanlif.html (a reptuable website).\n",
    "\n",
    "'''\n",
    "\n",
    "random.seed(112284)\n",
    "\n",
    "start_time = 0\n",
    "\n",
    "t_with_flux = 100\n",
    "nsteps_with_flux = 200\n",
    "t_without_flux = 100\n",
    "nsteps_without_flux = 200\n",
    "t_step = 0.5 #hours\n",
    "\n",
    "t_half_A = 10.1\n",
    "t_half_B = 15.7\n",
    "t_half_C = 3.2\n",
    "\n",
    "original_A = 0\n",
    "original_B = 0\n",
    "original_C = 250\n",
    "\n",
    "lambda_A = np.log(2)/t_half_A\n",
    "lambda_B = np.log(2)/t_half_B\n",
    "lambda_C = np.log(2)/t_half_C\n",
    "\n",
    "prob_A_decay = 1 - np.exp(-1*lambda_A*t_step)\n",
    "prob_B_decay = 1 - np.exp(-1*lambda_B*t_step)\n",
    "prob_C_decay = 1 - np.exp(-1*lambda_C*t_step)\n",
    "\n",
    "set_of_rules_before = [('A', 'B', prob_A_decay),('B', 'C', prob_B_decay),('C', 'A', prob_C_decay)]\n",
    "set_of_rules_after = [('A', 'B', prob_A_decay),('B', 'C', prob_B_decay)]\n",
    "\n",
    "first_100 = evolve_system(original_A, original_B, original_C, set_of_rules_before, nsteps_with_flux)\n",
    "A_array_after_100, B_array_after_100, C_array_after_100 = first_100\n",
    "\n",
    "final_A, final_B, final_C = A_array_after_100[nsteps_with_flux], B_array_after_100[nsteps_with_flux], C_array_after_100[nsteps_with_flux]\n",
    "\n",
    "second_100 = evolve_system(final_A, final_B, final_C, set_of_rules_after, nsteps_without_flux)\n",
    "A_array_after_200, B_array_after_200, C_array_after_200 = second_100\n",
    "\n",
    "A_array_after_200_adjusted = np.delete(A_array_after_200, 0)\n",
    "B_array_after_200_adjusted = np.delete(B_array_after_200, 0)\n",
    "C_array_after_200_adjusted = np.delete(C_array_after_200, 0)\n",
    "\n",
    "total_A_array = np.concatenate((A_array_after_100, A_array_after_200_adjusted))\n",
    "total_B_array = np.concatenate((B_array_after_100, B_array_after_200_adjusted))\n",
    "total_C_array = np.concatenate((C_array_after_100, C_array_after_200_adjusted))\n",
    "\n",
    "time = np.arange(start_time, (t_with_flux + t_without_flux + t_step), t_step)\n",
    "\n",
    "plt.plot(time, total_A_array, color='blue', label = 'Particle A')\n",
    "plt.plot(time, total_B_array, color='orange', label = 'Particle B')\n",
    "plt.plot(time, total_C_array, color='red', label = 'Particle C')\n",
    "\n",
    "\n",
    "plt.xlabel('Time (hours)')\n",
    "plt.ylabel('Particle count')\n",
    "plt.title('Simulation of the radioactive decay of particles')\n",
    "plt.legend(loc='upper center')\n",
    "plt.show()"
   ]
  },
  {
   "cell_type": "markdown",
   "metadata": {
    "deletable": false,
    "editable": false,
    "nbgrader": {
     "cell_type": "markdown",
     "checksum": "8d62922ae8b327e13a0284b44033ccfb",
     "grade": false,
     "grade_id": "average_uncertainty_plot",
     "locked": true,
     "points": 3,
     "schema_version": 3,
     "solution": false,
     "task": true
    }
   },
   "source": [
    "Run the above simulation 20 times with 200 steps and use the results to calculate an average and the uncertainty on the number of $A$ atoms as a function of time. Use and `errorbar` plot for it. You might be interested in the `numpy.average` and `numpy.std` functions. The plot should have axis labels and a title.  [3 marks]\n"
   ]
  },
  {
   "cell_type": "code",
   "execution_count": 14,
   "metadata": {},
   "outputs": [
    {
     "data": {
      "image/png": "[encoded data removed]",
      "text/plain": [
       "<Figure size 432x288 with 1 Axes>"
      ]
     },
     "metadata": {},
     "output_type": "display_data"
    }
   ],
   "source": [
    "'''\n",
    "\n",
    "WARNING: takes a few seconds to load graph\n",
    "\n",
    "To avoid double-naming variables inside and outside of functions, I have denoted all variables inside functions as _var.\n",
    "\n",
    "\n",
    "'''\n",
    "\n",
    "\n",
    "\n",
    "\n",
    "\n",
    "nsim = 20\n",
    "\n",
    "random.seed(112284)\n",
    "\n",
    "def A_count(start_time_var, t_with_flux_var, nsteps_with_flux_var, t_without_flux_var, nsteps_without_flux_var, t_step_var, t_half_A_var, t_half_B_var, t_half_C_var, original_A_var, original_B_var, original_C_var):\n",
    "    \n",
    "    lambda_A_var = np.log(2)/t_half_A_var\n",
    "    lambda_B_var = np.log(2)/t_half_B_var\n",
    "    lambda_C_var = np.log(2)/t_half_C_var\n",
    "    \n",
    "    prob_A_decay_var = 1 - np.exp(-1*lambda_A_var*t_step_var)\n",
    "    prob_B_decay_var = 1 - np.exp(-1*lambda_B_var*t_step_var)\n",
    "    prob_C_decay_var = 1 - np.exp(-1*lambda_C_var*t_step_var)\n",
    "    \n",
    "    set_of_rules_before_var = [('A', 'B', prob_A_decay_var),('B', 'C', prob_B_decay_var),('C', 'A', prob_C_decay_var)]\n",
    "    set_of_rules_after_var = [('A', 'B', prob_A_decay_var),('B', 'C', prob_B_decay_var)]\n",
    "    \n",
    "    first_100_var = evolve_system(original_A_var, original_B_var, original_C_var, set_of_rules_before_var, nsteps_with_flux_var)\n",
    "    A_array_after_100_var, B_array_after_100_var, C_array_after_100_var = first_100_var\n",
    "    \n",
    "    final_A_var, final_B_var, final_C_var = A_array_after_100_var[nsteps_with_flux], B_array_after_100_var[nsteps_with_flux], C_array_after_100_var[nsteps_with_flux]\n",
    "    \n",
    "    second_100_var = evolve_system(final_A_var, final_B_var, final_C_var, set_of_rules_after_var, nsteps_without_flux_var)\n",
    "    A_array_after_200_var, B_array_after_200_var, C_array_after_200_var = second_100_var\n",
    "    \n",
    "    A_array_after_200_adjusted_var = np.delete(A_array_after_200_var, 0)\n",
    "    B_array_after_200_adjusted_var = np.delete(B_array_after_200_var, 0)\n",
    "    C_array_after_200_adjusted_var = np.delete(C_array_after_200_var, 0)\n",
    "    \n",
    "    total_A_array_var = np.concatenate((A_array_after_100_var, A_array_after_200_adjusted_var))\n",
    "    total_B_array_var = np.concatenate((B_array_after_100_var, B_array_after_200_adjusted_var))\n",
    "    total_C_array_var = np.concatenate((C_array_after_100_var, C_array_after_200_adjusted_var))\n",
    "    \n",
    "    time = np.arange(start_time_var, (t_with_flux_var + t_without_flux_var + t_step_var), t_step_var)\n",
    "    \n",
    "    return (total_A_array_var)\n",
    "\n",
    "\n",
    "'''\n",
    "For function defined previously, I have used the relevent arguments to simulate the particle count 20 times\n",
    "'''\n",
    "start_time = 0\n",
    "\n",
    "t_with_flux = 100\n",
    "nsteps_with_flux = 200\n",
    "t_without_flux = 100\n",
    "nsteps_without_flux = 200\n",
    "t_step = 0.5 #hours\n",
    "\n",
    "t_half_A = 10.1\n",
    "t_half_B = 15.7\n",
    "t_half_C = 3.2\n",
    "\n",
    "original_A = 0\n",
    "original_B = 0\n",
    "original_C = 250\n",
    "\n",
    "for i in range(0,nsim):\n",
    "    new_row = A_count(start_time, t_with_flux, nsteps_with_flux, t_without_flux, nsteps_without_flux, t_step, t_half_A, t_half_B, t_half_C, original_A, original_B, original_C)\n",
    "    if i == 0:\n",
    "        matrix_2d = new_row\n",
    "    else:\n",
    "        matrix_2d = np.vstack([matrix_2d, new_row])\n",
    "\n",
    "        \n",
    "\n",
    "average_A_values = []\n",
    "error_A_values = []\n",
    "        \n",
    "for i in range(0,401):\n",
    "    row = matrix_2d[:, i]\n",
    "    average_A_at_t = np.average(row)\n",
    "    average_A_values.append(average_A_at_t)\n",
    "    std_A_at_t = np.std(row)\n",
    "    std_error = std_A_at_t*((20**(-0.5)))\n",
    "    error_A_values.append(std_error)\n",
    "\n",
    "def timeaxis(start_time_var, t_with_flux_var, t_without_flux_var, t_step_var):\n",
    "    time_var = np.arange(start_time_var, (t_with_flux_var + t_without_flux_var + t_step_var), t_step)\n",
    "    return time_var\n",
    "\n",
    "plt.errorbar(timeaxis(0,100,100,0.5), average_A_values, yerr = error_A_values)\n",
    "plt.xlabel('Time (hours)')\n",
    "plt.ylabel('Average particle count for A')\n",
    "plt.title('Averaged count pattern for A over 20 simulations\\n(error bars are present but difficult to see)')\n",
    "plt.show()"
   ]
  },
  {
   "cell_type": "code",
   "execution_count": null,
   "metadata": {},
   "outputs": [],
   "source": []
  }
 ],
 "metadata": {
  "kernelspec": {
   "display_name": "Python 3",
   "language": "python",
   "name": "python3"
  },
  "language_info": {
   "codemirror_mode": {
    "name": "ipython",
    "version": 3
   },
   "file_extension": ".py",
   "mimetype": "text/x-python",
   "name": "python",
   "nbconvert_exporter": "python",
   "pygments_lexer": "ipython3",
   "version": "3.6.3"
  },
  "toc": {
   "base_numbering": 1,
   "nav_menu": {},
   "number_sections": false,
   "sideBar": true,
   "skip_h1_title": false,
   "title_cell": "Table of Contents",
   "title_sidebar": "Contents",
   "toc_cell": false,
   "toc_position": {},
   "toc_section_display": true,
   "toc_window_display": false
  }
 },
 "nbformat": 4,
 "nbformat_minor": 2
}
