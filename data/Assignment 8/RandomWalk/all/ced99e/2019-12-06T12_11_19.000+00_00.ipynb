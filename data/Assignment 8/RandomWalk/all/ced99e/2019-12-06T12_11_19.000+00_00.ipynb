{
 "cells": [
  {
   "cell_type": "markdown",
   "metadata": {
    "deletable": false,
    "editable": false,
    "nbgrader": {
     "cell_type": "markdown",
     "checksum": "6537d88217d375c64aaf3f129b48e85e",
     "grade": false,
     "grade_id": "cell-002a952ae709fb38",
     "locked": true,
     "schema_version": 3,
     "solution": false,
     "task": false
    }
   },
   "source": [
    "# <center>L2 Computational Physics</center>\n",
    "---\n",
    "\n",
    "## Random Walks\n",
    "\n",
    "This assignment will look at some properties of random walks."
   ]
  },
  {
   "cell_type": "code",
   "execution_count": 1,
   "metadata": {},
   "outputs": [],
   "source": [
    "import numpy\n",
    "from matplotlib import pyplot as plt "
   ]
  },
  {
   "cell_type": "markdown",
   "metadata": {
    "deletable": false,
    "editable": false,
    "nbgrader": {
     "cell_type": "markdown",
     "checksum": "f15fa372e093705e7233c7e9ecb0a4c6",
     "grade": false,
     "grade_id": "cell-c69809b9ad7416ac",
     "locked": true,
     "schema_version": 3,
     "solution": false,
     "task": false
    }
   },
   "source": [
    "To do our work we will implement a walker class. When initialised a list of possible steps is populated. In one dimension it is\n",
    "\n",
    "[+s] , [-s] \n",
    "\n",
    "where s is the step size, it defaults to 1 but can be set as an argument in the constructor. In two dimensions the steps list contains\n",
    "\n",
    "[ +s , 0 ] , [ -s , 0 ] ,  [ 0 , +s ] , [ 0 , -s ]\n",
    "\n",
    "At each step the current position of the walker, saved in `self.pos`, is updated by adding one of the possible steps. The function `pickStep` chooses randomly one of the possible steps. Use this function to implement the `doSteps` function that performs `n` steps and returns a `(n+1) x ndim` array representing the trajectory of the walker, including the starting point. "
   ]
  },
  {
   "cell_type": "code",
   "execution_count": 54,
   "metadata": {
    "deletable": false,
    "nbgrader": {
     "cell_type": "code",
     "checksum": "0d7799b7f42f2ea3cdedd5c861f06a6f",
     "grade": false,
     "grade_id": "cell-b7a4ae9aff94a956",
     "locked": false,
     "schema_version": 3,
     "solution": true,
     "task": false
    }
   },
   "outputs": [],
   "source": [
    "\n",
    "class walker:\n",
    "    def __init__(self,x0,ndim=1, step_size=1.0):\n",
    "        self.pos=x0\n",
    "        self.ndim=ndim\n",
    "        self.possibleSteps=[]\n",
    "        for i in range(ndim):\n",
    "            step=numpy.zeros(ndim)\n",
    "            step[i]= - step_size\n",
    "            self.possibleSteps.append(numpy.array(step,dtype='f'))\n",
    "            step[i]= + step_size\n",
    "            self.possibleSteps.append(step.copy())\n",
    "        self.npossible=len(self.possibleSteps)\n",
    "\n",
    "    def pickStep(self):\n",
    "        istep = numpy.random.choice(range(self.npossible))\n",
    "        return self.possibleSteps[istep]\n",
    "        \n",
    "    def doSteps(self,n):\n",
    "        positions=numpy.ndarray((n+1,self.ndim),dtype='f')\n",
    "        \n",
    "        return positions"
   ]
  },
  {
   "cell_type": "code",
   "execution_count": 55,
   "metadata": {
    "deletable": false,
    "editable": false,
    "nbgrader": {
     "cell_type": "code",
     "checksum": "8308cd70db6672a2f316d2d8fa3082e5",
     "grade": true,
     "grade_id": "cell-76af3e2f827becc5",
     "locked": true,
     "points": 2,
     "schema_version": 3,
     "solution": false,
     "task": false
    }
   },
   "outputs": [
    {
     "ename": "AssertionError",
     "evalue": "",
     "output_type": "error",
     "traceback": [
      "\u001b[0;31m---------------------------------------------------------------------------\u001b[0m",
      "\u001b[0;31mAssertionError\u001b[0m                            Traceback (most recent call last)",
      "\u001b[0;32m<ipython-input-55-f40028e76c8f>\u001b[0m in \u001b[0;36m<module>\u001b[0;34m()\u001b[0m\n\u001b[1;32m     10\u001b[0m \u001b[0mplt\u001b[0m\u001b[0;34m.\u001b[0m\u001b[0mlegend\u001b[0m\u001b[0;34m(\u001b[0m\u001b[0;34m)\u001b[0m\u001b[0;34m\u001b[0m\u001b[0m\n\u001b[1;32m     11\u001b[0m \u001b[0mplt\u001b[0m\u001b[0;34m.\u001b[0m\u001b[0mxlabel\u001b[0m\u001b[0;34m(\u001b[0m\u001b[0;34m'step number'\u001b[0m\u001b[0;34m)\u001b[0m\u001b[0;34m\u001b[0m\u001b[0m\n\u001b[0;32m---> 12\u001b[0;31m \u001b[0;32massert\u001b[0m \u001b[0;34m(\u001b[0m\u001b[0mpos_test\u001b[0m \u001b[0;34m==\u001b[0m \u001b[0mreference\u001b[0m\u001b[0;34m)\u001b[0m\u001b[0;34m.\u001b[0m\u001b[0mall\u001b[0m\u001b[0;34m(\u001b[0m\u001b[0;34m)\u001b[0m\u001b[0;34m\u001b[0m\u001b[0m\n\u001b[0m",
      "\u001b[0;31mAssertionError\u001b[0m: "
     ]
    },
    {
     "data": {
      "image/png": "[encoded data removed]",
      "text/plain": [
       "<Figure size 432x288 with 1 Axes>"
      ]
     },
     "metadata": {},
     "output_type": "display_data"
    }
   ],
   "source": [
    "# this test is worth 2 marks\n",
    "numpy.random.seed(1111)\n",
    "w = walker(numpy.zeros(1))\n",
    "pos_test = w.doSteps(10)\n",
    "reference = [[ 0.], [-1.], [ 0.], [ 1.], [ 2.], [ 1.], [ 0.], [-1.], [-2.], [-3.], [-4.]]\n",
    "assert len(pos_test)==11\n",
    "# plots to help debugging\n",
    "plt.plot(range(11),pos_test, label='your trajectory')\n",
    "plt.plot(range(11),reference,'o', label='reference points')\n",
    "plt.legend()\n",
    "plt.xlabel('step number')\n",
    "assert (pos_test == reference).all()"
   ]
  },
  {
   "cell_type": "code",
   "execution_count": 56,
   "metadata": {
    "deletable": false,
    "editable": false,
    "nbgrader": {
     "cell_type": "code",
     "checksum": "b3628fee459d71c2432635cb29196313",
     "grade": true,
     "grade_id": "cell-a4d52b24a2f9ab4b",
     "locked": true,
     "points": 2,
     "schema_version": 3,
     "solution": false,
     "task": false
    }
   },
   "outputs": [
    {
     "ename": "AssertionError",
     "evalue": "",
     "output_type": "error",
     "traceback": [
      "\u001b[0;31m---------------------------------------------------------------------------\u001b[0m",
      "\u001b[0;31mAssertionError\u001b[0m                            Traceback (most recent call last)",
      "\u001b[0;32m<ipython-input-56-34da313b3c6c>\u001b[0m in \u001b[0;36m<module>\u001b[0;34m()\u001b[0m\n\u001b[1;32m     11\u001b[0m \u001b[0mplt\u001b[0m\u001b[0;34m.\u001b[0m\u001b[0mplot\u001b[0m\u001b[0;34m(\u001b[0m\u001b[0mreference\u001b[0m\u001b[0;34m[\u001b[0m\u001b[0;34m:\u001b[0m\u001b[0;34m,\u001b[0m\u001b[0;36m0\u001b[0m\u001b[0;34m]\u001b[0m\u001b[0;34m,\u001b[0m\u001b[0mreference\u001b[0m\u001b[0;34m[\u001b[0m\u001b[0;34m:\u001b[0m\u001b[0;34m,\u001b[0m\u001b[0;36m1\u001b[0m\u001b[0;34m]\u001b[0m\u001b[0;34m,\u001b[0m\u001b[0;34m'o'\u001b[0m\u001b[0;34m,\u001b[0m \u001b[0mlabel\u001b[0m\u001b[0;34m=\u001b[0m\u001b[0;34m'reference points'\u001b[0m\u001b[0;34m)\u001b[0m\u001b[0;34m\u001b[0m\u001b[0m\n\u001b[1;32m     12\u001b[0m \u001b[0mplt\u001b[0m\u001b[0;34m.\u001b[0m\u001b[0mlegend\u001b[0m\u001b[0;34m(\u001b[0m\u001b[0;34m)\u001b[0m\u001b[0;34m\u001b[0m\u001b[0m\n\u001b[0;32m---> 13\u001b[0;31m \u001b[0;32massert\u001b[0m \u001b[0;34m(\u001b[0m\u001b[0mpos_test\u001b[0m \u001b[0;34m==\u001b[0m \u001b[0mreference\u001b[0m\u001b[0;34m)\u001b[0m\u001b[0;34m.\u001b[0m\u001b[0mall\u001b[0m\u001b[0;34m(\u001b[0m\u001b[0;34m)\u001b[0m\u001b[0;34m\u001b[0m\u001b[0m\n\u001b[0m",
      "\u001b[0;31mAssertionError\u001b[0m: "
     ]
    },
    {
     "data": {
      "image/png": "[encoded data removed]",
      "text/plain": [
       "<Figure size 432x288 with 1 Axes>"
      ]
     },
     "metadata": {},
     "output_type": "display_data"
    }
   ],
   "source": [
    "# this test is worth 5 marks\n",
    "numpy.random.seed(1112)\n",
    "w = walker(numpy.zeros(2), ndim=2)\n",
    "pos_test = w.doSteps(10)\n",
    "reference = numpy.array([[ 0.,  0.], [-1.,  0.], [-1., -1.], [-2., -1.], \n",
    "             [-2.,  0.], [-2.,  1.], [-1.,  1.], [-1.,  2.], \n",
    "             [ 0.,  2.], [ 1.,  2.], [ 0.,  2.]])\n",
    "assert pos_test.shape == (11,2)\n",
    "# plots to help debugging\n",
    "plt.plot(pos_test[:,0], pos_test[:,1],'-o', label='your trajectory')\n",
    "plt.plot(reference[:,0],reference[:,1],'o', label='reference points')\n",
    "plt.legend()\n",
    "assert (pos_test == reference).all()"
   ]
  },
  {
   "cell_type": "markdown",
   "metadata": {
    "deletable": false,
    "editable": false,
    "nbgrader": {
     "cell_type": "markdown",
     "checksum": "91db1a14c69378b888af1db4685796c1",
     "grade": false,
     "grade_id": "cell-f154883787f644ac",
     "locked": true,
     "schema_version": 3,
     "solution": false,
     "task": false
    }
   },
   "source": [
    "This is a plot to visualise trajectories. Use it to convince yourself that you get different trajectories."
   ]
  },
  {
   "cell_type": "code",
   "execution_count": 57,
   "metadata": {},
   "outputs": [
    {
     "data": {
      "image/png": "[encoded data removed]",
      "text/plain": [
       "<Figure size 432x288 with 1 Axes>"
      ]
     },
     "metadata": {},
     "output_type": "display_data"
    }
   ],
   "source": [
    "nsteps = 100\n",
    "for i in range(10):\n",
    "    w = walker(numpy.zeros(1))\n",
    "    ys = w.doSteps(nsteps)\n",
    "    plt.plot(range(nsteps+1),ys)"
   ]
  },
  {
   "cell_type": "markdown",
   "metadata": {
    "deletable": false,
    "editable": false,
    "nbgrader": {
     "cell_type": "markdown",
     "checksum": "7c9926e74eb8eb6f5c96af204bf65afd",
     "grade": false,
     "grade_id": "cell-b8a88aa9911c9401",
     "locked": true,
     "points": 5,
     "schema_version": 3,
     "solution": false,
     "task": true
    }
   },
   "source": [
    "**Task 1**\n",
    "\n",
    "Make a plot of average position and average squared position of 100 1D walkers using 1000 steps. Your plot needs a legend, title and labels. [5 marks]\n"
   ]
  },
  {
   "cell_type": "code",
   "execution_count": null,
   "metadata": {},
   "outputs": [],
   "source": [
    "nsteps = 1000\n",
    "ndim = 1\n",
    "nwalkers = 100"
   ]
  },
  {
   "cell_type": "markdown",
   "metadata": {
    "deletable": false,
    "editable": false,
    "nbgrader": {
     "cell_type": "markdown",
     "checksum": "4c8e970a4bf19957264faf6ec135e30a",
     "grade": false,
     "grade_id": "cell-a75a762b86195ef6",
     "locked": true,
     "points": 5,
     "schema_version": 3,
     "solution": false,
     "task": true
    }
   },
   "source": [
    "**Task 2**\n",
    "\n",
    "Make a plot to show that the average squared distance scaling is independent of the dimension in which the walker moves. Use 100 steps and 400 walkers and use $D=1,2,3,4$. The plot should have a title, legend and labels. [5 marks]\n"
   ]
  },
  {
   "cell_type": "code",
   "execution_count": null,
   "metadata": {},
   "outputs": [],
   "source": [
    "nsteps = 100\n",
    "nwalkers = 400\n",
    "dimensions = range(1,5)"
   ]
  },
  {
   "cell_type": "markdown",
   "metadata": {
    "deletable": false,
    "editable": false,
    "nbgrader": {
     "cell_type": "markdown",
     "checksum": "63854e2e9262ec391bd611749d00027e",
     "grade": false,
     "grade_id": "cell-c5037578c776cf1f",
     "locked": true,
     "schema_version": 3,
     "solution": false,
     "task": false
    }
   },
   "source": [
    "## 2D walkers"
   ]
  },
  {
   "cell_type": "markdown",
   "metadata": {
    "deletable": false,
    "editable": false,
    "nbgrader": {
     "cell_type": "markdown",
     "checksum": "16b8b0439723df71fb73ead827349007",
     "grade": false,
     "grade_id": "cell-eb43e54d637ca04b",
     "locked": true,
     "points": 6,
     "schema_version": 3,
     "solution": false,
     "task": true
    }
   },
   "source": [
    "Use 1000 walkers randomly distributed in the unit square (the positions are given in the array `rand_pos`) simulate the diffusion of particles with step size 0.05. Make a plot of the position of the walkers after 10, 100 and 500 steps. The plots should have labels and titles.\n",
    "\n",
    "Tip: Use `plt.scatter` and consider using its `alpha` option to make you plot look nicer. [6 marks]\n"
   ]
  },
  {
   "cell_type": "code",
   "execution_count": 75,
   "metadata": {},
   "outputs": [
    {
     "data": {
      "image/png": "[encoded data removed]",
      "text/plain": [
       "<Figure size 1296x432 with 3 Axes>"
      ]
     },
     "metadata": {},
     "output_type": "display_data"
    }
   ],
   "source": [
    "ndim=2\n",
    "nwalkers=1000\n",
    "step_size = 0.05\n",
    "nsteps_1 = 10\n",
    "nsteps_2 = 100\n",
    "nsteps_3 = 500\n",
    "\n",
    "rand_pos = numpy.random.uniform(size=(nwalkers, ndim))\n",
    "\n",
    "x1 = numpy.zeros(nsteps_1) \n",
    "y1 = numpy.zeros(nsteps_1) \n",
    "x2 = numpy.zeros(nsteps_2) \n",
    "y2 = numpy.zeros(nsteps_2) \n",
    "x3 = numpy.zeros(nsteps_3) \n",
    "y3 = numpy.zeros(nsteps_3) \n",
    "\n",
    "for i in range (1, nsteps_1):\n",
    "    x1 = rand_pos[i,0] + step_size\n",
    "    \n",
    "\n",
    "# filling the coordinates with random variables \n",
    "\n",
    "    \n",
    "   \n",
    "\n",
    "\n",
    "\n",
    "# this code is a template to create 3 subplots in one, adapt it to your task!\n",
    "plt.figure(figsize=(18,6))\n",
    "for i, nsteps in enumerate([10,100,500]):\n",
    "    plt.subplot(131+i)\n",
    "    plt.xlim((-3, 4))\n",
    "    plt.ylim((-3, 4))\n",
    "    plt.title(\"plot {} \".format(i+1))    \n",
    "    plt.scatter(rand_pos[:,0], rand_pos[:,1], alpha=0.1)"
   ]
  },
  {
   "cell_type": "code",
   "execution_count": null,
   "metadata": {},
   "outputs": [],
   "source": []
  },
  {
   "cell_type": "code",
   "execution_count": null,
   "metadata": {},
   "outputs": [],
   "source": []
  }
 ],
 "metadata": {
  "kernelspec": {
   "display_name": "Python 3",
   "language": "python",
   "name": "python3"
  },
  "language_info": {
   "codemirror_mode": {
    "name": "ipython",
    "version": 3
   },
   "file_extension": ".py",
   "mimetype": "text/x-python",
   "name": "python",
   "nbconvert_exporter": "python",
   "pygments_lexer": "ipython3",
   "version": "3.6.3"
  }
 },
 "nbformat": 4,
 "nbformat_minor": 2
}
