{
 "cells": [
  {
   "cell_type": "markdown",
   "metadata": {
    "deletable": false,
    "editable": false,
    "nbgrader": {
     "cell_type": "markdown",
     "checksum": "34d7561c82d7aef9d3148c2d90e3512e",
     "grade": false,
     "grade_id": "cell-0867630144920503",
     "locked": true,
     "schema_version": 3,
     "solution": false
    }
   },
   "source": [
    "# <center>L2 Computational Physics</center>\n",
    "---\n",
    "## Week 4: Differential Equations II"
   ]
  },
  {
   "cell_type": "markdown",
   "metadata": {
    "deletable": false,
    "editable": false,
    "nbgrader": {
     "cell_type": "markdown",
     "checksum": "933b1cc5803c2d147453cf0b6866b029",
     "grade": false,
     "grade_id": "introduction",
     "locked": true,
     "schema_version": 3,
     "solution": false
    }
   },
   "source": [
    "In this notebook, you will write a program to study the trajectory of a spherical, iron cannonball in the presence of gravity and drag forces. "
   ]
  },
  {
   "cell_type": "code",
   "execution_count": 1,
   "metadata": {
    "deletable": false,
    "editable": false,
    "nbgrader": {
     "cell_type": "code",
     "checksum": "7b07378542646e2d1c99e9b8a3e8dd16",
     "grade": false,
     "grade_id": "imports",
     "locked": true,
     "schema_version": 3,
     "solution": false
    }
   },
   "outputs": [],
   "source": [
    "import numpy\n",
    "from matplotlib import pyplot as plt"
   ]
  },
  {
   "cell_type": "code",
   "execution_count": 2,
   "metadata": {
    "deletable": false,
    "editable": false,
    "nbgrader": {
     "cell_type": "code",
     "checksum": "8886ed938c68fdbe0bd4d3784af074eb",
     "grade": false,
     "grade_id": "cell-9efceaad412b0b16",
     "locked": true,
     "schema_version": 3,
     "solution": false
    }
   },
   "outputs": [],
   "source": [
    "# Define all constants to be used in the simulation\n",
    "r_cb = 0.15  # Radius of cannonball in m\n",
    "rho_iron = 7874  # Density of iron in kg/m^3\n",
    "g = 9.81  # Acceleration due to gravity in m/s^2\n",
    "kappa = 0.47  # Drag coefficient of a sphere\n",
    "rho_air = 1.23  # Density of air in kg/m^3\n",
    "v0 = 125.00  # Initial speed in m/s"
   ]
  },
  {
   "cell_type": "markdown",
   "metadata": {
    "deletable": false,
    "editable": false,
    "nbgrader": {
     "cell_type": "markdown",
     "checksum": "e1d5ce84de473c6fb55555128809a945",
     "grade": false,
     "grade_id": "cell-e2eb11ca2dec5c24",
     "locked": true,
     "schema_version": 3,
     "solution": false
    }
   },
   "source": [
    "From this information, calculate the following two variables:"
   ]
  },
  {
   "cell_type": "code",
   "execution_count": 3,
   "metadata": {
    "deletable": false,
    "nbgrader": {
     "cell_type": "code",
     "checksum": "6743b817e3d018ac884f6e6adbdf1449",
     "grade": false,
     "grade_id": "constants",
     "locked": false,
     "schema_version": 3,
     "solution": true
    }
   },
   "outputs": [],
   "source": [
    "def get_area(r):\n",
    "    ''' \n",
    "    This function returns the cross section area of a sphere of radius r. The returned \n",
    "    value is in the squared units of the unit of the radius argument.\n",
    "    '''\n",
    "    cross_area = numpy.pi*(r**2)\n",
    "    \n",
    "    return cross_area\n",
    "\n",
    "def get_mass(r):\n",
    "    ''' \n",
    "    This function returns the mass of an iron sphere of radius r. The radius \n",
    "    should be given in meter and the return value is in kg.\n",
    "    '''\n",
    "    m = rho_iron*(4/3)*numpy.pi*(r**3)\n",
    "    \n",
    "    return m\n",
    "\n",
    "area_cb = get_area(r_cb)\n",
    "mass_cb = get_mass(r_cb)"
   ]
  },
  {
   "cell_type": "code",
   "execution_count": 4,
   "metadata": {
    "deletable": false,
    "editable": false,
    "nbgrader": {
     "cell_type": "code",
     "checksum": "2abfe72353c488ee9e0d278ba43df272",
     "grade": true,
     "grade_id": "constants_test",
     "locked": true,
     "points": 1,
     "schema_version": 3,
     "solution": false
    }
   },
   "outputs": [],
   "source": [
    "# these tests are worth one mark\n",
    "assert numpy.isclose(area_cb, 0.07068583470577035)\n",
    "assert numpy.isclose(mass_cb, 111.31605249464711)"
   ]
  },
  {
   "cell_type": "markdown",
   "metadata": {
    "deletable": false,
    "editable": false,
    "nbgrader": {
     "cell_type": "markdown",
     "checksum": "fc4b6b3567ab78be72941f8014bea2d5",
     "grade": false,
     "grade_id": "cell-f602e0ba8a9540e0",
     "locked": true,
     "schema_version": 3,
     "solution": false
    }
   },
   "source": [
    "## The Differential Equations"
   ]
  },
  {
   "cell_type": "markdown",
   "metadata": {
    "deletable": false,
    "editable": false,
    "nbgrader": {
     "cell_type": "markdown",
     "checksum": "3c264fa3be9258ab680faf902a6a6ab9",
     "grade": false,
     "grade_id": "DE_introduction",
     "locked": true,
     "schema_version": 3,
     "solution": false
    }
   },
   "source": [
    "Create a function `f` which calculates the right-hand side of the differential equation\n",
    "\n",
    "$$ \\frac{d}{dt}\\left(\\begin{array}{c}x\\\\y\\\\v_x \\\\v_y \\end{array}\\right) = f(x, y, v_x, v_y, t)$$\n",
    "\n",
    "such that the differential equation represents the cannonball's motion as it moves through the air. \n",
    "\n",
    "- *Your function should accept two arguments:*\n",
    "    - `r` *- a numpy array representing the cannonball's state, $(x, y, v_{x}, v_{y})$.*\n",
    "    - `t` *- Time * \n",
    "    \n",
    "- *The drag force experienced by the cannonball is given by $$\\vec{F}_{\\textrm{d}} = - \\frac{1}{2} C_{\\textrm{d}} \\rho |\\vec{v}|^{2} A \\widehat{v}~,$$ where $\\widehat{v}$ is a unit vector pointing in the direction of the cannonball's instantaneous velocity.*"
   ]
  },
  {
   "cell_type": "code",
   "execution_count": 5,
   "metadata": {
    "deletable": false,
    "nbgrader": {
     "cell_type": "code",
     "checksum": "57dc87a54ab0b805470604fecee06989",
     "grade": false,
     "grade_id": "DE_function",
     "locked": false,
     "schema_version": 3,
     "solution": true,
     "task": false
    }
   },
   "outputs": [],
   "source": [
    "def f(r, t):\n",
    "    '''Implements differential equation for cannonball from state vector r and time t'''\n",
    "    \n",
    "    # Unpack array of the state\n",
    "    x, y, vx, vy = r\n",
    "    \n",
    "   \n",
    "    \n",
    "    # these variables should updated in your code to be the derivatives of \n",
    "    # the x, y positions and the derivative of the x, y velocities. \n",
    "    dx_dt, dy_dt, dvx_dt, dvy_dt = 0, 0, 0, 0\n",
    "    \n",
    "    dx_dt = vx\n",
    "    dy_dt = vy\n",
    "\n",
    "    dragx = -(1/2)*kappa*rho_air*area_cb*((dx_dt**2+dy_dt**2)**(1/2))*(dx_dt)\n",
    "    dragy = -(1/2)*kappa*rho_air*area_cb*((dy_dt**2+dx_dt**2)**(1/2))*(dy_dt)\n",
    "    \n",
    "    dvx_dt = dragx/mass_cb\n",
    "    dvy_dt = dragy/mass_cb - g\n",
    "    \n",
    " \n",
    "\n",
    "    return numpy.array([dx_dt, dy_dt, dvx_dt, dvy_dt])\n",
    "    "
   ]
  },
  {
   "cell_type": "markdown",
   "metadata": {
    "deletable": false,
    "editable": false,
    "nbgrader": {
     "cell_type": "markdown",
     "checksum": "dcdf5518a78001d997294227da87f4d5",
     "grade": false,
     "grade_id": "cell-7aba52f3fc040f80",
     "locked": true,
     "schema_version": 3,
     "solution": false
    }
   },
   "source": [
    "Check your result:"
   ]
  },
  {
   "cell_type": "code",
   "execution_count": 6,
   "metadata": {
    "deletable": false,
    "editable": false,
    "nbgrader": {
     "cell_type": "code",
     "checksum": "fe2d24e66c044c53f63a64911210d448",
     "grade": true,
     "grade_id": "cell-21f74cca0b55f17f",
     "locked": true,
     "points": 1,
     "schema_version": 3,
     "solution": false,
     "task": false
    }
   },
   "outputs": [],
   "source": [
    "r_test = [0, 0, 88.38834764831843, 88.38834764831843]\n",
    "assert len(f(r_test, 0))== 4"
   ]
  },
  {
   "cell_type": "code",
   "execution_count": 7,
   "metadata": {
    "deletable": false,
    "editable": false,
    "nbgrader": {
     "cell_type": "code",
     "checksum": "af6b172c9d591b1f4df50f5d3261f7d4",
     "grade": true,
     "grade_id": "DE_test",
     "locked": true,
     "points": 3,
     "schema_version": 3,
     "solution": false
    }
   },
   "outputs": [],
   "source": [
    "r_test = [0, 0, 88.38834764831843, 88.38834764831843]\n",
    "assert numpy.isclose(f(r_test, 0), [ 88.38834765,  88.38834765,  -2.0279283 , -11.8379283 ]).all()"
   ]
  },
  {
   "cell_type": "markdown",
   "metadata": {
    "deletable": false,
    "editable": false,
    "nbgrader": {
     "cell_type": "markdown",
     "checksum": "36a8936dae8f878c4881f2b45498fba0",
     "grade": false,
     "grade_id": "cell-d1367b0c3c82b52a",
     "locked": true,
     "schema_version": 3,
     "solution": false
    }
   },
   "source": [
    "## Solving the Differential Equations"
   ]
  },
  {
   "cell_type": "markdown",
   "metadata": {
    "deletable": false,
    "editable": false,
    "nbgrader": {
     "cell_type": "markdown",
     "checksum": "5d0e7d43f41138030b3f88a8954d6ce6",
     "grade": false,
     "grade_id": "euler_introduction",
     "locked": true,
     "schema_version": 3,
     "solution": false
    }
   },
   "source": [
    "Create the function `solve_euler(state_initial, t1, n_panels)` which solves the differential equations using Euler's method.\n",
    "\n",
    "- `state_initial` *is a numpy array containing the initial conditions $(x_{0}, y_{0}, v_{x0}, v_{y0})$*\n",
    "- *When working with a numpy array, you can use the same commands as those used for single variables - for instance,* `state += f(state, t)`.\n",
    "- *This function should record all state values at each timepoint in the variable `history` and return it. This will be similar to last week, only this time you will have to populate a 2D array.* \n"
   ]
  },
  {
   "cell_type": "code",
   "execution_count": 8,
   "metadata": {
    "deletable": false,
    "nbgrader": {
     "cell_type": "code",
     "checksum": "afe77ec167dbd4b35080f55e28ec7bb4",
     "grade": false,
     "grade_id": "euler_function",
     "locked": false,
     "schema_version": 3,
     "solution": true
    }
   },
   "outputs": [],
   "source": [
    "def solve_euler(state_initial, t1, n_steps):\n",
    "    '''Solves ODE using Euler's method from state_initial to end time t1 using n_panels panels'''\n",
    "    # Define array for trajectory history\n",
    "    history = numpy.empty((n_steps+1,4))  # Number of columns is equal to number of variables to solve for (4)\n",
    "    history[0] = state_initial\n",
    "    \n",
    "    dt = t1/n_steps\n",
    "    \n",
    "    # you should now populate the history array\n",
    "    \n",
    "    for i in range(1, n_steps+1):\n",
    "        history[i] = history[i-1] + dt*f(history[i-1], n_steps+1 + (i-1)*dt)\n",
    "        \n",
    "        \n",
    "        \n",
    "    return history\n"
   ]
  },
  {
   "cell_type": "markdown",
   "metadata": {
    "deletable": false,
    "editable": false,
    "nbgrader": {
     "cell_type": "markdown",
     "checksum": "2471d6453084656d6a70689a4f7a0777",
     "grade": false,
     "grade_id": "cell-85bc67cd138e0554",
     "locked": true,
     "schema_version": 3,
     "solution": false
    }
   },
   "source": [
    "Test your solution:"
   ]
  },
  {
   "cell_type": "code",
   "execution_count": 9,
   "metadata": {
    "deletable": false,
    "editable": false,
    "nbgrader": {
     "cell_type": "code",
     "checksum": "258054f67106dab37651404d0e948e2d",
     "grade": true,
     "grade_id": "euler_test",
     "locked": true,
     "points": 4,
     "schema_version": 3,
     "solution": false
    }
   },
   "outputs": [],
   "source": [
    "# this test is worth 4 marks\n",
    "r_test = [0, 0, 88.38834764831843, 88.38834764831843]\n",
    "assert numpy.isclose(solve_euler(r_test, 25.0, 10), numpy.array(\n",
    "    [[   0.        ,    0.        ,   88.38834765,   88.38834765],\n",
    "     [ 220.97086912,  220.97086912,   83.3185269 ,   58.7935269 ],\n",
    "     [ 429.26718637,  367.95468637,   79.41984538,   31.51743125],\n",
    "     [ 627.81679983,  446.7482645 ,   76.30595276,    5.75669607],\n",
    "     [ 818.58168171,  461.14000469,   73.62655732,  -18.97044366],\n",
    "     [1002.64807501,  413.71389553,   71.05785323,  -42.83359748],\n",
    "     [1180.2927081 ,  306.62990184,   68.35253688,  -65.72783569],\n",
    "     [1351.1740503 ,  142.31031262,   65.37829955,  -87.3928075 ],\n",
    "     [1514.61979917,  -76.17170612,   62.10406078, -107.54105068],\n",
    "     [1669.87995113, -345.02433282,   58.56508321, -125.93786257],\n",
    "     [1816.29265915, -659.86898925,   54.83262575, -142.43661744]])).all()"
   ]
  },
  {
   "cell_type": "markdown",
   "metadata": {
    "deletable": false,
    "editable": false,
    "nbgrader": {
     "cell_type": "markdown",
     "checksum": "8b82e1da6abd6394254a8832a6f80a16",
     "grade": false,
     "grade_id": "cell-a4dde4ee63c0a103",
     "locked": true,
     "schema_version": 3,
     "solution": false,
     "task": false
    }
   },
   "source": [
    "## Finding the range\n",
    "\n",
    "To find the range of the projectile we will look for the $x$ coordinate when the trajectory crosses the $y=0$ line. In most cases that point will not be one of the steps but will be between two steps. We will use a linear approximation to determine this point given the last point with a positive $y$ value and the first point with a negative $y$ value. Implement the function `find_zero_linear` that takes as argument the two values of $x$ `x1` and `x2` and the heights `y1` and `y2` and returns the value of $x$ at which the line between $(x_1,y_1)$ and $x_2,y_2$ crosses the $y=0$ line.  "
   ]
  },
  {
   "cell_type": "code",
   "execution_count": 10,
   "metadata": {
    "deletable": false,
    "nbgrader": {
     "cell_type": "code",
     "checksum": "5ac4f3396618b95116cb990a2130919c",
     "grade": false,
     "grade_id": "cell-e042c84d480733a4",
     "locked": false,
     "schema_version": 3,
     "solution": true,
     "task": false
    }
   },
   "outputs": [],
   "source": [
    "def find_zero_linear(x1, x2, y1, y2):\n",
    "    if y1*y2 > 0:\n",
    "        print(\"I expect y1 and y2 to have opposite signs!\")\n",
    "    \n",
    "    else:\n",
    "        m = (y1-y2)/(x1-x2)\n",
    "        b = y1 - m*x1\n",
    "        x_cross = -b/m\n",
    "        \n",
    "        return x_cross\n",
    "        "
   ]
  },
  {
   "cell_type": "code",
   "execution_count": 11,
   "metadata": {
    "deletable": false,
    "editable": false,
    "nbgrader": {
     "cell_type": "code",
     "checksum": "495e64d3e07b6121f90c7955bdd08374",
     "grade": true,
     "grade_id": "cell-53982c10e992f643",
     "locked": true,
     "points": 2,
     "schema_version": 3,
     "solution": false,
     "task": false
    }
   },
   "outputs": [],
   "source": [
    "# these tests are worth 2 marks\n",
    "assert numpy.isclose(find_zero_linear(-1,1,3,-3),0.0)\n",
    "assert numpy.isclose(find_zero_linear(-1,1,1,-3), -0.5)"
   ]
  },
  {
   "cell_type": "markdown",
   "metadata": {
    "deletable": false,
    "editable": false,
    "nbgrader": {
     "cell_type": "markdown",
     "checksum": "ea5e661226fd6bf4bb0f5125178b010d",
     "grade": false,
     "grade_id": "cell-d48dcdc6ebf4efe8",
     "locked": true,
     "schema_version": 3,
     "solution": false,
     "task": false
    }
   },
   "source": [
    "Given the function above we can define a function to determine the range. (Don't modify it!)"
   ]
  },
  {
   "cell_type": "code",
   "execution_count": 12,
   "metadata": {},
   "outputs": [],
   "source": [
    "def find_range(history):\n",
    "    all_xs = history[:,0]\n",
    "    all_ys = history[:,1]\n",
    "    negatives = numpy.argwhere(all_ys<0)\n",
    "    if len(negatives) == 0 :\n",
    "        print (\"The projectile did not touch down! Returning the last known location\")\n",
    "        return all_xs[-1]\n",
    "    (index,) = negatives[0]\n",
    "    y1, y2 = all_ys[index-1], all_ys[index]\n",
    "    x1, x2 = all_xs[index -1], all_xs[index]\n",
    "    return find_zero_linear(x1,x2,y1,y2)"
   ]
  },
  {
   "cell_type": "code",
   "execution_count": 13,
   "metadata": {},
   "outputs": [],
   "source": [
    "r_test = [0, 0, 88.38834764831843, 88.38834764831843]\n",
    "h = solve_euler(r_test, 25.0, 10000)\n",
    "assert numpy.isclose(find_range(h),1306.2541)"
   ]
  },
  {
   "cell_type": "markdown",
   "metadata": {},
   "source": [
    "## Plotting task"
   ]
  },
  {
   "cell_type": "markdown",
   "metadata": {
    "deletable": false,
    "editable": false,
    "nbgrader": {
     "cell_type": "markdown",
     "checksum": "6b83f51417fbae4bfc16f7629ca14d37",
     "grade": false,
     "grade_id": "odeint_introduction",
     "locked": true,
     "points": 4,
     "schema_version": 3,
     "solution": false,
     "task": true
    }
   },
   "source": [
    "Create a plot to show the trajectories for different values of the initial angle. Use the same velocity $v0=125\\rm{m/s}$ for all angles. The plot should have axis labels and a title. [4 marks]\n"
   ]
  },
  {
   "cell_type": "code",
   "execution_count": 16,
   "metadata": {},
   "outputs": [
    {
     "data": {
      "image/png": "[encoded data removed]",
      "text/plain": [
       "<Figure size 432x288 with 1 Axes>"
      ]
     },
     "metadata": {},
     "output_type": "display_data"
    }
   ],
   "source": [
    "n_steps = 1000\n",
    "v0 = 125 \n",
    "thetas = numpy.arange(5, 90, 5)[None,:]/180.0*numpy.pi\n",
    "\n",
    "plt.figure()\n",
    "\n",
    "tmax = ((2*v0)*numpy.sin(thetas))/g\n",
    "t = tmax*numpy.linspace(0,1,100)[:,None] \n",
    "\n",
    "x = (v0*t)*numpy.cos(thetas)\n",
    "y = ((v0*t)*numpy.sin(thetas)) - (((1/2)*g)*(t**2))\n",
    "\n",
    "\n",
    "initial_conditions = [0, 0, 88.38834764831843, 88.38834764831843]    \n",
    "values_euler = solve_euler(initial_conditions, 300, n_steps)\n",
    "xs_euler, ys_euler = values_euler[:,0], values_euler[:,1]\n",
    "plt.plot(xs_euler , ys_euler, trajectory_1 , color='blue', linestyle='--')\n",
    "plt.plot(xs_euler , ys_euler, trajectory_2 , color='green', linestyle='--')\n",
    "\n",
    "\n",
    "plt.xlabel('Horizontal distance x/m')\n",
    "plt.ylabel('Vertical distance y/m')\n",
    "plt.title('The Trajectories for Different Values of Initial Angle')\n",
    "\n",
    "plt.plot(x,y) \n",
    "plt.ylim(0,800)\n",
    "plt.xlim(0, 1500);\n",
    "\n",
    "plt.show()"
   ]
  },
  {
   "cell_type": "markdown",
   "metadata": {
    "deletable": false,
    "editable": false,
    "nbgrader": {
     "cell_type": "markdown",
     "checksum": "e6bbab1380dc2317480c25eac3ba5e45",
     "grade": false,
     "grade_id": "cell-2e0af3c9d950aa50",
     "locked": true,
     "points": 5,
     "schema_version": 3,
     "solution": false,
     "task": true
    }
   },
   "source": [
    "Create a plot to show the range for different values of the initial velocity. Use the same angle $\\theta=60^\\circ$ for all velocities. The plot should have axis labels and a title and legend. Produce one curve with and one curve without the effect of air resistance. [5 marks]\n"
   ]
  },
  {
   "cell_type": "code",
   "execution_count": null,
   "metadata": {},
   "outputs": [],
   "source": [
    "n_steps = 1000\n",
    "max_time = 300\n",
    "v0s = numpy.linspace(50, 1000, 20)\n",
    "\n",
    "ranges = []\n",
    "ranges_noresistance = []\n",
    "theta = numpy.deg2rad(60)\n",
    "\n",
    "plt.xlabel('Horizontal distance x/m')\n",
    "plt.ylabel('Vertical distance y/m')\n",
    "plt.title('The Trajectories for Different Values of Initial Velocity')\n",
    "\n",
    "\n"
   ]
  }
 ],
 "metadata": {
  "kernelspec": {
   "display_name": "Python 3",
   "language": "python",
   "name": "python3"
  },
  "language_info": {
   "codemirror_mode": {
    "name": "ipython",
    "version": 3
   },
   "file_extension": ".py",
   "mimetype": "text/x-python",
   "name": "python",
   "nbconvert_exporter": "python",
   "pygments_lexer": "ipython3",
   "version": "3.6.3"
  },
  "toc": {
   "base_numbering": 1,
   "nav_menu": {},
   "number_sections": false,
   "sideBar": true,
   "skip_h1_title": false,
   "title_cell": "Table of Contents",
   "title_sidebar": "Contents",
   "toc_cell": false,
   "toc_position": {},
   "toc_section_display": true,
   "toc_window_display": false
  }
 },
 "nbformat": 4,
 "nbformat_minor": 2
}
