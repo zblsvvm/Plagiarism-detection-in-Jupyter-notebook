{
 "cells": [
  {
   "cell_type": "markdown",
   "metadata": {
    "deletable": false,
    "editable": false,
    "nbgrader": {
     "cell_type": "markdown",
     "checksum": "34d7561c82d7aef9d3148c2d90e3512e",
     "grade": false,
     "grade_id": "cell-0867630144920503",
     "locked": true,
     "schema_version": 3,
     "solution": false
    }
   },
   "source": [
    "# <center>L2 Computational Physics</center>\n",
    "---\n",
    "## Week 4: Differential Equations II"
   ]
  },
  {
   "cell_type": "markdown",
   "metadata": {
    "deletable": false,
    "editable": false,
    "nbgrader": {
     "cell_type": "markdown",
     "checksum": "933b1cc5803c2d147453cf0b6866b029",
     "grade": false,
     "grade_id": "introduction",
     "locked": true,
     "schema_version": 3,
     "solution": false
    }
   },
   "source": [
    "In this notebook, you will write a program to study the trajectory of a spherical, iron cannonball in the presence of gravity and drag forces. "
   ]
  },
  {
   "cell_type": "code",
   "execution_count": 5,
   "metadata": {
    "deletable": false,
    "editable": false,
    "nbgrader": {
     "cell_type": "code",
     "checksum": "7b07378542646e2d1c99e9b8a3e8dd16",
     "grade": false,
     "grade_id": "imports",
     "locked": true,
     "schema_version": 3,
     "solution": false
    }
   },
   "outputs": [],
   "source": [
    "import numpy\n",
    "from matplotlib import pyplot as plt"
   ]
  },
  {
   "cell_type": "code",
   "execution_count": 39,
   "metadata": {
    "deletable": false,
    "editable": false,
    "nbgrader": {
     "cell_type": "code",
     "checksum": "8886ed938c68fdbe0bd4d3784af074eb",
     "grade": false,
     "grade_id": "cell-9efceaad412b0b16",
     "locked": true,
     "schema_version": 3,
     "solution": false
    }
   },
   "outputs": [],
   "source": [
    "# Define all constants to be used in the simulation\n",
    "r_cb = 0.15  # Radius of cannonball in m\n",
    "rho_iron = 7874  # Density of iron in kg/m^3\n",
    "g = 9.81  # Acceleration due to gravity in m/s^2\n",
    "kappa = 0.47  # Drag coefficient of a sphere\n",
    "rho_air = 1.23  # Density of air in kg/m^3\n",
    "v0 = 125.00  # Initial speed in m/s"
   ]
  },
  {
   "cell_type": "markdown",
   "metadata": {
    "deletable": false,
    "editable": false,
    "nbgrader": {
     "cell_type": "markdown",
     "checksum": "e1d5ce84de473c6fb55555128809a945",
     "grade": false,
     "grade_id": "cell-e2eb11ca2dec5c24",
     "locked": true,
     "schema_version": 3,
     "solution": false
    }
   },
   "source": [
    "From this information, calculate the following two variables:"
   ]
  },
  {
   "cell_type": "code",
   "execution_count": 35,
   "metadata": {
    "deletable": false,
    "nbgrader": {
     "cell_type": "code",
     "checksum": "6743b817e3d018ac884f6e6adbdf1449",
     "grade": false,
     "grade_id": "constants",
     "locked": false,
     "schema_version": 3,
     "solution": true
    }
   },
   "outputs": [],
   "source": [
    "def get_area(r):\n",
    "    ''' \n",
    "    This function returns the cross section area of a sphere of radius r. The returned \n",
    "    value is in the squared units of the unit of the radius argument.\n",
    "    '''\n",
    "    # YOUR CODE HERE\n",
    "    return (r**2)*numpy.pi\n",
    "\n",
    "def get_mass(r):\n",
    "    ''' \n",
    "    This function returns the mass of an iron sphere of radius r. The radius \n",
    "    should be given in meter and the return value is in kg.\n",
    "    '''\n",
    "    # YOUR CODE HERE\n",
    "    return 4*numpy.pi*rho_iron*r**3/3\n",
    "\n",
    "area_cb = get_area(r_cb)\n",
    "mass_cb = get_mass(r_cb)"
   ]
  },
  {
   "cell_type": "code",
   "execution_count": 21,
   "metadata": {
    "deletable": false,
    "editable": false,
    "nbgrader": {
     "cell_type": "code",
     "checksum": "2abfe72353c488ee9e0d278ba43df272",
     "grade": true,
     "grade_id": "constants_test",
     "locked": true,
     "points": 1,
     "schema_version": 3,
     "solution": false
    }
   },
   "outputs": [],
   "source": [
    "# these tests are worth one mark\n",
    "assert numpy.isclose(area_cb, 0.07068583470577035)\n",
    "assert numpy.isclose(mass_cb, 111.31605249464711)"
   ]
  },
  {
   "cell_type": "markdown",
   "metadata": {
    "deletable": false,
    "editable": false,
    "nbgrader": {
     "cell_type": "markdown",
     "checksum": "fc4b6b3567ab78be72941f8014bea2d5",
     "grade": false,
     "grade_id": "cell-f602e0ba8a9540e0",
     "locked": true,
     "schema_version": 3,
     "solution": false
    }
   },
   "source": [
    "## The Differential Equations"
   ]
  },
  {
   "cell_type": "markdown",
   "metadata": {
    "deletable": false,
    "editable": false,
    "nbgrader": {
     "cell_type": "markdown",
     "checksum": "3c264fa3be9258ab680faf902a6a6ab9",
     "grade": false,
     "grade_id": "DE_introduction",
     "locked": true,
     "schema_version": 3,
     "solution": false
    }
   },
   "source": [
    "Create a function `f` which calculates the right-hand side of the differential equation\n",
    "\n",
    "$$ \\frac{d}{dt}\\left(\\begin{array}{c}x\\\\y\\\\v_x \\\\v_y \\end{array}\\right) = f(x, y, v_x, v_y, t)$$\n",
    "\n",
    "such that the differential equation represents the cannonball's motion as it moves through the air. \n",
    "\n",
    "- *Your function should accept two arguments:*\n",
    "    - `r` *- a numpy array representing the cannonball's state, $(x, y, v_{x}, v_{y})$.*\n",
    "    - `t` *- Time * \n",
    "    \n",
    "- *The drag force experienced by the cannonball is given by $$\\vec{F}_{\\textrm{d}} = - \\frac{1}{2} C_{\\textrm{d}} \\rho |\\vec{v}|^{2} A \\widehat{v}~,$$ where $\\widehat{v}$ is a unit vector pointing in the direction of the cannonball's instantaneous velocity.*"
   ]
  },
  {
   "cell_type": "code",
   "execution_count": 50,
   "metadata": {
    "deletable": false,
    "nbgrader": {
     "cell_type": "code",
     "checksum": "57dc87a54ab0b805470604fecee06989",
     "grade": false,
     "grade_id": "DE_function",
     "locked": false,
     "schema_version": 3,
     "solution": true,
     "task": false
    }
   },
   "outputs": [],
   "source": [
    "def f(r, t):\n",
    "    '''Implements differential equation for cannonball from state vector r and time t'''\n",
    "    \n",
    "    # Unpack array of the state\n",
    "    x, y, vx, vy = r\n",
    "    \n",
    "    # these variables should updated in your code to be the derivatives of \n",
    "    # the x, y positions and the derivative of the x, y velocities. \n",
    "    v = (vx**2 + vy**2)**0.5\n",
    "    dx_dt, dy_dt, dvx_dt, dvy_dt = vx, vy, -0.5*kappa*rho_air*(v**2)*get_area(r_cb)*(1/get_mass(r_cb))*vx/v, -g - 0.5*kappa*rho_air*(v**2)*get_area(r_cb)*(1/get_mass(r_cb))*vy/v\n",
    "    \n",
    "    # YOUR CODE HERE\n",
    "    return numpy.array([dx_dt, dy_dt, dvx_dt, dvy_dt])\n",
    "    "
   ]
  },
  {
   "cell_type": "markdown",
   "metadata": {
    "deletable": false,
    "editable": false,
    "nbgrader": {
     "cell_type": "markdown",
     "checksum": "dcdf5518a78001d997294227da87f4d5",
     "grade": false,
     "grade_id": "cell-7aba52f3fc040f80",
     "locked": true,
     "schema_version": 3,
     "solution": false
    }
   },
   "source": [
    "Check your result:"
   ]
  },
  {
   "cell_type": "code",
   "execution_count": 49,
   "metadata": {
    "deletable": false,
    "editable": false,
    "nbgrader": {
     "cell_type": "code",
     "checksum": "fe2d24e66c044c53f63a64911210d448",
     "grade": true,
     "grade_id": "cell-21f74cca0b55f17f",
     "locked": true,
     "points": 1,
     "schema_version": 3,
     "solution": false,
     "task": false
    }
   },
   "outputs": [
    {
     "name": "stdout",
     "output_type": "stream",
     "text": [
      "[88.38834764831843, 88.38834764831843, -0.246028958003168, 9.563971041996833]\n"
     ]
    }
   ],
   "source": [
    "r_test = [0, 0, 88.38834764831843, 88.38834764831843]\n",
    "assert len(f(r_test, 0))== 4"
   ]
  },
  {
   "cell_type": "code",
   "execution_count": 86,
   "metadata": {
    "deletable": false,
    "editable": false,
    "nbgrader": {
     "cell_type": "code",
     "checksum": "af6b172c9d591b1f4df50f5d3261f7d4",
     "grade": true,
     "grade_id": "DE_test",
     "locked": true,
     "points": 3,
     "schema_version": 3,
     "solution": false
    }
   },
   "outputs": [
    {
     "name": "stdout",
     "output_type": "stream",
     "text": [
      "[88.38834764831843, 88.38834764831843, -2.0279282994464727, -11.837928299446473]\n"
     ]
    }
   ],
   "source": [
    "r_test = [0, 0, 88.38834764831843, 88.38834764831843]\n",
    "assert numpy.isclose(f(r_test, 0), [ 88.38834765,  88.38834765,  -2.0279283 , -11.8379283 ]).all()"
   ]
  },
  {
   "cell_type": "markdown",
   "metadata": {
    "deletable": false,
    "editable": false,
    "nbgrader": {
     "cell_type": "markdown",
     "checksum": "36a8936dae8f878c4881f2b45498fba0",
     "grade": false,
     "grade_id": "cell-d1367b0c3c82b52a",
     "locked": true,
     "schema_version": 3,
     "solution": false
    }
   },
   "source": [
    "## Solving the Differential Equations"
   ]
  },
  {
   "cell_type": "markdown",
   "metadata": {
    "deletable": false,
    "editable": false,
    "nbgrader": {
     "cell_type": "markdown",
     "checksum": "5d0e7d43f41138030b3f88a8954d6ce6",
     "grade": false,
     "grade_id": "euler_introduction",
     "locked": true,
     "schema_version": 3,
     "solution": false
    }
   },
   "source": [
    "Create the function `solve_euler(state_initial, t1, n_panels)` which solves the differential equations using Euler's method.\n",
    "\n",
    "- `state_initial` *is a numpy array containing the initial conditions $(x_{0}, y_{0}, v_{x0}, v_{y0})$*\n",
    "- *When working with a numpy array, you can use the same commands as those used for single variables - for instance,* `state += f(state, t)`.\n",
    "- *This function should record all state values at each timepoint in the variable `history` and return it. This will be similar to last week, only this time you will have to populate a 2D array.* \n"
   ]
  },
  {
   "cell_type": "code",
   "execution_count": 56,
   "metadata": {
    "deletable": false,
    "nbgrader": {
     "cell_type": "code",
     "checksum": "afe77ec167dbd4b35080f55e28ec7bb4",
     "grade": false,
     "grade_id": "euler_function",
     "locked": false,
     "schema_version": 3,
     "solution": true
    }
   },
   "outputs": [],
   "source": [
    "def solve_euler(state_initial, t1, n_steps):\n",
    "    '''Solves ODE using Euler's method from state_initial to end time t1 using n_panels panels'''\n",
    "    # Define array for trajectory history\n",
    "    history = numpy.empty((n_steps+1,4))  # Number of columns is equal to number of variables to solve for (4)\n",
    "    history[0] = state_initial\n",
    "    # you should now populate the history array\n",
    "    # YOUR CODE HERE\n",
    "    dt = t1/n_steps\n",
    "    for i in range(0, n_steps):\n",
    "        test = f(history[i], dt*i)\n",
    "        temp = [0,0,0,0]\n",
    "        temp[0] += history[i][0] + dt*history[i][2]\n",
    "        temp[1] += history[i][1] + dt*history[i][3]\n",
    "        temp[2] += history[i][2] + dt*test[2]\n",
    "        temp[3] += history[i][3] + dt*test[3]\n",
    "        history[i+1] = temp\n",
    "    print(history)\n",
    "    return history\n"
   ]
  },
  {
   "cell_type": "markdown",
   "metadata": {
    "deletable": false,
    "editable": false,
    "nbgrader": {
     "cell_type": "markdown",
     "checksum": "2471d6453084656d6a70689a4f7a0777",
     "grade": false,
     "grade_id": "cell-85bc67cd138e0554",
     "locked": true,
     "schema_version": 3,
     "solution": false
    }
   },
   "source": [
    "Test your solution:"
   ]
  },
  {
   "cell_type": "code",
   "execution_count": 57,
   "metadata": {
    "deletable": false,
    "editable": false,
    "nbgrader": {
     "cell_type": "code",
     "checksum": "258054f67106dab37651404d0e948e2d",
     "grade": true,
     "grade_id": "euler_test",
     "locked": true,
     "points": 4,
     "schema_version": 3,
     "solution": false
    }
   },
   "outputs": [
    {
     "name": "stdout",
     "output_type": "stream",
     "text": [
      "[[   0.            0.           88.38834765   88.38834765]\n",
      " [ 220.97086912  220.97086912   83.3185269    58.7935269 ]\n",
      " [ 429.26718637  367.95468637   79.41984538   31.51743125]\n",
      " [ 627.81679983  446.7482645    76.30595276    5.75669607]\n",
      " [ 818.58168171  461.14000469   73.62655732  -18.97044366]\n",
      " [1002.64807501  413.71389553   71.05785323  -42.83359748]\n",
      " [1180.2927081   306.62990184   68.35253688  -65.72783569]\n",
      " [1351.1740503   142.31031262   65.37829955  -87.3928075 ]\n",
      " [1514.61979917  -76.17170612   62.10406078 -107.54105068]\n",
      " [1669.87995113 -345.02433282   58.56508321 -125.93786257]\n",
      " [1816.29265915 -659.86898925   54.83262575 -142.43661744]]\n"
     ]
    }
   ],
   "source": [
    "# this test is worth 4 marks\n",
    "r_test = [0, 0, 88.38834764831843, 88.38834764831843]\n",
    "assert numpy.isclose(solve_euler(r_test, 25.0, 10), numpy.array(\n",
    "    [[   0.        ,    0.        ,   88.38834765,   88.38834765],\n",
    "     [ 220.97086912,  220.97086912,   83.3185269 ,   58.7935269 ],\n",
    "     [ 429.26718637,  367.95468637,   79.41984538,   31.51743125],\n",
    "     [ 627.81679983,  446.7482645 ,   76.30595276,    5.75669607],\n",
    "     [ 818.58168171,  461.14000469,   73.62655732,  -18.97044366],\n",
    "     [1002.64807501,  413.71389553,   71.05785323,  -42.83359748],\n",
    "     [1180.2927081 ,  306.62990184,   68.35253688,  -65.72783569],\n",
    "     [1351.1740503 ,  142.31031262,   65.37829955,  -87.3928075 ],\n",
    "     [1514.61979917,  -76.17170612,   62.10406078, -107.54105068],\n",
    "     [1669.87995113, -345.02433282,   58.56508321, -125.93786257],\n",
    "     [1816.29265915, -659.86898925,   54.83262575, -142.43661744]])).all()"
   ]
  },
  {
   "cell_type": "markdown",
   "metadata": {
    "deletable": false,
    "editable": false,
    "nbgrader": {
     "cell_type": "markdown",
     "checksum": "8b82e1da6abd6394254a8832a6f80a16",
     "grade": false,
     "grade_id": "cell-a4dde4ee63c0a103",
     "locked": true,
     "schema_version": 3,
     "solution": false,
     "task": false
    }
   },
   "source": [
    "## Finding the range\n",
    "\n",
    "To find the range of the projectile we will look for the $x$ coordinate when the trajectory crosses the $y=0$ line. In most cases that point will not be one of the steps but will be between two steps. We will use a linear approximation to determine this point given the last point with a positive $y$ value and the first point with a negative $y$ value. Implement the function `find_zero_linear` that takes as argument the two values of $x$ `x1` and `x2` and the heights `y1` and `y2` and returns the value of $x$ at which the line between $(x_1,y_1)$ and $x_2,y_2$ crosses the $y=0$ line.  "
   ]
  },
  {
   "cell_type": "code",
   "execution_count": 171,
   "metadata": {
    "deletable": false,
    "nbgrader": {
     "cell_type": "code",
     "checksum": "5ac4f3396618b95116cb990a2130919c",
     "grade": false,
     "grade_id": "cell-e042c84d480733a4",
     "locked": false,
     "schema_version": 3,
     "solution": true,
     "task": false
    }
   },
   "outputs": [],
   "source": [
    "def find_zero_linear(x1, x2, y1, y2):\n",
    "    if y1*y2 > 0:\n",
    "        print(\"I expect y1 and y2 to have opposite signs!\")\n",
    "    # YOUR CODE HERE\n",
    "    m = (y2-y1)/(x2-x1)\n",
    "    return x2 - y2/m\n",
    "    \n",
    "    "
   ]
  },
  {
   "cell_type": "code",
   "execution_count": 172,
   "metadata": {
    "deletable": false,
    "editable": false,
    "nbgrader": {
     "cell_type": "code",
     "checksum": "495e64d3e07b6121f90c7955bdd08374",
     "grade": true,
     "grade_id": "cell-53982c10e992f643",
     "locked": true,
     "points": 2,
     "schema_version": 3,
     "solution": false,
     "task": false
    }
   },
   "outputs": [],
   "source": [
    "# these tests are worth 2 marks\n",
    "assert numpy.isclose(find_zero_linear(-1,1,3,-3),0.0)\n",
    "assert numpy.isclose(find_zero_linear(-1,1,1,-3), -0.5)"
   ]
  },
  {
   "cell_type": "markdown",
   "metadata": {
    "deletable": false,
    "editable": false,
    "nbgrader": {
     "cell_type": "markdown",
     "checksum": "ea5e661226fd6bf4bb0f5125178b010d",
     "grade": false,
     "grade_id": "cell-d48dcdc6ebf4efe8",
     "locked": true,
     "schema_version": 3,
     "solution": false,
     "task": false
    }
   },
   "source": [
    "Given the function above we can define a function to determine the range. (Don't modify it!)"
   ]
  },
  {
   "cell_type": "code",
   "execution_count": 77,
   "metadata": {},
   "outputs": [],
   "source": [
    "def find_range(history):\n",
    "    all_xs = history[:,0]\n",
    "    all_ys = history[:,1]\n",
    "    negatives = numpy.argwhere(all_ys<0)\n",
    "    if len(negatives) == 0 :\n",
    "        print (\"The projectile did not touch down! Returning the last known location\")\n",
    "        return all_xs[-1]\n",
    "    (index,) = negatives[0]\n",
    "    y1, y2 = all_ys[index-1], all_ys[index]\n",
    "    x1, x2 = all_xs[index -1], all_xs[index]\n",
    "    return find_zero_linear(x1,x2,y1,y2)"
   ]
  },
  {
   "cell_type": "code",
   "execution_count": 78,
   "metadata": {},
   "outputs": [
    {
     "name": "stdout",
     "output_type": "stream",
     "text": [
      "[[ 0.00000000e+00  0.00000000e+00  8.83883476e+01  8.83883476e+01]\n",
      " [ 2.20970869e-01  2.20970869e-01  8.83832778e+01  8.83587528e+01]\n",
      " [ 4.41929064e-01  4.41867751e-01  8.83782093e+01  8.83291607e+01]\n",
      " ...\n",
      " [ 1.79353953e+03 -8.73711583e+02  5.54849813e+01 -1.37113957e+02]\n",
      " [ 1.79367824e+03 -8.74054368e+02  5.54812154e+01 -1.37129176e+02]\n",
      " [ 1.79381695e+03 -8.74397191e+02  5.54774493e+01 -1.37144392e+02]]\n"
     ]
    },
    {
     "ename": "AssertionError",
     "evalue": "",
     "output_type": "error",
     "traceback": [
      "\u001b[0;31m---------------------------------------------------------------------------\u001b[0m",
      "\u001b[0;31mAssertionError\u001b[0m                            Traceback (most recent call last)",
      "\u001b[0;32m<ipython-input-78-a7a889f711bb>\u001b[0m in \u001b[0;36m<module>\u001b[0;34m()\u001b[0m\n\u001b[1;32m      1\u001b[0m \u001b[0mr_test\u001b[0m \u001b[0;34m=\u001b[0m \u001b[0;34m[\u001b[0m\u001b[0;36m0\u001b[0m\u001b[0;34m,\u001b[0m \u001b[0;36m0\u001b[0m\u001b[0;34m,\u001b[0m \u001b[0;36m88.38834764831843\u001b[0m\u001b[0;34m,\u001b[0m \u001b[0;36m88.38834764831843\u001b[0m\u001b[0;34m]\u001b[0m\u001b[0;34m\u001b[0m\u001b[0m\n\u001b[1;32m      2\u001b[0m \u001b[0mh\u001b[0m \u001b[0;34m=\u001b[0m \u001b[0msolve_euler\u001b[0m\u001b[0;34m(\u001b[0m\u001b[0mr_test\u001b[0m\u001b[0;34m,\u001b[0m \u001b[0;36m25.0\u001b[0m\u001b[0;34m,\u001b[0m \u001b[0;36m10000\u001b[0m\u001b[0;34m)\u001b[0m\u001b[0;34m\u001b[0m\u001b[0m\n\u001b[0;32m----> 3\u001b[0;31m \u001b[0;32massert\u001b[0m \u001b[0mnumpy\u001b[0m\u001b[0;34m.\u001b[0m\u001b[0misclose\u001b[0m\u001b[0;34m(\u001b[0m\u001b[0mfind_range\u001b[0m\u001b[0;34m(\u001b[0m\u001b[0mh\u001b[0m\u001b[0;34m)\u001b[0m\u001b[0;34m,\u001b[0m\u001b[0;36m1306.2541\u001b[0m\u001b[0;34m)\u001b[0m\u001b[0;34m\u001b[0m\u001b[0m\n\u001b[0m",
      "\u001b[0;31mAssertionError\u001b[0m: "
     ]
    }
   ],
   "source": [
    "r_test = [0, 0, 88.38834764831843, 88.38834764831843]\n",
    "h = solve_euler(r_test, 25.0, 10000)\n",
    "assert numpy.isclose(find_range(h),1306.2541)"
   ]
  },
  {
   "cell_type": "markdown",
   "metadata": {},
   "source": [
    "## Plotting task"
   ]
  },
  {
   "cell_type": "markdown",
   "metadata": {
    "deletable": false,
    "editable": false,
    "nbgrader": {
     "cell_type": "markdown",
     "checksum": "6b83f51417fbae4bfc16f7629ca14d37",
     "grade": false,
     "grade_id": "odeint_introduction",
     "locked": true,
     "points": 4,
     "schema_version": 3,
     "solution": false,
     "task": true
    }
   },
   "source": [
    "Create a plot to show the trajectories for different values of the initial angle. Use the same velocity $v0=125\\rm{m/s}$ for all angles. The plot should have axis labels and a title. [4 marks]\n"
   ]
  },
  {
   "cell_type": "code",
   "execution_count": 143,
   "metadata": {},
   "outputs": [
    {
     "name": "stdout",
     "output_type": "stream",
     "text": [
      "[[ 0.00000000e+00  0.00000000e+00  1.24524337e+02  1.08944678e+01]\n",
      " [ 3.73573012e+01  3.26834035e+00  1.23667234e+02  7.87648104e+00]\n",
      " [ 7.44574714e+01  5.63128466e+00  1.22823400e+02  4.87973644e+00]\n",
      " ...\n",
      " [ 4.02193671e+03 -6.48863596e+04  6.01837538e-04 -2.31185568e+02]\n",
      " [ 4.02193689e+03 -6.49557153e+04  5.94176126e-04 -2.31185568e+02]\n",
      " [ 4.02193707e+03 -6.50250710e+04  5.86612245e-04 -2.31185568e+02]]\n",
      "[[ 0.00000000e+00  0.00000000e+00  1.17461578e+02  4.27525179e+01]\n",
      " [ 3.52384733e+01  1.28257554e+01  1.16653088e+02  3.95152516e+01]\n",
      " [ 7.02343996e+01  2.46803309e+01  1.15861955e+02  3.63042621e+01]\n",
      " ...\n",
      " [ 3.98366184e+03 -6.41380717e+04  6.23443385e-04 -2.31185568e+02]\n",
      " [ 3.98366202e+03 -6.42074274e+04  6.15506930e-04 -2.31185568e+02]\n",
      " [ 3.98366221e+03 -6.42767831e+04  6.07671506e-04 -2.31185568e+02]]\n",
      "[[ 0.00000000e+00  0.00000000e+00  1.02394006e+02  7.16970545e+01]\n",
      " [ 3.07182017e+01  2.15091164e+01  1.01689226e+02  6.82605625e+01]\n",
      " [ 6.12249694e+01  4.19872851e+01  1.01003434e+02  6.48572135e+01]\n",
      " ...\n",
      " [ 3.67064482e+03 -6.34273630e+04  6.02909555e-04 -2.31185568e+02]\n",
      " [ 3.67064501e+03 -6.34967186e+04  5.95234496e-04 -2.31185568e+02]\n",
      " [ 3.67064518e+03 -6.35660743e+04  5.87657141e-04 -2.31185568e+02]]\n",
      "[[ 0.00000000e+00  0.00000000e+00  8.03484512e+01  9.57555554e+01]\n",
      " [ 2.41045354e+01  2.87266666e+01  7.97954115e+01  9.21534683e+01]\n",
      " [ 4.80431588e+01  5.63727071e+01  7.92598000e+01  8.85919057e+01]\n",
      " ...\n",
      " [ 3.05944475e+03 -6.28097377e+04  5.27826128e-04 -2.31185568e+02]\n",
      " [ 3.05944491e+03 -6.28790934e+04  5.21106884e-04 -2.31185568e+02]\n",
      " [ 3.05944507e+03 -6.29484490e+04  5.14473176e-04 -2.31185568e+02]]\n",
      "[[ 0.00000000e+00  0.00000000e+00  5.28272827e+01  1.13288473e+02]\n",
      " [ 1.58481848e+01  3.39865420e+01  5.24636716e+01  1.09565707e+02]\n",
      " [ 3.15872863e+01  6.68562541e+01  5.21127358e+01  1.05889809e+02]\n",
      " ...\n",
      " [ 2.13770823e+03 -6.23418611e+04  3.85867729e-04 -2.31185568e+02]\n",
      " [ 2.13770834e+03 -6.24112167e+04  3.80955620e-04 -2.31185568e+02]\n",
      " [ 2.13770846e+03 -6.24805724e+04  3.76106042e-04 -2.31185568e+02]]\n"
     ]
    },
    {
     "data": {
      "text/plain": [
       "<matplotlib.legend.Legend at 0x7f3f5bf6e710>"
      ]
     },
     "execution_count": 143,
     "metadata": {},
     "output_type": "execute_result"
    },
    {
     "data": {
      "image/png": "[encoded data removed]",
      "text/plain": [
       "<Figure size 432x288 with 1 Axes>"
      ]
     },
     "metadata": {},
     "output_type": "display_data"
    }
   ],
   "source": [
    "n_steps = 1000\n",
    "thetas = range(5, 90, 15) # the angles in degrees\n",
    "colours = ['r', 'b', 'k', 'g', 'y', 'r']\n",
    "for i in range(0, len(thetas)-1):\n",
    "    initial_conditions = [0, 0, 125*numpy.cos(thetas[i]*numpy.pi/180), 125*numpy.sin(thetas[i]*numpy.pi/180)]    \n",
    "    values_euler = solve_euler(initial_conditions, 300, n_steps)\n",
    "    xs_euler, ys_euler = values_euler[:,0], values_euler[:,1]\n",
    "    plt.plot(xs_euler, ys_euler, color= colours[i], linestyle='--', label = \"{}{}\".format(thetas[i], 'º'))\n",
    "plt.xlabel('Range (m)')\n",
    "plt.ylabel('Height (m)')\n",
    "plt.title('A plot showing the trajectories for different angles')\n",
    "plt.xlim(0,1350)\n",
    "plt.ylim(0,650)\n",
    "plt.legend()"
   ]
  },
  {
   "cell_type": "markdown",
   "metadata": {
    "deletable": false,
    "editable": false,
    "nbgrader": {
     "cell_type": "markdown",
     "checksum": "e6bbab1380dc2317480c25eac3ba5e45",
     "grade": false,
     "grade_id": "cell-2e0af3c9d950aa50",
     "locked": true,
     "points": 5,
     "schema_version": 3,
     "solution": false,
     "task": true
    }
   },
   "source": [
    "Create a plot to show the range for different values of the initial velocity. Use the same angle $\\theta=60^\\circ$ for all velocities. The plot should have axis labels and a title and legend. Produce one curve with and one curve without the effect of air resistance. [5 marks]\n"
   ]
  },
  {
   "cell_type": "code",
   "execution_count": 170,
   "metadata": {},
   "outputs": [
    {
     "name": "stdout",
     "output_type": "stream",
     "text": [
      "hello\n",
      "[[ 0.00000000e+00  0.00000000e+00  2.50000000e+01  4.33012702e+01]\n",
      " [ 7.50000000e+00  1.29903811e+01  2.49311698e+01  4.02390528e+01]\n",
      " [ 1.49793509e+01  2.50620969e+01  2.48661856e+01  3.71911680e+01]\n",
      " ...\n",
      " [ 9.97004930e+02 -6.43052392e+04  1.62657096e-04 -2.31185568e+02]\n",
      " [ 9.97004979e+02 -6.43745949e+04  1.60586465e-04 -2.31185568e+02]\n",
      " [ 9.97005027e+02 -6.44439506e+04  1.58542194e-04 -2.31185568e+02]]\n",
      "[[ 0.00000000e+00  0.00000000e+00  5.00000000e+01  8.66025404e+01]\n",
      " [ 1.50000000e+01  2.59807621e+01  4.97246793e+01  8.31826710e+01]\n",
      " [ 2.99174038e+01  5.09355634e+01  4.94593303e+01  7.97957778e+01]\n",
      " ...\n",
      " [ 2.00731622e+03 -6.30855520e+04  3.48264681e-04 -2.31185568e+02]\n",
      " [ 2.00731633e+03 -6.31549077e+04  3.43831260e-04 -2.31185568e+02]\n",
      " [ 2.00731643e+03 -6.32242633e+04  3.39454277e-04 -2.31185568e+02]]\n",
      "[[ 0.00000000e+00  0.00000000e+00  7.50000000e+01  1.29903811e+02]\n",
      " [ 2.25000000e+01  3.89711432e+01  7.43805285e+01  1.25887854e+02]\n",
      " [ 4.48141585e+01  7.67374995e+01  7.37816563e+01  1.21931273e+02]\n",
      " ...\n",
      " [ 2.92035999e+03 -6.18859672e+04  5.31074725e-04 -2.31185568e+02]\n",
      " [ 2.92036015e+03 -6.19553229e+04  5.24314126e-04 -2.31185568e+02]\n",
      " [ 2.92036031e+03 -6.20246786e+04  5.17639590e-04 -2.31185568e+02]]\n",
      "[[ 0.00000000e+00  0.00000000e+00  1.00000000e+02  1.73205081e+02]\n",
      " [ 3.00000000e+01  5.19615242e+01  9.88987173e+01  1.68354603e+02]\n",
      " [ 5.96696152e+01  1.02467905e+02  9.78354070e+01  1.63601537e+02]\n",
      " ...\n",
      " [ 3.70480745e+03 -6.07729279e+04  6.96585007e-04 -2.31185568e+02]\n",
      " [ 3.70480766e+03 -6.08422836e+04  6.87717457e-04 -2.31185568e+02]\n",
      " [ 3.70480786e+03 -6.09116393e+04  6.78962791e-04 -2.31185568e+02]]\n",
      "[[ 0.00000000e+00  0.00000000e+00  1.25000000e+02  2.16506351e+02]\n",
      " [ 3.75000000e+01  6.49519053e+01  1.23279246e+02  2.10582917e+02]\n",
      " [ 7.44837737e+01  1.28126780e+02  1.21622813e+02  2.04810434e+02]\n",
      " ...\n",
      " [ 4.36868885e+03 -5.97691340e+04  8.40145157e-04 -2.31185568e+02]\n",
      " [ 4.36868910e+03 -5.98384897e+04  8.29450081e-04 -2.31185568e+02]\n",
      " [ 4.36868935e+03 -5.99078454e+04  8.18891154e-04 -2.31185568e+02]]\n",
      "[[ 0.00000000e+00  0.00000000e+00  1.50000000e+02  2.59807621e+02]\n",
      " [ 4.50000000e+01  7.79422863e+01  1.47522114e+02  2.52572797e+02]\n",
      " [ 8.92566342e+01  1.53714125e+02  1.45146091e+02  2.45561804e+02]\n",
      " ...\n",
      " [ 4.93180247e+03 -5.88736418e+04  9.62376405e-04 -2.31185568e+02]\n",
      " [ 4.93180276e+03 -5.89429975e+04  9.50125322e-04 -2.31185568e+02]\n",
      " [ 4.93180304e+03 -5.90123531e+04  9.38030195e-04 -2.31185568e+02]]\n",
      "[[ 0.00000000e+00  0.00000000e+00  1.75000000e+02  3.03108891e+02]\n",
      " [ 5.25000000e+01  9.09326674e+01  1.71627322e+02  2.94324241e+02]\n",
      " [ 1.03988197e+02  1.79229940e+02  1.68407447e+02  2.85859468e+02]\n",
      " ...\n",
      " [ 5.41402695e+03 -5.80759969e+04  1.06589876e-03 -2.31185568e+02]\n",
      " [ 5.41402726e+03 -5.81453526e+04  1.05232984e-03 -2.31185568e+02]\n",
      " [ 5.41402758e+03 -5.82147083e+04  1.03893364e-03 -2.31185568e+02]]\n",
      "[[ 0.00000000e+00  0.00000000e+00  2.00000000e+02  3.46410162e+02]\n",
      " [ 6.00000000e+01  1.03923048e+02  1.95594869e+02  3.35837251e+02]\n",
      " [ 1.18678461e+02  2.04674224e+02  1.91409073e+02  3.25707221e+02]\n",
      " ...\n",
      " [ 5.83192547e+03 -5.73633397e+04  1.15371739e-03 -2.31185568e+02]\n",
      " [ 5.83192582e+03 -5.74326954e+04  1.13903053e-03 -2.31185568e+02]\n",
      " [ 5.83192616e+03 -5.75020511e+04  1.12453063e-03 -2.31185568e+02]]\n",
      "[[ 0.00000000e+00  0.00000000e+00  2.25000000e+02  3.89711432e+02]\n",
      " [ 6.75000000e+01  1.16913430e+02  2.19424756e+02  3.77111826e+02]\n",
      " [ 1.33327427e+02  2.30046977e+02  2.14153151e+02  3.65108842e+02]\n",
      " ...\n",
      " [ 6.19845273e+03 -5.67233565e+04  1.22858908e-03 -2.31185568e+02]\n",
      " [ 6.19845310e+03 -5.67927122e+04  1.21294910e-03 -2.31185568e+02]\n",
      " [ 6.19845346e+03 -5.68620679e+04  1.19750822e-03 -2.31185568e+02]]\n",
      "[[ 0.00000000e+00  0.00000000e+00  2.50000000e+02  4.33012702e+02]\n",
      " [ 7.50000000e+01  1.29903811e+02  2.43116983e+02  4.18147967e+02]\n",
      " [ 1.47935095e+02  2.55348201e+02  2.36641846e+02  4.04068084e+02]\n",
      " ...\n",
      " [ 6.52354021e+03 -5.61452626e+04  1.29284141e-03 -2.31185568e+02]\n",
      " [ 6.52354060e+03 -5.62146183e+04  1.27638349e-03 -2.31185568e+02]\n",
      " [ 6.52354098e+03 -5.62839740e+04  1.26013509e-03 -2.31185568e+02]]\n",
      "[[ 0.00000000e+00  0.00000000e+00  2.75000000e+02  4.76313972e+02]\n",
      " [ 8.25000000e+01  1.42894192e+02  2.66671550e+02  4.58945673e+02]\n",
      " [ 1.62501465e+02  2.80577893e+02  2.58877315e+02  4.42588679e+02]\n",
      " ...\n",
      " [ 6.81478933e+03 -5.56199597e+04  1.34837153e-03 -2.31185568e+02]\n",
      " [ 6.81478973e+03 -5.56893154e+04  1.33120672e-03 -2.31185568e+02]\n",
      " [ 6.81479013e+03 -5.57586711e+04  1.31426041e-03 -2.31185568e+02]]\n",
      "[[ 0.00000000e+00  0.00000000e+00  3.00000000e+02  5.19615242e+02]\n",
      " [ 9.00000000e+01  1.55884573e+02  2.90088456e+02  4.99504944e+02]\n",
      " [ 1.77026537e+02  3.05736056e+02  2.80861699e+02  4.80674340e+02]\n",
      " ...\n",
      " [ 7.07805712e+03 -5.51398896e+04  1.39670404e-03 -2.31185568e+02]\n",
      " [ 7.07805754e+03 -5.52092453e+04  1.37892395e-03 -2.31185568e+02]\n",
      " [ 7.07805795e+03 -5.52786010e+04  1.36137021e-03 -2.31185568e+02]]\n",
      "[[ 0.00000000e+00  0.00000000e+00  3.25000000e+02  5.62916512e+02]\n",
      " [ 9.75000000e+01  1.68874954e+02  3.13367701e+02  5.39825780e+02]\n",
      " [ 1.91510310e+02  3.30822688e+02  3.02597130e+02  5.18328755e+02]\n",
      " ...\n",
      " [ 7.31790365e+03 -5.46988023e+04  1.43905947e-03 -2.31185568e+02]\n",
      " [ 7.31790408e+03 -5.47681580e+04  1.42074020e-03 -2.31185568e+02]\n",
      " [ 7.31790451e+03 -5.48375136e+04  1.40265413e-03 -2.31185568e+02]]\n",
      "[[ 0.00000000e+00  0.00000000e+00  3.50000000e+02  6.06217783e+02]\n",
      " [ 1.05000000e+02  1.81865335e+02  3.36509287e+02  5.79908182e+02]\n",
      " [ 2.05952786e+02  3.55837789e+02  3.24085723e+02  5.55555591e+02]\n",
      " ...\n",
      " [ 7.53792130e+03 -5.42915250e+04  1.47641656e-03 -2.31185568e+02]\n",
      " [ 7.53792174e+03 -5.43608806e+04  1.45762173e-03 -2.31185568e+02]\n",
      " [ 7.53792218e+03 -5.44302363e+04  1.43906616e-03 -2.31185568e+02]]\n",
      "[[ 0.00000000e+00  0.00000000e+00  3.75000000e+02  6.49519053e+02]\n",
      " [ 1.12500000e+02  1.94855716e+02  3.59513212e+02  6.19752149e+02]\n",
      " [ 2.20353964e+02  3.80781361e+02  3.45329586e+02  5.92358496e+02]\n",
      " ...\n",
      " [ 7.74097454e+03 -5.39137601e+04  1.50956372e-03 -2.31185568e+02]\n",
      " [ 7.74097499e+03 -5.39831158e+04  1.49034692e-03 -2.31185568e+02]\n",
      " [ 7.74097544e+03 -5.40524715e+04  1.47137476e-03 -2.31185568e+02]]\n",
      "[[ 0.00000000e+00  0.00000000e+00  4.00000000e+02  6.92820323e+02]\n",
      " [ 1.20000000e+02  2.07846097e+02  3.82379477e+02  6.59357682e+02]\n",
      " [ 2.34713843e+02  4.05653401e+02  3.66330809e+02  6.28741093e+02]\n",
      " ...\n",
      " [ 7.92937446e+03 -5.35619184e+04  1.53913984e-03 -2.31185568e+02]\n",
      " [ 7.92937492e+03 -5.36312740e+04  1.51954654e-03 -2.31185568e+02]\n",
      " [ 7.92937538e+03 -5.37006297e+04  1.50020266e-03 -2.31185568e+02]]\n",
      "[[ 0.00000000e+00  0.00000000e+00  4.25000000e+02  7.36121593e+02]\n",
      " [ 1.27500000e+02  2.20836478e+02  4.05108081e+02  6.98724779e+02]\n",
      " [ 2.49032424e+02  4.30453912e+02  3.87091473e+02  6.64706984e+02]\n",
      " ...\n",
      " [ 8.10500668e+03 -5.32329836e+04  1.56566615e-03 -2.31185568e+02]\n",
      " [ 8.10500715e+03 -5.33023393e+04  1.54573517e-03 -2.31185568e+02]\n",
      " [ 8.10500762e+03 -5.33716949e+04  1.52605791e-03 -2.31185568e+02]]\n",
      "[[ 0.00000000e+00  0.00000000e+00  4.50000000e+02  7.79422863e+02]\n",
      " [ 1.35000000e+02  2.33826859e+02  4.27699025e+02  7.37853442e+02]\n",
      " [ 2.63309708e+02  4.55182892e+02  4.07613646e+02  7.00259752e+02]\n",
      " ...\n",
      " [ 8.26942593e+03 -5.29244055e+04  1.58957087e-03 -2.31185568e+02]\n",
      " [ 8.26942641e+03 -5.29937612e+04  1.56933558e-03 -2.31185568e+02]\n",
      " [ 8.26942688e+03 -5.30631169e+04  1.54935788e-03 -2.31185568e+02]]\n",
      "[[ 0.00000000e+00  0.00000000e+00  4.75000000e+02  8.22724134e+02]\n",
      " [ 1.42500000e+02  2.46817240e+02  4.50152309e+02  7.76743670e+02]\n",
      " [ 2.77545693e+02  4.79840341e+02  4.27899381e+02  7.35402954e+02]\n",
      " ...\n",
      " [ 8.42392670e+03 -5.26340142e+04  1.61120823e-03 -2.31185568e+02]\n",
      " [ 8.42392719e+03 -5.27033699e+04  1.59069750e-03 -2.31185568e+02]\n",
      " [ 8.42392766e+03 -5.27727255e+04  1.57044786e-03 -2.31185568e+02]]\n",
      "[[ 0.00000000e+00  0.00000000e+00  5.00000000e+02  8.66025404e+02]\n",
      " [ 1.50000000e+02  2.59807621e+02  4.72467932e+02  8.15395464e+02]\n",
      " [ 2.91740380e+02  5.04426260e+02  4.47950723e+02  7.70140128e+02]\n",
      " ...\n",
      " [ 8.56959661e+03 -5.23599517e+04  1.63087329e-03 -2.31185568e+02]\n",
      " [ 8.56959710e+03 -5.24293073e+04  1.61011222e-03 -2.31185568e+02]\n",
      " [ 8.56959758e+03 -5.24986630e+04  1.58961543e-03 -2.31185568e+02]]\n",
      "[[ 0.00000000e+00  0.00000000e+00  2.50000000e+01  4.33012702e+01]\n",
      " [ 7.50000000e+00  1.29903811e+01  2.49311698e+01  4.02390528e+01]\n",
      " [ 1.49793509e+01  2.50620969e+01  2.48661856e+01  3.71911680e+01]\n",
      " ...\n",
      " [ 9.97004930e+02 -6.43052392e+04  1.62657096e-04 -2.31185568e+02]\n",
      " [ 9.97004979e+02 -6.43745949e+04  1.60586465e-04 -2.31185568e+02]\n",
      " [ 9.97005027e+02 -6.44439506e+04  1.58542194e-04 -2.31185568e+02]]\n",
      "[[ 0.00000000e+00  0.00000000e+00  5.09177356e+01  9.80021050e+01]\n",
      " [ 1.52753207e+01  2.94006315e+01  5.06080900e+01  9.44631256e+01]\n",
      " [ 3.04577477e+01  5.77395692e+01  5.03094527e+01  9.09627006e+01]\n",
      " ...\n",
      " [ 2.05489467e+03 -6.27674930e+04  3.62790008e-04 -2.31185568e+02]\n",
      " [ 2.05489477e+03 -6.28368487e+04  3.58171679e-04 -2.31185568e+02]\n",
      " [ 2.05489488e+03 -6.29062044e+04  3.53612142e-04 -2.31185568e+02]]\n",
      "[[ 0.00000000e+00  0.00000000e+00  7.91298101e+01  1.56676852e+02]\n",
      " [ 2.37389430e+01  4.70030555e+01  7.83650083e+01  1.52219546e+02]\n",
      " [ 4.72484455e+01  9.26689192e+01  7.76262324e+01  1.47841516e+02]\n",
      " ...\n",
      " [ 3.05701661e+03 -6.11764579e+04  5.73967191e-04 -2.31185568e+02]\n",
      " [ 3.05701679e+03 -6.12458135e+04  5.66660569e-04 -2.31185568e+02]\n",
      " [ 3.05701696e+03 -6.13151692e+04  5.59446961e-04 -2.31185568e+02]]\n",
      "[[ 0.00000000e+00  0.00000000e+00  1.11012827e+02  2.21709857e+02]\n",
      " [ 3.33038481e+01  6.65129570e+01  1.09497153e+02  2.15739821e+02]\n",
      " [ 6.61529941e+01  1.31234903e+02  1.08038429e+02  2.09922729e+02]\n",
      " ...\n",
      " [ 3.96595694e+03 -5.96182223e+04  7.77016176e-04 -2.31185568e+02]\n",
      " [ 3.96595717e+03 -5.96875780e+04  7.67124734e-04 -2.31185568e+02]\n",
      " [ 3.96595740e+03 -5.97569336e+04  7.57359210e-04 -2.31185568e+02]]\n",
      "[[ 0.00000000e+00  0.00000000e+00  1.47943390e+02  2.95485467e+02]\n",
      " [ 4.43830169e+01  8.86456402e+01  1.45251399e+02  2.87165789e+02]\n",
      " [ 8.79584366e+01  1.74795377e+02  1.42677511e+02  2.79134145e+02]\n",
      " ...\n",
      " [ 4.78406156e+03 -5.81350135e+04  9.61675230e-04 -2.31185568e+02]\n",
      " [ 4.78406185e+03 -5.82043692e+04  9.49433073e-04 -2.31185568e+02]\n",
      " [ 4.78406213e+03 -5.82737248e+04  9.37346758e-04 -2.31185568e+02]]\n",
      "[[ 0.00000000e+00  0.00000000e+00  1.91298101e+02  3.80388031e+02]\n",
      " [ 5.73894304e+01  1.14116409e+02  1.86813060e+02  3.68526720e+02]\n",
      " [ 1.13433348e+02  2.24674425e+02  1.82562884e+02  3.57199385e+02]\n",
      " ...\n",
      " [ 5.52587400e+03 -5.67430021e+04  1.12391658e-03 -2.31185568e+02]\n",
      " [ 5.52587434e+03 -5.68123578e+04  1.10960909e-03 -2.31185568e+02]\n",
      " [ 5.52587467e+03 -5.68817135e+04  1.09548373e-03 -2.31185568e+02]]\n",
      "[[ 0.00000000e+00  0.00000000e+00  2.42453566e+02  4.78801894e+02]\n",
      " [ 7.27360697e+01  1.43640568e+02  2.35288502e+02  4.61709192e+02]\n",
      " [ 1.43322620e+02  2.82153326e+02  2.28574665e+02  4.45591555e+02]\n",
      " ...\n",
      " [ 6.20639789e+03 -5.54452080e+04  1.26330156e-03 -2.31185568e+02]\n",
      " [ 6.20639827e+03 -5.55145637e+04  1.24721968e-03 -2.31185568e+02]\n",
      " [ 6.20639864e+03 -5.55839193e+04  1.23134254e-03 -2.31185568e+02]]\n",
      "[[ 0.00000000e+00  0.00000000e+00  3.02786386e+02  5.93111404e+02]\n",
      " [ 9.08359157e+01  1.77933421e+02  2.91683580e+02  5.68419735e+02]\n",
      " [ 1.78340990e+02  3.48459342e+02  2.81422175e+02  5.45479774e+02]\n",
      " ...\n",
      " [ 6.83765312e+03 -5.42384614e+04  1.38126195e-03 -2.31185568e+02]\n",
      " [ 6.83765353e+03 -5.43078170e+04  1.36367844e-03 -2.31185568e+02]\n",
      " [ 6.83765394e+03 -5.43771727e+04  1.34631877e-03 -2.31185568e+02]]\n",
      "[[ 0.00000000e+00  0.00000000e+00  3.73673165e+02  7.25700907e+02]\n",
      " [ 1.12101949e+02  2.17710272e+02  3.56877895e+02  6.90140252e+02]\n",
      " [ 2.19165318e+02  4.24752348e+02  3.41609865e+02  6.57671516e+02]\n",
      " ...\n",
      " [ 7.42838265e+03 -5.31168921e+04  1.48008487e-03 -2.31185568e+02]\n",
      " [ 7.42838309e+03 -5.31862477e+04  1.46124334e-03 -2.31185568e+02]\n",
      " [ 7.42838353e+03 -5.32556034e+04  1.44264166e-03 -2.31185568e+02]]\n",
      "[[ 0.00000000e+00  0.00000000e+00  4.56490507e+02  8.78954751e+02]\n",
      " [ 1.36947152e+02  2.63686425e+02  4.31594889e+02  8.28076205e+02]\n",
      " [ 2.66425619e+02  5.12109287e+02  4.09402735e+02  7.82554400e+02]\n",
      " ...\n",
      " [ 7.98467780e+03 -5.20736982e+04  1.56232713e-03 -2.31185568e+02]\n",
      " [ 7.98467827e+03 -5.21430539e+04  1.54243865e-03 -2.31185568e+02]\n",
      " [ 7.98467873e+03 -5.22124095e+04  1.52280336e-03 -2.31185568e+02]]\n",
      "[[ 0.00000000e+00  0.00000000e+00  5.52615015e+02  1.05525728e+03]\n",
      " [ 1.65784504e+02  3.16577185e+02  5.16367749e+02  9.83097577e+02]\n",
      " [ 3.20694829e+02  6.11506458e+02  4.84793722e+02  9.20041702e+02]\n",
      " ...\n",
      " [ 8.51071794e+03 -5.11020604e+04  1.63049031e-03 -2.31185568e+02]\n",
      " [ 8.51071843e+03 -5.11714161e+04  1.60973412e-03 -2.31185568e+02]\n",
      " [ 8.51071892e+03 -5.12407718e+04  1.58924215e-03 -2.31185568e+02]]\n",
      "[[ 0.00000000e+00  0.00000000e+00  6.63423292e+02  1.25699285e+03]\n",
      " [ 1.99026988e+02  3.77097855e+02  6.11501152e+02  1.15567260e+03]\n",
      " [ 3.82477333e+02  7.23799634e+02  5.67475856e+02  1.06952644e+03]\n",
      " ...\n",
      " [ 9.00938246e+03 -5.01956045e+04  1.68685646e-03 -2.31185568e+02]\n",
      " [ 9.00938297e+03 -5.02649602e+04  1.66538273e-03 -2.31185568e+02]\n",
      " [ 9.00938347e+03 -5.03343158e+04  1.64418235e-03 -2.31185568e+02]]\n",
      "[[ 0.00000000e+00  0.00000000e+00  7.90291942e+02  1.48654580e+03]\n",
      " [ 2.37087583e+02  4.45963739e+02  7.17028824e+02  1.34579426e+03]\n",
      " [ 4.52196230e+02  8.49702015e+02  6.56822206e+02  1.22984921e+03]\n",
      " ...\n",
      " [ 9.48269388e+03 -4.93486128e+04  1.73342112e-03 -2.31185568e+02]\n",
      " [ 9.48269440e+03 -4.94179685e+04  1.71135461e-03 -2.31185568e+02]\n",
      " [ 9.48269492e+03 -4.94873241e+04  1.68956901e-03 -2.31185568e+02]]\n",
      "[[ 0.00000000e+00  0.00000000e+00  9.34597568e+02  1.74630047e+03]\n",
      " [ 2.80379270e+02  5.23890142e+02  8.32666934e+02  1.55289955e+03]\n",
      " [ 5.30179351e+02  9.89760006e+02  7.51876649e+02  1.39928502e+03]\n",
      " ...\n",
      " [ 9.93211504e+03 -4.85560966e+04  1.77188237e-03 -2.31185568e+02]\n",
      " [ 9.93211558e+03 -4.86254522e+04  1.74932625e-03 -2.31185568e+02]\n",
      " [ 9.93211610e+03 -4.86948079e+04  1.72705727e-03 -2.31185568e+02]]\n",
      "[[ 0.00000000e+00  0.00000000e+00  1.09771677e+03  2.03864122e+03]\n",
      " [ 3.29315032e+02  6.11592367e+02  9.57763309e+02  1.77578154e+03]\n",
      " [ 6.16644025e+02  1.14432683e+03  8.51358285e+02  1.57555381e+03]\n",
      " ...\n",
      " [ 1.03587368e+04 -4.78137952e+04  1.80365936e-03 -2.31185568e+02]\n",
      " [ 1.03587374e+04 -4.78831508e+04  1.78069872e-03 -2.31185568e+02]\n",
      " [ 1.03587379e+04 -4.79525065e+04  1.75803037e-03 -2.31185568e+02]]\n",
      "[[ 0.00000000e+00  0.00000000e+00  1.28102616e+03  2.36595240e+03]\n",
      " [ 3.84307849e+02  7.09785720e+02  1.09124248e+03  2.01249418e+03]\n",
      " [ 7.11680592e+02  1.31353397e+03  9.53681643e+02  1.75585836e+03]\n",
      " ...\n",
      " [ 1.07633891e+04 -4.71181426e+04  1.82992383e-03 -2.31185568e+02]\n",
      " [ 1.07633896e+04 -4.71874983e+04  1.80662883e-03 -2.31185568e+02]\n",
      " [ 1.07633902e+04 -4.72568539e+04  1.78363039e-03 -2.31185568e+02]]\n",
      "[[ 0.00000000e+00  0.00000000e+00  1.48590234e+03  2.73061834e+03]\n",
      " [ 4.45770701e+02  8.19185503e+02  1.23154654e+03  2.26024986e+03]\n",
      " [ 8.15234662e+02  1.49726046e+03  1.05699371e+03  1.93695112e+03]\n",
      " ...\n",
      " [ 1.11466992e+04 -4.64662274e+04  1.85163532e-03 -2.31185568e+02]\n",
      " [ 1.11466997e+04 -4.65355831e+04  1.82806394e-03 -2.31185568e+02]\n",
      " [ 1.11467003e+04 -4.66049387e+04  1.80479262e-03 -2.31185568e+02]]\n",
      "[[ 0.00000000e+00  0.00000000e+00  1.71372190e+03  3.13502340e+03]\n",
      " [ 5.14116570e+02  9.40507021e+02  1.37657185e+03  2.51530980e+03]\n",
      " [ 9.27088126e+02  1.69509996e+03  1.15922698e+03  2.11522829e+03]\n",
      " ...\n",
      " [ 1.15091138e+04 -4.58557614e+04  1.86957504e-03 -2.31185568e+02]\n",
      " [ 1.15091143e+04 -4.59251170e+04  1.84577529e-03 -2.31185568e+02]\n",
      " [ 1.15091149e+04 -4.59944727e+04  1.82227850e-03 -2.31185568e+02]]\n",
      "[[ 0.00000000e+00  0.00000000e+00  1.96586146e+03  3.58155193e+03]\n",
      " [ 5.89758438e+02  1.07446558e+03  1.52360157e+03  2.77286713e+03]\n",
      " [ 1.04683891e+03  1.90632572e+03  1.25816509e+03  2.28684502e+03]\n",
      " ...\n",
      " [ 1.18508927e+04 -4.52850711e+04  1.88437582e-03 -2.31185568e+02]\n",
      " [ 1.18508932e+04 -4.53544268e+04  1.86038765e-03 -2.31185568e+02]\n",
      " [ 1.18508938e+04 -4.54237824e+04  1.83670486e-03 -2.31185568e+02]]\n",
      "[[ 0.00000000e+00  0.00000000e+00  2.24369761e+03  4.07258826e+03]\n",
      " [ 6.73109284e+02  1.22177648e+03  1.66923398e+03  3.02692282e+03]\n",
      " [ 1.17387948e+03  2.12985332e+03  1.35151393e+03  2.44783886e+03]\n",
      " ...\n",
      " [ 1.21720762e+04 -4.47531247e+04  1.89654725e-03 -2.31185568e+02]\n",
      " [ 1.21720768e+04 -4.48224803e+04  1.87240414e-03 -2.31185568e+02]\n",
      " [ 1.21720774e+04 -4.48918360e+04  1.84856837e-03 -2.31185568e+02]]\n"
     ]
    },
    {
     "data": {
      "text/plain": [
       "<matplotlib.legend.Legend at 0x7f3f5b546550>"
      ]
     },
     "execution_count": 170,
     "metadata": {},
     "output_type": "execute_result"
    },
    {
     "data": {
      "image/png": "[encoded data removed]",
      "text/plain": [
       "<Figure size 432x288 with 1 Axes>"
      ]
     },
     "metadata": {},
     "output_type": "display_data"
    }
   ],
   "source": [
    "n_steps = 1000\n",
    "max_time = 300\n",
    "v0s = numpy.linspace(50, 1000, 20)\n",
    "\n",
    "ranges = []\n",
    "ranges_noresistance = []\n",
    "theta = numpy.deg2rad(60)\n",
    "print('hello')\n",
    "# Your code here\n",
    "for i in range(0, len(v0s)):\n",
    "    initial_conditions = [0, 0, v0s[i]*numpy.cos(60*numpy.pi/180), v0s[i]*numpy.sin(60*numpy.pi/180)]    \n",
    "    values_euler = solve_euler(initial_conditions, max_time, n_steps)\n",
    "    ranges_noresistance.append(values_euler[-1][0])\n",
    "\n",
    "for i in range(0, len(v0s)):\n",
    "    initial_conditions = [0, 0, v0s[i]*numpy.cos(60*numpy.pi/180), v0s[i]*numpy.sin(60*numpy.pi/180)]\n",
    "    resistance_conditions = f(initial_conditions, max_time)\n",
    "    test = initial_conditions\n",
    "    test[2] = initial_conditions[2] - i*resistance_conditions[2]\n",
    "    test[3] = initial_conditions[3] - i*resistance_conditions[3]\n",
    "    values_euler = solve_euler(test, max_time, n_steps)\n",
    "    ranges.append(values_euler[-1][0])\n",
    "    \n",
    "plt.plot(v0s, ranges, label = 'Resistance forces')\n",
    "plt.plot(v0s, ranges_noresistance, label = 'No resistance forces')\n",
    "plt.ylabel('Range (m)')\n",
    "plt.xlabel('Initial velocity (m/s)')\n",
    "plt.title('A plot of the range of a projectile against its initial \\nvelocity for cases with and without resistance forces')\n",
    "plt.legend()\n",
    "\n",
    "   \n",
    "    "
   ]
  },
  {
   "cell_type": "code",
   "execution_count": null,
   "metadata": {},
   "outputs": [],
   "source": []
  },
  {
   "cell_type": "code",
   "execution_count": null,
   "metadata": {},
   "outputs": [],
   "source": []
  }
 ],
 "metadata": {
  "kernelspec": {
   "display_name": "Python 3",
   "language": "python",
   "name": "python3"
  },
  "language_info": {
   "codemirror_mode": {
    "name": "ipython",
    "version": 3
   },
   "file_extension": ".py",
   "mimetype": "text/x-python",
   "name": "python",
   "nbconvert_exporter": "python",
   "pygments_lexer": "ipython3",
   "version": "3.6.3"
  },
  "toc": {
   "base_numbering": 1,
   "nav_menu": {},
   "number_sections": false,
   "sideBar": true,
   "skip_h1_title": false,
   "title_cell": "Table of Contents",
   "title_sidebar": "Contents",
   "toc_cell": false,
   "toc_position": {},
   "toc_section_display": true,
   "toc_window_display": false
  }
 },
 "nbformat": 4,
 "nbformat_minor": 2
}
