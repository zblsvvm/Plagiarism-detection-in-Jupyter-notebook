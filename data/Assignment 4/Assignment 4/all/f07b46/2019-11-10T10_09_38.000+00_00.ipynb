{
 "cells": [
  {
   "cell_type": "markdown",
   "metadata": {
    "deletable": false,
    "editable": false,
    "nbgrader": {
     "cell_type": "markdown",
     "checksum": "34d7561c82d7aef9d3148c2d90e3512e",
     "grade": false,
     "grade_id": "cell-0867630144920503",
     "locked": true,
     "schema_version": 3,
     "solution": false
    }
   },
   "source": [
    "# <center>L2 Computational Physics</center>\n",
    "---\n",
    "## Week 4: Differential Equations II"
   ]
  },
  {
   "cell_type": "markdown",
   "metadata": {
    "deletable": false,
    "editable": false,
    "nbgrader": {
     "cell_type": "markdown",
     "checksum": "933b1cc5803c2d147453cf0b6866b029",
     "grade": false,
     "grade_id": "introduction",
     "locked": true,
     "schema_version": 3,
     "solution": false
    }
   },
   "source": [
    "In this notebook, you will write a program to study the trajectory of a spherical, iron cannonball in the presence of gravity and drag forces. "
   ]
  },
  {
   "cell_type": "code",
   "execution_count": 4,
   "metadata": {
    "deletable": false,
    "editable": false,
    "nbgrader": {
     "cell_type": "code",
     "checksum": "7b07378542646e2d1c99e9b8a3e8dd16",
     "grade": false,
     "grade_id": "imports",
     "locked": true,
     "schema_version": 3,
     "solution": false
    }
   },
   "outputs": [],
   "source": [
    "import numpy\n",
    "from matplotlib import pyplot as plt"
   ]
  },
  {
   "cell_type": "code",
   "execution_count": 5,
   "metadata": {
    "deletable": false,
    "editable": false,
    "nbgrader": {
     "cell_type": "code",
     "checksum": "8886ed938c68fdbe0bd4d3784af074eb",
     "grade": false,
     "grade_id": "cell-9efceaad412b0b16",
     "locked": true,
     "schema_version": 3,
     "solution": false
    }
   },
   "outputs": [],
   "source": [
    "# Define all constants to be used in the simulation\n",
    "r_cb = 0.15  # Radius of cannonball in m\n",
    "rho_iron = 7874  # Density of iron in kg/m^3\n",
    "g = 9.81  # Acceleration due to gravity in m/s^2\n",
    "kappa = 0.47  # Drag coefficient of a sphere\n",
    "rho_air = 1.23  # Density of air in kg/m^3\n",
    "v0 = 125.00  # Initial speed in m/s"
   ]
  },
  {
   "cell_type": "markdown",
   "metadata": {
    "deletable": false,
    "editable": false,
    "nbgrader": {
     "cell_type": "markdown",
     "checksum": "e1d5ce84de473c6fb55555128809a945",
     "grade": false,
     "grade_id": "cell-e2eb11ca2dec5c24",
     "locked": true,
     "schema_version": 3,
     "solution": false
    }
   },
   "source": [
    "From this information, calculate the following two variables:"
   ]
  },
  {
   "cell_type": "code",
   "execution_count": 6,
   "metadata": {
    "deletable": false,
    "nbgrader": {
     "cell_type": "code",
     "checksum": "6743b817e3d018ac884f6e6adbdf1449",
     "grade": false,
     "grade_id": "constants",
     "locked": false,
     "schema_version": 3,
     "solution": true
    }
   },
   "outputs": [],
   "source": [
    "def get_area(r):\n",
    "    ''' \n",
    "    This function returns the cross section area of a sphere of radius r. The returned \n",
    "    value is in the squared units of the unit of the radius argument.\n",
    "    '''\n",
    "    Area = numpy.pi*(r**2)\n",
    "    return Area\n",
    "\n",
    "def get_mass(r):\n",
    "    ''' \n",
    "    This function returns the mass of an iron sphere of radius r. The radius \n",
    "    should be given in meter and the return value is in kg.\n",
    "    '''\n",
    "    Mass = (4/3)*numpy.pi*(r**3)*rho_iron\n",
    "    return Mass\n",
    "\n",
    "area_cb = get_area(r_cb)\n",
    "mass_cb = get_mass(r_cb)"
   ]
  },
  {
   "cell_type": "code",
   "execution_count": 7,
   "metadata": {
    "deletable": false,
    "editable": false,
    "nbgrader": {
     "cell_type": "code",
     "checksum": "2abfe72353c488ee9e0d278ba43df272",
     "grade": true,
     "grade_id": "constants_test",
     "locked": true,
     "points": 1,
     "schema_version": 3,
     "solution": false
    }
   },
   "outputs": [],
   "source": [
    "# these tests are worth one mark\n",
    "assert numpy.isclose(area_cb, 0.07068583470577035)\n",
    "assert numpy.isclose(mass_cb, 111.31605249464711)"
   ]
  },
  {
   "cell_type": "markdown",
   "metadata": {
    "deletable": false,
    "editable": false,
    "nbgrader": {
     "cell_type": "markdown",
     "checksum": "fc4b6b3567ab78be72941f8014bea2d5",
     "grade": false,
     "grade_id": "cell-f602e0ba8a9540e0",
     "locked": true,
     "schema_version": 3,
     "solution": false
    }
   },
   "source": [
    "## The Differential Equations"
   ]
  },
  {
   "cell_type": "markdown",
   "metadata": {
    "deletable": false,
    "editable": false,
    "nbgrader": {
     "cell_type": "markdown",
     "checksum": "3c264fa3be9258ab680faf902a6a6ab9",
     "grade": false,
     "grade_id": "DE_introduction",
     "locked": true,
     "schema_version": 3,
     "solution": false
    }
   },
   "source": [
    "Create a function `f` which calculates the right-hand side of the differential equation\n",
    "\n",
    "$$ \\frac{d}{dt}\\left(\\begin{array}{c}x\\\\y\\\\v_x \\\\v_y \\end{array}\\right) = f(x, y, v_x, v_y, t)$$\n",
    "\n",
    "such that the differential equation represents the cannonball's motion as it moves through the air. \n",
    "\n",
    "- *Your function should accept two arguments:*\n",
    "    - `r` *- a numpy array representing the cannonball's state, $(x, y, v_{x}, v_{y})$.*\n",
    "    - `t` *- Time * \n",
    "    \n",
    "- *The drag force experienced by the cannonball is given by $$\\vec{F}_{\\textrm{d}} = - \\frac{1}{2} C_{\\textrm{d}} \\rho |\\vec{v}|^{2} A \\widehat{v}~,$$ where $\\widehat{v}$ is a unit vector pointing in the direction of the cannonball's instantaneous velocity.*"
   ]
  },
  {
   "cell_type": "code",
   "execution_count": 8,
   "metadata": {
    "deletable": false,
    "nbgrader": {
     "cell_type": "code",
     "checksum": "57dc87a54ab0b805470604fecee06989",
     "grade": false,
     "grade_id": "DE_function",
     "locked": false,
     "schema_version": 3,
     "solution": true,
     "task": false
    }
   },
   "outputs": [],
   "source": [
    "def f(r, t):\n",
    "    '''Implements differential equation for cannonball from state vector r and time t'''\n",
    "    \n",
    "    # Unpack array of the state\n",
    "    x, y, vx, vy = r\n",
    "    # these variables should updated in your code to be the derivatives of \n",
    "    # the x, y positions and the derivative of the x, y velocities. \n",
    "    dx_dt, dy_dt, dvx_dt, dvy_dt = 0, 0, 0, 0\n",
    "    \n",
    "    \n",
    "    dx_dt = vx\n",
    "    dy_dt = vy\n",
    "    \n",
    "    m = mass_cb\n",
    "    \n",
    "    theta = numpy.arctan(dy_dt/dx_dt)\n",
    "    mod_v= numpy.sqrt(dx_dt**2+dy_dt**2)\n",
    "    F_d = -(1/2) * kappa * rho_air * (mod_v**2) * area_cb\n",
    "    \n",
    "    # F = ma\n",
    "    dvx_dt = (F_d*numpy.cos(theta))/m\n",
    "    dvy_dt = - g + (F_d*numpy.sin(theta))/m\n",
    "    \n",
    "    # print(theta)\n",
    "    \n",
    "    return numpy.array([dx_dt, dy_dt, dvx_dt, dvy_dt])\n",
    "    raise NotImplementedError()\n",
    "   "
   ]
  },
  {
   "cell_type": "markdown",
   "metadata": {
    "deletable": false,
    "editable": false,
    "nbgrader": {
     "cell_type": "markdown",
     "checksum": "dcdf5518a78001d997294227da87f4d5",
     "grade": false,
     "grade_id": "cell-7aba52f3fc040f80",
     "locked": true,
     "schema_version": 3,
     "solution": false
    }
   },
   "source": [
    "Check your result:"
   ]
  },
  {
   "cell_type": "code",
   "execution_count": 9,
   "metadata": {
    "deletable": false,
    "editable": false,
    "nbgrader": {
     "cell_type": "code",
     "checksum": "fe2d24e66c044c53f63a64911210d448",
     "grade": true,
     "grade_id": "cell-21f74cca0b55f17f",
     "locked": true,
     "points": 1,
     "schema_version": 3,
     "solution": false,
     "task": false
    }
   },
   "outputs": [],
   "source": [
    "r_test = [0, 0, 88.38834764831843, 88.38834764831843]\n",
    "assert len(f(r_test, 0))== 4"
   ]
  },
  {
   "cell_type": "code",
   "execution_count": 10,
   "metadata": {
    "deletable": false,
    "editable": false,
    "nbgrader": {
     "cell_type": "code",
     "checksum": "af6b172c9d591b1f4df50f5d3261f7d4",
     "grade": true,
     "grade_id": "DE_test",
     "locked": true,
     "points": 3,
     "schema_version": 3,
     "solution": false
    }
   },
   "outputs": [],
   "source": [
    "r_test = [0, 0, 88.38834764831843, 88.38834764831843]\n",
    "assert numpy.isclose(f(r_test, 0), [ 88.38834765,  88.38834765,  -2.0279283 , -11.8379283 ]).all()"
   ]
  },
  {
   "cell_type": "markdown",
   "metadata": {
    "deletable": false,
    "editable": false,
    "nbgrader": {
     "cell_type": "markdown",
     "checksum": "36a8936dae8f878c4881f2b45498fba0",
     "grade": false,
     "grade_id": "cell-d1367b0c3c82b52a",
     "locked": true,
     "schema_version": 3,
     "solution": false
    }
   },
   "source": [
    "## Solving the Differential Equations"
   ]
  },
  {
   "cell_type": "markdown",
   "metadata": {
    "deletable": false,
    "editable": false,
    "nbgrader": {
     "cell_type": "markdown",
     "checksum": "5d0e7d43f41138030b3f88a8954d6ce6",
     "grade": false,
     "grade_id": "euler_introduction",
     "locked": true,
     "schema_version": 3,
     "solution": false
    }
   },
   "source": [
    "Create the function `solve_euler(state_initial, t1, n_panels)` which solves the differential equations using Euler's method.\n",
    "\n",
    "- `state_initial` *is a numpy array containing the initial conditions $(x_{0}, y_{0}, v_{x0}, v_{y0})$*\n",
    "- *When working with a numpy array, you can use the same commands as those used for single variables - for instance,* `state += f(state, t)`.\n",
    "- *This function should record all state values at each timepoint in the variable `history` and return it. This will be similar to last week, only this time you will have to populate a 2D array.* \n"
   ]
  },
  {
   "cell_type": "code",
   "execution_count": 11,
   "metadata": {
    "deletable": false,
    "nbgrader": {
     "cell_type": "code",
     "checksum": "afe77ec167dbd4b35080f55e28ec7bb4",
     "grade": false,
     "grade_id": "euler_function",
     "locked": false,
     "schema_version": 3,
     "solution": true
    }
   },
   "outputs": [],
   "source": [
    "def solve_euler(state_initial, t1, n_steps):\n",
    "    '''Solves ODE using Euler's method from state_initial to end time t1 using n_panels panels'''\n",
    "    # Define array for trajectory history\n",
    "    history = numpy.zeros((n_steps+1,4))  # Number of columns is equal to number of variables to solve for (4)\n",
    "    history[0] = state_initial\n",
    "    # you should now populate the history array\n",
    "    dt = t1/n_steps\n",
    "    for i in range (0,n_steps):\n",
    "        history[i+1] = history[i] + dt*f(history[i], t1)\n",
    "        \n",
    "    print(history)\n",
    "    return history\n"
   ]
  },
  {
   "cell_type": "markdown",
   "metadata": {
    "deletable": false,
    "editable": false,
    "nbgrader": {
     "cell_type": "markdown",
     "checksum": "2471d6453084656d6a70689a4f7a0777",
     "grade": false,
     "grade_id": "cell-85bc67cd138e0554",
     "locked": true,
     "schema_version": 3,
     "solution": false
    }
   },
   "source": [
    "Test your solution:"
   ]
  },
  {
   "cell_type": "code",
   "execution_count": 12,
   "metadata": {
    "deletable": false,
    "editable": false,
    "nbgrader": {
     "cell_type": "code",
     "checksum": "258054f67106dab37651404d0e948e2d",
     "grade": true,
     "grade_id": "euler_test",
     "locked": true,
     "points": 4,
     "schema_version": 3,
     "solution": false
    }
   },
   "outputs": [
    {
     "name": "stdout",
     "output_type": "stream",
     "text": [
      "[[   0.            0.           88.38834765   88.38834765]\n",
      " [ 220.97086912  220.97086912   83.3185269    58.7935269 ]\n",
      " [ 429.26718637  367.95468637   79.41984538   31.51743125]\n",
      " [ 627.81679983  446.7482645    76.30595276    5.75669607]\n",
      " [ 818.58168171  461.14000469   73.62655732  -18.97044366]\n",
      " [1002.64807501  413.71389553   71.05785323  -42.83359748]\n",
      " [1180.2927081   306.62990184   68.35253688  -65.72783569]\n",
      " [1351.1740503   142.31031262   65.37829955  -87.3928075 ]\n",
      " [1514.61979917  -76.17170612   62.10406078 -107.54105068]\n",
      " [1669.87995113 -345.02433282   58.56508321 -125.93786257]\n",
      " [1816.29265915 -659.86898925   54.83262575 -142.43661744]]\n"
     ]
    }
   ],
   "source": [
    "# this test is worth 4 marks\n",
    "r_test = [0, 0, 88.38834764831843, 88.38834764831843]\n",
    "assert numpy.isclose(solve_euler(r_test, 25.0, 10), numpy.array(\n",
    "    [[   0.        ,    0.        ,   88.38834765,   88.38834765],\n",
    "     [ 220.97086912,  220.97086912,   83.3185269 ,   58.7935269 ],\n",
    "     [ 429.26718637,  367.95468637,   79.41984538,   31.51743125],\n",
    "     [ 627.81679983,  446.7482645 ,   76.30595276,    5.75669607],\n",
    "     [ 818.58168171,  461.14000469,   73.62655732,  -18.97044366],\n",
    "     [1002.64807501,  413.71389553,   71.05785323,  -42.83359748],\n",
    "     [1180.2927081 ,  306.62990184,   68.35253688,  -65.72783569],\n",
    "     [1351.1740503 ,  142.31031262,   65.37829955,  -87.3928075 ],\n",
    "     [1514.61979917,  -76.17170612,   62.10406078, -107.54105068],\n",
    "     [1669.87995113, -345.02433282,   58.56508321, -125.93786257],\n",
    "     [1816.29265915, -659.86898925,   54.83262575, -142.43661744]])).all()"
   ]
  },
  {
   "cell_type": "markdown",
   "metadata": {
    "deletable": false,
    "editable": false,
    "nbgrader": {
     "cell_type": "markdown",
     "checksum": "8b82e1da6abd6394254a8832a6f80a16",
     "grade": false,
     "grade_id": "cell-a4dde4ee63c0a103",
     "locked": true,
     "schema_version": 3,
     "solution": false,
     "task": false
    }
   },
   "source": [
    "## Finding the range\n",
    "\n",
    "To find the range of the projectile we will look for the $x$ coordinate when the trajectory crosses the $y=0$ line. In most cases that point will not be one of the steps but will be between two steps. We will use a linear approximation to determine this point given the last point with a positive $y$ value and the first point with a negative $y$ value. Implement the function `find_zero_linear` that takes as argument the two values of $x$ `x1` and `x2` and the heights `y1` and `y2` and returns the value of $x$ at which the line between $(x_1,y_1)$ and $x_2,y_2$ crosses the $y=0$ line.  "
   ]
  },
  {
   "cell_type": "code",
   "execution_count": 17,
   "metadata": {
    "deletable": false,
    "nbgrader": {
     "cell_type": "code",
     "checksum": "5ac4f3396618b95116cb990a2130919c",
     "grade": false,
     "grade_id": "cell-e042c84d480733a4",
     "locked": false,
     "schema_version": 3,
     "solution": true,
     "task": false
    }
   },
   "outputs": [],
   "source": [
    "def find_zero_linear(x1, x2, y1, y2):\n",
    "    if y1*y2 > 0:\n",
    "        print(\"I expect y1 and y2 to have opposite signs!\")\n",
    "    # YOUR CODE HERE\n",
    "    \n",
    "    m = (y1-y2)/(x1-x2)\n",
    "    x = x1 - y1/m\n",
    "\n",
    "    return x\n",
    "    \n",
    "    raise NotImplementedError()"
   ]
  },
  {
   "cell_type": "code",
   "execution_count": 18,
   "metadata": {
    "deletable": false,
    "editable": false,
    "nbgrader": {
     "cell_type": "code",
     "checksum": "495e64d3e07b6121f90c7955bdd08374",
     "grade": true,
     "grade_id": "cell-53982c10e992f643",
     "locked": true,
     "points": 2,
     "schema_version": 3,
     "solution": false,
     "task": false
    }
   },
   "outputs": [],
   "source": [
    "# these tests are worth 2 marks\n",
    "assert numpy.isclose(find_zero_linear(-1,1,3,-3),0.0)\n",
    "assert numpy.isclose(find_zero_linear(-1,1,1,-3), -0.5)"
   ]
  },
  {
   "cell_type": "markdown",
   "metadata": {
    "deletable": false,
    "editable": false,
    "nbgrader": {
     "cell_type": "markdown",
     "checksum": "ea5e661226fd6bf4bb0f5125178b010d",
     "grade": false,
     "grade_id": "cell-d48dcdc6ebf4efe8",
     "locked": true,
     "schema_version": 3,
     "solution": false,
     "task": false
    }
   },
   "source": [
    "Given the function above we can define a function to determine the range. (Don't modify it!)"
   ]
  },
  {
   "cell_type": "code",
   "execution_count": 19,
   "metadata": {},
   "outputs": [],
   "source": [
    "def find_range(history):\n",
    "    all_xs = history[:,0]\n",
    "    all_ys = history[:,1]\n",
    "    negatives = numpy.argwhere(all_ys<0)\n",
    "    if len(negatives) == 0 :\n",
    "        print (\"The projectile did not touch down! Returning the last known location\")\n",
    "        return all_xs[-1]\n",
    "    (index,) = negatives[0]\n",
    "    y1, y2 = all_ys[index-1], all_ys[index]\n",
    "    x1, x2 = all_xs[index -1], all_xs[index]\n",
    "    return find_zero_linear(x1,x2,y1,y2)"
   ]
  },
  {
   "cell_type": "code",
   "execution_count": 20,
   "metadata": {},
   "outputs": [
    {
     "name": "stdout",
     "output_type": "stream",
     "text": [
      "[[ 0.00000000e+00  0.00000000e+00  8.83883476e+01  8.83883476e+01]\n",
      " [ 2.20970869e-01  2.20970869e-01  8.83832778e+01  8.83587528e+01]\n",
      " [ 4.41929064e-01  4.41867751e-01  8.83782093e+01  8.83291607e+01]\n",
      " ...\n",
      " [ 1.79353953e+03 -8.73711583e+02  5.54849813e+01 -1.37113957e+02]\n",
      " [ 1.79367824e+03 -8.74054368e+02  5.54812154e+01 -1.37129176e+02]\n",
      " [ 1.79381695e+03 -8.74397191e+02  5.54774493e+01 -1.37144392e+02]]\n"
     ]
    }
   ],
   "source": [
    "r_test = [0, 0, 88.38834764831843, 88.38834764831843]\n",
    "h = solve_euler(r_test, 25.0, 10000)\n",
    "assert numpy.isclose(find_range(h),1306.2541)"
   ]
  },
  {
   "cell_type": "markdown",
   "metadata": {},
   "source": [
    "## Plotting task"
   ]
  },
  {
   "cell_type": "markdown",
   "metadata": {
    "deletable": false,
    "editable": false,
    "nbgrader": {
     "cell_type": "markdown",
     "checksum": "6b83f51417fbae4bfc16f7629ca14d37",
     "grade": false,
     "grade_id": "odeint_introduction",
     "locked": true,
     "points": 4,
     "schema_version": 3,
     "solution": false,
     "task": true
    }
   },
   "source": [
    "Create a plot to show the trajectories for different values of the initial angle. Use the same velocity $v0=125\\rm{m/s}$ for all angles. The plot should have axis labels and a title. [4 marks]\n"
   ]
  },
  {
   "cell_type": "code",
   "execution_count": 22,
   "metadata": {},
   "outputs": [
    {
     "name": "stdout",
     "output_type": "stream",
     "text": [
      "[[ 0.00000000e+00  0.00000000e+00  1.24524337e+02  1.08944678e+01]\n",
      " [ 3.73573012e+01  3.26834035e+00  1.23667234e+02  7.87648104e+00]\n",
      " [ 7.44574714e+01  5.63128466e+00  1.22823400e+02  4.87973644e+00]\n",
      " ...\n",
      " [ 4.02193671e+03 -6.48863596e+04  6.01837538e-04 -2.31185568e+02]\n",
      " [ 4.02193689e+03 -6.49557153e+04  5.94176126e-04 -2.31185568e+02]\n",
      " [ 4.02193707e+03 -6.50250710e+04  5.86612245e-04 -2.31185568e+02]]\n",
      "[[ 0.00000000e+00  0.00000000e+00  1.23100969e+02  2.17060222e+01]\n",
      " [ 3.69302907e+01  6.51180666e+00  1.22253663e+02  1.86136193e+01]\n",
      " [ 7.36063897e+01  1.20958924e+01  1.21421193e+02  1.55438723e+01]\n",
      " ...\n",
      " [ 4.03802369e+03 -6.46360092e+04  6.13033010e-04 -2.31185568e+02]\n",
      " [ 4.03802388e+03 -6.47053649e+04  6.05229079e-04 -2.31185568e+02]\n",
      " [ 4.03802406e+03 -6.47747205e+04  5.97524493e-04 -2.31185568e+02]]\n",
      "[[ 0.00000000e+00  0.00000000e+00  1.20740728e+02  3.23523806e+01]\n",
      " [ 3.62222185e+01  9.70571419e+00  1.19909668e+02  2.91866987e+01]\n",
      " [ 7.21951188e+01  1.84617238e+01  1.19094821e+02  2.60453604e+01]\n",
      " ...\n",
      " [ 4.02561911e+03 -6.43859508e+04  6.20363249e-04 -2.31185568e+02]\n",
      " [ 4.02561930e+03 -6.44553064e+04  6.12466004e-04 -2.31185568e+02]\n",
      " [ 4.02561948e+03 -6.45246621e+04  6.04669291e-04 -2.31185568e+02]]\n",
      "[[ 0.00000000e+00  0.00000000e+00  1.17461578e+02  4.27525179e+01]\n",
      " [ 3.52384733e+01  1.28257554e+01  1.16653088e+02  3.95152516e+01]\n",
      " [ 7.02343996e+01  2.46803309e+01  1.15861955e+02  3.63042621e+01]\n",
      " ...\n",
      " [ 3.98366184e+03 -6.41380717e+04  6.23443385e-04 -2.31185568e+02]\n",
      " [ 3.98366202e+03 -6.42074274e+04  6.15506930e-04 -2.31185568e+02]\n",
      " [ 3.98366221e+03 -6.42767831e+04  6.07671506e-04 -2.31185568e+02]]\n",
      "[[ 0.00000000e+00  0.00000000e+00  1.13288473e+02  5.28272827e+01]\n",
      " [ 3.39865420e+01  1.58481848e+01  1.12508707e+02  4.95206716e+01]\n",
      " [ 6.77391541e+01  3.07043863e+01  1.11747164e+02  4.62424787e+01]\n",
      " ...\n",
      " [ 3.91113967e+03 -6.38943276e+04  6.21859651e-04 -2.31185568e+02]\n",
      " [ 3.91113985e+03 -6.39636833e+04  6.13943357e-04 -2.31185568e+02]\n",
      " [ 3.91114004e+03 -6.40330390e+04  6.06127837e-04 -2.31185568e+02]]\n",
      "[[ 0.00000000e+00  0.00000000e+00  1.08253175e+02  6.25000000e+01]\n",
      " [ 3.24759526e+01  1.87500000e+01  1.07508067e+02  5.91268114e+01]\n",
      " [ 6.47283728e+01  3.64880434e+01  1.06781735e+02  5.57843465e+01]\n",
      " ...\n",
      " [ 3.80709665e+03 -6.36567352e+04  6.15170464e-04 -2.31185568e+02]\n",
      " [ 3.80709683e+03 -6.37260908e+04  6.07339324e-04 -2.31185568e+02]\n",
      " [ 3.80709701e+03 -6.37954465e+04  5.99607874e-04 -2.31185568e+02]]\n",
      "[[ 0.00000000e+00  0.00000000e+00  1.02394006e+02  7.16970545e+01]\n",
      " [ 3.07182017e+01  2.15091164e+01  1.01689226e+02  6.82605625e+01]\n",
      " [ 6.12249694e+01  4.19872851e+01  1.01003434e+02  6.48572135e+01]\n",
      " ...\n",
      " [ 3.67064482e+03 -6.34273630e+04  6.02909555e-04 -2.31185568e+02]\n",
      " [ 3.67064501e+03 -6.34967186e+04  5.95234496e-04 -2.31185568e+02]\n",
      " [ 3.67064518e+03 -6.35660743e+04  5.87657141e-04 -2.31185568e+02]]\n",
      "[[ 0.00000000e+00  0.00000000e+00  9.57555554e+01  8.03484512e+01]\n",
      " [ 2.87266666e+01  2.41045354e+01  9.50964683e+01  7.68524115e+01]\n",
      " [ 5.72556071e+01  4.71602588e+01  9.44562200e+01  7.33919934e+01]\n",
      " ...\n",
      " [ 3.50098289e+03 -6.32083191e+04  5.84592135e-04 -2.31185568e+02]\n",
      " [ 3.50098307e+03 -6.32776748e+04  5.77150258e-04 -2.31185568e+02]\n",
      " [ 3.50098324e+03 -6.33470305e+04  5.69803116e-04 -2.31185568e+02]]\n",
      "[[ 0.00000000e+00  0.00000000e+00  8.83883476e+01  8.83883476e+01]\n",
      " [ 2.65165043e+01  2.65165043e+01  8.77799692e+01  8.48369692e+01]\n",
      " [ 5.28504950e+01  5.19675950e+01  8.71899097e+01  8.13236926e+01]\n",
      " ...\n",
      " [ 3.29742502e+03 -6.30017341e+04  5.59725520e-04 -2.31185568e+02]\n",
      " [ 3.29742519e+03 -6.30710897e+04  5.52600195e-04 -2.31185568e+02]\n",
      " [ 3.29742536e+03 -6.31404454e+04  5.45565576e-04 -2.31185568e+02]]\n",
      "[[ 0.00000000e+00  0.00000000e+00  8.03484512e+01  9.57555554e+01]\n",
      " [ 2.41045354e+01  2.87266666e+01  7.97954115e+01  9.21534683e+01]\n",
      " [ 4.80431588e+01  5.63727071e+01  7.92598000e+01  8.85919057e+01]\n",
      " ...\n",
      " [ 3.05944475e+03 -6.28097377e+04  5.27826128e-04 -2.31185568e+02]\n",
      " [ 3.05944491e+03 -6.28790934e+04  5.21106884e-04 -2.31185568e+02]\n",
      " [ 3.05944507e+03 -6.29484490e+04  5.14473176e-04 -2.31185568e+02]]\n",
      "[[ 0.00000000e+00  0.00000000e+00  7.16970545e+01  1.02394006e+02]\n",
      " [ 2.15091164e+01  3.07182017e+01  7.12035625e+01  9.87462259e+01]\n",
      " [ 4.28701851e+01  6.03420694e+01  7.07262467e+01  9.51412767e+01]\n",
      " ...\n",
      " [ 2.78674072e+03 -6.26344286e+04  4.88445452e-04 -2.31185568e+02]\n",
      " [ 2.78674087e+03 -6.27037843e+04  4.82227525e-04 -2.31185568e+02]\n",
      " [ 2.78674101e+03 -6.27731400e+04  4.76088752e-04 -2.31185568e+02]]\n",
      "[[ 0.00000000e+00  0.00000000e+00  6.25000000e+01  1.08253175e+02]\n",
      " [ 1.87500000e+01  3.24759526e+01  6.20698114e+01  1.04565067e+02]\n",
      " [ 3.73709434e+01  6.38454728e+01  6.16542051e+01  1.00921921e+02]\n",
      " ...\n",
      " [ 2.47933375e+03 -6.24778345e+04  4.41208332e-04 -2.31185568e+02]\n",
      " [ 2.47933388e+03 -6.25471902e+04  4.35591735e-04 -2.31185568e+02]\n",
      " [ 2.47933401e+03 -6.26165459e+04  4.30046638e-04 -2.31185568e+02]]\n",
      "[[ 0.00000000e+00  0.00000000e+00  5.28272827e+01  1.13288473e+02]\n",
      " [ 1.58481848e+01  3.39865420e+01  5.24636716e+01  1.09565707e+02]\n",
      " [ 3.15872863e+01  6.68562541e+01  5.21127358e+01  1.05889809e+02]\n",
      " ...\n",
      " [ 2.13770823e+03 -6.23418611e+04  3.85867729e-04 -2.31185568e+02]\n",
      " [ 2.13770834e+03 -6.24112167e+04  3.80955620e-04 -2.31185568e+02]\n",
      " [ 2.13770846e+03 -6.24805724e+04  3.76106042e-04 -2.31185568e+02]]\n",
      "[[ 0.00000000e+00  0.00000000e+00  4.27525179e+01  1.17461578e+02]\n",
      " [ 1.28257554e+01  3.52384733e+01  4.24582516e+01  1.13710088e+02]\n",
      " [ 2.55632309e+01  6.93514996e+01  4.21744781e+01  1.10007096e+02]\n",
      " ...\n",
      " [ 1.76301530e+03 -6.22282305e+04  3.22380812e-04 -2.31185568e+02]\n",
      " [ 1.76301540e+03 -6.22975862e+04  3.18276894e-04 -2.31185568e+02]\n",
      " [ 1.76301550e+03 -6.23669419e+04  3.14225218e-04 -2.31185568e+02]]\n",
      "[[ 0.00000000e+00  0.00000000e+00  3.23523806e+01  1.20740728e+02]\n",
      " [ 9.70571419e+00  3.62222185e+01  3.21296987e+01  1.16966668e+02]\n",
      " [ 1.93446238e+01  7.13122188e+01  3.19150967e+01  1.13242419e+02]\n",
      " ...\n",
      " [ 1.35736091e+03 -6.21384112e+04  2.51011567e-04 -2.31185568e+02]\n",
      " [ 1.35736099e+03 -6.22077669e+04  2.47816182e-04 -2.31185568e+02]\n",
      " [ 1.35736106e+03 -6.22771226e+04  2.44661473e-04 -2.31185568e+02]]\n",
      "[[ 0.00000000e+00  0.00000000e+00  2.17060222e+01  1.23100969e+02]\n",
      " [ 6.51180666e+00  3.69302907e+01  2.15566193e+01  1.19310663e+02]\n",
      " [ 1.29787924e+01  7.27234897e+01  2.14127050e+01  1.15571132e+02]\n",
      " ...\n",
      " [ 9.24211410e+02 -6.20735460e+04  1.72465215e-04 -2.31185568e+02]\n",
      " [ 9.24211461e+02 -6.21429017e+04  1.70269727e-04 -2.31185568e+02]\n",
      " [ 9.24211513e+02 -6.22122574e+04  1.68102187e-04 -2.31185568e+02]]\n",
      "[[ 0.00000000e+00  0.00000000e+00  1.08944678e+01  1.24524337e+02]\n",
      " [ 3.26834035e+00  3.73573012e+01  1.08194810e+01  1.20724234e+02]\n",
      " [ 6.51418466e+00  7.35745714e+01  1.07472695e+01  1.16975494e+02]\n",
      " ...\n",
      " [ 4.68976861e+02 -6.20343946e+04  8.80627532e-05 -2.31185568e+02]\n",
      " [ 4.68976888e+02 -6.21037503e+04  8.69417114e-05 -2.31185568e+02]\n",
      " [ 4.68976914e+02 -6.21731059e+04  8.58349405e-05 -2.31185568e+02]]\n"
     ]
    },
    {
     "data": {
      "text/plain": [
       "<matplotlib.legend.Legend at 0x7fcc6781dbe0>"
      ]
     },
     "execution_count": 22,
     "metadata": {},
     "output_type": "execute_result"
    },
    {
     "data": {
      "image/png": "[encoded data removed]",
      "text/plain": [
       "<Figure size 864x432 with 1 Axes>"
      ]
     },
     "metadata": {},
     "output_type": "display_data"
    }
   ],
   "source": [
    "n_steps = 1000\n",
    "thetas = numpy.arange(5, 90, 5) # the angles in degrees\n",
    "v0 = 125\n",
    "\n",
    "plt.figure(figsize=(12, 6))\n",
    "plt.title(\"Plot to show the range of a projectile for different values of the initial angle theta, given in degrees\")\n",
    "plt.xlabel(\"x position / m\")\n",
    "plt.ylabel(\"y position / m\")\n",
    "plt.xlim(0,1500)\n",
    "plt.ylim(0,800)\n",
    "\n",
    "for i in range(len(thetas)):\n",
    "    \n",
    "    initial = numpy.empty((len(thetas),4))\n",
    "    initial[i] = [0, 0, v0*numpy.cos(numpy.radians(thetas[i])), v0*numpy.sin(numpy.radians(thetas[i]))]\n",
    "    \n",
    "    values_euler = solve_euler(initial[i], 300, n_steps)\n",
    "    \n",
    "    xs_euler, ys_euler = values_euler[:,0], values_euler[:,1]\n",
    "    \n",
    "    # Graph - currently just \n",
    "    plt.plot(xs_euler, ys_euler, linestyle='--', label = thetas[i])\n",
    "\n",
    "\n",
    "plt.legend()\n"
   ]
  },
  {
   "cell_type": "markdown",
   "metadata": {
    "deletable": false,
    "editable": false,
    "nbgrader": {
     "cell_type": "markdown",
     "checksum": "e6bbab1380dc2317480c25eac3ba5e45",
     "grade": false,
     "grade_id": "cell-2e0af3c9d950aa50",
     "locked": true,
     "points": 5,
     "schema_version": 3,
     "solution": false,
     "task": true
    }
   },
   "source": [
    "Create a plot to show the range for different values of the initial velocity. Use the same angle $\\theta=60^\\circ$ for all velocities. The plot should have axis labels and a title and legend. Produce one curve with and one curve without the effect of air resistance. [5 marks]\n"
   ]
  },
  {
   "cell_type": "code",
   "execution_count": null,
   "metadata": {},
   "outputs": [],
   "source": [
    "n_steps = 1000\n",
    "max_time = 300\n",
    "v0s = numpy.linspace(50, 1000, 20)\n",
    "\n",
    "ranges = []\n",
    "ranges_noresistance = []\n",
    "theta = numpy.deg2rad(60)\n",
    "\n",
    "# Your code here\n"
   ]
  },
  {
   "cell_type": "code",
   "execution_count": null,
   "metadata": {},
   "outputs": [],
   "source": []
  },
  {
   "cell_type": "code",
   "execution_count": null,
   "metadata": {},
   "outputs": [],
   "source": []
  }
 ],
 "metadata": {
  "kernelspec": {
   "display_name": "Python 3",
   "language": "python",
   "name": "python3"
  },
  "language_info": {
   "codemirror_mode": {
    "name": "ipython",
    "version": 3
   },
   "file_extension": ".py",
   "mimetype": "text/x-python",
   "name": "python",
   "nbconvert_exporter": "python",
   "pygments_lexer": "ipython3",
   "version": "3.6.3"
  },
  "toc": {
   "base_numbering": 1,
   "nav_menu": {},
   "number_sections": false,
   "sideBar": true,
   "skip_h1_title": false,
   "title_cell": "Table of Contents",
   "title_sidebar": "Contents",
   "toc_cell": false,
   "toc_position": {},
   "toc_section_display": true,
   "toc_window_display": false
  }
 },
 "nbformat": 4,
 "nbformat_minor": 2
}
