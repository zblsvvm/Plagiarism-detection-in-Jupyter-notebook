{
 "cells": [
  {
   "cell_type": "markdown",
   "metadata": {
    "deletable": false,
    "editable": false,
    "nbgrader": {
     "cell_type": "markdown",
     "checksum": "34d7561c82d7aef9d3148c2d90e3512e",
     "grade": false,
     "grade_id": "cell-0867630144920503",
     "locked": true,
     "schema_version": 3,
     "solution": false
    }
   },
   "source": [
    "# <center>L2 Computational Physics</center>\n",
    "---\n",
    "## Week 4: Differential Equations II"
   ]
  },
  {
   "cell_type": "markdown",
   "metadata": {
    "deletable": false,
    "editable": false,
    "nbgrader": {
     "cell_type": "markdown",
     "checksum": "933b1cc5803c2d147453cf0b6866b029",
     "grade": false,
     "grade_id": "introduction",
     "locked": true,
     "schema_version": 3,
     "solution": false
    }
   },
   "source": [
    "In this notebook, you will write a program to study the trajectory of a spherical, iron cannonball in the presence of gravity and drag forces. "
   ]
  },
  {
   "cell_type": "code",
   "execution_count": 1,
   "metadata": {
    "deletable": false,
    "editable": false,
    "nbgrader": {
     "cell_type": "code",
     "checksum": "7b07378542646e2d1c99e9b8a3e8dd16",
     "grade": false,
     "grade_id": "imports",
     "locked": true,
     "schema_version": 3,
     "solution": false
    }
   },
   "outputs": [],
   "source": [
    "import numpy\n",
    "from matplotlib import pyplot as plt"
   ]
  },
  {
   "cell_type": "code",
   "execution_count": 2,
   "metadata": {
    "deletable": false,
    "editable": false,
    "nbgrader": {
     "cell_type": "code",
     "checksum": "8886ed938c68fdbe0bd4d3784af074eb",
     "grade": false,
     "grade_id": "cell-9efceaad412b0b16",
     "locked": true,
     "schema_version": 3,
     "solution": false
    }
   },
   "outputs": [],
   "source": [
    "# Define all constants to be used in the simulation\n",
    "r_cb = 0.15  # Radius of cannonball in m\n",
    "rho_iron = 7874  # Density of iron in kg/m^3\n",
    "g = 9.81  # Acceleration due to gravity in m/s^2\n",
    "kappa = 0.47  # Drag coefficient of a sphere\n",
    "rho_air = 1.23  # Density of air in kg/m^3\n",
    "v0 = 125.00  # Initial speed in m/s"
   ]
  },
  {
   "cell_type": "markdown",
   "metadata": {
    "deletable": false,
    "editable": false,
    "nbgrader": {
     "cell_type": "markdown",
     "checksum": "e1d5ce84de473c6fb55555128809a945",
     "grade": false,
     "grade_id": "cell-e2eb11ca2dec5c24",
     "locked": true,
     "schema_version": 3,
     "solution": false
    }
   },
   "source": [
    "From this information, calculate the following two variables:"
   ]
  },
  {
   "cell_type": "code",
   "execution_count": 3,
   "metadata": {
    "deletable": false,
    "nbgrader": {
     "cell_type": "code",
     "checksum": "6743b817e3d018ac884f6e6adbdf1449",
     "grade": false,
     "grade_id": "constants",
     "locked": false,
     "schema_version": 3,
     "solution": true
    }
   },
   "outputs": [],
   "source": [
    "def get_area(r):\n",
    "    ''' \n",
    "    This function returns the cross section area of a sphere of radius r. The returned \n",
    "    value is in the squared units of the unit of the radius argument.\n",
    "    '''\n",
    "    return numpy.pi*r**2\n",
    "\n",
    "def get_mass(r):\n",
    "    ''' \n",
    "    This function returns the mass of an iron sphere of radius r. The radius \n",
    "    should be given in meter and the return value is in kg.\n",
    "    '''\n",
    "    return (4.0/3)*numpy.pi*r**3*rho_iron\n",
    "\n",
    "area_cb = get_area(r_cb)\n",
    "mass_cb = get_mass(r_cb)"
   ]
  },
  {
   "cell_type": "code",
   "execution_count": 4,
   "metadata": {
    "deletable": false,
    "editable": false,
    "nbgrader": {
     "cell_type": "code",
     "checksum": "2abfe72353c488ee9e0d278ba43df272",
     "grade": true,
     "grade_id": "constants_test",
     "locked": true,
     "points": 1,
     "schema_version": 3,
     "solution": false
    }
   },
   "outputs": [],
   "source": [
    "# these tests are worth one mark\n",
    "assert numpy.isclose(area_cb, 0.07068583470577035)\n",
    "assert numpy.isclose(mass_cb, 111.31605249464711)"
   ]
  },
  {
   "cell_type": "markdown",
   "metadata": {
    "deletable": false,
    "editable": false,
    "nbgrader": {
     "cell_type": "markdown",
     "checksum": "fc4b6b3567ab78be72941f8014bea2d5",
     "grade": false,
     "grade_id": "cell-f602e0ba8a9540e0",
     "locked": true,
     "schema_version": 3,
     "solution": false
    }
   },
   "source": [
    "## The Differential Equations"
   ]
  },
  {
   "cell_type": "markdown",
   "metadata": {
    "deletable": false,
    "editable": false,
    "nbgrader": {
     "cell_type": "markdown",
     "checksum": "3c264fa3be9258ab680faf902a6a6ab9",
     "grade": false,
     "grade_id": "DE_introduction",
     "locked": true,
     "schema_version": 3,
     "solution": false
    }
   },
   "source": [
    "Create a function `f` which calculates the right-hand side of the differential equation\n",
    "\n",
    "$$ \\frac{d}{dt}\\left(\\begin{array}{c}x\\\\y\\\\v_x \\\\v_y \\end{array}\\right) = f(x, y, v_x, v_y, t)$$\n",
    "\n",
    "such that the differential equation represents the cannonball's motion as it moves through the air. \n",
    "\n",
    "- *Your function should accept two arguments:*\n",
    "    - `r` *- a numpy array representing the cannonball's state, $(x, y, v_{x}, v_{y})$.*\n",
    "    - `t` *- Time * \n",
    "    \n",
    "- *The drag force experienced by the cannonball is given by $$\\vec{F}_{\\textrm{d}} = - \\frac{1}{2} C_{\\textrm{d}} \\rho |\\vec{v}|^{2} A \\widehat{v}~,$$ where $\\widehat{v}$ is a unit vector pointing in the direction of the cannonball's instantaneous velocity.*"
   ]
  },
  {
   "cell_type": "code",
   "execution_count": 12,
   "metadata": {
    "deletable": false,
    "nbgrader": {
     "cell_type": "code",
     "checksum": "57dc87a54ab0b805470604fecee06989",
     "grade": false,
     "grade_id": "DE_function",
     "locked": false,
     "schema_version": 3,
     "solution": true,
     "task": false
    }
   },
   "outputs": [],
   "source": [
    "def f(r, t):\n",
    "    '''Implements differential equation for cannonball from state vector r and time t'''\n",
    "    \n",
    "    # Unpack array of the state\n",
    "    x, y, vx, vy = r\n",
    "    \n",
    "    # these variables should updated in your code to be the derivatives of \n",
    "    # the x, y positions and the derivative of the x, y velocities. \n",
    "    dx_dt, dy_dt, dvx_dt, dvy_dt = 0, 0, 0, 0\n",
    "    \n",
    "    v2 = vx**2 + vy**2\n",
    "    a = numpy.arctan(vy/vx) #theta\n",
    "    b = 0.78539816339\n",
    "    \n",
    "    dvx_dt = -(kappa * rho_air * v2 * area_cb * numpy.cos(a))/(2*mass_cb)\n",
    "    dvy_dt = -g - (kappa * rho_air * v2 * area_cb * numpy.sin(a))/(2*mass_cb)\n",
    "    dx_dt = v0*numpy.cos(b) + dvx_dt*t\n",
    "    dy_dt = v0*numpy.sin(b) + dvy_dt*t\n",
    "    \n",
    "    return numpy.array([dx_dt, dy_dt, dvx_dt, dvy_dt])\n",
    "    "
   ]
  },
  {
   "cell_type": "markdown",
   "metadata": {
    "deletable": false,
    "editable": false,
    "nbgrader": {
     "cell_type": "markdown",
     "checksum": "dcdf5518a78001d997294227da87f4d5",
     "grade": false,
     "grade_id": "cell-7aba52f3fc040f80",
     "locked": true,
     "schema_version": 3,
     "solution": false
    }
   },
   "source": [
    "Check your result:"
   ]
  },
  {
   "cell_type": "code",
   "execution_count": 13,
   "metadata": {
    "deletable": false,
    "editable": false,
    "nbgrader": {
     "cell_type": "code",
     "checksum": "fe2d24e66c044c53f63a64911210d448",
     "grade": true,
     "grade_id": "cell-21f74cca0b55f17f",
     "locked": true,
     "points": 1,
     "schema_version": 3,
     "solution": false,
     "task": false
    }
   },
   "outputs": [],
   "source": [
    "r_test = [0, 0, 88.38834764831843, 88.38834764831843]\n",
    "assert len(f(r_test, 0))== 4"
   ]
  },
  {
   "cell_type": "code",
   "execution_count": 14,
   "metadata": {
    "deletable": false,
    "editable": false,
    "nbgrader": {
     "cell_type": "code",
     "checksum": "af6b172c9d591b1f4df50f5d3261f7d4",
     "grade": true,
     "grade_id": "DE_test",
     "locked": true,
     "points": 3,
     "schema_version": 3,
     "solution": false
    }
   },
   "outputs": [],
   "source": [
    "r_test = [0, 0, 88.38834764831843, 88.38834764831843]\n",
    "assert numpy.isclose(f(r_test, 0), [ 88.38834765,  88.38834765,  -2.0279283 , -11.8379283 ]).all()"
   ]
  },
  {
   "cell_type": "markdown",
   "metadata": {
    "deletable": false,
    "editable": false,
    "nbgrader": {
     "cell_type": "markdown",
     "checksum": "36a8936dae8f878c4881f2b45498fba0",
     "grade": false,
     "grade_id": "cell-d1367b0c3c82b52a",
     "locked": true,
     "schema_version": 3,
     "solution": false
    }
   },
   "source": [
    "## Solving the Differential Equations"
   ]
  },
  {
   "cell_type": "markdown",
   "metadata": {
    "deletable": false,
    "editable": false,
    "nbgrader": {
     "cell_type": "markdown",
     "checksum": "5d0e7d43f41138030b3f88a8954d6ce6",
     "grade": false,
     "grade_id": "euler_introduction",
     "locked": true,
     "schema_version": 3,
     "solution": false
    }
   },
   "source": [
    "Create the function `solve_euler(state_initial, t1, n_panels)` which solves the differential equations using Euler's method.\n",
    "\n",
    "- `state_initial` *is a numpy array containing the initial conditions $(x_{0}, y_{0}, v_{x0}, v_{y0})$*\n",
    "- *When working with a numpy array, you can use the same commands as those used for single variables - for instance,* `state += f(state, t)`.\n",
    "- *This function should record all state values at each timepoint in the variable `history` and return it. This will be similar to last week, only this time you will have to populate a 2D array.* \n"
   ]
  },
  {
   "cell_type": "code",
   "execution_count": 15,
   "metadata": {
    "deletable": false,
    "nbgrader": {
     "cell_type": "code",
     "checksum": "afe77ec167dbd4b35080f55e28ec7bb4",
     "grade": false,
     "grade_id": "euler_function",
     "locked": false,
     "schema_version": 3,
     "solution": true
    }
   },
   "outputs": [
    {
     "data": {
      "text/plain": [
       "array([[   0.        ,    0.        ,   88.38834765,   88.38834765],\n",
       "       [ 220.97086912,  220.97086912,   83.3185269 ,   58.7935269 ],\n",
       "       [ 432.19503445,  373.75149912,   79.41984538,   31.51743125],\n",
       "       [ 637.59644044,  465.91869235,   76.30595276,    5.75669607],\n",
       "       [ 838.4718438 ,  501.43601344,   73.62655732,  -18.97044366],\n",
       "       [1033.75567204,  483.77534443,   71.05785323,  -42.83359748],\n",
       "       [1220.91008676,  418.56823588,   68.35253688,  -65.72783569],\n",
       "       [1397.26739595,  314.56452787,   65.37829955,  -87.3928075 ],\n",
       "       [1560.93908662,  182.94114134,   62.10406078, -107.54105068],\n",
       "       [1711.13040428,   35.97577255,   58.56508321, -125.93786257],\n",
       "       [1848.12098068, -114.27534288,   54.83262575, -142.43661744]])"
      ]
     },
     "execution_count": 15,
     "metadata": {},
     "output_type": "execute_result"
    }
   ],
   "source": [
    "def solve_euler(state_initial, t1, n_steps):\n",
    "    '''Solves ODE using Euler's method from state_initial to end time t1 using n_panels panels'''\n",
    "    # Define array for trajectory history\n",
    "    history = numpy.empty((n_steps+1,4))  # Number of columns is equal to number of variables to solve for (4)\n",
    "    history[0] = state_initial\n",
    "    h = state_initial\n",
    "    dt = t1/n_steps\n",
    "    t = 0\n",
    "    # you should now populate the history array\n",
    "    for i in range(int(n_steps)):\n",
    "        h += dt*f(h,t)\n",
    "        t += dt\n",
    "        history[i+1] = h\n",
    "    return history\n",
    "r_test = [0, 0, 88.38834764831843, 88.38834764831843]\n",
    "solve_euler(r_test, 25.0, 10)"
   ]
  },
  {
   "cell_type": "markdown",
   "metadata": {
    "deletable": false,
    "editable": false,
    "nbgrader": {
     "cell_type": "markdown",
     "checksum": "2471d6453084656d6a70689a4f7a0777",
     "grade": false,
     "grade_id": "cell-85bc67cd138e0554",
     "locked": true,
     "schema_version": 3,
     "solution": false
    }
   },
   "source": [
    "Test your solution:"
   ]
  },
  {
   "cell_type": "code",
   "execution_count": 16,
   "metadata": {
    "deletable": false,
    "editable": false,
    "nbgrader": {
     "cell_type": "code",
     "checksum": "258054f67106dab37651404d0e948e2d",
     "grade": true,
     "grade_id": "euler_test",
     "locked": true,
     "points": 4,
     "schema_version": 3,
     "solution": false
    }
   },
   "outputs": [
    {
     "ename": "AssertionError",
     "evalue": "",
     "output_type": "error",
     "traceback": [
      "\u001b[0;31m---------------------------------------------------------------------------\u001b[0m",
      "\u001b[0;31mAssertionError\u001b[0m                            Traceback (most recent call last)",
      "\u001b[0;32m<ipython-input-16-2ef97aae28d7>\u001b[0m in \u001b[0;36m<module>\u001b[0;34m()\u001b[0m\n\u001b[1;32m     12\u001b[0m      \u001b[0;34m[\u001b[0m\u001b[0;36m1514.61979917\u001b[0m\u001b[0;34m,\u001b[0m  \u001b[0;34m-\u001b[0m\u001b[0;36m76.17170612\u001b[0m\u001b[0;34m,\u001b[0m   \u001b[0;36m62.10406078\u001b[0m\u001b[0;34m,\u001b[0m \u001b[0;34m-\u001b[0m\u001b[0;36m107.54105068\u001b[0m\u001b[0;34m]\u001b[0m\u001b[0;34m,\u001b[0m\u001b[0;34m\u001b[0m\u001b[0m\n\u001b[1;32m     13\u001b[0m      \u001b[0;34m[\u001b[0m\u001b[0;36m1669.87995113\u001b[0m\u001b[0;34m,\u001b[0m \u001b[0;34m-\u001b[0m\u001b[0;36m345.02433282\u001b[0m\u001b[0;34m,\u001b[0m   \u001b[0;36m58.56508321\u001b[0m\u001b[0;34m,\u001b[0m \u001b[0;34m-\u001b[0m\u001b[0;36m125.93786257\u001b[0m\u001b[0;34m]\u001b[0m\u001b[0;34m,\u001b[0m\u001b[0;34m\u001b[0m\u001b[0m\n\u001b[0;32m---> 14\u001b[0;31m      [1816.29265915, -659.86898925,   54.83262575, -142.43661744]])).all()\n\u001b[0m",
      "\u001b[0;31mAssertionError\u001b[0m: "
     ]
    }
   ],
   "source": [
    "# this test is worth 4 marks\n",
    "r_test = [0, 0, 88.38834764831843, 88.38834764831843]\n",
    "assert numpy.isclose(solve_euler(r_test, 25.0, 10), numpy.array(\n",
    "    [[   0.        ,    0.        ,   88.38834765,   88.38834765],\n",
    "     [ 220.97086912,  220.97086912,   83.3185269 ,   58.7935269 ],\n",
    "     [ 429.26718637,  367.95468637,   79.41984538,   31.51743125],\n",
    "     [ 627.81679983,  446.7482645 ,   76.30595276,    5.75669607],\n",
    "     [ 818.58168171,  461.14000469,   73.62655732,  -18.97044366],\n",
    "     [1002.64807501,  413.71389553,   71.05785323,  -42.83359748],\n",
    "     [1180.2927081 ,  306.62990184,   68.35253688,  -65.72783569],\n",
    "     [1351.1740503 ,  142.31031262,   65.37829955,  -87.3928075 ],\n",
    "     [1514.61979917,  -76.17170612,   62.10406078, -107.54105068],\n",
    "     [1669.87995113, -345.02433282,   58.56508321, -125.93786257],\n",
    "     [1816.29265915, -659.86898925,   54.83262575, -142.43661744]])).all()"
   ]
  },
  {
   "cell_type": "markdown",
   "metadata": {
    "deletable": false,
    "editable": false,
    "nbgrader": {
     "cell_type": "markdown",
     "checksum": "8b82e1da6abd6394254a8832a6f80a16",
     "grade": false,
     "grade_id": "cell-a4dde4ee63c0a103",
     "locked": true,
     "schema_version": 3,
     "solution": false,
     "task": false
    }
   },
   "source": [
    "## Finding the range\n",
    "\n",
    "To find the range of the projectile we will look for the $x$ coordinate when the trajectory crosses the $y=0$ line. In most cases that point will not be one of the steps but will be between two steps. We will use a linear approximation to determine this point given the last point with a positive $y$ value and the first point with a negative $y$ value. Implement the function `find_zero_linear` that takes as argument the two values of $x$ `x1` and `x2` and the heights `y1` and `y2` and returns the value of $x$ at which the line between $(x_1,y_1)$ and $x_2,y_2$ crosses the $y=0$ line.  "
   ]
  },
  {
   "cell_type": "code",
   "execution_count": 17,
   "metadata": {
    "deletable": false,
    "nbgrader": {
     "cell_type": "code",
     "checksum": "5ac4f3396618b95116cb990a2130919c",
     "grade": false,
     "grade_id": "cell-e042c84d480733a4",
     "locked": false,
     "schema_version": 3,
     "solution": true,
     "task": false
    }
   },
   "outputs": [],
   "source": [
    "def find_zero_linear(x1, x2, y1, y2):\n",
    "    if y1*y2 > 0:\n",
    "        print(\"I expect y1 and y2 to have opposite signs!\")\n",
    "    # YOUR CODE HERE\n",
    "    m = (y2-y1)/(x2-x1)\n",
    "    c = y1 - m*x1\n",
    "    return -c/m"
   ]
  },
  {
   "cell_type": "code",
   "execution_count": 18,
   "metadata": {
    "deletable": false,
    "editable": false,
    "nbgrader": {
     "cell_type": "code",
     "checksum": "495e64d3e07b6121f90c7955bdd08374",
     "grade": true,
     "grade_id": "cell-53982c10e992f643",
     "locked": true,
     "points": 2,
     "schema_version": 3,
     "solution": false,
     "task": false
    }
   },
   "outputs": [],
   "source": [
    "# these tests are worth 2 marks\n",
    "assert numpy.isclose(find_zero_linear(-1,1,3,-3),0.0)\n",
    "assert numpy.isclose(find_zero_linear(-1,1,1,-3), -0.5)"
   ]
  },
  {
   "cell_type": "markdown",
   "metadata": {
    "deletable": false,
    "editable": false,
    "nbgrader": {
     "cell_type": "markdown",
     "checksum": "ea5e661226fd6bf4bb0f5125178b010d",
     "grade": false,
     "grade_id": "cell-d48dcdc6ebf4efe8",
     "locked": true,
     "schema_version": 3,
     "solution": false,
     "task": false
    }
   },
   "source": [
    "Given the function above we can define a function to determine the range. (Don't modify it!)"
   ]
  },
  {
   "cell_type": "code",
   "execution_count": 19,
   "metadata": {},
   "outputs": [],
   "source": [
    "def find_range(history):\n",
    "    all_xs = history[:,0]\n",
    "    all_ys = history[:,1]\n",
    "    negatives = numpy.argwhere(all_ys<0)\n",
    "    if len(negatives) == 0 :\n",
    "        print (\"The projectile did not touch down! Returning the last known location\")\n",
    "        return all_xs[-1]\n",
    "    (index,) = negatives[0]\n",
    "    y1, y2 = all_ys[index-1], all_ys[index]\n",
    "    x1, x2 = all_xs[index -1], all_xs[index]\n",
    "    return find_zero_linear(x1,x2,y1,y2)"
   ]
  },
  {
   "cell_type": "code",
   "execution_count": 20,
   "metadata": {},
   "outputs": [
    {
     "ename": "AssertionError",
     "evalue": "",
     "output_type": "error",
     "traceback": [
      "\u001b[0;31m---------------------------------------------------------------------------\u001b[0m",
      "\u001b[0;31mAssertionError\u001b[0m                            Traceback (most recent call last)",
      "\u001b[0;32m<ipython-input-20-a7a889f711bb>\u001b[0m in \u001b[0;36m<module>\u001b[0;34m()\u001b[0m\n\u001b[1;32m      1\u001b[0m \u001b[0mr_test\u001b[0m \u001b[0;34m=\u001b[0m \u001b[0;34m[\u001b[0m\u001b[0;36m0\u001b[0m\u001b[0;34m,\u001b[0m \u001b[0;36m0\u001b[0m\u001b[0;34m,\u001b[0m \u001b[0;36m88.38834764831843\u001b[0m\u001b[0;34m,\u001b[0m \u001b[0;36m88.38834764831843\u001b[0m\u001b[0;34m]\u001b[0m\u001b[0;34m\u001b[0m\u001b[0m\n\u001b[1;32m      2\u001b[0m \u001b[0mh\u001b[0m \u001b[0;34m=\u001b[0m \u001b[0msolve_euler\u001b[0m\u001b[0;34m(\u001b[0m\u001b[0mr_test\u001b[0m\u001b[0;34m,\u001b[0m \u001b[0;36m25.0\u001b[0m\u001b[0;34m,\u001b[0m \u001b[0;36m10000\u001b[0m\u001b[0;34m)\u001b[0m\u001b[0;34m\u001b[0m\u001b[0m\n\u001b[0;32m----> 3\u001b[0;31m \u001b[0;32massert\u001b[0m \u001b[0mnumpy\u001b[0m\u001b[0;34m.\u001b[0m\u001b[0misclose\u001b[0m\u001b[0;34m(\u001b[0m\u001b[0mfind_range\u001b[0m\u001b[0;34m(\u001b[0m\u001b[0mh\u001b[0m\u001b[0;34m)\u001b[0m\u001b[0;34m,\u001b[0m\u001b[0;36m1306.2541\u001b[0m\u001b[0;34m)\u001b[0m\u001b[0;34m\u001b[0m\u001b[0m\n\u001b[0m",
      "\u001b[0;31mAssertionError\u001b[0m: "
     ]
    }
   ],
   "source": [
    "r_test = [0, 0, 88.38834764831843, 88.38834764831843]\n",
    "h = solve_euler(r_test, 25.0, 10000)\n",
    "assert numpy.isclose(find_range(h),1306.2541)"
   ]
  },
  {
   "cell_type": "markdown",
   "metadata": {},
   "source": [
    "## Plotting task"
   ]
  },
  {
   "cell_type": "markdown",
   "metadata": {
    "deletable": false,
    "editable": false,
    "nbgrader": {
     "cell_type": "markdown",
     "checksum": "6b83f51417fbae4bfc16f7629ca14d37",
     "grade": false,
     "grade_id": "odeint_introduction",
     "locked": true,
     "points": 4,
     "schema_version": 3,
     "solution": false,
     "task": true
    }
   },
   "source": [
    "Create a plot to show the trajectories for different values of the initial angle. Use the same velocity $v0=125\\rm{m/s}$ for all angles. The plot should have axis labels and a title. [4 marks]\n"
   ]
  },
  {
   "cell_type": "code",
   "execution_count": 31,
   "metadata": {},
   "outputs": [
    {
     "name": "stdout",
     "output_type": "stream",
     "text": [
      "[[ 0.00000000e+00  0.00000000e+00  9.96194698e+02  8.71557427e+01]\n",
      " [ 2.12132034e+02  2.12132034e+02  9.41340099e+02  7.94135872e+01]\n",
      " [ 4.09574023e+02  4.22141883e+02  8.92373279e+02  7.23396351e+01]\n",
      " ...\n",
      " [ 1.98436235e+05  2.05342919e+05  1.59533943e-03 -2.31185568e+02]\n",
      " [ 1.98648361e+05  2.05555051e+05  1.57503070e-03 -2.31185568e+02]\n",
      " [ 1.98860487e+05  2.05767183e+05  1.55498051e-03 -2.31185568e+02]]\n",
      "[[ 0.00000000e+00  0.00000000e+00  9.84807753e+02  1.73648178e+02]\n",
      " [ 2.12132034e+02  2.12132034e+02  9.30580166e+02  1.61143391e+02]\n",
      " [ 4.09745851e+02  4.20867130e+02  8.82186107e+02  1.49820261e+02]\n",
      " ...\n",
      " [ 1.98379910e+05  2.04332793e+05  1.65675327e-03 -2.31185568e+02]\n",
      " [ 1.98592036e+05  2.04544925e+05  1.63566274e-03 -2.31185568e+02]\n",
      " [ 1.98804162e+05  2.04757057e+05  1.61484070e-03 -2.31185568e+02]]\n",
      "[[ 0.00000000e+00  0.00000000e+00  9.65925826e+02  2.58819045e+02]\n",
      " [ 2.12132034e+02  2.12132034e+02  9.12737956e+02  2.41624398e+02]\n",
      " [ 4.10027994e+02  4.19612526e+02  8.65284373e+02  2.26119257e+02]\n",
      " ...\n",
      " [ 1.98414632e+05  2.03317157e+05  1.71224002e-03 -2.31185568e+02]\n",
      " [ 1.98626758e+05  2.03529289e+05  1.69044315e-03 -2.31185568e+02]\n",
      " [ 1.98838883e+05  2.03741421e+05  1.66892375e-03 -2.31185568e+02]]\n",
      "[[ 0.00000000e+00  0.00000000e+00  9.39692621e+02  3.42020143e+02]\n",
      " [ 2.12132034e+02  2.12132034e+02  8.87949259e+02  3.20244100e+02]\n",
      " [ 4.10418221e+02  4.18387583e+02  8.41796433e+02  3.00655813e+02]\n",
      " ...\n",
      " [ 1.98543317e+05  2.02302822e+05  1.76062069e-03 -2.31185568e+02]\n",
      " [ 1.98755442e+05  2.02514954e+05  1.73820793e-03 -2.31185568e+02]\n",
      " [ 1.98967568e+05  2.02727086e+05  1.71608049e-03 -2.31185568e+02]]\n",
      "[[ 0.00000000e+00  0.00000000e+00  9.06307787e+02  4.22618262e+02]\n",
      " [ 2.12132034e+02  2.12132034e+02  8.56402733e+02  3.96404153e+02]\n",
      " [ 4.10913487e+02  4.17201569e+02  8.11900795e+02  3.72862488e+02]\n",
      " ...\n",
      " [ 1.98768766e+05  2.01296949e+05  1.80046150e-03 -2.31185568e+02]\n",
      " [ 1.98980891e+05  2.01509081e+05  1.77754157e-03 -2.31185568e+02]\n",
      " [ 1.99193016e+05  2.01721213e+05  1.75491340e-03 -2.31185568e+02]]\n",
      "[[ 0.00000000e+00  0.00000000e+00  8.66025404e+02  5.00000000e+02]\n",
      " [ 2.12132034e+02  2.12132034e+02  8.18338464e+02  4.69524932e+02]\n",
      " [ 4.11509960e+02  4.16063448e+02  7.75824767e+02  4.42189531e+02]\n",
      " ...\n",
      " [ 1.99093702e+05  2.00307066e+05  1.83001325e-03 -2.31185568e+02]\n",
      " [ 1.99305827e+05  2.00519198e+05  1.80671712e-03 -2.31185568e+02]\n",
      " [ 1.99517952e+05  2.00731330e+05  1.78371755e-03 -2.31185568e+02]]\n",
      "[[ 0.00000000e+00  0.00000000e+00  8.19152044e+02  5.73576436e+02]\n",
      " [ 2.12132034e+02  2.12132034e+02  7.74046145e+02  5.39049946e+02]\n",
      " [ 4.12203045e+02  4.14981806e+02  7.33842734e+02  5.08109071e+02]\n",
      " ...\n",
      " [ 1.99520815e+05  1.99341097e+05  1.84713579e-03 -2.31185568e+02]\n",
      " [ 1.99732940e+05  1.99553229e+05  1.82362169e-03 -2.31185568e+02]\n",
      " [ 1.99945065e+05  1.99765361e+05  1.80040693e-03 -2.31185568e+02]]\n",
      "[[ 0.00000000e+00  0.00000000e+00  7.66044443e+02  6.42787610e+02]\n",
      " [ 2.12132034e+02  2.12132034e+02  7.23862868e+02  6.04450066e+02]\n",
      " [ 4.12987431e+02  4.13964793e+02  6.86274075e+02  5.70119148e+02]\n",
      " ...\n",
      " [ 2.00052821e+05  1.98407401e+05  1.84920518e-03 -2.31185568e+02]\n",
      " [ 2.00264946e+05  1.98619533e+05  1.82566473e-03 -2.31185568e+02]\n",
      " [ 2.00477071e+05  1.98831665e+05  1.80242396e-03 -2.31185568e+02]]\n",
      "[[ 0.00000000e+00  0.00000000e+00  7.07106781e+02  7.07106781e+02]\n",
      " [ 2.12132034e+02  2.12132034e+02  6.68170558e+02  6.65227558e+02]\n",
      " [ 4.13857123e+02  4.13020061e+02  6.33480737e+02  6.27747531e+02]\n",
      " ...\n",
      " [ 2.00692526e+05  1.97514807e+05  1.83300168e-03 -2.31185568e+02]\n",
      " [ 2.00904651e+05  1.97726939e+05  1.80966751e-03 -2.31185568e+02]\n",
      " [ 2.01116776e+05  1.97939071e+05  1.78663038e-03 -2.31185568e+02]]\n",
      "[[ 0.00000000e+00  0.00000000e+00  6.42787610e+02  7.66044443e+02]\n",
      " [ 2.12132034e+02  2.12132034e+02  6.07393066e+02  7.20919868e+02]\n",
      " [ 4.14805494e+02  4.12154707e+02  5.75864482e+02  6.80555331e+02]\n",
      " ...\n",
      " [ 2.01442898e+05  1.96672663e+05  1.79458036e-03 -2.31185568e+02]\n",
      " [ 2.01655023e+05  1.96884795e+05  1.77173529e-03 -2.31185568e+02]\n",
      " [ 2.01867149e+05  1.97096927e+05  1.74918104e-03 -2.31185568e+02]]\n",
      "[[ 0.00000000e+00  0.00000000e+00  5.73576436e+02  8.19152044e+02]\n",
      " [ 2.12132034e+02  2.12132034e+02  5.41992946e+02  7.71103145e+02]\n",
      " [ 4.15825334e+02  4.11375229e+02  5.13863830e+02  7.28140345e+02]\n",
      " ...\n",
      " [ 2.02307132e+05  1.95890876e+05  1.72913358e-03 -2.31185568e+02]\n",
      " [ 2.02519257e+05  1.96103008e+05  1.70712165e-03 -2.31185568e+02]\n",
      " [ 2.02731383e+05  1.96315140e+05  1.68538994e-03 -2.31185568e+02]]\n",
      "[[ 0.00000000e+00  0.00000000e+00  5.00000000e+02  8.66025404e+02]\n",
      " [ 2.12132034e+02  2.12132034e+02  4.72467932e+02  8.15395464e+02]\n",
      " [ 4.16908906e+02  4.10687468e+02  4.47950723e+02  7.70140128e+02]\n",
      " ...\n",
      " [ 2.03288661e+05  1.95179926e+05  1.63087329e-03 -2.31185568e+02]\n",
      " [ 2.03500787e+05  1.95392058e+05  1.61011222e-03 -2.31185568e+02]\n",
      " [ 2.03712913e+05  1.95604190e+05  1.58961543e-03 -2.31185568e+02]]\n",
      "[[ 0.00000000e+00  0.00000000e+00  4.22618262e+02  9.06307787e+02]\n",
      " [ 2.12132034e+02  2.12132034e+02  3.99347153e+02  8.53459733e+02]\n",
      " [ 4.18048001e+02  4.10096577e+02  3.78626926e+02  8.06234760e+02]\n",
      " ...\n",
      " [ 2.04391059e+05  1.94550830e+05  1.49300042e-03 -2.31185568e+02]\n",
      " [ 2.04603185e+05  1.94762962e+05  1.47399448e-03 -2.31185568e+02]\n",
      " [ 2.04815312e+05  1.94975094e+05  1.45523048e-03 -2.31185568e+02]]\n",
      "[[ 0.00000000e+00  0.00000000e+00  3.42020143e+02  9.39692621e+02]\n",
      " [ 2.12132034e+02  2.12132034e+02  3.23187100e+02  8.85006259e+02]\n",
      " [ 4.19234002e+02  4.09606978e+02  3.06420210e+02  8.36149289e+02]\n",
      " ...\n",
      " [ 2.05617628e+05  1.94014972e+05  1.30791162e-03 -2.31185568e+02]\n",
      " [ 2.05829756e+05  1.94227104e+05  1.29126186e-03 -2.31185568e+02]\n",
      " [ 2.06041883e+05  1.94439236e+05  1.27482405e-03 -2.31185568e+02]]\n",
      "[[ 0.00000000e+00  0.00000000e+00  2.58819045e+02  9.65925826e+02]\n",
      " [ 2.12132034e+02  2.12132034e+02  2.44567398e+02  9.09794956e+02]\n",
      " [ 4.20457947e+02  4.09222332e+02  2.31880327e+02  8.59655832e+02]\n",
      " ...\n",
      " [ 2.06970335e+05  1.93583705e+05  1.06795745e-03 -2.31185568e+02]\n",
      " [ 2.07182463e+05  1.93795837e+05  1.05436231e-03 -2.31185568e+02]\n",
      " [ 2.07394591e+05  1.94007969e+05  1.04094025e-03 -2.31185568e+02]]\n",
      "[[ 0.00000000e+00  0.00000000e+00  1.73648178e+02  9.84807753e+02]\n",
      " [ 2.12132034e+02  2.12132034e+02  1.64086391e+02  9.27637166e+02]\n",
      " [ 4.21710598e+02  4.08945513e+02  1.55574821e+02  8.76575314e+02]\n",
      " ...\n",
      " [ 2.08447296e+05  1.93267551e+05  7.67367789e-04 -2.31185568e+02]\n",
      " [ 2.08659425e+05  1.93479683e+05  7.57599171e-04 -2.31185568e+02]\n",
      " [ 2.08871554e+05  1.93691815e+05  7.47954908e-04 -2.31185568e+02]]\n",
      "[[ 0.00000000e+00  0.00000000e+00  8.71557427e+01  9.96194698e+02]\n",
      " [ 2.12132034e+02  2.12132034e+02  8.23565872e+01  9.38397099e+02]\n",
      " [ 4.22982502e+02  4.08778591e+02  7.80846982e+01  8.86778840e+02]\n",
      " ...\n",
      " [ 2.10037283e+05  1.93074880e+05  4.06446676e-04 -2.31185568e+02]\n",
      " [ 2.10249413e+05  1.93287012e+05  4.01272596e-04 -2.31185568e+02]\n",
      " [ 2.10461544e+05  1.93499144e+05  3.96164382e-04 -2.31185568e+02]]\n"
     ]
    },
    {
     "data": {
      "image/png": "[encoded data removed]",
      "text/plain": [
       "<Figure size 432x288 with 1 Axes>"
      ]
     },
     "metadata": {},
     "output_type": "display_data"
    }
   ],
   "source": [
    "n_steps = 1000\n",
    "thetas = range(5, 90, 5) # the angles in degrees\n",
    "\n",
    "for theta in thetas:\n",
    "    vx0 = v0*numpy.cos(numpy.deg2rad(theta))\n",
    "    vy0 = v0*numpy.sin(numpy.deg2rad(theta))\n",
    "    initial_conditions = [0,0,vx0,vy0]\n",
    "    values_euler = solve_euler(initial_conditions, 300, n_steps)\n",
    "    print(values_euler)\n",
    "    xs_euler, ys_euler = values_euler[:,0], values_euler[:,1]\n",
    "    plt.plot(xs_euler, ys_euler, color='blue', linestyle='--')\n",
    "\n",
    "#plt.xlim(0,5000)\n",
    "#plt.ylim(0,5000);"
   ]
  },
  {
   "cell_type": "markdown",
   "metadata": {
    "deletable": false,
    "editable": false,
    "nbgrader": {
     "cell_type": "markdown",
     "checksum": "e6bbab1380dc2317480c25eac3ba5e45",
     "grade": false,
     "grade_id": "cell-2e0af3c9d950aa50",
     "locked": true,
     "points": 5,
     "schema_version": 3,
     "solution": false,
     "task": true
    }
   },
   "source": [
    "Create a plot to show the range for different values of the initial velocity. Use the same angle $\\theta=60^\\circ$ for all velocities. The plot should have axis labels and a title and legend. Produce one curve with and one curve without the effect of air resistance. [5 marks]\n"
   ]
  },
  {
   "cell_type": "code",
   "execution_count": 22,
   "metadata": {},
   "outputs": [
    {
     "name": "stdout",
     "output_type": "stream",
     "text": [
      "The projectile did not touch down! Returning the last known location\n",
      "The projectile did not touch down! Returning the last known location\n",
      "The projectile did not touch down! Returning the last known location\n",
      "The projectile did not touch down! Returning the last known location\n",
      "The projectile did not touch down! Returning the last known location\n",
      "The projectile did not touch down! Returning the last known location\n",
      "The projectile did not touch down! Returning the last known location\n",
      "The projectile did not touch down! Returning the last known location\n",
      "The projectile did not touch down! Returning the last known location\n",
      "The projectile did not touch down! Returning the last known location\n",
      "The projectile did not touch down! Returning the last known location\n",
      "The projectile did not touch down! Returning the last known location\n",
      "The projectile did not touch down! Returning the last known location\n",
      "The projectile did not touch down! Returning the last known location\n",
      "The projectile did not touch down! Returning the last known location\n",
      "The projectile did not touch down! Returning the last known location\n"
     ]
    },
    {
     "data": {
      "text/plain": [
       "<matplotlib.legend.Legend at 0x7fd30f16cb38>"
      ]
     },
     "execution_count": 22,
     "metadata": {},
     "output_type": "execute_result"
    },
    {
     "data": {
      "image/png": "[encoded data removed]",
      "text/plain": [
       "<Figure size 432x288 with 1 Axes>"
      ]
     },
     "metadata": {},
     "output_type": "display_data"
    }
   ],
   "source": [
    "n_steps = 1000\n",
    "max_time = 300\n",
    "v0s = numpy.linspace(50, 1000, 20)\n",
    "\n",
    "ranges = []\n",
    "ranges_noresistance = []\n",
    "theta = numpy.deg2rad(60)\n",
    "\n",
    "# Your code here\n",
    "for v0 in v0s:\n",
    "    s = 2*v0**2*numpy.cos(theta)*numpy.sin(theta)/g\n",
    "    ranges_noresistance.append(s)\n",
    "    \n",
    "    vx0 = v0*numpy.cos(theta)\n",
    "    vy0 = v0*numpy.sin(theta)\n",
    "    s0 = (0,0,vx0,vy0)\n",
    "    h = solve_euler(s0,max_time,n_steps)\n",
    "    ranges.append(find_range(h))\n",
    "\n",
    "plt.plot(ranges,v0s,color = \"red\", label = \"With drag\")\n",
    "plt.plot(ranges_noresistance,v0s,color = \"blue\", label = \"Without drag\")\n",
    "\n",
    "plt.ylabel(\"Initial velocity ms^-1\")\n",
    "plt.xlabel(\"Range m\")\n",
    "plt.title(\"Plot to compare the range of a fired cannonball at various velocities, with and without the effect of drag\")\n",
    "plt.legend(loc=\"upper right\")\n",
    "\n",
    "    \n"
   ]
  },
  {
   "cell_type": "code",
   "execution_count": null,
   "metadata": {},
   "outputs": [],
   "source": []
  }
 ],
 "metadata": {
  "kernelspec": {
   "display_name": "Python 3",
   "language": "python",
   "name": "python3"
  },
  "language_info": {
   "codemirror_mode": {
    "name": "ipython",
    "version": 3
   },
   "file_extension": ".py",
   "mimetype": "text/x-python",
   "name": "python",
   "nbconvert_exporter": "python",
   "pygments_lexer": "ipython3",
   "version": "3.6.3"
  },
  "toc": {
   "base_numbering": 1,
   "nav_menu": {},
   "number_sections": false,
   "sideBar": true,
   "skip_h1_title": false,
   "title_cell": "Table of Contents",
   "title_sidebar": "Contents",
   "toc_cell": false,
   "toc_position": {},
   "toc_section_display": true,
   "toc_window_display": false
  }
 },
 "nbformat": 4,
 "nbformat_minor": 2
}
