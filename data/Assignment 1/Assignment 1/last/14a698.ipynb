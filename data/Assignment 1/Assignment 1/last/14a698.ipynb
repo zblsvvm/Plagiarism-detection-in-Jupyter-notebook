{
 "cells": [
  {
   "cell_type": "markdown",
   "metadata": {},
   "source": [
    "# Assignment 1"
   ]
  },
  {
   "cell_type": "markdown",
   "metadata": {},
   "source": [
    "First we need to import a few modules, execute the cell below:"
   ]
  },
  {
   "cell_type": "code",
   "execution_count": 11,
   "metadata": {},
   "outputs": [],
   "source": [
    "import numpy \n",
    "import matplotlib.pyplot as plt\n",
    "%matplotlib inline"
   ]
  },
  {
   "cell_type": "markdown",
   "metadata": {},
   "source": [
    "Define a function `f` that is equivalent to $f(x)=\\cos(x)$. It should work both for single arguments and `numpy` arrays."
   ]
  },
  {
   "cell_type": "code",
   "execution_count": 12,
   "metadata": {
    "deletable": false,
    "nbgrader": {
     "cell_type": "code",
     "checksum": "c684a668b7fe249782a52eb737551d4e",
     "grade": false,
     "grade_id": "f_definition",
     "locked": false,
     "schema_version": 3,
     "solution": true
    }
   },
   "outputs": [],
   "source": [
    "def f(x):\n",
    "    '''Function equivalent to cos(x), should work for one argument or a numpy array'''\n",
    "    return numpy.cos(x)"
   ]
  },
  {
   "cell_type": "markdown",
   "metadata": {},
   "source": [
    "You can use the following cell to check that your code works for scalar arguments:"
   ]
  },
  {
   "cell_type": "code",
   "execution_count": 13,
   "metadata": {
    "deletable": false,
    "editable": false,
    "nbgrader": {
     "cell_type": "code",
     "checksum": "2082d9fd52c625314e4a39e59f390f6e",
     "grade": true,
     "grade_id": "f_definition_test",
     "locked": true,
     "points": 1,
     "schema_version": 3,
     "solution": false
    }
   },
   "outputs": [],
   "source": [
    "assert numpy.isclose(f(0.5),0.87758256189)"
   ]
  },
  {
   "cell_type": "markdown",
   "metadata": {},
   "source": [
    "Make sure your code also works with a numpy array:"
   ]
  },
  {
   "cell_type": "code",
   "execution_count": 14,
   "metadata": {
    "deletable": false,
    "editable": false,
    "nbgrader": {
     "cell_type": "code",
     "checksum": "70c0736ad8b19d67707ce9a4a41d1c1d",
     "grade": true,
     "grade_id": "f_definition_nparray_test",
     "locked": true,
     "points": 2,
     "schema_version": 3,
     "solution": false
    }
   },
   "outputs": [],
   "source": [
    "xs = numpy.arange(start=0.1, stop=0.7, step=0.1)\n",
    "assert numpy.isclose(\n",
    "            f(xs), \n",
    "            [0.99500417, 0.98006658, 0.95533649, 0.92106099, 0.87758256, 0.82533561]\n",
    "        ).all()"
   ]
  },
  {
   "cell_type": "markdown",
   "metadata": {},
   "source": [
    "Define the analytic derivative of the function`f` here (again, it should work both for single numbers and numpy arrays)."
   ]
  },
  {
   "cell_type": "code",
   "execution_count": 15,
   "metadata": {
    "deletable": false,
    "nbgrader": {
     "cell_type": "code",
     "checksum": "4b7fc1950515ebb0059978953e308e3c",
     "grade": false,
     "grade_id": "analytic_derivative",
     "locked": false,
     "schema_version": 3,
     "solution": true
    }
   },
   "outputs": [],
   "source": [
    "def df_analytic(x):\n",
    "    '''\n",
    "    The analytic derivative\n",
    "    '''\n",
    "    return -numpy.sin(x)"
   ]
  },
  {
   "cell_type": "code",
   "execution_count": 16,
   "metadata": {
    "deletable": false,
    "editable": false,
    "nbgrader": {
     "cell_type": "code",
     "checksum": "4283305af7a4298e0fea76222b63e8e3",
     "grade": true,
     "grade_id": "g_definition_test",
     "locked": true,
     "points": 1,
     "schema_version": 3,
     "solution": false
    }
   },
   "outputs": [],
   "source": [
    "assert numpy.isclose(df_analytic(0.5), -0.4794255386)"
   ]
  },
  {
   "cell_type": "code",
   "execution_count": 17,
   "metadata": {
    "deletable": false,
    "editable": false,
    "nbgrader": {
     "cell_type": "code",
     "checksum": "01ac909c33f00b3ae7f21d63af18108c",
     "grade": true,
     "grade_id": "g_definition_nparray_test",
     "locked": true,
     "points": 2,
     "schema_version": 3,
     "solution": false
    }
   },
   "outputs": [],
   "source": [
    "xs = numpy.arange(start=0.1, stop=0.7, step=0.1)\n",
    "assert numpy.isclose(\n",
    "            df_analytic(xs),\n",
    "            [-0.09983342, -0.19866933, -0.29552021, -0.38941834, -0.47942554,-0.56464247]\n",
    "        ).all()"
   ]
  },
  {
   "cell_type": "markdown",
   "metadata": {},
   "source": [
    "Now define the numerical derivative using the backward difference method. The function `backward_difference` takes three arguments, `f`, the function to calculate the derivative for, `x` the position to calculate the derivative at and `dx` the interval length."
   ]
  },
  {
   "cell_type": "code",
   "execution_count": 18,
   "metadata": {
    "deletable": false,
    "nbgrader": {
     "cell_type": "code",
     "checksum": "666506275ce4d793fc54d71f59a265aa",
     "grade": false,
     "grade_id": "backward_difference",
     "locked": false,
     "schema_version": 3,
     "solution": true
    }
   },
   "outputs": [],
   "source": [
    "def backward_difference(f, x, dx):\n",
    "    '''\n",
    "    This function implements the backward difference method for the \n",
    "    first derivative of the function f at position x using interval\n",
    "    dx.\n",
    "    '''\n",
    "    return (f(x)-f(x-dx))/dx"
   ]
  },
  {
   "cell_type": "code",
   "execution_count": 19,
   "metadata": {
    "deletable": false,
    "editable": false,
    "nbgrader": {
     "cell_type": "code",
     "checksum": "3abddc9169357ed6af5f0a4f20d65cb9",
     "grade": true,
     "grade_id": "backward_difference_test",
     "locked": true,
     "points": 2,
     "schema_version": 3,
     "solution": false
    }
   },
   "outputs": [],
   "source": [
    "assert numpy.isclose(\n",
    "    backward_difference(f, 0.1, 0.0001),\n",
    "    -0.09978366627194646\n",
    ")"
   ]
  },
  {
   "cell_type": "markdown",
   "metadata": {
    "deletable": false,
    "editable": false,
    "nbgrader": {
     "cell_type": "markdown",
     "checksum": "9bacab6495b93e15875a5756864d7b88",
     "grade": false,
     "grade_id": "cell-98dd708e585b083b",
     "locked": true,
     "points": 8,
     "schema_version": 3,
     "solution": false,
     "task": true
    }
   },
   "source": [
    "**Task 1:**\n",
    "\n",
    "Here is a skeleton code to plot the difference between the analytical derivative and the numerical implementation. Modify and expand it to provide a plot with three curves for the difference for a case where $dx$ is too large, about right and too small. The plot should have a legend, labelled axes and a title.\n",
    "\n",
    "You can get help about plotting on the Python handbook that you can find at:\n",
    "\n",
    "https://dmaitre.phyip3.dur.ac.uk/notes/l1python/part-5/\n"
   ]
  },
  {
   "cell_type": "code",
   "execution_count": 20,
   "metadata": {},
   "outputs": [
    {
     "data": {
      "image/png": "[encoded data removed]",
      "text/plain": [
       "<Figure size 576x288 with 1 Axes>"
      ]
     },
     "metadata": {},
     "output_type": "display_data"
    }
   ],
   "source": [
    "xs = numpy.linspace(-2*numpy.pi,2*numpy.pi,100) #domain\n",
    "df_dx_1 = backward_difference(f, xs, dx=1e-4)\n",
    "df_dx_2 = backward_difference(f, xs, dx=1e-6)\n",
    "df_dx_3 = backward_difference(f, xs, dx=1e-12)\n",
    "df_dx_analytical = df_analytic(xs)\n",
    "plt.figure(figsize=(8, 4))\n",
    "plt.plot(xs, df_dx_1 - df_dx_analytical,label=\"dx is too large\")\n",
    "plt.plot(xs, df_dx_2 - df_dx_analytical,label=\"dx is about right\")\n",
    "plt.plot(xs, df_dx_3 - df_dx_analytical,label=\"dx is too small\")\n",
    "plt.xlabel(\"Function input (x)\")\n",
    "plt.ylabel(\"(Numerical derivative) - (Analytical derivative)\")\n",
    "plt.legend(loc='upper left')\n",
    "plt.title(\"Graph to show the difference between the numerical and analytical derivatives at three values of delta x\\n\")\n",
    "plt.show()"
   ]
  },
  {
   "cell_type": "markdown",
   "metadata": {},
   "source": [
    "**Task 2: ** \n",
    "\n",
    "Describe in the text box below why the numerical method looses accuracy in the case where\n",
    "$\\Delta x$ is too small and the case where $\\Delta x$ is too large. (Double-click on \"YOUR ANSWER HERE\" to edit.)\n"
   ]
  },
  {
   "cell_type": "markdown",
   "metadata": {
    "deletable": false,
    "nbgrader": {
     "cell_type": "markdown",
     "checksum": "606635d14bb3842f745cb0c7a1feff71",
     "grade": true,
     "grade_id": "textAnswer",
     "locked": false,
     "points": 4,
     "schema_version": 3,
     "solution": true
    }
   },
   "source": [
    "When delta x is too small: There will be very large rounding errors during the computation of the numerical derivative, thus contributing to the random noise seen in the green curve above, as the computer tries to randomly \"guess\" the digits that were lost in rounding. This is despite the fact that the error estimate will be very small.\n",
    "\n",
    "When delta x is too large: In backward difference, the error estimate is propotional to delta x. Hence, as will reach a large delta x, the error will become much larger, and will vary in a periodic manner with respect to the function input, as seen in the blue curve above."
   ]
  },
  {
   "cell_type": "code",
   "execution_count": null,
   "metadata": {},
   "outputs": [],
   "source": []
  }
 ],
 "metadata": {
  "kernelspec": {
   "display_name": "Python 3",
   "language": "python",
   "name": "python3"
  },
  "language_info": {
   "codemirror_mode": {
    "name": "ipython",
    "version": 3
   },
   "file_extension": ".py",
   "mimetype": "text/x-python",
   "name": "python",
   "nbconvert_exporter": "python",
   "pygments_lexer": "ipython3",
   "version": "3.6.3"
  }
 },
 "nbformat": 4,
 "nbformat_minor": 2
}
