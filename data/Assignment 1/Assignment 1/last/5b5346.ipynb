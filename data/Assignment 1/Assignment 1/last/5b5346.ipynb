{
 "cells": [
  {
   "cell_type": "markdown",
   "metadata": {},
   "source": [
    "# Assignment 1"
   ]
  },
  {
   "cell_type": "markdown",
   "metadata": {},
   "source": [
    "First we need to import a few modules, execute the cell below:"
   ]
  },
  {
   "cell_type": "code",
   "execution_count": 3,
   "metadata": {},
   "outputs": [],
   "source": [
    "import numpy\n",
    "import matplotlib.pyplot as plt\n",
    "%matplotlib inline"
   ]
  },
  {
   "cell_type": "markdown",
   "metadata": {},
   "source": [
    "Define a function `f` that is equivalent to $f(x)=\\cos(x)$. It should work both for single arguments and `numpy` arrays."
   ]
  },
  {
   "cell_type": "code",
   "execution_count": 21,
   "metadata": {
    "deletable": false,
    "nbgrader": {
     "cell_type": "code",
     "checksum": "c684a668b7fe249782a52eb737551d4e",
     "grade": false,
     "grade_id": "f_definition",
     "locked": false,
     "schema_version": 3,
     "solution": true
    }
   },
   "outputs": [],
   "source": [
    "def f(x):\n",
    "    '''Function equivalent to cos(x), should work for one argument or a numpy array'''\n",
    "    # YOUR CODE HERE\n",
    "    \n",
    "    solution1 = numpy.cos(x)\n",
    "    print(solution1)\n",
    "    return solution1\n"
   ]
  },
  {
   "cell_type": "markdown",
   "metadata": {},
   "source": [
    "You can use the following cell to check that your code works for scalar arguments:"
   ]
  },
  {
   "cell_type": "code",
   "execution_count": 22,
   "metadata": {
    "deletable": false,
    "editable": false,
    "nbgrader": {
     "cell_type": "code",
     "checksum": "2082d9fd52c625314e4a39e59f390f6e",
     "grade": true,
     "grade_id": "f_definition_test",
     "locked": true,
     "points": 1,
     "schema_version": 3,
     "solution": false
    }
   },
   "outputs": [
    {
     "name": "stdout",
     "output_type": "stream",
     "text": [
      "0.8775825618903728\n"
     ]
    }
   ],
   "source": [
    "assert numpy.isclose(f(0.5),0.87758256189)"
   ]
  },
  {
   "cell_type": "markdown",
   "metadata": {},
   "source": [
    "Make sure your code also works with a numpy array:"
   ]
  },
  {
   "cell_type": "code",
   "execution_count": 23,
   "metadata": {
    "deletable": false,
    "editable": false,
    "nbgrader": {
     "cell_type": "code",
     "checksum": "70c0736ad8b19d67707ce9a4a41d1c1d",
     "grade": true,
     "grade_id": "f_definition_nparray_test",
     "locked": true,
     "points": 2,
     "schema_version": 3,
     "solution": false
    }
   },
   "outputs": [
    {
     "name": "stdout",
     "output_type": "stream",
     "text": [
      "[0.99500417 0.98006658 0.95533649 0.92106099 0.87758256 0.82533561]\n"
     ]
    }
   ],
   "source": [
    "xs = numpy.arange(start=0.1, stop=0.7, step=0.1)\n",
    "assert numpy.isclose(\n",
    "            f(xs), \n",
    "            [0.99500417, 0.98006658, 0.95533649, 0.92106099, 0.87758256, 0.82533561]\n",
    "        ).all()"
   ]
  },
  {
   "cell_type": "markdown",
   "metadata": {},
   "source": [
    "Define the analytic derivative of the function`f` here (again, it should work both for single numbers and numpy arrays)."
   ]
  },
  {
   "cell_type": "code",
   "execution_count": 24,
   "metadata": {
    "deletable": false,
    "nbgrader": {
     "cell_type": "code",
     "checksum": "4b7fc1950515ebb0059978953e308e3c",
     "grade": false,
     "grade_id": "analytic_derivative",
     "locked": false,
     "schema_version": 3,
     "solution": true
    }
   },
   "outputs": [],
   "source": [
    "def df_analytic(x):\n",
    "    \n",
    "    solution2 = (-1)*(numpy.sin(x))\n",
    "    print(solution2)\n",
    "    return solution2\n",
    "   \n"
   ]
  },
  {
   "cell_type": "code",
   "execution_count": 25,
   "metadata": {
    "deletable": false,
    "editable": false,
    "nbgrader": {
     "cell_type": "code",
     "checksum": "4283305af7a4298e0fea76222b63e8e3",
     "grade": true,
     "grade_id": "g_definition_test",
     "locked": true,
     "points": 1,
     "schema_version": 3,
     "solution": false
    }
   },
   "outputs": [
    {
     "name": "stdout",
     "output_type": "stream",
     "text": [
      "-0.479425538604203\n"
     ]
    }
   ],
   "source": [
    "assert numpy.isclose(df_analytic(0.5), -0.4794255386)"
   ]
  },
  {
   "cell_type": "code",
   "execution_count": 26,
   "metadata": {
    "deletable": false,
    "editable": false,
    "nbgrader": {
     "cell_type": "code",
     "checksum": "01ac909c33f00b3ae7f21d63af18108c",
     "grade": true,
     "grade_id": "g_definition_nparray_test",
     "locked": true,
     "points": 2,
     "schema_version": 3,
     "solution": false
    }
   },
   "outputs": [
    {
     "name": "stdout",
     "output_type": "stream",
     "text": [
      "[-0.09983342 -0.19866933 -0.29552021 -0.38941834 -0.47942554 -0.56464247]\n"
     ]
    }
   ],
   "source": [
    "xs = numpy.arange(start=0.1, stop=0.7, step=0.1)\n",
    "assert numpy.isclose(\n",
    "            df_analytic(xs),\n",
    "            [-0.09983342, -0.19866933, -0.29552021, -0.38941834, -0.47942554,-0.56464247]\n",
    "        ).all()"
   ]
  },
  {
   "cell_type": "markdown",
   "metadata": {},
   "source": [
    "Now define the numerical derivative using the backward difference method. The function `backward_difference` takes three arguments, `f`, the function to calculate the derivative for, `x` the position to calculate the derivative at and `dx` the interval length."
   ]
  },
  {
   "cell_type": "code",
   "execution_count": 109,
   "metadata": {
    "deletable": false,
    "nbgrader": {
     "cell_type": "code",
     "checksum": "666506275ce4d793fc54d71f59a265aa",
     "grade": false,
     "grade_id": "backward_difference",
     "locked": false,
     "schema_version": 3,
     "solution": true
    }
   },
   "outputs": [],
   "source": [
    "def backward_difference(f, x, dx):\n",
    "    '''\n",
    "    This function implements the backward difference method for the \n",
    "    first derivative of the function f at position x using interval\n",
    "    dx.\n",
    "    '''\n",
    "    # YOUR CODE HERE\n",
    "    \n",
    "    Solution3 = (f(x)-f(x-dx))/dx\n",
    "    print(Solution3)\n",
    "    return Solution3\n",
    "    \n"
   ]
  },
  {
   "cell_type": "code",
   "execution_count": 110,
   "metadata": {
    "deletable": false,
    "editable": false,
    "nbgrader": {
     "cell_type": "code",
     "checksum": "3abddc9169357ed6af5f0a4f20d65cb9",
     "grade": true,
     "grade_id": "backward_difference_test",
     "locked": true,
     "points": 2,
     "schema_version": 3,
     "solution": false
    }
   },
   "outputs": [
    {
     "name": "stdout",
     "output_type": "stream",
     "text": [
      "0.9950041652780258\n",
      "0.995014143644653\n",
      "-0.09978366627194646\n"
     ]
    }
   ],
   "source": [
    "assert numpy.isclose(\n",
    "    backward_difference(f, 0.1, 0.0001),\n",
    "    -0.09978366627194646\n",
    ")"
   ]
  },
  {
   "cell_type": "markdown",
   "metadata": {
    "deletable": false,
    "editable": false,
    "nbgrader": {
     "cell_type": "markdown",
     "checksum": "9bacab6495b93e15875a5756864d7b88",
     "grade": false,
     "grade_id": "cell-98dd708e585b083b",
     "locked": true,
     "points": 8,
     "schema_version": 3,
     "solution": false,
     "task": true
    }
   },
   "source": [
    "**Task 1:**\n",
    "\n",
    "Here is a skeleton code to plot the difference between the analytical derivative and the numerical implementation. Modify and expand it to provide a plot with three curves for the difference for a case where $dx$ is too large, about right and too small. The plot should have a legend, labelled axes and a title.\n",
    "\n",
    "You can get help about plotting on the Python handbook that you can find at:\n",
    "\n",
    "https://dmaitre.phyip3.dur.ac.uk/notes/l1python/part-5/\n"
   ]
  },
  {
   "cell_type": "code",
   "execution_count": 114,
   "metadata": {},
   "outputs": [
    {
     "name": "stdout",
     "output_type": "stream",
     "text": [
      "[ 1.          0.99195481  0.9679487   0.92836793  0.87384938  0.80527026\n",
      "  0.72373404  0.63055267  0.52722547  0.41541501  0.29692038  0.17364818\n",
      "  0.04758192 -0.07924996 -0.20480667 -0.32706796 -0.44406661 -0.55392006\n",
      " -0.65486073 -0.74526445 -0.82367658 -0.88883545 -0.93969262 -0.97542979\n",
      " -0.99547192 -0.99949654 -0.98743889 -0.95949297 -0.91610846 -0.85798341\n",
      " -0.78605309 -0.70147489 -0.60560969 -0.5        -0.38634513 -0.26647381\n",
      " -0.14231484 -0.01586596  0.1108382   0.23575894  0.35688622  0.47227107\n",
      "  0.58005691  0.67850941  0.76604444  0.84125353  0.90292654  0.95007112\n",
      "  0.9819287   0.99798668  0.99798668  0.9819287   0.95007112  0.90292654\n",
      "  0.84125353  0.76604444  0.67850941  0.58005691  0.47227107  0.35688622\n",
      "  0.23575894  0.1108382  -0.01586596 -0.14231484 -0.26647381 -0.38634513\n",
      " -0.5        -0.60560969 -0.70147489 -0.78605309 -0.85798341 -0.91610846\n",
      " -0.95949297 -0.98743889 -0.99949654 -0.99547192 -0.97542979 -0.93969262\n",
      " -0.88883545 -0.82367658 -0.74526445 -0.65486073 -0.55392006 -0.44406661\n",
      " -0.32706796 -0.20480667 -0.07924996  0.04758192  0.17364818  0.29692038\n",
      "  0.41541501  0.52722547  0.63055267  0.72373404  0.80527026  0.87384938\n",
      "  0.92836793  0.9679487   0.99195481  1.        ]\n",
      "[ 1.          0.99195481  0.9679487   0.92836793  0.87384938  0.80527026\n",
      "  0.72373404  0.63055267  0.52722547  0.41541501  0.29692038  0.17364818\n",
      "  0.04758192 -0.07924996 -0.20480667 -0.32706796 -0.44406661 -0.55392006\n",
      " -0.65486073 -0.74526445 -0.82367658 -0.88883545 -0.93969262 -0.97542979\n",
      " -0.99547192 -0.99949654 -0.98743889 -0.95949297 -0.91610846 -0.85798341\n",
      " -0.78605309 -0.70147489 -0.60560969 -0.5        -0.38634513 -0.26647381\n",
      " -0.14231484 -0.01586596  0.1108382   0.23575894  0.35688622  0.47227107\n",
      "  0.58005691  0.67850941  0.76604444  0.84125353  0.90292654  0.95007112\n",
      "  0.9819287   0.99798668  0.99798668  0.9819287   0.95007112  0.90292654\n",
      "  0.84125353  0.76604444  0.67850941  0.58005691  0.47227107  0.35688622\n",
      "  0.23575894  0.1108382  -0.01586596 -0.14231484 -0.26647381 -0.38634513\n",
      " -0.5        -0.60560969 -0.70147489 -0.78605309 -0.85798341 -0.91610846\n",
      " -0.95949297 -0.98743889 -0.99949654 -0.99547192 -0.97542979 -0.93969262\n",
      " -0.88883545 -0.82367658 -0.74526445 -0.65486073 -0.55392006 -0.44406661\n",
      " -0.32706796 -0.20480667 -0.07924996  0.04758192  0.17364818  0.29692038\n",
      "  0.41541501  0.52722547  0.63055267  0.72373404  0.80527026  0.87384938\n",
      "  0.92836793  0.9679487   0.99195481  1.        ]\n",
      "[0. 0. 0. 0. 0. 0. 0. 0. 0. 0. 0. 0. 0. 0. 0. 0. 0. 0. 0. 0. 0. 0. 0. 0.\n",
      " 0. 0. 0. 0. 0. 0. 0. 0. 0. 0. 0. 0. 0. 0. 0. 0. 0. 0. 0. 0. 0. 0. 0. 0.\n",
      " 0. 0. 0. 0. 0. 0. 0. 0. 0. 0. 0. 0. 0. 0. 0. 0. 0. 0. 0. 0. 0. 0. 0. 0.\n",
      " 0. 0. 0. 0. 0. 0. 0. 0. 0. 0. 0. 0. 0. 0. 0. 0. 0. 0. 0. 0. 0. 0. 0. 0.\n",
      " 0. 0. 0. 0.]\n",
      "[ 1.          0.99195481  0.9679487   0.92836793  0.87384938  0.80527026\n",
      "  0.72373404  0.63055267  0.52722547  0.41541501  0.29692038  0.17364818\n",
      "  0.04758192 -0.07924996 -0.20480667 -0.32706796 -0.44406661 -0.55392006\n",
      " -0.65486073 -0.74526445 -0.82367658 -0.88883545 -0.93969262 -0.97542979\n",
      " -0.99547192 -0.99949654 -0.98743889 -0.95949297 -0.91610846 -0.85798341\n",
      " -0.78605309 -0.70147489 -0.60560969 -0.5        -0.38634513 -0.26647381\n",
      " -0.14231484 -0.01586596  0.1108382   0.23575894  0.35688622  0.47227107\n",
      "  0.58005691  0.67850941  0.76604444  0.84125353  0.90292654  0.95007112\n",
      "  0.9819287   0.99798668  0.99798668  0.9819287   0.95007112  0.90292654\n",
      "  0.84125353  0.76604444  0.67850941  0.58005691  0.47227107  0.35688622\n",
      "  0.23575894  0.1108382  -0.01586596 -0.14231484 -0.26647381 -0.38634513\n",
      " -0.5        -0.60560969 -0.70147489 -0.78605309 -0.85798341 -0.91610846\n",
      " -0.95949297 -0.98743889 -0.99949654 -0.99547192 -0.97542979 -0.93969262\n",
      " -0.88883545 -0.82367658 -0.74526445 -0.65486073 -0.55392006 -0.44406661\n",
      " -0.32706796 -0.20480667 -0.07924996  0.04758192  0.17364818  0.29692038\n",
      "  0.41541501  0.52722547  0.63055267  0.72373404  0.80527026  0.87384938\n",
      "  0.92836793  0.9679487   0.99195481  1.        ]\n",
      "[ 1.          0.99195481  0.9679487   0.92836794  0.87384938  0.80527026\n",
      "  0.72373405  0.63055267  0.52722548  0.41541502  0.29692038  0.17364819\n",
      "  0.04758193 -0.07924995 -0.20480666 -0.32706795 -0.4440666  -0.55392006\n",
      " -0.65486073 -0.74526444 -0.82367658 -0.88883544 -0.93969262 -0.97542978\n",
      " -0.99547192 -0.99949654 -0.98743889 -0.95949298 -0.91610846 -0.85798342\n",
      " -0.7860531  -0.70147489 -0.6056097  -0.50000001 -0.38634513 -0.26647382\n",
      " -0.14231485 -0.01586597  0.11083819  0.23575893  0.35688621  0.47227107\n",
      "  0.5800569   0.6785094   0.76604444  0.84125353  0.90292653  0.95007111\n",
      "  0.9819287   0.99798668  0.99798668  0.9819287   0.95007112  0.90292654\n",
      "  0.84125354  0.76604445  0.67850942  0.58005692  0.47227108  0.35688623\n",
      "  0.23575895  0.11083821 -0.01586595 -0.14231483 -0.2664738  -0.38634512\n",
      " -0.49999999 -0.60560968 -0.70147488 -0.78605309 -0.85798341 -0.91610845\n",
      " -0.95949297 -0.98743889 -0.99949654 -0.99547192 -0.97542979 -0.93969262\n",
      " -0.88883545 -0.82367659 -0.74526446 -0.65486074 -0.55392007 -0.44406662\n",
      " -0.32706797 -0.20480668 -0.07924997  0.04758191  0.17364817  0.29692037\n",
      "  0.415415    0.52722546  0.63055266  0.72373403  0.80527025  0.87384937\n",
      "  0.92836793  0.9679487   0.99195481  1.        ]\n",
      "[ 0.         -0.12659245 -0.25114798 -0.37166246 -0.48619673 -0.59290792\n",
      " -0.69007901 -0.77614646 -0.84972542 -0.90963199 -0.95490223 -0.98480775\n",
      " -0.99886733 -0.99685477 -0.97880244 -0.94500081 -0.89599377 -0.83256986\n",
      " -0.75574957 -0.666769   -0.56705987 -0.45822652 -0.34202015 -0.22031054\n",
      " -0.09505605  0.03172793  0.15800139  0.28173255  0.40093052  0.51367739\n",
      "  0.61815898  0.71269417  0.79576183  0.8660254   0.92235429  0.96384215\n",
      "  0.98982143  0.99987412  0.99383846  0.97181156  0.93414786  0.88145336\n",
      "  0.81457596  0.73459172  0.64278762  0.54064082  0.42979492  0.31203344\n",
      "  0.18925125  0.06342393 -0.06342392 -0.18925124 -0.31203344 -0.42979491\n",
      " -0.54064082 -0.64278761 -0.73459171 -0.81457595 -0.88145335 -0.93414785\n",
      " -0.97181156 -0.99383846 -0.99987412 -0.98982144 -0.96384216 -0.92235429\n",
      " -0.86602541 -0.79576183 -0.71269417 -0.61815899 -0.51367739 -0.40093053\n",
      " -0.28173256 -0.1580014  -0.03172794  0.09505604  0.22031053  0.34202013\n",
      "  0.45822651  0.56705985  0.666769    0.75574956  0.83256985  0.89599377\n",
      "  0.94500081  0.97880244  0.99685477  0.99886733  0.98480775  0.95490224\n",
      "  0.90963199  0.84972542  0.77614646  0.69007902  0.59290792  0.48619674\n",
      "  0.37166246  0.25114799  0.12659246  0.        ]\n",
      "[ 1.          0.99195481  0.9679487   0.92836793  0.87384938  0.80527026\n",
      "  0.72373404  0.63055267  0.52722547  0.41541501  0.29692038  0.17364818\n",
      "  0.04758192 -0.07924996 -0.20480667 -0.32706796 -0.44406661 -0.55392006\n",
      " -0.65486073 -0.74526445 -0.82367658 -0.88883545 -0.93969262 -0.97542979\n",
      " -0.99547192 -0.99949654 -0.98743889 -0.95949297 -0.91610846 -0.85798341\n",
      " -0.78605309 -0.70147489 -0.60560969 -0.5        -0.38634513 -0.26647381\n",
      " -0.14231484 -0.01586596  0.1108382   0.23575894  0.35688622  0.47227107\n",
      "  0.58005691  0.67850941  0.76604444  0.84125353  0.90292654  0.95007112\n",
      "  0.9819287   0.99798668  0.99798668  0.9819287   0.95007112  0.90292654\n",
      "  0.84125353  0.76604444  0.67850941  0.58005691  0.47227107  0.35688622\n",
      "  0.23575894  0.1108382  -0.01586596 -0.14231484 -0.26647381 -0.38634513\n",
      " -0.5        -0.60560969 -0.70147489 -0.78605309 -0.85798341 -0.91610846\n",
      " -0.95949297 -0.98743889 -0.99949654 -0.99547192 -0.97542979 -0.93969262\n",
      " -0.88883545 -0.82367658 -0.74526445 -0.65486073 -0.55392006 -0.44406661\n",
      " -0.32706796 -0.20480667 -0.07924996  0.04758192  0.17364818  0.29692038\n",
      "  0.41541501  0.52722547  0.63055267  0.72373404  0.80527026  0.87384938\n",
      "  0.92836793  0.9679487   0.99195481  1.        ]\n",
      "[-0.75968791 -0.67125455 -0.57202045 -0.46358232 -0.34768498 -0.22619326\n",
      " -0.10106201  0.02569537  0.1520393   0.27593686  0.3953945   0.50849009\n",
      "  0.61340388  0.70844777  0.79209248  0.86299212  0.92000589  0.96221643\n",
      "  0.98894454  0.99976017  0.99448928  0.97321668  0.93628467  0.88428748\n",
      "  0.81806178  0.73867315  0.647399    0.54570796  0.43523627  0.31776147\n",
      "  0.19517376  0.06944564 -0.05739989 -0.18332183 -0.30629406 -0.4243379\n",
      " -0.53555399 -0.63815281 -0.73048351 -0.81106046 -0.87858714 -0.93197703\n",
      " -0.97037106 -0.99315145 -0.99995167 -0.99066229 -0.96543278 -0.9246691\n",
      " -0.86902715 -0.79940222 -0.71691461 -0.62289158 -0.51884599 -0.40645197\n",
      " -0.28751799 -0.16395774 -0.03775934  0.08904661  0.21441978  0.33634285\n",
      "  0.45285403  0.56207863  0.66225917  0.75178371  0.82921177  0.8932975\n",
      "  0.94300975  0.97754861  0.99635835  0.99913631  0.98583779  0.95667677\n",
      "  0.91212247  0.85289177  0.77993773  0.6944342   0.59775696  0.49146159\n",
      "  0.37725841  0.25698501  0.13257662  0.00603503 -0.12060368 -0.24530182\n",
      " -0.36605296 -0.48091418 -0.5880373  -0.68569869 -0.77232693 -0.84652814\n",
      " -0.90710839 -0.95309293 -0.98374185 -0.99856199 -0.9973149  -0.98002063\n",
      " -0.94695747 -0.89865741 -0.83589761 -0.75968791]\n",
      "[ 0.11731253  0.11088062  0.10266461  0.09279668  0.08143562  0.06876423\n",
      "  0.0549864   0.04032382  0.02501241  0.00929854 -0.00656494 -0.02232279\n",
      " -0.03772146 -0.05251318 -0.06645994 -0.07933734 -0.09093817 -0.10107577\n",
      " -0.10958702 -0.11633497 -0.12121106 -0.12413681 -0.12506515 -0.12398115\n",
      " -0.12090225 -0.11587798 -0.10898919 -0.10034673 -0.09008965 -0.07838299\n",
      " -0.06541512 -0.0513947  -0.03654732 -0.02111188 -0.00533674  0.01052427\n",
      "  0.02621594  0.04148579  0.05608811  0.06978796  0.08236489  0.09361654\n",
      "  0.10336186  0.11144406  0.11773307  0.12212772  0.12455729  0.12498268\n",
      "  0.12339706  0.11982593  0.11432675  0.10698802  0.09792781  0.0872919\n",
      "  0.07525143  0.06200015  0.04775125  0.03273402  0.01719009  0.00136956\n",
      " -0.01447301 -0.0300827  -0.04520834 -0.05960657 -0.07304571 -0.08530951\n",
      " -0.09620065 -0.10554389 -0.11318888 -0.11901263 -0.12292141 -0.12485235\n",
      " -0.12477436 -0.12268871 -0.11862895 -0.11266041 -0.10487912 -0.09541028\n",
      " -0.08440626 -0.07204411 -0.05852274 -0.04405972 -0.02888776 -0.01325099\n",
      "  0.002599    0.01840717  0.03391916  0.04888537  0.06306501  0.0762299\n",
      "  0.08816823  0.09868789  0.10761963  0.11481974  0.12017234  0.12359133\n",
      "  0.12502169  0.12444041  0.12185683  0.11731253]\n",
      "[-2.44929360e-16 -1.26592454e-01 -2.51147987e-01 -3.71662456e-01\n",
      " -4.86196736e-01 -5.92907929e-01 -6.90079011e-01 -7.76146464e-01\n",
      " -8.49725430e-01 -9.09631995e-01 -9.54902241e-01 -9.84807753e-01\n",
      " -9.98867339e-01 -9.96854776e-01 -9.78802446e-01 -9.45000819e-01\n",
      " -8.95993774e-01 -8.32569855e-01 -7.55749574e-01 -6.66769001e-01\n",
      " -5.67059864e-01 -4.58226522e-01 -3.42020143e-01 -2.20310533e-01\n",
      " -9.50560433e-02  3.17279335e-02  1.58001396e-01  2.81732557e-01\n",
      "  4.00930535e-01  5.13677392e-01  6.18158986e-01  7.12694171e-01\n",
      "  7.95761841e-01  8.66025404e-01  9.22354294e-01  9.63842159e-01\n",
      "  9.89821442e-01  9.99874128e-01  9.93838464e-01  9.71811568e-01\n",
      "  9.34147860e-01  8.81453363e-01  8.14575952e-01  7.34591709e-01\n",
      "  6.42787610e-01  5.40640817e-01  4.29794912e-01  3.12033446e-01\n",
      "  1.89251244e-01  6.34239197e-02 -6.34239197e-02 -1.89251244e-01\n",
      " -3.12033446e-01 -4.29794912e-01 -5.40640817e-01 -6.42787610e-01\n",
      " -7.34591709e-01 -8.14575952e-01 -8.81453363e-01 -9.34147860e-01\n",
      " -9.71811568e-01 -9.93838464e-01 -9.99874128e-01 -9.89821442e-01\n",
      " -9.63842159e-01 -9.22354294e-01 -8.66025404e-01 -7.95761841e-01\n",
      " -7.12694171e-01 -6.18158986e-01 -5.13677392e-01 -4.00930535e-01\n",
      " -2.81732557e-01 -1.58001396e-01 -3.17279335e-02  9.50560433e-02\n",
      "  2.20310533e-01  3.42020143e-01  4.58226522e-01  5.67059864e-01\n",
      "  6.66769001e-01  7.55749574e-01  8.32569855e-01  8.95993774e-01\n",
      "  9.45000819e-01  9.78802446e-01  9.96854776e-01  9.98867339e-01\n",
      "  9.84807753e-01  9.54902241e-01  9.09631995e-01  8.49725430e-01\n",
      "  7.76146464e-01  6.90079011e-01  5.92907929e-01  4.86196736e-01\n",
      "  3.71662456e-01  2.51147987e-01  1.26592454e-01  2.44929360e-16]\n"
     ]
    },
    {
     "data": {
      "text/plain": [
       "Text(0.5,1,'Plot Representing the Difference Between the Analytical Derivative and the Numerical Implementation to Show the Ideal Value of dx')"
      ]
     },
     "execution_count": 114,
     "metadata": {},
     "output_type": "execute_result"
    },
    {
     "data": {
      "image/png": "[encoded data removed]",
      "text/plain": [
       "<Figure size 576x288 with 1 Axes>"
      ]
     },
     "metadata": {},
     "output_type": "display_data"
    }
   ],
   "source": [
    "xs = numpy.linspace(-2*numpy.pi,2*numpy.pi,100)\n",
    "df_dx_toosmall = backward_difference(f, xs, dx=1e-20)\n",
    "df_dx_aboutright = backward_difference(f, xs, dx=1e-8)\n",
    "df_dx_toolarge = backward_difference(f, xs, dx=15)\n",
    "df_dx_analytical = df_analytic(xs)\n",
    "plt.figure(figsize=(8, 4))\n",
    "plt.xlabel(\"x values\")\n",
    "plt.ylabel(\"(df_dx) - (df_dx analytical)\")\n",
    "plt.plot(xs, df_dx_toosmall - df_dx_analytical, label='Too Large dx')\n",
    "plt.plot(xs, df_dx_aboutright - df_dx_analytical, label='About Right dx')\n",
    "plt.plot(xs, df_dx_toolarge - df_dx_analytical, label='Too Small dx')\n",
    "plt.legend(loc='upper right')\n",
    "plt.title('Plot Representing the Difference Between the Analytical Derivative and the Numerical Implementation to Show the Ideal Value of dx')"
   ]
  },
  {
   "cell_type": "markdown",
   "metadata": {},
   "source": [
    "**Task 2: ** \n",
    "\n",
    "Describe in the text box below why the numerical method looses accuracy in the case where\n",
    "$\\Delta x$ is too small and the case where $\\Delta x$ is too large. (Double-click on \"YOUR ANSWER HERE\" to edit.)\n"
   ]
  },
  {
   "cell_type": "markdown",
   "metadata": {
    "deletable": false,
    "nbgrader": {
     "cell_type": "markdown",
     "checksum": "606635d14bb3842f745cb0c7a1feff71",
     "grade": true,
     "grade_id": "textAnswer",
     "locked": false,
     "points": 4,
     "schema_version": 3,
     "solution": true
    }
   },
   "source": [
    "When using the numerical method, the equation f'(x) = ( f(x) - f(x-dx) ) / dx is utilised. If dx is too small, f(x - dx) is approximately equal to f(x) so the numerator cancels and the value of the differential tends to zero as dx tends to zero, which is inaccurate. For the backwards difference, (f(x) - f(x-dx))/dx = f'(x) - f''(x)dx/2 + o(dx^2). This shows that the error in the differential is approximately proportional to dx. Therefore as dx gets larger, the error gets larger and so too does the uncertainty, so when dx is too large, the numerical method loses accuracy."
   ]
  },
  {
   "cell_type": "code",
   "execution_count": null,
   "metadata": {},
   "outputs": [],
   "source": []
  }
 ],
 "metadata": {
  "kernelspec": {
   "display_name": "Python 3",
   "language": "python",
   "name": "python3"
  },
  "language_info": {
   "codemirror_mode": {
    "name": "ipython",
    "version": 3
   },
   "file_extension": ".py",
   "mimetype": "text/x-python",
   "name": "python",
   "nbconvert_exporter": "python",
   "pygments_lexer": "ipython3",
   "version": "3.6.3"
  }
 },
 "nbformat": 4,
 "nbformat_minor": 2
}
