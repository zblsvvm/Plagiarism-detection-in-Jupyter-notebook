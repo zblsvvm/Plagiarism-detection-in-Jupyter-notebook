{
 "cells": [
  {
   "cell_type": "markdown",
   "metadata": {},
   "source": [
    "# Assignment 1"
   ]
  },
  {
   "cell_type": "markdown",
   "metadata": {},
   "source": [
    "First we need to import a few modules, execute the cell below:"
   ]
  },
  {
   "cell_type": "code",
   "execution_count": 1,
   "metadata": {},
   "outputs": [],
   "source": [
    "import numpy \n",
    "import matplotlib.pyplot as plt\n",
    "%matplotlib inline"
   ]
  },
  {
   "cell_type": "markdown",
   "metadata": {},
   "source": [
    "Define a function `f` that is equivalent to $f(x)=\\cos(x)$. It should work both for single arguments and `numpy` arrays."
   ]
  },
  {
   "cell_type": "code",
   "execution_count": 2,
   "metadata": {
    "deletable": false,
    "nbgrader": {
     "cell_type": "code",
     "checksum": "c684a668b7fe249782a52eb737551d4e",
     "grade": false,
     "grade_id": "f_definition",
     "locked": false,
     "schema_version": 3,
     "solution": true
    }
   },
   "outputs": [],
   "source": [
    "def f(x):\n",
    "    '''Function equivalent to cos(x), should work for one argument or a numpy array'''\n",
    "    return numpy.cos(x)"
   ]
  },
  {
   "cell_type": "markdown",
   "metadata": {},
   "source": [
    "You can use the following cell to check that your code works for scalar arguments:"
   ]
  },
  {
   "cell_type": "code",
   "execution_count": 3,
   "metadata": {
    "deletable": false,
    "editable": false,
    "nbgrader": {
     "cell_type": "code",
     "checksum": "2082d9fd52c625314e4a39e59f390f6e",
     "grade": true,
     "grade_id": "f_definition_test",
     "locked": true,
     "points": 1,
     "schema_version": 3,
     "solution": false
    }
   },
   "outputs": [],
   "source": [
    "assert numpy.isclose(f(0.5),0.87758256189)"
   ]
  },
  {
   "cell_type": "markdown",
   "metadata": {},
   "source": [
    "Make sure your code also works with a numpy array:"
   ]
  },
  {
   "cell_type": "code",
   "execution_count": 4,
   "metadata": {
    "deletable": false,
    "editable": false,
    "nbgrader": {
     "cell_type": "code",
     "checksum": "70c0736ad8b19d67707ce9a4a41d1c1d",
     "grade": true,
     "grade_id": "f_definition_nparray_test",
     "locked": true,
     "points": 2,
     "schema_version": 3,
     "solution": false
    }
   },
   "outputs": [],
   "source": [
    "xs = numpy.arange(start=0.1, stop=0.7, step=0.1)\n",
    "assert numpy.isclose(\n",
    "            f(xs), \n",
    "            [0.99500417, 0.98006658, 0.95533649, 0.92106099, 0.87758256, 0.82533561]\n",
    "        ).all()"
   ]
  },
  {
   "cell_type": "markdown",
   "metadata": {},
   "source": [
    "Define the analytic derivative of the function`f` here (again, it should work both for single numbers and numpy arrays)."
   ]
  },
  {
   "cell_type": "code",
   "execution_count": 5,
   "metadata": {
    "deletable": false,
    "nbgrader": {
     "cell_type": "code",
     "checksum": "4b7fc1950515ebb0059978953e308e3c",
     "grade": false,
     "grade_id": "analytic_derivative",
     "locked": false,
     "schema_version": 3,
     "solution": true
    }
   },
   "outputs": [],
   "source": [
    "def df_analytic(x):\n",
    "    '''\n",
    "    The analytic derivative\n",
    "    '''\n",
    "    return -numpy.sin(x)"
   ]
  },
  {
   "cell_type": "code",
   "execution_count": 6,
   "metadata": {
    "deletable": false,
    "editable": false,
    "nbgrader": {
     "cell_type": "code",
     "checksum": "4283305af7a4298e0fea76222b63e8e3",
     "grade": true,
     "grade_id": "g_definition_test",
     "locked": true,
     "points": 1,
     "schema_version": 3,
     "solution": false
    }
   },
   "outputs": [],
   "source": [
    "assert numpy.isclose(df_analytic(0.5), -0.4794255386)"
   ]
  },
  {
   "cell_type": "code",
   "execution_count": 7,
   "metadata": {
    "deletable": false,
    "editable": false,
    "nbgrader": {
     "cell_type": "code",
     "checksum": "01ac909c33f00b3ae7f21d63af18108c",
     "grade": true,
     "grade_id": "g_definition_nparray_test",
     "locked": true,
     "points": 2,
     "schema_version": 3,
     "solution": false
    }
   },
   "outputs": [],
   "source": [
    "xs = numpy.arange(start=0.1, stop=0.7, step=0.1)\n",
    "assert numpy.isclose(\n",
    "            df_analytic(xs),\n",
    "            [-0.09983342, -0.19866933, -0.29552021, -0.38941834, -0.47942554,-0.56464247]\n",
    "        ).all()"
   ]
  },
  {
   "cell_type": "markdown",
   "metadata": {},
   "source": [
    "Now define the numerical derivative using the backward difference method. The function `backward_difference` takes three arguments, `f`, the function to calculate the derivative for, `x` the position to calculate the derivative at and `dx` the interval length."
   ]
  },
  {
   "cell_type": "code",
   "execution_count": 8,
   "metadata": {
    "deletable": false,
    "nbgrader": {
     "cell_type": "code",
     "checksum": "666506275ce4d793fc54d71f59a265aa",
     "grade": false,
     "grade_id": "backward_difference",
     "locked": false,
     "schema_version": 3,
     "solution": true
    }
   },
   "outputs": [],
   "source": [
    "def backward_difference(f, x, dx):\n",
    "    '''\n",
    "    This function implements the backward difference method for the \n",
    "    first derivative of the function f at position x using interval\n",
    "    dx.\n",
    "    '''\n",
    "    return (f(x)-f(x-dx))/dx"
   ]
  },
  {
   "cell_type": "code",
   "execution_count": 9,
   "metadata": {
    "deletable": false,
    "editable": false,
    "nbgrader": {
     "cell_type": "code",
     "checksum": "3abddc9169357ed6af5f0a4f20d65cb9",
     "grade": true,
     "grade_id": "backward_difference_test",
     "locked": true,
     "points": 2,
     "schema_version": 3,
     "solution": false
    }
   },
   "outputs": [],
   "source": [
    "assert numpy.isclose(\n",
    "    backward_difference(f, 0.1, 0.0001),\n",
    "    -0.09978366627194646\n",
    ")"
   ]
  },
  {
   "cell_type": "markdown",
   "metadata": {
    "deletable": false,
    "editable": false,
    "nbgrader": {
     "cell_type": "markdown",
     "checksum": "9bacab6495b93e15875a5756864d7b88",
     "grade": false,
     "grade_id": "cell-98dd708e585b083b",
     "locked": true,
     "points": 8,
     "schema_version": 3,
     "solution": false,
     "task": true
    }
   },
   "source": [
    "**Task 1:**\n",
    "\n",
    "Here is a skeleton code to plot the difference between the analytical derivative and the numerical implementation. Modify and expand it to provide a plot with three curves for the difference for a case where $dx$ is too large, about right and too small. The plot should have a legend, labelled axes and a title.\n",
    "\n",
    "You can get help about plotting on the Python handbook that you can find at:\n",
    "\n",
    "https://dmaitre.phyip3.dur.ac.uk/notes/l1python/part-5/\n"
   ]
  },
  {
   "cell_type": "code",
   "execution_count": 10,
   "metadata": {},
   "outputs": [
    {
     "data": {
      "text/plain": [
       "Text(0.5,1,'Difference between numerical and analytical derivative of cosine for varying dx')"
      ]
     },
     "execution_count": 10,
     "metadata": {},
     "output_type": "execute_result"
    },
    {
     "data": {
      "image/png": "[encoded data removed]",
      "text/plain": [
       "<Figure size 576x288 with 1 Axes>"
      ]
     },
     "metadata": {},
     "output_type": "display_data"
    }
   ],
   "source": [
    "xs = numpy.linspace(-2*numpy.pi,2*numpy.pi,100)\n",
    "df_dx_1 = backward_difference(f, xs, dx=1e-4)\n",
    "df_dx_2 = backward_difference(f, xs, dx=1e-6)\n",
    "df_dx_3 = backward_difference(f, xs, dx=1e-12)\n",
    "df_dx_analytical = df_analytic(xs)\n",
    "plt.figure(figsize=(8, 4))\n",
    "plt.plot(xs, df_dx_1 - df_dx_analytical, label = \"dx large\")\n",
    "plt.plot(xs, df_dx_2 - df_dx_analytical, label = \"dx about right\")\n",
    "plt.plot(xs, df_dx_3 - df_dx_analytical, label = \"dx small\")\n",
    "plt.xlabel(\"x\")\n",
    "plt.ylabel(\"Numerical Derrivative Innacuracy\")\n",
    "plt.legend()\n",
    "plt.title(\"Difference between numerical and analytical derivative of cosine for varying dx\")"
   ]
  },
  {
   "cell_type": "markdown",
   "metadata": {},
   "source": [
    "**Task 2: ** \n",
    "\n",
    "Describe in the text box below why the numerical method looses accuracy in the case where\n",
    "$\\Delta x$ is too small and the case where $\\Delta x$ is too large. (Double-click on \"YOUR ANSWER HERE\" to edit.)\n"
   ]
  },
  {
   "cell_type": "markdown",
   "metadata": {
    "deletable": false,
    "nbgrader": {
     "cell_type": "markdown",
     "checksum": "606635d14bb3842f745cb0c7a1feff71",
     "grade": true,
     "grade_id": "textAnswer",
     "locked": false,
     "points": 4,
     "schema_version": 3,
     "solution": true
    }
   },
   "source": [
    "When dx is too small the method loses accuracy because of the restrictions of the numerical precision of the computer, hence the irregular inaccuracies. When dx is too large the method loses accuracy as the error is roughly proportional to dx, so a larger dx would lead to a larger error in the results."
   ]
  },
  {
   "cell_type": "code",
   "execution_count": 11,
   "metadata": {},
   "outputs": [
    {
     "name": "stdout",
     "output_type": "stream",
     "text": [
      "[-6.28318531 -6.15625227 -6.02931923 -5.9023862  -5.77545316 -5.64852012\n",
      " -5.52158709 -5.39465405 -5.26772102 -5.14078798 -5.01385494 -4.88692191\n",
      " -4.75998887 -4.63305583 -4.5061228  -4.37918976 -4.25225672 -4.12532369\n",
      " -3.99839065 -3.87145761 -3.74452458 -3.61759154 -3.4906585  -3.36372547\n",
      " -3.23679243 -3.10985939 -2.98292636 -2.85599332 -2.72906028 -2.60212725\n",
      " -2.47519421 -2.34826118 -2.22132814 -2.0943951  -1.96746207 -1.84052903\n",
      " -1.71359599 -1.58666296 -1.45972992 -1.33279688 -1.20586385 -1.07893081\n",
      " -0.95199777 -0.82506474 -0.6981317  -0.57119866 -0.44426563 -0.31733259\n",
      " -0.19039955 -0.06346652  0.06346652  0.19039955  0.31733259  0.44426563\n",
      "  0.57119866  0.6981317   0.82506474  0.95199777  1.07893081  1.20586385\n",
      "  1.33279688  1.45972992  1.58666296  1.71359599  1.84052903  1.96746207\n",
      "  2.0943951   2.22132814  2.34826118  2.47519421  2.60212725  2.72906028\n",
      "  2.85599332  2.98292636  3.10985939  3.23679243  3.36372547  3.4906585\n",
      "  3.61759154  3.74452458  3.87145761  3.99839065  4.12532369  4.25225672\n",
      "  4.37918976  4.5061228   4.63305583  4.75998887  4.88692191  5.01385494\n",
      "  5.14078798  5.26772102  5.39465405  5.52158709  5.64852012  5.77545316\n",
      "  5.9023862   6.02931923  6.15625227  6.28318531]\n"
     ]
    }
   ],
   "source": [
    "print(xs)"
   ]
  },
  {
   "cell_type": "code",
   "execution_count": 12,
   "metadata": {},
   "outputs": [
    {
     "name": "stdout",
     "output_type": "stream",
     "text": [
      "[ 4.99999997e-05 -1.26542856e-01 -2.51099589e-01 -3.71616037e-01\n",
      " -4.86153043e-01 -5.92867665e-01 -6.90042824e-01 -7.76114935e-01\n",
      " -8.49699067e-01 -9.09611223e-01 -9.54887394e-01 -9.84799069e-01\n",
      " -9.98864958e-01 -9.96858737e-01 -9.78812685e-01 -9.45017171e-01\n",
      " -8.96015976e-01 -8.32597549e-01 -7.55782316e-01 -6.66806263e-01\n",
      " -5.67101047e-01 -4.58270963e-01 -3.42067127e-01 -2.20359304e-01\n",
      " -9.51058167e-02  3.16779586e-02  1.57952024e-01  2.81684582e-01\n",
      "  4.00884729e-01  5.13634492e-01  6.18119683e-01  7.12659096e-01\n",
      "  7.95731559e-01  8.66000402e-01  9.22334975e-01  9.63828833e-01\n",
      "  9.89814324e-01  9.99873333e-01  9.93844005e-01  9.71823355e-01\n",
      "  9.34165703e-01  8.81476976e-01  8.14604954e-01  7.34625633e-01\n",
      "  6.42825911e-01  5.40682879e-01  4.29840058e-01  3.12080949e-01\n",
      "  1.89300340e-01  6.34738189e-02 -6.33740202e-02 -1.89202148e-01\n",
      " -3.11985942e-01 -4.29749765e-01 -5.40598754e-01 -6.42749306e-01\n",
      " -7.34557782e-01 -8.14546948e-01 -8.81429748e-01 -9.34130014e-01\n",
      " -9.71799779e-01 -9.93832921e-01 -9.99874919e-01 -9.89828556e-01\n",
      " -9.63855481e-01 -9.22373610e-01 -8.66050402e-01 -7.95792120e-01\n",
      " -7.12729244e-01 -6.18198288e-01 -5.13720290e-01 -4.00976340e-01\n",
      " -2.81780531e-01 -1.58050768e-01 -3.17779083e-02  9.50062695e-02\n",
      "  2.20261761e-01  3.41973158e-01  4.58182079e-01  5.67018679e-01\n",
      "  6.66731736e-01  7.55716830e-01  8.32542157e-01  8.95971569e-01\n",
      "  9.44984464e-01  9.78792204e-01  9.96850812e-01  9.98869717e-01\n",
      "  9.84816434e-01  9.54917086e-01  9.09652765e-01  8.49751790e-01\n",
      "  7.76177991e-01  6.90115197e-01  5.92948192e-01  4.86240428e-01\n",
      "  3.71708873e-01  2.51196384e-01  1.26642051e-01  4.99999997e-05]\n"
     ]
    }
   ],
   "source": [
    "print(df_dx_1)"
   ]
  },
  {
   "cell_type": "code",
   "execution_count": null,
   "metadata": {},
   "outputs": [],
   "source": []
  }
 ],
 "metadata": {
  "kernelspec": {
   "display_name": "Python 3",
   "language": "python",
   "name": "python3"
  },
  "language_info": {
   "codemirror_mode": {
    "name": "ipython",
    "version": 3
   },
   "file_extension": ".py",
   "mimetype": "text/x-python",
   "name": "python",
   "nbconvert_exporter": "python",
   "pygments_lexer": "ipython3",
   "version": "3.6.3"
  }
 },
 "nbformat": 4,
 "nbformat_minor": 2
}
