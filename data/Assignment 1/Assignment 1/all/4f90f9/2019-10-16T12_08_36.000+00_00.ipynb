{
 "cells": [
  {
   "cell_type": "markdown",
   "metadata": {},
   "source": [
    "# Assignment 1"
   ]
  },
  {
   "cell_type": "markdown",
   "metadata": {},
   "source": [
    "First we need to import a few modules, execute the cell below:"
   ]
  },
  {
   "cell_type": "code",
   "execution_count": 2,
   "metadata": {},
   "outputs": [],
   "source": [
    "import numpy \n",
    "import matplotlib.pyplot as plt\n",
    "%matplotlib inline"
   ]
  },
  {
   "cell_type": "markdown",
   "metadata": {},
   "source": [
    "Define a function `f` that is equivalent to $f(x)=\\cos(x)$. It should work both for single arguments and `numpy` arrays."
   ]
  },
  {
   "cell_type": "code",
   "execution_count": 3,
   "metadata": {
    "deletable": false,
    "nbgrader": {
     "cell_type": "code",
     "checksum": "c684a668b7fe249782a52eb737551d4e",
     "grade": false,
     "grade_id": "f_definition",
     "locked": false,
     "schema_version": 3,
     "solution": true
    }
   },
   "outputs": [
    {
     "name": "stdout",
     "output_type": "stream",
     "text": [
      "0.8775825618903728\n"
     ]
    },
    {
     "data": {
      "text/plain": [
       "0.8775825618903728"
      ]
     },
     "execution_count": 3,
     "metadata": {},
     "output_type": "execute_result"
    }
   ],
   "source": [
    "def f(x):\n",
    "    cos = numpy.cos(x)\n",
    "    print(cos)\n",
    "    return cos;\n",
    "f(0.5)"
   ]
  },
  {
   "cell_type": "markdown",
   "metadata": {},
   "source": [
    "You can use the following cell to check that your code works for scalar arguments:"
   ]
  },
  {
   "cell_type": "code",
   "execution_count": 4,
   "metadata": {
    "deletable": false,
    "editable": false,
    "nbgrader": {
     "cell_type": "code",
     "checksum": "2082d9fd52c625314e4a39e59f390f6e",
     "grade": true,
     "grade_id": "f_definition_test",
     "locked": true,
     "points": 1,
     "schema_version": 3,
     "solution": false
    }
   },
   "outputs": [
    {
     "name": "stdout",
     "output_type": "stream",
     "text": [
      "0.8775825618903728\n"
     ]
    }
   ],
   "source": [
    "assert numpy.isclose(f(0.5),0.87758256189)"
   ]
  },
  {
   "cell_type": "markdown",
   "metadata": {},
   "source": [
    "Make sure your code also works with a numpy array:"
   ]
  },
  {
   "cell_type": "code",
   "execution_count": 5,
   "metadata": {
    "deletable": false,
    "editable": false,
    "nbgrader": {
     "cell_type": "code",
     "checksum": "70c0736ad8b19d67707ce9a4a41d1c1d",
     "grade": true,
     "grade_id": "f_definition_nparray_test",
     "locked": true,
     "points": 2,
     "schema_version": 3,
     "solution": false
    }
   },
   "outputs": [
    {
     "name": "stdout",
     "output_type": "stream",
     "text": [
      "[0.99500417 0.98006658 0.95533649 0.92106099 0.87758256 0.82533561]\n"
     ]
    }
   ],
   "source": [
    "xs = numpy.arange(start=0.1, stop=0.7, step=0.1)\n",
    "assert numpy.isclose(\n",
    "            f(xs), \n",
    "            [0.99500417, 0.98006658, 0.95533649, 0.92106099, 0.87758256, 0.82533561]\n",
    "        ).all()"
   ]
  },
  {
   "cell_type": "markdown",
   "metadata": {},
   "source": [
    "Define the analytic derivative of the function`f` here (again, it should work both for single numbers and numpy arrays)."
   ]
  },
  {
   "cell_type": "code",
   "execution_count": 6,
   "metadata": {
    "deletable": false,
    "nbgrader": {
     "cell_type": "code",
     "checksum": "4b7fc1950515ebb0059978953e308e3c",
     "grade": false,
     "grade_id": "analytic_derivative",
     "locked": false,
     "schema_version": 3,
     "solution": true
    }
   },
   "outputs": [],
   "source": [
    "def df_analytic(x):\n",
    "    diff = -(numpy.sin(x))\n",
    "    print(diff)\n",
    "    return diff;"
   ]
  },
  {
   "cell_type": "code",
   "execution_count": 7,
   "metadata": {
    "deletable": false,
    "editable": false,
    "nbgrader": {
     "cell_type": "code",
     "checksum": "4283305af7a4298e0fea76222b63e8e3",
     "grade": true,
     "grade_id": "g_definition_test",
     "locked": true,
     "points": 1,
     "schema_version": 3,
     "solution": false
    }
   },
   "outputs": [
    {
     "name": "stdout",
     "output_type": "stream",
     "text": [
      "-0.479425538604203\n"
     ]
    }
   ],
   "source": [
    "assert numpy.isclose(df_analytic(0.5), -0.4794255386)"
   ]
  },
  {
   "cell_type": "code",
   "execution_count": 8,
   "metadata": {
    "deletable": false,
    "editable": false,
    "nbgrader": {
     "cell_type": "code",
     "checksum": "01ac909c33f00b3ae7f21d63af18108c",
     "grade": true,
     "grade_id": "g_definition_nparray_test",
     "locked": true,
     "points": 2,
     "schema_version": 3,
     "solution": false
    }
   },
   "outputs": [
    {
     "name": "stdout",
     "output_type": "stream",
     "text": [
      "[-0.09983342 -0.19866933 -0.29552021 -0.38941834 -0.47942554 -0.56464247]\n"
     ]
    }
   ],
   "source": [
    "xs = numpy.arange(start=0.1, stop=0.7, step=0.1)\n",
    "assert numpy.isclose(\n",
    "            df_analytic(xs),\n",
    "            [-0.09983342, -0.19866933, -0.29552021, -0.38941834, -0.47942554,-0.56464247]\n",
    "        ).all()"
   ]
  },
  {
   "cell_type": "markdown",
   "metadata": {},
   "source": [
    "Now define the numerical derivative using the backward difference method. The function `backward_difference` takes three arguments, `f`, the function to calculate the derivative for, `x` the position to calculate the derivative at and `dx` the interval length."
   ]
  },
  {
   "cell_type": "code",
   "execution_count": 9,
   "metadata": {
    "deletable": false,
    "nbgrader": {
     "cell_type": "code",
     "checksum": "666506275ce4d793fc54d71f59a265aa",
     "grade": false,
     "grade_id": "backward_difference",
     "locked": false,
     "schema_version": 3,
     "solution": true
    }
   },
   "outputs": [],
   "source": [
    "def backward_difference(f, x, dx):\n",
    "    '''\n",
    "    This function implements the backward difference method for the \n",
    "    first derivative of the function f at position x using interval\n",
    "    dx.\n",
    "    '''\n",
    "    thing = (f(x)-f(x-dx))/dx\n",
    "    print(thing)\n",
    "    return thing;\n",
    "         "
   ]
  },
  {
   "cell_type": "code",
   "execution_count": 10,
   "metadata": {
    "deletable": false,
    "editable": false,
    "nbgrader": {
     "cell_type": "code",
     "checksum": "3abddc9169357ed6af5f0a4f20d65cb9",
     "grade": true,
     "grade_id": "backward_difference_test",
     "locked": true,
     "points": 2,
     "schema_version": 3,
     "solution": false
    }
   },
   "outputs": [
    {
     "name": "stdout",
     "output_type": "stream",
     "text": [
      "0.9950041652780258\n",
      "0.995014143644653\n",
      "-0.09978366627194646\n"
     ]
    }
   ],
   "source": [
    "assert numpy.isclose(\n",
    "    backward_difference(f, 0.1, 0.0001),\n",
    "    -0.09978366627194646\n",
    ")"
   ]
  },
  {
   "cell_type": "markdown",
   "metadata": {
    "deletable": false,
    "editable": false,
    "nbgrader": {
     "cell_type": "markdown",
     "checksum": "9bacab6495b93e15875a5756864d7b88",
     "grade": false,
     "grade_id": "cell-98dd708e585b083b",
     "locked": true,
     "points": 8,
     "schema_version": 3,
     "solution": false,
     "task": true
    }
   },
   "source": [
    "**Task 1:**\n",
    "\n",
    "Here is a skeleton code to plot the difference between the analytical derivative and the numerical implementation. Modify and expand it to provide a plot with three curves for the difference for a case where $dx$ is too large, about right and too small. The plot should have a legend, labelled axes and a title.\n",
    "\n",
    "You can get help about plotting on the Python handbook that you can find at:\n",
    "\n",
    "https://dmaitre.phyip3.dur.ac.uk/notes/l1python/part-5/\n"
   ]
  },
  {
   "cell_type": "code",
   "execution_count": 18,
   "metadata": {},
   "outputs": [
    {
     "name": "stdout",
     "output_type": "stream",
     "text": [
      "[ 1.          0.99195481  0.9679487   0.92836793  0.87384938  0.80527026\n",
      "  0.72373404  0.63055267  0.52722547  0.41541501  0.29692038  0.17364818\n",
      "  0.04758192 -0.07924996 -0.20480667 -0.32706796 -0.44406661 -0.55392006\n",
      " -0.65486073 -0.74526445 -0.82367658 -0.88883545 -0.93969262 -0.97542979\n",
      " -0.99547192 -0.99949654 -0.98743889 -0.95949297 -0.91610846 -0.85798341\n",
      " -0.78605309 -0.70147489 -0.60560969 -0.5        -0.38634513 -0.26647381\n",
      " -0.14231484 -0.01586596  0.1108382   0.23575894  0.35688622  0.47227107\n",
      "  0.58005691  0.67850941  0.76604444  0.84125353  0.90292654  0.95007112\n",
      "  0.9819287   0.99798668  0.99798668  0.9819287   0.95007112  0.90292654\n",
      "  0.84125353  0.76604444  0.67850941  0.58005691  0.47227107  0.35688622\n",
      "  0.23575894  0.1108382  -0.01586596 -0.14231484 -0.26647381 -0.38634513\n",
      " -0.5        -0.60560969 -0.70147489 -0.78605309 -0.85798341 -0.91610846\n",
      " -0.95949297 -0.98743889 -0.99949654 -0.99547192 -0.97542979 -0.93969262\n",
      " -0.88883545 -0.82367658 -0.74526445 -0.65486073 -0.55392006 -0.44406661\n",
      " -0.32706796 -0.20480667 -0.07924996  0.04758192  0.17364818  0.29692038\n",
      "  0.41541501  0.52722547  0.63055267  0.72373404  0.80527026  0.87384938\n",
      "  0.92836793  0.9679487   0.99195481  1.        ]\n",
      "[ 1.          0.99196747  0.96797381  0.92840509  0.87389799  0.80532954\n",
      "  0.72380304  0.63063028  0.52731044  0.41550597  0.29701586  0.17374666\n",
      "  0.0476818  -0.07915027 -0.20470879 -0.32697346 -0.44397701 -0.5538368\n",
      " -0.65478516 -0.74519777 -0.82361987 -0.88878962 -0.93965841 -0.97540775\n",
      " -0.99546241 -0.99949971 -0.98745468 -0.95952114 -0.91614855 -0.85803478\n",
      " -0.78611491 -0.70154615 -0.60568926 -0.5000866  -0.38643736 -0.2665702\n",
      " -0.14241382 -0.01596595  0.11073882  0.23566175  0.35679281  0.47218293\n",
      "  0.57997545  0.67843595  0.76598016  0.84119946  0.90288355  0.95003991\n",
      "  0.98190977  0.99798033  0.99799301  0.98194762  0.95010232  0.90296951\n",
      "  0.84130759  0.76610872  0.67858287  0.58013836  0.47235922  0.35697963\n",
      "  0.23585612  0.11093758 -0.01576598 -0.14221586 -0.26637743 -0.38625289\n",
      " -0.49991339 -0.60553011 -0.70140361 -0.78599127 -0.85793204 -0.91606836\n",
      " -0.9594648  -0.98742308 -0.99949336 -0.99548142 -0.97545181 -0.93972682\n",
      " -0.88888127 -0.82373328 -0.74533112 -0.65493631 -0.55400332 -0.44415621\n",
      " -0.32716246 -0.20490455 -0.07934964  0.04748203  0.1735497   0.29682488\n",
      "  0.41532405  0.52714049  0.63047505  0.72366503  0.80521096  0.87380075\n",
      "  0.92833076  0.96792358  0.99194215  1.        ]\n",
      "[ 4.99999997e-05 -1.26542856e-01 -2.51099589e-01 -3.71616037e-01\n",
      " -4.86153043e-01 -5.92867665e-01 -6.90042824e-01 -7.76114935e-01\n",
      " -8.49699067e-01 -9.09611223e-01 -9.54887394e-01 -9.84799069e-01\n",
      " -9.98864958e-01 -9.96858737e-01 -9.78812685e-01 -9.45017171e-01\n",
      " -8.96015976e-01 -8.32597549e-01 -7.55782316e-01 -6.66806263e-01\n",
      " -5.67101047e-01 -4.58270963e-01 -3.42067127e-01 -2.20359304e-01\n",
      " -9.51058167e-02  3.16779586e-02  1.57952024e-01  2.81684582e-01\n",
      "  4.00884729e-01  5.13634492e-01  6.18119683e-01  7.12659096e-01\n",
      "  7.95731559e-01  8.66000402e-01  9.22334975e-01  9.63828833e-01\n",
      "  9.89814324e-01  9.99873333e-01  9.93844005e-01  9.71823355e-01\n",
      "  9.34165703e-01  8.81476976e-01  8.14604954e-01  7.34625633e-01\n",
      "  6.42825911e-01  5.40682879e-01  4.29840058e-01  3.12080949e-01\n",
      "  1.89300340e-01  6.34738189e-02 -6.33740202e-02 -1.89202148e-01\n",
      " -3.11985942e-01 -4.29749765e-01 -5.40598754e-01 -6.42749306e-01\n",
      " -7.34557782e-01 -8.14546948e-01 -8.81429748e-01 -9.34130014e-01\n",
      " -9.71799779e-01 -9.93832921e-01 -9.99874919e-01 -9.89828556e-01\n",
      " -9.63855481e-01 -9.22373610e-01 -8.66050402e-01 -7.95792120e-01\n",
      " -7.12729244e-01 -6.18198288e-01 -5.13720290e-01 -4.00976340e-01\n",
      " -2.81780531e-01 -1.58050768e-01 -3.17779083e-02  9.50062695e-02\n",
      "  2.20261761e-01  3.41973158e-01  4.58182079e-01  5.67018679e-01\n",
      "  6.66731736e-01  7.55716830e-01  8.32542157e-01  8.95971569e-01\n",
      "  9.44984464e-01  9.78792204e-01  9.96850812e-01  9.98869717e-01\n",
      "  9.84816434e-01  9.54917086e-01  9.09652765e-01  8.49751790e-01\n",
      "  7.76177991e-01  6.90115197e-01  5.92948192e-01  4.86240428e-01\n",
      "  3.71708873e-01  2.51196384e-01  1.26642051e-01  4.99999997e-05]\n",
      "[ 1.          0.99195481  0.9679487   0.92836793  0.87384938  0.80527026\n",
      "  0.72373404  0.63055267  0.52722547  0.41541501  0.29692038  0.17364818\n",
      "  0.04758192 -0.07924996 -0.20480667 -0.32706796 -0.44406661 -0.55392006\n",
      " -0.65486073 -0.74526445 -0.82367658 -0.88883545 -0.93969262 -0.97542979\n",
      " -0.99547192 -0.99949654 -0.98743889 -0.95949297 -0.91610846 -0.85798341\n",
      " -0.78605309 -0.70147489 -0.60560969 -0.5        -0.38634513 -0.26647381\n",
      " -0.14231484 -0.01586596  0.1108382   0.23575894  0.35688622  0.47227107\n",
      "  0.58005691  0.67850941  0.76604444  0.84125353  0.90292654  0.95007112\n",
      "  0.9819287   0.99798668  0.99798668  0.9819287   0.95007112  0.90292654\n",
      "  0.84125353  0.76604444  0.67850941  0.58005691  0.47227107  0.35688622\n",
      "  0.23575894  0.1108382  -0.01586596 -0.14231484 -0.26647381 -0.38634513\n",
      " -0.5        -0.60560969 -0.70147489 -0.78605309 -0.85798341 -0.91610846\n",
      " -0.95949297 -0.98743889 -0.99949654 -0.99547192 -0.97542979 -0.93969262\n",
      " -0.88883545 -0.82367658 -0.74526445 -0.65486073 -0.55392006 -0.44406661\n",
      " -0.32706796 -0.20480667 -0.07924996  0.04758192  0.17364818  0.29692038\n",
      "  0.41541501  0.52722547  0.63055267  0.72373404  0.80527026  0.87384938\n",
      "  0.92836793  0.9679487   0.99195481  1.        ]\n",
      "[ 1.          0.99195481  0.9679487   0.92836793  0.87384938  0.80527026\n",
      "  0.72373404  0.63055267  0.52722547  0.41541501  0.29692038  0.17364818\n",
      "  0.04758192 -0.07924996 -0.20480667 -0.32706796 -0.44406661 -0.55392006\n",
      " -0.65486073 -0.74526445 -0.82367658 -0.88883545 -0.93969262 -0.97542979\n",
      " -0.99547192 -0.99949654 -0.98743889 -0.95949297 -0.91610846 -0.85798341\n",
      " -0.78605309 -0.70147489 -0.60560969 -0.5        -0.38634513 -0.26647381\n",
      " -0.14231484 -0.01586596  0.1108382   0.23575894  0.35688622  0.47227107\n",
      "  0.58005691  0.67850941  0.76604444  0.84125353  0.90292654  0.95007112\n",
      "  0.9819287   0.99798668  0.99798668  0.9819287   0.95007112  0.90292654\n",
      "  0.84125353  0.76604444  0.67850941  0.58005691  0.47227107  0.35688622\n",
      "  0.23575894  0.1108382  -0.01586596 -0.14231484 -0.26647381 -0.38634513\n",
      " -0.5        -0.60560969 -0.70147489 -0.78605309 -0.85798341 -0.91610846\n",
      " -0.95949297 -0.98743889 -0.99949654 -0.99547192 -0.97542979 -0.93969262\n",
      " -0.88883545 -0.82367658 -0.74526445 -0.65486073 -0.55392006 -0.44406661\n",
      " -0.32706796 -0.20480667 -0.07924996  0.04758192  0.17364818  0.29692038\n",
      "  0.41541501  0.52722547  0.63055267  0.72373404  0.80527026  0.87384938\n",
      "  0.92836793  0.9679487   0.99195481  1.        ]\n",
      "[ 0.         -0.12656542 -0.25202063 -0.37303494 -0.48738791 -0.59507954\n",
      " -0.69277917 -0.77937656 -0.85265128 -0.91260333 -0.95812247 -0.98837605\n",
      " -1.002462   -1.0005885  -0.98226982 -0.94813046 -0.89928065 -0.83599794\n",
      " -0.75495166 -0.66613381 -0.56621374 -0.45741189 -0.34194869 -0.21982416\n",
      " -0.09547918  0.03219647  0.15765167  0.28199665  0.40079051  0.51292304\n",
      "  0.617284    0.71276318  0.79491969  0.86541885  0.92148511  0.96311847\n",
      "  0.98893116  0.99909664  0.99295572  0.97116759  0.93369756  0.88040686\n",
      "  0.8149037   0.73496764  0.64281913  0.54067861  0.42965631  0.31197267\n",
      "  0.18873791  0.06328271 -0.06328271 -0.18873791 -0.31197267 -0.42965631\n",
      " -0.54067861 -0.64281913 -0.73496764 -0.8149037  -0.88096197 -0.93314245\n",
      " -0.97089004 -0.9930945  -0.99906194 -0.98920871 -0.96311847 -0.92148511\n",
      " -0.86597396 -0.79491969 -0.71165296 -0.617284   -0.51292304 -0.40079051\n",
      " -0.28088643 -0.15765167 -0.03219647  0.09436896  0.21982416  0.34194869\n",
      "  0.45741189  0.56621374  0.66613381  0.75495166  0.83599794  0.89928065\n",
      "  0.94868557  0.98226982  1.00044972  1.00253139  0.98837605  0.95867758\n",
      "  0.91260333  0.85265128  0.77826634  0.69277917  0.59507954  0.48849813\n",
      "  0.37303494  0.25202063  0.12767565  0.        ]\n",
      "[ 1.          0.99195481  0.9679487   0.92836793  0.87384938  0.80527026\n",
      "  0.72373404  0.63055267  0.52722547  0.41541501  0.29692038  0.17364818\n",
      "  0.04758192 -0.07924996 -0.20480667 -0.32706796 -0.44406661 -0.55392006\n",
      " -0.65486073 -0.74526445 -0.82367658 -0.88883545 -0.93969262 -0.97542979\n",
      " -0.99547192 -0.99949654 -0.98743889 -0.95949297 -0.91610846 -0.85798341\n",
      " -0.78605309 -0.70147489 -0.60560969 -0.5        -0.38634513 -0.26647381\n",
      " -0.14231484 -0.01586596  0.1108382   0.23575894  0.35688622  0.47227107\n",
      "  0.58005691  0.67850941  0.76604444  0.84125353  0.90292654  0.95007112\n",
      "  0.9819287   0.99798668  0.99798668  0.9819287   0.95007112  0.90292654\n",
      "  0.84125353  0.76604444  0.67850941  0.58005691  0.47227107  0.35688622\n",
      "  0.23575894  0.1108382  -0.01586596 -0.14231484 -0.26647381 -0.38634513\n",
      " -0.5        -0.60560969 -0.70147489 -0.78605309 -0.85798341 -0.91610846\n",
      " -0.95949297 -0.98743889 -0.99949654 -0.99547192 -0.97542979 -0.93969262\n",
      " -0.88883545 -0.82367658 -0.74526445 -0.65486073 -0.55392006 -0.44406661\n",
      " -0.32706796 -0.20480667 -0.07924996  0.04758192  0.17364818  0.29692038\n",
      "  0.41541501  0.52722547  0.63055267  0.72373404  0.80527026  0.87384938\n",
      "  0.92836793  0.9679487   0.99195481  1.        ]\n",
      "[ 0.99995     0.99317112  0.97041174  0.93203808  0.87866757  0.81115897\n",
      "  0.73059853  0.63828247  0.53569622  0.42449041  0.30645439  0.18348741\n",
      "  0.05756804 -0.06927761 -0.19500857 -0.31760176 -0.43508462 -0.54556681\n",
      " -0.64727062 -0.73855961 -0.81796489 -0.88420882 -0.93622549 -0.97317795\n",
      " -0.9944716  -0.99976384 -0.9889695  -0.96226228 -0.92007189 -0.8630772\n",
      " -0.79219528 -0.70856664 -0.61353689 -0.50863511 -0.3955492  -0.27609875\n",
      " -0.15220577 -0.02586375  0.10089444  0.22602919  0.34752705  0.46343307\n",
      "  0.57188228  0.67112969  0.75957837  0.83580515  0.89858351  0.94690333\n",
      "  0.97998712  0.99730255  0.99857101  0.98377208  0.9531439   0.90717927\n",
      "  0.84661779  0.77243391  0.68582128  0.58817353  0.48106185  0.3662097\n",
      "  0.2454651   0.12077088 -0.0058666  -0.13240967 -0.25682223 -0.37710242\n",
      " -0.49131489 -0.59762192 -0.69431299 -0.77983231 -0.85280383 -0.91205341\n",
      " -0.95662772 -0.98580953 -0.99912929 -0.99637269 -0.97758408 -0.94306578\n",
      " -0.8933732  -0.8293059  -0.75189477 -0.66238536 -0.56221793 -0.4530042\n",
      " -0.33650146 -0.21458429 -0.08921438  0.03759103  0.16379158  0.28735667\n",
      "  0.40629807  0.51870199  0.6227598   0.71679718  0.79930101  0.8689438\n",
      "  0.92460495  0.96538887  0.99063931  0.99995   ]\n",
      "[ 0.00499996 -0.12163061 -0.2463041  -0.36701446 -0.48181942 -0.58887173\n",
      " -0.68644887 -0.77298079 -0.84707516 -0.90753978 -0.95340174 -0.98392311\n",
      " -0.99861278 -0.99723441 -0.97981016 -0.94662039 -0.89819916 -0.83532556\n",
      " -0.75901125 -0.67048418 -0.57116876 -0.46266302 -0.34671287 -0.22518397\n",
      " -0.10003178  0.02672996  0.15306161  0.27693044  0.39634335  0.50937895\n",
      "  0.61421845  0.70917495  0.79272055  0.86351099  0.92040721  0.96249374\n",
      "  0.98909338  0.99977813  0.99437609  0.97297416  0.93591671  0.88380001\n",
      "  0.81746264  0.73797198  0.64660709  0.54483804  0.43430234  0.31677856\n",
      "  0.19415769  0.06841275 -0.05843297 -0.18433849 -0.30727793 -0.42527315\n",
      " -0.53642557 -0.63894671 -0.73118695 -0.81166212 -0.87907734 -0.93234787\n",
      " -0.97061659 -0.99326771 -0.99993679 -0.99051651 -0.96515845 -0.92427063\n",
      " -0.86851095 -0.7987766  -0.71618964 -0.62207892 -0.51795871 -0.40550436\n",
      " -0.28652529 -0.16293592 -0.03672485  0.09007714  0.21542975  0.33731602\n",
      "  0.45377474  0.56293206  0.6630316   0.7524627   0.8297864   0.89375853\n",
      "  0.94334974  0.97776211  0.99644192  0.9990886   0.98565957  0.95637092\n",
      "  0.91169389  0.85234737  0.77928627  0.69368615  0.59692437  0.49055784\n",
      "  0.37629806  0.2559835   0.13155008  0.00499996]\n",
      "[-2.44929360e-16 -1.26592454e-01 -2.51147987e-01 -3.71662456e-01\n",
      " -4.86196736e-01 -5.92907929e-01 -6.90079011e-01 -7.76146464e-01\n",
      " -8.49725430e-01 -9.09631995e-01 -9.54902241e-01 -9.84807753e-01\n",
      " -9.98867339e-01 -9.96854776e-01 -9.78802446e-01 -9.45000819e-01\n",
      " -8.95993774e-01 -8.32569855e-01 -7.55749574e-01 -6.66769001e-01\n",
      " -5.67059864e-01 -4.58226522e-01 -3.42020143e-01 -2.20310533e-01\n",
      " -9.50560433e-02  3.17279335e-02  1.58001396e-01  2.81732557e-01\n",
      "  4.00930535e-01  5.13677392e-01  6.18158986e-01  7.12694171e-01\n",
      "  7.95761841e-01  8.66025404e-01  9.22354294e-01  9.63842159e-01\n",
      "  9.89821442e-01  9.99874128e-01  9.93838464e-01  9.71811568e-01\n",
      "  9.34147860e-01  8.81453363e-01  8.14575952e-01  7.34591709e-01\n",
      "  6.42787610e-01  5.40640817e-01  4.29794912e-01  3.12033446e-01\n",
      "  1.89251244e-01  6.34239197e-02 -6.34239197e-02 -1.89251244e-01\n",
      " -3.12033446e-01 -4.29794912e-01 -5.40640817e-01 -6.42787610e-01\n",
      " -7.34591709e-01 -8.14575952e-01 -8.81453363e-01 -9.34147860e-01\n",
      " -9.71811568e-01 -9.93838464e-01 -9.99874128e-01 -9.89821442e-01\n",
      " -9.63842159e-01 -9.22354294e-01 -8.66025404e-01 -7.95761841e-01\n",
      " -7.12694171e-01 -6.18158986e-01 -5.13677392e-01 -4.00930535e-01\n",
      " -2.81732557e-01 -1.58001396e-01 -3.17279335e-02  9.50560433e-02\n",
      "  2.20310533e-01  3.42020143e-01  4.58226522e-01  5.67059864e-01\n",
      "  6.66769001e-01  7.55749574e-01  8.32569855e-01  8.95993774e-01\n",
      "  9.45000819e-01  9.78802446e-01  9.96854776e-01  9.98867339e-01\n",
      "  9.84807753e-01  9.54902241e-01  9.09631995e-01  8.49725430e-01\n",
      "  7.76146464e-01  6.90079011e-01  5.92907929e-01  4.86196736e-01\n",
      "  3.71662456e-01  2.51147987e-01  1.26592454e-01  2.44929360e-16]\n"
     ]
    },
    {
     "data": {
      "image/png": "[encoded data removed]",
      "text/plain": [
       "<Figure size 576x288 with 1 Axes>"
      ]
     },
     "metadata": {},
     "output_type": "display_data"
    }
   ],
   "source": [
    "xs = numpy.linspace(-2*numpy.pi,2*numpy.pi,100)\n",
    "df_dx_1 = backward_difference(f, xs, dx=1e-4)\n",
    "df_dx_2 = backward_difference(f, xs, dx=1e-13)\n",
    "df_dx_3 = backward_difference(f,xs, dx = 1e-2)\n",
    "df_dx_analytical = df_analytic(xs)\n",
    "plt.figure(figsize=(8, 4))\n",
    "plt.plot(xs, df_dx_1 - df_dx_analytical, label = 'about right dx value')\n",
    "plt.plot(xs, df_dx_2 - df_dx_analytical, label = 'too small dx value')\n",
    "plt.plot(xs, df_dx_3 - df_dx_analytical, label = 'too large dx value')\n",
    "plt.xlabel('x values')\n",
    "plt.ylabel('numerical derivative - analytical derivative')\n",
    "plt.title('A Graph to Show the Difference Between the Analytical and Numerical Derivatives of cos(x)')\n",
    "plt.legend(loc = 'upper left')\n",
    "plt.show()\n",
    "\n"
   ]
  },
  {
   "cell_type": "markdown",
   "metadata": {},
   "source": [
    "**Task 2: ** \n",
    "\n",
    "Describe in the text box below why the numerical method looses accuracy in the case where\n",
    "$\\Delta x$ is too small and the case where $\\Delta x$ is too large. (Double-click on \"YOUR ANSWER HERE\" to edit.)\n"
   ]
  },
  {
   "cell_type": "markdown",
   "metadata": {
    "deletable": false,
    "nbgrader": {
     "cell_type": "markdown",
     "checksum": "606635d14bb3842f745cb0c7a1feff71",
     "grade": true,
     "grade_id": "textAnswer",
     "locked": false,
     "points": 4,
     "schema_version": 3,
     "solution": true
    }
   },
   "source": [
    "\"The error on the backward difference method is approximately proportional to dx, so if dx is too large the error of the numerical method will be large compared to the error from a value used that is about right. Also, if the value is too small, as it is a numerical method, the number used will not avoid numerical round off errors which creates an error larger than that for an appropriately sized number\" "
   ]
  },
  {
   "cell_type": "code",
   "execution_count": null,
   "metadata": {},
   "outputs": [],
   "source": []
  }
 ],
 "metadata": {
  "kernelspec": {
   "display_name": "Python 3",
   "language": "python",
   "name": "python3"
  },
  "language_info": {
   "codemirror_mode": {
    "name": "ipython",
    "version": 3
   },
   "file_extension": ".py",
   "mimetype": "text/x-python",
   "name": "python",
   "nbconvert_exporter": "python",
   "pygments_lexer": "ipython3",
   "version": "3.6.3"
  }
 },
 "nbformat": 4,
 "nbformat_minor": 2
}
