{
 "cells": [
  {
   "cell_type": "markdown",
   "metadata": {},
   "source": [
    "# Assignment 1"
   ]
  },
  {
   "cell_type": "markdown",
   "metadata": {},
   "source": [
    "First we need to import a few modules, execute the cell below:"
   ]
  },
  {
   "cell_type": "code",
   "execution_count": 3,
   "metadata": {},
   "outputs": [],
   "source": [
    "import numpy\n",
    "import matplotlib.pyplot as plt\n",
    "%matplotlib inline"
   ]
  },
  {
   "cell_type": "markdown",
   "metadata": {},
   "source": [
    "Define a function `f` that is equivalent to $f(x)=\\cos(x)$. It should work both for single arguments and `numpy` arrays."
   ]
  },
  {
   "cell_type": "code",
   "execution_count": 21,
   "metadata": {
    "deletable": false,
    "nbgrader": {
     "cell_type": "code",
     "checksum": "c684a668b7fe249782a52eb737551d4e",
     "grade": false,
     "grade_id": "f_definition",
     "locked": false,
     "schema_version": 3,
     "solution": true
    }
   },
   "outputs": [],
   "source": [
    "def f(x):\n",
    "    '''Function equivalent to cos(x), should work for one argument or a numpy array'''\n",
    "    # YOUR CODE HERE\n",
    "    \n",
    "    solution1 = numpy.cos(x)\n",
    "    print(solution1)\n",
    "    return solution1\n"
   ]
  },
  {
   "cell_type": "markdown",
   "metadata": {},
   "source": [
    "You can use the following cell to check that your code works for scalar arguments:"
   ]
  },
  {
   "cell_type": "code",
   "execution_count": 22,
   "metadata": {
    "deletable": false,
    "editable": false,
    "nbgrader": {
     "cell_type": "code",
     "checksum": "2082d9fd52c625314e4a39e59f390f6e",
     "grade": true,
     "grade_id": "f_definition_test",
     "locked": true,
     "points": 1,
     "schema_version": 3,
     "solution": false
    }
   },
   "outputs": [
    {
     "name": "stdout",
     "output_type": "stream",
     "text": [
      "0.8775825618903728\n"
     ]
    }
   ],
   "source": [
    "assert numpy.isclose(f(0.5),0.87758256189)"
   ]
  },
  {
   "cell_type": "markdown",
   "metadata": {},
   "source": [
    "Make sure your code also works with a numpy array:"
   ]
  },
  {
   "cell_type": "code",
   "execution_count": 23,
   "metadata": {
    "deletable": false,
    "editable": false,
    "nbgrader": {
     "cell_type": "code",
     "checksum": "70c0736ad8b19d67707ce9a4a41d1c1d",
     "grade": true,
     "grade_id": "f_definition_nparray_test",
     "locked": true,
     "points": 2,
     "schema_version": 3,
     "solution": false
    }
   },
   "outputs": [
    {
     "name": "stdout",
     "output_type": "stream",
     "text": [
      "[0.99500417 0.98006658 0.95533649 0.92106099 0.87758256 0.82533561]\n"
     ]
    }
   ],
   "source": [
    "xs = numpy.arange(start=0.1, stop=0.7, step=0.1)\n",
    "assert numpy.isclose(\n",
    "            f(xs), \n",
    "            [0.99500417, 0.98006658, 0.95533649, 0.92106099, 0.87758256, 0.82533561]\n",
    "        ).all()"
   ]
  },
  {
   "cell_type": "markdown",
   "metadata": {},
   "source": [
    "Define the analytic derivative of the function`f` here (again, it should work both for single numbers and numpy arrays)."
   ]
  },
  {
   "cell_type": "code",
   "execution_count": 24,
   "metadata": {
    "deletable": false,
    "nbgrader": {
     "cell_type": "code",
     "checksum": "4b7fc1950515ebb0059978953e308e3c",
     "grade": false,
     "grade_id": "analytic_derivative",
     "locked": false,
     "schema_version": 3,
     "solution": true
    }
   },
   "outputs": [],
   "source": [
    "def df_analytic(x):\n",
    "    \n",
    "    solution2 = (-1)*(numpy.sin(x))\n",
    "    print(solution2)\n",
    "    return solution2\n",
    "   \n"
   ]
  },
  {
   "cell_type": "code",
   "execution_count": 25,
   "metadata": {
    "deletable": false,
    "editable": false,
    "nbgrader": {
     "cell_type": "code",
     "checksum": "4283305af7a4298e0fea76222b63e8e3",
     "grade": true,
     "grade_id": "g_definition_test",
     "locked": true,
     "points": 1,
     "schema_version": 3,
     "solution": false
    }
   },
   "outputs": [
    {
     "name": "stdout",
     "output_type": "stream",
     "text": [
      "-0.479425538604203\n"
     ]
    }
   ],
   "source": [
    "assert numpy.isclose(df_analytic(0.5), -0.4794255386)"
   ]
  },
  {
   "cell_type": "code",
   "execution_count": 26,
   "metadata": {
    "deletable": false,
    "editable": false,
    "nbgrader": {
     "cell_type": "code",
     "checksum": "01ac909c33f00b3ae7f21d63af18108c",
     "grade": true,
     "grade_id": "g_definition_nparray_test",
     "locked": true,
     "points": 2,
     "schema_version": 3,
     "solution": false
    }
   },
   "outputs": [
    {
     "name": "stdout",
     "output_type": "stream",
     "text": [
      "[-0.09983342 -0.19866933 -0.29552021 -0.38941834 -0.47942554 -0.56464247]\n"
     ]
    }
   ],
   "source": [
    "xs = numpy.arange(start=0.1, stop=0.7, step=0.1)\n",
    "assert numpy.isclose(\n",
    "            df_analytic(xs),\n",
    "            [-0.09983342, -0.19866933, -0.29552021, -0.38941834, -0.47942554,-0.56464247]\n",
    "        ).all()"
   ]
  },
  {
   "cell_type": "markdown",
   "metadata": {},
   "source": [
    "Now define the numerical derivative using the backward difference method. The function `backward_difference` takes three arguments, `f`, the function to calculate the derivative for, `x` the position to calculate the derivative at and `dx` the interval length."
   ]
  },
  {
   "cell_type": "code",
   "execution_count": 30,
   "metadata": {
    "deletable": false,
    "nbgrader": {
     "cell_type": "code",
     "checksum": "666506275ce4d793fc54d71f59a265aa",
     "grade": false,
     "grade_id": "backward_difference",
     "locked": false,
     "schema_version": 3,
     "solution": true
    }
   },
   "outputs": [],
   "source": [
    "def backward_difference(f, x, dx):\n",
    "    '''\n",
    "    This function implements the backward difference method for the \n",
    "    first derivative of the function f at position x using interval\n",
    "    dx.\n",
    "    '''\n",
    "    # YOUR CODE HERE\n",
    "    \n",
    "    solution3 = (f(x)-f(x-dx))/dx\n",
    "    print(solution3)\n",
    "    return solution3"
   ]
  },
  {
   "cell_type": "code",
   "execution_count": 31,
   "metadata": {
    "deletable": false,
    "editable": false,
    "nbgrader": {
     "cell_type": "code",
     "checksum": "3abddc9169357ed6af5f0a4f20d65cb9",
     "grade": true,
     "grade_id": "backward_difference_test",
     "locked": true,
     "points": 2,
     "schema_version": 3,
     "solution": false
    }
   },
   "outputs": [
    {
     "name": "stdout",
     "output_type": "stream",
     "text": [
      "0.9950041652780258\n",
      "0.995014143644653\n",
      "-0.09978366627194646\n"
     ]
    }
   ],
   "source": [
    "assert numpy.isclose(\n",
    "    backward_difference(f, 0.1, 0.0001),\n",
    "    -0.09978366627194646\n",
    ")"
   ]
  },
  {
   "cell_type": "markdown",
   "metadata": {
    "deletable": false,
    "editable": false,
    "nbgrader": {
     "cell_type": "markdown",
     "checksum": "9bacab6495b93e15875a5756864d7b88",
     "grade": false,
     "grade_id": "cell-98dd708e585b083b",
     "locked": true,
     "points": 8,
     "schema_version": 3,
     "solution": false,
     "task": true
    }
   },
   "source": [
    "**Task 1:**\n",
    "\n",
    "Here is a skeleton code to plot the difference between the analytical derivative and the numerical implementation. Modify and expand it to provide a plot with three curves for the difference for a case where $dx$ is too large, about right and too small. The plot should have a legend, labelled axes and a title.\n",
    "\n",
    "You can get help about plotting on the Python handbook that you can find at:\n",
    "\n",
    "https://dmaitre.phyip3.dur.ac.uk/notes/l1python/part-5/\n"
   ]
  },
  {
   "cell_type": "code",
   "execution_count": 69,
   "metadata": {},
   "outputs": [
    {
     "name": "stdout",
     "output_type": "stream",
     "text": [
      "[ 1.          0.99195481  0.9679487   0.92836793  0.87384938  0.80527026\n",
      "  0.72373404  0.63055267  0.52722547  0.41541501  0.29692038  0.17364818\n",
      "  0.04758192 -0.07924996 -0.20480667 -0.32706796 -0.44406661 -0.55392006\n",
      " -0.65486073 -0.74526445 -0.82367658 -0.88883545 -0.93969262 -0.97542979\n",
      " -0.99547192 -0.99949654 -0.98743889 -0.95949297 -0.91610846 -0.85798341\n",
      " -0.78605309 -0.70147489 -0.60560969 -0.5        -0.38634513 -0.26647381\n",
      " -0.14231484 -0.01586596  0.1108382   0.23575894  0.35688622  0.47227107\n",
      "  0.58005691  0.67850941  0.76604444  0.84125353  0.90292654  0.95007112\n",
      "  0.9819287   0.99798668  0.99798668  0.9819287   0.95007112  0.90292654\n",
      "  0.84125353  0.76604444  0.67850941  0.58005691  0.47227107  0.35688622\n",
      "  0.23575894  0.1108382  -0.01586596 -0.14231484 -0.26647381 -0.38634513\n",
      " -0.5        -0.60560969 -0.70147489 -0.78605309 -0.85798341 -0.91610846\n",
      " -0.95949297 -0.98743889 -0.99949654 -0.99547192 -0.97542979 -0.93969262\n",
      " -0.88883545 -0.82367658 -0.74526445 -0.65486073 -0.55392006 -0.44406661\n",
      " -0.32706796 -0.20480667 -0.07924996  0.04758192  0.17364818  0.29692038\n",
      "  0.41541501  0.52722547  0.63055267  0.72373404  0.80527026  0.87384938\n",
      "  0.92836793  0.9679487   0.99195481  1.        ]\n",
      "[ 1.          0.99195481  0.9679487   0.92836793  0.87384938  0.80527026\n",
      "  0.72373404  0.63055267  0.52722547  0.41541501  0.29692038  0.17364818\n",
      "  0.04758192 -0.07924996 -0.20480667 -0.32706796 -0.44406661 -0.55392006\n",
      " -0.65486073 -0.74526445 -0.82367658 -0.88883545 -0.93969262 -0.97542979\n",
      " -0.99547192 -0.99949654 -0.98743889 -0.95949297 -0.91610846 -0.85798341\n",
      " -0.78605309 -0.70147489 -0.60560969 -0.5        -0.38634513 -0.26647381\n",
      " -0.14231484 -0.01586596  0.1108382   0.23575894  0.35688622  0.47227107\n",
      "  0.58005691  0.67850941  0.76604444  0.84125353  0.90292654  0.95007112\n",
      "  0.9819287   0.99798668  0.99798668  0.9819287   0.95007112  0.90292654\n",
      "  0.84125353  0.76604444  0.67850941  0.58005691  0.47227107  0.35688622\n",
      "  0.23575894  0.1108382  -0.01586596 -0.14231484 -0.26647381 -0.38634513\n",
      " -0.5        -0.60560969 -0.70147489 -0.78605309 -0.85798341 -0.91610846\n",
      " -0.95949297 -0.98743889 -0.99949654 -0.99547192 -0.97542979 -0.93969262\n",
      " -0.88883545 -0.82367658 -0.74526445 -0.65486073 -0.55392006 -0.44406661\n",
      " -0.32706796 -0.20480667 -0.07924996  0.04758192  0.17364818  0.29692038\n",
      "  0.41541501  0.52722547  0.63055267  0.72373404  0.80527026  0.87384938\n",
      "  0.92836793  0.9679487   0.99195481  1.        ]\n",
      "[0. 0. 0. 0. 0. 0. 0. 0. 0. 0. 0. 0. 0. 0. 0. 0. 0. 0. 0. 0. 0. 0. 0. 0.\n",
      " 0. 0. 0. 0. 0. 0. 0. 0. 0. 0. 0. 0. 0. 0. 0. 0. 0. 0. 0. 0. 0. 0. 0. 0.\n",
      " 0. 0. 0. 0. 0. 0. 0. 0. 0. 0. 0. 0. 0. 0. 0. 0. 0. 0. 0. 0. 0. 0. 0. 0.\n",
      " 0. 0. 0. 0. 0. 0. 0. 0. 0. 0. 0. 0. 0. 0. 0. 0. 0. 0. 0. 0. 0. 0. 0. 0.\n",
      " 0. 0. 0. 0.]\n",
      "[ 1.          0.99195481  0.9679487   0.92836793  0.87384938  0.80527026\n",
      "  0.72373404  0.63055267  0.52722547  0.41541501  0.29692038  0.17364818\n",
      "  0.04758192 -0.07924996 -0.20480667 -0.32706796 -0.44406661 -0.55392006\n",
      " -0.65486073 -0.74526445 -0.82367658 -0.88883545 -0.93969262 -0.97542979\n",
      " -0.99547192 -0.99949654 -0.98743889 -0.95949297 -0.91610846 -0.85798341\n",
      " -0.78605309 -0.70147489 -0.60560969 -0.5        -0.38634513 -0.26647381\n",
      " -0.14231484 -0.01586596  0.1108382   0.23575894  0.35688622  0.47227107\n",
      "  0.58005691  0.67850941  0.76604444  0.84125353  0.90292654  0.95007112\n",
      "  0.9819287   0.99798668  0.99798668  0.9819287   0.95007112  0.90292654\n",
      "  0.84125353  0.76604444  0.67850941  0.58005691  0.47227107  0.35688622\n",
      "  0.23575894  0.1108382  -0.01586596 -0.14231484 -0.26647381 -0.38634513\n",
      " -0.5        -0.60560969 -0.70147489 -0.78605309 -0.85798341 -0.91610846\n",
      " -0.95949297 -0.98743889 -0.99949654 -0.99547192 -0.97542979 -0.93969262\n",
      " -0.88883545 -0.82367658 -0.74526445 -0.65486073 -0.55392006 -0.44406661\n",
      " -0.32706796 -0.20480667 -0.07924996  0.04758192  0.17364818  0.29692038\n",
      "  0.41541501  0.52722547  0.63055267  0.72373404  0.80527026  0.87384938\n",
      "  0.92836793  0.9679487   0.99195481  1.        ]\n",
      "[ 1.          0.99195494  0.96794895  0.9283683   0.87384986  0.80527085\n",
      "  0.72373473  0.63055344  0.52722632  0.41541592  0.29692133  0.17364916\n",
      "  0.04758291 -0.07924896 -0.20480569 -0.32706702 -0.44406572 -0.55391923\n",
      " -0.65485998 -0.74526378 -0.82367601 -0.88883499 -0.93969228 -0.97542957\n",
      " -0.99547183 -0.99949657 -0.98743905 -0.95949326 -0.91610886 -0.85798393\n",
      " -0.78605371 -0.7014756  -0.60561048 -0.50000087 -0.38634605 -0.26647478\n",
      " -0.14231583 -0.01586696  0.11083721  0.23575796  0.35688529  0.47227019\n",
      "  0.58005609  0.67850868  0.7660438   0.84125299  0.90292611  0.95007081\n",
      "  0.98192851  0.99798661  0.99798674  0.98192889  0.95007143  0.90292697\n",
      "  0.84125407  0.76604509  0.67851015  0.58005772  0.47227196  0.35688716\n",
      "  0.23575991  0.11083919 -0.01586496 -0.14231385 -0.26647285 -0.3863442\n",
      " -0.49999913 -0.60560889 -0.70147418 -0.78605248 -0.8579829  -0.91610806\n",
      " -0.95949269 -0.98743873 -0.99949651 -0.99547202 -0.97543001 -0.93969296\n",
      " -0.88883591 -0.82367715 -0.74526512 -0.65486149 -0.5539209  -0.44406751\n",
      " -0.32706891 -0.20480765 -0.07925095  0.04758092  0.17364719  0.29691942\n",
      "  0.4154141   0.52722462  0.63055189  0.72373335  0.80526966  0.87384889\n",
      "  0.92836756  0.96794845  0.99195469  1.        ]\n",
      "[ 5.00044450e-07 -1.26591958e-01 -2.51147503e-01 -3.71661992e-01\n",
      " -4.86196299e-01 -5.92907527e-01 -6.90078650e-01 -7.76146149e-01\n",
      " -8.49725166e-01 -9.09631788e-01 -9.54902093e-01 -9.84807666e-01\n",
      " -9.98867316e-01 -9.96854816e-01 -9.78802549e-01 -9.45000982e-01\n",
      " -8.95993996e-01 -8.32570132e-01 -7.55749902e-01 -6.66769373e-01\n",
      " -5.67060276e-01 -4.58226966e-01 -3.42020613e-01 -2.20311021e-01\n",
      " -9.50565411e-02  3.17274338e-02  1.58000902e-01  2.81732077e-01\n",
      "  4.00930077e-01  5.13676963e-01  6.18158593e-01  7.12693821e-01\n",
      "  7.95761538e-01  8.66025154e-01  9.22354101e-01  9.63842025e-01\n",
      "  9.89821371e-01  9.99874120e-01  9.93838520e-01  9.71811686e-01\n",
      "  9.34148039e-01  8.81453599e-01  8.14576242e-01  7.34592048e-01\n",
      "  6.42787993e-01  5.40641238e-01  4.29795364e-01  3.12033921e-01\n",
      "  1.89251735e-01  6.34244187e-02 -6.34234207e-02 -1.89250753e-01\n",
      " -3.12032971e-01 -4.29794461e-01 -5.40640397e-01 -6.42787227e-01\n",
      " -7.34591369e-01 -8.14575662e-01 -8.81453127e-01 -9.34147682e-01\n",
      " -9.71811450e-01 -9.93838409e-01 -9.99874136e-01 -9.89821513e-01\n",
      " -9.63842292e-01 -9.22354487e-01 -8.66025654e-01 -7.95762143e-01\n",
      " -7.12694522e-01 -6.18159379e-01 -5.13677821e-01 -4.00930994e-01\n",
      " -2.81733037e-01 -1.58001890e-01 -3.17284333e-02  9.50555455e-02\n",
      "  2.20310045e-01  3.42019674e-01  4.58226077e-01  5.67059452e-01\n",
      "  6.66768628e-01  7.55749247e-01  8.32569578e-01  8.95993552e-01\n",
      "  9.45000655e-01  9.78802344e-01  9.96854736e-01  9.98867363e-01\n",
      "  9.84807840e-01  9.54902390e-01  9.09632203e-01  8.49725694e-01\n",
      "  7.76146780e-01  6.90079374e-01  5.92908332e-01  4.86197173e-01\n",
      "  3.71662920e-01  2.51148471e-01  1.26592950e-01  5.00044450e-07]\n",
      "[ 1.          0.99195481  0.9679487   0.92836793  0.87384938  0.80527026\n",
      "  0.72373404  0.63055267  0.52722547  0.41541501  0.29692038  0.17364818\n",
      "  0.04758192 -0.07924996 -0.20480667 -0.32706796 -0.44406661 -0.55392006\n",
      " -0.65486073 -0.74526445 -0.82367658 -0.88883545 -0.93969262 -0.97542979\n",
      " -0.99547192 -0.99949654 -0.98743889 -0.95949297 -0.91610846 -0.85798341\n",
      " -0.78605309 -0.70147489 -0.60560969 -0.5        -0.38634513 -0.26647381\n",
      " -0.14231484 -0.01586596  0.1108382   0.23575894  0.35688622  0.47227107\n",
      "  0.58005691  0.67850941  0.76604444  0.84125353  0.90292654  0.95007112\n",
      "  0.9819287   0.99798668  0.99798668  0.9819287   0.95007112  0.90292654\n",
      "  0.84125353  0.76604444  0.67850941  0.58005691  0.47227107  0.35688622\n",
      "  0.23575894  0.1108382  -0.01586596 -0.14231484 -0.26647381 -0.38634513\n",
      " -0.5        -0.60560969 -0.70147489 -0.78605309 -0.85798341 -0.91610846\n",
      " -0.95949297 -0.98743889 -0.99949654 -0.99547192 -0.97542979 -0.93969262\n",
      " -0.88883545 -0.82367658 -0.74526445 -0.65486073 -0.55392006 -0.44406661\n",
      " -0.32706796 -0.20480667 -0.07924996  0.04758192  0.17364818  0.29692038\n",
      "  0.41541501  0.52722547  0.63055267  0.72373404  0.80527026  0.87384938\n",
      "  0.92836793  0.9679487   0.99195481  1.        ]\n",
      "[-0.83907153 -0.90119001 -0.948808   -0.98115932 -0.99772342 -0.99823378\n",
      " -0.98268218 -0.95131885 -0.90464845 -0.84342192 -0.76862441 -0.68145945\n",
      " -0.58332955 -0.47581366 -0.36064175 -0.23966698 -0.11483588  0.01184298\n",
      "  0.13833127  0.26259377  0.38263103  0.49651162  0.60240315  0.69860178\n",
      "  0.78355965  0.85590976  0.91448795  0.9583517   0.9867952   0.9993608\n",
      "  0.99584631  0.97630828  0.94106109  0.89067187  0.8259514   0.74794107\n",
      "  0.65789609  0.55726531  0.44766793  0.3308674   0.20874309  0.08326003\n",
      " -0.04356272 -0.16968453 -0.29307605 -0.41175187 -0.52380245 -0.62742484\n",
      " -0.72095174 -0.80287826 -0.87188616 -0.92686509 -0.96693041 -0.99143746\n",
      " -0.99999191 -0.99245611 -0.96895133 -0.92985575 -0.87579845 -0.80764922\n",
      " -0.72650462 -0.63367028 -0.53063996 -0.41907143 -0.30075989 -0.17760901\n",
      " -0.05160034  0.07523861  0.20086693  0.32326323  0.44045811  0.55056585\n",
      "  0.65181478  0.74257576  0.82138843  0.88698464  0.93830894  0.9745355\n",
      "  0.99508142  0.99961611  0.98806659  0.96061872  0.91771413  0.86004318\n",
      "  0.78853381  0.70433664  0.60880643  0.50348029  0.39005297  0.27034954\n",
      "  0.1462961   0.01988869 -0.10683873 -0.23184708 -0.35312492 -0.46872084\n",
      " -0.57677488 -0.67554839 -0.76345207 -0.83907153]\n",
      "[ 0.18390715  0.18931448  0.19167567  0.19095273  0.18715728  0.1803504\n",
      "  0.17064162  0.15818715  0.14318739  0.12588369  0.10655448  0.08551076\n",
      "  0.06309115  0.03965637  0.01558351 -0.0087401  -0.03292307 -0.0565763\n",
      " -0.0793192  -0.10078582 -0.12063076 -0.13853471 -0.15420958 -0.16740316\n",
      " -0.17790316 -0.18554063 -0.19019268 -0.19178447 -0.19029037 -0.18573442\n",
      " -0.17818994 -0.16777832 -0.15466708 -0.13906719 -0.12122965 -0.10144149\n",
      " -0.08002109 -0.05731313 -0.03368297 -0.00951085  0.01481431  0.0389011\n",
      "  0.06236196  0.08481939  0.10591205  0.12530054  0.1426729   0.1577496\n",
      "  0.17028804  0.18008649  0.18698728  0.19087938  0.19170015  0.1894364\n",
      "  0.18412454  0.17585006  0.16474607  0.15099127  0.13480695  0.11645354\n",
      "  0.09622636  0.07445085  0.0514774   0.02767566  0.00342861 -0.02087361\n",
      " -0.04483997 -0.06808483 -0.09023418 -0.11093163 -0.12984415 -0.14666743\n",
      " -0.16113078 -0.17300147 -0.1820885  -0.18824566 -0.19137387 -0.19142281\n",
      " -0.18839169 -0.18232927 -0.1733331  -0.16154795 -0.14716342 -0.13041098\n",
      " -0.11156018 -0.09091433 -0.06880564 -0.04558984 -0.02164048  0.00265708\n",
      "  0.02691189  0.05073368  0.07373914  0.09555811  0.11583952  0.13425702\n",
      "  0.15051428  0.16434971  0.17554069  0.18390715]\n",
      "[-2.44929360e-16 -1.26592454e-01 -2.51147987e-01 -3.71662456e-01\n",
      " -4.86196736e-01 -5.92907929e-01 -6.90079011e-01 -7.76146464e-01\n",
      " -8.49725430e-01 -9.09631995e-01 -9.54902241e-01 -9.84807753e-01\n",
      " -9.98867339e-01 -9.96854776e-01 -9.78802446e-01 -9.45000819e-01\n",
      " -8.95993774e-01 -8.32569855e-01 -7.55749574e-01 -6.66769001e-01\n",
      " -5.67059864e-01 -4.58226522e-01 -3.42020143e-01 -2.20310533e-01\n",
      " -9.50560433e-02  3.17279335e-02  1.58001396e-01  2.81732557e-01\n",
      "  4.00930535e-01  5.13677392e-01  6.18158986e-01  7.12694171e-01\n",
      "  7.95761841e-01  8.66025404e-01  9.22354294e-01  9.63842159e-01\n",
      "  9.89821442e-01  9.99874128e-01  9.93838464e-01  9.71811568e-01\n",
      "  9.34147860e-01  8.81453363e-01  8.14575952e-01  7.34591709e-01\n",
      "  6.42787610e-01  5.40640817e-01  4.29794912e-01  3.12033446e-01\n",
      "  1.89251244e-01  6.34239197e-02 -6.34239197e-02 -1.89251244e-01\n",
      " -3.12033446e-01 -4.29794912e-01 -5.40640817e-01 -6.42787610e-01\n",
      " -7.34591709e-01 -8.14575952e-01 -8.81453363e-01 -9.34147860e-01\n",
      " -9.71811568e-01 -9.93838464e-01 -9.99874128e-01 -9.89821442e-01\n",
      " -9.63842159e-01 -9.22354294e-01 -8.66025404e-01 -7.95761841e-01\n",
      " -7.12694171e-01 -6.18158986e-01 -5.13677392e-01 -4.00930535e-01\n",
      " -2.81732557e-01 -1.58001396e-01 -3.17279335e-02  9.50560433e-02\n",
      "  2.20310533e-01  3.42020143e-01  4.58226522e-01  5.67059864e-01\n",
      "  6.66769001e-01  7.55749574e-01  8.32569855e-01  8.95993774e-01\n",
      "  9.45000819e-01  9.78802446e-01  9.96854776e-01  9.98867339e-01\n",
      "  9.84807753e-01  9.54902241e-01  9.09631995e-01  8.49725430e-01\n",
      "  7.76146464e-01  6.90079011e-01  5.92907929e-01  4.86196736e-01\n",
      "  3.71662456e-01  2.51147987e-01  1.26592454e-01  2.44929360e-16]\n"
     ]
    },
    {
     "data": {
      "text/plain": [
       "Text(0.5,1,'Plot Representing the Difference Between the Analytical Derivative and the Numerical Implementation to Show the Ideal Value of dx')"
      ]
     },
     "execution_count": 69,
     "metadata": {},
     "output_type": "execute_result"
    },
    {
     "data": {
      "image/png": "[encoded data removed]",
      "text/plain": [
       "<Figure size 576x288 with 1 Axes>"
      ]
     },
     "metadata": {},
     "output_type": "display_data"
    }
   ],
   "source": [
    "xs = numpy.linspace(-2*numpy.pi,2*numpy.pi,100)\n",
    "df_dx_toosmall = backward_difference(f, xs, dx=1e-100)\n",
    "df_dx_aboutright = backward_difference(f, xs, dx=1e-6)\n",
    "df_dx_toolarge = backward_difference(f, xs, dx=10)\n",
    "df_dx_analytical = df_analytic(xs)\n",
    "plt.figure(figsize=(8, 4))\n",
    "plt.xlabel(\"x values\")\n",
    "plt.ylabel(\"(df_dx) - (df_dx analytical)\")\n",
    "plt.plot(xs, df_dx_toosmall - df_dx_analytical, label='Too Large dx')\n",
    "plt.plot(xs, df_dx_aboutright - df_dx_analytical, label='About Right dx')\n",
    "plt.plot(xs, df_dx_toolarge - df_dx_analytical, label='Too Small dx')\n",
    "plt.legend(loc='upper right')\n",
    "plt.title('Plot Representing the Difference Between the Analytical Derivative and the Numerical Implementation to Show the Ideal Value of dx')"
   ]
  },
  {
   "cell_type": "markdown",
   "metadata": {},
   "source": [
    "**Task 2: ** \n",
    "\n",
    "Describe in the text box below why the numerical method looses accuracy in the case where\n",
    "$\\Delta x$ is too small and the case where $\\Delta x$ is too large. (Double-click on \"YOUR ANSWER HERE\" to edit.)\n"
   ]
  },
  {
   "cell_type": "markdown",
   "metadata": {
    "deletable": false,
    "nbgrader": {
     "cell_type": "markdown",
     "checksum": "606635d14bb3842f745cb0c7a1feff71",
     "grade": true,
     "grade_id": "textAnswer",
     "locked": false,
     "points": 4,
     "schema_version": 3,
     "solution": true
    }
   },
   "source": [
    "YOUR ANSWER HERE"
   ]
  }
 ],
 "metadata": {
  "kernelspec": {
   "display_name": "Python 3",
   "language": "python",
   "name": "python3"
  },
  "language_info": {
   "codemirror_mode": {
    "name": "ipython",
    "version": 3
   },
   "file_extension": ".py",
   "mimetype": "text/x-python",
   "name": "python",
   "nbconvert_exporter": "python",
   "pygments_lexer": "ipython3",
   "version": "3.6.3"
  }
 },
 "nbformat": 4,
 "nbformat_minor": 2
}
