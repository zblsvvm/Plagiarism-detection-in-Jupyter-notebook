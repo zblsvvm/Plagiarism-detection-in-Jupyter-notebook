{
 "cells": [
  {
   "cell_type": "markdown",
   "metadata": {},
   "source": [
    "# Assignment 1"
   ]
  },
  {
   "cell_type": "markdown",
   "metadata": {},
   "source": [
    "First we need to import a few modules, execute the cell below:"
   ]
  },
  {
   "cell_type": "code",
   "execution_count": 1,
   "metadata": {},
   "outputs": [],
   "source": [
    "import numpy \n",
    "import matplotlib.pyplot as plt\n",
    "%matplotlib inline"
   ]
  },
  {
   "cell_type": "markdown",
   "metadata": {},
   "source": [
    "Define a function `f` that is equivalent to $f(x)=\\cos(x)$. It should work both for single arguments and `numpy` arrays."
   ]
  },
  {
   "cell_type": "code",
   "execution_count": 10,
   "metadata": {
    "deletable": false,
    "nbgrader": {
     "cell_type": "code",
     "checksum": "c684a668b7fe249782a52eb737551d4e",
     "grade": false,
     "grade_id": "f_definition",
     "locked": false,
     "schema_version": 3,
     "solution": true
    }
   },
   "outputs": [],
   "source": [
    "def f(x):\n",
    "    '''Function equivalent to cos(x), should work for one argument or a numpy array'''\n",
    "    return numpy.cos(x)\n",
    "    "
   ]
  },
  {
   "cell_type": "markdown",
   "metadata": {},
   "source": [
    "You can use the following cell to check that your code works for scalar arguments:"
   ]
  },
  {
   "cell_type": "code",
   "execution_count": 11,
   "metadata": {
    "deletable": false,
    "editable": false,
    "nbgrader": {
     "cell_type": "code",
     "checksum": "2082d9fd52c625314e4a39e59f390f6e",
     "grade": true,
     "grade_id": "f_definition_test",
     "locked": true,
     "points": 1,
     "schema_version": 3,
     "solution": false
    }
   },
   "outputs": [],
   "source": [
    "assert numpy.isclose(f(0.5),0.87758256189)"
   ]
  },
  {
   "cell_type": "markdown",
   "metadata": {},
   "source": [
    "Make sure your code also works with a numpy array:"
   ]
  },
  {
   "cell_type": "code",
   "execution_count": 12,
   "metadata": {
    "deletable": false,
    "editable": false,
    "nbgrader": {
     "cell_type": "code",
     "checksum": "70c0736ad8b19d67707ce9a4a41d1c1d",
     "grade": true,
     "grade_id": "f_definition_nparray_test",
     "locked": true,
     "points": 2,
     "schema_version": 3,
     "solution": false
    }
   },
   "outputs": [],
   "source": [
    "xs = numpy.arange(start=0.1, stop=0.7, step=0.1)\n",
    "assert numpy.isclose(\n",
    "            f(xs), \n",
    "            [0.99500417, 0.98006658, 0.95533649, 0.92106099, 0.87758256, 0.82533561]\n",
    "        ).all()"
   ]
  },
  {
   "cell_type": "markdown",
   "metadata": {},
   "source": [
    "Define the analytic derivative of the function`f` here (again, it should work both for single numbers and numpy arrays)."
   ]
  },
  {
   "cell_type": "code",
   "execution_count": 15,
   "metadata": {
    "deletable": false,
    "nbgrader": {
     "cell_type": "code",
     "checksum": "4b7fc1950515ebb0059978953e308e3c",
     "grade": false,
     "grade_id": "analytic_derivative",
     "locked": false,
     "schema_version": 3,
     "solution": true
    }
   },
   "outputs": [],
   "source": [
    "def df_analytic(x):\n",
    "    '''\n",
    "    The analytic derivative\n",
    "    '''\n",
    "    return -numpy.sin(x)"
   ]
  },
  {
   "cell_type": "code",
   "execution_count": 16,
   "metadata": {
    "deletable": false,
    "editable": false,
    "nbgrader": {
     "cell_type": "code",
     "checksum": "4283305af7a4298e0fea76222b63e8e3",
     "grade": true,
     "grade_id": "g_definition_test",
     "locked": true,
     "points": 1,
     "schema_version": 3,
     "solution": false
    }
   },
   "outputs": [],
   "source": [
    "assert numpy.isclose(df_analytic(0.5), -0.4794255386)"
   ]
  },
  {
   "cell_type": "code",
   "execution_count": 17,
   "metadata": {
    "deletable": false,
    "editable": false,
    "nbgrader": {
     "cell_type": "code",
     "checksum": "01ac909c33f00b3ae7f21d63af18108c",
     "grade": true,
     "grade_id": "g_definition_nparray_test",
     "locked": true,
     "points": 2,
     "schema_version": 3,
     "solution": false
    }
   },
   "outputs": [],
   "source": [
    "xs = numpy.arange(start=0.1, stop=0.7, step=0.1)\n",
    "assert numpy.isclose(\n",
    "            df_analytic(xs),\n",
    "            [-0.09983342, -0.19866933, -0.29552021, -0.38941834, -0.47942554,-0.56464247]\n",
    "        ).all()"
   ]
  },
  {
   "cell_type": "markdown",
   "metadata": {},
   "source": [
    "Now define the numerical derivative using the backward difference method. The function `backward_difference` takes three arguments, `f`, the function to calculate the derivative for, `x` the position to calculate the derivative at and `dx` the interval length."
   ]
  },
  {
   "cell_type": "code",
   "execution_count": 18,
   "metadata": {
    "deletable": false,
    "nbgrader": {
     "cell_type": "code",
     "checksum": "666506275ce4d793fc54d71f59a265aa",
     "grade": false,
     "grade_id": "backward_difference",
     "locked": false,
     "schema_version": 3,
     "solution": true
    }
   },
   "outputs": [],
   "source": [
    "def backward_difference(f, x, dx):\n",
    "    '''\n",
    "    This function implements the backward difference method for the \n",
    "    first derivative of the function f at position x using interval\n",
    "    dx.\n",
    "    '''\n",
    "    return (f(x)-(f(x-dx)))/dx"
   ]
  },
  {
   "cell_type": "code",
   "execution_count": 19,
   "metadata": {
    "deletable": false,
    "editable": false,
    "nbgrader": {
     "cell_type": "code",
     "checksum": "3abddc9169357ed6af5f0a4f20d65cb9",
     "grade": true,
     "grade_id": "backward_difference_test",
     "locked": true,
     "points": 2,
     "schema_version": 3,
     "solution": false
    }
   },
   "outputs": [],
   "source": [
    "assert numpy.isclose(\n",
    "    backward_difference(f, 0.1, 0.0001),\n",
    "    -0.09978366627194646\n",
    ")"
   ]
  },
  {
   "cell_type": "markdown",
   "metadata": {
    "deletable": false,
    "editable": false,
    "nbgrader": {
     "cell_type": "markdown",
     "checksum": "9bacab6495b93e15875a5756864d7b88",
     "grade": false,
     "grade_id": "cell-98dd708e585b083b",
     "locked": true,
     "points": 8,
     "schema_version": 3,
     "solution": false,
     "task": true
    }
   },
   "source": [
    "**Task 1:**\n",
    "\n",
    "Here is a skeleton code to plot the difference between the analytical derivative and the numerical implementation. Modify and expand it to provide a plot with three curves for the difference for a case where $dx$ is too large, about right and too small. The plot should have a legend, labelled axes and a title.\n",
    "\n",
    "You can get help about plotting on the Python handbook that you can find at:\n",
    "\n",
    "https://dmaitre.phyip3.dur.ac.uk/notes/l1python/part-5/\n"
   ]
  },
  {
   "cell_type": "code",
   "execution_count": 48,
   "metadata": {
    "scrolled": true
   },
   "outputs": [
    {
     "name": "stderr",
     "output_type": "stream",
     "text": [
      "/opt/conda/lib/python3.6/site-packages/matplotlib/legend.py:937: UserWarning: Legend does not support array([ 5.00000041e-06, -1.26587494e-01, -2.51143147e-01, -3.71657814e-01,\n",
      "       -4.86192367e-01, -5.92903903e-01, -6.90075393e-01, -7.76143311e-01,\n",
      "       -8.49722794e-01, -9.09629918e-01, -9.54900757e-01, -9.84806885e-01,\n",
      "       -9.98867101e-01, -9.96855172e-01, -9.78803470e-01, -9.45002454e-01,\n",
      "       -8.95995995e-01, -8.32572624e-01, -7.55752849e-01, -6.66772727e-01,\n",
      "       -5.67063982e-01, -4.58230966e-01, -3.42024842e-01, -2.20315410e-01,\n",
      "       -9.50610207e-02,  3.17229360e-02,  1.57996459e-01,  2.81727759e-01,\n",
      "        4.00925955e-01,  5.13673102e-01,  6.18155056e-01,  7.12690664e-01,\n",
      "        7.95758812e-01,  8.66022904e-01,  9.22352362e-01,  9.63840826e-01,\n",
      "        9.89820730e-01,  9.99874048e-01,  9.93839019e-01,  9.71812747e-01,\n",
      "        9.34149645e-01,  8.81455725e-01,  8.14578852e-01,  7.34595101e-01,\n",
      "        6.42791440e-01,  5.40645024e-01,  4.29799427e-01,  3.12038196e-01,\n",
      "        1.89256154e-01,  6.34289096e-02, -6.34189297e-02, -1.89246335e-01,\n",
      "       -3.12028695e-01, -4.29790397e-01, -5.40636611e-01, -6.42783779e-01,\n",
      "       -7.34588316e-01, -8.14573052e-01, -8.81451002e-01, -9.34146076e-01,\n",
      "       -9.71810390e-01, -9.93837910e-01, -9.99874207e-01, -9.89822153e-01,\n",
      "       -9.63843491e-01, -9.22356226e-01, -8.66027904e-01, -7.95764869e-01,\n",
      "       -7.12697679e-01, -6.18162916e-01, -5.13681681e-01, -4.00935116e-01,\n",
      "       -2.81737354e-01, -1.58006333e-01, -3.17329310e-02,  9.50510659e-02,\n",
      "        2.20305656e-01,  3.42015445e-01,  4.58222078e-01,  5.67055745e-01,\n",
      "        6.66765274e-01,  7.55746300e-01,  8.32567085e-01,  8.95991554e-01,\n",
      "        9.44999183e-01,  9.78801422e-01,  9.96854380e-01,  9.98867577e-01,\n",
      "        9.84808621e-01,  9.54903726e-01,  9.09634072e-01,  8.49728066e-01,\n",
      "        7.76149617e-01,  6.90082630e-01,  5.92911955e-01,  4.86201105e-01,\n",
      "        3.71667097e-01,  2.51152827e-01,  1.26597413e-01,  5.00000041e-06]) instances.\n",
      "A proxy artist may be used instead.\n",
      "See: http://matplotlib.org/users/legend_guide.html#creating-artists-specifically-for-adding-to-the-legend-aka-proxy-artists\n",
      "  \"aka-proxy-artists\".format(orig_handle)\n",
      "/opt/conda/lib/python3.6/site-packages/matplotlib/legend.py:937: UserWarning: Legend does not support array([ 0.        , -0.12659245, -0.25114798, -0.37166246, -0.48619673,\n",
      "       -0.59290792, -0.69007901, -0.77614646, -0.84972542, -0.90963199,\n",
      "       -0.95490223, -0.98480775, -0.99886733, -0.99685477, -0.97880244,\n",
      "       -0.94500081, -0.89599377, -0.83256986, -0.75574957, -0.666769  ,\n",
      "       -0.56705987, -0.45822652, -0.34202015, -0.22031054, -0.09505605,\n",
      "        0.03172793,  0.15800139,  0.28173255,  0.40093052,  0.51367739,\n",
      "        0.61815898,  0.71269417,  0.79576183,  0.8660254 ,  0.92235429,\n",
      "        0.96384215,  0.98982143,  0.99987412,  0.99383846,  0.97181156,\n",
      "        0.93414786,  0.88145336,  0.81457596,  0.73459172,  0.64278762,\n",
      "        0.54064082,  0.42979492,  0.31203344,  0.18925125,  0.06342393,\n",
      "       -0.06342392, -0.18925124, -0.31203344, -0.42979491, -0.54064082,\n",
      "       -0.64278761, -0.73459171, -0.81457595, -0.88145335, -0.93414785,\n",
      "       -0.97181156, -0.99383846, -0.99987412, -0.98982144, -0.96384216,\n",
      "       -0.92235429, -0.86602541, -0.79576183, -0.71269417, -0.61815899,\n",
      "       -0.51367739, -0.40093053, -0.28173256, -0.1580014 , -0.03172794,\n",
      "        0.09505604,  0.22031053,  0.34202013,  0.45822651,  0.56705985,\n",
      "        0.666769  ,  0.75574956,  0.83256985,  0.89599377,  0.94500081,\n",
      "        0.97880244,  0.99685477,  0.99886733,  0.98480775,  0.95490224,\n",
      "        0.90963199,  0.84972542,  0.77614646,  0.69007902,  0.59290792,\n",
      "        0.48619674,  0.37166246,  0.25114799,  0.12659246,  0.        ]) instances.\n",
      "A proxy artist may be used instead.\n",
      "See: http://matplotlib.org/users/legend_guide.html#creating-artists-specifically-for-adding-to-the-legend-aka-proxy-artists\n",
      "  \"aka-proxy-artists\".format(orig_handle)\n",
      "/opt/conda/lib/python3.6/site-packages/matplotlib/legend.py:937: UserWarning: Legend does not support array([ 0.        , -0.12659207, -0.25114799, -0.3716627 , -0.48619664,\n",
      "       -0.59290794, -0.6900791 , -0.77614692, -0.84972585, -0.90963181,\n",
      "       -0.95490227, -0.98480779, -0.99886738, -0.99685496, -0.97880232,\n",
      "       -0.94500074, -0.89599383, -0.83257068, -0.75574991, -0.66676886,\n",
      "       -0.56705973, -0.45822568, -0.34202086, -0.22031044, -0.09505619,\n",
      "        0.03172795,  0.15800139,  0.28173242,  0.4009304 ,  0.51367799,\n",
      "        0.61815886,  0.71269435,  0.79576123,  0.86602558,  0.92235442,\n",
      "        0.96384234,  0.98982156,  0.99987421,  0.99383848,  0.9718118 ,\n",
      "        0.93414831,  0.88145324,  0.81457618,  0.73459239,  0.64278805,\n",
      "        0.54064087,  0.42979509,  0.31203262,  0.18925084,  0.06342371,\n",
      "       -0.06342371, -0.18925084, -0.31203373, -0.42979509, -0.54064087,\n",
      "       -0.64278693, -0.73459128, -0.81457618, -0.8814538 , -0.93414776,\n",
      "       -0.97181152, -0.99383862, -0.99987421, -0.98982156, -0.96384234,\n",
      "       -0.92235442, -0.86602614, -0.79576234, -0.71269435, -0.61815886,\n",
      "       -0.51367688, -0.4009304 , -0.28173242, -0.15800139, -0.03172795,\n",
      "        0.09505619,  0.22031044,  0.34202086,  0.45822679,  0.56705973,\n",
      "        0.66676886,  0.75574991,  0.83256957,  0.89599383,  0.9450013 ,\n",
      "        0.97880259,  0.99685482,  0.99886745,  0.98480779,  0.95490227,\n",
      "        0.90963181,  0.84972474,  0.77614581,  0.6900791 ,  0.59290794,\n",
      "        0.48619775,  0.37166159,  0.25114799,  0.12659207,  0.        ]) instances.\n",
      "A proxy artist may be used instead.\n",
      "See: http://matplotlib.org/users/legend_guide.html#creating-artists-specifically-for-adding-to-the-legend-aka-proxy-artists\n",
      "  \"aka-proxy-artists\".format(orig_handle)\n"
     ]
    },
    {
     "data": {
      "text/plain": [
       "<matplotlib.legend.Legend at 0x7fe46cd859b0>"
      ]
     },
     "execution_count": 48,
     "metadata": {},
     "output_type": "execute_result"
    },
    {
     "data": {
      "image/png": "[encoded data removed]",
      "text/plain": [
       "<Figure size 576x288 with 1 Axes>"
      ]
     },
     "metadata": {},
     "output_type": "display_data"
    }
   ],
   "source": [
    "xs = numpy.linspace(-2*numpy.pi,2*numpy.pi,100)\n",
    "df_dx_1 = backward_difference(f, xs, dx=1e-5)\n",
    "df_dx_2 = backward_difference(f, xs, dx=1e-8)\n",
    "df_dx_3 = backward_difference(f, xs, dx=1e-10)\n",
    "df_dx_analytical = df_analytic(xs)\n",
    "plt.figure(figsize=(8, 4))\n",
    "plt.plot(xs, df_dx_1 - df_dx_analytical)\n",
    "plt.plot(xs, df_dx_2 - df_dx_analytical)\n",
    "plt.plot(xs, df_dx_3 - df_dx_analytical)\n",
    "pl"
   ]
  },
  {
   "cell_type": "markdown",
   "metadata": {},
   "source": [
    "**Task 2: ** \n",
    "\n",
    "Describe in the text box below why the numerical method looses accuracy in the case where\n",
    "$\\Delta x$ is too small and the case where $\\Delta x$ is too large. (Double-click on \"YOUR ANSWER HERE\" to edit.)\n"
   ]
  },
  {
   "cell_type": "markdown",
   "metadata": {
    "deletable": false,
    "nbgrader": {
     "cell_type": "markdown",
     "checksum": "606635d14bb3842f745cb0c7a1feff71",
     "grade": true,
     "grade_id": "textAnswer",
     "locked": false,
     "points": 4,
     "schema_version": 3,
     "solution": true
    }
   },
   "source": [
    "YOUR ANSWER HERE"
   ]
  }
 ],
 "metadata": {
  "kernelspec": {
   "display_name": "Python 3",
   "language": "python",
   "name": "python3"
  },
  "language_info": {
   "codemirror_mode": {
    "name": "ipython",
    "version": 3
   },
   "file_extension": ".py",
   "mimetype": "text/x-python",
   "name": "python",
   "nbconvert_exporter": "python",
   "pygments_lexer": "ipython3",
   "version": "3.6.3"
  }
 },
 "nbformat": 4,
 "nbformat_minor": 2
}
