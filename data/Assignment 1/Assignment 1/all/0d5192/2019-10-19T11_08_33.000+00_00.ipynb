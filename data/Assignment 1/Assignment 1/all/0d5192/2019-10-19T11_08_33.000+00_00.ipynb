{
 "cells": [
  {
   "cell_type": "markdown",
   "metadata": {},
   "source": [
    "# Assignment 1"
   ]
  },
  {
   "cell_type": "markdown",
   "metadata": {},
   "source": [
    "First we need to import a few modules, execute the cell below:"
   ]
  },
  {
   "cell_type": "code",
   "execution_count": 36,
   "metadata": {},
   "outputs": [],
   "source": [
    "import numpy \n",
    "import matplotlib.pyplot as plt\n",
    "%matplotlib inline"
   ]
  },
  {
   "cell_type": "markdown",
   "metadata": {},
   "source": [
    "Define a function `f` that is equivalent to $f(x)=\\cos(x)$. It should work both for single arguments and `numpy` arrays."
   ]
  },
  {
   "cell_type": "code",
   "execution_count": 37,
   "metadata": {
    "deletable": false,
    "nbgrader": {
     "cell_type": "code",
     "checksum": "c684a668b7fe249782a52eb737551d4e",
     "grade": false,
     "grade_id": "f_definition",
     "locked": false,
     "schema_version": 3,
     "solution": true
    }
   },
   "outputs": [],
   "source": [
    "def f(x):\n",
    "    '''Function equivalent to cos(x), should work for one argument or a numpy array'''\n",
    "    # YOUR CODE HERE\n",
    "    answer1 = numpy.cos(x)\n",
    "    print(answer1)\n",
    "    return answer1"
   ]
  },
  {
   "cell_type": "markdown",
   "metadata": {},
   "source": [
    "You can use the following cell to check that your code works for scalar arguments:"
   ]
  },
  {
   "cell_type": "code",
   "execution_count": 38,
   "metadata": {
    "deletable": false,
    "editable": false,
    "nbgrader": {
     "cell_type": "code",
     "checksum": "2082d9fd52c625314e4a39e59f390f6e",
     "grade": true,
     "grade_id": "f_definition_test",
     "locked": true,
     "points": 1,
     "schema_version": 3,
     "solution": false
    }
   },
   "outputs": [
    {
     "name": "stdout",
     "output_type": "stream",
     "text": [
      "0.8775825618903728\n"
     ]
    }
   ],
   "source": [
    "assert numpy.isclose(f(0.5),0.87758256189)"
   ]
  },
  {
   "cell_type": "markdown",
   "metadata": {},
   "source": [
    "Make sure your code also works with a numpy array:"
   ]
  },
  {
   "cell_type": "code",
   "execution_count": 39,
   "metadata": {
    "deletable": false,
    "editable": false,
    "nbgrader": {
     "cell_type": "code",
     "checksum": "70c0736ad8b19d67707ce9a4a41d1c1d",
     "grade": true,
     "grade_id": "f_definition_nparray_test",
     "locked": true,
     "points": 2,
     "schema_version": 3,
     "solution": false
    }
   },
   "outputs": [
    {
     "name": "stdout",
     "output_type": "stream",
     "text": [
      "[0.99500417 0.98006658 0.95533649 0.92106099 0.87758256 0.82533561]\n"
     ]
    }
   ],
   "source": [
    "xs = numpy.arange(start=0.1, stop=0.7, step=0.1)\n",
    "assert numpy.isclose(\n",
    "            f(xs), \n",
    "            [0.99500417, 0.98006658, 0.95533649, 0.92106099, 0.87758256, 0.82533561]\n",
    "        ).all()"
   ]
  },
  {
   "cell_type": "markdown",
   "metadata": {},
   "source": [
    "Define the analytic derivative of the function`f` here (again, it should work both for single numbers and numpy arrays)."
   ]
  },
  {
   "cell_type": "code",
   "execution_count": 40,
   "metadata": {
    "deletable": false,
    "nbgrader": {
     "cell_type": "code",
     "checksum": "4b7fc1950515ebb0059978953e308e3c",
     "grade": false,
     "grade_id": "analytic_derivative",
     "locked": false,
     "schema_version": 3,
     "solution": true
    }
   },
   "outputs": [],
   "source": [
    "def df_analytic(x):\n",
    "    '''\n",
    "    The analytic derivative\n",
    "    '''\n",
    "    # YOUR CODE HERE\n",
    "    answer2 = numpy.negative(numpy.sin(x))\n",
    "    print(answer2)\n",
    "    return answer2"
   ]
  },
  {
   "cell_type": "code",
   "execution_count": 41,
   "metadata": {
    "deletable": false,
    "editable": false,
    "nbgrader": {
     "cell_type": "code",
     "checksum": "4283305af7a4298e0fea76222b63e8e3",
     "grade": true,
     "grade_id": "g_definition_test",
     "locked": true,
     "points": 1,
     "schema_version": 3,
     "solution": false
    }
   },
   "outputs": [
    {
     "name": "stdout",
     "output_type": "stream",
     "text": [
      "-0.479425538604203\n"
     ]
    }
   ],
   "source": [
    "assert numpy.isclose(df_analytic(0.5), -0.4794255386)"
   ]
  },
  {
   "cell_type": "code",
   "execution_count": 42,
   "metadata": {
    "deletable": false,
    "editable": false,
    "nbgrader": {
     "cell_type": "code",
     "checksum": "01ac909c33f00b3ae7f21d63af18108c",
     "grade": true,
     "grade_id": "g_definition_nparray_test",
     "locked": true,
     "points": 2,
     "schema_version": 3,
     "solution": false
    }
   },
   "outputs": [
    {
     "name": "stdout",
     "output_type": "stream",
     "text": [
      "[-0.09983342 -0.19866933 -0.29552021 -0.38941834 -0.47942554 -0.56464247]\n"
     ]
    }
   ],
   "source": [
    "xs = numpy.arange(start=0.1, stop=0.7, step=0.1)\n",
    "assert numpy.isclose(\n",
    "            df_analytic(xs),\n",
    "            [-0.09983342, -0.19866933, -0.29552021, -0.38941834, -0.47942554,-0.56464247]\n",
    "        ).all()"
   ]
  },
  {
   "cell_type": "markdown",
   "metadata": {},
   "source": [
    "Now define the numerical derivative using the backward difference method. The function `backward_difference` takes three arguments, `f`, the function to calculate the derivative for, `x` the position to calculate the derivative at and `dx` the interval length."
   ]
  },
  {
   "cell_type": "code",
   "execution_count": 43,
   "metadata": {
    "deletable": false,
    "nbgrader": {
     "cell_type": "code",
     "checksum": "666506275ce4d793fc54d71f59a265aa",
     "grade": false,
     "grade_id": "backward_difference",
     "locked": false,
     "schema_version": 3,
     "solution": true
    }
   },
   "outputs": [],
   "source": [
    "def backward_difference(f, x, dx):\n",
    "    answer3 = (f(x)-f(x-dx))/dx\n",
    "    print(answer3)\n",
    "    return answer3"
   ]
  },
  {
   "cell_type": "code",
   "execution_count": 44,
   "metadata": {
    "deletable": false,
    "editable": false,
    "nbgrader": {
     "cell_type": "code",
     "checksum": "3abddc9169357ed6af5f0a4f20d65cb9",
     "grade": true,
     "grade_id": "backward_difference_test",
     "locked": true,
     "points": 2,
     "schema_version": 3,
     "solution": false
    }
   },
   "outputs": [
    {
     "name": "stdout",
     "output_type": "stream",
     "text": [
      "0.9950041652780258\n",
      "0.995014143644653\n",
      "-0.09978366627194646\n"
     ]
    }
   ],
   "source": [
    "assert numpy.isclose(\n",
    "    backward_difference(f, 0.1, 0.0001),\n",
    "    -0.09978366627194646\n",
    ")"
   ]
  },
  {
   "cell_type": "markdown",
   "metadata": {
    "deletable": false,
    "editable": false,
    "nbgrader": {
     "cell_type": "markdown",
     "checksum": "9bacab6495b93e15875a5756864d7b88",
     "grade": false,
     "grade_id": "cell-98dd708e585b083b",
     "locked": true,
     "points": 8,
     "schema_version": 3,
     "solution": false,
     "task": true
    }
   },
   "source": [
    "**Task 1:**\n",
    "\n",
    "Here is a skeleton code to plot the difference between the analytical derivative and the numerical implementation. Modify and expand it to provide a plot with three curves for the difference for a case where $dx$ is too large, about right and too small. The plot should have a legend, labelled axes and a title.\n",
    "\n",
    "You can get help about plotting on the Python handbook that you can find at:\n",
    "\n",
    "https://dmaitre.phyip3.dur.ac.uk/notes/l1python/part-5/\n"
   ]
  },
  {
   "cell_type": "code",
   "execution_count": 56,
   "metadata": {},
   "outputs": [
    {
     "name": "stdout",
     "output_type": "stream",
     "text": [
      "[ 1.          0.99195481  0.9679487   0.92836793  0.87384938  0.80527026\n",
      "  0.72373404  0.63055267  0.52722547  0.41541501  0.29692038  0.17364818\n",
      "  0.04758192 -0.07924996 -0.20480667 -0.32706796 -0.44406661 -0.55392006\n",
      " -0.65486073 -0.74526445 -0.82367658 -0.88883545 -0.93969262 -0.97542979\n",
      " -0.99547192 -0.99949654 -0.98743889 -0.95949297 -0.91610846 -0.85798341\n",
      " -0.78605309 -0.70147489 -0.60560969 -0.5        -0.38634513 -0.26647381\n",
      " -0.14231484 -0.01586596  0.1108382   0.23575894  0.35688622  0.47227107\n",
      "  0.58005691  0.67850941  0.76604444  0.84125353  0.90292654  0.95007112\n",
      "  0.9819287   0.99798668  0.99798668  0.9819287   0.95007112  0.90292654\n",
      "  0.84125353  0.76604444  0.67850941  0.58005691  0.47227107  0.35688622\n",
      "  0.23575894  0.1108382  -0.01586596 -0.14231484 -0.26647381 -0.38634513\n",
      " -0.5        -0.60560969 -0.70147489 -0.78605309 -0.85798341 -0.91610846\n",
      " -0.95949297 -0.98743889 -0.99949654 -0.99547192 -0.97542979 -0.93969262\n",
      " -0.88883545 -0.82367658 -0.74526445 -0.65486073 -0.55392006 -0.44406661\n",
      " -0.32706796 -0.20480667 -0.07924996  0.04758192  0.17364818  0.29692038\n",
      "  0.41541501  0.52722547  0.63055267  0.72373404  0.80527026  0.87384938\n",
      "  0.92836793  0.9679487   0.99195481  1.        ]\n",
      "[-0.83907153 -0.90119001 -0.948808   -0.98115932 -0.99772342 -0.99823378\n",
      " -0.98268218 -0.95131885 -0.90464845 -0.84342192 -0.76862441 -0.68145945\n",
      " -0.58332955 -0.47581366 -0.36064175 -0.23966698 -0.11483588  0.01184298\n",
      "  0.13833127  0.26259377  0.38263103  0.49651162  0.60240315  0.69860178\n",
      "  0.78355965  0.85590976  0.91448795  0.9583517   0.9867952   0.9993608\n",
      "  0.99584631  0.97630828  0.94106109  0.89067187  0.8259514   0.74794107\n",
      "  0.65789609  0.55726531  0.44766793  0.3308674   0.20874309  0.08326003\n",
      " -0.04356272 -0.16968453 -0.29307605 -0.41175187 -0.52380245 -0.62742484\n",
      " -0.72095174 -0.80287826 -0.87188616 -0.92686509 -0.96693041 -0.99143746\n",
      " -0.99999191 -0.99245611 -0.96895133 -0.92985575 -0.87579845 -0.80764922\n",
      " -0.72650462 -0.63367028 -0.53063996 -0.41907143 -0.30075989 -0.17760901\n",
      " -0.05160034  0.07523861  0.20086693  0.32326323  0.44045811  0.55056585\n",
      "  0.65181478  0.74257576  0.82138843  0.88698464  0.93830894  0.9745355\n",
      "  0.99508142  0.99961611  0.98806659  0.96061872  0.91771413  0.86004318\n",
      "  0.78853381  0.70433664  0.60880643  0.50348029  0.39005297  0.27034954\n",
      "  0.1462961   0.01988869 -0.10683873 -0.23184708 -0.35312492 -0.46872084\n",
      " -0.57677488 -0.67554839 -0.76345207 -0.83907153]\n",
      "[ 0.18390715  0.18931448  0.19167567  0.19095273  0.18715728  0.1803504\n",
      "  0.17064162  0.15818715  0.14318739  0.12588369  0.10655448  0.08551076\n",
      "  0.06309115  0.03965637  0.01558351 -0.0087401  -0.03292307 -0.0565763\n",
      " -0.0793192  -0.10078582 -0.12063076 -0.13853471 -0.15420958 -0.16740316\n",
      " -0.17790316 -0.18554063 -0.19019268 -0.19178447 -0.19029037 -0.18573442\n",
      " -0.17818994 -0.16777832 -0.15466708 -0.13906719 -0.12122965 -0.10144149\n",
      " -0.08002109 -0.05731313 -0.03368297 -0.00951085  0.01481431  0.0389011\n",
      "  0.06236196  0.08481939  0.10591205  0.12530054  0.1426729   0.1577496\n",
      "  0.17028804  0.18008649  0.18698728  0.19087938  0.19170015  0.1894364\n",
      "  0.18412454  0.17585006  0.16474607  0.15099127  0.13480695  0.11645354\n",
      "  0.09622636  0.07445085  0.0514774   0.02767566  0.00342861 -0.02087361\n",
      " -0.04483997 -0.06808483 -0.09023418 -0.11093163 -0.12984415 -0.14666743\n",
      " -0.16113078 -0.17300147 -0.1820885  -0.18824566 -0.19137387 -0.19142281\n",
      " -0.18839169 -0.18232927 -0.1733331  -0.16154795 -0.14716342 -0.13041098\n",
      " -0.11156018 -0.09091433 -0.06880564 -0.04558984 -0.02164048  0.00265708\n",
      "  0.02691189  0.05073368  0.07373914  0.09555811  0.11583952  0.13425702\n",
      "  0.15051428  0.16434971  0.17554069  0.18390715]\n",
      "[ 1.          0.99195481  0.9679487   0.92836793  0.87384938  0.80527026\n",
      "  0.72373404  0.63055267  0.52722547  0.41541501  0.29692038  0.17364818\n",
      "  0.04758192 -0.07924996 -0.20480667 -0.32706796 -0.44406661 -0.55392006\n",
      " -0.65486073 -0.74526445 -0.82367658 -0.88883545 -0.93969262 -0.97542979\n",
      " -0.99547192 -0.99949654 -0.98743889 -0.95949297 -0.91610846 -0.85798341\n",
      " -0.78605309 -0.70147489 -0.60560969 -0.5        -0.38634513 -0.26647381\n",
      " -0.14231484 -0.01586596  0.1108382   0.23575894  0.35688622  0.47227107\n",
      "  0.58005691  0.67850941  0.76604444  0.84125353  0.90292654  0.95007112\n",
      "  0.9819287   0.99798668  0.99798668  0.9819287   0.95007112  0.90292654\n",
      "  0.84125353  0.76604444  0.67850941  0.58005691  0.47227107  0.35688622\n",
      "  0.23575894  0.1108382  -0.01586596 -0.14231484 -0.26647381 -0.38634513\n",
      " -0.5        -0.60560969 -0.70147489 -0.78605309 -0.85798341 -0.91610846\n",
      " -0.95949297 -0.98743889 -0.99949654 -0.99547192 -0.97542979 -0.93969262\n",
      " -0.88883545 -0.82367658 -0.74526445 -0.65486073 -0.55392006 -0.44406661\n",
      " -0.32706796 -0.20480667 -0.07924996  0.04758192  0.17364818  0.29692038\n",
      "  0.41541501  0.52722547  0.63055267  0.72373404  0.80527026  0.87384938\n",
      "  0.92836793  0.9679487   0.99195481  1.        ]\n",
      "[ 1.          0.99195481  0.9679487   0.92836794  0.87384938  0.80527026\n",
      "  0.72373405  0.63055267  0.52722548  0.41541502  0.29692038  0.17364819\n",
      "  0.04758193 -0.07924995 -0.20480666 -0.32706795 -0.4440666  -0.55392006\n",
      " -0.65486073 -0.74526444 -0.82367658 -0.88883544 -0.93969262 -0.97542978\n",
      " -0.99547192 -0.99949654 -0.98743889 -0.95949298 -0.91610846 -0.85798342\n",
      " -0.7860531  -0.70147489 -0.6056097  -0.50000001 -0.38634513 -0.26647382\n",
      " -0.14231485 -0.01586597  0.11083819  0.23575893  0.35688621  0.47227107\n",
      "  0.5800569   0.6785094   0.76604444  0.84125353  0.90292653  0.95007111\n",
      "  0.9819287   0.99798668  0.99798668  0.9819287   0.95007112  0.90292654\n",
      "  0.84125354  0.76604445  0.67850942  0.58005692  0.47227108  0.35688623\n",
      "  0.23575895  0.11083821 -0.01586595 -0.14231483 -0.2664738  -0.38634512\n",
      " -0.49999999 -0.60560968 -0.70147488 -0.78605309 -0.85798341 -0.91610845\n",
      " -0.95949297 -0.98743889 -0.99949654 -0.99547192 -0.97542979 -0.93969262\n",
      " -0.88883545 -0.82367659 -0.74526446 -0.65486074 -0.55392007 -0.44406662\n",
      " -0.32706797 -0.20480668 -0.07924997  0.04758191  0.17364817  0.29692037\n",
      "  0.415415    0.52722546  0.63055266  0.72373403  0.80527025  0.87384937\n",
      "  0.92836793  0.9679487   0.99195481  1.        ]\n",
      "[ 0.         -0.12659245 -0.25114798 -0.37166246 -0.48619673 -0.59290792\n",
      " -0.69007901 -0.77614646 -0.84972542 -0.90963199 -0.95490223 -0.98480775\n",
      " -0.99886733 -0.99685477 -0.97880244 -0.94500081 -0.89599377 -0.83256986\n",
      " -0.75574957 -0.666769   -0.56705987 -0.45822652 -0.34202015 -0.22031054\n",
      " -0.09505605  0.03172793  0.15800139  0.28173255  0.40093052  0.51367739\n",
      "  0.61815898  0.71269417  0.79576183  0.8660254   0.92235429  0.96384215\n",
      "  0.98982143  0.99987412  0.99383846  0.97181156  0.93414786  0.88145336\n",
      "  0.81457596  0.73459172  0.64278762  0.54064082  0.42979492  0.31203344\n",
      "  0.18925125  0.06342393 -0.06342392 -0.18925124 -0.31203344 -0.42979491\n",
      " -0.54064082 -0.64278761 -0.73459171 -0.81457595 -0.88145335 -0.93414785\n",
      " -0.97181156 -0.99383846 -0.99987412 -0.98982144 -0.96384216 -0.92235429\n",
      " -0.86602541 -0.79576183 -0.71269417 -0.61815899 -0.51367739 -0.40093053\n",
      " -0.28173256 -0.1580014  -0.03172794  0.09505604  0.22031053  0.34202013\n",
      "  0.45822651  0.56705985  0.666769    0.75574956  0.83256985  0.89599377\n",
      "  0.94500081  0.97880244  0.99685477  0.99886733  0.98480775  0.95490224\n",
      "  0.90963199  0.84972542  0.77614646  0.69007902  0.59290792  0.48619674\n",
      "  0.37166246  0.25114799  0.12659246  0.        ]\n",
      "[ 1.          0.99195481  0.9679487   0.92836793  0.87384938  0.80527026\n",
      "  0.72373404  0.63055267  0.52722547  0.41541501  0.29692038  0.17364818\n",
      "  0.04758192 -0.07924996 -0.20480667 -0.32706796 -0.44406661 -0.55392006\n",
      " -0.65486073 -0.74526445 -0.82367658 -0.88883545 -0.93969262 -0.97542979\n",
      " -0.99547192 -0.99949654 -0.98743889 -0.95949297 -0.91610846 -0.85798341\n",
      " -0.78605309 -0.70147489 -0.60560969 -0.5        -0.38634513 -0.26647381\n",
      " -0.14231484 -0.01586596  0.1108382   0.23575894  0.35688622  0.47227107\n",
      "  0.58005691  0.67850941  0.76604444  0.84125353  0.90292654  0.95007112\n",
      "  0.9819287   0.99798668  0.99798668  0.9819287   0.95007112  0.90292654\n",
      "  0.84125353  0.76604444  0.67850941  0.58005691  0.47227107  0.35688622\n",
      "  0.23575894  0.1108382  -0.01586596 -0.14231484 -0.26647381 -0.38634513\n",
      " -0.5        -0.60560969 -0.70147489 -0.78605309 -0.85798341 -0.91610846\n",
      " -0.95949297 -0.98743889 -0.99949654 -0.99547192 -0.97542979 -0.93969262\n",
      " -0.88883545 -0.82367658 -0.74526445 -0.65486073 -0.55392006 -0.44406661\n",
      " -0.32706796 -0.20480667 -0.07924996  0.04758192  0.17364818  0.29692038\n",
      "  0.41541501  0.52722547  0.63055267  0.72373404  0.80527026  0.87384938\n",
      "  0.92836793  0.9679487   0.99195481  1.        ]\n",
      "[ 1.          0.99195481  0.9679487   0.92836793  0.87384938  0.80527026\n",
      "  0.72373404  0.63055267  0.52722547  0.41541501  0.29692038  0.17364818\n",
      "  0.04758192 -0.07924996 -0.20480667 -0.32706796 -0.44406661 -0.55392006\n",
      " -0.65486073 -0.74526445 -0.82367658 -0.88883545 -0.93969262 -0.97542979\n",
      " -0.99547192 -0.99949654 -0.98743889 -0.95949297 -0.91610846 -0.85798341\n",
      " -0.78605309 -0.70147489 -0.60560969 -0.5        -0.38634513 -0.26647381\n",
      " -0.14231484 -0.01586596  0.1108382   0.23575894  0.35688622  0.47227107\n",
      "  0.58005691  0.67850941  0.76604444  0.84125353  0.90292654  0.95007112\n",
      "  0.9819287   0.99798668  0.99798668  0.9819287   0.95007112  0.90292654\n",
      "  0.84125353  0.76604444  0.67850941  0.58005691  0.47227107  0.35688622\n",
      "  0.23575894  0.1108382  -0.01586596 -0.14231484 -0.26647381 -0.38634513\n",
      " -0.5        -0.60560969 -0.70147489 -0.78605309 -0.85798341 -0.91610846\n",
      " -0.95949297 -0.98743889 -0.99949654 -0.99547192 -0.97542979 -0.93969262\n",
      " -0.88883545 -0.82367658 -0.74526445 -0.65486073 -0.55392006 -0.44406661\n",
      " -0.32706796 -0.20480667 -0.07924996  0.04758192  0.17364818  0.29692038\n",
      "  0.41541501  0.52722547  0.63055267  0.72373404  0.80527026  0.87384938\n",
      "  0.92836793  0.9679487   0.99195481  1.        ]\n",
      "[0. 0. 0. 0. 0. 0. 0. 0. 0. 0. 0. 0. 0. 0. 0. 0. 0. 0. 0. 0. 0. 0. 0. 0.\n",
      " 0. 0. 0. 0. 0. 0. 0. 0. 0. 0. 0. 0. 0. 0. 0. 0. 0. 0. 0. 0. 0. 0. 0. 0.\n",
      " 0. 0. 0. 0. 0. 0. 0. 0. 0. 0. 0. 0. 0. 0. 0. 0. 0. 0. 0. 0. 0. 0. 0. 0.\n",
      " 0. 0. 0. 0. 0. 0. 0. 0. 0. 0. 0. 0. 0. 0. 0. 0. 0. 0. 0. 0. 0. 0. 0. 0.\n",
      " 0. 0. 0. 0.]\n",
      "[-2.44929360e-16 -1.26592454e-01 -2.51147987e-01 -3.71662456e-01\n",
      " -4.86196736e-01 -5.92907929e-01 -6.90079011e-01 -7.76146464e-01\n",
      " -8.49725430e-01 -9.09631995e-01 -9.54902241e-01 -9.84807753e-01\n",
      " -9.98867339e-01 -9.96854776e-01 -9.78802446e-01 -9.45000819e-01\n",
      " -8.95993774e-01 -8.32569855e-01 -7.55749574e-01 -6.66769001e-01\n",
      " -5.67059864e-01 -4.58226522e-01 -3.42020143e-01 -2.20310533e-01\n",
      " -9.50560433e-02  3.17279335e-02  1.58001396e-01  2.81732557e-01\n",
      "  4.00930535e-01  5.13677392e-01  6.18158986e-01  7.12694171e-01\n",
      "  7.95761841e-01  8.66025404e-01  9.22354294e-01  9.63842159e-01\n",
      "  9.89821442e-01  9.99874128e-01  9.93838464e-01  9.71811568e-01\n",
      "  9.34147860e-01  8.81453363e-01  8.14575952e-01  7.34591709e-01\n",
      "  6.42787610e-01  5.40640817e-01  4.29794912e-01  3.12033446e-01\n",
      "  1.89251244e-01  6.34239197e-02 -6.34239197e-02 -1.89251244e-01\n",
      " -3.12033446e-01 -4.29794912e-01 -5.40640817e-01 -6.42787610e-01\n",
      " -7.34591709e-01 -8.14575952e-01 -8.81453363e-01 -9.34147860e-01\n",
      " -9.71811568e-01 -9.93838464e-01 -9.99874128e-01 -9.89821442e-01\n",
      " -9.63842159e-01 -9.22354294e-01 -8.66025404e-01 -7.95761841e-01\n",
      " -7.12694171e-01 -6.18158986e-01 -5.13677392e-01 -4.00930535e-01\n",
      " -2.81732557e-01 -1.58001396e-01 -3.17279335e-02  9.50560433e-02\n",
      "  2.20310533e-01  3.42020143e-01  4.58226522e-01  5.67059864e-01\n",
      "  6.66769001e-01  7.55749574e-01  8.32569855e-01  8.95993774e-01\n",
      "  9.45000819e-01  9.78802446e-01  9.96854776e-01  9.98867339e-01\n",
      "  9.84807753e-01  9.54902241e-01  9.09631995e-01  8.49725430e-01\n",
      "  7.76146464e-01  6.90079011e-01  5.92907929e-01  4.86196736e-01\n",
      "  3.71662456e-01  2.51147987e-01  1.26592454e-01  2.44929360e-16]\n"
     ]
    },
    {
     "data": {
      "text/plain": [
       "Text(0.5,1,'A plot to represent the difference between the analytical derivative and the numerical implementation')"
      ]
     },
     "execution_count": 56,
     "metadata": {},
     "output_type": "execute_result"
    },
    {
     "data": {
      "image/png": "[encoded data removed]",
      "text/plain": [
       "<Figure size 576x288 with 1 Axes>"
      ]
     },
     "metadata": {},
     "output_type": "display_data"
    }
   ],
   "source": [
    "xs = numpy.linspace(-2*numpy.pi,2*numpy.pi,100)\n",
    "df_dx_tooLarge = backward_difference(f, xs, dx=10)\n",
    "df_dx_aboutRight = backward_difference(f, xs, dx=1e-8)\n",
    "df_dx_tooSmall = backward_difference(f, xs, dx=1e-20)\n",
    "df_dx_analytical = df_analytic(xs)\n",
    "plt.figure(figsize=(8, 4))\n",
    "plt.xlabel(\"X Values of F\")\n",
    "plt.ylabel(\"Df dx - Df dx analytical\")\n",
    "plt.plot(xs, df_dx_tooLarge - df_dx_analytical, label='Too Large dx')\n",
    "plt.plot(xs, df_dx_aboutRight - df_dx_analytical, label='About Right dx')\n",
    "plt.plot(xs, df_dx_tooSmall - df_dx_analytical, label='Too Small dx')\n",
    "plt.legend(loc='upper right')\n",
    "plt.title('A plot to represent the difference between the analytical derivative and the numerical implementation')"
   ]
  },
  {
   "cell_type": "markdown",
   "metadata": {},
   "source": [
    "**Task 2: ** \n",
    "\n",
    "Describe in the text box below why the numerical method looses accuracy in the case where\n",
    "$\\Delta x$ is too small and the case where $\\Delta x$ is too large. (Double-click on \"YOUR ANSWER HERE\" to edit.)\n"
   ]
  },
  {
   "cell_type": "markdown",
   "metadata": {
    "deletable": false,
    "nbgrader": {
     "cell_type": "markdown",
     "checksum": "606635d14bb3842f745cb0c7a1feff71",
     "grade": true,
     "grade_id": "textAnswer",
     "locked": false,
     "points": 4,
     "schema_version": 3,
     "solution": true
    }
   },
   "source": [
    "YOUR ANSWER HERE"
   ]
  }
 ],
 "metadata": {
  "kernelspec": {
   "display_name": "Python 3",
   "language": "python",
   "name": "python3"
  },
  "language_info": {
   "codemirror_mode": {
    "name": "ipython",
    "version": 3
   },
   "file_extension": ".py",
   "mimetype": "text/x-python",
   "name": "python",
   "nbconvert_exporter": "python",
   "pygments_lexer": "ipython3",
   "version": "3.6.3"
  }
 },
 "nbformat": 4,
 "nbformat_minor": 2
}
