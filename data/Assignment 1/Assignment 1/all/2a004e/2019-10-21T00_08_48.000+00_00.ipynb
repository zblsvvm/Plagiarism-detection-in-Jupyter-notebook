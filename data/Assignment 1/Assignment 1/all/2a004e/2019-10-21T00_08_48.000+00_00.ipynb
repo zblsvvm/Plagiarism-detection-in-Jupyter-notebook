{
 "cells": [
  {
   "cell_type": "markdown",
   "metadata": {},
   "source": [
    "# Assignment 1"
   ]
  },
  {
   "cell_type": "markdown",
   "metadata": {},
   "source": [
    "First we need to import a few modules, execute the cell below:"
   ]
  },
  {
   "cell_type": "code",
   "execution_count": 5,
   "metadata": {},
   "outputs": [],
   "source": [
    "import numpy \n",
    "import matplotlib.pyplot as plt\n",
    "%matplotlib inline"
   ]
  },
  {
   "cell_type": "markdown",
   "metadata": {},
   "source": [
    "Define a function `f` that is equivalent to $f(x)=\\cos(x)$. It should work both for single arguments and `numpy` arrays."
   ]
  },
  {
   "cell_type": "code",
   "execution_count": 6,
   "metadata": {
    "deletable": false,
    "nbgrader": {
     "cell_type": "code",
     "checksum": "c684a668b7fe249782a52eb737551d4e",
     "grade": false,
     "grade_id": "f_definition",
     "locked": false,
     "schema_version": 3,
     "solution": true
    }
   },
   "outputs": [],
   "source": [
    "def f(x):\n",
    "    '''Function equivalent to cos(x), should work for one argument or a numpy array'''\n",
    "    # YOUR CODE HERE\n",
    "    F=numpy.cos(x)\n",
    "    print (F)\n",
    "    return (F)"
   ]
  },
  {
   "cell_type": "markdown",
   "metadata": {},
   "source": [
    "You can use the following cell to check that your code works for scalar arguments:"
   ]
  },
  {
   "cell_type": "code",
   "execution_count": 7,
   "metadata": {
    "deletable": false,
    "editable": false,
    "nbgrader": {
     "cell_type": "code",
     "checksum": "2082d9fd52c625314e4a39e59f390f6e",
     "grade": true,
     "grade_id": "f_definition_test",
     "locked": true,
     "points": 1,
     "schema_version": 3,
     "solution": false
    }
   },
   "outputs": [
    {
     "name": "stdout",
     "output_type": "stream",
     "text": [
      "0.8775825618903728\n"
     ]
    }
   ],
   "source": [
    "assert numpy.isclose(f(0.5),0.87758256189)"
   ]
  },
  {
   "cell_type": "markdown",
   "metadata": {},
   "source": [
    "Make sure your code also works with a numpy array:"
   ]
  },
  {
   "cell_type": "code",
   "execution_count": 8,
   "metadata": {
    "deletable": false,
    "editable": false,
    "nbgrader": {
     "cell_type": "code",
     "checksum": "70c0736ad8b19d67707ce9a4a41d1c1d",
     "grade": true,
     "grade_id": "f_definition_nparray_test",
     "locked": true,
     "points": 2,
     "schema_version": 3,
     "solution": false
    }
   },
   "outputs": [
    {
     "name": "stdout",
     "output_type": "stream",
     "text": [
      "[0.99500417 0.98006658 0.95533649 0.92106099 0.87758256 0.82533561]\n"
     ]
    }
   ],
   "source": [
    "xs = numpy.arange(start=0.1, stop=0.7, step=0.1)\n",
    "assert numpy.isclose(\n",
    "            f(xs), \n",
    "            [0.99500417, 0.98006658, 0.95533649, 0.92106099, 0.87758256, 0.82533561]\n",
    "        ).all()"
   ]
  },
  {
   "cell_type": "markdown",
   "metadata": {},
   "source": [
    "Define the analytic derivative of the function`f` here (again, it should work both for single numbers and numpy arrays)."
   ]
  },
  {
   "cell_type": "code",
   "execution_count": 9,
   "metadata": {
    "deletable": false,
    "nbgrader": {
     "cell_type": "code",
     "checksum": "4b7fc1950515ebb0059978953e308e3c",
     "grade": false,
     "grade_id": "analytic_derivative",
     "locked": false,
     "schema_version": 3,
     "solution": true
    }
   },
   "outputs": [],
   "source": [
    "def df_analytic(x):\n",
    "    '''\n",
    "    The analytic derivative\n",
    "    '''\n",
    "    # YOUR CODE HERE\n",
    "    FF=-numpy.sin(x)\n",
    "    print (FF)\n",
    "    return (FF)"
   ]
  },
  {
   "cell_type": "code",
   "execution_count": 27,
   "metadata": {
    "deletable": false,
    "editable": false,
    "nbgrader": {
     "cell_type": "code",
     "checksum": "4283305af7a4298e0fea76222b63e8e3",
     "grade": true,
     "grade_id": "g_definition_test",
     "locked": true,
     "points": 1,
     "schema_version": 3,
     "solution": false
    }
   },
   "outputs": [
    {
     "name": "stdout",
     "output_type": "stream",
     "text": [
      "-0.479425538604203\n"
     ]
    }
   ],
   "source": [
    "assert numpy.isclose(df_analytic(0.5), -0.4794255386)"
   ]
  },
  {
   "cell_type": "code",
   "execution_count": 10,
   "metadata": {
    "deletable": false,
    "editable": false,
    "nbgrader": {
     "cell_type": "code",
     "checksum": "01ac909c33f00b3ae7f21d63af18108c",
     "grade": true,
     "grade_id": "g_definition_nparray_test",
     "locked": true,
     "points": 2,
     "schema_version": 3,
     "solution": false
    }
   },
   "outputs": [
    {
     "name": "stdout",
     "output_type": "stream",
     "text": [
      "[-0.09983342 -0.19866933 -0.29552021 -0.38941834 -0.47942554 -0.56464247]\n"
     ]
    }
   ],
   "source": [
    "xs = numpy.arange(start=0.1, stop=0.7, step=0.1)\n",
    "assert numpy.isclose(\n",
    "            df_analytic(xs),\n",
    "            [-0.09983342, -0.19866933, -0.29552021, -0.38941834, -0.47942554,-0.56464247]\n",
    "        ).all()"
   ]
  },
  {
   "cell_type": "markdown",
   "metadata": {},
   "source": [
    "Now define the numerical derivative using the backward difference method. The function `backward_difference` takes three arguments, `f`, the function to calculate the derivative for, `x` the position to calculate the derivative at and `dx` the interval length."
   ]
  },
  {
   "cell_type": "code",
   "execution_count": 11,
   "metadata": {
    "deletable": false,
    "nbgrader": {
     "cell_type": "code",
     "checksum": "666506275ce4d793fc54d71f59a265aa",
     "grade": false,
     "grade_id": "backward_difference",
     "locked": false,
     "schema_version": 3,
     "solution": true
    }
   },
   "outputs": [],
   "source": [
    "def backward_difference(f, x, dx):\n",
    "    '''\n",
    "    This function implements the backward difference method for the \n",
    "    first derivative of the function f at position x using interval\n",
    "    dx.\n",
    "    '''\n",
    "    # YOUR CODE HERE\n",
    "    A=(f(x)-f(x-dx))/(dx)\n",
    "    print (A)\n",
    "    return (A)"
   ]
  },
  {
   "cell_type": "code",
   "execution_count": 12,
   "metadata": {
    "deletable": false,
    "editable": false,
    "nbgrader": {
     "cell_type": "code",
     "checksum": "3abddc9169357ed6af5f0a4f20d65cb9",
     "grade": true,
     "grade_id": "backward_difference_test",
     "locked": true,
     "points": 2,
     "schema_version": 3,
     "solution": false
    }
   },
   "outputs": [
    {
     "name": "stdout",
     "output_type": "stream",
     "text": [
      "0.9950041652780258\n",
      "0.995014143644653\n",
      "-0.09978366627194646\n"
     ]
    }
   ],
   "source": [
    "assert numpy.isclose(\n",
    "    backward_difference(f, 0.1, 0.0001),\n",
    "    -0.09978366627194646\n",
    ")"
   ]
  },
  {
   "cell_type": "markdown",
   "metadata": {
    "deletable": false,
    "editable": false,
    "nbgrader": {
     "cell_type": "markdown",
     "checksum": "9bacab6495b93e15875a5756864d7b88",
     "grade": false,
     "grade_id": "cell-98dd708e585b083b",
     "locked": true,
     "points": 8,
     "schema_version": 3,
     "solution": false,
     "task": true
    }
   },
   "source": [
    "**Task 1:**\n",
    "\n",
    "Here is a skeleton code to plot the difference between the analytical derivative and the numerical implementation. Modify and expand it to provide a plot with three curves for the difference for a case where $dx$ is too large, about right and too small. The plot should have a legend, labelled axes and a title.\n",
    "\n",
    "You can get help about plotting on the Python handbook that you can find at:\n",
    "\n",
    "https://dmaitre.phyip3.dur.ac.uk/notes/l1python/part-5/\n"
   ]
  },
  {
   "cell_type": "code",
   "execution_count": 17,
   "metadata": {},
   "outputs": [
    {
     "name": "stdout",
     "output_type": "stream",
     "text": [
      "[ 1.          0.99195481  0.9679487   0.92836793  0.87384938  0.80527026\n",
      "  0.72373404  0.63055267  0.52722547  0.41541501  0.29692038  0.17364818\n",
      "  0.04758192 -0.07924996 -0.20480667 -0.32706796 -0.44406661 -0.55392006\n",
      " -0.65486073 -0.74526445 -0.82367658 -0.88883545 -0.93969262 -0.97542979\n",
      " -0.99547192 -0.99949654 -0.98743889 -0.95949297 -0.91610846 -0.85798341\n",
      " -0.78605309 -0.70147489 -0.60560969 -0.5        -0.38634513 -0.26647381\n",
      " -0.14231484 -0.01586596  0.1108382   0.23575894  0.35688622  0.47227107\n",
      "  0.58005691  0.67850941  0.76604444  0.84125353  0.90292654  0.95007112\n",
      "  0.9819287   0.99798668  0.99798668  0.9819287   0.95007112  0.90292654\n",
      "  0.84125353  0.76604444  0.67850941  0.58005691  0.47227107  0.35688622\n",
      "  0.23575894  0.1108382  -0.01586596 -0.14231484 -0.26647381 -0.38634513\n",
      " -0.5        -0.60560969 -0.70147489 -0.78605309 -0.85798341 -0.91610846\n",
      " -0.95949297 -0.98743889 -0.99949654 -0.99547192 -0.97542979 -0.93969262\n",
      " -0.88883545 -0.82367658 -0.74526445 -0.65486073 -0.55392006 -0.44406661\n",
      " -0.32706796 -0.20480667 -0.07924996  0.04758192  0.17364818  0.29692038\n",
      "  0.41541501  0.52722547  0.63055267  0.72373404  0.80527026  0.87384938\n",
      "  0.92836793  0.9679487   0.99195481  1.        ]\n",
      "[ 1.          0.99196747  0.96797381  0.92840509  0.87389799  0.80532954\n",
      "  0.72380304  0.63063028  0.52731044  0.41550597  0.29701586  0.17374666\n",
      "  0.0476818  -0.07915027 -0.20470879 -0.32697346 -0.44397701 -0.5538368\n",
      " -0.65478516 -0.74519777 -0.82361987 -0.88878962 -0.93965841 -0.97540775\n",
      " -0.99546241 -0.99949971 -0.98745468 -0.95952114 -0.91614855 -0.85803478\n",
      " -0.78611491 -0.70154615 -0.60568926 -0.5000866  -0.38643736 -0.2665702\n",
      " -0.14241382 -0.01596595  0.11073882  0.23566175  0.35679281  0.47218293\n",
      "  0.57997545  0.67843595  0.76598016  0.84119946  0.90288355  0.95003991\n",
      "  0.98190977  0.99798033  0.99799301  0.98194762  0.95010232  0.90296951\n",
      "  0.84130759  0.76610872  0.67858287  0.58013836  0.47235922  0.35697963\n",
      "  0.23585612  0.11093758 -0.01576598 -0.14221586 -0.26637743 -0.38625289\n",
      " -0.49991339 -0.60553011 -0.70140361 -0.78599127 -0.85793204 -0.91606836\n",
      " -0.9594648  -0.98742308 -0.99949336 -0.99548142 -0.97545181 -0.93972682\n",
      " -0.88888127 -0.82373328 -0.74533112 -0.65493631 -0.55400332 -0.44415621\n",
      " -0.32716246 -0.20490455 -0.07934964  0.04748203  0.1735497   0.29682488\n",
      "  0.41532405  0.52714049  0.63047505  0.72366503  0.80521096  0.87380075\n",
      "  0.92833076  0.96792358  0.99194215  1.        ]\n",
      "[ 4.99999997e-05 -1.26542856e-01 -2.51099589e-01 -3.71616037e-01\n",
      " -4.86153043e-01 -5.92867665e-01 -6.90042824e-01 -7.76114935e-01\n",
      " -8.49699067e-01 -9.09611223e-01 -9.54887394e-01 -9.84799069e-01\n",
      " -9.98864958e-01 -9.96858737e-01 -9.78812685e-01 -9.45017171e-01\n",
      " -8.96015976e-01 -8.32597549e-01 -7.55782316e-01 -6.66806263e-01\n",
      " -5.67101047e-01 -4.58270963e-01 -3.42067127e-01 -2.20359304e-01\n",
      " -9.51058167e-02  3.16779586e-02  1.57952024e-01  2.81684582e-01\n",
      "  4.00884729e-01  5.13634492e-01  6.18119683e-01  7.12659096e-01\n",
      "  7.95731559e-01  8.66000402e-01  9.22334975e-01  9.63828833e-01\n",
      "  9.89814324e-01  9.99873333e-01  9.93844005e-01  9.71823355e-01\n",
      "  9.34165703e-01  8.81476976e-01  8.14604954e-01  7.34625633e-01\n",
      "  6.42825911e-01  5.40682879e-01  4.29840058e-01  3.12080949e-01\n",
      "  1.89300340e-01  6.34738189e-02 -6.33740202e-02 -1.89202148e-01\n",
      " -3.11985942e-01 -4.29749765e-01 -5.40598754e-01 -6.42749306e-01\n",
      " -7.34557782e-01 -8.14546948e-01 -8.81429748e-01 -9.34130014e-01\n",
      " -9.71799779e-01 -9.93832921e-01 -9.99874919e-01 -9.89828556e-01\n",
      " -9.63855481e-01 -9.22373610e-01 -8.66050402e-01 -7.95792120e-01\n",
      " -7.12729244e-01 -6.18198288e-01 -5.13720290e-01 -4.00976340e-01\n",
      " -2.81780531e-01 -1.58050768e-01 -3.17779083e-02  9.50062695e-02\n",
      "  2.20261761e-01  3.41973158e-01  4.58182079e-01  5.67018679e-01\n",
      "  6.66731736e-01  7.55716830e-01  8.32542157e-01  8.95971569e-01\n",
      "  9.44984464e-01  9.78792204e-01  9.96850812e-01  9.98869717e-01\n",
      "  9.84816434e-01  9.54917086e-01  9.09652765e-01  8.49751790e-01\n",
      "  7.76177991e-01  6.90115197e-01  5.92948192e-01  4.86240428e-01\n",
      "  3.71708873e-01  2.51196384e-01  1.26642051e-01  4.99999997e-05]\n",
      "[ 1.          0.99195481  0.9679487   0.92836793  0.87384938  0.80527026\n",
      "  0.72373404  0.63055267  0.52722547  0.41541501  0.29692038  0.17364818\n",
      "  0.04758192 -0.07924996 -0.20480667 -0.32706796 -0.44406661 -0.55392006\n",
      " -0.65486073 -0.74526445 -0.82367658 -0.88883545 -0.93969262 -0.97542979\n",
      " -0.99547192 -0.99949654 -0.98743889 -0.95949297 -0.91610846 -0.85798341\n",
      " -0.78605309 -0.70147489 -0.60560969 -0.5        -0.38634513 -0.26647381\n",
      " -0.14231484 -0.01586596  0.1108382   0.23575894  0.35688622  0.47227107\n",
      "  0.58005691  0.67850941  0.76604444  0.84125353  0.90292654  0.95007112\n",
      "  0.9819287   0.99798668  0.99798668  0.9819287   0.95007112  0.90292654\n",
      "  0.84125353  0.76604444  0.67850941  0.58005691  0.47227107  0.35688622\n",
      "  0.23575894  0.1108382  -0.01586596 -0.14231484 -0.26647381 -0.38634513\n",
      " -0.5        -0.60560969 -0.70147489 -0.78605309 -0.85798341 -0.91610846\n",
      " -0.95949297 -0.98743889 -0.99949654 -0.99547192 -0.97542979 -0.93969262\n",
      " -0.88883545 -0.82367658 -0.74526445 -0.65486073 -0.55392006 -0.44406661\n",
      " -0.32706796 -0.20480667 -0.07924996  0.04758192  0.17364818  0.29692038\n",
      "  0.41541501  0.52722547  0.63055267  0.72373404  0.80527026  0.87384938\n",
      "  0.92836793  0.9679487   0.99195481  1.        ]\n",
      "[ 1.          0.99195494  0.96794895  0.9283683   0.87384986  0.80527085\n",
      "  0.72373473  0.63055344  0.52722632  0.41541592  0.29692133  0.17364916\n",
      "  0.04758291 -0.07924896 -0.20480569 -0.32706702 -0.44406572 -0.55391923\n",
      " -0.65485998 -0.74526378 -0.82367601 -0.88883499 -0.93969228 -0.97542957\n",
      " -0.99547183 -0.99949657 -0.98743905 -0.95949326 -0.91610886 -0.85798393\n",
      " -0.78605371 -0.7014756  -0.60561048 -0.50000087 -0.38634605 -0.26647478\n",
      " -0.14231583 -0.01586696  0.11083721  0.23575796  0.35688529  0.47227019\n",
      "  0.58005609  0.67850868  0.7660438   0.84125299  0.90292611  0.95007081\n",
      "  0.98192851  0.99798661  0.99798674  0.98192889  0.95007143  0.90292697\n",
      "  0.84125407  0.76604509  0.67851015  0.58005772  0.47227196  0.35688716\n",
      "  0.23575991  0.11083919 -0.01586496 -0.14231385 -0.26647285 -0.3863442\n",
      " -0.49999913 -0.60560889 -0.70147418 -0.78605248 -0.8579829  -0.91610806\n",
      " -0.95949269 -0.98743873 -0.99949651 -0.99547202 -0.97543001 -0.93969296\n",
      " -0.88883591 -0.82367715 -0.74526512 -0.65486149 -0.5539209  -0.44406751\n",
      " -0.32706891 -0.20480765 -0.07925095  0.04758092  0.17364719  0.29691942\n",
      "  0.4154141   0.52722462  0.63055189  0.72373335  0.80526966  0.87384889\n",
      "  0.92836756  0.96794845  0.99195469  1.        ]\n",
      "[ 5.00044450e-07 -1.26591958e-01 -2.51147503e-01 -3.71661992e-01\n",
      " -4.86196299e-01 -5.92907527e-01 -6.90078650e-01 -7.76146149e-01\n",
      " -8.49725166e-01 -9.09631788e-01 -9.54902093e-01 -9.84807666e-01\n",
      " -9.98867316e-01 -9.96854816e-01 -9.78802549e-01 -9.45000982e-01\n",
      " -8.95993996e-01 -8.32570132e-01 -7.55749902e-01 -6.66769373e-01\n",
      " -5.67060276e-01 -4.58226966e-01 -3.42020613e-01 -2.20311021e-01\n",
      " -9.50565411e-02  3.17274338e-02  1.58000902e-01  2.81732077e-01\n",
      "  4.00930077e-01  5.13676963e-01  6.18158593e-01  7.12693821e-01\n",
      "  7.95761538e-01  8.66025154e-01  9.22354101e-01  9.63842025e-01\n",
      "  9.89821371e-01  9.99874120e-01  9.93838520e-01  9.71811686e-01\n",
      "  9.34148039e-01  8.81453599e-01  8.14576242e-01  7.34592048e-01\n",
      "  6.42787993e-01  5.40641238e-01  4.29795364e-01  3.12033921e-01\n",
      "  1.89251735e-01  6.34244187e-02 -6.34234207e-02 -1.89250753e-01\n",
      " -3.12032971e-01 -4.29794461e-01 -5.40640397e-01 -6.42787227e-01\n",
      " -7.34591369e-01 -8.14575662e-01 -8.81453127e-01 -9.34147682e-01\n",
      " -9.71811450e-01 -9.93838409e-01 -9.99874136e-01 -9.89821513e-01\n",
      " -9.63842292e-01 -9.22354487e-01 -8.66025654e-01 -7.95762143e-01\n",
      " -7.12694522e-01 -6.18159379e-01 -5.13677821e-01 -4.00930994e-01\n",
      " -2.81733037e-01 -1.58001890e-01 -3.17284333e-02  9.50555455e-02\n",
      "  2.20310045e-01  3.42019674e-01  4.58226077e-01  5.67059452e-01\n",
      "  6.66768628e-01  7.55749247e-01  8.32569578e-01  8.95993552e-01\n",
      "  9.45000655e-01  9.78802344e-01  9.96854736e-01  9.98867363e-01\n",
      "  9.84807840e-01  9.54902390e-01  9.09632203e-01  8.49725694e-01\n",
      "  7.76146780e-01  6.90079374e-01  5.92908332e-01  4.86197173e-01\n",
      "  3.71662920e-01  2.51148471e-01  1.26592950e-01  5.00044450e-07]\n",
      "[ 1.          0.99195481  0.9679487   0.92836793  0.87384938  0.80527026\n",
      "  0.72373404  0.63055267  0.52722547  0.41541501  0.29692038  0.17364818\n",
      "  0.04758192 -0.07924996 -0.20480667 -0.32706796 -0.44406661 -0.55392006\n",
      " -0.65486073 -0.74526445 -0.82367658 -0.88883545 -0.93969262 -0.97542979\n",
      " -0.99547192 -0.99949654 -0.98743889 -0.95949297 -0.91610846 -0.85798341\n",
      " -0.78605309 -0.70147489 -0.60560969 -0.5        -0.38634513 -0.26647381\n",
      " -0.14231484 -0.01586596  0.1108382   0.23575894  0.35688622  0.47227107\n",
      "  0.58005691  0.67850941  0.76604444  0.84125353  0.90292654  0.95007112\n",
      "  0.9819287   0.99798668  0.99798668  0.9819287   0.95007112  0.90292654\n",
      "  0.84125353  0.76604444  0.67850941  0.58005691  0.47227107  0.35688622\n",
      "  0.23575894  0.1108382  -0.01586596 -0.14231484 -0.26647381 -0.38634513\n",
      " -0.5        -0.60560969 -0.70147489 -0.78605309 -0.85798341 -0.91610846\n",
      " -0.95949297 -0.98743889 -0.99949654 -0.99547192 -0.97542979 -0.93969262\n",
      " -0.88883545 -0.82367658 -0.74526445 -0.65486073 -0.55392006 -0.44406661\n",
      " -0.32706796 -0.20480667 -0.07924996  0.04758192  0.17364818  0.29692038\n",
      "  0.41541501  0.52722547  0.63055267  0.72373404  0.80527026  0.87384938\n",
      "  0.92836793  0.9679487   0.99195481  1.        ]\n",
      "[ 1.          0.99195481  0.9679487   0.92836793  0.87384938  0.80527026\n",
      "  0.72373404  0.63055267  0.52722547  0.41541501  0.29692038  0.17364818\n",
      "  0.04758192 -0.07924996 -0.20480667 -0.32706796 -0.44406661 -0.55392006\n",
      " -0.65486073 -0.74526445 -0.82367658 -0.88883545 -0.93969262 -0.97542979\n",
      " -0.99547192 -0.99949654 -0.98743889 -0.95949297 -0.91610846 -0.85798341\n",
      " -0.78605309 -0.70147489 -0.60560969 -0.5        -0.38634513 -0.26647381\n",
      " -0.14231484 -0.01586596  0.1108382   0.23575894  0.35688622  0.47227107\n",
      "  0.58005691  0.67850941  0.76604444  0.84125353  0.90292654  0.95007112\n",
      "  0.9819287   0.99798668  0.99798668  0.9819287   0.95007112  0.90292654\n",
      "  0.84125353  0.76604444  0.67850941  0.58005691  0.47227107  0.35688622\n",
      "  0.23575894  0.1108382  -0.01586596 -0.14231484 -0.26647381 -0.38634513\n",
      " -0.5        -0.60560969 -0.70147489 -0.78605309 -0.85798341 -0.91610846\n",
      " -0.95949297 -0.98743889 -0.99949654 -0.99547192 -0.97542979 -0.93969262\n",
      " -0.88883545 -0.82367658 -0.74526445 -0.65486073 -0.55392006 -0.44406661\n",
      " -0.32706796 -0.20480667 -0.07924996  0.04758192  0.17364818  0.29692038\n",
      "  0.41541501  0.52722547  0.63055267  0.72373404  0.80527026  0.87384938\n",
      "  0.92836793  0.9679487   0.99195481  1.        ]\n",
      "[ 0.         -0.12656542 -0.25113245 -0.37170267 -0.48616666 -0.59297012\n",
      " -0.69011463 -0.77626794 -0.84987573 -0.90971675 -0.95495833 -0.98487885\n",
      " -0.99895786 -0.99695252 -0.97888364 -0.94507735 -0.896061   -0.83266727\n",
      " -0.75583984 -0.66679995 -0.56710192 -0.45818904 -0.34205971 -0.22026825\n",
      " -0.09514611  0.03175238  0.15798474  0.2817746   0.40090153  0.51370019\n",
      "  0.61817218  0.71276318  0.79580786  0.86614049  0.9224288   0.96389563\n",
      "  0.9899026   0.999964    0.99392716  0.97188924  0.93425268  0.88151708\n",
      "  0.81457063  0.73463458  0.64281913  0.54056759  0.42976733  0.31197267\n",
      "  0.189182    0.06350476 -0.06350476 -0.189182   -0.31197267 -0.42976733\n",
      " -0.54067861 -0.64270811 -0.73452355 -0.81457063 -0.88151708 -0.93419716\n",
      " -0.97188924 -0.99392716 -0.99996053 -0.98993036 -0.96389563 -0.9224288\n",
      " -0.86614049 -0.79580786 -0.71276318 -0.61817218 -0.51370019 -0.40101256\n",
      " -0.2817746  -0.15798474 -0.03175238  0.09503509  0.22037927  0.34205971\n",
      "  0.45818904  0.56710192  0.66691097  0.75583984  0.83266727  0.896061\n",
      "  0.94507735  0.97888364  0.99693864  0.99895786  0.9849066   0.95501385\n",
      "  0.90971675  0.8497647   0.77615692  0.69022565  0.5928591   0.48627768\n",
      "  0.37170267  0.25124347  0.12656542  0.        ]\n",
      "[-2.44929360e-16 -1.26592454e-01 -2.51147987e-01 -3.71662456e-01\n",
      " -4.86196736e-01 -5.92907929e-01 -6.90079011e-01 -7.76146464e-01\n",
      " -8.49725430e-01 -9.09631995e-01 -9.54902241e-01 -9.84807753e-01\n",
      " -9.98867339e-01 -9.96854776e-01 -9.78802446e-01 -9.45000819e-01\n",
      " -8.95993774e-01 -8.32569855e-01 -7.55749574e-01 -6.66769001e-01\n",
      " -5.67059864e-01 -4.58226522e-01 -3.42020143e-01 -2.20310533e-01\n",
      " -9.50560433e-02  3.17279335e-02  1.58001396e-01  2.81732557e-01\n",
      "  4.00930535e-01  5.13677392e-01  6.18158986e-01  7.12694171e-01\n",
      "  7.95761841e-01  8.66025404e-01  9.22354294e-01  9.63842159e-01\n",
      "  9.89821442e-01  9.99874128e-01  9.93838464e-01  9.71811568e-01\n",
      "  9.34147860e-01  8.81453363e-01  8.14575952e-01  7.34591709e-01\n",
      "  6.42787610e-01  5.40640817e-01  4.29794912e-01  3.12033446e-01\n",
      "  1.89251244e-01  6.34239197e-02 -6.34239197e-02 -1.89251244e-01\n",
      " -3.12033446e-01 -4.29794912e-01 -5.40640817e-01 -6.42787610e-01\n",
      " -7.34591709e-01 -8.14575952e-01 -8.81453363e-01 -9.34147860e-01\n",
      " -9.71811568e-01 -9.93838464e-01 -9.99874128e-01 -9.89821442e-01\n",
      " -9.63842159e-01 -9.22354294e-01 -8.66025404e-01 -7.95761841e-01\n",
      " -7.12694171e-01 -6.18158986e-01 -5.13677392e-01 -4.00930535e-01\n",
      " -2.81732557e-01 -1.58001396e-01 -3.17279335e-02  9.50560433e-02\n",
      "  2.20310533e-01  3.42020143e-01  4.58226522e-01  5.67059864e-01\n",
      "  6.66769001e-01  7.55749574e-01  8.32569855e-01  8.95993774e-01\n",
      "  9.45000819e-01  9.78802446e-01  9.96854776e-01  9.98867339e-01\n",
      "  9.84807753e-01  9.54902241e-01  9.09631995e-01  8.49725430e-01\n",
      "  7.76146464e-01  6.90079011e-01  5.92907929e-01  4.86196736e-01\n",
      "  3.71662456e-01  2.51147987e-01  1.26592454e-01  2.44929360e-16]\n"
     ]
    },
    {
     "data": {
      "text/plain": [
       "<matplotlib.legend.Legend at 0x7f222c2ef588>"
      ]
     },
     "execution_count": 17,
     "metadata": {},
     "output_type": "execute_result"
    },
    {
     "data": {
      "image/png": "[encoded data removed]",
      "text/plain": [
       "<Figure size 576x288 with 1 Axes>"
      ]
     },
     "metadata": {},
     "output_type": "display_data"
    }
   ],
   "source": [
    "xs = numpy.linspace(-2*numpy.pi,2*numpy.pi,100)\n",
    "df_dx_1 = backward_difference(f, xs, dx=1e-4)\n",
    "df_dx_2 = backward_difference(f, xs, dx=1e-6)\n",
    "df_dx_3 = backward_difference(f, xs, dx=1e-12)\n",
    "df_dx_analytical = df_analytic(xs)\n",
    "plt.figure(figsize=(8, 4))\n",
    "plt.plot(xs, df_dx_1 - df_dx_analytical)\n",
    "plt.plot(xs, df_dx_2 - df_dx_analytical)\n",
    "plt.plot(xs, df_dx_3 - df_dx_analytical)\n",
    "plt.xlabel(\"x values\")\n",
    "plt.ylabel(\"difference\")\n",
    "plt.title(\"the difference between the analytical derivative and the numerical implementation of function F(x)=cos(x)\")\n",
    "plt.legend([\"dx=1e-4\",\"dx=1e-6\",\"dx=1e-12\"])"
   ]
  },
  {
   "cell_type": "markdown",
   "metadata": {},
   "source": [
    "**Task 2: ** \n",
    "\n",
    "Describe in the text box below why the numerical method looses accuracy in the case where\n",
    "$\\Delta x$ is too small and the case where $\\Delta x$ is too large. (Double-click on \"YOUR ANSWER HERE\" to edit.)\n"
   ]
  },
  {
   "cell_type": "markdown",
   "metadata": {
    "deletable": false,
    "nbgrader": {
     "cell_type": "markdown",
     "checksum": "606635d14bb3842f745cb0c7a1feff71",
     "grade": true,
     "grade_id": "textAnswer",
     "locked": false,
     "points": 4,
     "schema_version": 3,
     "solution": true
    }
   },
   "source": [
    "When Δx is too large, the error is also large, since Δx related to the accuracy. On the other hand, since computers store numbers with a finite precision.When Δx is too small, numerical round-off errors will take place and these error can accumulate, causing accuracy problems."
   ]
  }
 ],
 "metadata": {
  "kernelspec": {
   "display_name": "Python 3",
   "language": "python",
   "name": "python3"
  },
  "language_info": {
   "codemirror_mode": {
    "name": "ipython",
    "version": 3
   },
   "file_extension": ".py",
   "mimetype": "text/x-python",
   "name": "python",
   "nbconvert_exporter": "python",
   "pygments_lexer": "ipython3",
   "version": "3.6.3"
  }
 },
 "nbformat": 4,
 "nbformat_minor": 2
}
