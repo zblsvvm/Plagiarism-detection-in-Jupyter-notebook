{
 "cells": [
  {
   "cell_type": "markdown",
   "metadata": {
    "deletable": false,
    "editable": false,
    "nbgrader": {
     "cell_type": "markdown",
     "checksum": "2b1e6f5356704148182650e447a58eea",
     "grade": false,
     "grade_id": "cell-16ecaea255bd6609",
     "locked": true,
     "schema_version": 3,
     "solution": false,
     "task": false
    }
   },
   "source": [
    "# <center>L2 Computational Physics</center>\n",
    "---\n",
    "\n",
    "## Root finding\n",
    "\n",
    "We will implement two methods to find a zero of a function. In all cases the functions will return the list of all approximations to the zero the algorithm went through, including the initial value.\n",
    "\n",
    "We will then use the method to generate values according to a given probability distribution."
   ]
  },
  {
   "cell_type": "code",
   "execution_count": 36,
   "metadata": {},
   "outputs": [],
   "source": [
    "import numpy\n",
    "from matplotlib import pyplot as plt\n",
    "import random"
   ]
  },
  {
   "cell_type": "markdown",
   "metadata": {
    "deletable": false,
    "editable": false,
    "nbgrader": {
     "cell_type": "markdown",
     "checksum": "393b0efce99dbdaf0f750840a1eab547",
     "grade": false,
     "grade_id": "cell-021a9653a98f0564",
     "locked": true,
     "schema_version": 3,
     "solution": false,
     "task": false
    }
   },
   "source": [
    "Implement the Newton-Raphson method below. "
   ]
  },
  {
   "cell_type": "code",
   "execution_count": 37,
   "metadata": {
    "deletable": false,
    "nbgrader": {
     "cell_type": "code",
     "checksum": "48273065833b8c09078f191e64614bd7",
     "grade": false,
     "grade_id": "NewtonRaphson",
     "locked": false,
     "schema_version": 3,
     "solution": true
    }
   },
   "outputs": [],
   "source": [
    "def NewtonRaphson(f, df, x0, tolerance):\n",
    "    '''\n",
    "       finds a root of the equation f(x)=0, df is the derivative of f.\n",
    "       The function should stops iterating when \n",
    "       \n",
    "            | x_{i+1} - x_{i} | < tolerance\n",
    "            \n",
    "        and return an array with all the x_i values.\n",
    "        \n",
    "        x_0 is the starting point.\n",
    "                \n",
    "    '''\n",
    "    # YOUR CODE HERE\n",
    "    ans = [x0]\n",
    "    frac = f(x0)/df(x0)\n",
    "    while abs(frac) >= tolerance:\n",
    "        frac= f(x0)/df(x0)\n",
    "        x0 = x0 - frac\n",
    "        ans.append(x0)\n",
    "    return numpy.array(ans)"
   ]
  },
  {
   "cell_type": "code",
   "execution_count": 38,
   "metadata": {
    "deletable": false,
    "editable": false,
    "nbgrader": {
     "cell_type": "code",
     "checksum": "3c31f95060a53aaeba7cb06d3c11929f",
     "grade": true,
     "grade_id": "NewtonRaphson_test",
     "locked": true,
     "points": 1,
     "schema_version": 3,
     "solution": false
    }
   },
   "outputs": [],
   "source": [
    "# this tests the basics of your implementation of NewtonRaphson, worth 1 mark\n",
    "def ftest(x): return numpy.log(x)-numpy.pi \n",
    "def dftest(x): return 1.0/(x)\n",
    "\n",
    "xtests = NewtonRaphson(ftest,dftest,0.1,1e-3)\n",
    "assert len(xtests)==9\n",
    "assert numpy.isclose(NewtonRaphson(ftest,dftest,0.1,1e-10)[-1],numpy.exp(numpy.pi))"
   ]
  },
  {
   "cell_type": "code",
   "execution_count": 39,
   "metadata": {
    "deletable": false,
    "editable": false,
    "nbgrader": {
     "cell_type": "code",
     "checksum": "f86d67f2efcaf2f9c6e3262d04526d74",
     "grade": true,
     "grade_id": "cell-f0fc3c38e0b19626",
     "locked": true,
     "points": 2,
     "schema_version": 3,
     "solution": false,
     "task": false
    }
   },
   "outputs": [],
   "source": [
    "# this tests the implementation of NewtonRaphson more thoroughly, woth 2 marks \n",
    "def ftest(x): return numpy.log(x)-numpy.pi \n",
    "def dftest(x): return 1.0/(x)\n",
    "\n",
    "xtests = NewtonRaphson(ftest,dftest,0.1,1e-3)\n",
    "assert numpy.isclose(NewtonRaphson(ftest,dftest,0.1,1e-3),[\n",
    "    0.1,\n",
    " 0.6444177746583838,\n",
    " 2.952078275759038,\n",
    " 9.030653150046426,\n",
    " 17.528208400918544,\n",
    " 22.397214494215447,\n",
    " 23.12861917150116,\n",
    " 23.140689482618047,\n",
    " 23.14069263277905]).all()  "
   ]
  },
  {
   "cell_type": "code",
   "execution_count": 40,
   "metadata": {
    "deletable": false,
    "nbgrader": {
     "cell_type": "code",
     "checksum": "b16e93b4e8a6fdd1697357e23d42788a",
     "grade": false,
     "grade_id": "bisection",
     "locked": false,
     "schema_version": 3,
     "solution": true
    }
   },
   "outputs": [],
   "source": [
    "def bisect(f,x0,x1,tolerance):\n",
    "    '''\n",
    "    finds a root of the equation f(x)=0, x0 and x1 are\n",
    "    the first two values, they have to have different signs!\n",
    "    It should not matter which one corresponds to a positive \n",
    "    value of f. \n",
    "    \n",
    "    The iteration terminates when the length of the interval\n",
    "    between the upper and lower limit is smaller than the tolerance\n",
    "    \n",
    "    The list returned should contain all points the algorithm calculates using the middle of the interval.  \n",
    "    '''\n",
    "\n",
    "    # YOUR CODE HERE\n",
    "    x2 = x0\n",
    "    ans = []\n",
    "    while (x1-x0) >= tolerance:\n",
    "        x2 = (x0 + x1)/2\n",
    "        ans.append(x2)\n",
    "        if f(x2)==0:\n",
    "            break\n",
    "        elif f(x2)*f(x0)<0:\n",
    "            x1 = x2\n",
    "        else:\n",
    "            x0 = x2\n",
    "    return numpy.array(ans)\n"
   ]
  },
  {
   "cell_type": "code",
   "execution_count": 41,
   "metadata": {
    "deletable": false,
    "editable": false,
    "nbgrader": {
     "cell_type": "code",
     "checksum": "7a5c31cb30edfbeb3e3c418bbd7603df",
     "grade": true,
     "grade_id": "bisection_test",
     "locked": true,
     "points": 2,
     "schema_version": 3,
     "solution": false
    }
   },
   "outputs": [],
   "source": [
    "# this tests the implementation of bisect, worth 2 marks\n",
    "def ftest(x): return numpy.cos(x)-numpy.sin(x) \n",
    "\n",
    "assert numpy.isclose(bisect(ftest,0,2,1e-10)[-1], numpy.pi/4)\n"
   ]
  },
  {
   "cell_type": "code",
   "execution_count": 26,
   "metadata": {
    "deletable": false,
    "editable": false,
    "nbgrader": {
     "cell_type": "code",
     "checksum": "19457e0b3cd1e780d724d7cd66c54ad3",
     "grade": true,
     "grade_id": "bisection_test2",
     "locked": true,
     "points": 2,
     "schema_version": 3,
     "solution": false,
     "task": false
    }
   },
   "outputs": [],
   "source": [
    "# these tests are worth 2 marks \n",
    "xstest=bisect(ftest,0,2,1e-3)\n",
    "assert len(xstest)==11 \n",
    "assert numpy.isclose(xstest,[1.0,\n",
    " 0.5,\n",
    " 0.75,\n",
    " 0.875,\n",
    " 0.8125,\n",
    " 0.78125,\n",
    " 0.796875,\n",
    " 0.7890625,\n",
    " 0.78515625,\n",
    " 0.787109375,\n",
    " 0.7861328125]).all()"
   ]
  },
  {
   "cell_type": "markdown",
   "metadata": {},
   "source": [
    "Here is the implementation of the secant method, there is nothing to do except evaluating it."
   ]
  },
  {
   "cell_type": "code",
   "execution_count": 27,
   "metadata": {},
   "outputs": [],
   "source": [
    "def secant(f,x0,x1,tolerance,returnPoints=False):\n",
    "    '''\n",
    "    finds a root of the equation f(x)=0, x0 and x1 are\n",
    "    the first two values, from them the function calculates\n",
    "    the next value x2, from x1 and x2 it calculates x3, ...\n",
    "    \n",
    "    The termination condition is\n",
    "    \n",
    "    abs((x_{i+1}-x{i})/(x_{i+1}+x_{i})) < tolerance\n",
    "        \n",
    "    '''\n",
    "    xa=x0\n",
    "    xb=x1\n",
    "    xs=[x0, x1]\n",
    "    vs=[f(x0), f(x1)]\n",
    "    while True:\n",
    "        if abs((xs[-1] - xs[-2])/(xs[-1] + xs[-2])) < tolerance:\n",
    "            return xs\n",
    "        df=(vs[-1]-vs[-2])/(xs[-1]-xs[-2])\n",
    "        \n",
    "        xnew = xs[-1] - vs[-1]/df\n",
    "        xs.append(xnew)\n",
    "        vs.append(f(xnew))\n",
    "\n"
   ]
  },
  {
   "cell_type": "markdown",
   "metadata": {
    "deletable": false,
    "editable": false,
    "nbgrader": {
     "cell_type": "markdown",
     "checksum": "2cec38fd254d5388fab0561455994390",
     "grade": false,
     "grade_id": "cell-fb2d5246da8f16e7",
     "locked": true,
     "schema_version": 3,
     "solution": false,
     "task": false
    }
   },
   "source": [
    "We are now going to look at the three methods and see how they compare using the equation\n",
    "\n",
    "$$ x-\\tanh(2x)=0$$"
   ]
  },
  {
   "cell_type": "code",
   "execution_count": 28,
   "metadata": {},
   "outputs": [
    {
     "data": {
      "image/png": "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\n",
      "text/plain": [
       "<Figure size 432x288 with 1 Axes>"
      ]
     },
     "metadata": {},
     "output_type": "display_data"
    }
   ],
   "source": [
    "def f(x): \n",
    "    return x-numpy.tanh(2*x)\n",
    "\n",
    "def df(x): \n",
    "    return 1.0-2.0/numpy.cosh(2*x)**2\n",
    "\n",
    "xmin, xmax = -1.2, 1.2\n",
    "xs = numpy.linspace(xmin, xmax, 300)\n",
    "plt.plot(xs, f(xs))\n",
    "plt.hlines(0, xmin, xmax);"
   ]
  },
  {
   "cell_type": "markdown",
   "metadata": {
    "deletable": false,
    "editable": false,
    "nbgrader": {
     "cell_type": "markdown",
     "checksum": "620db3903c8ffb56226156958c96a7a5",
     "grade": false,
     "grade_id": "cell-5349f5814c0a5a26",
     "locked": true,
     "schema_version": 3,
     "solution": false,
     "task": false
    }
   },
   "source": [
    "This cell will produce the plot to show the convergence of the different method. There is nothing to do beyond evaluating it."
   ]
  },
  {
   "cell_type": "code",
   "execution_count": 29,
   "metadata": {},
   "outputs": [
    {
     "data": {
      "image/png": "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\n",
      "text/plain": [
       "<Figure size 864x432 with 2 Axes>"
      ]
     },
     "metadata": {},
     "output_type": "display_data"
    }
   ],
   "source": [
    "plt.figure(figsize=(12,6))\n",
    "    \n",
    "target = 0.9575040240772687\n",
    "\n",
    "val_plot = plt.subplot(121)\n",
    "err_plot = plt.subplot(122)\n",
    "\n",
    "def makePlot(xs,label):\n",
    "    ns=range(len(xs))    \n",
    "    val_plot.plot(ns, xs,'o')\n",
    "    reldiff = abs((numpy.array(xs) - target)/target)\n",
    "    err_plot.plot(ns, reldiff, 'o-', label=label)\n",
    "    \n",
    "    \n",
    "xs = NewtonRaphson(f, df, 0.6, 1e-13)\n",
    "makePlot(xs, 'NR')\n",
    "xs = secant(f, 1.0, 0.5, 1e-13)\n",
    "makePlot(xs, 'sec')\n",
    "xs = bisect(f, 1.0, 0.6, 1e-6)\n",
    "makePlot(xs, 'bisec')\n",
    "\n",
    "val_plot.set_xlabel('iteration nbr')\n",
    "val_plot.set_ylabel('$x_i$')\n",
    "err_plot.set_yscale('log')\n",
    "err_plot.legend()\n",
    "err_plot.set_xlabel('iteration nbr')\n",
    "err_plot.set_ylabel('relative error');"
   ]
  },
  {
   "cell_type": "markdown",
   "metadata": {
    "deletable": false,
    "editable": false,
    "nbgrader": {
     "cell_type": "markdown",
     "checksum": "e39a6794cafa987e6248defb0ba5aaf5",
     "grade": false,
     "grade_id": "cell-586b1a5ff0ffe1ed",
     "locked": true,
     "schema_version": 3,
     "solution": false,
     "task": false
    }
   },
   "source": [
    "Now that we have a function to find zeros numerically we can return to the generation of the numbers according to a given distribution function. We consider the function \n",
    "\n",
    "$$ f(x) = \\mathcal{N}\\left(1 + \\frac{2}{1 + x^2} + \\sin(\\sqrt{3 x})^2\\right)$$\n",
    "\n",
    "with $\\mathcal{N}$ such that $f$ is a probability distribution. The function can be integrated to give its primitive:\n",
    "\n",
    "$$ g(x) = \\mathcal{N}\\left(\\frac{3 x}{2} + 2 \\arctan{x} - \\frac{1}{12} \\cos(2 \\sqrt{3x}) - \\frac{\n",
    " \\sqrt{x} \\sin(2 \\sqrt{3x})}{2 \\sqrt{3}}\\right) $$"
   ]
  },
  {
   "cell_type": "code",
   "execution_count": 30,
   "metadata": {},
   "outputs": [],
   "source": [
    "norm = (181 + 24*numpy.arctan(10)-numpy.cos(2*numpy.sqrt(30))-2*numpy.sqrt(30)*numpy.sin(2*numpy.sqrt(30)))/12\n",
    "\n",
    "def pdf(x):\n",
    "    return  (1 + (2/(1+x**2)+ numpy.sin(numpy.sqrt(3*x))**2))/norm\n",
    "\n",
    "def cumulative(x):\n",
    "    return  ((3*x)/2.0 + 2*numpy.arctan(x) - numpy.cos(2*numpy.sqrt(3.0*x))/12. - (numpy.sqrt(x)*numpy.sin(2*numpy.sqrt(3*x)))/(2.*numpy.sqrt(3)))/norm"
   ]
  },
  {
   "cell_type": "markdown",
   "metadata": {
    "deletable": false,
    "editable": false,
    "nbgrader": {
     "cell_type": "markdown",
     "checksum": "304d98ec6af38588e16275f25bd53edd",
     "grade": false,
     "grade_id": "cell-f2c239c5ff4ab69a",
     "locked": true,
     "schema_version": 3,
     "solution": false,
     "task": false
    }
   },
   "source": [
    "`cumulative` is the cumulative function, we can see that it continously raises from $0$ to $1$ over the range of $x$."
   ]
  },
  {
   "cell_type": "code",
   "execution_count": 31,
   "metadata": {},
   "outputs": [
    {
     "data": {
      "image/png": "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\n",
      "text/plain": [
       "<Figure size 432x288 with 1 Axes>"
      ]
     },
     "metadata": {},
     "output_type": "display_data"
    }
   ],
   "source": [
    "xs = numpy.linspace(0, 10, 200)\n",
    "cs = cumulative(xs)\n",
    "plt.plot(xs, cs);\n",
    "plt.xlabel('x')\n",
    "plt.ylabel('g(x)')\n",
    "plt.xlim(0,10)\n",
    "plt.ylim(0,1);"
   ]
  },
  {
   "cell_type": "markdown",
   "metadata": {
    "deletable": false,
    "editable": false,
    "nbgrader": {
     "cell_type": "markdown",
     "checksum": "0aaf438a0faea542afd9f01a1b5b7dec",
     "grade": false,
     "grade_id": "cell-a8c25a30701daf53",
     "locked": true,
     "schema_version": 3,
     "solution": false,
     "task": false
    }
   },
   "source": [
    "Implement a function that returns values distributed according to $f(x)$ given a set of values `xis`  uniformly distribued between $0$ and $1$."
   ]
  },
  {
   "cell_type": "code",
   "execution_count": 34,
   "metadata": {
    "deletable": false,
    "nbgrader": {
     "cell_type": "code",
     "checksum": "0f0086449443972783c149cb67195312",
     "grade": false,
     "grade_id": "cell-816683f1f53b6e2d",
     "locked": false,
     "schema_version": 3,
     "solution": true,
     "task": false
    }
   },
   "outputs": [],
   "source": [
    "def generate(xis):\n",
    "    sample = []\n",
    "    # YOUR CODE HERE\n",
    "    m = 0.2\n",
    "    for i in range(len(xis)) :\n",
    "        r = random.random()\n",
    "        if m*r < f(x[i]):\n",
    "            sample.append(x[i])\n",
    "    return sample"
   ]
  },
  {
   "cell_type": "code",
   "execution_count": 35,
   "metadata": {
    "deletable": false,
    "editable": false,
    "nbgrader": {
     "cell_type": "code",
     "checksum": "1ea315eb8ba5670275aeb10d615f7431",
     "grade": true,
     "grade_id": "cell-4ecf7a8d51ef8ed1",
     "locked": true,
     "points": 3,
     "schema_version": 3,
     "solution": false,
     "task": false
    }
   },
   "outputs": [
    {
     "ename": "NameError",
     "evalue": "name 'random' is not defined",
     "output_type": "error",
     "traceback": [
      "\u001b[0;31m---------------------------------------------------------------------------\u001b[0m",
      "\u001b[0;31mNameError\u001b[0m                                 Traceback (most recent call last)",
      "\u001b[0;32m<ipython-input-35-23aadf5f50a1>\u001b[0m in \u001b[0;36m<module>\u001b[0;34m()\u001b[0m\n\u001b[1;32m      2\u001b[0m \u001b[0mnumpy\u001b[0m\u001b[0;34m.\u001b[0m\u001b[0mrandom\u001b[0m\u001b[0;34m.\u001b[0m\u001b[0mseed\u001b[0m\u001b[0;34m(\u001b[0m\u001b[0;36m121\u001b[0m\u001b[0;34m)\u001b[0m\u001b[0;34m\u001b[0m\u001b[0m\n\u001b[1;32m      3\u001b[0m \u001b[0mxis\u001b[0m \u001b[0;34m=\u001b[0m \u001b[0mnumpy\u001b[0m\u001b[0;34m.\u001b[0m\u001b[0mrandom\u001b[0m\u001b[0;34m.\u001b[0m\u001b[0mrandom\u001b[0m\u001b[0;34m(\u001b[0m\u001b[0;36m10\u001b[0m\u001b[0;34m)\u001b[0m\u001b[0;34m\u001b[0m\u001b[0m\n\u001b[0;32m----> 4\u001b[0;31m \u001b[0mxs\u001b[0m \u001b[0;34m=\u001b[0m \u001b[0mgenerate\u001b[0m\u001b[0;34m(\u001b[0m\u001b[0mxis\u001b[0m\u001b[0;34m)\u001b[0m\u001b[0;34m\u001b[0m\u001b[0m\n\u001b[0m\u001b[1;32m      5\u001b[0m assert numpy.isclose(xs,[0.6447290358126014,\n\u001b[1;32m      6\u001b[0m  \u001b[0;36m1.2679755837324682\u001b[0m\u001b[0;34m,\u001b[0m\u001b[0;34m\u001b[0m\u001b[0m\n",
      "\u001b[0;32m<ipython-input-34-bb7b0a1b36f6>\u001b[0m in \u001b[0;36mgenerate\u001b[0;34m(xis)\u001b[0m\n\u001b[1;32m      4\u001b[0m     \u001b[0mm\u001b[0m \u001b[0;34m=\u001b[0m \u001b[0;36m0.2\u001b[0m\u001b[0;34m\u001b[0m\u001b[0m\n\u001b[1;32m      5\u001b[0m     \u001b[0;3