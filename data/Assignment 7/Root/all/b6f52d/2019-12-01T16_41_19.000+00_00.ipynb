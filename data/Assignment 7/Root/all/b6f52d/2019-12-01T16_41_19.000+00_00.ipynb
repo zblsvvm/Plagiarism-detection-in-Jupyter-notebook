{
 "cells": [
  {
   "cell_type": "markdown",
   "metadata": {
    "deletable": false,
    "editable": false,
    "nbgrader": {
     "cell_type": "markdown",
     "checksum": "2b1e6f5356704148182650e447a58eea",
     "grade": false,
     "grade_id": "cell-16ecaea255bd6609",
     "locked": true,
     "schema_version": 3,
     "solution": false,
     "task": false
    }
   },
   "source": [
    "# <center>L2 Computational Physics</center>\n",
    "---\n",
    "\n",
    "## Root finding\n",
    "\n",
    "We will implement two methods to find a zero of a function. In all cases the functions will return the list of all approximations to the zero the algorithm went through, including the initial value.\n",
    "\n",
    "We will then use the method to generate values according to a given probability distribution."
   ]
  },
  {
   "cell_type": "code",
   "execution_count": 3,
   "metadata": {},
   "outputs": [],
   "source": [
    "import numpy\n",
    "from matplotlib import pyplot as plt"
   ]
  },
  {
   "cell_type": "markdown",
   "metadata": {
    "deletable": false,
    "editable": false,
    "nbgrader": {
     "cell_type": "markdown",
     "checksum": "393b0efce99dbdaf0f750840a1eab547",
     "grade": false,
     "grade_id": "cell-021a9653a98f0564",
     "locked": true,
     "schema_version": 3,
     "solution": false,
     "task": false
    }
   },
   "source": [
    "Implement the Newton-Raphson method below. "
   ]
  },
  {
   "cell_type": "code",
   "execution_count": 4,
   "metadata": {
    "deletable": false,
    "nbgrader": {
     "cell_type": "code",
     "checksum": "48273065833b8c09078f191e64614bd7",
     "grade": false,
     "grade_id": "NewtonRaphson",
     "locked": false,
     "schema_version": 3,
     "solution": true
    }
   },
   "outputs": [],
   "source": [
    "def NewtonRaphson(f, df, x0, tolerance):\n",
    "    '''\n",
    "       finds a root of the equation f(x)=0, df is the derivative of f.\n",
    "       The function should stops iterating when \n",
    "       \n",
    "            | x_{i+1} - x_{i} | < tolerance\n",
    "            \n",
    "        and return an array with all the x_i values.\n",
    "        \n",
    "        x_0 is the starting point.\n",
    "                \n",
    "    '''\n",
    "    # YOUR CODE HERE\n",
    "    xi = x0\n",
    "    x2 = xi - f(xi)/df(xi)\n",
    "    allvalues=[xi, x2]\n",
    "    if (x2-xi)<tolerance:\n",
    "        return allvalues \n",
    "    else:\n",
    "        while numpy.abs(x2-xi)>= tolerance:\n",
    "            x3 = x2 - f(x2)/df(x2)\n",
    "            allvalues.append(x3)\n",
    "            xi=x2\n",
    "            x2=x3\n",
    "    return(allvalues) \n"
   ]
  },
  {
   "cell_type": "code",
   "execution_count": 5,
   "metadata": {
    "deletable": false,
    "editable": false,
    "nbgrader": {
     "cell_type": "code",
     "checksum": "3c31f95060a53aaeba7cb06d3c11929f",
     "grade": true,
     "grade_id": "NewtonRaphson_test",
     "locked": true,
     "points": 1,
     "schema_version": 3,
     "solution": false
    }
   },
   "outputs": [],
   "source": [
    "# this tests the basics of your implementation of NewtonRaphson, worth 1 mark\n",
    "def ftest(x): return numpy.log(x)-numpy.pi \n",
    "def dftest(x): return 1.0/(x)\n",
    "\n",
    "xtests = NewtonRaphson(ftest,dftest,0.1,1e-3)\n",
    "assert len(xtests)==9\n",
    "assert numpy.isclose(NewtonRaphson(ftest,dftest,0.1,1e-10)[-1],numpy.exp(numpy.pi))"
   ]
  },
  {
   "cell_type": "code",
   "execution_count": 6,
   "metadata": {
    "deletable": false,
    "editable": false,
    "nbgrader": {
     "cell_type": "code",
     "checksum": "f86d67f2efcaf2f9c6e3262d04526d74",
     "grade": true,
     "grade_id": "cell-f0fc3c38e0b19626",
     "locked": true,
     "points": 2,
     "schema_version": 3,
     "solution": false,
     "task": false
    }
   },
   "outputs": [],
   "source": [
    "# this tests the implementation of NewtonRaphson more thoroughly, woth 2 marks \n",
    "def ftest(x): return numpy.log(x)-numpy.pi \n",
    "def dftest(x): return 1.0/(x)\n",
    "\n",
    "xtests = NewtonRaphson(ftest,dftest,0.1,1e-3)\n",
    "assert numpy.isclose(NewtonRaphson(ftest,dftest,0.1,1e-3),[\n",
    "    0.1,\n",
    " 0.6444177746583838,\n",
    " 2.952078275759038,\n",
    " 9.030653150046426,\n",
    " 17.528208400918544,\n",
    " 22.397214494215447,\n",
    " 23.12861917150116,\n",
    " 23.140689482618047,\n",
    " 23.14069263277905]).all()  "
   ]
  },
  {
   "cell_type": "code",
   "execution_count": 7,
   "metadata": {
    "deletable": false,
    "nbgrader": {
     "cell_type": "code",
     "checksum": "b16e93b4e8a6fdd1697357e23d42788a",
     "grade": false,
     "grade_id": "bisection",
     "locked": false,
     "schema_version": 3,
     "solution": true
    }
   },
   "outputs": [],
   "source": [
    "def bisect(f,x0,x1,tolerance):\n",
    "    '''\n",
    "    finds a root of the equation f(x)=0, x0 and x1 are\n",
    "    the first two values, they have to have different signs!\n",
    "    It should not matter which one corresponds to a positive \n",
    "    value of f. \n",
    "    \n",
    "    The iteration terminates when the length of the interval\n",
    "    between the upper and lower limit is smaller than the tolerance\n",
    "    \n",
    "    The list returned should contain all points the algorithm calculates using the middle of the interval.  \n",
    "    '''\n",
    "\n",
    "    # YOUR CODE HERE\n",
    "    values = []\n",
    "    \n",
    "    ix0 = x0\n",
    "    ix1 = x1\n",
    "        \n",
    "    while abs(ix0-ix1)>= tolerance:\n",
    "            m = (ix0 + ix1)/2\n",
    "            values.append(m)\n",
    "            if f(m) > 0:\n",
    "                ix0 = m\n",
    "            else:\n",
    "                ix1 = m\n",
    "    return values     \n",
    "    "
   ]
  },
  {
   "cell_type": "code",
   "execution_count": 8,
   "metadata": {
    "deletable": false,
    "editable": false,
    "nbgrader": {
     "cell_type": "code",
     "checksum": "7a5c31cb30edfbeb3e3c418bbd7603df",
     "grade": true,
     "grade_id": "bisection_test",
     "locked": true,
     "points": 2,
     "schema_version": 3,
     "solution": false
    }
   },
   "outputs": [],
   "source": [
    "# this tests the implementation of bisect, worth 2 marks\n",
    "def ftest(x): return numpy.cos(x)-numpy.sin(x) \n",
    "\n",
    "assert numpy.isclose(bisect(ftest,0,2,1e-10)[-1], numpy.pi/4)\n"
   ]
  },
  {
   "cell_type": "code",
   "execution_count": 9,
   "metadata": {
    "deletable": false,
    "editable": false,
    "nbgrader": {
     "cell_type": "code",
     "checksum": "19457e0b3cd1e780d724d7cd66c54ad3",
     "grade": true,
     "grade_id": "bisection_test2",
     "locked": true,
     "points": 2,
     "schema_version": 3,
     "solution": false,
     "task": false
    }
   },
   "outputs": [],
   "source": [
    "# these tests are worth 2 marks \n",
    "xstest=bisect(ftest,0,2,1e-3)\n",
    "assert len(xstest)==11 \n",
    "assert numpy.isclose(xstest,[1.0,\n",
    " 0.5,\n",
    " 0.75,\n",
    " 0.875,\n",
    " 0.8125,\n",
    " 0.78125,\n",
    " 0.796875,\n",
    " 0.7890625,\n",
    " 0.78515625,\n",
    " 0.787109375,\n",
    " 0.7861328125]).all()"
   ]
  },
  {
   "cell_type": "markdown",
   "metadata": {},
   "source": [
    "Here is the implementation of the secant method, there is nothing to do except evaluating it."
   ]
  },
  {
   "cell_type": "code",
   "execution_count": 10,
   "metadata": {},
   "outputs": [],
   "source": [
    "def secant(f,x0,x1,tolerance,returnPoints=False):\n",
    "    '''\n",
    "    finds a root of the equation f(x)=0, x0 and x1 are\n",
    "    the first two values, from them the function calculates\n",
    "    the next value x2, from x1 and x2 it calculates x3, ...\n",
    "    \n",
    "    The termination condition is\n",
    "    \n",
    "    abs((x_{i+1}-x{i})/(x_{i+1}+x_{i})) < tolerance\n",
    "        \n",
    "    '''\n",
    "    xa=x0\n",
    "    xb=x1\n",
    "    xs=[x0, x1]\n",
    "    vs=[f(x0), f(x1)]\n",
    "    while True:\n",
    "        if abs((xs[-1] - xs[-2])/(xs[-1] + xs[-2])) < tolerance:\n",
    "            return xs\n",
    "        df=(vs[-1]-vs[-2])/(xs[-1]-xs[-2])\n",
    "        \n",
    "        xnew = xs[-1] - vs[-1]/df\n",
    "        xs.append(xnew)\n",
    "        vs.append(f(xnew))\n",
    "\n"
   ]
  },
  {
   "cell_type": "markdown",
   "metadata": {
    "deletable": false,
    "editable": false,
    "nbgrader": {
     "cell_type": "markdown",
     "checksum": "2cec38fd254d5388fab0561455994390",
     "grade": false,
     "grade_id": "cell-fb2d5246da8f16e7",
     "locked": true,
     "schema_version": 3,
     "solution": false,
     "task": false
    }
   },
   "source": [
    "We are now going to look at the three methods and see how they compare using the equation\n",
    "\n",
    "$$ x-\\tanh(2x)=0$$"
   ]
  },
  {
   "cell_type": "code",
   "execution_count": 11,
   "metadata": {},
   "outputs": [
    {
     "data": {
      "image/png": "[encoded data removed]",
      "text/plain": [
       "<Figure size 432x288 with 1 Axes>"
      ]
     },
     "metadata": {},
     "output_type": "display_data"
    }
   ],
   "source": [
    "def f(x): \n",
    "    return x-numpy.tanh(2*x)\n",
    "\n",
    "def df(x): \n",
    "    return 1.0-2.0/numpy.cosh(2*x)**2\n",
    "\n",
    "xmin, xmax = -1.2, 1.2\n",
    "xs = numpy.linspace(xmin, xmax, 300)\n",
    "plt.plot(xs, f(xs))\n",
    "plt.hlines(0, xmin, xmax);"
   ]
  },
  {
   "cell_type": "markdown",
   "metadata": {
    "deletable": false,
    "editable": false,
    "nbgrader": {
     "cell_type": "markdown",
     "checksum": "620db3903c8ffb56226156958c96a7a5",
     "grade": false,
     "grade_id": "cell-5349f5814c0a5a26",
     "locked": true,
     "schema_version": 3,
     "solution": false,
     "task": false
    }
   },
   "source": [
    "This cell will produce the plot to show the convergence of the different method. There is nothing to do beyond evaluating it."
   ]
  },
  {
   "cell_type": "code",
   "execution_count": 12,
   "metadata": {},
   "outputs": [
    {
     "data": {
      "image/png": "[encoded data removed]",
      "text/plain": [
       "<Figure size 864x432 with 2 Axes>"
      ]
     },
     "metadata": {},
     "output_type": "display_data"
    }
   ],
   "source": [
    "plt.figure(figsize=(12,6))\n",
    "    \n",
    "target = 0.9575040240772687\n",
    "\n",
    "val_plot = plt.subplot(121)\n",
    "err_plot = plt.subplot(122)\n",
    "\n",
    "def makePlot(xs,label):\n",
    "    ns=range(len(xs))    \n",
    "    val_plot.plot(ns, xs,'o')\n",
    "    reldiff = abs((numpy.array(xs) - target)/target)\n",
    "    err_plot.plot(ns, reldiff, 'o-', label=label)\n",
    "    \n",
    "    \n",
    "xs = NewtonRaphson(f, df, 0.6, 1e-13)\n",
    "makePlot(xs, 'NR')\n",
    "xs = secant(f, 1.0, 0.5, 1e-13)\n",
    "makePlot(xs, 'sec')\n",
    "xs = bisect(f, 1.0, 0.6, 1e-6)\n",
    "makePlot(xs, 'bisec')\n",
    "\n",
    "val_plot.set_xlabel('iteration nbr')\n",
    "val_plot.set_ylabel('$x_i$')\n",
    "err_plot.set_yscale('log')\n",
    "err_plot.legend()\n",
    "err_plot.set_xlabel('iteration nbr')\n",
    "err_plot.set_ylabel('relative error');"
   ]
  },
  {
   "cell_type": "markdown",
   "metadata": {
    "deletable": false,
    "editable": false,
    "nbgrader": {
     "cell_type": "markdown",
     "checksum": "e39a6794cafa987e6248defb0ba5aaf5",
     "grade": false,
     "grade_id": "cell-586b1a5ff0ffe1ed",
     "locked": true,
     "schema_version": 3,
     "solution": false,
     "task": false
    }
   },
   "source": [
    "Now that we have a function to find zeros numerically we can return to the generation of the numbers according to a given distribution function. We consider the function \n",
    "\n",
    "$$ f(x) = \\mathcal{N}\\left(1 + \\frac{2}{1 + x^2} + \\sin(\\sqrt{3 x})^2\\right)$$\n",
    "\n",
    "with $\\mathcal{N}$ such that $f$ is a probability distribution. The function can be integrated to give its primitive:\n",
    "\n",
    "$$ g(x) = \\mathcal{N}\\left(\\frac{3 x}{2} + 2 \\arctan{x} - \\frac{1}{12} \\cos(2 \\sqrt{3x}) - \\frac{\n",
    " \\sqrt{x} \\sin(2 \\sqrt{3x})}{2 \\sqrt{3}}\\right) $$"
   ]
  },
  {
   "cell_type": "code",
   "execution_count": null,
   "metadata": {},
   "outputs": [],
   "source": [
    "norm = (181 + 24*numpy.arctan(10)-numpy.cos(2*numpy.sqrt(30))-2*numpy.sqrt(30)*numpy.sin(2*numpy.sqrt(30)))/12\n",
    "\n",
    "def pdf(x):\n",
    "    return  (1 + (2/(1+x**2)+ numpy.sin(numpy.sqrt(3*x))**2))/norm\n",
    "\n",
    "def cumulative(x):\n",
    "    return  ((3*x)/2.0 + 2*numpy.arctan(x) - numpy.cos(2*numpy.sqrt(3.0*x))/12. - (numpy.sqrt(x)*numpy.sin(2*numpy.sqrt(3*x)))/(2.*numpy.sqrt(3)))/norm"
   ]
  },
  {
   "cell_type": "markdown",
   "metadata": {
    "deletable": false,
    "editable": false,
    "nbgrader": {
     "cell_type": "markdown",
     "checksum": "304d98ec6af38588e16275f25bd53edd",
     "grade": false,
     "grade_id": "cell-f2c239c5ff4ab69a",
     "locked": true,
     "schema_version": 3,
     "solution": false,
     "task": false
    }
   },
   "source": [
    "`cumulative` is the cumulative function, we can see that it continously raises from $0$ to $1$ over the range of $x$."
   ]
  },
  {
   "cell_type": "code",
   "execution_count": null,
   "metadata": {},
   "outputs": [],
   "source": [
    "xs = numpy.linspace(0, 10, 200)\n",
    "cs = cumulative(xs)\n",
    "plt.plot(xs, cs);\n",
    "plt.xlabel('x')\n",
    "plt.ylabel('g(x)')\n",
    "plt.xlim(0,10)\n",
    "plt.ylim(0,1);"
   ]
  },
  {
   "cell_type": "markdown",
   "metadata": {
    "deletable": false,
    "editable": false,
    "nbgrader": {
     "cell_type": "markdown",
     "checksum": "0aaf438a0faea542afd9f01a1b5b7dec",
     "grade": false,
     "grade_id": "cell-a8c25a30701daf53",
     "locked": true,
     "schema_version": 3,
     "solution": false,
     "task": false
    }
   },
   "source": [
    "Implement a function that returns values distributed according to $f(x)$ given a set of values `xis`  uniformly distribued between $0$ and $1$."
   ]
  },
  {
   "cell_type": "code",
   "execution_count": null,
   "metadata": {
    "deletable": false,
    "nbgrader": {
     "cell_type": "code",
     "checksum": "0f0086449443972783c149cb67195312",
     "grade": false,
     "grade_id": "cell-816683f1f53b6e2d",
     "locked": false,
     "schema_version": 3,
     "solution": true,
     "task": false
    }
   },
   "outputs": [],
   "source": [
    "def generate(xis):\n",
    "    sample = []\n",
    "    # YOUR CODE HERE\n",
    "    \n",
    "    for item in xis:\n",
    "        sample.append(10*item)\n",
    "    print(sample)\n",
    "    return(sample)\n",
    "    \n"
   ]
  },
  {
   "cell_type": "code",
   "execution_count": 47,
   "metadata": {
    "deletable": false,
    "editable": false,
    "nbgrader": {
     "cell_type": "code",
     "checksum": "1ea315eb8ba5670275aeb10d615f7431",
     "grade": true,
     "grade_id": "cell-4ecf7a8d51ef8ed1",
     "locked": true,
     "points": 3,
     "schema_version": 3,
     "solution": false,
     "task": false
    }
   },
   "outputs": [
    {
     "name": "stdout",
     "output_type": "stream",
     "text": [
      "[1.113308280052444, 2.107675745428309, 2.3296248769642967, 1.5194455722114297, 8.30178138297634, 4.0791941490448025, 5.557905998327344, 7.455239422209097, 2.4849975557759576, 9.686593992830126]\n"
     ]
    },
    {
     "ename": "AssertionError",
     "evalue": "",
     "output_type": "error",
     "traceback": [
      "\u001b[0;31m---------------------------------------------------------------------------\u001b[0m",
      "\u001b[0;31mAssertionError\u001b[0m                            Traceback (most recent call last)",
      "\u001b[0;32m<ipython-input-47-23aadf5f50a1>\u001b[0m in \u001b[0;36m<module>\u001b[0;34m()\u001b[0m\n\u001b[1;32m     12\u001b[0m  \u001b[0;36m7.4323588091800366\u001b[0m\u001b[0;34m,\u001b[0m\u001b[0;34m\u001b[0m\u001b[0m\n\u001b[1;32m     13\u001b[0m  \u001b[0;36m1.559971073227514\u001b[0m\u001b[0;34m,\u001b[0m\u001b[0;34m\u001b[0m\u001b[0m\n\u001b[0;32m---> 14\u001b[0;31m  9.678063224862273]).all()\n\u001b[0m",
      "\u001b[0;31mAssertionError\u001b[0m: "
     ]
    }
   ],
   "source": [
    "# this test is worth 3 marks \n",
    "numpy.random.seed(121)\n",
    "xis = numpy.random.random(10)\n",
    "xs = generate(xis)\n",
    "assert numpy.isclose(xs,[0.6447290358126014,\n",
    " 1.2679755837324682,\n",
    " 1.4344898161329276,\n",
    " 0.8808470745306622,\n",
    " 8.230334550407566,\n",
    " 3.568164451968253,\n",
    " 5.573493283560765,\n",
    " 7.4323588091800366,\n",
    " 1.559971073227514,\n",
    " 9.678063224862273]).all()"
   ]
  },
  {
   "cell_type": "markdown",
   "metadata": {
    "deletable": false,
    "editable": false,
    "nbgrader": {
     "cell_type": "markdown",
     "checksum": "74576ab36c4cd5fca855e5c74b6c936c",
     "grade": false,
     "grade_id": "cell-77af0f34938c6883",
     "locked": true,
     "schema_version": 3,
     "solution": false,
     "task": false
    }
   },
   "source": [
    "This will plot the distribution of your generated values."
   ]
  },
  {
   "cell_type": "code",
   "execution_count": null,
   "metadata": {},
   "outputs": [],
   "source": [
    "numpy.random.seed(121314)\n",
    "xis = numpy.random.random(10000)\n",
    "\n",
    "xs = generate(xis)\n",
    "plt.hist(xs, bins=50, density=True);\n",
    "\n",
    "xs = numpy.linspace(0, 10, 200)\n",
    "fs = pdf(xs)\n",
    "plt.plot(xs, fs, 'k--');"
   ]
  }
 ],
 "metadata": {
  "kernelspec": {
   "display_name": "Python 3",
   "language": "python",
   "name": "python3"
  },
  "language_info": {
   "codemirror_mode": {
    "name": "ipython",
    "version": 3
   },
   "file_extension": ".py",
   "mimetype": "text/x-python",
   "name": "python",
   "nbconvert_exporter": "python",
   "pygments_lexer": "ipython3",
   "version": "3.6.3"
  }
 },
 "nbformat": 4,
 "nbformat_minor": 2
}
