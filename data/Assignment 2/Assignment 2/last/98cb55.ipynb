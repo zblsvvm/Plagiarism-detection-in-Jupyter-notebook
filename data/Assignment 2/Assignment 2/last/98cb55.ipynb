{
 "cells": [
  {
   "cell_type": "markdown",
   "metadata": {
    "deletable": false,
    "editable": false,
    "nbgrader": {
     "cell_type": "markdown",
     "checksum": "1a6ba62b385c830d1892689c1a77a6e5",
     "grade": false,
     "grade_id": "cell-30a8d97deb7c6ac9",
     "locked": true,
     "schema_version": 3,
     "solution": false
    }
   },
   "source": [
    "# <center>Computational Physics</center>\n",
    "---"
   ]
  },
  {
   "cell_type": "markdown",
   "metadata": {
    "deletable": false,
    "editable": false,
    "nbgrader": {
     "cell_type": "markdown",
     "checksum": "4610a2646f04a30cdd3d61776d67e27a",
     "grade": false,
     "grade_id": "cell-2caaa61e0276bc9c",
     "locked": true,
     "schema_version": 3,
     "solution": false
    }
   },
   "source": [
    "## Week 2: Numerical Integration"
   ]
  },
  {
   "cell_type": "code",
   "execution_count": 46,
   "metadata": {
    "deletable": false,
    "editable": false,
    "nbgrader": {
     "cell_type": "code",
     "checksum": "009c50972a479db0299ed01f099eace8",
     "grade": false,
     "grade_id": "Imports",
     "locked": true,
     "schema_version": 3,
     "solution": false
    }
   },
   "outputs": [],
   "source": [
    "import numpy \n",
    "import matplotlib.pyplot as plt\n",
    "%matplotlib inline"
   ]
  },
  {
   "cell_type": "markdown",
   "metadata": {
    "deletable": false,
    "editable": false,
    "nbgrader": {
     "cell_type": "markdown",
     "checksum": "11bdc3e725666a813306a65158759d0a",
     "grade": false,
     "grade_id": "cell-65d4b02a2f3b1232",
     "locked": true,
     "schema_version": 3,
     "solution": false
    }
   },
   "source": [
    "Define the function `f`, such that $\\textrm{f}(x) \\equiv x^{2}\\sin(x)$. This is the function that we will be integrating."
   ]
  },
  {
   "cell_type": "code",
   "execution_count": 47,
   "metadata": {
    "deletable": false,
    "nbgrader": {
     "cell_type": "code",
     "checksum": "d26af6dd1e80d67f0e18af8d05575830",
     "grade": false,
     "grade_id": "integrand",
     "locked": false,
     "schema_version": 3,
     "solution": true
    }
   },
   "outputs": [],
   "source": [
    "def f(x):\n",
    "    '''Function equivalent to x^2 sin(x).'''\n",
    "    u=x**2\n",
    "    v=numpy.sin(x)\n",
    "    return u*v"
   ]
  },
  {
   "cell_type": "markdown",
   "metadata": {
    "deletable": false,
    "editable": false,
    "nbgrader": {
     "cell_type": "markdown",
     "checksum": "98c3b0d80e6998a46fe0f51775c0d236",
     "grade": false,
     "grade_id": "cell-adaeafd07c681d77",
     "locked": true,
     "schema_version": 3,
     "solution": false
    }
   },
   "source": [
    "Ensure your function works with numpy arrays:"
   ]
  },
  {
   "cell_type": "code",
   "execution_count": 48,
   "metadata": {
    "deletable": false,
    "editable": false,
    "nbgrader": {
     "cell_type": "code",
     "checksum": "a84c5ee5e826f0246d05717a2fda5961",
     "grade": true,
     "grade_id": "cell-653afd49e7782cc4",
     "locked": true,
     "points": 1,
     "schema_version": 3,
     "solution": false
    }
   },
   "outputs": [],
   "source": [
    "xs=numpy.arange(0, 1, step=0.1)\n",
    "assert numpy.isclose(f(xs), \n",
    "                     [0., 0.00099833, 0.00794677, 0.02659682, 0.06230693,\n",
    "                      0.11985638, 0.20327129, 0.31566667, 0.4591079 , 0.6344948 ]).all()"
   ]
  },
  {
   "cell_type": "markdown",
   "metadata": {
    "deletable": false,
    "editable": false,
    "nbgrader": {
     "cell_type": "markdown",
     "checksum": "ba29b146196aac9acc10d8592a006b2a",
     "grade": false,
     "grade_id": "cell-789634f6cdfc0a8f",
     "locked": true,
     "schema_version": 3,
     "solution": false
    }
   },
   "source": [
    "Derive the indefinite integral of $f(x)$ nalytically. Call this function $g(x)$ and implement it below. Set the constant of integration such that $g(0)=0$."
   ]
  },
  {
   "cell_type": "code",
   "execution_count": 49,
   "metadata": {
    "deletable": false,
    "nbgrader": {
     "cell_type": "code",
     "checksum": "17ecffb673da3f88f5952b4fbff55785",
     "grade": false,
     "grade_id": "integral",
     "locked": false,
     "schema_version": 3,
     "solution": true
    }
   },
   "outputs": [],
   "source": [
    "def g(x):\n",
    "    '''Analytical integral of f(x).'''\n",
    "    u=2*x\n",
    "    v=numpy.sin(x)\n",
    "    b=(2-x**2)\n",
    "    c=numpy.cos(x)\n",
    "    return u*v +b*c -2"
   ]
  },
  {
   "cell_type": "markdown",
   "metadata": {
    "deletable": false,
    "editable": false,
    "nbgrader": {
     "cell_type": "markdown",
     "checksum": "dc142533aa8de345badcfcb2e7b768ac",
     "grade": false,
     "grade_id": "cell-7b932704a5d427da",
     "locked": true,
     "schema_version": 3,
     "solution": false
    }
   },
   "source": [
    "Check your solution with the same numpy array:"
   ]
  },
  {
   "cell_type": "code",
   "execution_count": 50,
   "metadata": {
    "deletable": false,
    "editable": false,
    "nbgrader": {
     "cell_type": "code",
     "checksum": "b24fdab8074a33f0b30dbc74efaad39c",
     "grade": true,
     "grade_id": "cell-648a123ee323b45e",
     "locked": true,
     "points": 1,
     "schema_version": 3,
     "solution": false,
     "task": false
    }
   },
   "outputs": [],
   "source": [
    "assert g(0) == 0."
   ]
  },
  {
   "cell_type": "code",
   "execution_count": 51,
   "metadata": {
    "deletable": false,
    "editable": false,
    "nbgrader": {
     "cell_type": "code",
     "checksum": "707f00ec3afe9ece7a82ae4847992e75",
     "grade": true,
     "grade_id": "cell-f8eaec03e0540a78",
     "locked": true,
     "points": 1,
     "schema_version": 3,
     "solution": false
    }
   },
   "outputs": [],
   "source": [
    "assert numpy.isclose(g(xs), \n",
    "                     [0., 0.00002497, 0.00039822, 0.00200482, 0.0062869, \n",
    "                      0.01519502, 0.03112138, 0.05681646, 0.09529087, 0.1497043 ]).all()"
   ]
  },
  {
   "cell_type": "markdown",
   "metadata": {
    "deletable": false,
    "editable": false,
    "nbgrader": {
     "cell_type": "markdown",
     "checksum": "c6483f6a0f3eb0d6f56aaade5bb4c4fe",
     "grade": false,
     "grade_id": "cell-84ca7691a857d55e",
     "locked": true,
     "schema_version": 3,
     "solution": false
    }
   },
   "source": [
    "Now, using the analytically derived indefinite integral, $g(x)$, define a function which calculates the definite integral of $f(x)$ over the interval $(x_{min},~x_{max})$."
   ]
  },
  {
   "cell_type": "code",
   "execution_count": 52,
   "metadata": {
    "deletable": false,
    "nbgrader": {
     "cell_type": "code",
     "checksum": "8f53c073ce4ea75306899b835bece446",
     "grade": false,
     "grade_id": "cell-6f8d8cc5f5c7564c",
     "locked": false,
     "schema_version": 3,
     "solution": true
    }
   },
   "outputs": [],
   "source": [
    "def integrate_analytic(xmin, xmax):\n",
    "    '''Analytical integral of f(x) from xmin to xmax.'''\n",
    "    return g(xmax) - g(xmin)"
   ]
  },
  {
   "cell_type": "markdown",
   "metadata": {
    "deletable": false,
    "editable": false,
    "nbgrader": {
     "cell_type": "markdown",
     "checksum": "aec4522a4f525a6b9c4a2f279d0df8b4",
     "grade": false,
     "grade_id": "cell-d40e8684285d1458",
     "locked": true,
     "schema_version": 3,
     "solution": false
    }
   },
   "source": [
    "Check your analytic function:"
   ]
  },
  {
   "cell_type": "code",
   "execution_count": 53,
   "metadata": {
    "deletable": false,
    "editable": false,
    "nbgrader": {
     "cell_type": "code",
     "checksum": "d75cba671c71bca06ddb255ff655ce98",
     "grade": true,
     "grade_id": "analytical_integral",
     "locked": true,
     "points": 1,
     "schema_version": 3,
     "solution": false
    }
   },
   "outputs": [],
   "source": [
    "assert numpy.isclose(integrate_analytic(xmin=0, xmax=4), 1.096591)"
   ]
  },
  {
   "cell_type": "markdown",
   "metadata": {},
   "source": [
    "## Numerical implementation"
   ]
  },
  {
   "cell_type": "markdown",
   "metadata": {
    "deletable": false,
    "editable": false,
    "nbgrader": {
     "cell_type": "markdown",
     "checksum": "00e9df3bc4eac31426ceb16125de7314",
     "grade": false,
     "grade_id": "cell-ec632498cc67324a",
     "locked": true,
     "schema_version": 3,
     "solution": false
    }
   },
   "source": [
    "Create a function which calculates the definite integral of the function $f(x)$ over the interval $(x_{min},~x_{max})$ using Simpson's rule with $N$ panels."
   ]
  },
  {
   "cell_type": "code",
   "execution_count": 54,
   "metadata": {
    "deletable": false,
    "nbgrader": {
     "cell_type": "code",
     "checksum": "ad921ca4907833323a0d06172ecdd49a",
     "grade": false,
     "grade_id": "numerical_integral",
     "locked": false,
     "schema_version": 3,
     "solution": true
    }
   },
   "outputs": [],
   "source": [
    "def integrate_numeric(xmin, xmax, N):\n",
    "    ''' \n",
    "    Numerical integral of f from xmin to xmax using Simpson's rule with \n",
    "        N panels.\n",
    "    '''\n",
    "    r=(xmax-xmin)/N\n",
    "    ya=[]\n",
    "    yb=[]\n",
    "    yc=[]\n",
    "    yd=[]\n",
    "    xa=xmin+r\n",
    "    xb=xmin+(r/2)    \n",
    "    for i in range(0, N+1):\n",
    "        if i==0:\n",
    "            yb.append(f(xmin))\n",
    "        elif i==N:\n",
    "            yc.append(f(xmax))\n",
    "        elif i !=N:\n",
    "            ya.append(f(xa))\n",
    "            xa+=r\n",
    "\n",
    "    for i in range(0,N):\n",
    "        yd.append(f(xb))\n",
    "        if r<=N:\n",
    "            xb+=r\n",
    "       \n",
    "    I= (r/6)*(sum(yb)+4*sum(yd)+2*sum(ya)+sum(yc))\n",
    "    return I"
   ]
  },
  {
   "cell_type": "markdown",
   "metadata": {
    "deletable": false,
    "editable": false,
    "nbgrader": {
     "cell_type": "markdown",
     "checksum": "3903cf2d57d3f7bcd72fa4e67f10b3df",
     "grade": false,
     "grade_id": "cell-5ffdafb9be4182f9",
     "locked": true,
     "schema_version": 3,
     "solution": false
    }
   },
   "source": [
    "Make sure you have implemented Simpson's rule correctly:"
   ]
  },
  {
   "cell_type": "code",
   "execution_count": 55,
   "metadata": {
    "deletable": false,
    "editable": false,
    "nbgrader": {
     "cell_type": "code",
     "checksum": "8d2bf532c6416b2f7ff643373df9dbb9",
     "grade": true,
     "grade_id": "cell-038d65c4eff18248",
     "locked": true,
     "points": 3,
     "schema_version": 3,
     "solution": false
    }
   },
   "outputs": [],
   "source": [
    "assert numpy.isclose(integrate_numeric(xmin=0, xmax=4, N=1), 1.6266126)"
   ]
  },
  {
   "cell_type": "code",
   "execution_count": 56,
   "metadata": {
    "deletable": false,
    "editable": false,
    "nbgrader": {
     "cell_type": "code",
     "checksum": "4c13af6df002c42275bef94de5c9db15",
     "grade": true,
     "grade_id": "cell-3304084098accd44",
     "locked": true,
     "points": 3,
     "schema_version": 3,
     "solution": false,
     "task": false
    }
   },
   "outputs": [],
   "source": [
    "assert numpy.isclose(integrate_numeric(xmin=0, xmax=4, N=50), 1.096591)"
   ]
  },
  {
   "cell_type": "markdown",
   "metadata": {},
   "source": [
    "## Plotting task"
   ]
  },
  {
   "cell_type": "markdown",
   "metadata": {
    "deletable": false,
    "editable": false,
    "nbgrader": {
     "cell_type": "markdown",
     "checksum": "b1472d81a82ad7e19f2c19a38ebed0ba",
     "grade": false,
     "grade_id": "cell-2867d341e99d38a2",
     "locked": true,
     "points": 6,
     "schema_version": 3,
     "solution": false,
     "task": true
    }
   },
   "source": [
    "** Task 1 **\n",
    "\n",
    "There will always be some discrepancy between a numerically calculated result and an analytically derived result. Produce a log-log plot showing the fractional error between these two results as the number of panels is varied. The plot should have labels and a title.\n"
   ]
  },
  {
   "cell_type": "code",
   "execution_count": 57,
   "metadata": {},
   "outputs": [
    {
     "data": {
      "text/plain": [
       "Text(0.5,1,'The fractional error between the numerically calculated and the analytically derived result')"
      ]
     },
     "execution_count": 57,
     "metadata": {},
     "output_type": "execute_result"
    },
    {
     "data": {
      "image/png": "[encoded data removed]",
      "text/plain": [
       "<Figure size 432x288 with 1 Axes>"
      ]
     },
     "metadata": {},
     "output_type": "display_data"
    }
   ],
   "source": [
    "x0, x1 = 0, 2  # Bounds to integrate f(x) over\n",
    "panel_counts = [4, 8, 16, 32, 64, 128, 256, 512, 1024]  # Panel numbers to use\n",
    "result_analytic = integrate_analytic(x0, x1)  # Define reference value from analytical solution\n",
    "fractional_error=[]\n",
    "for i in panel_counts:\n",
    "    difference=result_analytic-integrate_numeric(x0,x1,i)\n",
    "    fraction=difference/result_analytic\n",
    "    fractional_error.append(fraction)\n",
    "plt.plot(panel_counts, fractional_error)\n",
    "plt.xscale('log')\n",
    "plt.yscale('log')\n",
    "plt.xlabel('Number of panels')\n",
    "plt.ylabel('Fractional error')\n",
    "plt.title('The fractional error between the numerically calculated and the analytically derived result')"
   ]
  },
  {
   "cell_type": "markdown",
   "metadata": {
    "deletable": false,
    "editable": false,
    "nbgrader": {
     "cell_type": "markdown",
     "checksum": "f1cb10be7b851ce81e28aba54aff5c5f",
     "grade": false,
     "grade_id": "question1",
     "locked": true,
     "schema_version": 3,
     "solution": false
    }
   },
   "source": [
    "What effect(s) does changing the number of panels used have\n",
    "on the accuracy of the numerical method? What happens if the number of panels is taken too large?"
   ]
  },
  {
   "cell_type": "markdown",
   "metadata": {
    "deletable": false,
    "nbgrader": {
     "cell_type": "markdown",
     "checksum": "906813290c61cb666781ccdc5ac08a29",
     "grade": true,
     "grade_id": "answer1",
     "locked": false,
     "points": 3,
     "schema_version": 3,
     "solution": true
    }
   },
   "source": [
    "As you increase the number of panels the result of the numerical method is more accurate. If there are too many panels though and the function isn't smooth then the accuracy decreases. Also if there is divergence then the accuracy also decreases"
   ]
  },
  {
   "cell_type": "markdown",
   "metadata": {
    "deletable": false,
    "editable": false,
    "nbgrader": {
     "cell_type": "markdown",
     "checksum": "b59a87de3e0ef631413395d4fd8ba57d",
     "grade": false,
     "grade_id": "question2",
     "locked": true,
     "schema_version": 3,
     "solution": false
    }
   },
   "source": [
    "If the trapezium rule was being used, how would the panel\n",
    "count affect accuracy? "
   ]
  },
  {
   "cell_type": "markdown",
   "metadata": {
    "deletable": false,
    "nbgrader": {
     "cell_type": "markdown",
     "checksum": "4bf67eb5bc0583e5b4713f3f884e2813",
     "grade": true,
     "grade_id": "cell-eeb89d1f4669ff1d",
     "locked": false,
     "points": 1,
     "schema_version": 3,
     "solution": true,
     "task": false
    }
   },
   "source": [
    "As you increase the number of panels in the trapezium rule the accuracy increases because the line segments are much closer to the actual function being integrated. However, it is not as accurate as the simpson rule for the same number of panels."
   ]
  },
  {
   "cell_type": "code",
   "execution_count": null,
   "metadata": {},
   "outputs": [],
   "source": []
  }
 ],
 "metadata": {
  "kernelspec": {
   "display_name": "Python 3",
   "language": "python",
   "name": "python3"
  },
  "language_info": {
   "codemirror_mode": {
    "name": "ipython",
    "version": 3
   },
   "file_extension": ".py",
   "mimetype": "text/x-python",
   "name": "python",
   "nbconvert_exporter": "python",
   "pygments_lexer": "ipython3",
   "version": "3.6.3"
  },
  "toc": {
   "base_numbering": 1,
   "nav_menu": {},
   "number_sections": false,
   "sideBar": true,
   "skip_h1_title": false,
   "title_cell": "Table of Contents",
   "title_sidebar": "Contents",
   "toc_cell": false,
   "toc_position": {},
   "toc_section_display": true,
   "toc_window_display": false
  }
 },
 "nbformat": 4,
 "nbformat_minor": 2
}
