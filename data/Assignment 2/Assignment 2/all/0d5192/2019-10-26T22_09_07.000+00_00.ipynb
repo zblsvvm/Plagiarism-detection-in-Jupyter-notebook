{
 "cells": [
  {
   "cell_type": "markdown",
   "metadata": {
    "deletable": false,
    "editable": false,
    "nbgrader": {
     "cell_type": "markdown",
     "checksum": "1a6ba62b385c830d1892689c1a77a6e5",
     "grade": false,
     "grade_id": "cell-30a8d97deb7c6ac9",
     "locked": true,
     "schema_version": 3,
     "solution": false
    }
   },
   "source": [
    "# <center>Computational Physics</center>\n",
    "---"
   ]
  },
  {
   "cell_type": "markdown",
   "metadata": {
    "deletable": false,
    "editable": false,
    "nbgrader": {
     "cell_type": "markdown",
     "checksum": "4610a2646f04a30cdd3d61776d67e27a",
     "grade": false,
     "grade_id": "cell-2caaa61e0276bc9c",
     "locked": true,
     "schema_version": 3,
     "solution": false
    }
   },
   "source": [
    "## Week 2: Numerical Integration"
   ]
  },
  {
   "cell_type": "code",
   "execution_count": 1,
   "metadata": {
    "deletable": false,
    "editable": false,
    "nbgrader": {
     "cell_type": "code",
     "checksum": "009c50972a479db0299ed01f099eace8",
     "grade": false,
     "grade_id": "Imports",
     "locked": true,
     "schema_version": 3,
     "solution": false
    }
   },
   "outputs": [],
   "source": [
    "import numpy \n",
    "import matplotlib.pyplot as plt\n",
    "%matplotlib inline"
   ]
  },
  {
   "cell_type": "markdown",
   "metadata": {
    "deletable": false,
    "editable": false,
    "nbgrader": {
     "cell_type": "markdown",
     "checksum": "11bdc3e725666a813306a65158759d0a",
     "grade": false,
     "grade_id": "cell-65d4b02a2f3b1232",
     "locked": true,
     "schema_version": 3,
     "solution": false
    }
   },
   "source": [
    "Define the function `f`, such that $\\textrm{f}(x) \\equiv x^{2}\\sin(x)$. This is the function that we will be integrating."
   ]
  },
  {
   "cell_type": "code",
   "execution_count": 17,
   "metadata": {
    "deletable": false,
    "nbgrader": {
     "cell_type": "code",
     "checksum": "d26af6dd1e80d67f0e18af8d05575830",
     "grade": false,
     "grade_id": "integrand",
     "locked": false,
     "schema_version": 3,
     "solution": true
    }
   },
   "outputs": [],
   "source": [
    "def f(x):\n",
    "    value = (x**2)*(numpy.sin(x))\n",
    "    print(value)\n",
    "    return value"
   ]
  },
  {
   "cell_type": "markdown",
   "metadata": {
    "deletable": false,
    "editable": false,
    "nbgrader": {
     "cell_type": "markdown",
     "checksum": "98c3b0d80e6998a46fe0f51775c0d236",
     "grade": false,
     "grade_id": "cell-adaeafd07c681d77",
     "locked": true,
     "schema_version": 3,
     "solution": false
    }
   },
   "source": [
    "Ensure your function works with numpy arrays:"
   ]
  },
  {
   "cell_type": "code",
   "execution_count": 18,
   "metadata": {
    "deletable": false,
    "editable": false,
    "nbgrader": {
     "cell_type": "code",
     "checksum": "a84c5ee5e826f0246d05717a2fda5961",
     "grade": true,
     "grade_id": "cell-653afd49e7782cc4",
     "locked": true,
     "points": 1,
     "schema_version": 3,
     "solution": false
    }
   },
   "outputs": [
    {
     "name": "stdout",
     "output_type": "stream",
     "text": [
      "[0.         0.00099833 0.00794677 0.02659682 0.06230693 0.11985638\n",
      " 0.20327129 0.31566667 0.4591079  0.6344948 ]\n"
     ]
    }
   ],
   "source": [
    "xs=numpy.arange(0, 1, step=0.1)\n",
    "assert numpy.isclose(f(xs), \n",
    "                     [0., 0.00099833, 0.00794677, 0.02659682, 0.06230693,\n",
    "                      0.11985638, 0.20327129, 0.31566667, 0.4591079 , 0.6344948 ]).all()"
   ]
  },
  {
   "cell_type": "markdown",
   "metadata": {
    "deletable": false,
    "editable": false,
    "nbgrader": {
     "cell_type": "markdown",
     "checksum": "ba29b146196aac9acc10d8592a006b2a",
     "grade": false,
     "grade_id": "cell-789634f6cdfc0a8f",
     "locked": true,
     "schema_version": 3,
     "solution": false
    }
   },
   "source": [
    "Derive the indefinite integral of $f(x)$ nalytically. Call this function $g(x)$ and implement it below. Set the constant of integration such that $g(0)=0$."
   ]
  },
  {
   "cell_type": "code",
   "execution_count": 20,
   "metadata": {
    "deletable": false,
    "nbgrader": {
     "cell_type": "code",
     "checksum": "17ecffb673da3f88f5952b4fbff55785",
     "grade": false,
     "grade_id": "integral",
     "locked": false,
     "schema_version": 3,
     "solution": true
    }
   },
   "outputs": [],
   "source": [
    "def g(x):\n",
    "    value2 = (2*x)*(numpy.sin(x))-(x**2-2)*(numpy.cos(x)) - 2\n",
    "    print(value2)\n",
    "    return value2\n"
   ]
  },
  {
   "cell_type": "markdown",
   "metadata": {
    "deletable": false,
    "editable": false,
    "nbgrader": {
     "cell_type": "markdown",
     "checksum": "dc142533aa8de345badcfcb2e7b768ac",
     "grade": false,
     "grade_id": "cell-7b932704a5d427da",
     "locked": true,
     "schema_version": 3,
     "solution": false
    }
   },
   "source": [
    "Check your solution with the same numpy array:"
   ]
  },
  {
   "cell_type": "code",
   "execution_count": 21,
   "metadata": {
    "deletable": false,
    "editable": false,
    "nbgrader": {
     "cell_type": "code",
     "checksum": "b24fdab8074a33f0b30dbc74efaad39c",
     "grade": true,
     "grade_id": "cell-648a123ee323b45e",
     "locked": true,
     "points": 1,
     "schema_version": 3,
     "solution": false,
     "task": false
    }
   },
   "outputs": [
    {
     "name": "stdout",
     "output_type": "stream",
     "text": [
      "0.0\n"
     ]
    }
   ],
   "source": [
    "assert g(0) == 0."
   ]
  },
  {
   "cell_type": "code",
   "execution_count": 22,
   "metadata": {
    "deletable": false,
    "editable": false,
    "nbgrader": {
     "cell_type": "code",
     "checksum": "707f00ec3afe9ece7a82ae4847992e75",
     "grade": true,
     "grade_id": "cell-f8eaec03e0540a78",
     "locked": true,
     "points": 1,
     "schema_version": 3,
     "solution": false
    }
   },
   "outputs": [
    {
     "name": "stdout",
     "output_type": "stream",
     "text": [
      "[0.00000000e+00 2.49722326e-05 3.98224887e-04 2.00481823e-03\n",
      " 6.28690281e-03 1.51950219e-02 3.11213765e-02 5.68164649e-02\n",
      " 9.52908702e-02 1.49704300e-01]\n"
     ]
    }
   ],
   "source": [
    "assert numpy.isclose(g(xs), \n",
    "                     [0., 0.00002497, 0.00039822, 0.00200482, 0.0062869, \n",
    "                      0.01519502, 0.03112138, 0.05681646, 0.09529087, 0.1497043 ]).all()"
   ]
  },
  {
   "cell_type": "markdown",
   "metadata": {
    "deletable": false,
    "editable": false,
    "nbgrader": {
     "cell_type": "markdown",
     "checksum": "c6483f6a0f3eb0d6f56aaade5bb4c4fe",
     "grade": false,
     "grade_id": "cell-84ca7691a857d55e",
     "locked": true,
     "schema_version": 3,
     "solution": false
    }
   },
   "source": [
    "Now, using the analytically derived indefinite integral, $g(x)$, define a function which calculates the definite integral of $f(x)$ over the interval $(x_{min},~x_{max})$."
   ]
  },
  {
   "cell_type": "code",
   "execution_count": 23,
   "metadata": {
    "deletable": false,
    "nbgrader": {
     "cell_type": "code",
     "checksum": "8f53c073ce4ea75306899b835bece446",
     "grade": false,
     "grade_id": "cell-6f8d8cc5f5c7564c",
     "locked": false,
     "schema_version": 3,
     "solution": true
    }
   },
   "outputs": [],
   "source": [
    "def integrate_analytic(xmin, xmax):\n",
    "    value3 = g(xmax) - g(xmin)\n",
    "    print(value3)\n",
    "    return value3"
   ]
  },
  {
   "cell_type": "markdown",
   "metadata": {
    "deletable": false,
    "editable": false,
    "nbgrader": {
     "cell_type": "markdown",
     "checksum": "aec4522a4f525a6b9c4a2f279d0df8b4",
     "grade": false,
     "grade_id": "cell-d40e8684285d1458",
     "locked": true,
     "schema_version": 3,
     "solution": false
    }
   },
   "source": [
    "Check your analytic function:"
   ]
  },
  {
   "cell_type": "code",
   "execution_count": 24,
   "metadata": {
    "deletable": false,
    "editable": false,
    "nbgrader": {
     "cell_type": "code",
     "checksum": "d75cba671c71bca06ddb255ff655ce98",
     "grade": true,
     "grade_id": "analytical_integral",
     "locked": true,
     "points": 1,
     "schema_version": 3,
     "solution": false
    }
   },
   "outputs": [
    {
     "name": "stdout",
     "output_type": "stream",
     "text": [
      "1.0965907296271418\n",
      "0.0\n",
      "1.0965907296271418\n"
     ]
    }
   ],
   "source": [
    "assert numpy.isclose(integrate_analytic(xmin=0, xmax=4), 1.096591)"
   ]
  },
  {
   "cell_type": "markdown",
   "metadata": {},
   "source": [
    "## Numerical implementation"
   ]
  },
  {
   "cell_type": "markdown",
   "metadata": {
    "deletable": false,
    "editable": false,
    "nbgrader": {
     "cell_type": "markdown",
     "checksum": "00e9df3bc4eac31426ceb16125de7314",
     "grade": false,
     "grade_id": "cell-ec632498cc67324a",
     "locked": true,
     "schema_version": 3,
     "solution": false
    }
   },
   "source": [
    "Create a function which calculates the definite integral of the function $f(x)$ over the interval $(x_{min},~x_{max})$ using Simpson's rule with $N$ panels."
   ]
  },
  {
   "cell_type": "code",
   "execution_count": 123,
   "metadata": {
    "deletable": false,
    "nbgrader": {
     "cell_type": "code",
     "checksum": "ad921ca4907833323a0d06172ecdd49a",
     "grade": false,
     "grade_id": "numerical_integral",
     "locked": false,
     "schema_version": 3,
     "solution": true
    }
   },
   "outputs": [],
   "source": [
    "def integrate_numeric(xmin, xmax, N):\n",
    "    h = (xmax-xmin)/N\n",
    "    k = h/2\n",
    "    \n",
    "    total_first = 0\n",
    "    total_second = 0\n",
    "    \n",
    "    for i in range (0,N):\n",
    "        total_first = total_first + 4*f(xmin + (2*i + 1)*k)\n",
    "        print(total_first)\n",
    "    \n",
    "    for i in range (0,N-1):\n",
    "        total_second = total_second + 2*f(xmin + 2*(i + 1)*k)\n",
    "        print(total_second)\n",
    "   \n",
    "    answer = (h/6)*(f(xmin)+ f(xmax)+ total_first + total_second)\n",
    "    print(answer)\n",
    "    return answer\n",
    "\n",
    "\n"
   ]
  },
  {
   "cell_type": "markdown",
   "metadata": {
    "deletable": false,
    "editable": false,
    "nbgrader": {
     "cell_type": "markdown",
     "checksum": "3903cf2d57d3f7bcd72fa4e67f10b3df",
     "grade": false,
     "grade_id": "cell-5ffdafb9be4182f9",
     "locked": true,
     "schema_version": 3,
     "solution": false
    }
   },
   "source": [
    "Make sure you have implemented Simpson's rule correctly:"
   ]
  },
  {
   "cell_type": "code",
   "execution_count": 124,
   "metadata": {
    "deletable": false,
    "editable": false,
    "nbgrader": {
     "cell_type": "code",
     "checksum": "8d2bf532c6416b2f7ff643373df9dbb9",
     "grade": true,
     "grade_id": "cell-038d65c4eff18248",
     "locked": true,
     "points": 3,
     "schema_version": 3,
     "solution": false
    },
    "scrolled": true
   },
   "outputs": [
    {
     "name": "stdout",
     "output_type": "stream",
     "text": [
      "3.637189707302727\n",
      "14.548758829210907\n",
      "0.0\n",
      "-12.108839924926851\n",
      "1.6266126028560373\n"
     ]
    }
   ],
   "source": [
    "assert numpy.isclose(integrate_numeric(xmin=0, xmax=4, N=1), 1.6266126)"
   ]
  },
  {
   "cell_type": "code",
   "execution_count": 125,
   "metadata": {
    "deletable": false,
    "editable": false,
    "nbgrader": {
     "cell_type": "code",
     "checksum": "4c13af6df002c42275bef94de5c9db15",
     "grade": true,
     "grade_id": "cell-3304084098accd44",
     "locked": true,
     "points": 3,
     "schema_version": 3,
     "solution": false,
     "task": false
    }
   },
   "outputs": [
    {
     "name": "stdout",
     "output_type": "stream",
     "text": [
      "6.398293469861466e-05\n",
      "0.00025593173879445865\n",
      "0.0017238557849604387\n",
      "0.007151354878636214\n",
      "0.00794677323180245\n",
      "0.03893844780584601\n",
      "0.021666282847426523\n",
      "0.1256035791955521\n",
      "0.04565474063245165\n",
      "0.3082225417253587\n",
      "0.08246188043677752\n",
      "0.6380700634724688\n",
      "0.13435638927294644\n",
      "1.1754956205642544\n",
      "0.20327129042221273\n",
      "1.9885807822531052\n",
      "0.29075389430613996\n",
      "3.151596359477665\n",
      "0.39792102669585444\n",
      "4.743280466261083\n",
      "0.5254201854514382\n",
      "6.844961208066835\n",
      "0.6733972111987803\n",
      "9.538550052861957\n",
      "0.8414709848078965\n",
      "12.904433992093544\n",
      "1.028715585950603\n",
      "17.019296335895955\n",
      "1.2336502631632893\n",
      "21.953897388549112\n",
      "1.454237477553611\n",
      "27.770847298763556\n",
      "1.6878891904460656\n",
      "34.52240406054782\n",
      "1.9314814707773824\n",
      "42.24832994365735\n",
      "2.1813774018752468\n",
      "50.97383955115834\n",
      "2.433458170351646\n",
      "60.707672232564924\n",
      "2.68316212319605\n",
      "71.44032072534912\n",
      "2.9255314837483084\n",
      "83.14244666034236\n",
      "3.1552663240453525\n",
      "95.76351195652377\n",
      "3.366785301033527\n",
      "109.23065316065788\n",
      "3.554292578259827\n",
      "123.44782347369718\n",
      "3.7118502738075843\n",
      "138.29522456892752\n",
      "3.833455700291247\n",
      "153.6290473700925\n",
      "3.9131225944868167\n",
      "169.28153774803977\n",
      "3.944965473407705\n",
      "185.0613996416706\n",
      "3.9232862010335734\n",
      "200.7545444458049\n",
      "3.842661806083509\n",
      "216.12519167013892\n",
      "3.6980325567377297\n",
      "230.91732189708983\n",
      "3.484789273513098\n",
      "244.85647899114224\n",
      "3.1988588469575356\n",
      "257.6519143789724\n",
      "2.836786922724302\n",
      "268.9990620698696\n",
      "2.3958167231003875\n",
      "278.5823289622711\n",
      "1.8739629912762368\n",
      "286.078180927376\n",
      "1.2700800725388048\n",
      "291.15850121753124\n",
      "0.583923185027128\n",
      "293.49419395763977\n",
      "-0.18379801851070213\n",
      "292.75900188359697\n",
      "-1.0313744376986531\n",
      "288.63350413280233\n",
      "-1.956061831565902\n",
      "280.8092568065387\n",
      "-2.9540551394301686\n",
      "268.99303624881804\n",
      "-4.0204734234283785\n",
      "252.91114255510453\n",
      "-5.149355946697481\n",
      "232.3137187683146\n",
      "-6.333669800394839\n",
      "206.97903956673525\n",
      "-7.565329385763625\n",
      "176.71772202368075\n",
      "-8.835227945212866\n",
      "141.3768102428293\n",
      "-10.133281219872915\n",
      "100.84368536333764\n",
      "-11.448483191337559\n",
      "55.04975259798741\n",
      "0.0005114540414027053\n",
      "0.0010229080828054106\n",
      "0.0040785460893246975\n",
      "0.009180000261454806\n",
      "0.013691671282202951\n",
      "0.03656334282586071\n",
      "0.03221161580709046\n",
      "0.10098657444004164\n",
      "0.06230693476938409\n",
      "0.22560044397880982\n",
      "0.10639392204475766\n",
      "0.43838828806832514\n",
      "0.16657999166798906\n",
      "0.7715482714043033\n",
      "0.24461125278203583\n",
      "1.260770776968375\n",
      "0.34182501395001164\n",
      "1.9444208048683982\n",
      "0.4591078981756947\n",
      "2.8626366012197875\n",
      "0.5968601878193618\n",
      "4.0563569768585115\n",
      "0.7549669493462\n",
      "5.566290875550911\n",
      "0.932776412186395\n",
      "7.431843699923701\n",
      "1.1290859946662082\n",
      "9.690015689256118\n",
      "1.3421362837928057\n",
      "12.37428825684173\n",
      "1.569613185497866\n",
      "15.513514627837463\n",
      "1.8086583686643614\n",
      "19.130831365166184\n",
      "2.055888030810281\n",
      "23.242607426786748\n",
      "2.307419916641187\n",
      "27.857447260069122\n",
      "2.5589084237862534\n",
      "32.97526410764163\n",
      "2.805587533883849\n",
      "38.586439175409325\n",
      "3.042321212765487\n",
      "44.6710816009403\n",
      "3.2636608317737283\n",
      "51.19840326448775\n",
      "3.4639090741935816\n",
      "58.12622141287491\n",
      "3.637189707302727\n",
      "65.40060082748036\n",
      "3.7775225225413194\n",
      "72.955645872563\n",
      "3.8789026746090243\n",
      "80.71345122178104\n",
      "3.9353835857035855\n",
      "88.58421839318821\n",
      "3.941162524348425\n",
      "96.46654344188507\n",
      "3.8906679199746295\n",
      "104.24787928183433\n",
      "3.7786474352082497\n",
      "111.80517415225083\n",
      "3.600255788168817\n",
      "119.00568572858846\n",
      "3.351141297424883\n",
      "125.70796832343822\n",
      "3.027530112901453\n",
      "131.76302854924114\n",
      "2.626307097222293\n",
      "137.01564274368573\n",
      "2.1450923338291177\n",
      "141.30582741134396\n",
      "1.582312260782111\n",
      "144.4704519329082\n",
      "0.9372644623435077\n",
      "146.3449808575952\n",
      "0.21017519410810853\n",
      "146.7653312458114\n",
      "-0.5977512286984202\n",
      "145.56982878841458\n",
      "-1.4842919864507718\n",
      "142.60124481551304\n",
      "-2.4461749875413608\n",
      "137.70889484043033\n",
      "-3.4790584298008604\n",
      "130.75077798082862\n",
      "-4.577521252749489\n",
      "121.59573547532963\n",
      "-5.735064945101288\n",
      "110.12560558512706\n",
      "-6.944127067934154\n",
      "96.23735144925875\n",
      "-8.19610674420988\n",
      "79.845137960839\n",
      "-9.481402250830119\n",
      "60.88233345917876\n",
      "-10.789460731153047\n",
      "39.30341199687267\n",
      "0.0\n",
      "-12.108839924926851\n",
      "1.0965909955991098\n"
     ]
    }
   ],
   "source": [
    "assert numpy.isclose(integrate_numeric(xmin=0, xmax=4, N=50), 1.096591)"
   ]
  },
  {
   "cell_type": "markdown",
   "metadata": {},
   "source": [
    "## Plotting task"
   ]
  },
  {
   "cell_type": "markdown",
   "metadata": {
    "deletable": false,
    "editable": false,
    "nbgrader": {
     "cell_type": "markdown",
     "checksum": "b1472d81a82ad7e19f2c19a38ebed0ba",
     "grade": false,
     "grade_id": "cell-2867d341e99d38a2",
     "locked": true,
     "points": 6,
     "schema_version": 3,
     "solution": false,
     "task": true
    }
   },
   "source": [
    "** Task 1 **\n",
    "\n",
    "There will always be some discrepancy between a numerically calculated result and an analytically derived result. Produce a log-log plot showing the fractional error between these two results as the number of panels is varied. The plot should have labels and a title.\n"
   ]
  },
  {
   "cell_type": "code",
   "execution_count": 45,
   "metadata": {},
   "outputs": [
    {
     "name": "stdout",
     "output_type": "stream",
     "text": [
      "2.469483380397012\n",
      "0.0\n",
      "2.469483380397012\n"
     ]
    }
   ],
   "source": [
    "x0, x1 = 0, 2  # Bounds to integrate f(x) over\n",
    "panel_counts = [4, 8, 16, 32, 64, 128, 256, 512, 1024]  # Panel numbers to use\n",
    "result_analytic = integrate_analytic(x0, x1)  # Define reference value from analytical solution"
   ]
  },
  {
   "cell_type": "markdown",
   "metadata": {
    "deletable": false,
    "editable": false,
    "nbgrader": {
     "cell_type": "markdown",
     "checksum": "f1cb10be7b851ce81e28aba54aff5c5f",
     "grade": false,
     "grade_id": "question1",
     "locked": true,
     "schema_version": 3,
     "solution": false
    }
   },
   "source": [
    "What effect(s) does changing the number of panels used have\n",
    "on the accuracy of the numerical method? What happens if the number of panels is taken too large?"
   ]
  },
  {
   "cell_type": "markdown",
   "metadata": {
    "deletable": false,
    "nbgrader": {
     "cell_type": "markdown",
     "checksum": "906813290c61cb666781ccdc5ac08a29",
     "grade": true,
     "grade_id": "answer1",
     "locked": false,
     "points": 3,
     "schema_version": 3,
     "solution": true
    }
   },
   "source": [
    "YOUR ANSWER HERE"
   ]
  },
  {
   "cell_type": "markdown",
   "metadata": {
    "deletable": false,
    "editable": false,
    "nbgrader": {
     "cell_type": "markdown",
     "checksum": "b59a87de3e0ef631413395d4fd8ba57d",
     "grade": false,
     "grade_id": "question2",
     "locked": true,
     "schema_version": 3,
     "solution": false
    }
   },
   "source": [
    "If the trapezium rule was being used, how would the panel\n",
    "count affect accuracy? "
   ]
  },
  {
   "cell_type": "markdown",
   "metadata": {
    "deletable": false,
    "nbgrader": {
     "cell_type": "markdown",
     "checksum": "4bf67eb5bc0583e5b4713f3f884e2813",
     "grade": true,
     "grade_id": "cell-eeb89d1f4669ff1d",
     "locked": false,
     "points": 1,
     "schema_version": 3,
     "solution": true,
     "task": false
    }
   },
   "source": [
    "YOUR ANSWER HERE"
   ]
  }
 ],
 "metadata": {
  "kernelspec": {
   "display_name": "Python 3",
   "language": "python",
   "name": "python3"
  },
  "language_info": {
   "codemirror_mode": {
    "name": "ipython",
    "version": 3
   },
   "file_extension": ".py",
   "mimetype": "text/x-python",
   "name": "python",
   "nbconvert_exporter": "python",
   "pygments_lexer": "ipython3",
   "version": "3.6.3"
  },
  "toc": {
   "base_numbering": 1,
   "nav_menu": {},
   "number_sections": false,
   "sideBar": true,
   "skip_h1_title": false,
   "title_cell": "Table of Contents",
   "title_sidebar": "Contents",
   "toc_cell": false,
   "toc_position": {},
   "toc_section_display": true,
   "toc_window_display": false
  }
 },
 "nbformat": 4,
 "nbformat_minor": 2
}
