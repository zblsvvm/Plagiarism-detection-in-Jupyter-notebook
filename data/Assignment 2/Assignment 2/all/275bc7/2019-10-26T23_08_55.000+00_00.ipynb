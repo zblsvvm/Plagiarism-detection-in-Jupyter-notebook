{
 "cells": [
  {
   "cell_type": "markdown",
   "metadata": {
    "deletable": false,
    "editable": false,
    "nbgrader": {
     "cell_type": "markdown",
     "checksum": "1a6ba62b385c830d1892689c1a77a6e5",
     "grade": false,
     "grade_id": "cell-30a8d97deb7c6ac9",
     "locked": true,
     "schema_version": 3,
     "solution": false
    }
   },
   "source": [
    "# <center>Computational Physics</center>\n",
    "---"
   ]
  },
  {
   "cell_type": "markdown",
   "metadata": {
    "deletable": false,
    "editable": false,
    "nbgrader": {
     "cell_type": "markdown",
     "checksum": "4610a2646f04a30cdd3d61776d67e27a",
     "grade": false,
     "grade_id": "cell-2caaa61e0276bc9c",
     "locked": true,
     "schema_version": 3,
     "solution": false
    }
   },
   "source": [
    "## Week 2: Numerical Integration"
   ]
  },
  {
   "cell_type": "code",
   "execution_count": 3,
   "metadata": {
    "deletable": false,
    "editable": false,
    "nbgrader": {
     "cell_type": "code",
     "checksum": "009c50972a479db0299ed01f099eace8",
     "grade": false,
     "grade_id": "Imports",
     "locked": true,
     "schema_version": 3,
     "solution": false
    }
   },
   "outputs": [],
   "source": [
    "import numpy \n",
    "import matplotlib.pyplot as plt\n",
    "%matplotlib inline"
   ]
  },
  {
   "cell_type": "markdown",
   "metadata": {
    "deletable": false,
    "editable": false,
    "nbgrader": {
     "cell_type": "markdown",
     "checksum": "11bdc3e725666a813306a65158759d0a",
     "grade": false,
     "grade_id": "cell-65d4b02a2f3b1232",
     "locked": true,
     "schema_version": 3,
     "solution": false
    }
   },
   "source": [
    "Define the function `f`, such that $\\textrm{f}(x) \\equiv x^{2}\\sin(x)$. This is the function that we will be integrating."
   ]
  },
  {
   "cell_type": "code",
   "execution_count": 4,
   "metadata": {
    "deletable": false,
    "nbgrader": {
     "cell_type": "code",
     "checksum": "d26af6dd1e80d67f0e18af8d05575830",
     "grade": false,
     "grade_id": "integrand",
     "locked": false,
     "schema_version": 3,
     "solution": true
    }
   },
   "outputs": [],
   "source": [
    "def f(x):\n",
    "    '''Function equivalent to x^2 sin(x).'''\n",
    "    # YOUR CODE HERE\n",
    "    return (x**2)*numpy.sin(x)"
   ]
  },
  {
   "cell_type": "markdown",
   "metadata": {
    "deletable": false,
    "editable": false,
    "nbgrader": {
     "cell_type": "markdown",
     "checksum": "98c3b0d80e6998a46fe0f51775c0d236",
     "grade": false,
     "grade_id": "cell-adaeafd07c681d77",
     "locked": true,
     "schema_version": 3,
     "solution": false
    }
   },
   "source": [
    "Ensure your function works with numpy arrays:"
   ]
  },
  {
   "cell_type": "code",
   "execution_count": 5,
   "metadata": {
    "deletable": false,
    "editable": false,
    "nbgrader": {
     "cell_type": "code",
     "checksum": "a84c5ee5e826f0246d05717a2fda5961",
     "grade": true,
     "grade_id": "cell-653afd49e7782cc4",
     "locked": true,
     "points": 1,
     "schema_version": 3,
     "solution": false
    }
   },
   "outputs": [],
   "source": [
    "xs=numpy.arange(0, 1, step=0.1)\n",
    "assert numpy.isclose(f(xs), \n",
    "                     [0., 0.00099833, 0.00794677, 0.02659682, 0.06230693,\n",
    "                      0.11985638, 0.20327129, 0.31566667, 0.4591079 , 0.6344948 ]).all()"
   ]
  },
  {
   "cell_type": "markdown",
   "metadata": {
    "deletable": false,
    "editable": false,
    "nbgrader": {
     "cell_type": "markdown",
     "checksum": "ba29b146196aac9acc10d8592a006b2a",
     "grade": false,
     "grade_id": "cell-789634f6cdfc0a8f",
     "locked": true,
     "schema_version": 3,
     "solution": false
    }
   },
   "source": [
    "Derive the indefinite integral of $f(x)$ nalytically. Call this function $g(x)$ and implement it below. Set the constant of integration such that $g(0)=0$."
   ]
  },
  {
   "cell_type": "code",
   "execution_count": 26,
   "metadata": {
    "deletable": false,
    "nbgrader": {
     "cell_type": "code",
     "checksum": "17ecffb673da3f88f5952b4fbff55785",
     "grade": false,
     "grade_id": "integral",
     "locked": false,
     "schema_version": 3,
     "solution": true
    }
   },
   "outputs": [],
   "source": [
    "def g(x):\n",
    "    '''Analytical integral of f(x).'''\n",
    "    # YOUR CODE HERE\n",
    "    return 2*x*numpy.sin(x)-(x**2-2)*numpy.cos(x)-2"
   ]
  },
  {
   "cell_type": "markdown",
   "metadata": {
    "deletable": false,
    "editable": false,
    "nbgrader": {
     "cell_type": "markdown",
     "checksum": "dc142533aa8de345badcfcb2e7b768ac",
     "grade": false,
     "grade_id": "cell-7b932704a5d427da",
     "locked": true,
     "schema_version": 3,
     "solution": false
    }
   },
   "source": [
    "Check your solution with the same numpy array:"
   ]
  },
  {
   "cell_type": "code",
   "execution_count": 27,
   "metadata": {
    "deletable": false,
    "editable": false,
    "nbgrader": {
     "cell_type": "code",
     "checksum": "b24fdab8074a33f0b30dbc74efaad39c",
     "grade": true,
     "grade_id": "cell-648a123ee323b45e",
     "locked": true,
     "points": 1,
     "schema_version": 3,
     "solution": false,
     "task": false
    }
   },
   "outputs": [],
   "source": [
    "assert g(0) == 0."
   ]
  },
  {
   "cell_type": "code",
   "execution_count": 28,
   "metadata": {
    "deletable": false,
    "editable": false,
    "nbgrader": {
     "cell_type": "code",
     "checksum": "707f00ec3afe9ece7a82ae4847992e75",
     "grade": true,
     "grade_id": "cell-f8eaec03e0540a78",
     "locked": true,
     "points": 1,
     "schema_version": 3,
     "solution": false
    }
   },
   "outputs": [],
   "source": [
    "assert numpy.isclose(g(xs), \n",
    "                     [0., 0.00002497, 0.00039822, 0.00200482, 0.0062869, \n",
    "                      0.01519502, 0.03112138, 0.05681646, 0.09529087, 0.1497043 ]).all()"
   ]
  },
  {
   "cell_type": "markdown",
   "metadata": {
    "deletable": false,
    "editable": false,
    "nbgrader": {
     "cell_type": "markdown",
     "checksum": "c6483f6a0f3eb0d6f56aaade5bb4c4fe",
     "grade": false,
     "grade_id": "cell-84ca7691a857d55e",
     "locked": true,
     "schema_version": 3,
     "solution": false
    }
   },
   "source": [
    "Now, using the analytically derived indefinite integral, $g(x)$, define a function which calculates the definite integral of $f(x)$ over the interval $(x_{min},~x_{max})$."
   ]
  },
  {
   "cell_type": "code",
   "execution_count": 33,
   "metadata": {
    "deletable": false,
    "nbgrader": {
     "cell_type": "code",
     "checksum": "8f53c073ce4ea75306899b835bece446",
     "grade": false,
     "grade_id": "cell-6f8d8cc5f5c7564c",
     "locked": false,
     "schema_version": 3,
     "solution": true
    }
   },
   "outputs": [],
   "source": [
    "def integrate_analytic(xmin, xmax):\n",
    "    '''Analytical integral of f(x) from xmin to xmax.'''\n",
    "    # YOUR CODE HERE\n",
    "    return g(xmax)-g(xmin)"
   ]
  },
  {
   "cell_type": "markdown",
   "metadata": {
    "deletable": false,
    "editable": false,
    "nbgrader": {
     "cell_type": "markdown",
     "checksum": "aec4522a4f525a6b9c4a2f279d0df8b4",
     "grade": false,
     "grade_id": "cell-d40e8684285d1458",
     "locked": true,
     "schema_version": 3,
     "solution": false
    }
   },
   "source": [
    "Check your analytic function:"
   ]
  },
  {
   "cell_type": "code",
   "execution_count": null,
   "metadata": {
    "deletable": false,
    "editable": false,
    "nbgrader": {
     "cell_type": "code",
     "checksum": "d75cba671c71bca06ddb255ff655ce98",
     "grade": true,
     "grade_id": "analytical_integral",
     "locked": true,
     "points": 1,
     "schema_version": 3,
     "solution": false
    }
   },
   "outputs": [],
   "source": [
    "assert numpy.isclose(integrate_analytic(xmin=0, xmax=4), 1.096591)"
   ]
  },
  {
   "cell_type": "markdown",
   "metadata": {},
   "source": [
    "## Numerical implementation"
   ]
  },
  {
   "cell_type": "markdown",
   "metadata": {
    "deletable": false,
    "editable": false,
    "nbgrader": {
     "cell_type": "markdown",
     "checksum": "00e9df3bc4eac31426ceb16125de7314",
     "grade": false,
     "grade_id": "cell-ec632498cc67324a",
     "locked": true,
     "schema_version": 3,
     "solution": false
    }
   },
   "source": [
    "Create a function which calculates the definite integral of the function $f(x)$ over the interval $(x_{min},~x_{max})$ using Simpson's rule with $N$ panels."
   ]
  },
  {
   "cell_type": "code",
   "execution_count": 126,
   "metadata": {
    "deletable": false,
    "nbgrader": {
     "cell_type": "code",
     "checksum": "ad921ca4907833323a0d06172ecdd49a",
     "grade": false,
     "grade_id": "numerical_integral",
     "locked": false,
     "schema_version": 3,
     "solution": true
    }
   },
   "outputs": [
    {
     "name": "stdout",
     "output_type": "stream",
     "text": [
      "i = 0.0\n",
      "xi = 0.0\n",
      "0.0 added once\n",
      "i = 0.5\n",
      "xi = 2.0\n",
      "3.637189707302727 added fourtimes\n",
      "i = 1.0\n",
      "xi = 4.0\n",
      "-12.108839924926851 added once\n",
      "answer = 2.439918904284056\n"
     ]
    },
    {
     "data": {
      "text/plain": [
       "1.6266126028560373"
      ]
     },
     "execution_count": 126,
     "metadata": {},
     "output_type": "execute_result"
    }
   ],
   "source": [
    "def integrate_numeric(xmin, xmax, N):\n",
    "    ''' \n",
    "    Numerical integral of f from xmin to xmax using Simpson's rule with \n",
    "        N panels.\n",
    "    '''\n",
    "    # YOUR CODE HERE\n",
    "    N = 2*N\n",
    "    deltax = (xmax-xmin)/(0.5* N)\n",
    "    answer = 0\n",
    "    \n",
    "    for i in range (0,N+1,1):\n",
    "        i = i/2\n",
    "        print ('i = ' + str(i))\n",
    "        xi = xmin + i*deltax\n",
    "        print ('xi = ' + str(xi))\n",
    "        if xi == xmin or xi == xmax:\n",
    "            answer = answer + f(xi)\n",
    "            print (str(f(xi))+ ' added once')\n",
    "        elif (2*i)%2 == 1:\n",
    "            answer = answer + 4*f(xi)\n",
    "            print (str(f(xi))+ ' added fourtimes')\n",
    "        elif (2*i)%2 == 0:\n",
    "            answer = answer + 2*f(xi)\n",
    "            print (str(f(xi))+ ' added twice')\n",
    "        else:\n",
    "            print ('broken')\n",
    "    print ('answer = ' + str(answer))\n",
    "    return answer * ((deltax)/(6))\n",
    "        \n",
    "     \n",
    "integrate_numeric(0, 4, 1) "
   ]
  },
  {
   "cell_type": "markdown",
   "metadata": {
    "deletable": false,
    "editable": false,
    "nbgrader": {
     "cell_type": "markdown",
     "checksum": "3903cf2d57d3f7bcd72fa4e67f10b3df",
     "grade": false,
     "grade_id": "cell-5ffdafb9be4182f9",
     "locked": true,
     "schema_version": 3,
     "solution": false
    }
   },
   "source": [
    "Make sure you have implemented Simpson's rule correctly:"
   ]
  },
  {
   "cell_type": "code",
   "execution_count": 127,
   "metadata": {
    "deletable": false,
    "editable": false,
    "nbgrader": {
     "cell_type": "code",
     "checksum": "8d2bf532c6416b2f7ff643373df9dbb9",
     "grade": true,
     "grade_id": "cell-038d65c4eff18248",
     "locked": true,
     "points": 3,
     "schema_version": 3,
     "solution": false
    },
    "scrolled": true
   },
   "outputs": [
    {
     "name": "stdout",
     "output_type": "stream",
     "text": [
      "i = 0.0\n",
      "xi = 0.0\n",
      "0.0 added once\n",
      "i = 0.5\n",
      "xi = 2.0\n",
      "3.637189707302727 added fourtimes\n",
      "i = 1.0\n",
      "xi = 4.0\n",
      "-12.108839924926851 added once\n",
      "answer = 2.439918904284056\n"
     ]
    }
   ],
   "source": [
    "assert numpy.isclose(integrate_numeric(xmin=0, xmax=4, N=1), 1.6266126)"
   ]
  },
  {
   "cell_type": "code",
   "execution_count": 128,
   "metadata": {
    "deletable": false,
    "editable": false,
    "nbgrader": {
     "cell_type": "code",
     "checksum": "4c13af6df002c42275bef94de5c9db15",
     "grade": true,
     "grade_id": "cell-3304084098accd44",
     "locked": true,
     "points": 3,
     "schema_version": 3,
     "solution": false,
     "task": false
    }
   },
   "outputs": [
    {
     "name": "stdout",
     "output_type": "stream",
     "text": [
      "i = 0.0\n",
      "xi = 0.0\n",
      "0.0 added once\n",
      "i = 0.5\n",
      "xi = 0.04\n",
      "6.398293469861466e-05 added fourtimes\n",
      "i = 1.0\n",
      "xi = 0.08\n",
      "0.0005114540414027053 added twice\n",
      "i = 1.5\n",
      "xi = 0.12\n",
      "0.0017238557849604387 added fourtimes\n",
      "i = 2.0\n",
      "xi = 0.16\n",
      "0.0040785460893246975 added twice\n",
      "i = 2.5\n",
      "xi = 0.2\n",
      "0.00794677323180245 added fourtimes\n",
      "i = 3.0\n",
      "xi = 0.24\n",
      "0.013691671282202951 added twice\n",
      "i = 3.5\n",
      "xi = 0.28\n",
      "0.021666282847426523 added fourtimes\n",
      "i = 4.0\n",
      "xi = 0.32\n",
      "0.03221161580709046 added twice\n",
      "i = 4.5\n",
      "xi = 0.36\n",
      "0.04565474063245165 added fourtimes\n",
      "i = 5.0\n",
      "xi = 0.4\n",
      "0.06230693476938409 added twice\n",
      "i = 5.5\n",
      "xi = 0.44\n",
      "0.08246188043677752 added fourtimes\n",
      "i = 6.0\n",
      "xi = 0.48\n",
      "0.10639392204475766 added twice\n",
      "i = 6.5\n",
      "xi = 0.52\n",
      "0.13435638927294644 added fourtimes\n",
      "i = 7.0\n",
      "xi = 0.56\n",
      "0.16657999166798906 added twice\n",
      "i = 7.5\n",
      "xi = 0.6\n",
      "0.20327129042221273 added fourtimes\n",
      "i = 8.0\n",
      "xi = 0.64\n",
      "0.24461125278203583 added twice\n",
      "i = 8.5\n",
      "xi = 0.68\n",
      "0.29075389430613996 added fourtimes\n",
      "i = 9.0\n",
      "xi = 0.72\n",
      "0.34182501395001164 added twice\n",
      "i = 9.5\n",
      "xi = 0.76\n",
      "0.39792102669585444 added fourtimes\n",
      "i = 10.0\n",
      "xi = 0.8\n",
      "0.4591078981756947 added twice\n",
      "i = 10.5\n",
      "xi = 0.84\n",
      "0.5254201854514382 added fourtimes\n",
      "i = 11.0\n",
      "xi = 0.88\n",
      "0.5968601878193618 added twice\n",
      "i = 11.5\n",
      "xi = 0.92\n",
      "0.6733972111987803 added fourtimes\n",
      "i = 12.0\n",
      "xi = 0.96\n",
      "0.7549669493462 added twice\n",
      "i = 12.5\n",
      "xi = 1.0\n",
      "0.8414709848078965 added fourtimes\n",
      "i = 13.0\n",
      "xi = 1.04\n",
      "0.932776412186395 added twice\n",
      "i = 13.5\n",
      "xi = 1.08\n",
      "1.028715585950603 added fourtimes\n",
      "i = 14.0\n",
      "xi = 1.12\n",
      "1.1290859946662082 added twice\n",
      "i = 14.5\n",
      "xi = 1.16\n",
      "1.2336502631632893 added fourtimes\n",
      "i = 15.0\n",
      "xi = 1.2\n",
      "1.3421362837928057 added twice\n",
      "i = 15.5\n",
      "xi = 1.24\n",
      "1.454237477553611 added fourtimes\n",
      "i = 16.0\n",
      "xi = 1.28\n",
      "1.569613185497866 added twice\n",
      "i = 16.5\n",
      "xi = 1.32\n",
      "1.6878891904460656 added fourtimes\n",
      "i = 17.0\n",
      "xi = 1.36\n",
      "1.8086583686643614 added twice\n",
      "i = 17.5\n",
      "xi = 1.4000000000000001\n",
      "1.9314814707773824 added fourtimes\n",
      "i = 18.0\n",
      "xi = 1.44\n",
      "2.055888030810281 added twice\n",
      "i = 18.5\n",
      "xi = 1.48\n",
      "2.1813774018752468 added fourtimes\n",
      "i = 19.0\n",
      "xi = 1.52\n",
      "2.307419916641187 added twice\n",
      "i = 19.5\n",
      "xi = 1.56\n",
      "2.433458170351646 added fourtimes\n",
      "i = 20.0\n",
      "xi = 1.6\n",
      "2.5589084237862534 added twice\n",
      "i = 20.5\n",
      "xi = 1.6400000000000001\n",
      "2.68316212319605 added fourtimes\n",
      "i = 21.0\n",
      "xi = 1.68\n",
      "2.805587533883849 added twice\n",
      "i = 21.5\n",
      "xi = 1.72\n",
      "2.9255314837483084 added fourtimes\n",
      "i = 22.0\n",
      "xi = 1.76\n",
      "3.042321212765487 added twice\n",
      "i = 22.5\n",
      "xi = 1.8\n",
      "3.1552663240453525 added fourtimes\n",
      "i = 23.0\n",
      "xi = 1.84\n",
      "3.2636608317737283 added twice\n",
      "i = 23.5\n",
      "xi = 1.8800000000000001\n",
      "3.366785301033527 added fourtimes\n",
      "i = 24.0\n",
      "xi = 1.92\n",
      "3.4639090741935816 added twice\n",
      "i = 24.5\n",
      "xi = 1.96\n",
      "3.554292578259827 added fourtimes\n",
      "i = 25.0\n",
      "xi = 2.0\n",
      "3.637189707302727 added twice\n",
      "i = 25.5\n",
      "xi = 2.04\n",
      "3.7118502738075843 added fourtimes\n",
      "i = 26.0\n",
      "xi = 2.08\n",
      "3.7775225225413194 added twice\n",
      "i = 26.5\n",
      "xi = 2.12\n",
      "3.833455700291247 added fourtimes\n",
      "i = 27.0\n",
      "xi = 2.16\n",
      "3.8789026746090243 added twice\n",
      "i = 27.5\n",
      "xi = 2.2\n",
      "3.9131225944868167 added fourtimes\n",
      "i = 28.0\n",
      "xi = 2.24\n",
      "3.9353835857035855 added twice\n",
      "i = 28.5\n",
      "xi = 2.2800000000000002\n",
      "3.944965473407705 added fourtimes\n",
      "i = 29.0\n",
      "xi = 2.32\n",
      "3.941162524348425 added twice\n",
      "i = 29.5\n",
      "xi = 2.36\n",
      "3.9232862010335734 added fourtimes\n",
      "i = 30.0\n",
      "xi = 2.4\n",
      "3.8906679199746295 added twice\n",
      "i = 30.5\n",
      "xi = 2.44\n",
      "3.842661806083509 added fourtimes\n",
      "i = 31.0\n",
      "xi = 2.48\n",
      "3.7786474352082497 added twice\n",
      "i = 31.5\n",
      "xi = 2.52\n",
      "3.6980325567377297 added fourtimes\n",
      "i = 32.0\n",
      "xi = 2.56\n",
      "3.600255788168817 added twice\n",
      "i = 32.5\n",
      "xi = 2.6\n",
      "3.484789273513098 added fourtimes\n",
      "i = 33.0\n",
      "xi = 2.64\n",
      "3.351141297424883 added twice\n",
      "i = 33.5\n",
      "xi = 2.68\n",
      "3.1988588469575356 added fourtimes\n",
      "i = 34.0\n",
      "xi = 2.72\n",
      "3.027530112901453 added twice\n",
      "i = 34.5\n",
      "xi = 2.7600000000000002\n",
      "2.836786922724302 added fourtimes\n",
      "i = 35.0\n",
      "xi = 2.8000000000000003\n",
      "2.626307097222293 added twice\n",
      "i = 35.5\n",
      "xi = 2.84\n",
      "2.3958167231003875 added fourtimes\n",
      "i = 36.0\n",
      "xi = 2.88\n",
      "2.1450923338291177 added twice\n",
      "i = 36.5\n",
      "xi = 2.92\n",
      "1.8739629912762368 added fourtimes\n",
      "i = 37.0\n",
      "xi = 2.96\n",
      "1.582312260782111 added twice\n",
      "i = 37.5\n",
      "xi = 3.0\n",
      "1.2700800725388048 added fourtimes\n",
      "i = 38.0\n",
      "xi = 3.04\n",
      "0.9372644623435077 added twice\n",
      "i = 38.5\n",
      "xi = 3.08\n",
      "0.583923185027128 added fourtimes\n",
      "i = 39.0\n",
      "xi = 3.12\n",
      "0.21017519410810853 added twice\n",
      "i = 39.5\n",
      "xi = 3.16\n",
      "-0.18379801851070213 added fourtimes\n",
      "i = 40.0\n",
      "xi = 3.2\n",
      "-0.5977512286984202 added twice\n",
      "i = 40.5\n",
      "xi = 3.24\n",
      "-1.0313744376986531 added fourtimes\n",
      "i = 41.0\n",
      "xi = 3.2800000000000002\n",
      "-1.4842919864507718 added twice\n",
      "i = 41.5\n",
      "xi = 3.3200000000000003\n",
      "-1.956061831565902 added fourtimes\n",
      "i = 42.0\n",
      "xi = 3.36\n",
      "-2.4461749875413608 added twice\n",
      "i = 42.5\n",
      "xi = 3.4\n",
      "-2.9540551394301686 added fourtimes\n",
      "i = 43.0\n",
      "xi = 3.44\n",
      "-3.4790584298008604 added twice\n",
      "i = 43.5\n",
      "xi = 3.48\n",
      "-4.0204734234283785 added fourtimes\n",
      "i = 44.0\n",
      "xi = 3.52\n",
      "-4.577521252749489 added twice\n",
      "i = 44.5\n",
      "xi = 3.56\n",
      "-5.149355946697481 added fourtimes\n",
      "i = 45.0\n",
      "xi = 3.6\n",
      "-5.735064945101288 added twice\n",
      "i = 45.5\n",
      "xi = 3.64\n",
      "-6.333669800394839 added fourtimes\n",
      "i = 46.0\n",
      "xi = 3.68\n",
      "-6.944127067934154 added twice\n",
      "i = 46.5\n",
      "xi = 3.72\n",
      "-7.565329385763625 added fourtimes\n",
      "i = 47.0\n",
      "xi = 3.7600000000000002\n",
      "-8.19610674420988 added twice\n",
      "i = 47.5\n",
      "xi = 3.8000000000000003\n",
      "-8.835227945212866 added fourtimes\n",
      "i = 48.0\n",
      "xi = 3.84\n",
      "-9.481402250830119 added twice\n",
      "i = 48.5\n",
      "xi = 3.88\n",
      "-10.133281219872915 added fourtimes\n",
      "i = 49.0\n",
      "xi = 3.92\n",
      "-10.789460731153047 added twice\n",
      "i = 49.5\n",
      "xi = 3.96\n",
      "-11.448483191337559 added fourtimes\n",
      "i = 50.0\n",
      "xi = 4.0\n",
      "-12.108839924926851 added once\n",
      "answer = 82.24432466993309\n"
     ]
    }
   ],
   "source": [
    "assert numpy.isclose(integrate_numeric(xmin=0, xmax=4, N=50), 1.096591)"
   ]
  },
  {
   "cell_type": "markdown",
   "metadata": {},
   "source": [
    "## Plotting task"
   ]
  },
  {
   "cell_type": "markdown",
   "metadata": {
    "deletable": false,
    "editable": false,
    "nbgrader": {
     "cell_type": "markdown",
     "checksum": "b1472d81a82ad7e19f2c19a38ebed0ba",
     "grade": false,
     "grade_id": "cell-2867d341e99d38a2",
     "locked": true,
     "points": 6,
     "schema_version": 3,
     "solution": false,
     "task": true
    }
   },
   "source": [
    "** Task 1 **\n",
    "\n",
    "There will always be some discrepancy between a numerically calculated result and an analytically derived result. Produce a log-log plot showing the fractional error between these two results as the number of panels is varied. The plot should have labels and a title.\n"
   ]
  },
  {
   "cell_type": "code",
   "execution_count": null,
   "metadata": {},
   "outputs": [],
   "source": [
    "x0, x1 = 0, 2  # Bounds to integrate f(x) over\n",
    "panel_counts = [4, 8, 16, 32, 64, 128, 256, 512, 1024]  # Panel numbers to use\n",
    "result_analytic = integrate_analytic(x0, x1)  # Define reference value from analytical solution"
   ]
  },
  {
   "cell_type": "markdown",
   "metadata": {
    "deletable": false,
    "editable": false,
    "nbgrader": {
     "cell_type": "markdown",
     "checksum": "f1cb10be7b851ce81e28aba54aff5c5f",
     "grade": false,
     "grade_id": "question1",
     "locked": true,
     "schema_version": 3,
     "solution": false
    }
   },
   "source": [
    "What effect(s) does changing the number of panels used have\n",
    "on the accuracy of the numerical method? What happens if the number of panels is taken too large?"
   ]
  },
  {
   "cell_type": "markdown",
   "metadata": {
    "deletable": false,
    "nbgrader": {
     "cell_type": "markdown",
     "checksum": "906813290c61cb666781ccdc5ac08a29",
     "grade": true,
     "grade_id": "answer1",
     "locked": false,
     "points": 3,
     "schema_version": 3,
     "solution": true
    }
   },
   "source": [
    "YOUR ANSWER HERE"
   ]
  },
  {
   "cell_type": "markdown",
   "metadata": {
    "deletable": false,
    "editable": false,
    "nbgrader": {
     "cell_type": "markdown",
     "checksum": "b59a87de3e0ef631413395d4fd8ba57d",
     "grade": false,
     "grade_id": "question2",
     "locked": true,
     "schema_version": 3,
     "solution": false
    }
   },
   "source": [
    "If the trapezium rule was being used, how would the panel\n",
    "count affect accuracy? "
   ]
  },
  {
   "cell_type": "markdown",
   "metadata": {
    "deletable": false,
    "nbgrader": {
     "cell_type": "markdown",
     "checksum": "4bf67eb5bc0583e5b4713f3f884e2813",
     "grade": true,
     "grade_id": "cell-eeb89d1f4669ff1d",
     "locked": false,
     "points": 1,
     "schema_version": 3,
     "solution": true,
     "task": false
    }
   },
   "source": [
    "YOUR ANSWER HERE"
   ]
  }
 ],
 "metadata": {
  "kernelspec": {
   "display_name": "Python 3",
   "language": "python",
   "name": "python3"
  },
  "toc": {
   "base_numbering": 1,
   "nav_menu": {},
   "number_sections": false,
   "sideBar": true,
   "skip_h1_title": false,
   "title_cell": "Table of Contents",
   "title_sidebar": "Contents",
   "toc_cell": false,
   "toc_position": {},
   "toc_section_display": true,
   "toc_window_display": false
  }
 },
 "nbformat": 4,
 "nbformat_minor": 2
}
