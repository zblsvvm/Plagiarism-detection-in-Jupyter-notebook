{
 "cells": [
  {
   "cell_type": "code",
   "execution_count": 1,
   "metadata": {},
   "outputs": [],
   "source": [
    "import ast\n",
    "import numpy as np\n",
    "from sklearn.preprocessing import StandardScaler\n",
    "import extract\n",
    "import SumVector\n",
    "import AverageVector\n",
    "import NodesTypes"
   ]
  },
  {
   "cell_type": "code",
   "execution_count": 2,
   "metadata": {},
   "outputs": [],
   "source": [
    "class Compare(ast.NodeTransformer):\n",
    "    def __init__(self, juypter_file_1, juypter_file_2, question_index, type_sum=9, path=\" \"):\n",
    "\n",
    "        self.type_sum = type_sum\n",
    "        self.question_index = question_index\n",
    "\n",
    "        self.nodes_type = NodesTypes.return_nodes_array(type_sum)\n",
    "\n",
    "        self.code_1 = extract.get_source_without_tests(juypter_file_1, question_index)\n",
    "        self.code_2 = extract.get_source_without_tests(juypter_file_2, question_index)\n",
    "\n",
    "        self.node_1 = ast.parse(self.code_1)\n",
    "        self.node_2 = ast.parse(self.code_2)\n",
    "\n",
    "        self.vector_1 = self.generic_visit(self.node_1).vector\n",
    "        self.vector_2 = self.generic_visit(self.node_2).vector\n",
    "\n",
    "\n",
    "\n",
    "        if type_sum == 35:\n",
    "            sum_vector = np.array(\n",
    "                [80641, 21977, 8191, 10157, 1476, 242303, 265217, 60918, 27235,\n",
    "                 6242, 6242, 53105, 12643, 9745, 17359, 14198, 2935, 2938,\n",
    "                 69784, 11081, 47510, 17974, 17639, 2325, 1948, 508, 47034,\n",
    "                 1575, 2297, 5480, 837, 7262, 7262, 15368, 7630])\n",
    "            self.weight_coefficient = np.log(sum(sum_vector) / sum_vector)\n",
    "        \n",
    "        elif type_sum == 9:\n",
    "            sum_vector = np.array([1.26295e+05, 6.02591e+05, 2.94868e+05, 4.30670e+04, 5.44000e+02, 5.00970e+04,\n",
    "                                        1.57500e+03, 9.34200e+03, 4.13970e+04])\n",
    "            self.weight_coefficient = np.log(sum(sum_vector) / sum_vector)\n",
    "\n",
    "        if path != \" \":\n",
    "            av = AverageVector.CalucalateAverageVector(type_sum, question_index)\n",
    "            self.average_vector = av.subtract_average(path)\n",
    "\n",
    "    def generic_visit(self, node):\n",
    "        \"\"\"\n",
    "        :param node:\n",
    "        :return: node with a new field \"vector\"\n",
    "        \"\"\"\n",
    "        # add fields to python objects\n",
    "\n",
    "        node.vector = np.zeros(self.type_sum)\n",
    "        ast.NodeTransformer.generic_visit(self, node)\n",
    "        for general_type_index, one_general_type in enumerate(self.nodes_type):\n",
    "            if (type(one_general_type)).__name__ == \"list\":\n",
    "                if type(node) in one_general_type:\n",
    "                    node.vector[general_type_index] += 1\n",
    "            else:\n",
    "                if type(node) == one_general_type:\n",
    "                    node.vector[general_type_index] += 1\n",
    "        for a in ast.iter_child_nodes(node):\n",
    "            # this node will be sum of all children nodes\n",
    "            # as well as case logic below.\n",
    "            node.vector += a.vector\n",
    "        return node\n",
    "\n",
    "    @staticmethod\n",
    "    def is_same_num_child(node_1, node_2):\n",
    "        \"\"\"Whether it has a common number of child nodes\"\"\"\n",
    "        num_1 = 0\n",
    "        num_2 = 0\n",
    "\n",
    "        for ele in ast.iter_child_nodes(node_1):\n",
    "            num_1 += 1\n",
    "        for ele in ast.iter_child_nodes(node_2):\n",
    "            num_2 += 1\n",
    "\n",
    "        if num_1 == num_2:\n",
    "            return True\n",
    "        else:\n",
    "            return False\n",
    "\n",
    "    def child_sim_compare(self):\n",
    "        \"\"\"compare the simlarity of first child node \"\"\"\n",
    "        pass\n",
    "\n",
    "    @staticmethod\n",
    "    def standard_scaler(vector):\n",
    "        scaler = StandardScaler()\n",
    "        transformed_vector = vector.reshape(-1, 1)\n",
    "        scaler.fit(transformed_vector)\n",
    "        vector_after_ss = np.ravel(scaler.transform(transformed_vector))\n",
    "        # print(\"{} {}\".format(\"vector after standard_scaler:\\n\", vector_after_ss))\n",
    "        return vector_after_ss\n",
    "\n",
    "    def inverse_document_frequency(self, vector):\n",
    "        #print(self.sum_vector)\n",
    "        vector_after_idf = vector * self.weight_coefficient\n",
    "        # print(\"{} {}\".format(\"vector after idf:\\n\", vector_after_idf))\n",
    "        return vector_after_idf\n",
    "\n",
    "    def subtract_average(self, vector):\n",
    "        vector_after_subtract = vector - self.average_vector\n",
    "        # print(\"{} {}\".format(\"vector after subtract_average:\\n\", vector_after_subtract))\n",
    "        return vector_after_subtract\n",
    "\n",
    "    def euclidean_distance(self, idf=False, ss=False, subtract_average=False):\n",
    "        pass\n",
    "\n",
    "    def cosine_distance(self, idf=False, ss=False, subtract_average=False):\n",
    "        assert len(self.vector_1) == len(self.vector_2)\n",
    "        zero_list = np.zeros(len(self.vector_1))\n",
    "        if (self.vector_1 == zero_list).all() or (self.vector_2 == zero_list).all():\n",
    "            return float(1) if (self.vector_1 == self.vector_2).all() else float(0)\n",
    "\n",
    "        x = self.vector_1\n",
    "        y = self.vector_2\n",
    "\n",
    "        if idf:\n",
    "            x = self.inverse_document_frequency(self.vector_1)\n",
    "            y = self.inverse_document_frequency(self.vector_2)\n",
    "\n",
    "        if subtract_average:\n",
    "            x = self.subtract_average(x)\n",
    "            y = self.subtract_average(y)\n",
    "\n",
    "        if ss:\n",
    "            x = self.standard_scaler(x)\n",
    "            y = self.standard_scaler(y)\n",
    "\n",
    "        res = np.array(\n",
    "            [[x[i] * y[i],\n",
    "              x[i] * x[i],\n",
    "              y[i] * y[i]]\n",
    "             for i in range(len(x))])\n",
    "\n",
    "        cos = sum(res[:, 0]) / (np.sqrt(sum(res[:, 1])) * np.sqrt(sum(res[:, 2])))\n",
    "\n",
    "        if -1 <= cos <= 0:\n",
    "            return 0.5 * cos + 0.5\n",
    "        else:\n",
    "            return cos\n",
    "\n",
    "    def edit_tree_distance(self):\n",
    "        pass\n",
    "\n",
    "    def visit_name(self, node):\n",
    "        pass\n",
    "\n",
    "    def visit_str(self, node):\n",
    "        pass"
   ]
  },
  {
   "cell_type": "code",
   "execution_count": 3,
   "metadata": {},
   "outputs": [],
   "source": [
    "path_original = \"C:/Users/82569/Desktop/f9a7d1_original.ipynb\"\n",
    "path_1 = \"C:/Users/82569/Desktop/f9a7d1_Primary Plagiarism_1.ipynb\"\n",
    "path_2 = \"C:/Users/82569/Desktop/f9a7d1_Intermediate plagiarism_1.ipynb\"\n",
    "path_3 = \"C:/Users/82569/Desktop/f9a7d1_Advanced plagiarism_1.ipynb\"\n",
    "path_files = \"C:/Users/82569/PycharmProjects/dstion/data/Assignment 7/Root/last\""
   ]
  },
  {
   "cell_type": "markdown",
   "metadata": {},
   "source": [
    "### I artificially created some plagiarized jupyter notebooks, here are the codes:"
   ]
  },
  {
   "cell_type": "markdown",
   "metadata": {},
   "source": [
    "### original:"
   ]
  },
  {
   "cell_type": "code",
   "execution_count": null,
   "metadata": {},
   "outputs": [],
   "source": [
    "def bisect(f,x0,x1,tolerance):\n",
    "    \n",
    "    \n",
    "    '''\n",
    "    finds a root of the equation f(x)=0, x0 and x1 are\n",
    "    the first two values, they have to have different signs!\n",
    "    It should not matter which one corresponds to a positive \n",
    "    value of f. \n",
    "    \n",
    "    The iteration terminates when the length of the interval\n",
    "    between the upper and lower limit is smaller than the tolerance\n",
    "    \n",
    "    The list returned should contain all points the algorithm calculates using the middle of the interval.  \n",
    "    '''\n",
    "    m_vals = []\n",
    "    \n",
    "    if f(x0) > 0:\n",
    "        x_plus = x0\n",
    "        x_minus = x1\n",
    "    else:\n",
    "        x_plus = x1\n",
    "        x_minus = x0\n",
    "    \n",
    "    interval = abs(x_plus - x_minus)\n",
    "        \n",
    "    while interval >= tolerance:\n",
    "        m = (x_plus + x_minus) / 2\n",
    "        f_m = f(m)\n",
    "        if f(m) < 0:\n",
    "            x_minus = m\n",
    "        else:\n",
    "            x_plus = m\n",
    "        interval = abs(x_plus - x_minus)\n",
    "        m_vals.append(m)\n",
    "    \n",
    "    return(m_vals)\n",
    "        "
   ]
  },
  {
   "cell_type": "markdown",
   "metadata": {},
   "source": [
    "### Primary Plagiarism:"
   ]
  },
  {
   "cell_type": "code",
   "execution_count": 17,
   "metadata": {},
   "outputs": [],
   "source": [
    "def bisect_pla(f, x_0, x1, tolerance):\n",
    "    \n",
    "    # modify fuction name\n",
    "    \n",
    "    '''\n",
    "    finds a root of the equation f(x)=0, x_0 and x1 are\n",
    "    the first two values, they have to have different signs!\n",
    "    It should not matter which one corresponds to a positive \n",
    "    value of f. \n",
    "\n",
    "    The iteration terminates when the length of the interval\n",
    "    between the upper and lower limit is smaller than the tolerance\n",
    "\n",
    "    The list returned should contain all points the algorithm calculates using the middle of the interval.  \n",
    "    '''\n",
    "\n",
    "    dfc = []\n",
    "    \n",
    "    # modify variable name\n",
    "    \n",
    "    if f(x_0) > 0:\n",
    "        # modify variable name\n",
    "        x_p = x_0\n",
    "        x_m = x1\n",
    "    else:\n",
    "        x_p = x1\n",
    "        x_m = x_0\n",
    "\n",
    "    interval = abs(x_p - x_m)\n",
    "    \n",
    "    # modify variable name\n",
    "    \n",
    "    while interval >= tolerance:\n",
    "        m = (x_p + x_m) / 2\n",
    "        f_m = f(m)\n",
    "        if f(m) < 0:\n",
    "            x_m = m\n",
    "        else:\n",
    "            x_p = m\n",
    "        interval = abs(x_p - x_m)\n",
    "        dfc.append(m)\n",
    "\n",
    "    return (dfc)"
   ]
  },
  {
   "cell_type": "markdown",
   "metadata": {},
   "source": [
    "### Intermediate plagiarism:"
   ]
  },
  {
   "cell_type": "code",
   "execution_count": null,
   "metadata": {},
   "outputs": [],
   "source": [
    "def bisect_pla(f, x_0, x_1, tolerance):\n",
    "    '''\n",
    "    finds a root of the equation f(x)=0, x_0 and x_1 are\n",
    "    the first two values, they have to have different signs!\n",
    "    It should not matter which one corresponds to a positive\n",
    "    value of f.\n",
    "\n",
    "    The iteration terminates when the length of the interval\n",
    "    between the upper and lower limit is smaller than the tolerance\n",
    "\n",
    "    The list returned should contain all points the algorithm calculates using the middle of the interval.\n",
    "    '''\n",
    "\n",
    "    \n",
    "    # Reverse the order of statements in program code\n",
    "    if f(x_0) <= 0:\n",
    "        # comment\n",
    "        x_subtract = x_1\n",
    "        x_add = x_0\n",
    "        \n",
    "    else:\n",
    "        x_subtract = x_0\n",
    "        x_add = x_1\n",
    "        \n",
    "        \n",
    "    # Change the variable declaration position in the program    \n",
    "    m_vals = []\n",
    "    \n",
    "    # Add or delete statements in the program\n",
    "    absolute_value = abs(x_add - x_subtract)\n",
    "    interval = absolute_value\n",
    "    \n",
    "    # comment\n",
    "    # add comment to prevent looking suspicious\n",
    "    while interval >= tolerance:\n",
    "        m = (x_subtract + x_add) / 2\n",
    "        f_m = f(m)\n",
    "        if f(m) < 0:\n",
    "            x_subtract = m\n",
    "        else:\n",
    "            x_add = mx_add       \n",
    "        m_vals.append(m)\n",
    "        interval = abs(x_add - x_subtract)\n",
    "\n",
    "    return (m_vals)\n"
   ]
  },
  {
   "cell_type": "markdown",
   "metadata": {},
   "source": [
    "### Advanced plagiarism："
   ]
  },
  {
   "cell_type": "code",
   "execution_count": null,
   "metadata": {},
   "outputs": [],
   "source": [
    "def secant(f,x0,x1,tolerance,returnPoints=False):\n",
    "    '''\n",
    "    finds a root of the equation f(x)=0, x0 and x1 are\n",
    "    the first two values, from them the function calculates\n",
    "    the next value x2, from x1 and x2 it calculates x3, ...\n",
    "    \n",
    "    The termination condition is\n",
    "    \n",
    "    abs((x_{i+1}-x{i})/(x_{i+1}+x_{i})) < tolerance\n",
    "        \n",
    "    '''\n",
    "    xa=x0\n",
    "    xb=x1\n",
    "    xs=[x0, x1]\n",
    "    vs=[f(x0), f(x1)]\n",
    "    while True:\n",
    "        if abs((xs[-1] - xs[-2])/(xs[-1] + xs[-2])) < tolerance:\n",
    "            return xs\n",
    "        df=(vs[-1]-vs[-2])/(xs[-1]-xs[-2])\n",
    "        \n",
    "        xnew = xs[-1] - vs[-1]/df\n",
    "        xs.append(xnew)\n",
    "        vs.append(f(xnew))"
   ]
  },
  {
   "cell_type": "code",
   "execution_count": null,
   "metadata": {},
   "outputs": [],
   "source": []
  },
  {
   "cell_type": "markdown",
   "metadata": {},
   "source": [
    "Explanation of terms:\n",
    "IDF : inverse document frequency. In this paper ,The IDF is calculated as\n",
    "\n",
    "idf⁡(t,D) = log ( N / |{d∈D:t∈d}| )\n",
    "\n",
    "with\n",
    "\n",
    "\tN Total number of AST nodes in the corpus  \n",
    "\t|{d∈D:t∈d}| The number of AST nodes corresponding to one specific characteristic words in Corpus.\n"
   ]
  },
  {
   "cell_type": "markdown",
   "metadata": {},
   "source": [
    "### Here are the results of the different parameters"
   ]
  },
  {
   "cell_type": "markdown",
   "metadata": {},
   "source": [
    "### Parameter explanation：\n",
    "\n",
    "### def __init__(self, juypter_file_1, juypter_file_2, question_index, type_sum=9, path=\" \"):\n",
    "\n",
    "### juypter_file_1， juypter_file_2 are two files that compare the similarity\n",
    "\n",
    "### question_index：the question index in each files that compare the similarity\n",
    "\n",
    "### type_sum: The dimension of the characteristic vector, this program provides two dimensions, one is 9 dimensions, the other is 35 dimensions\n",
    "\n",
    "### path： A dictionary of jupyter notebooks of other students in terms of the assignment, this parameter is used in order to calulate the average characteristic vector."
   ]
  },
  {
   "cell_type": "code",
   "execution_count": null,
   "metadata": {},
   "outputs": [],
   "source": [
    "c_11 = Compare(path_original, path_1, 3, type_sum=9, path=path_files)"
   ]
  },
  {
   "cell_type": "code",
   "execution_count": 4,
   "metadata": {},
   "outputs": [
    {
     "name": "stdout",
     "output_type": "stream",
     "text": [
      "[ 5. 74. 23.  0.  0. 11.  0.  3.  7.]\n",
      "[ 5. 74. 23.  0.  0. 11.  0.  3.  7.]\n"
     ]
    },
    {
     "data": {
      "text/plain": [
       "1.0"
      ]
     },
     "execution_count": 4,
     "metadata": {},
     "output_type": "execute_result"
    }
   ],
   "source": [
    "print(c_11.vector_1)\n",
    "print(c_11.vector_2)\n",
    "\n",
    "#ss represnts standard_scaler\n",
    "\n",
    "c_11.cosine_distance(idf=False, ss=False, subtract_average=False)"
   ]
  },
  {
   "cell_type": "markdown",
   "metadata": {},
   "source": [
    "### Parameter explanation：\n",
    "\n",
    "### cosine_distance(idf=True, ss=False, subtract_average=False)\n",
    "\n",
    "### idf:  whether do the inverse document frequency weighing.\n",
    "\n",
    "### ss：whether to standardize the data\n",
    "\n",
    "### subtract_average: whether subtract the mean from the vector"
   ]
  },
  {
   "cell_type": "code",
   "execution_count": 5,
   "metadata": {},
   "outputs": [
    {
     "name": "stdout",
     "output_type": "stream",
     "text": [
      "1.0000000000000002\n",
      "0.9999999999999998\n",
      "1.0\n",
      "1.0\n",
      "1.0\n"
     ]
    }
   ],
   "source": [
    "\n",
    "print(c_11.cosine_distance(idf=True, ss=False, subtract_average=False))\n",
    "print(c_11.cosine_distance(idf=False, ss=True, subtract_average=False))\n",
    "print(c_11.cosine_distance(idf=False, ss=False, subtract_average=True))\n",
    "print(c_11.cosine_distance(idf=True, ss=True, subtract_average=False))\n",
    "print(c_11.cosine_distance(idf=False, ss=True, subtract_average=True))"
   ]
  },
  {
   "cell_type": "code",
   "execution_count": 6,
   "metadata": {},
   "outputs": [
    {
     "name": "stdout",
     "output_type": "stream",
     "text": [
      "[ 3.  1.  1.  0.  0. 36. 27. 11.  2.  0.  0.  4.  1.  2.  0.  1.  3.  3.\n",
      "  6.  0.  1.  0.  0.  0.  0.  0. 11.  0.  2.  0.  1.  1.  1.  4.  1.]\n",
      "[ 3.  1.  1.  0.  0. 36. 27. 11.  2.  0.  0.  4.  1.  2.  0.  1.  3.  3.\n",
      "  6.  0.  1.  0.  0.  0.  0.  0. 11.  0.  2.  0.  1.  1.  1.  4.  1.]\n"
     ]
    },
    {
     "data": {
      "text/plain": [
       "1.0"
      ]
     },
     "execution_count": 6,
     "metadata": {},
     "output_type": "execute_result"
    }
   ],
   "source": [
    "c_12 = Compare(path_original, path_1, 3, type_sum=35, path=path_files)\n",
    "print(c_12.vector_1)\n",
    "print(c_12.vector_2)\n",
    "c_12.cosine_distance(idf=False, ss=False, subtract_average=False)"
   ]
  },
  {
   "cell_type": "code",
   "execution_count": 7,
   "metadata": {},
   "outputs": [
    {
     "name": "stdout",
     "output_type": "stream",
     "text": [
      "1.0\n",
      "1.0\n",
      "1.0\n",
      "0.9999999999999998\n",
      "1.0\n"
     ]
    }
   ],
   "source": [
    "print(c_12.cosine_distance(idf=True, ss=False, subtract_average=False))\n",
    "print(c_12.cosine_distance(idf=False, ss=True, subtract_average=False))\n",
    "print(c_12.cosine_distance(idf=False, ss=False, subtract_average=True))\n",
    "print(c_12.cosine_distance(idf=True, ss=True, subtract_average=False))\n",
    "print(c_12.cosine_distance(idf=False, ss=True, subtract_average=True))"
   ]
  },
  {
   "cell_type": "code",
   "execution_count": 8,
   "metadata": {},
   "outputs": [
    {
     "name": "stdout",
     "output_type": "stream",
     "text": [
      "[ 5. 74. 23.  0.  0. 11.  0.  3.  7.]\n",
      "[ 5. 78. 23.  0.  0. 12.  0.  3.  7.]\n"
     ]
    },
    {
     "data": {
      "text/plain": [
       "0.9998669075887722"
      ]
     },
     "execution_count": 8,
     "metadata": {},
     "output_type": "execute_result"
    }
   ],
   "source": [
    "c_21 = Compare(path_original, path_2, 3, type_sum=9, path=path_files)\n",
    "print(c_21.vector_1)\n",
    "print(c_21.vector_2)\n",
    "c_21.cosine_distance(idf=False, ss=False, subtract_average=False)"
   ]
  },
  {
   "cell_type": "code",
   "execution_count": 9,
   "metadata": {},
   "outputs": [
    {
     "name": "stdout",
     "output_type": "stream",
     "text": [
      "0.9994544663635466\n",
      "0.9998363940150718\n",
      "0.9826163909953698\n",
      "0.9989020086636271\n",
      "0.9899437459081126\n"
     ]
    }
   ],
   "source": [
    "print(c_21.cosine_distance(idf=True, ss=False, subtract_average=False))\n",
    "print(c_21.cosine_distance(idf=False, ss=True, subtract_average=False))\n",
    "print(c_21.cosine_distance(idf=False, ss=False, subtract_average=True))\n",
    "print(c_21.cosine_distance(idf=True, ss=True, subtract_average=False))\n",
    "print(c_21.cosine_distance(idf=False, ss=True, subtract_average=True))"
   ]
  },
  {
   "cell_type": "code",
   "execution_count": 10,
   "metadata": {},
   "outputs": [
    {
     "name": "stdout",
     "output_type": "stream",
     "text": [
      "[ 3.  1.  1.  0.  0. 36. 27. 11.  2.  0.  0.  4.  1.  2.  0.  1.  3.  3.\n",
      "  6.  0.  1.  0.  0.  0.  0.  0. 11.  0.  2.  0.  1.  1.  1.  4.  1.]\n",
      "[ 3.  1.  1.  0.  0. 38. 28. 12.  2.  0.  0.  4.  1.  2.  0.  1.  3.  3.\n",
      "  6.  0.  1.  0.  0.  0.  0.  0. 12.  0.  2.  0.  1.  1.  1.  4.  1.]\n"
     ]
    },
    {
     "data": {
      "text/plain": [
       "0.9998373606752234"
      ]
     },
     "execution_count": 10,
     "metadata": {},
     "output_type": "execute_result"
    }
   ],
   "source": [
    "c_22 = Compare(path_original, path_2, 3, type_sum=35, path=path_files)\n",
    "print(c_22.vector_1)\n",
    "print(c_22.vector_2)\n",
    "c_22.cosine_distance(idf=False, ss=False, subtract_average=False)"
   ]
  },
  {
   "cell_type": "code",
   "execution_count": 11,
   "metadata": {},
   "outputs": [
    {
     "name": "stdout",
     "output_type": "stream",
     "text": [
      "0.9995334673910713\n",
      "0.9998146861644645\n",
      "0.9868215675617508\n",
      "0.9993966886944956\n",
      "0.9900560015891249\n"
     ]
    }
   ],
   "source": [
    "print(c_22.cosine_distance(idf=True, ss=False, subtract_average=False))\n",
    "print(c_22.cosine_distance(idf=False, ss=True, subtract_average=False))\n",
    "print(c_22.cosine_distance(idf=False, ss=False, subtract_average=True))\n",
    "print(c_22.cosine_distance(idf=True, ss=True, subtract_average=False))\n",
    "print(c_22.cosine_distance(idf=False, ss=True, subtract_average=True))"
   ]
  },
  {
   "cell_type": "code",
   "execution_count": 12,
   "metadata": {},
   "outputs": [
    {
     "name": "stdout",
     "output_type": "stream",
     "text": [
      "[ 5. 74. 23.  0.  0. 11.  0.  3.  7.]\n",
      "[ 6. 56. 22.  0.  0.  7.  0.  4.  7.]\n"
     ]
    },
    {
     "data": {
      "text/plain": [
       "0.9958301951505931"
      ]
     },
     "execution_count": 12,
     "metadata": {},
     "output_type": "execute_result"
    }
   ],
   "source": [
    "c_31 = Compare(path_original, path_3, 3, type_sum=9, path=path_files)\n",
    "print(c_31.vector_1)\n",
    "print(c_31.vector_2)\n",
    "c_31.cosine_distance(idf=False, ss=False, subtract_average=False)"
   ]
  },
  {
   "cell_type": "code",
   "execution_count": 13,
   "metadata": {},
   "outputs": [
    {
     "name": "stdout",
     "output_type": "stream",
     "text": [
      "0.9792196026819983\n",
      "0.995239845844234\n",
      "0.44628481059928937\n",
      "0.9551163627463173\n",
      "0.41517792249228236\n"
     ]
    }
   ],
   "source": [
    "print(c_31.cosine_distance(idf=True, ss=False, subtract_average=False))\n",
    "print(c_31.cosine_distance(idf=False, ss=True, subtract_average=False))\n",
    "print(c_31.cosine_distance(idf=False, ss=False, subtract_average=True))\n",
    "print(c_31.cosine_distance(idf=True, ss=True, subtract_average=False))\n",
    "print(c_31.cosine_distance(idf=False, ss=True, subtract_average=True))"
   ]
  },
  {
   "cell_type": "code",
   "execution_count": 14,
   "metadata": {},
   "outputs": [
    {
     "name": "stdout",
     "output_type": "stream",
     "text": [
      "[ 3.  1.  1.  0.  0. 36. 27. 11.  2.  0.  0.  4.  1.  2.  0.  1.  3.  3.\n",
      "  6.  0.  1.  0.  0.  0.  0.  0. 11.  0.  2.  0.  1.  1.  1.  4.  1.]\n",
      "[ 4.  1.  1.  0.  0. 27. 22.  7.  2.  0.  0.  3.  1.  1.  0.  1.  4.  4.\n",
      "  5.  0.  1.  0.  0.  0.  0.  0.  7.  0.  3.  0.  1.  1.  1.  4.  1.]\n"
     ]
    },
    {
     "data": {
      "text/plain": [
       "0.9933505542368752"
      ]
     },
     "execution_count": 14,
     "metadata": {},
     "output_type": "execute_result"
    }
   ],
   "source": [
    "c_33 = Compare(path_original, path_3, 3, type_sum=35, path=path_files)\n",
    "print(c_33.vector_1)\n",
    "print(c_33.vector_2)\n",
    "c_33.cosine_distance(idf=False, ss=False, subtract_average=False)"
   ]
  },
  {
   "cell_type": "code",
   "execution_count": 15,
   "metadata": {},
   "outputs": [
    {
     "name": "stdout",
     "output_type": "stream",
     "text": [
      "0.9686840519625053\n",
      "0.9924241305685458\n",
      "0.0013420871388040794\n",
      "0.9525166901748242\n",
      "0.49584465795768295\n"
     ]
    }
   ],
   "source": [
    "print(c_33.cosine_distance(idf=True, ss=False, subtract_average=False))\n",
    "print(c_33.cosine_distance(idf=False, ss=True, subtract_average=False))\n",
    "print(c_33.cosine_distance(idf=False, ss=False, subtract_average=True))\n",
    "print(c_33.cosine_distance(idf=True, ss=True, subtract_average=False))\n",
    "print(c_33.cosine_distance(idf=False, ss=True, subtract_average=True))"
   ]
  },
  {
   "cell_type": "code",
   "execution_count": null,
   "metadata": {},
   "outputs": [],
   "source": []
  }
 ],
 "metadata": {
  "kernelspec": {
   "display_name": "Python 3",
   "language": "python",
   "name": "python3"
  },
  "language_info": {
   "codemirror_mode": {
    "name": "ipython",
    "version": 3
   },
   "file_extension": ".py",
   "mimetype": "text/x-python",
   "name": "python",
   "nbconvert_exporter": "python",
   "pygments_lexer": "ipython3",
   "version": "3.7.6"
  }
 },
 "nbformat": 4,
 "nbformat_minor": 4
}
